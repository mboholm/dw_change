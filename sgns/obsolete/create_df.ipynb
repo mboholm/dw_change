{
 "cells": [
  {
   "cell_type": "code",
   "execution_count": 3,
   "metadata": {},
   "outputs": [],
   "source": [
    "import pandas as pd\n",
    "import numpy as np\n",
    "import time\n",
    "import os\n",
    "from pathlib import Path\n",
    "from util import load_metric\n",
    "#from collections import Counter"
   ]
  },
  {
   "cell_type": "markdown",
   "metadata": {},
   "source": [
    "For each word **w**:\n",
    "* **count**(w)_t0, ... t.max\n",
    "    * For each transition *ti*, where *ti* is an element of {t0:t1, ..., t.max-1:t.max}\n",
    "        * **dif_count**(w, ti)\n",
    "        * **genuine_change**(w, ti)\n",
    "        * control_change(w, ti)1, ..., n, where *n* is the sample size for controls\n",
    "        * **mean_contol_change**(w, ti)\n",
    "        * **rectified_change**(w, ti)\n",
    "        * **cos_sim**(w, ti)\n",
    "        * control_cos_sim(w, ti)1, ..., n, where *n* is the sample size for controls\n",
    "        * **mean_control_cos_sim**(w, ti)\n",
    "        * **rectified_cos_sim**(w, ti)"
   ]
  },
  {
   "cell_type": "markdown",
   "metadata": {},
   "source": [
    "## Setup"
   ]
  },
  {
   "cell_type": "code",
   "execution_count": 4,
   "metadata": {},
   "outputs": [],
   "source": [
    "corpus   = Path(\"/srv/data/gusbohom/root/corpora/fb_pol/yearly/radical3/\")\n",
    "measures = Path(\"/srv/data/gusbohom/root/experiment/fb_pol-yearly-radical3/\")"
   ]
  },
  {
   "cell_type": "code",
   "execution_count": 5,
   "metadata": {},
   "outputs": [],
   "source": [
    "file_path = Path(\"../../tmp_results.csv\")"
   ]
  },
  {
   "cell_type": "code",
   "execution_count": 6,
   "metadata": {},
   "outputs": [],
   "source": [
    "years = [int(file.strip(\".txt\")) for file in os.listdir(corpus/\"files\")]\n",
    "years.sort()\n",
    "first_year = min(years)\n",
    "last_year  = max(years)\n",
    "c_numbers = set(int(n) for n in [\"\".join([ch for ch in file.strip(\".txt\").split(\"_\")[-1] if ch.isdigit()]) for file in os.listdir(measures / \"cosine_change\") if \"control\" in file])\n",
    "c_span = min(c_numbers), max(c_numbers)"
   ]
  },
  {
   "cell_type": "code",
   "execution_count": null,
   "metadata": {},
   "outputs": [],
   "source": [
    "#years"
   ]
  },
  {
   "cell_type": "code",
   "execution_count": null,
   "metadata": {},
   "outputs": [],
   "source": [
    "#c_span"
   ]
  },
  {
   "cell_type": "code",
   "execution_count": 53,
   "metadata": {},
   "outputs": [],
   "source": [
    "df = pd.DataFrame()"
   ]
  },
  {
   "cell_type": "code",
   "execution_count": 54,
   "metadata": {},
   "outputs": [],
   "source": [
    "def check(df):\n",
    "#     with open(\"../data/utils/dwts.txt\", \"r\") as f:\n",
    "#         dwts = [w.strip(\"\\n\") for w in f.readlines()]\n",
    "    \n",
    "    hits = set()\n",
    "    \n",
    "#     for w in df.index:\n",
    "    for w in [w for w in df[\"Word\"] if isinstance(w, str)]:\n",
    "        for dw in dwts:\n",
    "            if dw in w:\n",
    "                hits.add(w)\n",
    "    \n",
    "    return hits\n",
    "    \n",
    "    #print(\", \".join(list(hits)))"
   ]
  },
  {
   "cell_type": "code",
   "execution_count": 55,
   "metadata": {},
   "outputs": [],
   "source": [
    "with open(\"../../data/utils/dwts.txt\", \"r\") as f:\n",
    "    dwts = [dwt.strip(\"\\n\") for dwt in f.readlines()]"
   ]
  },
  {
   "cell_type": "markdown",
   "metadata": {},
   "source": [
    "## Add Word Frequencies"
   ]
  },
  {
   "cell_type": "code",
   "execution_count": 56,
   "metadata": {},
   "outputs": [],
   "source": [
    "# first_year = years[0]\n",
    "# df = pd.read_csv(corpus / f\"vocab/{first_year}.txt\", sep=\"\\t\", names=[\"Word\", f\"frq{first_year}\"])\n",
    "# df"
   ]
  },
  {
   "cell_type": "code",
   "execution_count": null,
   "metadata": {},
   "outputs": [],
   "source": [
    "# https://pandas.pydata.org/pandas-docs/stable/reference/api/pandas.concat.html"
   ]
  },
  {
   "cell_type": "code",
   "execution_count": 74,
   "metadata": {
    "scrolled": false
   },
   "outputs": [
    {
     "name": "stdout",
     "output_type": "stream",
     "text": [
      "set()\n",
      "{'sopberikare'}\n",
      "set()\n",
      "set()\n",
      "set()\n",
      "set()\n",
      "set()\n",
      "{'sönderberikade'}\n",
      "{'berikades', 'kulturberikas', 'tvångsberikas', 'oberikat', 'överberikat'}\n",
      "{'oberikade', 'färdigberikat', 'berikades', 'oberikad', 'kulturberikas', 'oberikat'}\n",
      "{'oberikade', 'berikarenii', 'berikades', 'N2_återvandrare', 'menaberikare', 'kulturberikas', 'kulturberikats', 'N3_återvandrande', 'oberikat'}\n",
      "{'oberikad', 'berikades', 'kulturberikas'}\n",
      "{'oberikade', 'berikades', 'oberikad', 'kulturberikas', 'ickeberikade', 'oberikat'}\n",
      "{'oberikade', 'berikades', 'kulturberikas', 'biståndsåtervandring', 'N3_återvandrande', 'oberikat'}\n",
      "{'globalistkloner', 'berikades', 'kulturberikas'}\n",
      "{'globalistkommunister', 'berikades', 'kulturberikas', 'oberikade'}\n",
      "{'oberikad', 'berikades', 'kulturberikas', 'globalistsyndikatet'}\n",
      "{'neoglobalisten', 'superglobalist', 'P1_ordning_och_reda_i_flyktingpolitiken', 'antiglobalisterna'}\n",
      "{'P1_ordning_och_reda_i_flyktingpolitiken', 'globalistintressen', 'globalistkapital', 'N2_återvandrare', 'berikades', 'globalistkuk', 'antiglobalisterna', 'globalistslipsar', 'ickeglobalistiskt', 'återvandras'}\n",
      "{'N2_återvandrare', 'pkglobalister', 'biståndsåtervandring', 'N3_återvandrande', 'euglobalister'}\n",
      "{'globalistaktörer', 'globalistiske', 'nettoåtervandring', 'kulturberikas', 'återvandringsnetto', 'biståndsåtervandring', 'återvandras'}\n",
      "{'euglobalister', 'globalistsprutan', 'kulturberikas', 'kulturberikandet', 'biståndsåtervandring', 'återvandras', 'globalistsekten'}\n",
      "set()\n"
     ]
    }
   ],
   "source": [
    "for year in years:\n",
    "    \n",
    "    # Evidence\n",
    "    loaded = load_metric(corpus / f\"vocab/{year}.txt\")\n",
    "    evidence = set()\n",
    "    for w in loaded.keys():\n",
    "        for dwt in dwts:\n",
    "            if dwt in w:\n",
    "                evidence.add(w)\n",
    "    \n",
    "    # Build dataframe\n",
    "    #this_df = pd.read_csv(corpus / f\"vocab/{year}.txt\", sep=\"\\t\", names=[\"Word\", f\"frq{year}\"])\n",
    "    #print(this_df)\n",
    "    \n",
    "    freqs = {w: c for w, c in loaded.items()}\n",
    "    \n",
    "    df = pd.concat([df, pd.Series(freqs)])\n",
    "    \n",
    "    #df = df.merge(this_df, how='outer', left_index=True, right_index=True)\n",
    "    # freq_15.merge(freq_17, how='outer', left_index=True, right_index=True)\n",
    "    \n",
    "#     freqs = {w: c for w, c in loaded.items()}\n",
    "#     df[f\"frq{year}\"] = pd.Series(freqs)\n",
    "    \n",
    "    print(evidence.difference(check(this_df)))"
   ]
  },
  {
   "cell_type": "code",
   "execution_count": 75,
   "metadata": {},
   "outputs": [
    {
     "data": {
      "text/html": [
       "<div>\n",
       "<style scoped>\n",
       "    .dataframe tbody tr th:only-of-type {\n",
       "        vertical-align: middle;\n",
       "    }\n",
       "\n",
       "    .dataframe tbody tr th {\n",
       "        vertical-align: top;\n",
       "    }\n",
       "\n",
       "    .dataframe thead th {\n",
       "        text-align: right;\n",
       "    }\n",
       "</style>\n",
       "<table border=\"1\" class=\"dataframe\">\n",
       "  <thead>\n",
       "    <tr style=\"text-align: right;\">\n",
       "      <th></th>\n",
       "      <th>Word</th>\n",
       "      <th>frq2000</th>\n",
       "      <th>Word</th>\n",
       "      <th>frq2001</th>\n",
       "      <th>Word</th>\n",
       "      <th>frq2002</th>\n",
       "      <th>Word</th>\n",
       "      <th>frq2003</th>\n",
       "      <th>Word</th>\n",
       "      <th>frq2004</th>\n",
       "      <th>...</th>\n",
       "      <th>0</th>\n",
       "      <th>0</th>\n",
       "      <th>0</th>\n",
       "      <th>0</th>\n",
       "      <th>0</th>\n",
       "      <th>0</th>\n",
       "      <th>0</th>\n",
       "      <th>0</th>\n",
       "      <th>0</th>\n",
       "      <th>0</th>\n",
       "    </tr>\n",
       "  </thead>\n",
       "  <tbody>\n",
       "    <tr>\n",
       "      <th>0</th>\n",
       "      <td>att</td>\n",
       "      <td>42105.0</td>\n",
       "      <td>att</td>\n",
       "      <td>25557.0</td>\n",
       "      <td>att</td>\n",
       "      <td>32545.0</td>\n",
       "      <td>att</td>\n",
       "      <td>24739.0</td>\n",
       "      <td>att</td>\n",
       "      <td>113352.0</td>\n",
       "      <td>...</td>\n",
       "      <td>NaN</td>\n",
       "      <td>NaN</td>\n",
       "      <td>NaN</td>\n",
       "      <td>NaN</td>\n",
       "      <td>NaN</td>\n",
       "      <td>NaN</td>\n",
       "      <td>NaN</td>\n",
       "      <td>NaN</td>\n",
       "      <td>NaN</td>\n",
       "      <td>NaN</td>\n",
       "    </tr>\n",
       "    <tr>\n",
       "      <th>1</th>\n",
       "      <td>och</td>\n",
       "      <td>35133.0</td>\n",
       "      <td>och</td>\n",
       "      <td>23030.0</td>\n",
       "      <td>det</td>\n",
       "      <td>25624.0</td>\n",
       "      <td>det</td>\n",
       "      <td>19513.0</td>\n",
       "      <td>det</td>\n",
       "      <td>91891.0</td>\n",
       "      <td>...</td>\n",
       "      <td>NaN</td>\n",
       "      <td>NaN</td>\n",
       "      <td>NaN</td>\n",
       "      <td>NaN</td>\n",
       "      <td>NaN</td>\n",
       "      <td>NaN</td>\n",
       "      <td>NaN</td>\n",
       "      <td>NaN</td>\n",
       "      <td>NaN</td>\n",
       "      <td>NaN</td>\n",
       "    </tr>\n",
       "    <tr>\n",
       "      <th>2</th>\n",
       "      <td>det</td>\n",
       "      <td>33806.0</td>\n",
       "      <td>är</td>\n",
       "      <td>20688.0</td>\n",
       "      <td>och</td>\n",
       "      <td>24259.0</td>\n",
       "      <td>är</td>\n",
       "      <td>18151.0</td>\n",
       "      <td>är</td>\n",
       "      <td>82483.0</td>\n",
       "      <td>...</td>\n",
       "      <td>NaN</td>\n",
       "      <td>NaN</td>\n",
       "      <td>NaN</td>\n",
       "      <td>NaN</td>\n",
       "      <td>NaN</td>\n",
       "      <td>NaN</td>\n",
       "      <td>NaN</td>\n",
       "      <td>NaN</td>\n",
       "      <td>NaN</td>\n",
       "      <td>NaN</td>\n",
       "    </tr>\n",
       "    <tr>\n",
       "      <th>3</th>\n",
       "      <td>är</td>\n",
       "      <td>33621.0</td>\n",
       "      <td>det</td>\n",
       "      <td>20428.0</td>\n",
       "      <td>är</td>\n",
       "      <td>24205.0</td>\n",
       "      <td>och</td>\n",
       "      <td>17270.0</td>\n",
       "      <td>och</td>\n",
       "      <td>76585.0</td>\n",
       "      <td>...</td>\n",
       "      <td>NaN</td>\n",
       "      <td>NaN</td>\n",
       "      <td>NaN</td>\n",
       "      <td>NaN</td>\n",
       "      <td>NaN</td>\n",
       "      <td>NaN</td>\n",
       "      <td>NaN</td>\n",
       "      <td>NaN</td>\n",
       "      <td>NaN</td>\n",
       "      <td>NaN</td>\n",
       "    </tr>\n",
       "    <tr>\n",
       "      <th>4</th>\n",
       "      <td>som</td>\n",
       "      <td>27860.0</td>\n",
       "      <td>som</td>\n",
       "      <td>18475.0</td>\n",
       "      <td>som</td>\n",
       "      <td>21468.0</td>\n",
       "      <td>som</td>\n",
       "      <td>15508.0</td>\n",
       "      <td>som</td>\n",
       "      <td>70632.0</td>\n",
       "      <td>...</td>\n",
       "      <td>NaN</td>\n",
       "      <td>NaN</td>\n",
       "      <td>NaN</td>\n",
       "      <td>NaN</td>\n",
       "      <td>NaN</td>\n",
       "      <td>NaN</td>\n",
       "      <td>NaN</td>\n",
       "      <td>NaN</td>\n",
       "      <td>NaN</td>\n",
       "      <td>NaN</td>\n",
       "    </tr>\n",
       "    <tr>\n",
       "      <th>...</th>\n",
       "      <td>...</td>\n",
       "      <td>...</td>\n",
       "      <td>...</td>\n",
       "      <td>...</td>\n",
       "      <td>...</td>\n",
       "      <td>...</td>\n",
       "      <td>...</td>\n",
       "      <td>...</td>\n",
       "      <td>...</td>\n",
       "      <td>...</td>\n",
       "      <td>...</td>\n",
       "      <td>...</td>\n",
       "      <td>...</td>\n",
       "      <td>...</td>\n",
       "      <td>...</td>\n",
       "      <td>...</td>\n",
       "      <td>...</td>\n",
       "      <td>...</td>\n",
       "      <td>...</td>\n",
       "      <td>...</td>\n",
       "      <td>...</td>\n",
       "    </tr>\n",
       "    <tr>\n",
       "      <th>sojafri</th>\n",
       "      <td>NaN</td>\n",
       "      <td>NaN</td>\n",
       "      <td>NaN</td>\n",
       "      <td>NaN</td>\n",
       "      <td>NaN</td>\n",
       "      <td>NaN</td>\n",
       "      <td>NaN</td>\n",
       "      <td>NaN</td>\n",
       "      <td>NaN</td>\n",
       "      <td>NaN</td>\n",
       "      <td>...</td>\n",
       "      <td>5.0</td>\n",
       "      <td>5.0</td>\n",
       "      <td>5.0</td>\n",
       "      <td>5.0</td>\n",
       "      <td>5.0</td>\n",
       "      <td>5.0</td>\n",
       "      <td>5.0</td>\n",
       "      <td>5.0</td>\n",
       "      <td>5.0</td>\n",
       "      <td>5.0</td>\n",
       "    </tr>\n",
       "    <tr>\n",
       "      <th>äggfri</th>\n",
       "      <td>NaN</td>\n",
       "      <td>NaN</td>\n",
       "      <td>NaN</td>\n",
       "      <td>NaN</td>\n",
       "      <td>NaN</td>\n",
       "      <td>NaN</td>\n",
       "      <td>NaN</td>\n",
       "      <td>NaN</td>\n",
       "      <td>NaN</td>\n",
       "      <td>NaN</td>\n",
       "      <td>...</td>\n",
       "      <td>5.0</td>\n",
       "      <td>5.0</td>\n",
       "      <td>5.0</td>\n",
       "      <td>5.0</td>\n",
       "      <td>5.0</td>\n",
       "      <td>5.0</td>\n",
       "      <td>5.0</td>\n",
       "      <td>5.0</td>\n",
       "      <td>5.0</td>\n",
       "      <td>5.0</td>\n",
       "    </tr>\n",
       "    <tr>\n",
       "      <th>underclass</th>\n",
       "      <td>NaN</td>\n",
       "      <td>NaN</td>\n",
       "      <td>NaN</td>\n",
       "      <td>NaN</td>\n",
       "      <td>NaN</td>\n",
       "      <td>NaN</td>\n",
       "      <td>NaN</td>\n",
       "      <td>NaN</td>\n",
       "      <td>NaN</td>\n",
       "      <td>NaN</td>\n",
       "      <td>...</td>\n",
       "      <td>5.0</td>\n",
       "      <td>5.0</td>\n",
       "      <td>5.0</td>\n",
       "      <td>5.0</td>\n",
       "      <td>5.0</td>\n",
       "      <td>5.0</td>\n",
       "      <td>5.0</td>\n",
       "      <td>5.0</td>\n",
       "      <td>5.0</td>\n",
       "      <td>5.0</td>\n",
       "    </tr>\n",
       "    <tr>\n",
       "      <th>kungensår</th>\n",
       "      <td>NaN</td>\n",
       "      <td>NaN</td>\n",
       "      <td>NaN</td>\n",
       "      <td>NaN</td>\n",
       "      <td>NaN</td>\n",
       "      <td>NaN</td>\n",
       "      <td>NaN</td>\n",
       "      <td>NaN</td>\n",
       "      <td>NaN</td>\n",
       "      <td>NaN</td>\n",
       "      <td>...</td>\n",
       "      <td>5.0</td>\n",
       "      <td>5.0</td>\n",
       "      <td>5.0</td>\n",
       "      <td>5.0</td>\n",
       "      <td>5.0</td>\n",
       "      <td>5.0</td>\n",
       "      <td>5.0</td>\n",
       "      <td>5.0</td>\n",
       "      <td>5.0</td>\n",
       "      <td>5.0</td>\n",
       "    </tr>\n",
       "    <tr>\n",
       "      <th>omlöp</th>\n",
       "      <td>NaN</td>\n",
       "      <td>NaN</td>\n",
       "      <td>NaN</td>\n",
       "      <td>NaN</td>\n",
       "      <td>NaN</td>\n",
       "      <td>NaN</td>\n",
       "      <td>NaN</td>\n",
       "      <td>NaN</td>\n",
       "      <td>NaN</td>\n",
       "      <td>NaN</td>\n",
       "      <td>...</td>\n",
       "      <td>5.0</td>\n",
       "      <td>5.0</td>\n",
       "      <td>5.0</td>\n",
       "      <td>5.0</td>\n",
       "      <td>5.0</td>\n",
       "      <td>5.0</td>\n",
       "      <td>5.0</td>\n",
       "      <td>5.0</td>\n",
       "      <td>5.0</td>\n",
       "      <td>5.0</td>\n",
       "    </tr>\n",
       "  </tbody>\n",
       "</table>\n",
       "<p>2326939 rows × 115 columns</p>\n",
       "</div>"
      ],
      "text/plain": [
       "           Word  frq2000 Word  frq2001 Word  frq2002 Word  frq2003 Word  \\\n",
       "0           att  42105.0  att  25557.0  att  32545.0  att  24739.0  att   \n",
       "1           och  35133.0  och  23030.0  det  25624.0  det  19513.0  det   \n",
       "2           det  33806.0   är  20688.0  och  24259.0   är  18151.0   är   \n",
       "3            är  33621.0  det  20428.0   är  24205.0  och  17270.0  och   \n",
       "4           som  27860.0  som  18475.0  som  21468.0  som  15508.0  som   \n",
       "...         ...      ...  ...      ...  ...      ...  ...      ...  ...   \n",
       "sojafri     NaN      NaN  NaN      NaN  NaN      NaN  NaN      NaN  NaN   \n",
       "äggfri      NaN      NaN  NaN      NaN  NaN      NaN  NaN      NaN  NaN   \n",
       "underclass  NaN      NaN  NaN      NaN  NaN      NaN  NaN      NaN  NaN   \n",
       "kungensår   NaN      NaN  NaN      NaN  NaN      NaN  NaN      NaN  NaN   \n",
       "omlöp       NaN      NaN  NaN      NaN  NaN      NaN  NaN      NaN  NaN   \n",
       "\n",
       "             frq2004  ...    0    0    0    0    0    0    0    0    0    0  \n",
       "0           113352.0  ...  NaN  NaN  NaN  NaN  NaN  NaN  NaN  NaN  NaN  NaN  \n",
       "1            91891.0  ...  NaN  NaN  NaN  NaN  NaN  NaN  NaN  NaN  NaN  NaN  \n",
       "2            82483.0  ...  NaN  NaN  NaN  NaN  NaN  NaN  NaN  NaN  NaN  NaN  \n",
       "3            76585.0  ...  NaN  NaN  NaN  NaN  NaN  NaN  NaN  NaN  NaN  NaN  \n",
       "4            70632.0  ...  NaN  NaN  NaN  NaN  NaN  NaN  NaN  NaN  NaN  NaN  \n",
       "...              ...  ...  ...  ...  ...  ...  ...  ...  ...  ...  ...  ...  \n",
       "sojafri          NaN  ...  5.0  5.0  5.0  5.0  5.0  5.0  5.0  5.0  5.0  5.0  \n",
       "äggfri           NaN  ...  5.0  5.0  5.0  5.0  5.0  5.0  5.0  5.0  5.0  5.0  \n",
       "underclass       NaN  ...  5.0  5.0  5.0  5.0  5.0  5.0  5.0  5.0  5.0  5.0  \n",
       "kungensår        NaN  ...  5.0  5.0  5.0  5.0  5.0  5.0  5.0  5.0  5.0  5.0  \n",
       "omlöp            NaN  ...  5.0  5.0  5.0  5.0  5.0  5.0  5.0  5.0  5.0  5.0  \n",
       "\n",
       "[2326939 rows x 115 columns]"
      ]
     },
     "execution_count": 75,
     "metadata": {},
     "output_type": "execute_result"
    }
   ],
   "source": [
    "df"
   ]
  },
  {
   "cell_type": "markdown",
   "metadata": {},
   "source": [
    "## Add Difference in Frequencies"
   ]
  },
  {
   "cell_type": "code",
   "execution_count": null,
   "metadata": {},
   "outputs": [],
   "source": [
    "for ti in years[:-1]:\n",
    "    tj = ti + 1\n",
    "    df[f\"diff_{ti}:{tj}\"] = df[f\"frq{ti}\"] - df[f\"frq{tj}\"]"
   ]
  },
  {
   "cell_type": "code",
   "execution_count": null,
   "metadata": {
    "scrolled": true
   },
   "outputs": [],
   "source": [
    "check()"
   ]
  },
  {
   "cell_type": "markdown",
   "metadata": {},
   "source": [
    "## Add Genuine Change"
   ]
  },
  {
   "cell_type": "code",
   "execution_count": null,
   "metadata": {},
   "outputs": [],
   "source": [
    "for file in os.listdir(measures / \"cosine_change\"):\n",
    "    if file.strip(\".txt\").endswith(\"genuine\"):\n",
    "        c_name = file.strip(\"_genuine.txt\").replace(\"_\", \":\")\n",
    "        c_name = \"gch_\" + c_name # Genuine Cosine Change\n",
    "        df[c_name] = pd.Series(load_metric(measures / f\"cosine_change/{file}\"))"
   ]
  },
  {
   "cell_type": "code",
   "execution_count": null,
   "metadata": {},
   "outputs": [],
   "source": [
    "check()"
   ]
  },
  {
   "cell_type": "markdown",
   "metadata": {},
   "source": [
    "## Add Mean and Std. of Change Controls"
   ]
  },
  {
   "cell_type": "code",
   "execution_count": null,
   "metadata": {},
   "outputs": [],
   "source": [
    "start, end = c_span\n",
    "\n",
    "for ti in years[:-1]:\n",
    "    tj = ti + 1\n",
    "    control = []\n",
    "    for i in range(start, end + 1):\n",
    "        s = pd.Series(load_metric(measures / f\"cosine_change/{ti}_{tj}_control{i}.txt\"))\n",
    "        control.append(s)\n",
    "\n",
    "    control = pd.concat(control, axis=1)\n",
    "    df[f\"mccc_{ti}:{tj}\"] = control.mean(axis=1) # Mean Cosine Change Controle\n",
    "    df[f\"stdc_{ti}:{tj}\"] = control.std(axis=1, ddof=1)"
   ]
  },
  {
   "cell_type": "code",
   "execution_count": null,
   "metadata": {},
   "outputs": [],
   "source": [
    "check()"
   ]
  },
  {
   "cell_type": "markdown",
   "metadata": {},
   "source": [
    "## Add Rectified Change"
   ]
  },
  {
   "cell_type": "code",
   "execution_count": null,
   "metadata": {},
   "outputs": [],
   "source": [
    "for ti in years[:-1]:\n",
    "    tj = ti + 1\n",
    "    df[f\"rch_{ti}:{tj}\"] = (df[f\"gch_{ti}:{tj}\"] - df[f\"mccc_{ti}:{tj}\"]) / (df[f\"stdc_{ti}:{tj}\"] * np.sqrt(1 + 1/end))"
   ]
  },
  {
   "cell_type": "code",
   "execution_count": null,
   "metadata": {},
   "outputs": [],
   "source": [
    "df"
   ]
  },
  {
   "cell_type": "markdown",
   "metadata": {},
   "source": [
    "## Add Genuine Similarity"
   ]
  },
  {
   "cell_type": "code",
   "execution_count": null,
   "metadata": {},
   "outputs": [],
   "source": [
    "for file in os.listdir(measures / \"cosine_sim\"):\n",
    "    if file.strip(\".txt\").endswith(\"genuine\"):\n",
    "        c_name = file.strip(\"_genuine.txt\").replace(\"_\", \":\")\n",
    "        c_name = \"gsim_\" + c_name # Genuine Cosine Similarity\n",
    "        df[c_name] = pd.Series(load_metric(measures / f\"cosine_sim/{file}\"))"
   ]
  },
  {
   "cell_type": "code",
   "execution_count": null,
   "metadata": {},
   "outputs": [],
   "source": [
    "df"
   ]
  },
  {
   "cell_type": "markdown",
   "metadata": {},
   "source": [
    "## Add Mean and Std. of Similarity Controls"
   ]
  },
  {
   "cell_type": "code",
   "execution_count": null,
   "metadata": {},
   "outputs": [],
   "source": [
    "for ti in years[:-1]:\n",
    "    tj = ti + 1\n",
    "    control = []\n",
    "    for i in range(start, end + 1):\n",
    "        s = pd.Series(load_metric(measures / f\"cosine_sim/{ti}_{tj}_control{i}.txt\"))\n",
    "        control.append(s)\n",
    "\n",
    "    control = pd.concat(control, axis=1)\n",
    "    df[f\"mcsim_{ti}:{tj}\"] = control.mean(axis=1) # Mean Cosine Similarity Controle\n",
    "    df[f\"stdsim_{ti}:{tj}\"] = control.std(axis=1, ddof=1)"
   ]
  },
  {
   "cell_type": "code",
   "execution_count": null,
   "metadata": {},
   "outputs": [],
   "source": [
    "df"
   ]
  },
  {
   "cell_type": "markdown",
   "metadata": {},
   "source": [
    "## Add Rectified Similarity"
   ]
  },
  {
   "cell_type": "code",
   "execution_count": null,
   "metadata": {},
   "outputs": [],
   "source": [
    "for ti in years[:-1]:\n",
    "    tj = ti + 1\n",
    "    df[f\"rsim_{ti}:{tj}\"] = (df[f\"gsim_{ti}:{tj}\"] - df[f\"mcsim_{ti}:{tj}\"]) / (df[f\"stdsim_{ti}:{tj}\"] * np.sqrt(1 + 1/end))"
   ]
  },
  {
   "cell_type": "code",
   "execution_count": null,
   "metadata": {
    "scrolled": true
   },
   "outputs": [],
   "source": [
    "df"
   ]
  },
  {
   "cell_type": "markdown",
   "metadata": {},
   "source": [
    "## Save"
   ]
  },
  {
   "cell_type": "code",
   "execution_count": null,
   "metadata": {},
   "outputs": [],
   "source": [
    "df.to_csv(path_or_buf=file_path, sep=';')"
   ]
  }
 ],
 "metadata": {
  "kernelspec": {
   "display_name": "Python 3 (ipykernel)",
   "language": "python",
   "name": "python3"
  },
  "language_info": {
   "codemirror_mode": {
    "name": "ipython",
    "version": 3
   },
   "file_extension": ".py",
   "mimetype": "text/x-python",
   "name": "python",
   "nbconvert_exporter": "python",
   "pygments_lexer": "ipython3",
   "version": "3.10.8"
  }
 },
 "nbformat": 4,
 "nbformat_minor": 4
}
