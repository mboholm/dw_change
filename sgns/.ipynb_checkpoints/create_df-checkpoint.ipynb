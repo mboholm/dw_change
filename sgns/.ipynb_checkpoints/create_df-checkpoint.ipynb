{
 "cells": [
  {
   "cell_type": "code",
   "execution_count": 1,
   "metadata": {},
   "outputs": [],
   "source": [
    "import pandas as pd\n",
    "import numpy as np\n",
    "import time\n",
    "import os\n",
    "from pathlib import Path\n",
    "from util import load_metric\n",
    "#from collections import Counter"
   ]
  },
  {
   "cell_type": "markdown",
   "metadata": {},
   "source": [
    "For each word **w**:\n",
    "* **count**(w)_t0, ... t.max\n",
    "    * For each transition *ti*, where *ti* is an element of {t0:t1, ..., t.max-1:t.max}\n",
    "        * **dif_count**(w, ti)\n",
    "        * **genuine_change**(w, ti)\n",
    "        * control_change(w, ti)1, ..., n, where *n* is the sample size for controls\n",
    "        * **mean_contol_change**(w, ti)\n",
    "        * **rectified_change**(w, ti)\n",
    "        * **cos_sim**(w, ti)\n",
    "        * control_cos_sim(w, ti)1, ..., n, where *n* is the sample size for controls\n",
    "        * **mean_control_cos_sim**(w, ti)\n",
    "        * **rectified_cos_sim**(w, ti)"
   ]
  },
  {
   "cell_type": "markdown",
   "metadata": {},
   "source": [
    "## Setup"
   ]
  },
  {
   "cell_type": "code",
   "execution_count": 2,
   "metadata": {},
   "outputs": [],
   "source": [
    "corpus   = Path(\"/home/max/Corpora/toy_diapol-sample\")\n",
    "measures = Path(\"/home/max/Results/toy_diapol-output\")"
   ]
  },
  {
   "cell_type": "code",
   "execution_count": 14,
   "metadata": {},
   "outputs": [],
   "source": [
    "file_path = Path(\"dwtch_results.csv\")"
   ]
  },
  {
   "cell_type": "code",
   "execution_count": 3,
   "metadata": {},
   "outputs": [],
   "source": [
    "years = [int(file.strip(\".txt\")) for file in os.listdir(corpus/\"yearly\")]\n",
    "years.sort()\n",
    "first_year = min(years)\n",
    "last_year  = max(years)\n",
    "c_numbers = set(int(n) for n in [\"\".join([ch for ch in file.strip(\".txt\").split(\"_\")[-1] if ch.isdigit()]) for file in os.listdir(measures / \"cosine_change\") if \"control\" in file])\n",
    "c_span = min(c_numbers), max(c_numbers)"
   ]
  },
  {
   "cell_type": "code",
   "execution_count": null,
   "metadata": {},
   "outputs": [],
   "source": [
    "#years"
   ]
  },
  {
   "cell_type": "code",
   "execution_count": null,
   "metadata": {},
   "outputs": [],
   "source": [
    "#c_span"
   ]
  },
  {
   "cell_type": "code",
   "execution_count": 4,
   "metadata": {},
   "outputs": [],
   "source": [
    "df = pd.DataFrame()"
   ]
  },
  {
   "cell_type": "markdown",
   "metadata": {},
   "source": [
    "## Add Word Frequencies"
   ]
  },
  {
   "cell_type": "code",
   "execution_count": 5,
   "metadata": {
    "scrolled": false
   },
   "outputs": [],
   "source": [
    "for year in years:\n",
    "    freqs = {w: c for w, c in load_metric(corpus / f\"vocab/{year}.txt\").items() if c >= 5}\n",
    "    df[f\"frq{year}\"] = pd.Series(freqs)"
   ]
  },
  {
   "cell_type": "code",
   "execution_count": null,
   "metadata": {},
   "outputs": [],
   "source": [
    "df"
   ]
  },
  {
   "cell_type": "markdown",
   "metadata": {},
   "source": [
    "## Add Difference in Frequencies"
   ]
  },
  {
   "cell_type": "code",
   "execution_count": 6,
   "metadata": {},
   "outputs": [],
   "source": [
    "for ti in years[:-1]:\n",
    "    tj = ti + 1\n",
    "    df[f\"diff_{ti}:{tj}\"] = df[f\"frq{ti}\"] - df[f\"frq{tj}\"]"
   ]
  },
  {
   "cell_type": "code",
   "execution_count": null,
   "metadata": {
    "scrolled": true
   },
   "outputs": [],
   "source": [
    "df"
   ]
  },
  {
   "cell_type": "markdown",
   "metadata": {},
   "source": [
    "## Add Genuine Change"
   ]
  },
  {
   "cell_type": "code",
   "execution_count": 7,
   "metadata": {},
   "outputs": [],
   "source": [
    "for file in os.listdir(measures / \"cosine_change\"):\n",
    "    if file.strip(\".txt\").endswith(\"genuine\"):\n",
    "        c_name = file.strip(\"_genuine.txt\").replace(\"_\", \":\")\n",
    "        c_name = \"gch_\" + c_name # Genuine Cosine Change\n",
    "        df[c_name] = pd.Series(load_metric(measures / f\"cosine_change/{file}\"))"
   ]
  },
  {
   "cell_type": "code",
   "execution_count": null,
   "metadata": {},
   "outputs": [],
   "source": [
    "df"
   ]
  },
  {
   "cell_type": "markdown",
   "metadata": {},
   "source": [
    "## Add Mean and Std. of Change Controls"
   ]
  },
  {
   "cell_type": "code",
   "execution_count": 8,
   "metadata": {},
   "outputs": [],
   "source": [
    "start, end = c_span\n",
    "\n",
    "for ti in years[:-1]:\n",
    "    tj = ti + 1\n",
    "    control = []\n",
    "    for i in range(start, end + 1):\n",
    "        s = pd.Series(load_metric(measures / f\"cosine_change/{ti}_{tj}_control{i}.txt\"))\n",
    "        control.append(s)\n",
    "\n",
    "    control = pd.concat(control, axis=1)\n",
    "    df[f\"mccc_{ti}:{tj}\"] = control.mean(axis=1) # Mean Cosine Change Controle\n",
    "    df[f\"stdc_{ti}:{tj}\"] = control.std(axis=1, ddof=1)"
   ]
  },
  {
   "cell_type": "code",
   "execution_count": null,
   "metadata": {},
   "outputs": [],
   "source": [
    "df"
   ]
  },
  {
   "cell_type": "markdown",
   "metadata": {},
   "source": [
    "## Add Rectified Change"
   ]
  },
  {
   "cell_type": "code",
   "execution_count": 9,
   "metadata": {},
   "outputs": [],
   "source": [
    "for ti in years[:-1]:\n",
    "    tj = ti + 1\n",
    "    df[f\"rch_{ti}:{tj}\"] = (df[f\"gch_{ti}:{tj}\"] - df[f\"mccc_{ti}:{tj}\"]) / (df[f\"stdc_{ti}:{tj}\"] * np.sqrt(1 + 1/end))"
   ]
  },
  {
   "cell_type": "code",
   "execution_count": null,
   "metadata": {},
   "outputs": [],
   "source": [
    "df"
   ]
  },
  {
   "cell_type": "markdown",
   "metadata": {},
   "source": [
    "## Add Genuine Similarity"
   ]
  },
  {
   "cell_type": "code",
   "execution_count": 10,
   "metadata": {},
   "outputs": [],
   "source": [
    "for file in os.listdir(measures / \"cosine_sim\"):\n",
    "    if file.strip(\".txt\").endswith(\"genuine\"):\n",
    "        c_name = file.strip(\"_genuine.txt\").replace(\"_\", \":\")\n",
    "        c_name = \"gsim_\" + c_name # Genuine Cosine Similarity\n",
    "        df[c_name] = pd.Series(load_metric(measures / f\"cosine_sim/{file}\"))"
   ]
  },
  {
   "cell_type": "code",
   "execution_count": null,
   "metadata": {},
   "outputs": [],
   "source": [
    "df"
   ]
  },
  {
   "cell_type": "markdown",
   "metadata": {},
   "source": [
    "## Add Mean and Std. of Similarity Controls"
   ]
  },
  {
   "cell_type": "code",
   "execution_count": 11,
   "metadata": {},
   "outputs": [],
   "source": [
    "for ti in years[:-1]:\n",
    "    tj = ti + 1\n",
    "    control = []\n",
    "    for i in range(start, end + 1):\n",
    "        s = pd.Series(load_metric(measures / f\"cosine_sim/{ti}_{tj}_control{i}.txt\"))\n",
    "        control.append(s)\n",
    "\n",
    "    control = pd.concat(control, axis=1)\n",
    "    df[f\"mcsim_{ti}:{tj}\"] = control.mean(axis=1) # Mean Cosine Similarity Controle\n",
    "    df[f\"stdsim_{ti}:{tj}\"] = control.std(axis=1, ddof=1)"
   ]
  },
  {
   "cell_type": "code",
   "execution_count": null,
   "metadata": {},
   "outputs": [],
   "source": [
    "df"
   ]
  },
  {
   "cell_type": "markdown",
   "metadata": {},
   "source": [
    "## Add Rectified Similarity"
   ]
  },
  {
   "cell_type": "code",
   "execution_count": 12,
   "metadata": {},
   "outputs": [],
   "source": [
    "for ti in years[:-1]:\n",
    "    tj = ti + 1\n",
    "    df[f\"rsim_{ti}:{tj}\"] = (df[f\"gsim_{ti}:{tj}\"] - df[f\"mcsim_{ti}:{tj}\"]) / (df[f\"stdsim_{ti}:{tj}\"] * np.sqrt(1 + 1/end))"
   ]
  },
  {
   "cell_type": "code",
   "execution_count": 13,
   "metadata": {
    "scrolled": true
   },
   "outputs": [
    {
     "data": {
      "text/html": [
       "<div>\n",
       "<style scoped>\n",
       "    .dataframe tbody tr th:only-of-type {\n",
       "        vertical-align: middle;\n",
       "    }\n",
       "\n",
       "    .dataframe tbody tr th {\n",
       "        vertical-align: top;\n",
       "    }\n",
       "\n",
       "    .dataframe thead th {\n",
       "        text-align: right;\n",
       "    }\n",
       "</style>\n",
       "<table border=\"1\" class=\"dataframe\">\n",
       "  <thead>\n",
       "    <tr style=\"text-align: right;\">\n",
       "      <th></th>\n",
       "      <th>frq2004</th>\n",
       "      <th>frq2005</th>\n",
       "      <th>frq2006</th>\n",
       "      <th>frq2007</th>\n",
       "      <th>frq2008</th>\n",
       "      <th>frq2009</th>\n",
       "      <th>frq2010</th>\n",
       "      <th>frq2011</th>\n",
       "      <th>frq2012</th>\n",
       "      <th>frq2013</th>\n",
       "      <th>...</th>\n",
       "      <th>rsim_2004:2005</th>\n",
       "      <th>rsim_2005:2006</th>\n",
       "      <th>rsim_2006:2007</th>\n",
       "      <th>rsim_2007:2008</th>\n",
       "      <th>rsim_2008:2009</th>\n",
       "      <th>rsim_2009:2010</th>\n",
       "      <th>rsim_2010:2011</th>\n",
       "      <th>rsim_2011:2012</th>\n",
       "      <th>rsim_2012:2013</th>\n",
       "      <th>rsim_2013:2014</th>\n",
       "    </tr>\n",
       "  </thead>\n",
       "  <tbody>\n",
       "    <tr>\n",
       "      <th>att</th>\n",
       "      <td>97400.0</td>\n",
       "      <td>99526.0</td>\n",
       "      <td>98762.0</td>\n",
       "      <td>97083.0</td>\n",
       "      <td>98499.0</td>\n",
       "      <td>97225.0</td>\n",
       "      <td>101378.0</td>\n",
       "      <td>100638.0</td>\n",
       "      <td>103579.0</td>\n",
       "      <td>103715.0</td>\n",
       "      <td>...</td>\n",
       "      <td>0.592157</td>\n",
       "      <td>0.703526</td>\n",
       "      <td>0.862924</td>\n",
       "      <td>0.301511</td>\n",
       "      <td>0.545455</td>\n",
       "      <td>0.301511</td>\n",
       "      <td>NaN</td>\n",
       "      <td>0.738549</td>\n",
       "      <td>0.592157</td>\n",
       "      <td>0.545455</td>\n",
       "    </tr>\n",
       "    <tr>\n",
       "      <th>det</th>\n",
       "      <td>79026.0</td>\n",
       "      <td>85296.0</td>\n",
       "      <td>82918.0</td>\n",
       "      <td>81550.0</td>\n",
       "      <td>83997.0</td>\n",
       "      <td>83708.0</td>\n",
       "      <td>86731.0</td>\n",
       "      <td>86465.0</td>\n",
       "      <td>87003.0</td>\n",
       "      <td>87504.0</td>\n",
       "      <td>...</td>\n",
       "      <td>-1.971088</td>\n",
       "      <td>-0.541083</td>\n",
       "      <td>-2.843776</td>\n",
       "      <td>-0.192308</td>\n",
       "      <td>-0.183872</td>\n",
       "      <td>-1.714984</td>\n",
       "      <td>-1.529039</td>\n",
       "      <td>0.444682</td>\n",
       "      <td>-1.680547</td>\n",
       "      <td>-0.111873</td>\n",
       "    </tr>\n",
       "    <tr>\n",
       "      <th>är</th>\n",
       "      <td>70956.0</td>\n",
       "      <td>75735.0</td>\n",
       "      <td>75740.0</td>\n",
       "      <td>76980.0</td>\n",
       "      <td>78461.0</td>\n",
       "      <td>77925.0</td>\n",
       "      <td>80669.0</td>\n",
       "      <td>81784.0</td>\n",
       "      <td>83019.0</td>\n",
       "      <td>82689.0</td>\n",
       "      <td>...</td>\n",
       "      <td>0.452267</td>\n",
       "      <td>0.738549</td>\n",
       "      <td>0.452267</td>\n",
       "      <td>0.452267</td>\n",
       "      <td>0.738549</td>\n",
       "      <td>0.301511</td>\n",
       "      <td>0.592157</td>\n",
       "      <td>0.301511</td>\n",
       "      <td>0.301511</td>\n",
       "      <td>0.904534</td>\n",
       "    </tr>\n",
       "    <tr>\n",
       "      <th>och</th>\n",
       "      <td>65916.0</td>\n",
       "      <td>68760.0</td>\n",
       "      <td>69664.0</td>\n",
       "      <td>70406.0</td>\n",
       "      <td>70639.0</td>\n",
       "      <td>70337.0</td>\n",
       "      <td>73676.0</td>\n",
       "      <td>74699.0</td>\n",
       "      <td>76127.0</td>\n",
       "      <td>76901.0</td>\n",
       "      <td>...</td>\n",
       "      <td>-0.914725</td>\n",
       "      <td>0.646312</td>\n",
       "      <td>-2.035064</td>\n",
       "      <td>-0.568679</td>\n",
       "      <td>-1.840084</td>\n",
       "      <td>-3.231827</td>\n",
       "      <td>0.883636</td>\n",
       "      <td>1.530147</td>\n",
       "      <td>0.395339</td>\n",
       "      <td>-0.674248</td>\n",
       "    </tr>\n",
       "    <tr>\n",
       "      <th>som</th>\n",
       "      <td>60568.0</td>\n",
       "      <td>60950.0</td>\n",
       "      <td>60856.0</td>\n",
       "      <td>60847.0</td>\n",
       "      <td>60890.0</td>\n",
       "      <td>61336.0</td>\n",
       "      <td>63021.0</td>\n",
       "      <td>64125.0</td>\n",
       "      <td>65773.0</td>\n",
       "      <td>66585.0</td>\n",
       "      <td>...</td>\n",
       "      <td>0.452267</td>\n",
       "      <td>NaN</td>\n",
       "      <td>0.560968</td>\n",
       "      <td>0.818182</td>\n",
       "      <td>0.301511</td>\n",
       "      <td>0.452267</td>\n",
       "      <td>0.545455</td>\n",
       "      <td>0.423793</td>\n",
       "      <td>0.452267</td>\n",
       "      <td>0.423793</td>\n",
       "    </tr>\n",
       "    <tr>\n",
       "      <th>...</th>\n",
       "      <td>...</td>\n",
       "      <td>...</td>\n",
       "      <td>...</td>\n",
       "      <td>...</td>\n",
       "      <td>...</td>\n",
       "      <td>...</td>\n",
       "      <td>...</td>\n",
       "      <td>...</td>\n",
       "      <td>...</td>\n",
       "      <td>...</td>\n",
       "      <td>...</td>\n",
       "      <td>...</td>\n",
       "      <td>...</td>\n",
       "      <td>...</td>\n",
       "      <td>...</td>\n",
       "      <td>...</td>\n",
       "      <td>...</td>\n",
       "      <td>...</td>\n",
       "      <td>...</td>\n",
       "      <td>...</td>\n",
       "      <td>...</td>\n",
       "    </tr>\n",
       "    <tr>\n",
       "      <th>lif</th>\n",
       "      <td>5.0</td>\n",
       "      <td>NaN</td>\n",
       "      <td>NaN</td>\n",
       "      <td>NaN</td>\n",
       "      <td>NaN</td>\n",
       "      <td>NaN</td>\n",
       "      <td>NaN</td>\n",
       "      <td>NaN</td>\n",
       "      <td>NaN</td>\n",
       "      <td>NaN</td>\n",
       "      <td>...</td>\n",
       "      <td>NaN</td>\n",
       "      <td>NaN</td>\n",
       "      <td>NaN</td>\n",
       "      <td>NaN</td>\n",
       "      <td>NaN</td>\n",
       "      <td>NaN</td>\n",
       "      <td>NaN</td>\n",
       "      <td>NaN</td>\n",
       "      <td>NaN</td>\n",
       "      <td>NaN</td>\n",
       "    </tr>\n",
       "    <tr>\n",
       "      <th>brommaskolorna</th>\n",
       "      <td>5.0</td>\n",
       "      <td>NaN</td>\n",
       "      <td>NaN</td>\n",
       "      <td>NaN</td>\n",
       "      <td>NaN</td>\n",
       "      <td>NaN</td>\n",
       "      <td>NaN</td>\n",
       "      <td>NaN</td>\n",
       "      <td>NaN</td>\n",
       "      <td>NaN</td>\n",
       "      <td>...</td>\n",
       "      <td>NaN</td>\n",
       "      <td>NaN</td>\n",
       "      <td>NaN</td>\n",
       "      <td>NaN</td>\n",
       "      <td>NaN</td>\n",
       "      <td>NaN</td>\n",
       "      <td>NaN</td>\n",
       "      <td>NaN</td>\n",
       "      <td>NaN</td>\n",
       "      <td>NaN</td>\n",
       "    </tr>\n",
       "    <tr>\n",
       "      <th>språktestet</th>\n",
       "      <td>5.0</td>\n",
       "      <td>NaN</td>\n",
       "      <td>NaN</td>\n",
       "      <td>NaN</td>\n",
       "      <td>NaN</td>\n",
       "      <td>NaN</td>\n",
       "      <td>NaN</td>\n",
       "      <td>NaN</td>\n",
       "      <td>NaN</td>\n",
       "      <td>NaN</td>\n",
       "      <td>...</td>\n",
       "      <td>NaN</td>\n",
       "      <td>NaN</td>\n",
       "      <td>NaN</td>\n",
       "      <td>NaN</td>\n",
       "      <td>NaN</td>\n",
       "      <td>NaN</td>\n",
       "      <td>NaN</td>\n",
       "      <td>NaN</td>\n",
       "      <td>NaN</td>\n",
       "      <td>NaN</td>\n",
       "    </tr>\n",
       "    <tr>\n",
       "      <th>lovdagar</th>\n",
       "      <td>5.0</td>\n",
       "      <td>NaN</td>\n",
       "      <td>NaN</td>\n",
       "      <td>NaN</td>\n",
       "      <td>NaN</td>\n",
       "      <td>NaN</td>\n",
       "      <td>NaN</td>\n",
       "      <td>NaN</td>\n",
       "      <td>NaN</td>\n",
       "      <td>NaN</td>\n",
       "      <td>...</td>\n",
       "      <td>NaN</td>\n",
       "      <td>NaN</td>\n",
       "      <td>NaN</td>\n",
       "      <td>NaN</td>\n",
       "      <td>NaN</td>\n",
       "      <td>NaN</td>\n",
       "      <td>NaN</td>\n",
       "      <td>NaN</td>\n",
       "      <td>NaN</td>\n",
       "      <td>NaN</td>\n",
       "    </tr>\n",
       "    <tr>\n",
       "      <th>möp</th>\n",
       "      <td>5.0</td>\n",
       "      <td>NaN</td>\n",
       "      <td>NaN</td>\n",
       "      <td>NaN</td>\n",
       "      <td>NaN</td>\n",
       "      <td>NaN</td>\n",
       "      <td>NaN</td>\n",
       "      <td>NaN</td>\n",
       "      <td>NaN</td>\n",
       "      <td>NaN</td>\n",
       "      <td>...</td>\n",
       "      <td>NaN</td>\n",
       "      <td>NaN</td>\n",
       "      <td>NaN</td>\n",
       "      <td>NaN</td>\n",
       "      <td>NaN</td>\n",
       "      <td>NaN</td>\n",
       "      <td>NaN</td>\n",
       "      <td>NaN</td>\n",
       "      <td>NaN</td>\n",
       "      <td>NaN</td>\n",
       "    </tr>\n",
       "  </tbody>\n",
       "</table>\n",
       "<p>28681 rows × 101 columns</p>\n",
       "</div>"
      ],
      "text/plain": [
       "                frq2004  frq2005  frq2006  frq2007  frq2008  frq2009  \\\n",
       "att             97400.0  99526.0  98762.0  97083.0  98499.0  97225.0   \n",
       "det             79026.0  85296.0  82918.0  81550.0  83997.0  83708.0   \n",
       "är              70956.0  75735.0  75740.0  76980.0  78461.0  77925.0   \n",
       "och             65916.0  68760.0  69664.0  70406.0  70639.0  70337.0   \n",
       "som             60568.0  60950.0  60856.0  60847.0  60890.0  61336.0   \n",
       "...                 ...      ...      ...      ...      ...      ...   \n",
       "lif                 5.0      NaN      NaN      NaN      NaN      NaN   \n",
       "brommaskolorna      5.0      NaN      NaN      NaN      NaN      NaN   \n",
       "språktestet         5.0      NaN      NaN      NaN      NaN      NaN   \n",
       "lovdagar            5.0      NaN      NaN      NaN      NaN      NaN   \n",
       "möp                 5.0      NaN      NaN      NaN      NaN      NaN   \n",
       "\n",
       "                 frq2010   frq2011   frq2012   frq2013  ...  rsim_2004:2005  \\\n",
       "att             101378.0  100638.0  103579.0  103715.0  ...        0.592157   \n",
       "det              86731.0   86465.0   87003.0   87504.0  ...       -1.971088   \n",
       "är               80669.0   81784.0   83019.0   82689.0  ...        0.452267   \n",
       "och              73676.0   74699.0   76127.0   76901.0  ...       -0.914725   \n",
       "som              63021.0   64125.0   65773.0   66585.0  ...        0.452267   \n",
       "...                  ...       ...       ...       ...  ...             ...   \n",
       "lif                  NaN       NaN       NaN       NaN  ...             NaN   \n",
       "brommaskolorna       NaN       NaN       NaN       NaN  ...             NaN   \n",
       "språktestet          NaN       NaN       NaN       NaN  ...             NaN   \n",
       "lovdagar             NaN       NaN       NaN       NaN  ...             NaN   \n",
       "möp                  NaN       NaN       NaN       NaN  ...             NaN   \n",
       "\n",
       "                rsim_2005:2006  rsim_2006:2007  rsim_2007:2008  \\\n",
       "att                   0.703526        0.862924        0.301511   \n",
       "det                  -0.541083       -2.843776       -0.192308   \n",
       "är                    0.738549        0.452267        0.452267   \n",
       "och                   0.646312       -2.035064       -0.568679   \n",
       "som                        NaN        0.560968        0.818182   \n",
       "...                        ...             ...             ...   \n",
       "lif                        NaN             NaN             NaN   \n",
       "brommaskolorna             NaN             NaN             NaN   \n",
       "språktestet                NaN             NaN             NaN   \n",
       "lovdagar                   NaN             NaN             NaN   \n",
       "möp                        NaN             NaN             NaN   \n",
       "\n",
       "                rsim_2008:2009  rsim_2009:2010  rsim_2010:2011  \\\n",
       "att                   0.545455        0.301511             NaN   \n",
       "det                  -0.183872       -1.714984       -1.529039   \n",
       "är                    0.738549        0.301511        0.592157   \n",
       "och                  -1.840084       -3.231827        0.883636   \n",
       "som                   0.301511        0.452267        0.545455   \n",
       "...                        ...             ...             ...   \n",
       "lif                        NaN             NaN             NaN   \n",
       "brommaskolorna             NaN             NaN             NaN   \n",
       "språktestet                NaN             NaN             NaN   \n",
       "lovdagar                   NaN             NaN             NaN   \n",
       "möp                        NaN             NaN             NaN   \n",
       "\n",
       "                rsim_2011:2012  rsim_2012:2013  rsim_2013:2014  \n",
       "att                   0.738549        0.592157        0.545455  \n",
       "det                   0.444682       -1.680547       -0.111873  \n",
       "är                    0.301511        0.301511        0.904534  \n",
       "och                   1.530147        0.395339       -0.674248  \n",
       "som                   0.423793        0.452267        0.423793  \n",
       "...                        ...             ...             ...  \n",
       "lif                        NaN             NaN             NaN  \n",
       "brommaskolorna             NaN             NaN             NaN  \n",
       "språktestet                NaN             NaN             NaN  \n",
       "lovdagar                   NaN             NaN             NaN  \n",
       "möp                        NaN             NaN             NaN  \n",
       "\n",
       "[28681 rows x 101 columns]"
      ]
     },
     "execution_count": 13,
     "metadata": {},
     "output_type": "execute_result"
    }
   ],
   "source": [
    "df"
   ]
  },
  {
   "cell_type": "markdown",
   "metadata": {},
   "source": [
    "## Save"
   ]
  },
  {
   "cell_type": "code",
   "execution_count": 41,
   "metadata": {},
   "outputs": [],
   "source": [
    "df.to_csv(path_or_buf=file_path, sep=';')"
   ]
  }
 ],
 "metadata": {
  "kernelspec": {
   "display_name": "Python 3",
   "language": "python",
   "name": "python3"
  },
  "language_info": {
   "codemirror_mode": {
    "name": "ipython",
    "version": 3
   },
   "file_extension": ".py",
   "mimetype": "text/x-python",
   "name": "python",
   "nbconvert_exporter": "python",
   "pygments_lexer": "ipython3",
   "version": "3.8.5"
  }
 },
 "nbformat": 4,
 "nbformat_minor": 4
}
