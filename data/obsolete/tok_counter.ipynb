{
 "cells": [
  {
   "cell_type": "code",
   "execution_count": 1,
   "metadata": {},
   "outputs": [],
   "source": [
    "import json\n",
    "import os\n",
    "#import csv\n",
    "from pathlib import Path"
   ]
  },
  {
   "cell_type": "code",
   "execution_count": 2,
   "metadata": {},
   "outputs": [],
   "source": [
    "c = \"/home/max/Corpora/fb-pol-corpus/flashback-pol-time/yearly\"\n",
    "o = \"/home/max/Corpora/fb-pol-corpus/flashback-pol-time/counter.log\""
   ]
  },
  {
   "cell_type": "code",
   "execution_count": 9,
   "metadata": {},
   "outputs": [],
   "source": [
    "def count_save(corpus, output_file):\n",
    "    \n",
    "    corpus = Path(corpus)\n",
    "    output_file = Path(output_file)\n",
    "    \n",
    "    files = sorted(os.listdir(corpus))\n",
    "    years = [year.strip(\".txt\") for year in files]\n",
    "    counter = {year: {\"examples\": 0, \"word_tokens\": 0} for year in years}\n",
    "    \n",
    "    for i, file in enumerate(files, start=1):\n",
    "        print(f\"word_counter.py processing {file} ({i} / {len(files)})\", end=\"\\r\")\n",
    "        with open(corpus / file) as f:\n",
    "            year = file.strip(\".txt\")\n",
    "            for line in f:\n",
    "                counter[year][\"examples\"] += 1\n",
    "                word_count = len(line.strip(\"\\n\").split())\n",
    "                counter[year][\"word_tokens\"] += word_count\n",
    "        \n",
    "        with open(output_file, mode=\"w\") as f:\n",
    "            f.write(json.dumps(counter))\n",
    "\n",
    "    print()\n",
    "    print(\"Done!\")"
   ]
  },
  {
   "cell_type": "code",
   "execution_count": 10,
   "metadata": {},
   "outputs": [
    {
     "name": "stdout",
     "output_type": "stream",
     "text": [
      "word_counter.py processing 2022.txt (23 / 23)\n",
      "Done!\n"
     ]
    }
   ],
   "source": [
    "count_save(c, o)"
   ]
  },
  {
   "cell_type": "code",
   "execution_count": null,
   "metadata": {},
   "outputs": [],
   "source": []
  }
 ],
 "metadata": {
  "kernelspec": {
   "display_name": "Python 3",
   "language": "python",
   "name": "python3"
  },
  "language_info": {
   "codemirror_mode": {
    "name": "ipython",
    "version": 3
   },
   "file_extension": ".py",
   "mimetype": "text/x-python",
   "name": "python",
   "nbconvert_exporter": "python",
   "pygments_lexer": "ipython3",
   "version": "3.8.5"
  }
 },
 "nbformat": 4,
 "nbformat_minor": 4
}
