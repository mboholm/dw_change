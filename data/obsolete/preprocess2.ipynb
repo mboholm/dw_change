{
 "cells": [
  {
   "cell_type": "code",
   "execution_count": 1,
   "metadata": {},
   "outputs": [],
   "source": [
    "import re\n",
    "from pathlib import Path\n",
    "import os\n",
    "import time\n",
    "from string import punctuation\n",
    "import json"
   ]
  },
  {
   "cell_type": "code",
   "execution_count": 2,
   "metadata": {},
   "outputs": [],
   "source": [
    "emoji_pattern = re.compile(\"[\"\n",
    "        u\"\\U0001F600-\\U0001F64F\"  # emoticons\n",
    "        u\"\\U0001F300-\\U0001F5FF\"  # symbols & pictographs\n",
    "        u\"\\U0001F680-\\U0001F6FF\"  # transport & map symbols\n",
    "        u\"\\U0001F1E0-\\U0001F1FF\"  # flags (iOS)\n",
    "                           \"]+\", flags=re.UNICODE)\n",
    "\n",
    "punctuation = punctuation.replace(\" \", \"\") # white space is in punctuation\n",
    "#print(type(punctuation))\n",
    "\n",
    "def preprocess1(example,\n",
    "                remove_stopwords = False,\n",
    "                stopwords = None,\n",
    "                remove_numbers = False,\n",
    "                remove_urls = True,\n",
    "                remove_punctuations = False,\n",
    "                min_tok_utterances = None,\n",
    "                lower = True,\n",
    "                remove_emojis = True):\n",
    "    \"\"\" \n",
    "    Preprocess a string.\n",
    "    \"\"\"\n",
    "\n",
    "    example = example.split()\n",
    "    \n",
    "    if remove_stopwords:\n",
    "        assert isinstance(stopwords, list) or isinstance(stopwords, set), \"You have selected to use stopwords, but no stopword list is provided.\"\n",
    "\n",
    "        example = [word for word in example if word not in stopwords] \n",
    "        # This will take forever?!\n",
    "        \n",
    "#     if remove_punctuations:\n",
    "#         example = [token for token in example if not token in punctuation]\n",
    "        \n",
    "    if min_tok_utterances != None:\n",
    "        if len(example) <= min_tok_utterances:\n",
    "            return \"\"\n",
    "        \n",
    "    example = \" \".join(example)\n",
    "    \n",
    "    if remove_punctuations:\n",
    "        example = example.translate(str.maketrans('', '', punctuation))\n",
    "        #example = re.sub(re.compile(r\"[^\\w\\s]\"), \"\", example)   \n",
    "    \n",
    "    if lower:\n",
    "        example = example.lower()\n",
    "    \n",
    "    if remove_numbers:\n",
    "        example = re.sub(r\"[0-9]+\", \"\", example)\n",
    "    \n",
    "    if remove_urls:\n",
    "        example = re.sub(r\"https?://.*\", \"\", example)\n",
    "        example = re.sub(r\"www\\..*\", \"\", example)\n",
    "        \n",
    "    if remove_emojis:\n",
    "        example = re.sub(emoji_pattern, \"\", example)\n",
    "\n",
    "    return example\n"
   ]
  },
  {
   "cell_type": "code",
   "execution_count": 3,
   "metadata": {},
   "outputs": [],
   "source": [
    "def preprocess2(corpus_in, corpus_out, CONFIG):\n",
    "    \n",
    "    t0 = time.time()\n",
    "    corpus_in = Path(corpus_in)\n",
    "    corpus_out = Path(corpus_out)\n",
    "    files = sorted(os.listdir(corpus_in))\n",
    "\n",
    "    for k, file in enumerate(files, start=1):\n",
    "        \n",
    "        f_out = open(corpus_out / file, \"w\")\n",
    "        f_out.close()\n",
    "        \n",
    "        with open(corpus_in / file, \"r\") as f_in, open(corpus_out / file, \"a\") as f_out:\n",
    "            year = file.strip(\".txt\")\n",
    "            \n",
    "            for i, line in enumerate(f_in):\n",
    "                \n",
    "#                 if k > 2:\n",
    "#                     return \n",
    "                \n",
    "                if i % 10000 == 0:\n",
    "                    print(f\"{file} {k} / {len(files)}: {i}    \", end=\"\\r\")\n",
    "                \n",
    "                line = preprocess1(line, \n",
    "                                   remove_stopwords = CONFIG[\"remove_stopwords\"],\n",
    "                                   stopwords = CONFIG[\"stopwords\"],\n",
    "                                   remove_numbers = CONFIG[\"remove_numbers\"],\n",
    "                                   remove_urls = CONFIG[\"remove_urls\"],\n",
    "                                   remove_punctuations = CONFIG[\"remove_punctuations\"],\n",
    "                                   min_tok_utterances = CONFIG[\"min_tok_utterances\"],\n",
    "                                   lower = CONFIG[\"lower\"],\n",
    "                                   remove_emojis = CONFIG[\"remove_emojis\"])\n",
    "\n",
    "                if line.strip(\"\\n\") == \"\":\n",
    "                    continue\n",
    "                \n",
    "                line = re.sub(r\"-+\", \"\", line)\n",
    "                line = re.sub(r\"\\.\\.+\", \"\", line)\n",
    "#                 line = re.sub(\":\", \"\", line)\n",
    "#                 line = re.sub(\",\", \"\", line)\n",
    "#                 line = re.sub(r\"  +\", \"\", line)\n",
    "                \n",
    "                # Some language recognition? Only include Swedish\n",
    "                \n",
    "                f_out.write(line + \"\\n\")\n",
    "\n",
    "    \n",
    "    delta_t = time.time() - t0\n",
    "    m = int(delta_t / 60)\n",
    "    s = int(delta_t / 60)\n",
    "    \n",
    "    print()\n",
    "    print(\"Done!\", f\"({m} m, {s} s)\")             "
   ]
  },
  {
   "cell_type": "code",
   "execution_count": 4,
   "metadata": {},
   "outputs": [],
   "source": [
    "corpus_in = Path(\"/home/max/Corpora/flashback-pol-time/yearly/fb-pt-original/files\")\n",
    "corpus_out = Path(\"/home/max/tmp/scratch\")"
   ]
  },
  {
   "cell_type": "code",
   "execution_count": 5,
   "metadata": {},
   "outputs": [
    {
     "name": "stdout",
     "output_type": "stream",
     "text": [
      "CONFIG: {\n",
      "    \"remove_stopwords\": false,\n",
      "    \"stopwords\": null,\n",
      "    \"remove_numbers\": true,\n",
      "    \"remove_urls\": true,\n",
      "    \"remove_punctuations\": true,\n",
      "    \"min_tok_utterances\": null,\n",
      "    \"lower\": true,\n",
      "    \"remove_emojis\": true\n",
      "}\n"
     ]
    }
   ],
   "source": [
    "with open(Path(\"utils/pp_sgns-config.json\"), \"r\") as f:\n",
    "    config = json.loads((f.read()))\n",
    "print(\"CONFIG:\", json.dumps(config, indent=4))"
   ]
  },
  {
   "cell_type": "code",
   "execution_count": 6,
   "metadata": {
    "scrolled": true
   },
   "outputs": [
    {
     "name": "stdout",
     "output_type": "stream",
     "text": [
      "2022.txt 23 / 23: 3730000    \n",
      "Done! (20 m, 20 s)\n"
     ]
    }
   ],
   "source": [
    "preprocess2(corpus_in, corpus_out, config)"
   ]
  },
  {
   "cell_type": "code",
   "execution_count": null,
   "metadata": {},
   "outputs": [],
   "source": []
  }
 ],
 "metadata": {
  "kernelspec": {
   "display_name": "Python 3",
   "language": "python",
   "name": "python3"
  },
  "language_info": {
   "codemirror_mode": {
    "name": "ipython",
    "version": 3
   },
   "file_extension": ".py",
   "mimetype": "text/x-python",
   "name": "python",
   "nbconvert_exporter": "python",
   "pygments_lexer": "ipython3",
   "version": "3.8.5"
  }
 },
 "nbformat": 4,
 "nbformat_minor": 4
}
