{
 "cells": [
  {
   "cell_type": "code",
   "execution_count": 1,
   "metadata": {},
   "outputs": [],
   "source": [
    "from collections import Counter\n",
    "import os\n",
    "import random\n",
    "import json\n",
    "from pathlib import Path\n",
    "import re"
   ]
  },
  {
   "cell_type": "code",
   "execution_count": 2,
   "metadata": {},
   "outputs": [],
   "source": [
    "random.seed(500)"
   ]
  },
  {
   "cell_type": "code",
   "execution_count": 3,
   "metadata": {},
   "outputs": [],
   "source": [
    "dir_in  = Path(\"/home/max/Corpora/fb-pol-corpus/fb-pt-radical3/yearly\")\n",
    "dir_out = Path(\"/home/max/Corpora/toy_diapol-sample/yearly\")\n",
    "smp_yrs = [str(year) for year in range(2004, 2014+1)] # None for no selection\n",
    "smp_sz  = 200000 # None for no sampling within time \n",
    "if smp_yrs == None and smp_sz == None:\n",
    "    print(\"You have made no restrition for the sampler. Please define years, sample size or both.\")\n",
    "#bias_terms = Path(\"utils/dwts.txt\") # None for no bias terms"
   ]
  },
  {
   "cell_type": "code",
   "execution_count": 4,
   "metadata": {},
   "outputs": [],
   "source": [
    "with open(\"/home/max/Corpora/fb-pol-corpus/fb-pt-radical3/counter.log\", \"r\") as f:\n",
    "    stats = json.loads(f.read())"
   ]
  },
  {
   "cell_type": "code",
   "execution_count": 5,
   "metadata": {},
   "outputs": [],
   "source": [
    "def sampler(data_in, data_out, smp_yrs, smp_sz, stats, bias_terms):\n",
    "    \n",
    "    if smp_yrs != None:\n",
    "        print(\"Selected years:\", \", \".join(smp_yrs))\n",
    "    \n",
    "    for file in sorted(os.listdir(data_in)):\n",
    "        year = re.sub(\"\\.txt\", \"\", file)\n",
    "        if smp_yrs != None:\n",
    "            if year not in smp_yrs:\n",
    "                continue\n",
    "        \n",
    "        if smp_sz != None:\n",
    "            no_exs   = stats[year][\"examples\"]\n",
    "            r_sample = iter(sorted(random.sample(range(no_exs), smp_sz))+[0])\n",
    "            r_line   = next(r_sample)\n",
    "        \n",
    "        file_out = open(data_out / file, \"w\")\n",
    "        file_out.close()\n",
    "        \n",
    "        with open(data_in / file, \"r\") as file_in, open(data_out / file, \"a\") as file_out:\n",
    "            print(\"Processing file:\", dir_in / file, end=\"\\r\")\n",
    "            \n",
    "            for i, line in enumerate(file_in):\n",
    "\n",
    "                if smp_sz != None:\n",
    "                    if i == r_line:\n",
    "                        #print(\"X\", line)\n",
    "                        #r_line = r_sample.pop(0)\n",
    "                        r_line = next(r_sample)\n",
    "                        file_out.write(line)\n",
    "                else:\n",
    "                    file_out.write(line)\n",
    "        #break\n",
    "    print()\n",
    "    print(\"Done!\")"
   ]
  },
  {
   "cell_type": "code",
   "execution_count": 6,
   "metadata": {},
   "outputs": [
    {
     "name": "stdout",
     "output_type": "stream",
     "text": [
      "Selected years: 2004, 2005, 2006, 2007, 2008, 2009, 2010, 2011, 2012, 2013, 2014\n",
      "Processing file: /home/max/Corpora/fb-pol-corpus/fb-pt-radical3/yearly/2014.txt\n",
      "Done!\n"
     ]
    }
   ],
   "source": [
    "sampler(dir_in, dir_out, smp_yrs, smp_sz, stats, bias_terms)"
   ]
  },
  {
   "cell_type": "code",
   "execution_count": null,
   "metadata": {},
   "outputs": [],
   "source": []
  },
  {
   "cell_type": "code",
   "execution_count": null,
   "metadata": {},
   "outputs": [],
   "source": []
  }
 ],
 "metadata": {
  "kernelspec": {
   "display_name": "Python 3",
   "language": "python",
   "name": "python3"
  },
  "language_info": {
   "codemirror_mode": {
    "name": "ipython",
    "version": 3
   },
   "file_extension": ".py",
   "mimetype": "text/x-python",
   "name": "python",
   "nbconvert_exporter": "python",
   "pygments_lexer": "ipython3",
   "version": "3.8.5"
  }
 },
 "nbformat": 4,
 "nbformat_minor": 4
}
