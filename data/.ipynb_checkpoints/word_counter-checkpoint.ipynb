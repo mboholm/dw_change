{
 "cells": [
  {
   "cell_type": "code",
   "execution_count": 5,
   "metadata": {},
   "outputs": [],
   "source": [
    "from collections import Counter\n",
    "import os\n",
    "import csv\n",
    "from pathlib import Path"
   ]
  },
  {
   "cell_type": "code",
   "execution_count": null,
   "metadata": {},
   "outputs": [],
   "source": [
    "#Assuming you have previously created the counter you want to write\n",
    "#lets say you stored the counter in a variable called cnter\n",
    "# with open('newfile.csv','w') as csvfile:\n",
    "#     fieldnames=['number','colour','number2','count']\n",
    "#     writer=csv.writer(csvfile)\n",
    "#     writer.writerow(fieldnames)\n",
    "#     for key, value in cnter.items():\n",
    "#         writer.writerow(list(key) + [value]) "
   ]
  },
  {
   "cell_type": "code",
   "execution_count": 10,
   "metadata": {},
   "outputs": [],
   "source": [
    "corpus    = Path(\"toy_diamat1\")\n",
    "vocab_dir = Path(\"vocab_toy_diamat1\")"
   ]
  },
  {
   "cell_type": "code",
   "execution_count": 11,
   "metadata": {},
   "outputs": [],
   "source": [
    "def count_save(corpus, output_dir, min_count=None):\n",
    "    for i, file in enumerate(os.listdir(corpus)):\n",
    "        print(f\"Processing {file} ({i} / {len(os.listdir(corpus))})\", end=\"\\r\")\n",
    "        word_counter = Counter()\n",
    "        with open(corpus / file) as f:\n",
    "            for line in f:\n",
    "                word_counter.update(line.split()) # Assumes corpus is preprocessed already\n",
    "        if min_count != None:\n",
    "            word_counter = Counter({w: c for w,c in word_counter.items() if c >= min_count})\n",
    "        \n",
    "        with open(output_dir / file, mode=\"w\", newline=\"\") as f:\n",
    "            writer=csv.writer(f, delimiter=\"\\t\")\n",
    "            for word, count in sorted(word_counter.items(), key=lambda x : x[1], reverse=True):\n",
    "                writer.writerow([word, count])\n",
    "    print()\n",
    "    print(\"Done!\")\n"
   ]
  },
  {
   "cell_type": "code",
   "execution_count": 12,
   "metadata": {},
   "outputs": [
    {
     "name": "stdout",
     "output_type": "stream",
     "text": [
      "Processing 2006.txt (0 / 23)\n",
      "Processing 2017.txt (1 / 23)\n",
      "Processing 2003.txt (2 / 23)\n",
      "Processing 2013.txt (3 / 23)\n",
      "Processing 2019.txt (4 / 23)\n",
      "Processing 2000.txt (5 / 23)\n",
      "Processing 2002.txt (6 / 23)\n",
      "Processing 2012.txt (7 / 23)\n",
      "Processing 2009.txt (8 / 23)\n",
      "Processing 2011.txt (9 / 23)\n",
      "Processing 2001.txt (10 / 23)\n",
      "Processing 2005.txt (11 / 23)\n",
      "Processing 2018.txt (12 / 23)\n",
      "Processing 2015.txt (13 / 23)\n",
      "Processing 2010.txt (14 / 23)\n",
      "Processing 2022.txt (15 / 23)\n",
      "Processing 2020.txt (16 / 23)\n",
      "Processing 2021.txt (17 / 23)\n",
      "Processing 2014.txt (18 / 23)\n",
      "Processing 2008.txt (19 / 23)\n",
      "Processing 2007.txt (20 / 23)\n",
      "Processing 2004.txt (21 / 23)\n",
      "Processing 2016.txt (22 / 23)\n"
     ]
    }
   ],
   "source": [
    "count_save(corpus, vocab_dir)"
   ]
  },
  {
   "cell_type": "code",
   "execution_count": null,
   "metadata": {},
   "outputs": [],
   "source": []
  }
 ],
 "metadata": {
  "kernelspec": {
   "display_name": "Python 3",
   "language": "python",
   "name": "python3"
  },
  "language_info": {
   "codemirror_mode": {
    "name": "ipython",
    "version": 3
   },
   "file_extension": ".py",
   "mimetype": "text/x-python",
   "name": "python",
   "nbconvert_exporter": "python",
   "pygments_lexer": "ipython3",
   "version": "3.8.5"
  }
 },
 "nbformat": 4,
 "nbformat_minor": 4
}
