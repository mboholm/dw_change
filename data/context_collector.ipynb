{
 "cells": [
  {
   "cell_type": "code",
   "execution_count": 1,
   "metadata": {},
   "outputs": [],
   "source": [
    "import re\n",
    "from pathlib import Path\n",
    "import os\n",
    "import time"
   ]
  },
  {
   "cell_type": "code",
   "execution_count": 2,
   "metadata": {},
   "outputs": [],
   "source": [
    "corpus_in = Path(\"/home/max/Corpora/flashback-pol-time/yearly/fb-pt-clean/files\")"
   ]
  },
  {
   "cell_type": "code",
   "execution_count": 10,
   "metadata": {},
   "outputs": [],
   "source": [
    "paradigm_path = Path(\"utils/dwts.paradigm\")"
   ]
  },
  {
   "cell_type": "code",
   "execution_count": 4,
   "metadata": {},
   "outputs": [],
   "source": [
    "corpus_out = Path(\"/home/max/Corpora/flashback-pol-time/yearly/contexts/files\")"
   ]
  },
  {
   "cell_type": "code",
   "execution_count": 14,
   "metadata": {},
   "outputs": [],
   "source": [
    "def read_util(file_path):\n",
    "    with open(file_path, \"r\") as f:\n",
    "        terms = [line.strip(\"\\n\").split(\"#\")[0] for line in f.readlines()]\n",
    "    terms = [term for term in terms if term != \"\"]\n",
    "    return terms "
   ]
  },
  {
   "cell_type": "code",
   "execution_count": 6,
   "metadata": {},
   "outputs": [],
   "source": [
    "def read_paradigm(file_path):\n",
    "    paradigms = read_util(file_path)\n",
    "    paradigms = [tuple([re.sub(r\" \\Z\", r\"\", column) for column in p.split(\" -> \")]) for p in paradigms]\n",
    "    return paradigms"
   ]
  },
  {
   "cell_type": "code",
   "execution_count": 39,
   "metadata": {},
   "outputs": [],
   "source": [
    "def parser(line, hit, paradigm):\n",
    "    \n",
    "    lemmas = []\n",
    "    \n",
    "    for pos, regex, lemma in paradigm:\n",
    "        regex = re.compile(regex)\n",
    "        if re.search(regex, line) != None:\n",
    "            cls = f\"{pos}_{lemma}\"\n",
    "            lemmas.append(cls)\n",
    "    \n",
    "    lemmas = lemmas if lemmas != [] else [f\"X_{hit.group()}\"]\n",
    "    \n",
    "    return \"{}\\t{}\\t{}\".format(\"; \".join(lemmas), len(lemmas), line)\n"
   ]
  },
  {
   "cell_type": "code",
   "execution_count": 35,
   "metadata": {},
   "outputs": [],
   "source": [
    "def context_collector(corpus_in, corpus_out, full_paradigm, stop=None):\n",
    "    \n",
    "    t0 = time.time()\n",
    "    corpus_in = Path(corpus_in)\n",
    "    corpus_out = Path(corpus_out)\n",
    "    files = sorted(os.listdir(corpus_in))\n",
    "    \n",
    "    roots, pos, regex, lemmas = zip(*read_paradigm(full_paradigm))\n",
    "\n",
    "    paradigm = list(zip(pos, regex, lemmas))\n",
    "    roots = set(roots)\n",
    "    roots = re.compile(r\"(\" + \"|\".join(roots) + \")\")\n",
    "\n",
    "    for k, file in enumerate(files, start=1):\n",
    "\n",
    "        if stop != None:\n",
    "            if k == stop:\n",
    "                return        \n",
    "\n",
    "        f_out = open(corpus_out / file, \"w\")\n",
    "        f_out.close()\n",
    "\n",
    "        with open(corpus_in / file, \"r\") as f_in, open(corpus_out / file, \"a\") as f_out:\n",
    "            year = file.strip(\".txt\")\n",
    "\n",
    "            for i, line in enumerate(f_in):\n",
    "\n",
    "                if i % 10000 == 0:\n",
    "                    print(f\"PROCESSED INPUT: {file} {k} / {len(files)}: {i:>10}\", end=\"\\r\")\n",
    "\n",
    "                \n",
    "                hit = re.search(roots, line) \n",
    "                if hit == None:\n",
    "                    continue \n",
    "                    \n",
    "                # get lemma(s), line \"LEM    EXAMPLE\"\n",
    "                line = line.strip(\"\\n\")\n",
    "                to_write = parser(line, hit, paradigm)\n",
    "\n",
    "                f_out.write(to_write + \"\\n\")\n",
    "    \n",
    "    delta_t = time.time() - t0\n",
    "    m = int(delta_t / 60)\n",
    "    s = int(delta_t / 60)\n",
    "    \n",
    "    print()\n",
    "    print(\"Done!\", f\"({m} m, {s} s)\")             "
   ]
  },
  {
   "cell_type": "code",
   "execution_count": 41,
   "metadata": {},
   "outputs": [
    {
     "name": "stdout",
     "output_type": "stream",
     "text": [
      "PROCESSED INPUT: 2022.txt 23 / 23:    3610000\n",
      "Done! (2 m, 2 s)\n"
     ]
    }
   ],
   "source": [
    "context_collector(corpus_in, corpus_out, paradigm_path, stop=None)"
   ]
  },
  {
   "cell_type": "code",
   "execution_count": null,
   "metadata": {},
   "outputs": [],
   "source": []
  }
 ],
 "metadata": {
  "kernelspec": {
   "display_name": "Python 3",
   "language": "python",
   "name": "python3"
  },
  "language_info": {
   "codemirror_mode": {
    "name": "ipython",
    "version": 3
   },
   "file_extension": ".py",
   "mimetype": "text/x-python",
   "name": "python",
   "nbconvert_exporter": "python",
   "pygments_lexer": "ipython3",
   "version": "3.8.5"
  }
 },
 "nbformat": 4,
 "nbformat_minor": 4
}
