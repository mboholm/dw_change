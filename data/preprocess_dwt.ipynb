{
 "cells": [
  {
   "cell_type": "code",
   "execution_count": 1,
   "metadata": {},
   "outputs": [],
   "source": [
    "import re\n",
    "from pathlib import Path\n",
    "import os\n",
    "import time"
   ]
  },
  {
   "cell_type": "markdown",
   "metadata": {},
   "source": [
    "\n",
    "Variation ...\n",
    "* N1_kulturberikaren  --  behövs kanske inte\n",
    "* N1_kulturberikare (lemma)\n",
    "* N1C_globalistmaffia -- behövs nog inte heller\n",
    "* N1C_globalistX\n",
    "* N1C_globalist maffia \n",
    "\n",
    "\n",
    "##### Original\n",
    "0. sv_compounds (original-original)\n",
    "1. en_compounds (original-enc)\n",
    "##### Lemmatized\n",
    "2. sv_compounds (lem-original)\n",
    "3. en_compounds (len-enc)\n",
    "    "
   ]
  },
  {
   "cell_type": "code",
   "execution_count": 2,
   "metadata": {},
   "outputs": [],
   "source": [
    "def read_util(file_path):\n",
    "    with open(file_path, \"r\") as f:\n",
    "        terms = [line.strip(\"\\n\").split(\"#\")[0] for line in f.readlines()]\n",
    "    terms = [term for term in terms if term != \"\"]\n",
    "    return terms "
   ]
  },
  {
   "cell_type": "code",
   "execution_count": 3,
   "metadata": {},
   "outputs": [],
   "source": [
    "def read_paradigm(file_path):\n",
    "    paradigms = read_util(file_path)\n",
    "    paradigms = [tuple([re.sub(r\" \\Z\", r\"\", column) for column in p.split(\" -> \")]) for p in paradigms]\n",
    "    return paradigms"
   ]
  },
  {
   "cell_type": "code",
   "execution_count": 4,
   "metadata": {},
   "outputs": [],
   "source": [
    "def enc(line, paradigm):\n",
    "   \n",
    "    for _, regex, lemma in paradigm:\n",
    "        if lemma.endswith(\"X\"): # see `.param` file\n",
    "            regex = re.compile(regex)\n",
    "            if re.search(regex, line):\n",
    "                #print(1, lemma, i, line)\n",
    "\n",
    "                line = re.sub(regex, r\"\\1 \\2\", line) # this will assume `(aaa)(bbb)`\n",
    "\n",
    "                #print(2, lemma, i, line)\n",
    "        \n",
    "    return line\n",
    "    \n",
    "def dwt_lem(line, paradigm):\n",
    "    \n",
    "    for pos, regex, lemma in paradigm:\n",
    "        if lemma == \"hjälpa_X_på_plats\":\n",
    "            continue\n",
    "        regex = re.compile(regex)\n",
    "        line = re.sub(regex, f\"{pos}_{lemma}\", line)\n",
    "    \n",
    "    return line"
   ]
  },
  {
   "cell_type": "code",
   "execution_count": 5,
   "metadata": {},
   "outputs": [],
   "source": [
    "def dwt_transformer(line, paradigm, mode):\n",
    "        \n",
    "    if mode == 1:\n",
    "        return enc(line, paradigm)\n",
    "    if mode == 2:\n",
    "        return dwt_lem(line, paradigm)\n",
    "    if mode == 3:\n",
    "        line = enc(line, paradigm)\n",
    "        line = dwt_lem(line, paradigm)\n",
    "        return line"
   ]
  },
  {
   "cell_type": "code",
   "execution_count": 6,
   "metadata": {},
   "outputs": [],
   "source": [
    "def preprocess_dwt(corpus_in, corpus_out, full_paradigm, log_dir, mode=1, stop=None):\n",
    "    \n",
    "    #global i\n",
    "    \n",
    "    t0 = time.time()\n",
    "    corpus_in = Path(corpus_in)\n",
    "    corpus_out = Path(corpus_out)\n",
    "    files = sorted(os.listdir(corpus_in))\n",
    "    \n",
    "    roots, pos, regex, lemmas = zip(*read_paradigm(full_paradigm))\n",
    "\n",
    "    paradigm = list(zip(pos, regex, lemmas))\n",
    "    roots = set(roots)\n",
    "    roots = re.compile(r\"(\" + \"|\".join(roots) + \")\")\n",
    "\n",
    "    for k, file in enumerate(files, start=1):\n",
    "\n",
    "        if stop != None:\n",
    "            if k == stop:\n",
    "                return        \n",
    "\n",
    "        f_out = open(corpus_out / file, \"w\")\n",
    "        f_out.close()\n",
    "\n",
    "        log_counter = 1\n",
    "        \n",
    "        log_file = file.strip(\".txt\") + \".log\"\n",
    "\n",
    "        with open(corpus_in / file, \"r\") as f_in, open(corpus_out / file, \"a\") as f_out, open(log_dir / log_file, \"w\") as log:\n",
    "            year = file.strip(\".txt\")\n",
    "\n",
    "            log.write(f\"\\n---  {file}  ---\\n\")\n",
    "\n",
    "            for i, line in enumerate(f_in):\n",
    "\n",
    "                if i % 10000 == 0:\n",
    "                    print(f\"{file} {k} / {len(files)}: {i}    \", end=\"\\r\")\n",
    "\n",
    "                if re.search(roots, line) == None:\n",
    "                    f_out.write(line)\n",
    "                    continue                \n",
    "\n",
    "                line_pp = dwt_transformer(line, paradigm, mode)\n",
    "\n",
    "                log.write(f\"============ {log_counter}\\n\")\n",
    "                log.write(line)\n",
    "\n",
    "                if line != line_pp:\n",
    "                    log.write(\"----------->\\n\")\n",
    "                    log.write(line_pp)\n",
    "                #print(line)\n",
    "\n",
    "                f_out.write(line_pp)\n",
    "\n",
    "                log_counter += 1\n",
    "\n",
    "    \n",
    "    delta_t = time.time() - t0\n",
    "    m = int(delta_t / 60)\n",
    "    s = int(delta_t / 60)\n",
    "    \n",
    "    print()\n",
    "    print(\"Done!\", f\"({m} m, {s} s)\")             "
   ]
  },
  {
   "cell_type": "code",
   "execution_count": 7,
   "metadata": {},
   "outputs": [],
   "source": [
    "def out_template(x):\n",
    "    return f\"/home/max/Corpora/flashback-pol-time/yearly/fb-pt-radical{x}/files\"\n",
    "def log_template(log_dir, x):\n",
    "    return log_dir / f\"radical{x}/\""
   ]
  },
  {
   "cell_type": "code",
   "execution_count": 8,
   "metadata": {},
   "outputs": [],
   "source": [
    "#corpus_in = Path(\"/home/max/Corpora/flashback-pol-time/yearly/fb-pt-clean-sgns/files/\")\n",
    "corpus_in = Path(\"/home/max/Corpora/familjeliv-smh-time/yearly/fm-sh-clean-sgns/files/\")"
   ]
  },
  {
   "cell_type": "code",
   "execution_count": 9,
   "metadata": {},
   "outputs": [],
   "source": [
    "paradigm = Path(\"utils/dwts.paradigm\")"
   ]
  },
  {
   "cell_type": "code",
   "execution_count": 10,
   "metadata": {},
   "outputs": [],
   "source": [
    "log_dir = Path(\"../../pp-log-dir\")"
   ]
  },
  {
   "cell_type": "code",
   "execution_count": 12,
   "metadata": {},
   "outputs": [
    {
     "name": "stdout",
     "output_type": "stream",
     "text": [
      "2022.txt 20 / 20: 110000     \n",
      "Done! (1 m, 1 s)\n"
     ]
    }
   ],
   "source": [
    "my_mode=3\n",
    "preprocess_dwt(\n",
    "    corpus_in = corpus_in, \n",
    "    #corpus_out = f\"/home/max/Corpora/flashback-pol-time/yearly/fb-pt-radical{my_mode}/files\", \n",
    "    corpus_out = f\"/home/max/Corpora/familjeliv-smh-time/yearly/fm-sh-radical{my_mode}/files\",\n",
    "    full_paradigm = paradigm, \n",
    "    log_dir = log_template(log_dir, my_mode), \n",
    "    mode=my_mode, \n",
    "    stop=None\n",
    ")"
   ]
  },
  {
   "cell_type": "code",
   "execution_count": null,
   "metadata": {
    "scrolled": true
   },
   "outputs": [],
   "source": [
    "# for mode in [1, 2, 3]:\n",
    "# #for mode in [3]:\n",
    "#     print()\n",
    "#     print(\"MODE =\", mode)\n",
    "#     print()\n",
    "#     preprocess_dwt(corpus_in, \n",
    "#                    out_template(mode), \n",
    "#                    paradigm, \n",
    "#                    log_template(log_dir, mode), \n",
    "#                    mode=mode, \n",
    "#                    stop=None)"
   ]
  },
  {
   "cell_type": "code",
   "execution_count": null,
   "metadata": {},
   "outputs": [],
   "source": []
  }
 ],
 "metadata": {
  "kernelspec": {
   "display_name": "Python 3",
   "language": "python",
   "name": "python3"
  },
  "language_info": {
   "codemirror_mode": {
    "name": "ipython",
    "version": 3
   },
   "file_extension": ".py",
   "mimetype": "text/x-python",
   "name": "python",
   "nbconvert_exporter": "python",
   "pygments_lexer": "ipython3",
   "version": "3.8.5"
  }
 },
 "nbformat": 4,
 "nbformat_minor": 4
}
