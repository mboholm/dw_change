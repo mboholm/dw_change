{
 "cells": [
  {
   "cell_type": "code",
   "execution_count": 1,
   "metadata": {},
   "outputs": [],
   "source": [
    "import re\n",
    "from pathlib import Path\n",
    "import os\n",
    "import time"
   ]
  },
  {
   "cell_type": "markdown",
   "metadata": {},
   "source": [
    "For all ...\n",
    "* remove emojis\n",
    "* remove \"..\", \"...\", \"....\" as words (r\"..+\")\n",
    "* rm \"-\", \"--\" (r\"--+\")\n",
    "* rm \".\", \",\", \":\" # why are these still left?\n",
    "* rm \">>\"\n",
    "* rm \"=)\", \":)\"\n",
    "* rm \":-\""
   ]
  },
  {
   "cell_type": "code",
   "execution_count": 2,
   "metadata": {},
   "outputs": [],
   "source": [
    "corpus_in = Path(\"/home/max/Corpora/fb-pol-corpus/flashback-pol-time/yearly\")\n",
    "corpus_out = Path(\"/home/max/Corpora/fb-pol-corpus/fb-pt-clean/yearly\")"
   ]
  },
  {
   "cell_type": "code",
   "execution_count": 20,
   "metadata": {},
   "outputs": [],
   "source": [
    "emoji_pattern = re.compile(\"[\"\n",
    "        u\"\\U0001F600-\\U0001F64F\"  # emoticons\n",
    "        u\"\\U0001F300-\\U0001F5FF\"  # symbols & pictographs\n",
    "        u\"\\U0001F680-\\U0001F6FF\"  # transport & map symbols\n",
    "        u\"\\U0001F1E0-\\U0001F1FF\"  # flags (iOS)\n",
    "                           \"]+\", flags=re.UNICODE)\n",
    "\n",
    "def preprocess2(corpus_in, corpus_out):\n",
    "    t0 = time.time()\n",
    "    corpus_in = Path(corpus_in)\n",
    "    corpus_out = Path(corpus_out)\n",
    "    files = sorted(os.listdir(corpus_in))\n",
    "\n",
    "    for k, file in enumerate(files, start=1):\n",
    "        \n",
    "        f_out = open(corpus_out / file, \"w\")\n",
    "        f_out.close()\n",
    "        \n",
    "        with open(corpus_in / file, \"r\") as f_in, open(corpus_out / file, \"a\") as f_out:\n",
    "            year = file.strip(\".txt\")\n",
    "            \n",
    "            for i, line in enumerate(f_in):\n",
    "                \n",
    "#                 if k > 2:\n",
    "#                     return \n",
    "                \n",
    "                if i % 10000 == 0:\n",
    "                    print(f\"{file} {k} / {len(files)}: {i}    \", end=\"\\r\")\n",
    "                \n",
    "                if line.strip(\"\\n\") == \"\":\n",
    "                    continue\n",
    "                \n",
    "                line = re.sub(emoji_pattern, \"\", line)\n",
    "                line = re.sub(r\"-+\", \"\", line)\n",
    "                line = re.sub(r\"\\.\\.+\", \"\", line)\n",
    "                line = re.sub(\":\", \"\", line)\n",
    "                line = re.sub(\",\", \"\", line)\n",
    "                line = re.sub(r\"  +\", \"\", line)\n",
    "                \n",
    "                # Some language recognition? Only include Swedish\n",
    "                \n",
    "                f_out.write(line)\n",
    "\n",
    "    \n",
    "    delta_t = time.time() - t0\n",
    "    m = int(delta_t / 60)\n",
    "    s = int(delta_t / 60)\n",
    "    \n",
    "    print()\n",
    "    print(\"Done!\", f\"({m} m, {s} s)\")             "
   ]
  },
  {
   "cell_type": "code",
   "execution_count": 21,
   "metadata": {
    "scrolled": true
   },
   "outputs": [
    {
     "name": "stdout",
     "output_type": "stream",
     "text": [
      "Done! (8 m, 8 s): 3730000    \n"
     ]
    }
   ],
   "source": [
    "preprocess2(corpus_in, corpus_out)"
   ]
  },
  {
   "cell_type": "code",
   "execution_count": null,
   "metadata": {},
   "outputs": [],
   "source": []
  }
 ],
 "metadata": {
  "kernelspec": {
   "display_name": "Python 3",
   "language": "python",
   "name": "python3"
  },
  "language_info": {
   "codemirror_mode": {
    "name": "ipython",
    "version": 3
   },
   "file_extension": ".py",
   "mimetype": "text/x-python",
   "name": "python",
   "nbconvert_exporter": "python",
   "pygments_lexer": "ipython3",
   "version": "3.8.5"
  }
 },
 "nbformat": 4,
 "nbformat_minor": 4
}
