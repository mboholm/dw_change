{
 "cells": [
  {
   "cell_type": "markdown",
   "metadata": {},
   "source": [
    "# Context Collector - Context per Term (CPT)"
   ]
  },
  {
   "cell_type": "code",
   "execution_count": 1,
   "metadata": {},
   "outputs": [],
   "source": [
    "import os\n",
    "from pathlib import Path\n",
    "import shutil"
   ]
  },
  {
   "cell_type": "code",
   "execution_count": null,
   "metadata": {},
   "outputs": [],
   "source": [
    "#vec_root = Path(\"/home/max/Corpora/flashback-pol-time/yearly/contexts/vectors/\")\n",
    "#ctx_root = Path(\"/home/max/Corpora/flashback-pol-time/yearly/contexts/files/\")\n",
    "#vpt_root = Path(\"/home/max/Corpora/flashback-pol-time/yearly/contexts_per_term/vectors/\")\n",
    "#xpt_root = Path(\"/home/max/Corpora/flashback-pol-time/yearly/contexts_per_term/files/\")"
   ]
  },
  {
   "cell_type": "code",
   "execution_count": 2,
   "metadata": {},
   "outputs": [],
   "source": [
    "vec_root = Path(\"/home/max/Corpora/familjeliv-smh-time/yearly/contexts/vectors/\")\n",
    "ctx_root = Path(\"/home/max/Corpora/familjeliv-smh-time/yearly/contexts/files/\")\n",
    "vpt_root = Path(\"/home/max/Corpora/familjeliv-smh-time/yearly/contexts_per_term/vectors/\")\n",
    "xpt_root = Path(\"/home/max/Corpora/familjeliv-smh-time/yearly/contexts_per_term/files/\")"
   ]
  },
  {
   "cell_type": "code",
   "execution_count": 3,
   "metadata": {},
   "outputs": [],
   "source": [
    "# find terms\n",
    "terms = set()\n",
    "for directory in os.listdir(vec_root):\n",
    "    for file in os.listdir(vec_root / directory):\n",
    "        with open(vec_root / directory / file) as f:\n",
    "            for line in f:\n",
    "                term, _ = tuple(line.strip(\"\\n\").split(\"\\t\"))\n",
    "                terms.add(term)\n",
    "    break"
   ]
  },
  {
   "cell_type": "code",
   "execution_count": 4,
   "metadata": {},
   "outputs": [
    {
     "data": {
      "text/plain": [
       "{'A1_globalistisk',\n",
       " 'N1C_berikareX',\n",
       " 'N1C_globalistX',\n",
       " 'N1C_kulturberikarX',\n",
       " 'N1C_återvandringsX',\n",
       " 'N1_berikare',\n",
       " 'N1_förortsgäng',\n",
       " 'N1_globalist',\n",
       " 'N1_kulturberikare',\n",
       " 'N1_återvandring',\n",
       " 'N2C_återvandrarX',\n",
       " 'N2_återvandrare',\n",
       " 'P1_ordning_och_reda_i_flyktingpolitiken',\n",
       " 'V1_berika',\n",
       " 'V1_hjälpa_på_plats',\n",
       " 'V1_kulturberika',\n",
       " 'V1_återvandra',\n",
       " 'V2_hjälpa_X_på_plats',\n",
       " 'X_berika',\n",
       " 'X_globalist',\n",
       " 'X_hjälpa betydligt fler på plats',\n",
       " 'X_hjälpa klimatproblemen \" på plats',\n",
       " 'X_hjälpa mig och beskriva lite om hur det går till från att ni får ett larm till personen är i säkerhet , eller i värsta fall ni hämtar någon som är så illa tilltygad att den förklaras död på plats',\n",
       " 'X_hjälpa oss att komma in i samhället alla är upptagna att ta emot fler fler och fler istället för att hjälpa på plats',\n",
       " 'X_hjälpa på plats',\n",
       " 'X_hjälpanläggningar på plats',\n",
       " 'X_hjälparbetare på plats',\n",
       " 'X_hjälparbetare till andra länder och donerar mycket till att bygga skolor etc på plats',\n",
       " 'X_hjälparbetarna lärde människorna på plats',\n",
       " 'X_hjälparbete på plats',\n",
       " 'X_hjälpare gör är att stanna , sätta på varningsblinkers , ( sätta upp varningstriangeln ) , kolla läget , springa fram till olycksbilen , öppna dörren / ta sig in i bilen , kolla om det finns personer med livshotande skador ( fri luftväg , medvetandegrad , medvetslösa utan andning / puls , starka blödningar , misstänkta nack / ryggskador , brott / öppna brott , skadat bäckenet , bältesmärken etc. , ta på sig handskar , åtgärda livshotande skador , ringer 112 , fortsätter med undersökningar och hjälp efter kunskap och behov tills att ambulansen anländer , lämnar över till ambulansen när de är på plats',\n",
       " 'X_hjälpas på plats',\n",
       " 'X_återvandr'}"
      ]
     },
     "execution_count": 4,
     "metadata": {},
     "output_type": "execute_result"
    }
   ],
   "source": [
    "terms"
   ]
  },
  {
   "cell_type": "code",
   "execution_count": 5,
   "metadata": {},
   "outputs": [],
   "source": [
    "selected_terms = [\n",
    " 'A1_globalistisk',\n",
    " 'N1C_berikareX',\n",
    " 'N1C_förortsgängX',\n",
    " 'N1C_globalistX',\n",
    " 'N1C_kulturberikarX',\n",
    " 'N1C_återvandringsX',\n",
    " 'N1_berikare',\n",
    " 'N1_förortsgäng',\n",
    " 'N1_globalist',\n",
    " 'N1_kulturberikare',\n",
    " 'N1_återvandring',\n",
    " 'N2C_återvandrarX',\n",
    " 'N2_återvandrare',\n",
    " 'P1_ordning_och_reda_i_flyktingpolitiken',\n",
    " 'P1_självständig_utrikespolitik',\n",
    " 'V1_berika',\n",
    " 'V1_hjälpa_på_plats',\n",
    " 'V1_kulturberika',\n",
    " 'V1_återvandra',\n",
    " 'V2_hjälpa_X_på_plats'\n",
    "]"
   ]
  },
  {
   "cell_type": "code",
   "execution_count": 6,
   "metadata": {},
   "outputs": [],
   "source": [
    "merger = {\n",
    "    \"N1C_berikareX\": \"N1_berikare\",\n",
    "    \"N1C_förortsgängX\": \"N1_förortsgäng\",\n",
    "    \"N1C_globalistX\": \"N1_globalist\",\n",
    "    \"N1C_kulturberikarX\": \"N1_kulturberikare\",\n",
    "    \"N1C_återvandringsX\": \"N1_återvandring\",\n",
    "    \"N2C_återvandrarX\": \"N2_återvandrare\",\n",
    "}"
   ]
  },
  {
   "cell_type": "code",
   "execution_count": 7,
   "metadata": {},
   "outputs": [
    {
     "data": {
      "text/plain": [
       "['A1_globalistisk',\n",
       " 'N1_berikare',\n",
       " 'N1_förortsgäng',\n",
       " 'N1_globalist',\n",
       " 'N1_kulturberikare',\n",
       " 'N1_återvandring',\n",
       " 'N2_återvandrare',\n",
       " 'P1_ordning_och_reda_i_flyktingpolitiken',\n",
       " 'P1_självständig_utrikespolitik',\n",
       " 'V1_berika',\n",
       " 'V1_hjälpa_på_plats',\n",
       " 'V1_kulturberika',\n",
       " 'V1_återvandra',\n",
       " 'V2_hjälpa_X_på_plats']"
      ]
     },
     "execution_count": 7,
     "metadata": {},
     "output_type": "execute_result"
    }
   ],
   "source": [
    "# restrict terms\n",
    "merge = True\n",
    "if merge:\n",
    "    selected_terms = [term for term in selected_terms if term not in merger]\n",
    "selected_terms"
   ]
  },
  {
   "cell_type": "code",
   "execution_count": 8,
   "metadata": {},
   "outputs": [],
   "source": [
    "# create files for vectors per term\n",
    "for directory in os.listdir(vec_root): # fb_nli etc.\n",
    "    os.mkdir(vpt_root / directory)\n",
    "    for x in selected_terms:\n",
    "        file = open(vpt_root / directory / f\"{x}.txt\", mode = \"x\")\n",
    "        file.close()"
   ]
  },
  {
   "cell_type": "code",
   "execution_count": 9,
   "metadata": {},
   "outputs": [],
   "source": [
    "# create files for contexts (words) per term\n",
    "for x in selected_terms:\n",
    "    file = open(xpt_root / f\"{x}.txt\", mode = \"x\")\n",
    "    file.close()"
   ]
  },
  {
   "cell_type": "code",
   "execution_count": 10,
   "metadata": {},
   "outputs": [],
   "source": [
    "# count \n",
    "total = 0\n",
    "for directory in os.listdir(vec_root):\n",
    "    for file in os.listdir(vec_root / directory):\n",
    "        with open(vec_root / directory / file) as f:\n",
    "            for line in f:\n",
    "                term = line.split(\"\\t\")[0]\n",
    "                \n",
    "                if merge:\n",
    "                    if term in merger:\n",
    "                        term = merger[term]\n",
    "                \n",
    "                if term in selected_terms:\n",
    "                    total += 1\n",
    "    break"
   ]
  },
  {
   "cell_type": "code",
   "execution_count": 11,
   "metadata": {},
   "outputs": [
    {
     "data": {
      "text/plain": [
       "4281"
      ]
     },
     "execution_count": 11,
     "metadata": {},
     "output_type": "execute_result"
    }
   ],
   "source": [
    "total"
   ]
  },
  {
   "cell_type": "code",
   "execution_count": 12,
   "metadata": {},
   "outputs": [
    {
     "name": "stdout",
     "output_type": "stream",
     "text": [
      "sentence-bert-swedish-cased\n",
      "99.977 %\n"
     ]
    }
   ],
   "source": [
    "# build context per term - vectors (CPT)\n",
    "for directory in os.listdir(vec_root):\n",
    "    count = 0\n",
    "    print(directory)\n",
    "    for file in sorted(os.listdir(vec_root / directory)):\n",
    "        year = file.replace(\".txt\", \"\")\n",
    "        with open(vec_root / directory / file) as f: \n",
    "            for line in f:\n",
    "                term, vector = tuple(line.strip(\"\\n\").split(\"\\t\"))\n",
    "                #context = context.strip(\"\\n\")\n",
    "\n",
    "                if merge:\n",
    "                    if term in merger:\n",
    "                        term = merger[term]                \n",
    "                \n",
    "                if term not in selected_terms:\n",
    "                    continue\n",
    "                filename = f\"{term}.txt\"\n",
    "                \n",
    "                with open(vpt_root / directory / filename, mode=\"a\") as g:\n",
    "                    g.write(f\"{year}\\t{vector}\\n\")\n",
    "                print(round((count / total)*100, 3), \"%\", end=\"\\r\")\n",
    "                count += 1\n",
    "    print()"
   ]
  },
  {
   "cell_type": "code",
   "execution_count": 13,
   "metadata": {},
   "outputs": [
    {
     "name": "stdout",
     "output_type": "stream",
     "text": [
      "99.977 %\n",
      "4281\n"
     ]
    }
   ],
   "source": [
    "# build context per term - words (XPT) \n",
    "count = 0\n",
    "for file in sorted(os.listdir(ctx_root)):\n",
    "    year = file.replace(\".txt\", \"\")\n",
    "    with open(ctx_root / file) as f: \n",
    "        for line in f:\n",
    "            terms, n_typ, context = tuple(line.strip(\"\\n\").split(\"\\t\"))\n",
    "            #context = context.strip(\"\\n\")\n",
    "            \n",
    "            for term in terms.split(\"; \"):\n",
    "\n",
    "                if merge:\n",
    "                    if term in merger:\n",
    "                        term = merger[term]                \n",
    "\n",
    "                if term not in selected_terms:\n",
    "                    continue\n",
    "\n",
    "                filename = f\"{term}.txt\"\n",
    "\n",
    "                with open(xpt_root / filename, mode=\"a\") as g:\n",
    "                    g.write(f\"{year}\\t{context}\\n\")\n",
    "                print(round((count / total)*100, 3), \"%\", end=\"\\r\")\n",
    "                count += 1\n",
    "print()\n",
    "print(count)"
   ]
  },
  {
   "cell_type": "code",
   "execution_count": null,
   "metadata": {},
   "outputs": [],
   "source": []
  }
 ],
 "metadata": {
  "kernelspec": {
   "display_name": "Python 3",
   "language": "python",
   "name": "python3"
  },
  "language_info": {
   "codemirror_mode": {
    "name": "ipython",
    "version": 3
   },
   "file_extension": ".py",
   "mimetype": "text/x-python",
   "name": "python",
   "nbconvert_exporter": "python",
   "pygments_lexer": "ipython3",
   "version": "3.8.5"
  }
 },
 "nbformat": 4,
 "nbformat_minor": 4
}
