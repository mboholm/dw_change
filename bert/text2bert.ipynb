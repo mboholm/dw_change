{
 "cells": [
  {
   "cell_type": "code",
   "execution_count": 1,
   "metadata": {},
   "outputs": [],
   "source": [
    "from sentence_transformers import SentenceTransformer\n",
    "import os\n",
    "import numpy as np\n",
    "from pathlib import Path\n",
    "import time"
   ]
  },
  {
   "cell_type": "code",
   "execution_count": 2,
   "metadata": {},
   "outputs": [
    {
     "name": "stdout",
     "output_type": "stream",
     "text": [
      "1.24.2\n"
     ]
    }
   ],
   "source": [
    "print(np.__version__) # sentence_transformer complaints if numpy > 1.19.5 is used"
   ]
  },
  {
   "cell_type": "code",
   "execution_count": null,
   "metadata": {},
   "outputs": [],
   "source": [
    "# sentences = [\"Det här är en exempelmening\", \"Varje exempel blir konverterad\"]\n",
    "# #model = SentenceTransformer('KBLab/sentence-bert-swedish-cased')\n",
    "# model = SentenceTransformer(\"/home/max/Models/sentenceBERT/sts_fbmodel\")\n",
    "# embeddings = model.encode(sentences)\n",
    "# print(embeddings.shape)\n",
    "# print(np.array2string(embeddings))\n",
    "# embeddings"
   ]
  },
  {
   "cell_type": "code",
   "execution_count": 3,
   "metadata": {
    "scrolled": true
   },
   "outputs": [
    {
     "data": {
      "text/plain": [
       "['sts_fbmodel_big_40epochs', 'fb_nli', 'sts_fbmodel']"
      ]
     },
     "execution_count": 3,
     "metadata": {},
     "output_type": "execute_result"
    }
   ],
   "source": [
    "os.listdir(Path(\"/home/max/Models/sentenceBERT\"))"
   ]
  },
  {
   "cell_type": "code",
   "execution_count": null,
   "metadata": {},
   "outputs": [],
   "source": [
    "#\"/home/max/Models/sentenceBERT/fb_nli\".split(\"/\")"
   ]
  },
  {
   "cell_type": "code",
   "execution_count": 4,
   "metadata": {},
   "outputs": [],
   "source": [
    "def naming(full_path):\n",
    "    return full_path.split(\"/\")[-1]"
   ]
  },
  {
   "cell_type": "code",
   "execution_count": 5,
   "metadata": {},
   "outputs": [],
   "source": [
    "def text2bert(corpus, models, out_dir, stop=None):\n",
    "    \n",
    "    t0 = time.time()\n",
    "    \n",
    "    corpus = Path(corpus)\n",
    "    out_dir = Path(out_dir)\n",
    "    \n",
    "    for model in models:\n",
    "        print()\n",
    "        print(naming(model))\n",
    "        sBERT = SentenceTransformer(model)\n",
    "        for i, file in enumerate(sorted(os.listdir(corpus))):\n",
    "            if stop != None:\n",
    "                if i == stop:\n",
    "                    return\n",
    "            print(file.strip(\".txt\"), int((time.time()-t0)/60), \"m.\", end=\"\\r\")\n",
    "            with open(corpus/file, \"r\") as f_in, open(out_dir/f\"{naming(model)}/{file}\", \"w\") as f_out:\n",
    "                for line in f_in:\n",
    "                    term, n, sentence = tuple([col for col in line.strip(\"\\n\").split(\"\\t\")])\n",
    "                    vector = sBERT.encode(sentence)\n",
    "                    as_str = \" \".join([str(value) for value in vector.tolist()])\n",
    "                    if int(n) < 2:\n",
    "                        f_out.write(f\"{term}\\t{as_str}\\n\")\n",
    "                    else:\n",
    "                        for t in term.split(\"; \"):\n",
    "                            f_out.write(f\"{t}\\t{as_str}\\n\")\n",
    "    \n",
    "    print()\n",
    "    print(\"Done!\", int((time.time()-t0)/60), \"m.\")"
   ]
  },
  {
   "cell_type": "code",
   "execution_count": 6,
   "metadata": {},
   "outputs": [],
   "source": [
    "where_my_models_are = \"/home/max/Models/sentenceBERT\"\n",
    "models = set([f\"{where_my_models_are}/{model}\" for model in os.listdir(where_my_models_are)])"
   ]
  },
  {
   "cell_type": "code",
   "execution_count": 7,
   "metadata": {
    "scrolled": true
   },
   "outputs": [
    {
     "data": {
      "text/plain": [
       "{'/home/max/Models/sentenceBERT/fb_nli',\n",
       " '/home/max/Models/sentenceBERT/sts_fbmodel',\n",
       " '/home/max/Models/sentenceBERT/sts_fbmodel_big_40epochs'}"
      ]
     },
     "execution_count": 7,
     "metadata": {},
     "output_type": "execute_result"
    }
   ],
   "source": [
    "models"
   ]
  },
  {
   "cell_type": "code",
   "execution_count": 8,
   "metadata": {},
   "outputs": [],
   "source": [
    "models.add(\"KBLab/sentence-bert-swedish-cased\")"
   ]
  },
  {
   "cell_type": "code",
   "execution_count": 9,
   "metadata": {},
   "outputs": [
    {
     "data": {
      "text/plain": [
       "{'/home/max/Models/sentenceBERT/fb_nli',\n",
       " '/home/max/Models/sentenceBERT/sts_fbmodel',\n",
       " '/home/max/Models/sentenceBERT/sts_fbmodel_big_40epochs',\n",
       " 'KBLab/sentence-bert-swedish-cased'}"
      ]
     },
     "execution_count": 9,
     "metadata": {},
     "output_type": "execute_result"
    }
   ],
   "source": [
    "models"
   ]
  },
  {
   "cell_type": "code",
   "execution_count": null,
   "metadata": {},
   "outputs": [],
   "source": [
    "#numpy.get_printoptions()['linewidth']"
   ]
  },
  {
   "cell_type": "code",
   "execution_count": 10,
   "metadata": {},
   "outputs": [
    {
     "name": "stdout",
     "output_type": "stream",
     "text": [
      "\n",
      "sentence-bert-swedish-cased\n",
      "files 7 m.\n",
      "Done! 7 m.\n"
     ]
    }
   ],
   "source": [
    "text2bert(\n",
    "    corpus=Path(\"/home/max/Corpora/familjeliv-smh-time/yearly/contexts/files/\"), \n",
    "    models=['KBLab/sentence-bert-swedish-cased'], \n",
    "    out_dir=Path(\"/home/max/Corpora/familjeliv-smh-time/yearly/contexts/vectors/\")\n",
    ")"
   ]
  },
  {
   "cell_type": "code",
   "execution_count": null,
   "metadata": {},
   "outputs": [],
   "source": [
    "corpus = Path(\"/home/max/Corpora/flashback-pol-time/yearly/contexts/files\")\n",
    "out_dir = Path(\"/home/max/Corpora/flashback-pol-time/yearly/contexts/vectors\")\n",
    "text2bert(corpus, models, out_dir)\n",
    "#text2bert(corpus, list(models)[:1], out_dir, stop = 2)"
   ]
  },
  {
   "cell_type": "code",
   "execution_count": null,
   "metadata": {},
   "outputs": [],
   "source": [
    "# 16 kb --> 1.7 mb\n",
    "#1700000 / 16000"
   ]
  },
  {
   "cell_type": "code",
   "execution_count": null,
   "metadata": {},
   "outputs": [],
   "source": []
  }
 ],
 "metadata": {
  "kernelspec": {
   "display_name": "Python 3",
   "language": "python",
   "name": "python3"
  },
  "language_info": {
   "codemirror_mode": {
    "name": "ipython",
    "version": 3
   },
   "file_extension": ".py",
   "mimetype": "text/x-python",
   "name": "python",
   "nbconvert_exporter": "python",
   "pygments_lexer": "ipython3",
   "version": "3.8.5"
  }
 },
 "nbformat": 4,
 "nbformat_minor": 4
}
