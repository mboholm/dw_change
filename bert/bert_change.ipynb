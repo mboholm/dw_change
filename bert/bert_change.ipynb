{
 "cells": [
  {
   "cell_type": "markdown",
   "metadata": {},
   "source": [
    "```\n",
    "for model in models:\n",
    "    previous_year = None\n",
    "    for i, file in enumerate(files, start = 1):\n",
    "        this_year = dict()\n",
    "        for term, vector in file:\n",
    "            APPEND(vector, this_year.term.vectors)\n",
    "        \n",
    "        this_year.term.mean  = MEAN(this_year.term.vectors)        # centroid\n",
    "        this_year.term.width = MEAN_SIMILARITY(terms.term.vectors) # average pairwise cosine similarity \n",
    "        \n",
    "        SAVE(this_year.term.mean, emb_file)\n",
    "        SAVE(this_year.term.width, wdt_file)\n",
    "        \n",
    "        if i > 1:\n",
    "            SAVE(COS_CHANGE(previous_year.term.mean, this_year.term.mean), gch_file)\n",
    "            SAVE(COS_SIM(previous_year.term.mean, this_year.term.mean), gsim_file)\n",
    "            SAVE(CHNG_WIDTH(previous_year.term.width, this_year.term.width), chw_file)\n",
    "            \n",
    "            for c in n_controls:\n",
    "                mega = previous_year.term.vectors + this_year.term.vectors\n",
    "                shuffle(mega)\n",
    "                cutoff = int(len(mega)/2)\n",
    "                ctrl1 = mega[:cutoff]\n",
    "                ctrl2 = mega[cutoff:]\n",
    "\n",
    "                SAVE(COS_CHANGE(ctrl1, ctrl2), chng_file_ctrl_c)\n",
    "                SAVE(COS_SIM(ctrl1, ctrl2), sim_file_ctrl_c)\n",
    "                \n",
    "            del mega\n",
    "            \n",
    "        previous_year = this_year \n",
    "\n",
    "```"
   ]
  },
  {
   "cell_type": "code",
   "execution_count": 1,
   "metadata": {},
   "outputs": [],
   "source": [
    "import os\n",
    "from pathlib import Path\n",
    "import numpy as np\n",
    "from sklearn.metrics.pairwise import cosine_similarity as sk_cos\n",
    "import pandas as pd\n",
    "import random\n",
    "import tracemalloc\n",
    "import time"
   ]
  },
  {
   "cell_type": "code",
   "execution_count": 2,
   "metadata": {},
   "outputs": [],
   "source": [
    "random.seed(111)"
   ]
  },
  {
   "cell_type": "code",
   "execution_count": 3,
   "metadata": {},
   "outputs": [],
   "source": [
    "def np_cos(v1, v2):\n",
    "    return np.dot(v1, v2) / (np.linalg.norm(v1)*np.linalg.norm(v2))"
   ]
  },
  {
   "cell_type": "code",
   "execution_count": 4,
   "metadata": {},
   "outputs": [],
   "source": [
    "def angular_distance(v1, v2):\n",
    "    return np.arccos(np_cos(v1,v2)) / np.pi"
   ]
  },
  {
   "cell_type": "code",
   "execution_count": 5,
   "metadata": {},
   "outputs": [],
   "source": [
    "def upc_mean0(lst, function): # Mean of Unique Pairwise Comparison \n",
    "    # Very ineffecient\n",
    "    \n",
    "    if len(lst) == 1:\n",
    "        return np.nan\n",
    "    \n",
    "    total = []\n",
    "\n",
    "    for i, x in enumerate(lst, start=1): # Obs! start = 1\n",
    "        for y in lst[i:]:\n",
    "            total.append(function(x, y)) \n",
    "    \n",
    "    M = sum(total)/len(total)\n",
    "    \n",
    "    return M"
   ]
  },
  {
   "cell_type": "code",
   "execution_count": 6,
   "metadata": {},
   "outputs": [],
   "source": [
    "def upc_mean(lst, function=sk_cos):\n",
    "    \n",
    "    if len(lst) == 1:\n",
    "        return np.nan    \n",
    "    \n",
    "    matrix = function(lst)\n",
    "    \n",
    "    L    = len(lst)\n",
    "    S    = matrix.sum()\n",
    "    adjS = S - L    # Remove diagonal ; 1.0 x N\n",
    "    adjS = adjS / 2 # Remove duplicates from upper AND lower half in matrix\n",
    "    N    = ((L*L) - L) / 2\n",
    "    \n",
    "    M = adjS / N \n",
    "    \n",
    "    return M\n",
    "    "
   ]
  },
  {
   "cell_type": "code",
   "execution_count": 17,
   "metadata": {},
   "outputs": [],
   "source": [
    "def iline(line):\n",
    "    line = line.strip(\"\\n\")\n",
    "    line = line.split(\"\\t\")\n",
    "    term = line[0]\n",
    "    if len(term.split()) > 1:\n",
    "        term = \"_\".join(term.split()[:3])\n",
    "    vector = [float(value) for value in line[-1].split()]\n",
    "    return term, vector"
   ]
  },
  {
   "cell_type": "code",
   "execution_count": 8,
   "metadata": {},
   "outputs": [],
   "source": [
    "def centroid(vectors):\n",
    "    arr = np.array(vectors)\n",
    "    return np.mean(arr, axis=0)"
   ]
  },
  {
   "cell_type": "code",
   "execution_count": 9,
   "metadata": {},
   "outputs": [],
   "source": [
    "def status_report(memory0, t0, prefix=\"\"):\n",
    "    norm, unit = (1000000, \"MB\")\n",
    "    memory1 = tracemalloc.get_traced_memory()\n",
    "    memory  = round(memory1[0]/norm, 1)\n",
    "    memory_delta = round((memory1[0]-memory0[0])/norm, 1)\n",
    "    memory0 = memory1\n",
    "    t_delta = time.time() - t0\n",
    "    m = int(t_delta/60)\n",
    "    s = int(t_delta%60)\n",
    "    print(f\"#{prefix}--memory={memory} {unit}; {m} m {s} s.                   \", end=\"\\r\")     "
   ]
  },
  {
   "cell_type": "code",
   "execution_count": 21,
   "metadata": {},
   "outputs": [],
   "source": [
    "def semantic_change(model, out_dir, n_controls):\n",
    "\n",
    "    tracemalloc.start()\n",
    "    memory0 = (0,0)\n",
    "    t0 = time.time()    \n",
    "\n",
    "    model = Path(model)\n",
    "    files = os.listdir(model)\n",
    "    files.sort()\n",
    "    previous_year = {}\n",
    "    \n",
    "    for i, file in enumerate(files, start=1):\n",
    "        print()\n",
    "        print(model, file)\n",
    "        this_year = {\"year\": file.strip(\".txt\"), \"data\": {}}\n",
    "\n",
    "        # Get data\n",
    "        with open(model/file, \"r\") as f:\n",
    "            for j, line in enumerate(f):\n",
    "\n",
    "                if j % 300 == 0:\n",
    "                    status_report(memory0, t0, prefix=f\"Line {j} of file\")\n",
    "\n",
    "                term, vector = iline(line)\n",
    "                if term in this_year[\"data\"]:\n",
    "                    this_year[\"data\"][term][\"vector\"].append(vector)\n",
    "                else:\n",
    "                    this_year[\"data\"][term] = {\"vector\": [vector]}\n",
    "\n",
    "        status_report(memory0, t0, prefix=\"Input done\")\n",
    "\n",
    "        # Centroid, Spread\n",
    "        with open(out_dir/f\"centroid/{file}\", \"w\") as emb, open(out_dir/f\"spread/{file}\", \"w\") as wdt: \n",
    "            for term in sorted(this_year[\"data\"].keys()):\n",
    "\n",
    "                cntr = centroid(this_year[\"data\"][term][\"vector\"])\n",
    "                this_year[\"data\"][term][\"mean\"] = cntr\n",
    "                emb.write(f\"{term}\\t{cntr}\\n\") \n",
    "\n",
    "                status_report(memory0, t0, prefix=f\"Starting UPC: {term}\")\n",
    "                \n",
    "                spread = upc_mean(this_year[\"data\"][term][\"vector\"])\n",
    "                ################  TO BE REMOVED   ##################\n",
    "                if spread > 1.000001: \n",
    "                    # There is some rounding issue ... Noble et al observed somthing similar; identical vectors have cos_sin > 1.0\n",
    "                    \n",
    "                    print(\"Something went wrong!\")\n",
    "                    print(\"Spread =\", spread)\n",
    "                    \n",
    "                    vecs = this_year[\"data\"][term][\"vector\"]\n",
    "                    L    = len(vecs)\n",
    "                    print(\"L\", L)\n",
    "                    mtrx = sk_cos(vecs)\n",
    "                    df   = pd.DataFrame(mtrx)\n",
    "                    upc0 = upc_mean0(vecs, function=np_cos)\n",
    "                    \n",
    "                    print(\"UPC0:\", upc0)\n",
    "                    print(df.round(3))\n",
    "                    print(\"Matrix sum\", mtrx.sum())\n",
    "                    print(\"Adjusted Sum\", (mtrx.sum() - len(vecs))/2)\n",
    "                    print(\"Adjusted N\", ((L*L) - L) / 2)\n",
    "                    print()\n",
    "                    \n",
    "                    return\n",
    "                #####################################################\n",
    "                this_year[\"data\"][term][\"spread\"] = spread\n",
    "                wdt.write(f\"{term}\\t{spread}\\n\")\n",
    "\n",
    "        status_report(memory0, t0, prefix=\"Centroids, Spread done\")\n",
    "\n",
    "        # Change and controls\n",
    "        if i > 1:\n",
    "            yi = previous_year[\"year\"]\n",
    "            yj = this_year[\"year\"]\n",
    "            \n",
    "            shared_terms = [term for term in this_year[\"data\"].keys() if term in previous_year[\"data\"].keys()]\n",
    "\n",
    "            # Genuine change\n",
    "            with open(out_dir/f\"cosine_change/{yi}_{yj}_genuine.txt\", \"w\") as f:\n",
    "                for term in shared_terms:\n",
    "                    gch = angular_distance(previous_year[\"data\"][term][\"mean\"], this_year[\"data\"][term][\"mean\"])\n",
    "                    f.write(f\"{term}\\t{gch}\\n\")\n",
    "\n",
    "            # Genuine similarity\n",
    "            with open(out_dir/f\"cosine_sim/{yi}_{yj}_genuine.txt\", \"w\") as f:\n",
    "                for term in shared_terms:\n",
    "                    sim = np_cos(previous_year[\"data\"][term][\"mean\"], this_year[\"data\"][term][\"mean\"])\n",
    "                    f.write(f\"{term}\\t{sim}\\n\")\n",
    "\n",
    "            status_report(memory0, t0, prefix=\"Start Control\")\n",
    "\n",
    "            # Controls\n",
    "            control = {c: {} for c in range(1, n_controls+1)}\n",
    "            for c in range(1, n_controls+1):\n",
    "                status_report(memory0, t0, prefix=f\"Control: {c}\")\n",
    "                for term in shared_terms:\n",
    "                    control[c][term]={}\n",
    "                    mega = previous_year[\"data\"][term][\"vector\"] + this_year[\"data\"][term][\"vector\"]\n",
    "\n",
    "                    random.shuffle(mega)\n",
    "                    cutoff = int(len(mega)/2)\n",
    "                    ctrl1 = mega[:cutoff]\n",
    "                    ctrl2 = mega[cutoff:]\n",
    "                    mean1 = centroid(ctrl1)\n",
    "                    mean2 = centroid(ctrl2)\n",
    "\n",
    "                    # can you calculate rectified value for spread?\n",
    "\n",
    "                    control[c][term][\"cch\"] = angular_distance(mean1, mean2)\n",
    "                    control[c][term][\"csim\"] = np_cos(mean1, mean2)\n",
    "\n",
    "            #del mega\n",
    "\n",
    "            #status_report(memory0, t0)\n",
    "\n",
    "            for n in control.keys():\n",
    "                with open(out_dir/f\"cosine_change/{yi}_{yj}_control{n}.txt\", \"w\") as f:\n",
    "                    for term in control[n].keys():\n",
    "                        cch = control[n][term][\"cch\"]\n",
    "                        f.write(f\"{term}\\t{cch}\\n\")\n",
    "\n",
    "                with open(out_dir/f\"cosine_sim/{yi}_{yj}_control{n}.txt\", \"w\") as f:\n",
    "                    for term in control[n].keys():\n",
    "                        sim = control[n][term][\"csim\"]\n",
    "                        f.write(f\"{term}\\t{sim}\\n\")                            \n",
    "\n",
    "        previous_year = {k:v for k,v in this_year.items()}\n",
    "        \n"
   ]
  },
  {
   "cell_type": "code",
   "execution_count": 22,
   "metadata": {},
   "outputs": [],
   "source": [
    "def multiple(models, results, n_controls):\n",
    "    \n",
    "    for model in os.listdir(models):\n",
    "        model = Path(model)\n",
    "        semantic_change(\n",
    "            model = models / model, \n",
    "            out_dir = results / model, \n",
    "            n_controls = n_controls)\n",
    "        \n",
    "    "
   ]
  },
  {
   "cell_type": "code",
   "execution_count": 23,
   "metadata": {
    "scrolled": true
   },
   "outputs": [
    {
     "name": "stdout",
     "output_type": "stream",
     "text": [
      "\n",
      "/home/max/Corpora/flashback-pol-time/yearly/contexts/vectors/sts_fbmodel_big_40epochs 2000.txt\n",
      "#Centroids, Spread done--memory=4.1 MB; 0 m 0 s.                               \n",
      "/home/max/Corpora/flashback-pol-time/yearly/contexts/vectors/sts_fbmodel_big_40epochs 2001.txt\n",
      "#Control: 10--memory=5.7 MB; 0 m 0 s.                                       \n",
      "/home/max/Corpora/flashback-pol-time/yearly/contexts/vectors/sts_fbmodel_big_40epochs 2002.txt\n",
      "#Control: 10--memory=3.9 MB; 0 m 1 s.                                       \n",
      "/home/max/Corpora/flashback-pol-time/yearly/contexts/vectors/sts_fbmodel_big_40epochs 2003.txt\n",
      "#Control: 10--memory=3.1 MB; 0 m 1 s.                                       \n",
      "/home/max/Corpora/flashback-pol-time/yearly/contexts/vectors/sts_fbmodel_big_40epochs 2004.txt\n",
      "#Control: 10--memory=4.1 MB; 0 m 1 s.                                          \n",
      "/home/max/Corpora/flashback-pol-time/yearly/contexts/vectors/sts_fbmodel_big_40epochs 2005.txt\n",
      "#Control: 10--memory=6.4 MB; 0 m 2 s.                                          \n",
      "/home/max/Corpora/flashback-pol-time/yearly/contexts/vectors/sts_fbmodel_big_40epochs 2006.txt\n",
      "#Control: 10--memory=12.2 MB; 0 m 3 s.                                                    \n",
      "/home/max/Corpora/flashback-pol-time/yearly/contexts/vectors/sts_fbmodel_big_40epochs 2007.txt\n",
      "#Control: 10--memory=43.0 MB; 0 m 6 s.                                                    \n",
      "/home/max/Corpora/flashback-pol-time/yearly/contexts/vectors/sts_fbmodel_big_40epochs 2008.txt\n",
      "#Control: 10--memory=120.8 MB; 0 m 13 s.                                                    \n",
      "/home/max/Corpora/flashback-pol-time/yearly/contexts/vectors/sts_fbmodel_big_40epochs 2009.txt\n",
      "#Control: 10--memory=180.7 MB; 0 m 22 s.                                                    \n",
      "/home/max/Corpora/flashback-pol-time/yearly/contexts/vectors/sts_fbmodel_big_40epochs 2010.txt\n",
      "#Control: 10--memory=203.1 MB; 0 m 32 s.                                                    \n",
      "/home/max/Corpora/flashback-pol-time/yearly/contexts/vectors/sts_fbmodel_big_40epochs 2011.txt\n",
      "#Control: 10--memory=204.5 MB; 0 m 42 s.                                                       \n",
      "/home/max/Corpora/flashback-pol-time/yearly/contexts/vectors/sts_fbmodel_big_40epochs 2012.txt\n",
      "#Control: 10--memory=200.7 MB; 0 m 52 s.                                                         \n",
      "/home/max/Corpora/flashback-pol-time/yearly/contexts/vectors/sts_fbmodel_big_40epochs 2013.txt\n",
      "#Control: 10--memory=193.0 MB; 1 m 1 s.                                                        \n",
      "/home/max/Corpora/flashback-pol-time/yearly/contexts/vectors/sts_fbmodel_big_40epochs 2014.txt\n",
      "#Control: 10--memory=166.7 MB; 1 m 9 s.                                                    \n",
      "/home/max/Corpora/flashback-pol-time/yearly/contexts/vectors/sts_fbmodel_big_40epochs 2015.txt\n",
      "#Control: 10--memory=161.7 MB; 1 m 18 s.                                                             \n",
      "/home/max/Corpora/flashback-pol-time/yearly/contexts/vectors/sts_fbmodel_big_40epochs 2016.txt\n",
      "#Control: 10--memory=192.9 MB; 1 m 28 s.                                                             \n",
      "/home/max/Corpora/flashback-pol-time/yearly/contexts/vectors/sts_fbmodel_big_40epochs 2017.txt\n",
      "#Control: 10--memory=223.6 MB; 1 m 38 s.                                                             \n",
      "/home/max/Corpora/flashback-pol-time/yearly/contexts/vectors/sts_fbmodel_big_40epochs 2018.txt\n",
      "#Control: 10--memory=351.4 MB; 1 m 57 s.                                                             \n",
      "/home/max/Corpora/flashback-pol-time/yearly/contexts/vectors/sts_fbmodel_big_40epochs 2019.txt\n",
      "#Control: 10--memory=418.7 MB; 2 m 14 s.                                                \n",
      "/home/max/Corpora/flashback-pol-time/yearly/contexts/vectors/sts_fbmodel_big_40epochs 2020.txt\n",
      "#Control: 10--memory=342.0 MB; 2 m 30 s.                                                    \n",
      "/home/max/Corpora/flashback-pol-time/yearly/contexts/vectors/sts_fbmodel_big_40epochs 2021.txt\n",
      "#Control: 10--memory=291.2 MB; 2 m 42 s.                                                    \n",
      "/home/max/Corpora/flashback-pol-time/yearly/contexts/vectors/sts_fbmodel_big_40epochs 2022.txt\n",
      "#Control: 10--memory=322.9 MB; 2 m 58 s.                                                    \n",
      "/home/max/Corpora/flashback-pol-time/yearly/contexts/vectors/fb_nli 2000.txt\n",
      "#Centroids, Spread done--memory=4.0 MB; 0 m 0 s.                               \n",
      "/home/max/Corpora/flashback-pol-time/yearly/contexts/vectors/fb_nli 2001.txt\n",
      "#Control: 10--memory=5.5 MB; 0 m 0 s.                                       \n",
      "/home/max/Corpora/flashback-pol-time/yearly/contexts/vectors/fb_nli 2002.txt\n",
      "#Control: 10--memory=3.8 MB; 0 m 1 s.                                       \n",
      "/home/max/Corpora/flashback-pol-time/yearly/contexts/vectors/fb_nli 2003.txt\n",
      "#Control: 10--memory=2.9 MB; 0 m 1 s.                                       \n",
      "/home/max/Corpora/flashback-pol-time/yearly/contexts/vectors/fb_nli 2004.txt\n",
      "#Control: 10--memory=4.0 MB; 0 m 1 s.                                          \n",
      "/home/max/Corpora/flashback-pol-time/yearly/contexts/vectors/fb_nli 2005.txt\n",
      "#Control: 10--memory=6.4 MB; 0 m 2 s.                                          \n",
      "/home/max/Corpora/flashback-pol-time/yearly/contexts/vectors/fb_nli 2006.txt\n",
      "#Control: 10--memory=12.2 MB; 0 m 3 s.                                                    \n",
      "/home/max/Corpora/flashback-pol-time/yearly/contexts/vectors/fb_nli 2007.txt\n",
      "#Control: 10--memory=43.0 MB; 0 m 6 s.                                                    \n",
      "/home/max/Corpora/flashback-pol-time/yearly/contexts/vectors/fb_nli 2008.txt\n",
      "#Control: 10--memory=120.8 MB; 0 m 13 s.                                                    \n",
      "/home/max/Corpora/flashback-pol-time/yearly/contexts/vectors/fb_nli 2009.txt\n",
      "#Control: 10--memory=180.7 MB; 0 m 22 s.                                                    \n",
      "/home/max/Corpora/flashback-pol-time/yearly/contexts/vectors/fb_nli 2010.txt\n",
      "#Control: 10--memory=203.1 MB; 0 m 32 s.                                                    \n",
      "/home/max/Corpora/flashback-pol-time/yearly/contexts/vectors/fb_nli 2011.txt\n",
      "#Control: 10--memory=204.5 MB; 0 m 42 s.                                                       \n",
      "/home/max/Corpora/flashback-pol-time/yearly/contexts/vectors/fb_nli 2012.txt\n",
      "#Control: 10--memory=200.7 MB; 0 m 54 s.                                                         \n",
      "/home/max/Corpora/flashback-pol-time/yearly/contexts/vectors/fb_nli 2013.txt\n",
      "#Control: 10--memory=193.0 MB; 1 m 4 s.                                                       \n",
      "/home/max/Corpora/flashback-pol-time/yearly/contexts/vectors/fb_nli 2014.txt\n",
      "#Control: 10--memory=166.7 MB; 1 m 12 s.                                                   \n",
      "/home/max/Corpora/flashback-pol-time/yearly/contexts/vectors/fb_nli 2015.txt\n",
      "#Control: 10--memory=161.7 MB; 1 m 21 s.                                                             \n",
      "/home/max/Corpora/flashback-pol-time/yearly/contexts/vectors/fb_nli 2016.txt\n",
      "#Control: 10--memory=192.9 MB; 1 m 32 s.                                                             \n",
      "/home/max/Corpora/flashback-pol-time/yearly/contexts/vectors/fb_nli 2017.txt\n",
      "#Control: 10--memory=223.6 MB; 1 m 43 s.                                                             \n",
      "/home/max/Corpora/flashback-pol-time/yearly/contexts/vectors/fb_nli 2018.txt\n",
      "#Control: 10--memory=351.4 MB; 2 m 4 s.                                                              \n",
      "/home/max/Corpora/flashback-pol-time/yearly/contexts/vectors/fb_nli 2019.txt\n",
      "#Control: 10--memory=418.7 MB; 2 m 21 s.                                                 \n",
      "/home/max/Corpora/flashback-pol-time/yearly/contexts/vectors/fb_nli 2020.txt\n",
      "#Control: 10--memory=342.0 MB; 2 m 37 s.                                                    \n",
      "/home/max/Corpora/flashback-pol-time/yearly/contexts/vectors/fb_nli 2021.txt\n",
      "#Control: 10--memory=291.2 MB; 2 m 50 s.                                                    \n",
      "/home/max/Corpora/flashback-pol-time/yearly/contexts/vectors/fb_nli 2022.txt\n",
      "#Control: 10--memory=322.9 MB; 3 m 5 s.                                                    \n",
      "/home/max/Corpora/flashback-pol-time/yearly/contexts/vectors/sentence-bert-swedish-cased 2000.txt\n"
     ]
    },
    {
     "name": "stdout",
     "output_type": "stream",
     "text": [
      "#Centroids, Spread done--memory=4.0 MB; 0 m 0 s.                               \n",
      "/home/max/Corpora/flashback-pol-time/yearly/contexts/vectors/sentence-bert-swedish-cased 2001.txt\n",
      "#Control: 10--memory=5.5 MB; 0 m 0 s.                                       \n",
      "/home/max/Corpora/flashback-pol-time/yearly/contexts/vectors/sentence-bert-swedish-cased 2002.txt\n",
      "#Control: 10--memory=3.8 MB; 0 m 1 s.                                       \n",
      "/home/max/Corpora/flashback-pol-time/yearly/contexts/vectors/sentence-bert-swedish-cased 2003.txt\n",
      "#Control: 10--memory=2.9 MB; 0 m 1 s.                                       \n",
      "/home/max/Corpora/flashback-pol-time/yearly/contexts/vectors/sentence-bert-swedish-cased 2004.txt\n",
      "#Control: 10--memory=4.0 MB; 0 m 1 s.                                          \n",
      "/home/max/Corpora/flashback-pol-time/yearly/contexts/vectors/sentence-bert-swedish-cased 2005.txt\n",
      "#Control: 10--memory=6.4 MB; 0 m 2 s.                                          \n",
      "/home/max/Corpora/flashback-pol-time/yearly/contexts/vectors/sentence-bert-swedish-cased 2006.txt\n",
      "#Control: 10--memory=12.2 MB; 0 m 3 s.                                                    \n",
      "/home/max/Corpora/flashback-pol-time/yearly/contexts/vectors/sentence-bert-swedish-cased 2007.txt\n",
      "#Control: 10--memory=43.0 MB; 0 m 7 s.                                                    \n",
      "/home/max/Corpora/flashback-pol-time/yearly/contexts/vectors/sentence-bert-swedish-cased 2008.txt\n",
      "#Control: 10--memory=120.8 MB; 0 m 14 s.                                                    \n",
      "/home/max/Corpora/flashback-pol-time/yearly/contexts/vectors/sentence-bert-swedish-cased 2009.txt\n",
      "#Control: 10--memory=180.7 MB; 0 m 23 s.                                                    \n",
      "/home/max/Corpora/flashback-pol-time/yearly/contexts/vectors/sentence-bert-swedish-cased 2010.txt\n",
      "#Control: 10--memory=203.1 MB; 0 m 33 s.                                                    \n",
      "/home/max/Corpora/flashback-pol-time/yearly/contexts/vectors/sentence-bert-swedish-cased 2011.txt\n",
      "#Control: 10--memory=204.5 MB; 0 m 42 s.                                                       \n",
      "/home/max/Corpora/flashback-pol-time/yearly/contexts/vectors/sentence-bert-swedish-cased 2012.txt\n",
      "#Control: 10--memory=200.7 MB; 0 m 53 s.                                                         \n",
      "/home/max/Corpora/flashback-pol-time/yearly/contexts/vectors/sentence-bert-swedish-cased 2013.txt\n",
      "#Control: 10--memory=193.0 MB; 1 m 3 s.                                                       \n",
      "/home/max/Corpora/flashback-pol-time/yearly/contexts/vectors/sentence-bert-swedish-cased 2014.txt\n",
      "#Control: 10--memory=166.7 MB; 1 m 13 s.                                                   \n",
      "/home/max/Corpora/flashback-pol-time/yearly/contexts/vectors/sentence-bert-swedish-cased 2015.txt\n",
      "#Control: 10--memory=161.7 MB; 1 m 22 s.                                                             \n",
      "/home/max/Corpora/flashback-pol-time/yearly/contexts/vectors/sentence-bert-swedish-cased 2016.txt\n",
      "#Control: 10--memory=192.9 MB; 1 m 33 s.                                                             \n",
      "/home/max/Corpora/flashback-pol-time/yearly/contexts/vectors/sentence-bert-swedish-cased 2017.txt\n",
      "#Control: 10--memory=223.6 MB; 1 m 45 s.                                                             \n",
      "/home/max/Corpora/flashback-pol-time/yearly/contexts/vectors/sentence-bert-swedish-cased 2018.txt\n",
      "#Control: 10--memory=351.4 MB; 2 m 5 s.                                                              \n",
      "/home/max/Corpora/flashback-pol-time/yearly/contexts/vectors/sentence-bert-swedish-cased 2019.txt\n",
      "#Control: 10--memory=418.7 MB; 2 m 23 s.                                                 \n",
      "/home/max/Corpora/flashback-pol-time/yearly/contexts/vectors/sentence-bert-swedish-cased 2020.txt\n",
      "#Control: 10--memory=342.0 MB; 2 m 39 s.                                                    \n",
      "/home/max/Corpora/flashback-pol-time/yearly/contexts/vectors/sentence-bert-swedish-cased 2021.txt\n",
      "#Control: 10--memory=291.2 MB; 2 m 55 s.                                                    \n",
      "/home/max/Corpora/flashback-pol-time/yearly/contexts/vectors/sentence-bert-swedish-cased 2022.txt\n",
      "#Control: 10--memory=322.9 MB; 3 m 11 s.                                                   \n",
      "/home/max/Corpora/flashback-pol-time/yearly/contexts/vectors/sts_fbmodel 2000.txt\n",
      "#Centroids, Spread done--memory=4.0 MB; 0 m 0 s.                               \n",
      "/home/max/Corpora/flashback-pol-time/yearly/contexts/vectors/sts_fbmodel 2001.txt\n",
      "#Control: 10--memory=5.5 MB; 0 m 0 s.                                       \n",
      "/home/max/Corpora/flashback-pol-time/yearly/contexts/vectors/sts_fbmodel 2002.txt\n",
      "#Control: 10--memory=3.8 MB; 0 m 1 s.                                       \n",
      "/home/max/Corpora/flashback-pol-time/yearly/contexts/vectors/sts_fbmodel 2003.txt\n",
      "#Control: 10--memory=2.9 MB; 0 m 1 s.                                       \n",
      "/home/max/Corpora/flashback-pol-time/yearly/contexts/vectors/sts_fbmodel 2004.txt\n",
      "#Control: 10--memory=4.0 MB; 0 m 1 s.                                          \n",
      "/home/max/Corpora/flashback-pol-time/yearly/contexts/vectors/sts_fbmodel 2005.txt\n",
      "#Control: 10--memory=6.4 MB; 0 m 2 s.                                          \n",
      "/home/max/Corpora/flashback-pol-time/yearly/contexts/vectors/sts_fbmodel 2006.txt\n",
      "#Control: 10--memory=12.2 MB; 0 m 3 s.                                                    \n",
      "/home/max/Corpora/flashback-pol-time/yearly/contexts/vectors/sts_fbmodel 2007.txt\n",
      "#Control: 10--memory=43.0 MB; 0 m 6 s.                                                    \n",
      "/home/max/Corpora/flashback-pol-time/yearly/contexts/vectors/sts_fbmodel 2008.txt\n",
      "#Control: 10--memory=120.8 MB; 0 m 13 s.                                                    \n",
      "/home/max/Corpora/flashback-pol-time/yearly/contexts/vectors/sts_fbmodel 2009.txt\n",
      "#Control: 10--memory=180.7 MB; 0 m 22 s.                                                    \n",
      "/home/max/Corpora/flashback-pol-time/yearly/contexts/vectors/sts_fbmodel 2010.txt\n",
      "#Control: 10--memory=203.1 MB; 0 m 32 s.                                                    \n",
      "/home/max/Corpora/flashback-pol-time/yearly/contexts/vectors/sts_fbmodel 2011.txt\n",
      "#Control: 10--memory=204.5 MB; 0 m 42 s.                                                       \n",
      "/home/max/Corpora/flashback-pol-time/yearly/contexts/vectors/sts_fbmodel 2012.txt\n",
      "#Control: 10--memory=200.7 MB; 0 m 52 s.                                                         \n",
      "/home/max/Corpora/flashback-pol-time/yearly/contexts/vectors/sts_fbmodel 2013.txt\n",
      "#Control: 10--memory=193.0 MB; 1 m 1 s.                                                        \n",
      "/home/max/Corpora/flashback-pol-time/yearly/contexts/vectors/sts_fbmodel 2014.txt\n",
      "#Control: 10--memory=166.7 MB; 1 m 9 s.                                                    \n",
      "/home/max/Corpora/flashback-pol-time/yearly/contexts/vectors/sts_fbmodel 2015.txt\n",
      "#Control: 10--memory=161.7 MB; 1 m 18 s.                                                             \n",
      "/home/max/Corpora/flashback-pol-time/yearly/contexts/vectors/sts_fbmodel 2016.txt\n",
      "#Control: 10--memory=192.9 MB; 1 m 28 s.                                                             \n",
      "/home/max/Corpora/flashback-pol-time/yearly/contexts/vectors/sts_fbmodel 2017.txt\n",
      "#Control: 10--memory=223.6 MB; 1 m 39 s.                                                             \n",
      "/home/max/Corpora/flashback-pol-time/yearly/contexts/vectors/sts_fbmodel 2018.txt\n",
      "#Control: 10--memory=351.4 MB; 1 m 58 s.                                                             \n",
      "/home/max/Corpora/flashback-pol-time/yearly/contexts/vectors/sts_fbmodel 2019.txt\n",
      "#Control: 10--memory=418.7 MB; 2 m 14 s.                                                \n",
      "/home/max/Corpora/flashback-pol-time/yearly/contexts/vectors/sts_fbmodel 2020.txt\n",
      "#Control: 10--memory=342.0 MB; 2 m 29 s.                                                    \n",
      "/home/max/Corpora/flashback-pol-time/yearly/contexts/vectors/sts_fbmodel 2021.txt\n",
      "#Control: 10--memory=291.2 MB; 2 m 42 s.                                                    \n",
      "/home/max/Corpora/flashback-pol-time/yearly/contexts/vectors/sts_fbmodel 2022.txt\n",
      "#Control: 10--memory=322.9 MB; 2 m 58 s.                                                    \r"
     ]
    }
   ],
   "source": [
    "multiple(\n",
    "    models = Path(\"/home/max/Corpora/flashback-pol-time/yearly/contexts/vectors\"), \n",
    "    results = Path(\"/home/max/Results/fb_pol-yearly-bert\"),\n",
    "    n_controls = 10\n",
    ")"
   ]
  },
  {
   "cell_type": "code",
   "execution_count": null,
   "metadata": {},
   "outputs": [],
   "source": []
  },
  {
   "cell_type": "code",
   "execution_count": null,
   "metadata": {
    "scrolled": true
   },
   "outputs": [],
   "source": [
    "semantic_change(Path(\"/home/max/Corpora/flashback-pol-time/yearly/contexts/vectors/fb_nli\"), \n",
    "                Path(\"/home/max/Results/fb_pol-yearly-bert/fb_nli\"),\n",
    "               10)"
   ]
  },
  {
   "cell_type": "code",
   "execution_count": null,
   "metadata": {},
   "outputs": [],
   "source": [
    "for c in range(1, 10):\n",
    "    print(c)"
   ]
  },
  {
   "cell_type": "code",
   "execution_count": null,
   "metadata": {},
   "outputs": [],
   "source": []
  },
  {
   "cell_type": "code",
   "execution_count": null,
   "metadata": {},
   "outputs": [],
   "source": []
  },
  {
   "cell_type": "code",
   "execution_count": null,
   "metadata": {},
   "outputs": [],
   "source": []
  },
  {
   "cell_type": "code",
   "execution_count": null,
   "metadata": {},
   "outputs": [],
   "source": []
  },
  {
   "cell_type": "code",
   "execution_count": null,
   "metadata": {},
   "outputs": [],
   "source": []
  },
  {
   "cell_type": "code",
   "execution_count": null,
   "metadata": {},
   "outputs": [],
   "source": [
    "my_list = [1,2,3,4,5,6,7,8,9]\n",
    "for i in range(10):\n",
    "    random.shuffle(my_list)\n",
    "    print(my_list)"
   ]
  },
  {
   "cell_type": "code",
   "execution_count": null,
   "metadata": {},
   "outputs": [],
   "source": []
  },
  {
   "cell_type": "code",
   "execution_count": null,
   "metadata": {},
   "outputs": [],
   "source": []
  },
  {
   "cell_type": "code",
   "execution_count": null,
   "metadata": {},
   "outputs": [],
   "source": []
  },
  {
   "cell_type": "code",
   "execution_count": null,
   "metadata": {},
   "outputs": [],
   "source": []
  },
  {
   "cell_type": "code",
   "execution_count": null,
   "metadata": {},
   "outputs": [],
   "source": []
  },
  {
   "cell_type": "code",
   "execution_count": null,
   "metadata": {},
   "outputs": [],
   "source": []
  },
  {
   "cell_type": "code",
   "execution_count": null,
   "metadata": {},
   "outputs": [],
   "source": []
  },
  {
   "cell_type": "code",
   "execution_count": null,
   "metadata": {},
   "outputs": [],
   "source": [
    "import numpy as np\n",
    "from numpy.linalg import norm\n",
    " \n",
    "A = np.array([2,1,2,3,2,9])\n",
    "B = np.array([3,4,2,4,5,5])\n",
    " \n",
    "print(\"A:\", A)\n",
    "print(\"B:\", B)\n",
    " \n",
    "cosine = np.dot(A,B)/(norm(A)*norm(B))\n",
    "print(\"Cosine Similarity:\", cosine)"
   ]
  },
  {
   "cell_type": "code",
   "execution_count": null,
   "metadata": {},
   "outputs": [],
   "source": [
    "def add(a, b):\n",
    "    return a + b"
   ]
  },
  {
   "cell_type": "code",
   "execution_count": null,
   "metadata": {},
   "outputs": [],
   "source": [
    "upc_mean([1,2,3,4,5], add)"
   ]
  },
  {
   "cell_type": "code",
   "execution_count": null,
   "metadata": {
    "scrolled": true
   },
   "outputs": [],
   "source": [
    "A = np.array([2,1,2,3,2,9])\n",
    "B = np.array([3,4,2,4,5,5])\n",
    "C = np.array([6,6,6,9,9,9])\n",
    "D = np.array([9,6,6,9,9,1])\n",
    "\n",
    "print(np_cos(A, B))\n",
    "print(sk_cos([A, B, C, D]))\n",
    "\n"
   ]
  },
  {
   "cell_type": "code",
   "execution_count": null,
   "metadata": {},
   "outputs": [],
   "source": [
    "arr = np.array([[1,2,3], [4,5,6], [7,8,9]])\n",
    "print(sum([1,4,7])/len([1,4,7]), sum([2,5,8])/len([2,5,8]), sum([3,6,9])/len([3,6,9]))\n",
    "np.mean(arr, axis=0)"
   ]
  },
  {
   "cell_type": "code",
   "execution_count": null,
   "metadata": {},
   "outputs": [],
   "source": [
    "df = pd.DataFrame(sk_cos([A, B, C, D]), columns=[\"A\", \"B\", \"C\", \"D\"], index=[\"A\", \"B\", \"C\", \"D\"])\n",
    "df"
   ]
  },
  {
   "cell_type": "code",
   "execution_count": null,
   "metadata": {
    "scrolled": true
   },
   "outputs": [],
   "source": [
    "upc_mean([A,B,C,D], np_cos)"
   ]
  },
  {
   "cell_type": "code",
   "execution_count": null,
   "metadata": {},
   "outputs": [],
   "source": [
    "upc_mean([A], angular_distance)"
   ]
  },
  {
   "cell_type": "code",
   "execution_count": null,
   "metadata": {},
   "outputs": [],
   "source": [
    "(0.81885047 + 0.82045058 + 0.98572812) / 3"
   ]
  },
  {
   "cell_type": "code",
   "execution_count": null,
   "metadata": {},
   "outputs": [],
   "source": [
    "[[x+y for y in my_list[i:]] for i, x in enumerate(my_list)]"
   ]
  },
  {
   "cell_type": "code",
   "execution_count": null,
   "metadata": {},
   "outputs": [],
   "source": []
  },
  {
   "cell_type": "code",
   "execution_count": null,
   "metadata": {},
   "outputs": [],
   "source": [
    "long = df.unstack()\n",
    "long.index.rename(['v1', 'v2'], inplace=True)\n",
    "#df = df.to_frame(\"Cos\").reset_index()\n",
    "long = long.to_frame('cos').reset_index()"
   ]
  },
  {
   "cell_type": "code",
   "execution_count": null,
   "metadata": {},
   "outputs": [],
   "source": [
    "long[long[\"v1\"] != long[\"v2\"]]\n",
    "# long_form['Country A'] != long_form['Country B']"
   ]
  },
  {
   "cell_type": "code",
   "execution_count": null,
   "metadata": {},
   "outputs": [],
   "source": [
    "long[long[\"v1\"]==\"A\"]"
   ]
  },
  {
   "cell_type": "code",
   "execution_count": null,
   "metadata": {},
   "outputs": [],
   "source": []
  }
 ],
 "metadata": {
  "kernelspec": {
   "display_name": "Python 3",
   "language": "python",
   "name": "python3"
  },
  "language_info": {
   "codemirror_mode": {
    "name": "ipython",
    "version": 3
   },
   "file_extension": ".py",
   "mimetype": "text/x-python",
   "name": "python",
   "nbconvert_exporter": "python",
   "pygments_lexer": "ipython3",
   "version": "3.8.5"
  }
 },
 "nbformat": 4,
 "nbformat_minor": 4
}
