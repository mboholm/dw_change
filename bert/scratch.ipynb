{
 "cells": [
  {
   "cell_type": "code",
   "execution_count": 1,
   "metadata": {},
   "outputs": [],
   "source": [
    "import re"
   ]
  },
  {
   "cell_type": "code",
   "execution_count": 5,
   "metadata": {},
   "outputs": [
    {
     "name": "stdout",
     "output_type": "stream",
     "text": [
      "globalistisk\n",
      "globalist\n",
      "globalist\n"
     ]
    }
   ],
   "source": [
    "strings = [\"antiglobalistisk\", \"euglobalist\", \"globalister\"]\n",
    "for string in strings:\n",
    "    hit = re.search(\"globalistisk|globalist\", string)\n",
    "    print(hit.group())"
   ]
  },
  {
   "cell_type": "code",
   "execution_count": null,
   "metadata": {},
   "outputs": [],
   "source": []
  },
  {
   "cell_type": "code",
   "execution_count": null,
   "metadata": {},
   "outputs": [],
   "source": []
  },
  {
   "cell_type": "code",
   "execution_count": null,
   "metadata": {},
   "outputs": [],
   "source": []
  },
  {
   "cell_type": "code",
   "execution_count": null,
   "metadata": {},
   "outputs": [],
   "source": []
  },
  {
   "cell_type": "code",
   "execution_count": 1,
   "metadata": {},
   "outputs": [],
   "source": [
    "import time\n",
    "import os\n",
    "from pathlib import Path\n",
    "import numpy as np\n",
    "import tracemalloc\n",
    "from random import shuffle"
   ]
  },
  {
   "cell_type": "code",
   "execution_count": 11,
   "metadata": {},
   "outputs": [
    {
     "data": {
      "text/plain": [
       "array([0.58512369, 0.40663346, 0.6346962 , 0.32704111, 0.30249156,\n",
       "       0.31232609, 0.21153855, 0.54620577, 0.42118659, 0.70361476])"
      ]
     },
     "execution_count": 11,
     "metadata": {},
     "output_type": "execute_result"
    }
   ],
   "source": [
    "def centroid(vectors):\n",
    "    arr = np.array(vectors)\n",
    "    return np.mean(arr, axis=0)\n",
    "\n",
    "centroid([np.random.rand(10), np.random.rand(10), np.random.rand(10)]) "
   ]
  },
  {
   "cell_type": "code",
   "execution_count": null,
   "metadata": {},
   "outputs": [],
   "source": [
    "def timer(file, do_v=False):\n",
    "    tracemalloc.start()\n",
    "    memory0 = (0,0)\n",
    "    t0 = time.time()\n",
    "    s = set()\n",
    "    if do_v:\n",
    "        v = [] \n",
    "    with open(file, \"r\") as f:\n",
    "        for i, line in enumerate(f):\n",
    "            if i % 200 == 0:\n",
    "                norm, unit = (1000000, \"MB\")\n",
    "                memory1 = tracemalloc.get_traced_memory()\n",
    "                memory  = round(memory1[0]/norm, 1)\n",
    "                memory_delta = round((memory1[0]-memory0[0])/norm, 1)\n",
    "                memory0 = memory1                \n",
    "                print(f\"memory={memory} {unit}\", end = \"\\r\")                \n",
    "            \n",
    "            line = line.strip(\"\\n\").split(\"\\t\")\n",
    "            s.add(line[0])\n",
    "            if do_v:\n",
    "                v.append([float(value) for value in line[-1].split()])\n",
    "    if do_v:\n",
    "        return i, time.time()-t0, \", \".join(list(s)), v\n",
    "    else:\n",
    "        return i, time.time()-t0, \", \".join(list(s))"
   ]
  },
  {
   "cell_type": "code",
   "execution_count": 3,
   "metadata": {},
   "outputs": [],
   "source": [
    "files = Path(\"/home/max/Corpora/flashback-pol-time/yearly/contexts/vectors/fb_nli\")"
   ]
  },
  {
   "cell_type": "code",
   "execution_count": null,
   "metadata": {
    "scrolled": false
   },
   "outputs": [],
   "source": [
    "for file in sorted(os.listdir(files)):\n",
    "    n_lines, time_passed, dwts = timer(files / file)\n",
    "    print()\n",
    "    print(file, int(time_passed*1000), \"ms\")\n",
    "    print()"
   ]
  },
  {
   "cell_type": "code",
   "execution_count": null,
   "metadata": {},
   "outputs": [],
   "source": [
    "for file in sorted(os.listdir(files)):\n",
    "    n_lines, time_passed, dwts, v = timer(files / file, do_v=True)\n",
    "    del v\n",
    "    print()\n",
    "    print(file, int(time_passed*1000), \"ms\")\n",
    "    print()"
   ]
  },
  {
   "cell_type": "code",
   "execution_count": 4,
   "metadata": {},
   "outputs": [
    {
     "name": "stdout",
     "output_type": "stream",
     "text": [
      "READ FILE 1: 9 s; memory=237.4 MB\n",
      "READ FILE 2:17 s; memory=429.3 MB\n",
      "ONE FILE: 17 s; memory=429.4 MB\n",
      "SHUFFLE: 18 s; memory=429.4 MB\n",
      "DONE: 18 s; memory=429.5 MB\n"
     ]
    }
   ],
   "source": [
    "norm, unit = (1000000, \"MB\")\n",
    "tracemalloc.start()\n",
    "memory0 = (0,0)\n",
    "t0 = time.time()\n",
    "with open(files / \"2018.txt\", \"r\") as f:\n",
    "    file1 = [[float(value) for value in line.strip(\"\\n\").split(\"\\t\")[-1].split()] for line in f.readlines()]\n",
    "    \n",
    "    memory1 = tracemalloc.get_traced_memory()\n",
    "    memory  = round(memory1[0]/norm, 1)\n",
    "    memory_delta = round((memory1[0]-memory0[0])/norm, 1)\n",
    "    memory0 = memory1\n",
    "    time_passed = time.time() - t0\n",
    "    print(f\"READ FILE 1: {int(time_passed)} s; memory={memory} {unit}\")\n",
    "\n",
    "with open(files / \"2022.txt\", \"r\") as f:\n",
    "    file2 = [[float(value) for value in line.strip(\"\\n\").split(\"\\t\")[-1].split()] for line in f.readlines()]\n",
    "    \n",
    "    memory1 = tracemalloc.get_traced_memory()\n",
    "    memory  = round(memory1[0]/norm, 1)\n",
    "    memory_delta = round((memory1[0]-memory0[0])/norm, 1)\n",
    "    memory0 = memory1\n",
    "    time_passed = time.time() - t0\n",
    "    print(f\"READ FILE 2:{int(time_passed)} s; memory={memory} {unit}\")\n",
    "    \n",
    "mega = file1 + file2\n",
    "\n",
    "memory1 = tracemalloc.get_traced_memory()\n",
    "memory  = round(memory1[0]/norm, 1)\n",
    "memory_delta = round((memory1[0]-memory0[0])/norm, 1)\n",
    "memory0 = memory1\n",
    "time_passed = time.time() - t0\n",
    "print(f\"ONE FILE: {int(time_passed)} s; memory={memory} {unit}\")\n",
    "\n",
    "shuffle(mega)\n",
    "\n",
    "memory1 = tracemalloc.get_traced_memory()\n",
    "memory  = round(memory1[0]/norm, 1)\n",
    "memory_delta = round((memory1[0]-memory0[0])/norm, 1)\n",
    "memory0 = memory1\n",
    "time_passed = time.time() - t0\n",
    "print(f\"SHUFFLE: {int(time_passed)} s; memory={memory} {unit}\")\n",
    "\n",
    "l=len(mega)\n",
    "half = int(l/2)\n",
    "\n",
    "rbatch1 = mega[:half]\n",
    "rbatch2 = mega[half:]\n",
    "\n",
    "memory1 = tracemalloc.get_traced_memory()\n",
    "memory  = round(memory1[0]/norm, 1)\n",
    "memory_delta = round((memory1[0]-memory0[0])/norm, 1)\n",
    "memory0 = memory1\n",
    "time_passed = time.time() - t0\n",
    "print(f\"DONE: {int(time_passed)} s; memory={memory} {unit}\")"
   ]
  },
  {
   "cell_type": "code",
   "execution_count": null,
   "metadata": {},
   "outputs": [],
   "source": [
    "my_list = [\"A\", \"B\", \"C\", \"D\"]\n",
    "for i, x in enumerate(my_list):\n",
    "    for y in my_list[i:]:\n",
    "        if x != y: # vectors can have the same values whiel not being \"the same\"\n",
    "            print(x+y)"
   ]
  },
  {
   "cell_type": "code",
   "execution_count": null,
   "metadata": {},
   "outputs": [],
   "source": [
    "my_list = [\"A\", \"B\", \"C\", \"D\"]\n",
    "random.shuffle(my_list)\n",
    "print(my_list)\n",
    "out=[]\n",
    "for i, x in enumerate(my_list, start=1): # Obs! start = 1\n",
    "    for y in my_list[i:]:\n",
    "        out.append(\"\".join(sorted(x+y)))\n",
    "sorted(out)"
   ]
  }
 ],
 "metadata": {
  "kernelspec": {
   "display_name": "Python 3",
   "language": "python",
   "name": "python3"
  },
  "language_info": {
   "codemirror_mode": {
    "name": "ipython",
    "version": 3
   },
   "file_extension": ".py",
   "mimetype": "text/x-python",
   "name": "python",
   "nbconvert_exporter": "python",
   "pygments_lexer": "ipython3",
   "version": "3.8.5"
  }
 },
 "nbformat": 4,
 "nbformat_minor": 4
}
