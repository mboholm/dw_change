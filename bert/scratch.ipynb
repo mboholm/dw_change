{
 "cells": [
  {
   "cell_type": "code",
   "execution_count": 8,
   "metadata": {},
   "outputs": [],
   "source": [
    "from scipy.stats import pearsonr, spearmanr"
   ]
  },
  {
   "cell_type": "code",
   "execution_count": 2,
   "metadata": {},
   "outputs": [],
   "source": [
    "import numpy as np"
   ]
  },
  {
   "cell_type": "code",
   "execution_count": 11,
   "metadata": {},
   "outputs": [],
   "source": [
    "A = np.array([.52,0.44,0.66,0.71,0.12])"
   ]
  },
  {
   "cell_type": "code",
   "execution_count": 12,
   "metadata": {},
   "outputs": [],
   "source": [
    "B = np.sqrt(A)"
   ]
  },
  {
   "cell_type": "code",
   "execution_count": 13,
   "metadata": {},
   "outputs": [
    {
     "data": {
      "text/plain": [
       "array([0.72111026, 0.66332496, 0.81240384, 0.84261498, 0.34641016])"
      ]
     },
     "execution_count": 13,
     "metadata": {},
     "output_type": "execute_result"
    }
   ],
   "source": [
    "B"
   ]
  },
  {
   "cell_type": "code",
   "execution_count": 14,
   "metadata": {},
   "outputs": [
    {
     "data": {
      "text/plain": [
       "PearsonRResult(statistic=0.9937149920664772, pvalue=0.000597561691229258)"
      ]
     },
     "execution_count": 14,
     "metadata": {},
     "output_type": "execute_result"
    }
   ],
   "source": [
    "pearsonr(A,B)"
   ]
  },
  {
   "cell_type": "code",
   "execution_count": null,
   "metadata": {},
   "outputs": [],
   "source": []
  },
  {
   "cell_type": "code",
   "execution_count": null,
   "metadata": {},
   "outputs": [],
   "source": [
    "#https://github.com/MaartenGr/cTFIDF"
   ]
  },
  {
   "cell_type": "code",
   "execution_count": 1,
   "metadata": {},
   "outputs": [],
   "source": [
    "import pandas as pd\n",
    "from sklearn.datasets import fetch_20newsgroups\n",
    "from sklearn.feature_extraction.text import CountVectorizer\n",
    "from ctfidf import CTFIDFVectorizer"
   ]
  },
  {
   "cell_type": "code",
   "execution_count": 14,
   "metadata": {},
   "outputs": [],
   "source": [
    "# Get data\n",
    "newsgroups = fetch_20newsgroups(subset='train', remove=('headers', 'footers', 'quotes'))\n",
    "docs = pd.DataFrame({'Document': newsgroups.data, 'Class': newsgroups.target})\n",
    "docs_per_class = docs.groupby(['Class'], as_index=False).agg({'Document': ' '.join})"
   ]
  },
  {
   "cell_type": "code",
   "execution_count": 17,
   "metadata": {
    "scrolled": true
   },
   "outputs": [
    {
     "data": {
      "text/plain": [
       "dict_keys(['data', 'filenames', 'target_names', 'target', 'DESCR'])"
      ]
     },
     "execution_count": 17,
     "metadata": {},
     "output_type": "execute_result"
    }
   ],
   "source": [
    "newsgroups.keys()"
   ]
  },
  {
   "cell_type": "code",
   "execution_count": 20,
   "metadata": {},
   "outputs": [
    {
     "data": {
      "text/plain": [
       "{0, 1, 2, 3, 4, 5, 6, 7, 8, 9, 10, 11, 12, 13, 14, 15, 16, 17, 18, 19}"
      ]
     },
     "execution_count": 20,
     "metadata": {},
     "output_type": "execute_result"
    }
   ],
   "source": [
    "set(newsgroups.target)"
   ]
  },
  {
   "cell_type": "code",
   "execution_count": 15,
   "metadata": {},
   "outputs": [
    {
     "data": {
      "text/html": [
       "<div>\n",
       "<style scoped>\n",
       "    .dataframe tbody tr th:only-of-type {\n",
       "        vertical-align: middle;\n",
       "    }\n",
       "\n",
       "    .dataframe tbody tr th {\n",
       "        vertical-align: top;\n",
       "    }\n",
       "\n",
       "    .dataframe thead th {\n",
       "        text-align: right;\n",
       "    }\n",
       "</style>\n",
       "<table border=\"1\" class=\"dataframe\">\n",
       "  <thead>\n",
       "    <tr style=\"text-align: right;\">\n",
       "      <th></th>\n",
       "      <th>Document</th>\n",
       "      <th>Class</th>\n",
       "    </tr>\n",
       "  </thead>\n",
       "  <tbody>\n",
       "    <tr>\n",
       "      <th>0</th>\n",
       "      <td>I was wondering if anyone out there could enli...</td>\n",
       "      <td>7</td>\n",
       "    </tr>\n",
       "    <tr>\n",
       "      <th>1</th>\n",
       "      <td>A fair number of brave souls who upgraded thei...</td>\n",
       "      <td>4</td>\n",
       "    </tr>\n",
       "    <tr>\n",
       "      <th>2</th>\n",
       "      <td>well folks, my mac plus finally gave up the gh...</td>\n",
       "      <td>4</td>\n",
       "    </tr>\n",
       "    <tr>\n",
       "      <th>3</th>\n",
       "      <td>\\nDo you have Weitek's address/phone number?  ...</td>\n",
       "      <td>1</td>\n",
       "    </tr>\n",
       "    <tr>\n",
       "      <th>4</th>\n",
       "      <td>From article &lt;C5owCB.n3p@world.std.com&gt;, by to...</td>\n",
       "      <td>14</td>\n",
       "    </tr>\n",
       "    <tr>\n",
       "      <th>...</th>\n",
       "      <td>...</td>\n",
       "      <td>...</td>\n",
       "    </tr>\n",
       "    <tr>\n",
       "      <th>11309</th>\n",
       "      <td>DN&gt; From: nyeda@cnsvax.uwec.edu (David Nye)\\nD...</td>\n",
       "      <td>13</td>\n",
       "    </tr>\n",
       "    <tr>\n",
       "      <th>11310</th>\n",
       "      <td>I have a (very old) Mac 512k and a Mac Plus, b...</td>\n",
       "      <td>4</td>\n",
       "    </tr>\n",
       "    <tr>\n",
       "      <th>11311</th>\n",
       "      <td>I just installed a DX2-66 CPU in a clone mothe...</td>\n",
       "      <td>3</td>\n",
       "    </tr>\n",
       "    <tr>\n",
       "      <th>11312</th>\n",
       "      <td>\\nWouldn't this require a hyper-sphere.  In 3-...</td>\n",
       "      <td>1</td>\n",
       "    </tr>\n",
       "    <tr>\n",
       "      <th>11313</th>\n",
       "      <td>Stolen from Pasadena between 4:30 and 6:30 pm ...</td>\n",
       "      <td>8</td>\n",
       "    </tr>\n",
       "  </tbody>\n",
       "</table>\n",
       "<p>11314 rows × 2 columns</p>\n",
       "</div>"
      ],
      "text/plain": [
       "                                                Document  Class\n",
       "0      I was wondering if anyone out there could enli...      7\n",
       "1      A fair number of brave souls who upgraded thei...      4\n",
       "2      well folks, my mac plus finally gave up the gh...      4\n",
       "3      \\nDo you have Weitek's address/phone number?  ...      1\n",
       "4      From article <C5owCB.n3p@world.std.com>, by to...     14\n",
       "...                                                  ...    ...\n",
       "11309  DN> From: nyeda@cnsvax.uwec.edu (David Nye)\\nD...     13\n",
       "11310  I have a (very old) Mac 512k and a Mac Plus, b...      4\n",
       "11311  I just installed a DX2-66 CPU in a clone mothe...      3\n",
       "11312  \\nWouldn't this require a hyper-sphere.  In 3-...      1\n",
       "11313  Stolen from Pasadena between 4:30 and 6:30 pm ...      8\n",
       "\n",
       "[11314 rows x 2 columns]"
      ]
     },
     "execution_count": 15,
     "metadata": {},
     "output_type": "execute_result"
    }
   ],
   "source": [
    "docs"
   ]
  },
  {
   "cell_type": "code",
   "execution_count": 7,
   "metadata": {},
   "outputs": [
    {
     "data": {
      "text/html": [
       "<div>\n",
       "<style scoped>\n",
       "    .dataframe tbody tr th:only-of-type {\n",
       "        vertical-align: middle;\n",
       "    }\n",
       "\n",
       "    .dataframe tbody tr th {\n",
       "        vertical-align: top;\n",
       "    }\n",
       "\n",
       "    .dataframe thead th {\n",
       "        text-align: right;\n",
       "    }\n",
       "</style>\n",
       "<table border=\"1\" class=\"dataframe\">\n",
       "  <thead>\n",
       "    <tr style=\"text-align: right;\">\n",
       "      <th></th>\n",
       "      <th>Class</th>\n",
       "      <th>Document</th>\n",
       "    </tr>\n",
       "  </thead>\n",
       "  <tbody>\n",
       "    <tr>\n",
       "      <th>0</th>\n",
       "      <td>0</td>\n",
       "      <td>\\nDon't be so sure.  Look what happened to Jap...</td>\n",
       "    </tr>\n",
       "    <tr>\n",
       "      <th>1</th>\n",
       "      <td>1</td>\n",
       "      <td>\\nDo you have Weitek's address/phone number?  ...</td>\n",
       "    </tr>\n",
       "    <tr>\n",
       "      <th>2</th>\n",
       "      <td>2</td>\n",
       "      <td>I have win 3.0 and downloaded several icons an...</td>\n",
       "    </tr>\n",
       "    <tr>\n",
       "      <th>3</th>\n",
       "      <td>3</td>\n",
       "      <td>...</td>\n",
       "    </tr>\n",
       "    <tr>\n",
       "      <th>4</th>\n",
       "      <td>4</td>\n",
       "      <td>A fair number of brave souls who upgraded thei...</td>\n",
       "    </tr>\n",
       "    <tr>\n",
       "      <th>5</th>\n",
       "      <td>5</td>\n",
       "      <td>QUESTION:\\n  What is the EXACT entry (paramete...</td>\n",
       "    </tr>\n",
       "    <tr>\n",
       "      <th>6</th>\n",
       "      <td>6</td>\n",
       "      <td>Reduced Prices! \\nI have a list of things fors...</td>\n",
       "    </tr>\n",
       "    <tr>\n",
       "      <th>7</th>\n",
       "      <td>7</td>\n",
       "      <td>I was wondering if anyone out there could enli...</td>\n",
       "    </tr>\n",
       "    <tr>\n",
       "      <th>8</th>\n",
       "      <td>8</td>\n",
       "      <td>I have a line on a Ducati 900GTS 1978 model wi...</td>\n",
       "    </tr>\n",
       "    <tr>\n",
       "      <th>9</th>\n",
       "      <td>9</td>\n",
       "      <td>Doug Roberts - Ken Hill for NL MVP!!\\n\\t      ...</td>\n",
       "    </tr>\n",
       "    <tr>\n",
       "      <th>10</th>\n",
       "      <td>10</td>\n",
       "      <td>\\nI think that Mike Foligno was the captain of...</td>\n",
       "    </tr>\n",
       "    <tr>\n",
       "      <th>11</th>\n",
       "      <td>11</td>\n",
       "      <td>\\nI agree with this assessment.  Furthermore, ...</td>\n",
       "    </tr>\n",
       "    <tr>\n",
       "      <th>12</th>\n",
       "      <td>12</td>\n",
       "      <td>I would like to be able to amplify a voltage s...</td>\n",
       "    </tr>\n",
       "    <tr>\n",
       "      <th>13</th>\n",
       "      <td>13</td>\n",
       "      <td>There were a few people who responded to my re...</td>\n",
       "    </tr>\n",
       "    <tr>\n",
       "      <th>14</th>\n",
       "      <td>14</td>\n",
       "      <td>From article &lt;C5owCB.n3p@world.std.com&gt;, by to...</td>\n",
       "    </tr>\n",
       "    <tr>\n",
       "      <th>15</th>\n",
       "      <td>15</td>\n",
       "      <td>\\nYes.\\n\\n(I am adamantly an environmentalist....</td>\n",
       "    </tr>\n",
       "    <tr>\n",
       "      <th>16</th>\n",
       "      <td>16</td>\n",
       "      <td>\\n\\n\\n\\n\\nOf course.  The term must be rigidly...</td>\n",
       "    </tr>\n",
       "    <tr>\n",
       "      <th>17</th>\n",
       "      <td>17</td>\n",
       "      <td>\\nHow do you define war?  Do seiges and consta...</td>\n",
       "    </tr>\n",
       "    <tr>\n",
       "      <th>18</th>\n",
       "      <td>18</td>\n",
       "      <td>\\nOnce again, it appears that the one-eyed man...</td>\n",
       "    </tr>\n",
       "    <tr>\n",
       "      <th>19</th>\n",
       "      <td>19</td>\n",
       "      <td>\\nYep, that's pretty much it. I'm not a Jew bu...</td>\n",
       "    </tr>\n",
       "  </tbody>\n",
       "</table>\n",
       "</div>"
      ],
      "text/plain": [
       "    Class                                           Document\n",
       "0       0  \\nDon't be so sure.  Look what happened to Jap...\n",
       "1       1  \\nDo you have Weitek's address/phone number?  ...\n",
       "2       2  I have win 3.0 and downloaded several icons an...\n",
       "3       3                                                ...\n",
       "4       4  A fair number of brave souls who upgraded thei...\n",
       "5       5  QUESTION:\\n  What is the EXACT entry (paramete...\n",
       "6       6  Reduced Prices! \\nI have a list of things fors...\n",
       "7       7  I was wondering if anyone out there could enli...\n",
       "8       8  I have a line on a Ducati 900GTS 1978 model wi...\n",
       "9       9  Doug Roberts - Ken Hill for NL MVP!!\\n\\t      ...\n",
       "10     10  \\nI think that Mike Foligno was the captain of...\n",
       "11     11  \\nI agree with this assessment.  Furthermore, ...\n",
       "12     12  I would like to be able to amplify a voltage s...\n",
       "13     13  There were a few people who responded to my re...\n",
       "14     14  From article <C5owCB.n3p@world.std.com>, by to...\n",
       "15     15  \\nYes.\\n\\n(I am adamantly an environmentalist....\n",
       "16     16  \\n\\n\\n\\n\\nOf course.  The term must be rigidly...\n",
       "17     17  \\nHow do you define war?  Do seiges and consta...\n",
       "18     18  \\nOnce again, it appears that the one-eyed man...\n",
       "19     19  \\nYep, that's pretty much it. I'm not a Jew bu..."
      ]
     },
     "execution_count": 7,
     "metadata": {},
     "output_type": "execute_result"
    }
   ],
   "source": [
    "docs_per_class"
   ]
  },
  {
   "cell_type": "code",
   "execution_count": 25,
   "metadata": {},
   "outputs": [],
   "source": [
    "# Create bag of words\n",
    "#count_vectorizer = CountVectorizer().fit(docs_per_class.Document)\n",
    "#count = count_vectorizer.transform(docs_per_class.Document)\n",
    "\n",
    "count_vectorizer = CountVectorizer(stop_words = \"english\")\n",
    "count = count_vectorizer.fit_transform(docs_per_class.Document)\n",
    "words = count_vectorizer.get_feature_names_out()"
   ]
  },
  {
   "cell_type": "code",
   "execution_count": null,
   "metadata": {},
   "outputs": [],
   "source": []
  },
  {
   "cell_type": "code",
   "execution_count": 11,
   "metadata": {},
   "outputs": [
    {
     "data": {
      "text/plain": [
       "array(['00', '000', '0000', ..., 'zzzzzzt', '³ation', 'ýé'], dtype=object)"
      ]
     },
     "execution_count": 11,
     "metadata": {},
     "output_type": "execute_result"
    }
   ],
   "source": [
    "words"
   ]
  },
  {
   "cell_type": "code",
   "execution_count": 26,
   "metadata": {},
   "outputs": [],
   "source": [
    "# Extract top 10 words\n",
    "ctfidf = CTFIDFVectorizer().fit_transform(count, n_samples=len(docs)).toarray()\n",
    "words_per_class = {newsgroups.target_names[label]: [words[index] for index in ctfidf[label].argsort()[-10:]] for label in docs_per_class.Class}"
   ]
  },
  {
   "cell_type": "code",
   "execution_count": 27,
   "metadata": {},
   "outputs": [
    {
     "data": {
      "text/plain": [
       "(20, 101322)"
      ]
     },
     "execution_count": 27,
     "metadata": {},
     "output_type": "execute_result"
    }
   ],
   "source": [
    "ctfidf.shape"
   ]
  },
  {
   "cell_type": "code",
   "execution_count": 28,
   "metadata": {},
   "outputs": [
    {
     "data": {
      "text/plain": [
       "{'alt.atheism': ['does',\n",
       "  'think',\n",
       "  'jesus',\n",
       "  'don',\n",
       "  'argument',\n",
       "  'religion',\n",
       "  'people',\n",
       "  'atheists',\n",
       "  'atheism',\n",
       "  'god'],\n",
       " 'comp.graphics': ['gif',\n",
       "  'software',\n",
       "  'format',\n",
       "  'files',\n",
       "  'file',\n",
       "  'edu',\n",
       "  'images',\n",
       "  'jpeg',\n",
       "  'graphics',\n",
       "  'image'],\n",
       " 'comp.os.ms-windows.misc': ['1t',\n",
       "  'windows',\n",
       "  '34u',\n",
       "  '1d9',\n",
       "  '145',\n",
       "  'pl',\n",
       "  'a86',\n",
       "  'b8f',\n",
       "  'g9v',\n",
       "  'max'],\n",
       " 'comp.sys.ibm.pc.hardware': ['hard',\n",
       "  'bios',\n",
       "  'bus',\n",
       "  'disk',\n",
       "  'ide',\n",
       "  'drives',\n",
       "  'card',\n",
       "  'controller',\n",
       "  'drive',\n",
       "  'scsi'],\n",
       " 'comp.sys.mac.hardware': ['memory',\n",
       "  'ram',\n",
       "  '32',\n",
       "  'monitor',\n",
       "  'bit',\n",
       "  'problem',\n",
       "  'scsi',\n",
       "  'drive',\n",
       "  'apple',\n",
       "  'mac'],\n",
       " 'comp.windows.x': ['mit',\n",
       "  'use',\n",
       "  'output',\n",
       "  'program',\n",
       "  'entry',\n",
       "  'server',\n",
       "  'motif',\n",
       "  'widget',\n",
       "  'file',\n",
       "  'window'],\n",
       " 'misc.forsale': ['price',\n",
       "  '10',\n",
       "  'condition',\n",
       "  'new',\n",
       "  'dos',\n",
       "  'shipping',\n",
       "  '50',\n",
       "  'offer',\n",
       "  'sale',\n",
       "  '00'],\n",
       " 'rec.autos': ['ford',\n",
       "  'dealer',\n",
       "  'don',\n",
       "  'good',\n",
       "  'oil',\n",
       "  'just',\n",
       "  'like',\n",
       "  'engine',\n",
       "  'cars',\n",
       "  'car'],\n",
       " 'rec.motorcycles': ['dog',\n",
       "  'like',\n",
       "  'helmet',\n",
       "  'just',\n",
       "  'riding',\n",
       "  'bikes',\n",
       "  'motorcycle',\n",
       "  'ride',\n",
       "  'dod',\n",
       "  'bike'],\n",
       " 'rec.sport.baseball': ['02',\n",
       "  '00',\n",
       "  'players',\n",
       "  'games',\n",
       "  'runs',\n",
       "  'hit',\n",
       "  'baseball',\n",
       "  'team',\n",
       "  'game',\n",
       "  'year'],\n",
       " 'rec.sport.hockey': ['nhl',\n",
       "  '11',\n",
       "  '10',\n",
       "  '25',\n",
       "  'season',\n",
       "  'play',\n",
       "  '55',\n",
       "  'game',\n",
       "  'hockey',\n",
       "  'team'],\n",
       " 'sci.crypt': ['public',\n",
       "  'government',\n",
       "  'security',\n",
       "  'keys',\n",
       "  'privacy',\n",
       "  'clipper',\n",
       "  'chip',\n",
       "  'db',\n",
       "  'encryption',\n",
       "  'key'],\n",
       " 'sci.electronics': ['neutral',\n",
       "  'used',\n",
       "  'voltage',\n",
       "  'current',\n",
       "  'power',\n",
       "  'wiring',\n",
       "  'use',\n",
       "  'circuit',\n",
       "  'ground',\n",
       "  'wire'],\n",
       " 'sci.med': ['pain',\n",
       "  'food',\n",
       "  'doctor',\n",
       "  'cancer',\n",
       "  'disease',\n",
       "  'msg',\n",
       "  'patients',\n",
       "  'medical',\n",
       "  'health',\n",
       "  'edu'],\n",
       " 'sci.space': ['data',\n",
       "  'moon',\n",
       "  'satellite',\n",
       "  'lunar',\n",
       "  'shuttle',\n",
       "  'earth',\n",
       "  'orbit',\n",
       "  'launch',\n",
       "  'nasa',\n",
       "  'space'],\n",
       " 'soc.religion.christian': ['believe',\n",
       "  'christian',\n",
       "  'bible',\n",
       "  'christians',\n",
       "  'people',\n",
       "  'faith',\n",
       "  'christ',\n",
       "  'church',\n",
       "  'jesus',\n",
       "  'god'],\n",
       " 'talk.politics.guns': ['weapon',\n",
       "  'crime',\n",
       "  'control',\n",
       "  'law',\n",
       "  'weapons',\n",
       "  'people',\n",
       "  'file',\n",
       "  'firearms',\n",
       "  'guns',\n",
       "  'gun'],\n",
       " 'talk.politics.mideast': ['armenia',\n",
       "  'turkey',\n",
       "  'israeli',\n",
       "  'said',\n",
       "  'jews',\n",
       "  'people',\n",
       "  'turkish',\n",
       "  'israel',\n",
       "  'armenians',\n",
       "  'armenian'],\n",
       " 'talk.politics.misc': ['know',\n",
       "  'don',\n",
       "  'jobs',\n",
       "  'going',\n",
       "  'government',\n",
       "  'think',\n",
       "  'people',\n",
       "  'stephanopoulos',\n",
       "  'mr',\n",
       "  'president'],\n",
       " 'talk.religion.misc': ['christ',\n",
       "  'did',\n",
       "  'life',\n",
       "  'say',\n",
       "  'ra',\n",
       "  'christian',\n",
       "  'people',\n",
       "  'bible',\n",
       "  'jesus',\n",
       "  'god']}"
      ]
     },
     "execution_count": 28,
     "metadata": {},
     "output_type": "execute_result"
    }
   ],
   "source": [
    "words_per_class"
   ]
  },
  {
   "cell_type": "code",
   "execution_count": 29,
   "metadata": {},
   "outputs": [
    {
     "data": {
      "text/plain": [
       "['data',\n",
       " 'moon',\n",
       " 'satellite',\n",
       " 'lunar',\n",
       " 'shuttle',\n",
       " 'earth',\n",
       " 'orbit',\n",
       " 'launch',\n",
       " 'nasa',\n",
       " 'space']"
      ]
     },
     "execution_count": 29,
     "metadata": {},
     "output_type": "execute_result"
    }
   ],
   "source": [
    "words_per_class[\"sci.space\"]"
   ]
  },
  {
   "cell_type": "code",
   "execution_count": null,
   "metadata": {},
   "outputs": [],
   "source": []
  },
  {
   "cell_type": "code",
   "execution_count": null,
   "metadata": {},
   "outputs": [],
   "source": []
  },
  {
   "cell_type": "code",
   "execution_count": null,
   "metadata": {},
   "outputs": [],
   "source": []
  },
  {
   "cell_type": "code",
   "execution_count": null,
   "metadata": {},
   "outputs": [],
   "source": []
  },
  {
   "cell_type": "code",
   "execution_count": null,
   "metadata": {},
   "outputs": [],
   "source": [
    "import re\n",
    "line = \"V1_berika; N1_kulturberikare\"\n",
    "sep=\";\"\n",
    "line = \" \".join((re.split(re.compile(f\"{sep} ?\"), line)))\n",
    "line"
   ]
  },
  {
   "cell_type": "code",
   "execution_count": null,
   "metadata": {},
   "outputs": [],
   "source": [
    "import os\n",
    "from pathlib import Path"
   ]
  },
  {
   "cell_type": "code",
   "execution_count": null,
   "metadata": {},
   "outputs": [],
   "source": [
    "dwts = set()\n",
    "files = Path(\"/home/max/Corpora/flashback-pol-time/yearly/contexts/vectors/sts_fbmodel/\")\n",
    "for file in os.listdir(files):\n",
    "    with open(files / file) as f:\n",
    "        for line in f:\n",
    "            dwt = line.split(\"\\t\")[0]\n",
    "            dwts.add(dwt)\n",
    "print(dwts)"
   ]
  },
  {
   "cell_type": "code",
   "execution_count": null,
   "metadata": {
    "scrolled": true
   },
   "outputs": [],
   "source": [
    "for t in sorted(list(dwts)):\n",
    "    print(t)"
   ]
  },
  {
   "cell_type": "code",
   "execution_count": null,
   "metadata": {},
   "outputs": [],
   "source": []
  },
  {
   "cell_type": "code",
   "execution_count": null,
   "metadata": {},
   "outputs": [],
   "source": [
    "import re"
   ]
  },
  {
   "cell_type": "code",
   "execution_count": null,
   "metadata": {},
   "outputs": [],
   "source": [
    "strings = [\"antiglobalistisk\", \"euglobalist\", \"globalister\"]\n",
    "for string in strings:\n",
    "    hit = re.search(\"globalistisk|globalist\", string)\n",
    "    print(hit.group())"
   ]
  },
  {
   "cell_type": "code",
   "execution_count": null,
   "metadata": {},
   "outputs": [],
   "source": []
  },
  {
   "cell_type": "code",
   "execution_count": null,
   "metadata": {},
   "outputs": [],
   "source": []
  },
  {
   "cell_type": "code",
   "execution_count": null,
   "metadata": {},
   "outputs": [],
   "source": []
  },
  {
   "cell_type": "code",
   "execution_count": null,
   "metadata": {},
   "outputs": [],
   "source": []
  },
  {
   "cell_type": "code",
   "execution_count": null,
   "metadata": {},
   "outputs": [],
   "source": [
    "import time\n",
    "import os\n",
    "from pathlib import Path\n",
    "import numpy as np\n",
    "import tracemalloc\n",
    "from random import shuffle"
   ]
  },
  {
   "cell_type": "code",
   "execution_count": null,
   "metadata": {},
   "outputs": [],
   "source": [
    "def centroid(vectors):\n",
    "    arr = np.array(vectors)\n",
    "    return np.mean(arr, axis=0)\n",
    "\n",
    "centroid([np.random.rand(10), np.random.rand(10), np.random.rand(10)]) "
   ]
  },
  {
   "cell_type": "code",
   "execution_count": null,
   "metadata": {},
   "outputs": [],
   "source": [
    "def timer(file, do_v=False):\n",
    "    tracemalloc.start()\n",
    "    memory0 = (0,0)\n",
    "    t0 = time.time()\n",
    "    s = set()\n",
    "    if do_v:\n",
    "        v = [] \n",
    "    with open(file, \"r\") as f:\n",
    "        for i, line in enumerate(f):\n",
    "            if i % 200 == 0:\n",
    "                norm, unit = (1000000, \"MB\")\n",
    "                memory1 = tracemalloc.get_traced_memory()\n",
    "                memory  = round(memory1[0]/norm, 1)\n",
    "                memory_delta = round((memory1[0]-memory0[0])/norm, 1)\n",
    "                memory0 = memory1                \n",
    "                print(f\"memory={memory} {unit}\", end = \"\\r\")                \n",
    "            \n",
    "            line = line.strip(\"\\n\").split(\"\\t\")\n",
    "            s.add(line[0])\n",
    "            if do_v:\n",
    "                v.append([float(value) for value in line[-1].split()])\n",
    "    if do_v:\n",
    "        return i, time.time()-t0, \", \".join(list(s)), v\n",
    "    else:\n",
    "        return i, time.time()-t0, \", \".join(list(s))"
   ]
  },
  {
   "cell_type": "code",
   "execution_count": null,
   "metadata": {},
   "outputs": [],
   "source": [
    "files = Path(\"/home/max/Corpora/flashback-pol-time/yearly/contexts/vectors/fb_nli\")"
   ]
  },
  {
   "cell_type": "code",
   "execution_count": null,
   "metadata": {
    "scrolled": false
   },
   "outputs": [],
   "source": [
    "for file in sorted(os.listdir(files)):\n",
    "    n_lines, time_passed, dwts = timer(files / file)\n",
    "    print()\n",
    "    print(file, int(time_passed*1000), \"ms\")\n",
    "    print()"
   ]
  },
  {
   "cell_type": "code",
   "execution_count": null,
   "metadata": {},
   "outputs": [],
   "source": [
    "for file in sorted(os.listdir(files)):\n",
    "    n_lines, time_passed, dwts, v = timer(files / file, do_v=True)\n",
    "    del v\n",
    "    print()\n",
    "    print(file, int(time_passed*1000), \"ms\")\n",
    "    print()"
   ]
  },
  {
   "cell_type": "code",
   "execution_count": null,
   "metadata": {},
   "outputs": [],
   "source": [
    "norm, unit = (1000000, \"MB\")\n",
    "tracemalloc.start()\n",
    "memory0 = (0,0)\n",
    "t0 = time.time()\n",
    "with open(files / \"2018.txt\", \"r\") as f:\n",
    "    file1 = [[float(value) for value in line.strip(\"\\n\").split(\"\\t\")[-1].split()] for line in f.readlines()]\n",
    "    \n",
    "    memory1 = tracemalloc.get_traced_memory()\n",
    "    memory  = round(memory1[0]/norm, 1)\n",
    "    memory_delta = round((memory1[0]-memory0[0])/norm, 1)\n",
    "    memory0 = memory1\n",
    "    time_passed = time.time() - t0\n",
    "    print(f\"READ FILE 1: {int(time_passed)} s; memory={memory} {unit}\")\n",
    "\n",
    "with open(files / \"2022.txt\", \"r\") as f:\n",
    "    file2 = [[float(value) for value in line.strip(\"\\n\").split(\"\\t\")[-1].split()] for line in f.readlines()]\n",
    "    \n",
    "    memory1 = tracemalloc.get_traced_memory()\n",
    "    memory  = round(memory1[0]/norm, 1)\n",
    "    memory_delta = round((memory1[0]-memory0[0])/norm, 1)\n",
    "    memory0 = memory1\n",
    "    time_passed = time.time() - t0\n",
    "    print(f\"READ FILE 2:{int(time_passed)} s; memory={memory} {unit}\")\n",
    "    \n",
    "mega = file1 + file2\n",
    "\n",
    "memory1 = tracemalloc.get_traced_memory()\n",
    "memory  = round(memory1[0]/norm, 1)\n",
    "memory_delta = round((memory1[0]-memory0[0])/norm, 1)\n",
    "memory0 = memory1\n",
    "time_passed = time.time() - t0\n",
    "print(f\"ONE FILE: {int(time_passed)} s; memory={memory} {unit}\")\n",
    "\n",
    "shuffle(mega)\n",
    "\n",
    "memory1 = tracemalloc.get_traced_memory()\n",
    "memory  = round(memory1[0]/norm, 1)\n",
    "memory_delta = round((memory1[0]-memory0[0])/norm, 1)\n",
    "memory0 = memory1\n",
    "time_passed = time.time() - t0\n",
    "print(f\"SHUFFLE: {int(time_passed)} s; memory={memory} {unit}\")\n",
    "\n",
    "l=len(mega)\n",
    "half = int(l/2)\n",
    "\n",
    "rbatch1 = mega[:half]\n",
    "rbatch2 = mega[half:]\n",
    "\n",
    "memory1 = tracemalloc.get_traced_memory()\n",
    "memory  = round(memory1[0]/norm, 1)\n",
    "memory_delta = round((memory1[0]-memory0[0])/norm, 1)\n",
    "memory0 = memory1\n",
    "time_passed = time.time() - t0\n",
    "print(f\"DONE: {int(time_passed)} s; memory={memory} {unit}\")"
   ]
  },
  {
   "cell_type": "code",
   "execution_count": null,
   "metadata": {},
   "outputs": [],
   "source": [
    "my_list = [\"A\", \"B\", \"C\", \"D\"]\n",
    "for i, x in enumerate(my_list):\n",
    "    for y in my_list[i:]:\n",
    "        if x != y: # vectors can have the same values whiel not being \"the same\"\n",
    "            print(x+y)"
   ]
  },
  {
   "cell_type": "code",
   "execution_count": null,
   "metadata": {},
   "outputs": [],
   "source": [
    "my_list = [\"A\", \"B\", \"C\", \"D\"]\n",
    "random.shuffle(my_list)\n",
    "print(my_list)\n",
    "out=[]\n",
    "for i, x in enumerate(my_list, start=1): # Obs! start = 1\n",
    "    for y in my_list[i:]:\n",
    "        out.append(\"\".join(sorted(x+y)))\n",
    "sorted(out)"
   ]
  }
 ],
 "metadata": {
  "kernelspec": {
   "display_name": "Python 3",
   "language": "python",
   "name": "python3"
  },
  "language_info": {
   "codemirror_mode": {
    "name": "ipython",
    "version": 3
   },
   "file_extension": ".py",
   "mimetype": "text/x-python",
   "name": "python",
   "nbconvert_exporter": "python",
   "pygments_lexer": "ipython3",
   "version": "3.8.5"
  }
 },
 "nbformat": 4,
 "nbformat_minor": 4
}
