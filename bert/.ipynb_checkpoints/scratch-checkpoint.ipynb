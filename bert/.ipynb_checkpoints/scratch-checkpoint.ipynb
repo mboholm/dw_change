{
 "cells": [
  {
   "cell_type": "code",
   "execution_count": 1,
   "metadata": {},
   "outputs": [
    {
     "name": "stdout",
     "output_type": "stream",
     "text": [
      "1.19.5\n"
     ]
    }
   ],
   "source": [
    "import numpy; print(numpy.__version__)"
   ]
  },
  {
   "cell_type": "code",
   "execution_count": null,
   "metadata": {},
   "outputs": [],
   "source": []
  },
  {
   "cell_type": "code",
   "execution_count": 2,
   "metadata": {},
   "outputs": [],
   "source": [
    "from sentence_transformers import SentenceTransformer"
   ]
  },
  {
   "cell_type": "code",
   "execution_count": 6,
   "metadata": {},
   "outputs": [
    {
     "name": "stdout",
     "output_type": "stream",
     "text": [
      "(2, 768)\n"
     ]
    },
    {
     "data": {
      "text/plain": [
       "array([[ 1.021134  ,  0.00908172,  0.5867495 , ..., -0.5772261 ,\n",
       "         1.106972  ,  0.04259837],\n",
       "       [ 0.44540447, -1.0657525 , -0.00563878, ...,  0.82247007,\n",
       "         1.571121  , -0.54240674]], dtype=float32)"
      ]
     },
     "execution_count": 6,
     "metadata": {},
     "output_type": "execute_result"
    }
   ],
   "source": [
    "\n",
    "sentences = [\"Det här är en exempelmening\", \"Varje exempel blir konverterad\"]\n",
    "\n",
    "#model = SentenceTransformer('KBLab/sentence-bert-swedish-cased')\n",
    "model = SentenceTransformer(\"/home/max/Downloads/sts_fbmodel\")\n",
    "embeddings = model.encode(sentences)\n",
    "print(embeddings.shape)\n",
    "embeddings"
   ]
  },
  {
   "cell_type": "code",
   "execution_count": null,
   "metadata": {},
   "outputs": [],
   "source": []
  }
 ],
 "metadata": {
  "kernelspec": {
   "display_name": "Python 3",
   "language": "python",
   "name": "python3"
  },
  "language_info": {
   "codemirror_mode": {
    "name": "ipython",
    "version": 3
   },
   "file_extension": ".py",
   "mimetype": "text/x-python",
   "name": "python",
   "nbconvert_exporter": "python",
   "pygments_lexer": "ipython3",
   "version": "3.8.5"
  }
 },
 "nbformat": 4,
 "nbformat_minor": 4
}
