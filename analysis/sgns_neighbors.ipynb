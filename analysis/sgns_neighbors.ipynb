{
 "cells": [
  {
   "cell_type": "code",
   "execution_count": 1,
   "metadata": {},
   "outputs": [],
   "source": [
    "import os\n",
    "import numpy as np\n",
    "import pandas as pd\n",
    "from pathlib import Path\n",
    "from gensim.models import KeyedVectors\n",
    "from util import load_metric, read_util\n",
    "import json"
   ]
  },
  {
   "cell_type": "code",
   "execution_count": null,
   "metadata": {
    "scrolled": true
   },
   "outputs": [],
   "source": [
    "#import gensim"
   ]
  },
  {
   "cell_type": "code",
   "execution_count": 2,
   "metadata": {},
   "outputs": [],
   "source": [
    "dwt_roots = read_util(Path(\"../data/utils/dwts.txt\"))"
   ]
  },
  {
   "cell_type": "code",
   "execution_count": 3,
   "metadata": {},
   "outputs": [
    {
     "data": {
      "text/plain": [
       "['förortsgäng',\n",
       " 'återvandr',\n",
       " 'berika',\n",
       " 'kulturberika',\n",
       " 'ordning_och_reda_i_flyktingpolitiken',\n",
       " 'globalist',\n",
       " 'hjälpa_på_plats',\n",
       " 'självständig_utrikespolitik']"
      ]
     },
     "execution_count": 3,
     "metadata": {},
     "output_type": "execute_result"
    }
   ],
   "source": [
    "dwt_roots"
   ]
  },
  {
   "cell_type": "code",
   "execution_count": 4,
   "metadata": {},
   "outputs": [],
   "source": [
    "models_at = Path(\"/home/max/Results/fb_pol-yearly-rad3/models\")\n",
    "vocabs_at = Path(\"/home/max/Corpora/flashback-pol-time/yearly/fb-pt-radical3-v0/vocab\")"
   ]
  },
  {
   "cell_type": "code",
   "execution_count": 5,
   "metadata": {},
   "outputs": [],
   "source": [
    "def neighbors(mod_path, voc_path, roots, restriction = (\"N1\", \"N2\", \"V1\", \"V2\", \"A1\", \"P1\"), k=10):\n",
    "    \n",
    "    lst = list()\n",
    "    \n",
    "    for model in sorted(os.listdir(mod_path)):\n",
    "        \n",
    "        if not model.endswith(\".w2v\"):\n",
    "            continue\n",
    "        wv = KeyedVectors.load_word2vec_format(mod_path / model)\n",
    "        counts = load_metric(voc_path / model.replace(\".w2v\", \".txt\"))\n",
    "        words = [word for word in wv.index_to_key if any(root in word for root in roots)]\n",
    "        if restriction != None:\n",
    "            words = [word for word in words if word.startswith(restriction)]\n",
    "        \n",
    "        year = model.replace(\".w2v\", \"\")\n",
    "        \n",
    "        for word in words:\n",
    "            for neighbor, score in wv.most_similar(positive = [word], topn = k):\n",
    "                count = int(counts[neighbor])\n",
    "                lst.append({\n",
    "                    \"Word\": word,\n",
    "                    \"Year\": year,\n",
    "                    \"Neighbor\": neighbor,\n",
    "                    \"Score\": score,\n",
    "                    \"Count\": count\n",
    "                })\n",
    "                \n",
    "    return lst"
   ]
  },
  {
   "cell_type": "code",
   "execution_count": 6,
   "metadata": {},
   "outputs": [],
   "source": [
    "data = neighbors(models_at, vocabs_at, dwt_roots, k=15)"
   ]
  },
  {
   "cell_type": "code",
   "execution_count": null,
   "metadata": {},
   "outputs": [],
   "source": [
    "sorted(to_json.keys())"
   ]
  },
  {
   "cell_type": "code",
   "execution_count": null,
   "metadata": {},
   "outputs": [],
   "source": [
    "to_json"
   ]
  },
  {
   "cell_type": "code",
   "execution_count": null,
   "metadata": {},
   "outputs": [],
   "source": [
    "with open(Path(\"../../dw_results/neighbors.json\"), \"w\") as f:\n",
    "    f.write(json.dumps(data, indent=4))  "
   ]
  },
  {
   "cell_type": "code",
   "execution_count": null,
   "metadata": {},
   "outputs": [],
   "source": [
    "df = pd.DataFrame(data)\n",
    "df.to_csv(\"../../dw_results/neighbors.csv\", sep=\"\\t\")"
   ]
  },
  {
   "cell_type": "code",
   "execution_count": null,
   "metadata": {},
   "outputs": [],
   "source": []
  },
  {
   "cell_type": "code",
   "execution_count": null,
   "metadata": {},
   "outputs": [],
   "source": []
  }
 ],
 "metadata": {
  "kernelspec": {
   "display_name": "Python 3",
   "language": "python",
   "name": "python3"
  },
  "language_info": {
   "codemirror_mode": {
    "name": "ipython",
    "version": 3
   },
   "file_extension": ".py",
   "mimetype": "text/x-python",
   "name": "python",
   "nbconvert_exporter": "python",
   "pygments_lexer": "ipython3",
   "version": "3.8.5"
  }
 },
 "nbformat": 4,
 "nbformat_minor": 4
}
