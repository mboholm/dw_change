{
 "cells": [
  {
   "cell_type": "markdown",
   "metadata": {},
   "source": [
    "# Finds neighbors of DWEs in the SGNS models"
   ]
  },
  {
   "cell_type": "code",
   "execution_count": null,
   "metadata": {},
   "outputs": [],
   "source": [
    "import os\n",
    "import numpy as np\n",
    "import pandas as pd\n",
    "from pathlib import Path\n",
    "from gensim.models import KeyedVectors\n",
    "from util import load_metric, read_util\n",
    "import json"
   ]
  },
  {
   "cell_type": "code",
   "execution_count": null,
   "metadata": {
    "scrolled": true
   },
   "outputs": [],
   "source": [
    "#import gensim"
   ]
  },
  {
   "cell_type": "code",
   "execution_count": null,
   "metadata": {},
   "outputs": [],
   "source": [
    "dwt_roots = read_util(Path(\"../data/utils/dwts.txt\"))"
   ]
  },
  {
   "cell_type": "code",
   "execution_count": null,
   "metadata": {},
   "outputs": [],
   "source": [
    "dwt_roots"
   ]
  },
  {
   "cell_type": "code",
   "execution_count": null,
   "metadata": {},
   "outputs": [],
   "source": [
    "models_at = Path(\"/home/max/Results/fb_pol-yearly-rad3/models\")\n",
    "vocabs_at = Path(\"/home/max/Corpora/flashback-pol-time/yearly/fb-pt-radical3-v0/vocab\")"
   ]
  },
  {
   "cell_type": "code",
   "execution_count": null,
   "metadata": {},
   "outputs": [],
   "source": [
    "def neighbors(\n",
    "    mod_path, \n",
    "    voc_path, \n",
    "    roots, \n",
    "    restriction = (\"N1\", \"N2\", \"V1\", \"V2\", \"A1\", \"P1\"), \n",
    "    k=10,\n",
    "    min_freq = None\n",
    "):\n",
    "    \n",
    "    lst = list()\n",
    "    \n",
    "    for model in sorted(os.listdir(mod_path)):\n",
    "        if not model.endswith(\".w2v\"):\n",
    "            continue\n",
    "        \n",
    "        print(model)\n",
    "        \n",
    "        wv = KeyedVectors.load_word2vec_format(mod_path / model)\n",
    "        counts = load_metric(voc_path / model.replace(\".w2v\", \".txt\"))\n",
    "        words = [word for word in wv.index_to_key if any(root in word for root in roots)]\n",
    "        if restriction != None:\n",
    "            words = [word for word in words if word.startswith(restriction)]\n",
    "        \n",
    "        year = int(model.replace(\".w2v\", \"\"))\n",
    "        \n",
    "        for word in words:\n",
    "            if min_freq == None:\n",
    "                for neighbor, score in wv.most_similar(positive = [word], topn = k):\n",
    "                    count = int(counts[neighbor])\n",
    "                    lst.append({\n",
    "                        \"Word\": word,\n",
    "                        \"Year\": year,\n",
    "                        \"Neighbor\": neighbor,\n",
    "                        \"Score\": score,\n",
    "                        \"Count\": count\n",
    "                    })\n",
    "            \n",
    "            else:\n",
    "                nbh_count = 0\n",
    "                top_candidates = wv.most_similar(positive = [word], topn = 10000) # hopefully 10000 is enough\n",
    "                for neighbor, score in top_candidates:\n",
    "                    if nbh_count > k:\n",
    "                        break\n",
    "                    count = int(counts[neighbor])\n",
    "                    if count < min_freq:\n",
    "                        continue\n",
    "                    lst.append({\n",
    "                        \"Word\": word,\n",
    "                        \"Year\": year,\n",
    "                        \"Neighbor\": neighbor,\n",
    "                        \"Score\": score,\n",
    "                        \"Count\": count\n",
    "                    })                \n",
    "                    nbh_count += 1\n",
    "                \n",
    "    return lst"
   ]
  },
  {
   "cell_type": "code",
   "execution_count": null,
   "metadata": {},
   "outputs": [],
   "source": [
    "data = neighbors(models_at, vocabs_at, dwt_roots, k=15)"
   ]
  },
  {
   "cell_type": "code",
   "execution_count": null,
   "metadata": {},
   "outputs": [],
   "source": [
    "with open(Path(\"../../dw_results/neighbors.json\"), \"w\") as f:\n",
    "    f.write(json.dumps(data, indent=4))  "
   ]
  },
  {
   "cell_type": "code",
   "execution_count": null,
   "metadata": {},
   "outputs": [],
   "source": [
    "df = pd.DataFrame(data)\n",
    "df = df.sort_values(by=[\"Word\", \"Year\", \"Score\"])\n",
    "df.head(30)"
   ]
  },
  {
   "cell_type": "code",
   "execution_count": null,
   "metadata": {},
   "outputs": [],
   "source": [
    "df.to_csv(\"../../dw_results/neighbors.csv\", sep=\"\\t\")"
   ]
  },
  {
   "cell_type": "code",
   "execution_count": null,
   "metadata": {},
   "outputs": [],
   "source": []
  },
  {
   "cell_type": "code",
   "execution_count": null,
   "metadata": {},
   "outputs": [],
   "source": [
    "#######################3"
   ]
  },
  {
   "cell_type": "code",
   "execution_count": null,
   "metadata": {},
   "outputs": [],
   "source": [
    "def jaccard(a,b):\n",
    "    return len(a.intersection(b)) / len(a.union(b))"
   ]
  },
  {
   "cell_type": "code",
   "execution_count": null,
   "metadata": {},
   "outputs": [],
   "source": [
    "wv = KeyedVectors.load_word2vec_format(Path(\"/home/max/Results/fb_pol-yearly-rad3/models\") / \"2001.w2v\")\n"
   ]
  },
  {
   "cell_type": "code",
   "execution_count": null,
   "metadata": {},
   "outputs": [],
   "source": [
    "voc = load_metric(Path(\"/home/max/Corpora/flashback-pol-time/yearly/fb-pt-radical3-v0/vocab\") / \"2001.txt\")"
   ]
  },
  {
   "cell_type": "code",
   "execution_count": null,
   "metadata": {
    "scrolled": true
   },
   "outputs": [],
   "source": [
    "a = set()\n",
    "k = 0\n",
    "for w, score in wv.most_similar(positive = [\"N1_kulturberikare\"], topn = 1000):\n",
    "    if k > 20:\n",
    "        break\n",
    "    if voc[w] > 100:\n",
    "        print(w)\n",
    "        a.add(w)\n",
    "        k += 1\n",
    "    "
   ]
  },
  {
   "cell_type": "code",
   "execution_count": null,
   "metadata": {
    "scrolled": true
   },
   "outputs": [],
   "source": [
    "b = set()\n",
    "k = 0\n",
    "for w, score in wv.most_similar(positive = [\"N1_kulturberikare\"], topn = 1000):\n",
    "    if k > 20:\n",
    "        break\n",
    "    if voc[w] > 10:\n",
    "        print(w)\n",
    "        b.add(w)\n",
    "        k += 1\n",
    "    "
   ]
  },
  {
   "cell_type": "code",
   "execution_count": null,
   "metadata": {},
   "outputs": [],
   "source": [
    "jaccard(a,b)"
   ]
  }
 ],
 "metadata": {
  "kernelspec": {
   "display_name": "Python 3",
   "language": "python",
   "name": "python3"
  },
  "language_info": {
   "codemirror_mode": {
    "name": "ipython",
    "version": 3
   },
   "file_extension": ".py",
   "mimetype": "text/x-python",
   "name": "python",
   "nbconvert_exporter": "python",
   "pygments_lexer": "ipython3",
   "version": "3.8.5"
  }
 },
 "nbformat": 4,
 "nbformat_minor": 4
}
