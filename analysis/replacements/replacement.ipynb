{
 "cells": [
  {
   "cell_type": "markdown",
   "metadata": {},
   "source": [
    "## 1. SGNS\n",
    "\n",
    "### How to build the ingroup/outgroup dimensions?\n",
    "Build one vector for each dimension based on a set of words *L* from the replacement experiments coded as \"ingroup\" or \"outgroup\".\n",
    "\n",
    "* Top word (|*L*| = 1), given some measure, e.g. frequency or \"keyness\" (see below)\n",
    "* Top *k* words (|*L*| = *k*), given some measure, e.g. frequency or \"keyness\"\n",
    "* Manual selection of *L*; can be more or less motivated by some measure, e.g. frequency or \"keyness\"\n",
    "\n",
    "Given *L* the association with a dog whistle expression (DWE) over time can be measured by:\n",
    "\n",
    "* **CENTROID**: The similarity of the vector of the DWE at *t* and the mean of vectors of words in *L* (at *t*)\n",
    "* **PAIRWISE**: The mean of similarity of the vector of the DWE (at *t*) and the vector of each word in *L* (given this latter approach, it is possible to use a *T*-test to compare if there is a difference in in- vs out-group association; the methodological implications of this shold be though through, though). **Does this matter?**\n",
    "\n",
    "\n",
    "### Morphology\n",
    "The replacement tests are done with specific forms, e.g. plural of *globalist*: \"globalister\". Hence, the responses (replacements) will typically align with the target form: \"elitist*er*\". Also *förortsgäng* is a collective noun with its replacement typically being plural (\"kriminella ungdom*ar*\"). These considerations poses a question about how (if at all) to expand *L* by including morphologically related forms when building the in/outgroup dimensions. \n",
    "\n",
    "### Should multiple words be combined (e.g., *skicka tillbaka*)? If so, how? \n",
    "(https://www.baeldung.com/cs/sentence-vectors-word2vec)\n",
    "\n",
    "For the SGNS models, it is easier if we ignore phrases and exclude \"stopwords\". But otherwise, the following methods can be considered to combine vectors:\n",
    "\n",
    "* addition\n",
    "* averaging\n",
    "* weigthed averaging\n",
    "\n",
    "### How to avoid overlap of dimensions? Keyness?\n",
    "For example, for *förortsgäng*, *kriminell* is a frequent term in replacements of both the ingroup and the outgroup. To handle this, some kind of keyword methodology can be considered (cf. corpus linguistics and meausures of \"keyness\", that considers the probability of term *t* in an ingoup vs. en outgroup \"corpus\").\n",
    "\n",
    "### Some definitions\n",
    "* *I*<sub>1</sub> =<sub>df.</sub> words in first replacement coded as ingroup meanings\n",
    "* *O*<sub>1</sub> =<sub>df.</sub> words in first replacement coded as outgroup meanings\n",
    "* *I*<sub>2</sub> =<sub>df.</sub> words in second replacement coded as ingroup meanings\n",
    "* *O*<sub>2</sub> =<sub>df.</sub> words in second replacement coded as outgroup meanings\n",
    "\n",
    "* *I*<sub>*both*</sub> =<sub>df.</sub> *I*<sub>1</sub> ⋃ *I*<sub>2</sub> \n",
    "* *O*<sub>*both*</sub> =<sub>df.</sub> *O*<sub>1</sub> ⋃ *O*<sub>2</sub>\n",
    "\n",
    "#### A-List\n",
    "*A*<sub>*X*</sub> =<sub>df.</sub> a selected set of words of set *X*, where *X*=*I* (ingroup) or *X*=*O* (outgroup); given some selection function ***Select()***, such that = *Select*(*X*) = *A*<sub>*X*</sub>. \n",
    "\n",
    "For example, let ***Select*<sub>*All*</sub>** be the function that selects all words of *X* (*Select*<sub>*All*</sub>(*X*) = *X*); and ***Select*<sub>*TopK*</sub>** be the function that selects the *K* most frequent word in *X*; e.g., *Select*<sub>*TopK*</sub>(*X*) = {*x*: *x* is among first *K* elements of *rank*(*X*, *f*)}, where *rank*(*X*, *f*) ranks the elements of *X* given some feature *f* (e.g., frequency).\n",
    "\n",
    "#### B-List\n",
    "*B*<sub>*X*</sub> =<sub>df.</sub> the set of words used to model the vector of dimensions **ingroup** (*X*=*I*) or **outgroup** (*X*=*O*). \n",
    "\n",
    "*B*<sub>*X*</sub> is related to *A*<sub>*X*</sub> via the function ***F***, such that *F*(*A*<sub>*X*</sub>) = *B*<sub>*X*</sub>. *F* should at least selects words in *A*<sub>*X*</sub> that also are in the vocabulary *V* of the `word2vec` model (matrix). A minimalist version of *F*, i.e. ***WINV***, does this and nothing else. More or less sophisticated version of *F* can be defined, based on additional steps to this minimal requirement (see below).\n",
    "\n",
    "### Methods:\n",
    "#### Really Naive (RN)\n",
    "* *B*<sub>*I*</sub> = *WINV*(*I*<sub>*both*</sub>)\n",
    "* *B*<sub>*O*</sub> = *WINV*(*O*<sub>*both*</sub>)\n",
    "\n",
    "*Problems:* \n",
    "* Overlap of dimensions (*I* and *O* share terms for some DWEs)\n",
    "* Misses morphologically related forms\n",
    "* Give equal attention to common and less common replacements\n",
    "\n",
    "#### Naive No Overlap (NNO)\n",
    "* *B*<sub>*I*</sub> = *WINV*({*w*: *w* in *I*<sub>*both*</sub> and *w* not in *O*<sub>*both*</sub>})\n",
    "* *B*<sub>*O*</sub> = *WINV*({*w*: *w* in *O*<sub>*both*</sub> and *w* not in *I*<sub>*both*</sub>})\n",
    "\n",
    "*Problems:* \n",
    "* The NO criterion can be too strong (note coding of replacements)!\n",
    "* Shares problems with RN\n",
    "\n",
    "#### Top 1 (T1), including NO\n",
    "\n",
    "\n",
    "#### Top 3 (T3), including NO\n",
    "\n",
    "\n",
    "#### Multi-Steps (MS) approaches\n",
    "\n",
    "For ***Select()***:\n",
    "\n",
    "|Feature  |Top|Threshold|\n",
    "|---------|---|---------|\n",
    "|Frequency|*a*|*b*      |\n",
    "|Keyness  |*c*|*d*      |\n",
    "\n",
    "\n",
    "For ***F()***:\n",
    "for *w* in *A*:\n",
    "* Identify lemma (or stem) *s* of *w*\n",
    "* (split compounds?)\n",
    "* Identify inflectional paradigm *G* for *s*; *G* = {wordform *w*: *w* is a inflectional varaint of *s*}\n",
    "* *G*<sup>*WINV*</sup> = *WINV*(*G*)\n",
    "* *C* = *FREQ*(*G*<sup>*WINV*</sup>)\n",
    "\n",
    "Next, three options:\n",
    "* Ignorant: ignore *C*, *β* = *G*<sup>*WINV*</sup>; *B* = *β*<sub>1</sub> ⋃ ... *β*<sub>*n*</sub> (*n* is the length of *A*)\n",
    "* Threshold: *β* = {*w*: *C*(*w*) < *T*} where T is some threshold \n",
    "* Weigthing: Use *C* as weights in building dimension\n",
    "\n",
    "\n",
    "\n",
    "\n",
    "HOW SIMILAR ARE WORDS WITHIN AN INFLECTIONAL PARADIGM? ---> ignore outliers - or keep them!?\n",
    "\n",
    "#### Manual!\n",
    "...\n",
    "\n",
    "\n",
    "## 2. AVG BERT\n",
    "### Scope\n",
    "Complete or partial? I.e., all `meaning = 1` or just a selection? (a question similar to determine *L* above)\n",
    "\n",
    "### Out of vocabulary\n",
    "Will out of vocabulary be a problem for a non-domain adapted BERT? Will the tokenization of BERT \"take care\" of this? I.e., given the short \"sentences\" in replacements, will BERT be able to differentiate in/outgroup dimensions? This is the question of Hertzberg (et al.). And the answer was \"yes\" (but note fine-tuned vs. not fine-tuned). \n",
    "\n",
    "## 3. CLT BERT\n",
    "The same questions of scope and OOV as for AVG BERT applies for CLT BERT. Additional options for how to relate in/outgroup dimensions to clusters include:\n",
    "* Use the centroids of clusters\n",
    "* Use jaccard similarity with top terms of clusters, given some weigthed frequency distribution; conider, for example, class-based TF-IDF. "
   ]
  },
  {
   "cell_type": "markdown",
   "metadata": {},
   "source": [
    "What about *hjälpa på plats*?"
   ]
  },
  {
   "cell_type": "code",
   "execution_count": 1,
   "metadata": {},
   "outputs": [],
   "source": [
    "import os\n",
    "import pandas as pd\n",
    "import numpy as np\n",
    "from gensim.models import KeyedVectors\n",
    "from pathlib import Path\n",
    "from collections import Counter\n",
    "from itertools import combinations\n",
    "#from util import load_metric, read_util\n",
    "\n",
    "from sklearn.metrics.pairwise import cosine_similarity\n",
    "from scipy.stats import ttest_ind"
   ]
  },
  {
   "cell_type": "markdown",
   "metadata": {},
   "source": [
    "## Data"
   ]
  },
  {
   "cell_type": "code",
   "execution_count": 2,
   "metadata": {},
   "outputs": [],
   "source": [
    "with open(Path(\"../../data/utils/stopwords-sv.txt\")) as f:\n",
    "    stopwords = [sw.replace(\"\\n\", \"\") for sw in f.readlines()]"
   ]
  },
  {
   "cell_type": "code",
   "execution_count": 3,
   "metadata": {},
   "outputs": [],
   "source": [
    "path_to_data = Path(\"/home/max/Documents/research/replacement_data/panel_wide_onlyreplace.csv\")\n",
    "replacement_data = pd.read_csv(path_to_data, sep=\"\\t\")"
   ]
  },
  {
   "cell_type": "code",
   "execution_count": null,
   "metadata": {},
   "outputs": [],
   "source": [
    "#replacement_data"
   ]
  },
  {
   "cell_type": "code",
   "execution_count": null,
   "metadata": {},
   "outputs": [],
   "source": [
    "#replacement_data = replacement_data.drop(0)"
   ]
  },
  {
   "cell_type": "code",
   "execution_count": null,
   "metadata": {},
   "outputs": [],
   "source": [
    "#replacement_data"
   ]
  },
  {
   "cell_type": "code",
   "execution_count": 4,
   "metadata": {},
   "outputs": [],
   "source": [
    "#df= df.applymap(lambda s:s.lower() if type(s) == str else s)\n",
    "replacement_data = replacement_data.applymap(lambda s: s.lower() if type(s) == str else s)"
   ]
  },
  {
   "cell_type": "code",
   "execution_count": 5,
   "metadata": {},
   "outputs": [
    {
     "data": {
      "text/html": [
       "<div>\n",
       "<style scoped>\n",
       "    .dataframe tbody tr th:only-of-type {\n",
       "        vertical-align: middle;\n",
       "    }\n",
       "\n",
       "    .dataframe tbody tr th {\n",
       "        vertical-align: top;\n",
       "    }\n",
       "\n",
       "    .dataframe thead th {\n",
       "        text-align: right;\n",
       "    }\n",
       "</style>\n",
       "<table border=\"1\" class=\"dataframe\">\n",
       "  <thead>\n",
       "    <tr style=\"text-align: right;\">\n",
       "      <th></th>\n",
       "      <th>forortsgang_text_w1</th>\n",
       "      <th>forortsgang_w1_C</th>\n",
       "      <th>forortsgang_text_w2</th>\n",
       "      <th>forortsgang_w2_C</th>\n",
       "      <th>aterinvandring_text_w1</th>\n",
       "      <th>aterinvandring_w1_C</th>\n",
       "      <th>aterinvandring_text_w2</th>\n",
       "      <th>aterinvandring_w2_C</th>\n",
       "      <th>berikar_text_w1</th>\n",
       "      <th>berikar_w1_C</th>\n",
       "      <th>...</th>\n",
       "      <th>globalister_text_w2</th>\n",
       "      <th>globalister_w2_C</th>\n",
       "      <th>ordningreda_text_w1</th>\n",
       "      <th>ordningreda_w1_C</th>\n",
       "      <th>ordningreda_text_w2</th>\n",
       "      <th>ordningreda_w2_C</th>\n",
       "      <th>sjalvstandig_text_w1</th>\n",
       "      <th>sjalvstandig_w1_C</th>\n",
       "      <th>sjalvstandig_text_w2</th>\n",
       "      <th>sjalvstandig_w2_C</th>\n",
       "    </tr>\n",
       "  </thead>\n",
       "  <tbody>\n",
       "    <tr>\n",
       "      <th>0</th>\n",
       "      <td>ungdomsgäng, småkriminella, ligister, våldsver...</td>\n",
       "      <td>2.0</td>\n",
       "      <td>NaN</td>\n",
       "      <td>NaN</td>\n",
       "      <td>repatriering, kompensatorisk migration, deport...</td>\n",
       "      <td>1.0</td>\n",
       "      <td>NaN</td>\n",
       "      <td>NaN</td>\n",
       "      <td>påverkar, präglar, utvecklar, förändrar</td>\n",
       "      <td>2.0</td>\n",
       "      <td>...</td>\n",
       "      <td>NaN</td>\n",
       "      <td>NaN</td>\n",
       "      <td>strama åt, göra konsekvensanalyser, ge hjälpen...</td>\n",
       "      <td>1.0</td>\n",
       "      <td>NaN</td>\n",
       "      <td>NaN</td>\n",
       "      <td>stå på egna ben militärt såväl som i livsmedel...</td>\n",
       "      <td>2.0</td>\n",
       "      <td>NaN</td>\n",
       "      <td>NaN</td>\n",
       "    </tr>\n",
       "    <tr>\n",
       "      <th>1</th>\n",
       "      <td>NaN</td>\n",
       "      <td>NaN</td>\n",
       "      <td>unga från ytterområden</td>\n",
       "      <td>2.0</td>\n",
       "      <td>NaN</td>\n",
       "      <td>NaN</td>\n",
       "      <td>repatriering</td>\n",
       "      <td>2.0</td>\n",
       "      <td>NaN</td>\n",
       "      <td>NaN</td>\n",
       "      <td>...</td>\n",
       "      <td>världselit</td>\n",
       "      <td>1.0</td>\n",
       "      <td>NaN</td>\n",
       "      <td>NaN</td>\n",
       "      <td>-99</td>\n",
       "      <td>NaN</td>\n",
       "      <td>NaN</td>\n",
       "      <td>NaN</td>\n",
       "      <td>egen policy utomlands.</td>\n",
       "      <td>2.0</td>\n",
       "    </tr>\n",
       "    <tr>\n",
       "      <th>2</th>\n",
       "      <td>NaN</td>\n",
       "      <td>NaN</td>\n",
       "      <td>gäng</td>\n",
       "      <td>2.0</td>\n",
       "      <td>NaN</td>\n",
       "      <td>NaN</td>\n",
       "      <td>hjälp att flytta tillbaka till hemlandet</td>\n",
       "      <td>2.0</td>\n",
       "      <td>NaN</td>\n",
       "      <td>NaN</td>\n",
       "      <td>...</td>\n",
       "      <td>-99</td>\n",
       "      <td>NaN</td>\n",
       "      <td>NaN</td>\n",
       "      <td>NaN</td>\n",
       "      <td>en tydlig riktning i flyktingpolitiken</td>\n",
       "      <td>2.0</td>\n",
       "      <td>NaN</td>\n",
       "      <td>NaN</td>\n",
       "      <td>egen utrikespolitik</td>\n",
       "      <td>2.0</td>\n",
       "    </tr>\n",
       "    <tr>\n",
       "      <th>3</th>\n",
       "      <td>småpojkar,</td>\n",
       "      <td>2.0</td>\n",
       "      <td>svartskallar</td>\n",
       "      <td>1.0</td>\n",
       "      <td>repatriering, tvångsförflyttning</td>\n",
       "      <td>1.0</td>\n",
       "      <td>repatriering</td>\n",
       "      <td>2.0</td>\n",
       "      <td>tillför värde, förbättrar</td>\n",
       "      <td>2.0</td>\n",
       "      <td>...</td>\n",
       "      <td>landsförrädare</td>\n",
       "      <td>2.0</td>\n",
       "      <td>bryta mot asylrätten</td>\n",
       "      <td>1.0</td>\n",
       "      <td>minska flyktingströmmen</td>\n",
       "      <td>1.0</td>\n",
       "      <td>neutral, ej avhängigt andras agendor,</td>\n",
       "      <td>2.0</td>\n",
       "      <td>neutral</td>\n",
       "      <td>2.0</td>\n",
       "    </tr>\n",
       "    <tr>\n",
       "      <th>4</th>\n",
       "      <td>NaN</td>\n",
       "      <td>NaN</td>\n",
       "      <td>gängkriminiella sammanslutningar</td>\n",
       "      <td>2.0</td>\n",
       "      <td>NaN</td>\n",
       "      <td>NaN</td>\n",
       "      <td>att få invandrare att återvända till sina heml...</td>\n",
       "      <td>2.0</td>\n",
       "      <td>NaN</td>\n",
       "      <td>NaN</td>\n",
       "      <td>...</td>\n",
       "      <td>företrädare med ett internationellt perspektiv</td>\n",
       "      <td>2.0</td>\n",
       "      <td>NaN</td>\n",
       "      <td>NaN</td>\n",
       "      <td>struktur och tydlighet i migrationspolitiken</td>\n",
       "      <td>2.0</td>\n",
       "      <td>NaN</td>\n",
       "      <td>NaN</td>\n",
       "      <td>utrikespolitik fri från yttre påverkan</td>\n",
       "      <td>2.0</td>\n",
       "    </tr>\n",
       "    <tr>\n",
       "      <th>...</th>\n",
       "      <td>...</td>\n",
       "      <td>...</td>\n",
       "      <td>...</td>\n",
       "      <td>...</td>\n",
       "      <td>...</td>\n",
       "      <td>...</td>\n",
       "      <td>...</td>\n",
       "      <td>...</td>\n",
       "      <td>...</td>\n",
       "      <td>...</td>\n",
       "      <td>...</td>\n",
       "      <td>...</td>\n",
       "      <td>...</td>\n",
       "      <td>...</td>\n",
       "      <td>...</td>\n",
       "      <td>...</td>\n",
       "      <td>...</td>\n",
       "      <td>...</td>\n",
       "      <td>...</td>\n",
       "      <td>...</td>\n",
       "      <td>...</td>\n",
       "    </tr>\n",
       "    <tr>\n",
       "      <th>3237</th>\n",
       "      <td>NaN</td>\n",
       "      <td>NaN</td>\n",
       "      <td>NaN</td>\n",
       "      <td>NaN</td>\n",
       "      <td>NaN</td>\n",
       "      <td>NaN</td>\n",
       "      <td>NaN</td>\n",
       "      <td>NaN</td>\n",
       "      <td>NaN</td>\n",
       "      <td>NaN</td>\n",
       "      <td>...</td>\n",
       "      <td>NaN</td>\n",
       "      <td>NaN</td>\n",
       "      <td>NaN</td>\n",
       "      <td>NaN</td>\n",
       "      <td>NaN</td>\n",
       "      <td>NaN</td>\n",
       "      <td>NaN</td>\n",
       "      <td>NaN</td>\n",
       "      <td>NaN</td>\n",
       "      <td>NaN</td>\n",
       "    </tr>\n",
       "    <tr>\n",
       "      <th>3238</th>\n",
       "      <td>NaN</td>\n",
       "      <td>NaN</td>\n",
       "      <td>kriminalitet</td>\n",
       "      <td>2.0</td>\n",
       "      <td>NaN</td>\n",
       "      <td>NaN</td>\n",
       "      <td>indraget uppehållstillstånd</td>\n",
       "      <td>1.0</td>\n",
       "      <td>NaN</td>\n",
       "      <td>NaN</td>\n",
       "      <td>...</td>\n",
       "      <td>-99</td>\n",
       "      <td>NaN</td>\n",
       "      <td>NaN</td>\n",
       "      <td>NaN</td>\n",
       "      <td>begränsad</td>\n",
       "      <td>1.0</td>\n",
       "      <td>NaN</td>\n",
       "      <td>NaN</td>\n",
       "      <td>-99</td>\n",
       "      <td>NaN</td>\n",
       "    </tr>\n",
       "    <tr>\n",
       "      <th>3239</th>\n",
       "      <td>NaN</td>\n",
       "      <td>NaN</td>\n",
       "      <td>gäng med ungdomar i orter kring de större städ...</td>\n",
       "      <td>2.0</td>\n",
       "      <td>NaN</td>\n",
       "      <td>NaN</td>\n",
       "      <td>att invandrarna flyttar tillbaka hem</td>\n",
       "      <td>2.0</td>\n",
       "      <td>NaN</td>\n",
       "      <td>NaN</td>\n",
       "      <td>...</td>\n",
       "      <td>ser hela världen hänga ihop</td>\n",
       "      <td>2.0</td>\n",
       "      <td>NaN</td>\n",
       "      <td>NaN</td>\n",
       "      <td>styra upp flyktingpolitiken</td>\n",
       "      <td>2.0</td>\n",
       "      <td>NaN</td>\n",
       "      <td>NaN</td>\n",
       "      <td>själv bestämma över utrikespolitiken</td>\n",
       "      <td>2.0</td>\n",
       "    </tr>\n",
       "    <tr>\n",
       "      <th>3240</th>\n",
       "      <td>NaN</td>\n",
       "      <td>NaN</td>\n",
       "      <td>ungdomar från socialt utsatta områden</td>\n",
       "      <td>2.0</td>\n",
       "      <td>NaN</td>\n",
       "      <td>NaN</td>\n",
       "      <td>att invandrare flyttar tillbaka till sina ursp...</td>\n",
       "      <td>2.0</td>\n",
       "      <td>NaN</td>\n",
       "      <td>NaN</td>\n",
       "      <td>...</td>\n",
       "      <td>-99</td>\n",
       "      <td>NaN</td>\n",
       "      <td>NaN</td>\n",
       "      <td>NaN</td>\n",
       "      <td>-99</td>\n",
       "      <td>NaN</td>\n",
       "      <td>NaN</td>\n",
       "      <td>NaN</td>\n",
       "      <td>egen utrikespolitik</td>\n",
       "      <td>2.0</td>\n",
       "    </tr>\n",
       "    <tr>\n",
       "      <th>3241</th>\n",
       "      <td>stadsdelsgäng</td>\n",
       "      <td>2.0</td>\n",
       "      <td>NaN</td>\n",
       "      <td>NaN</td>\n",
       "      <td>utvisning</td>\n",
       "      <td>1.0</td>\n",
       "      <td>NaN</td>\n",
       "      <td>NaN</td>\n",
       "      <td>har mycket att ge oss svenskar</td>\n",
       "      <td>2.0</td>\n",
       "      <td>...</td>\n",
       "      <td>NaN</td>\n",
       "      <td>NaN</td>\n",
       "      <td>långsiktighet</td>\n",
       "      <td>2.0</td>\n",
       "      <td>NaN</td>\n",
       "      <td>NaN</td>\n",
       "      <td>eu-gemensam utrikesp.....</td>\n",
       "      <td>2.0</td>\n",
       "      <td>NaN</td>\n",
       "      <td>NaN</td>\n",
       "    </tr>\n",
       "  </tbody>\n",
       "</table>\n",
       "<p>3242 rows × 24 columns</p>\n",
       "</div>"
      ],
      "text/plain": [
       "                                    forortsgang_text_w1  forortsgang_w1_C  \\\n",
       "0     ungdomsgäng, småkriminella, ligister, våldsver...               2.0   \n",
       "1                                                   NaN               NaN   \n",
       "2                                                   NaN               NaN   \n",
       "3                                            småpojkar,               2.0   \n",
       "4                                                   NaN               NaN   \n",
       "...                                                 ...               ...   \n",
       "3237                                                NaN               NaN   \n",
       "3238                                                NaN               NaN   \n",
       "3239                                                NaN               NaN   \n",
       "3240                                                NaN               NaN   \n",
       "3241                                      stadsdelsgäng               2.0   \n",
       "\n",
       "                                    forortsgang_text_w2  forortsgang_w2_C  \\\n",
       "0                                                   NaN               NaN   \n",
       "1                                unga från ytterområden               2.0   \n",
       "2                                                  gäng               2.0   \n",
       "3                                          svartskallar               1.0   \n",
       "4                      gängkriminiella sammanslutningar               2.0   \n",
       "...                                                 ...               ...   \n",
       "3237                                                NaN               NaN   \n",
       "3238                                       kriminalitet               2.0   \n",
       "3239  gäng med ungdomar i orter kring de större städ...               2.0   \n",
       "3240              ungdomar från socialt utsatta områden               2.0   \n",
       "3241                                                NaN               NaN   \n",
       "\n",
       "                                 aterinvandring_text_w1  aterinvandring_w1_C  \\\n",
       "0     repatriering, kompensatorisk migration, deport...                  1.0   \n",
       "1                                                   NaN                  NaN   \n",
       "2                                                   NaN                  NaN   \n",
       "3                      repatriering, tvångsförflyttning                  1.0   \n",
       "4                                                   NaN                  NaN   \n",
       "...                                                 ...                  ...   \n",
       "3237                                                NaN                  NaN   \n",
       "3238                                                NaN                  NaN   \n",
       "3239                                                NaN                  NaN   \n",
       "3240                                                NaN                  NaN   \n",
       "3241                                          utvisning                  1.0   \n",
       "\n",
       "                                 aterinvandring_text_w2  aterinvandring_w2_C  \\\n",
       "0                                                   NaN                  NaN   \n",
       "1                                          repatriering                  2.0   \n",
       "2              hjälp att flytta tillbaka till hemlandet                  2.0   \n",
       "3                                          repatriering                  2.0   \n",
       "4     att få invandrare att återvända till sina heml...                  2.0   \n",
       "...                                                 ...                  ...   \n",
       "3237                                                NaN                  NaN   \n",
       "3238                        indraget uppehållstillstånd                  1.0   \n",
       "3239               att invandrarna flyttar tillbaka hem                  2.0   \n",
       "3240  att invandrare flyttar tillbaka till sina ursp...                  2.0   \n",
       "3241                                                NaN                  NaN   \n",
       "\n",
       "                              berikar_text_w1  berikar_w1_C  ...  \\\n",
       "0     påverkar, präglar, utvecklar, förändrar           2.0  ...   \n",
       "1                                         NaN           NaN  ...   \n",
       "2                                         NaN           NaN  ...   \n",
       "3                   tillför värde, förbättrar           2.0  ...   \n",
       "4                                         NaN           NaN  ...   \n",
       "...                                       ...           ...  ...   \n",
       "3237                                      NaN           NaN  ...   \n",
       "3238                                      NaN           NaN  ...   \n",
       "3239                                      NaN           NaN  ...   \n",
       "3240                                      NaN           NaN  ...   \n",
       "3241           har mycket att ge oss svenskar           2.0  ...   \n",
       "\n",
       "                                 globalister_text_w2  globalister_w2_C  \\\n",
       "0                                                NaN               NaN   \n",
       "1                                         världselit               1.0   \n",
       "2                                                -99               NaN   \n",
       "3                                     landsförrädare               2.0   \n",
       "4     företrädare med ett internationellt perspektiv               2.0   \n",
       "...                                              ...               ...   \n",
       "3237                                             NaN               NaN   \n",
       "3238                                             -99               NaN   \n",
       "3239                     ser hela världen hänga ihop               2.0   \n",
       "3240                                             -99               NaN   \n",
       "3241                                             NaN               NaN   \n",
       "\n",
       "                                    ordningreda_text_w1  ordningreda_w1_C  \\\n",
       "0     strama åt, göra konsekvensanalyser, ge hjälpen...               1.0   \n",
       "1                                                   NaN               NaN   \n",
       "2                                                   NaN               NaN   \n",
       "3                                  bryta mot asylrätten               1.0   \n",
       "4                                                   NaN               NaN   \n",
       "...                                                 ...               ...   \n",
       "3237                                                NaN               NaN   \n",
       "3238                                                NaN               NaN   \n",
       "3239                                                NaN               NaN   \n",
       "3240                                                NaN               NaN   \n",
       "3241                                      långsiktighet               2.0   \n",
       "\n",
       "                               ordningreda_text_w2  ordningreda_w2_C  \\\n",
       "0                                              NaN               NaN   \n",
       "1                                              -99               NaN   \n",
       "2           en tydlig riktning i flyktingpolitiken               2.0   \n",
       "3                          minska flyktingströmmen               1.0   \n",
       "4     struktur och tydlighet i migrationspolitiken               2.0   \n",
       "...                                            ...               ...   \n",
       "3237                                           NaN               NaN   \n",
       "3238                                     begränsad               1.0   \n",
       "3239                   styra upp flyktingpolitiken               2.0   \n",
       "3240                                           -99               NaN   \n",
       "3241                                           NaN               NaN   \n",
       "\n",
       "                                   sjalvstandig_text_w1  sjalvstandig_w1_C  \\\n",
       "0     stå på egna ben militärt såväl som i livsmedel...                2.0   \n",
       "1                                                   NaN                NaN   \n",
       "2                                                   NaN                NaN   \n",
       "3                 neutral, ej avhängigt andras agendor,                2.0   \n",
       "4                                                   NaN                NaN   \n",
       "...                                                 ...                ...   \n",
       "3237                                                NaN                NaN   \n",
       "3238                                                NaN                NaN   \n",
       "3239                                                NaN                NaN   \n",
       "3240                                                NaN                NaN   \n",
       "3241                          eu-gemensam utrikesp.....                2.0   \n",
       "\n",
       "                        sjalvstandig_text_w2  sjalvstandig_w2_C  \n",
       "0                                        NaN                NaN  \n",
       "1                     egen policy utomlands.                2.0  \n",
       "2                        egen utrikespolitik                2.0  \n",
       "3                                    neutral                2.0  \n",
       "4     utrikespolitik fri från yttre påverkan                2.0  \n",
       "...                                      ...                ...  \n",
       "3237                                     NaN                NaN  \n",
       "3238                                     -99                NaN  \n",
       "3239    själv bestämma över utrikespolitiken                2.0  \n",
       "3240                     egen utrikespolitik                2.0  \n",
       "3241                                     NaN                NaN  \n",
       "\n",
       "[3242 rows x 24 columns]"
      ]
     },
     "execution_count": 5,
     "metadata": {},
     "output_type": "execute_result"
    }
   ],
   "source": [
    "replacement_data"
   ]
  },
  {
   "cell_type": "code",
   "execution_count": 6,
   "metadata": {},
   "outputs": [
    {
     "data": {
      "text/plain": [
       "{'aterinvandring',\n",
       " 'berikar',\n",
       " 'forortsgang',\n",
       " 'globalister',\n",
       " 'ordningreda',\n",
       " 'sjalvstandig'}"
      ]
     },
     "execution_count": 6,
     "metadata": {},
     "output_type": "execute_result"
    }
   ],
   "source": [
    "set(w.split(\"_\")[0] for w in replacement_data.columns)"
   ]
  },
  {
   "cell_type": "markdown",
   "metadata": {},
   "source": [
    "## Functions"
   ]
  },
  {
   "cell_type": "code",
   "execution_count": null,
   "metadata": {},
   "outputs": [],
   "source": [
    "replacement_data.columns"
   ]
  },
  {
   "cell_type": "code",
   "execution_count": null,
   "metadata": {},
   "outputs": [],
   "source": [
    "replacement_data.loc[replacement_data['forortsgang_w1_C'] == 1, \"forortsgang_text_w1\"]"
   ]
  },
  {
   "cell_type": "code",
   "execution_count": 7,
   "metadata": {},
   "outputs": [],
   "source": [
    "def inspect(\n",
    "    df,            # Replacement Dataframe\n",
    "    dwe,           # Dog Whistle Expression\n",
    "    meaning,       # 1 for ingroup, 2 for outgroup\n",
    "    phase,         # 1 for first phase of data collection, 2 for second phase\n",
    "    sw = None,     # stopwords\n",
    "    punct = None,  # remove punctuations\n",
    "    verbose = True,\n",
    "    multi = False, # Keep the multi-word units of the replacements\n",
    "    rel_freq = False # use relative frequncies freq / no. of documents\n",
    "):\n",
    "    \n",
    "    counter = Counter()\n",
    "    \n",
    "    if type(df) == pd.DataFrame:\n",
    "        column = df.loc[df[f\"{dwe}_w{phase}_C\"] == meaning, f\"{dwe}_text_w{phase}\"]\n",
    "    else:\n",
    "        column = df\n",
    "    \n",
    "    for x in column:\n",
    "        if punct != None:\n",
    "            for p in punct:\n",
    "                x = x.replace(p, \"\")\n",
    "        x = x.split()\n",
    "        if sw != None:\n",
    "            x = [w for w in x if w not in sw]\n",
    "        \n",
    "        if multi:\n",
    "            x = [\"_\".join(x)]\n",
    "        \n",
    "        counter.update(set(x)) # Obs. terms are only counted once per \"document\"\n",
    "    \n",
    "    if rel_freq:\n",
    "        counter = Counter({w: c/len(column) for w,c in counter.items()})\n",
    "        \n",
    "    if verbose:\n",
    "        for w, f in sorted(counter.items(), key = lambda x: x[1], reverse = True)[:15]:\n",
    "            print(f\"{w:<30}{f}\")\n",
    "        print(\"-----------------------\")\n",
    "        print(\"Total no. of types:\", len(counter))\n",
    "    \n",
    "    \n",
    "\n",
    "    return counter"
   ]
  },
  {
   "cell_type": "raw",
   "metadata": {},
   "source": [
    "x = inspect(replacement_data,\"forortsgang\",1,1,sw=stopwords,verbose=False)"
   ]
  },
  {
   "cell_type": "raw",
   "metadata": {
    "scrolled": true
   },
   "source": [
    "sum(x.values())"
   ]
  },
  {
   "cell_type": "raw",
   "metadata": {},
   "source": [
    "max(x.values())"
   ]
  },
  {
   "cell_type": "raw",
   "metadata": {},
   "source": [
    "len(x) # Number of words, length of vocabulary"
   ]
  },
  {
   "cell_type": "raw",
   "metadata": {},
   "source": [
    "replacement_data[replacement_data[\"forortsgang_w1_C\"] == 1].shape[0] # Number of \"documents\""
   ]
  },
  {
   "cell_type": "code",
   "execution_count": 8,
   "metadata": {},
   "outputs": [],
   "source": [
    "def keyness(trg, ref, min_frq = 3, verbose = True): # Consider metric\n",
    "    \n",
    "    d = dict()\n",
    "    \n",
    "#     trg_tot = sum(trg.values())\n",
    "#     ref_tot = sum(ref.values())\n",
    "    trg_tot = len(trg)\n",
    "    ref_tot = len(ref)\n",
    "    \n",
    "    for w in trg.keys():\n",
    "        if trg[w] < min_frq:\n",
    "            continue\n",
    "        if w in ref:\n",
    "            d[w] = (trg[w] / trg_tot) / (ref[w] / ref_tot) # Odds Ratio (OR)\n",
    "        else:\n",
    "            d[w] = np.inf\n",
    "    \n",
    "    if verbose:\n",
    "        for word, trg_freq, keyness  in sorted([(w, trg[w], k) for w, k in d.items()], key = lambda x: x[1], reverse = True)[:20]:\n",
    "            if word in ref:\n",
    "                ref_freq = ref[word]\n",
    "            else:\n",
    "                ref_freq = 0\n",
    "            print(f\"{word:<30}{trg_freq:<4}{(trg_freq/trg_tot):<6.3f}{ref_freq:<4}{(ref_freq/ref_tot):<6.3f}{keyness:.4}\")        \n",
    "    \n",
    "    return d\n",
    "    "
   ]
  },
  {
   "cell_type": "code",
   "execution_count": 9,
   "metadata": {},
   "outputs": [],
   "source": [
    "def select_A(\n",
    "    df,            # Replacement Dataframe\n",
    "    dwe,           # Dog Whistle Expression\n",
    "    phase,         # 1 for first phase of data collection, 2 for second phase, \"both\" for both\n",
    "    sw = None,     # stopwords\n",
    "    punct = None,  # remove punctuations\n",
    "    k = None,\n",
    "    min_freq = None,\n",
    "    min_OR = None,\n",
    "    empty_intersect = False\n",
    "):\n",
    "    \n",
    "    if type(k) == tuple:\n",
    "        k_in, k_out = k\n",
    "    else:\n",
    "        k_in  = k\n",
    "        k_out = k\n",
    "    if type(min_freq) == tuple:\n",
    "        min_freq_in, min_freq_out = min_freq\n",
    "    else:\n",
    "        min_freq_in  = min_freq\n",
    "        min_freq_out = min_freq\n",
    "    if type(min_OR) == tuple:\n",
    "        min_OR_in, min_OR_out = min_OR\n",
    "    else:\n",
    "        min_OR_in  = min_OR\n",
    "        min_OR_out = min_OR\n",
    "    \n",
    "    if phase == \"both\":\n",
    "        x = pd.concat([\n",
    "            df.loc[df[f\"{dwe}_w{1}_C\"] == 1, f\"{dwe}_text_w{1}\"],\n",
    "            df.loc[df[f\"{dwe}_w{2}_C\"] == 1, f\"{dwe}_text_w{2}\"]\n",
    "        ]).to_list()\n",
    "                \n",
    "        y = pd.concat([\n",
    "            df.loc[df[f\"{dwe}_w{1}_C\"] == 2, f\"{dwe}_text_w{1}\"],\n",
    "            df.loc[df[f\"{dwe}_w{2}_C\"] == 2, f\"{dwe}_text_w{2}\"]\n",
    "        ]).to_list()\n",
    "\n",
    "        ingroup = inspect(x, dwe, None, None, sw, punct, verbose = False, rel_freq = True)\n",
    "        outgroup = inspect(y, dwe, None, None, sw, punct, verbose = False, rel_freq = True)\n",
    "#         _ = inspect(x, dwe, None, None, sw, punct, multi = True)   \n",
    "#         _ = inspect(y, dwe, None, None, sw, punct, multi = True)   \n",
    "\n",
    "        keyness_in2out = keyness(ingroup, outgroup, verbose = False, min_frq = -1)\n",
    "        keyness_out2in = keyness(outgroup, ingroup, verbose = False, min_frq = -1)\n",
    "        \n",
    "    else:    \n",
    "    \n",
    "        ingroup = inspect(df, dwe, 1, phase, sw, punct, verbose = False, rel_freq = True)\n",
    "        outgroup = inspect(df, dwe, 2, phase, sw, punct, verbose = False, rel_freq = True)\n",
    "#         _ = inspect(df, dwe, 1, phase, sw, punct, multi = True)\n",
    "#         _ = inspect(df, dwe, 2, phase, sw, punct, multi = True)\n",
    "        keyness_in2out = keyness(ingroup, outgroup, verbose = False, min_frq = -1)\n",
    "        keyness_out2in = keyness(outgroup, ingroup, verbose = False, min_frq = -1)\n",
    "    \n",
    "    A_in  = [w for w in ingroup.keys()]\n",
    "    A_out = [w for w in outgroup.keys()]\n",
    "    #print(A_out)\n",
    "    \n",
    "    if empty_intersect:\n",
    "        A_in  = [w for w in A_in if w not in outgroup.keys()]\n",
    "        A_out = [w for w in A_out if w not in ingroup.keys()]\n",
    "        \n",
    "    if min_freq != None:\n",
    "        A_in  = [w for w in A_in if ingroup[w] >= min_freq_in]\n",
    "        A_out = [w for w in A_out if outgroup[w] >= min_freq_out]\n",
    "    \n",
    "    #print(A_out)\n",
    "    \n",
    "    if min_OR != None:\n",
    "        A_in  = [w for w in A_in if keyness_in2out[w] >= min_OR_in]\n",
    "        A_out = [w for w in A_out if keyness_out2in[w] >= min_OR_out] # too strict to have the same threshold for both\n",
    "        \n",
    "    #print(A_out)    \n",
    "    \n",
    "    if k != None:\n",
    "        A_in  = [w for w,_ in sorted(ingroup.items(), key = lambda x: x[1], reverse = True) if w in A_in][:k_in]\n",
    "        A_out = [w for w,_ in sorted(outgroup.items(), key = lambda x: x[1], reverse = True) if w in A_out][:k_out]\n",
    "    \n",
    "    \n",
    "    return A_in, A_out"
   ]
  },
  {
   "cell_type": "code",
   "execution_count": 10,
   "metadata": {},
   "outputs": [],
   "source": [
    "def other(df, dwe, meaning, phase, criteria, verbose = True):\n",
    "    \n",
    "    oth = []\n",
    "    \n",
    "    if type(df) == pd.DataFrame:\n",
    "        column = df.loc[df[f\"{dwe}_w{phase}_C\"] == meaning, f\"{dwe}_text_w{phase}\"]\n",
    "    else:\n",
    "        column = df\n",
    "\n",
    "    for x in column:\n",
    "        keep = True\n",
    "        for criterion in criteria:\n",
    "            if criterion in x:\n",
    "                keep = False\n",
    "                continue\n",
    "        if keep:\n",
    "            oth.append(x)\n",
    "    \n",
    "    if verbose:\n",
    "        for x in oth:\n",
    "            print(x)\n",
    "    \n",
    "    return oth\n"
   ]
  },
  {
   "cell_type": "code",
   "execution_count": 14,
   "metadata": {},
   "outputs": [],
   "source": [
    "def inspect_all(\n",
    "    df,            # Replacement Dataframe\n",
    "    dwe,           # Dog Whistle Expression\n",
    "    phase,         # 1 for first phase of data collection, 2 for second phase\n",
    "    sw = None,     # stopwords\n",
    "    punct = None,  # remove punctuations\n",
    "    present_phrases = True\n",
    "):\n",
    "    \n",
    "    if phase == \"both\":\n",
    "        print(\"Most frequent\")\n",
    "        print(\"=============\")        \n",
    "        \n",
    "        x = pd.concat([\n",
    "            df.loc[df[f\"{dwe}_w{1}_C\"] == 1, f\"{dwe}_text_w{1}\"],\n",
    "            df.loc[df[f\"{dwe}_w{2}_C\"] == 1, f\"{dwe}_text_w{2}\"]\n",
    "        ]).to_list()\n",
    "        \n",
    "                \n",
    "        y = pd.concat([\n",
    "            df.loc[df[f\"{dwe}_w{1}_C\"] == 2, f\"{dwe}_text_w{1}\"],\n",
    "            df.loc[df[f\"{dwe}_w{2}_C\"] == 2, f\"{dwe}_text_w{2}\"]\n",
    "        ]).to_list()\n",
    "\n",
    "        print(\"In-group:\")\n",
    "        print(\"(a) Split\")\n",
    "        ingroup = inspect(x, dwe, None, None, sw, punct)\n",
    "        print()\n",
    "        if present_phrases:\n",
    "            print(\"(b) Keep phrases\")\n",
    "            _ = inspect(x, dwe, None, None, sw, punct, multi = True)   \n",
    "        print(\"Out-group:\")\n",
    "        print(\"(a) Split\")\n",
    "        outgroup = inspect(y, dwe, None, None, sw, punct)\n",
    "        print()\n",
    "        if present_phrases:\n",
    "            print(\"(b) Keep phrases\")\n",
    "            _ = inspect(y, dwe, None, None, sw, punct, multi = True)   \n",
    "\n",
    "        \n",
    "        print()\n",
    "        print(\"Keyness\")\n",
    "        print(\"=======\")\n",
    "        print(f\"(a) in-group --> out-group\")\n",
    "        _ = keyness(ingroup, outgroup)\n",
    "        print()\n",
    "        print(f\"(b) out-group --> in-group\")\n",
    "        _ = keyness(outgroup, ingroup)\n",
    "        print()        \n",
    "        \n",
    "    else:    \n",
    "    \n",
    "        print(\"Most frequent\")\n",
    "        print(\"=============\")\n",
    "        print(\"In-group:\")\n",
    "        print(\"(a) Split\")\n",
    "        ingroup = inspect(df, dwe, 1, phase, sw, punct)\n",
    "        print()\n",
    "        if present_phrases:\n",
    "            print(\"(b) Keep phrases\")\n",
    "            _ = inspect(df, dwe, 1, phase, sw, punct, multi = True)\n",
    "            print()\n",
    "        print(\"Out-group:\")\n",
    "        print(\"(a) Split\")\n",
    "        outgroup = inspect(df, dwe, 2, phase, sw, punct)\n",
    "        print()\n",
    "        if present_phrases:\n",
    "            print(\"(b) Keep phrases\")\n",
    "            _ = inspect(df, dwe, 2, phase, sw, punct, multi = True)\n",
    "            print()\n",
    "\n",
    "        print(\"Keyness\")\n",
    "        print(\"=======\")\n",
    "        print(\"(a) in-group --> out-group\")\n",
    "        _ = keyness(ingroup, outgroup)\n",
    "        print()\n",
    "\n",
    "        print(\"(b) out-group --> in-group\")\n",
    "        _ = keyness(outgroup, ingroup)\n",
    "        print()\n",
    "\n",
    "    "
   ]
  },
  {
   "cell_type": "markdown",
   "metadata": {},
   "source": [
    "## Explorations"
   ]
  },
  {
   "cell_type": "markdown",
   "metadata": {},
   "source": [
    "### (1) Förortsgäng"
   ]
  },
  {
   "cell_type": "code",
   "execution_count": 15,
   "metadata": {
    "scrolled": true
   },
   "outputs": [
    {
     "name": "stdout",
     "output_type": "stream",
     "text": [
      "Most frequent\n",
      "=============\n",
      "In-group:\n",
      "(a) Split\n",
      "invandrargäng                 152\n",
      "invandrare                    150\n",
      "kriminella                    49\n",
      "invandrarungdomar             45\n",
      "unga                          36\n",
      "ungdomar                      30\n",
      "gäng                          27\n",
      "invandrarbakgrund             24\n",
      "invandrarkillar               21\n",
      "invandrar                     18\n",
      "grupper                       17\n",
      "förorten                      16\n",
      "områden                       14\n",
      "grupperingar                  12\n",
      "barn                          11\n",
      "-----------------------\n",
      "Total no. of types: 354\n",
      "\n",
      "Out-group:\n",
      "(a) Split\n",
      "kriminella                    708\n",
      "ungdomar                      404\n",
      "gäng                          391\n",
      "grupper                       306\n",
      "utsatta                       270\n",
      "områden                       267\n",
      "förorten                      231\n",
      "grupperingar                  200\n",
      "förorter                      139\n",
      "ungdomsgäng                   125\n",
      "unga                          121\n",
      "förorterna                    115\n",
      "personer                      107\n",
      "gängkriminella                93\n",
      "bor                           83\n",
      "-----------------------\n",
      "Total no. of types: 1264\n",
      "\n",
      "\n",
      "Keyness\n",
      "=======\n",
      "(a) in-group --> out-group\n",
      "invandrargäng                 152 0.429 9   0.007 60.3\n",
      "invandrare                    150 0.424 12  0.009 44.63\n",
      "kriminella                    49  0.138 708 0.560 0.2471\n",
      "invandrarungdomar             45  0.127 2   0.002 80.34\n",
      "unga                          36  0.102 121 0.096 1.062\n",
      "ungdomar                      30  0.085 404 0.320 0.2651\n",
      "gäng                          27  0.076 391 0.309 0.2466\n",
      "invandrarbakgrund             24  0.068 6   0.005 14.28\n",
      "invandrarkillar               21  0.059 1   0.001 74.98\n",
      "invandrar                     18  0.051 0   0.000 inf\n",
      "grupper                       17  0.048 306 0.242 0.1984\n",
      "förorten                      16  0.045 231 0.183 0.2473\n",
      "områden                       14  0.040 267 0.211 0.1872\n",
      "grupperingar                  12  0.034 200 0.158 0.2142\n",
      "barn                          11  0.031 8   0.006 4.91\n",
      "utländsk                      11  0.031 4   0.003 9.819\n",
      "bakgrund                      11  0.031 3   0.002 13.09\n",
      "män                           11  0.031 44  0.035 0.8927\n",
      "killar                        11  0.031 16  0.013 2.455\n",
      "grupp                         10  0.028 55  0.044 0.6492\n",
      "\n",
      "(b) out-group --> in-group\n",
      "kriminella                    708 0.560 49  0.138 4.047\n",
      "ungdomar                      404 0.320 30  0.085 3.772\n",
      "gäng                          391 0.309 27  0.076 4.056\n",
      "grupper                       306 0.242 17  0.048 5.041\n",
      "utsatta                       270 0.214 7   0.020 10.8\n",
      "områden                       267 0.211 14  0.040 5.341\n",
      "förorten                      231 0.183 16  0.045 4.043\n",
      "grupperingar                  200 0.158 12  0.034 4.668\n",
      "förorter                      139 0.110 3   0.008 12.98\n",
      "ungdomsgäng                   125 0.099 2   0.006 17.5\n",
      "unga                          121 0.096 36  0.102 0.9413\n",
      "förorterna                    115 0.091 1   0.003 32.21\n",
      "personer                      107 0.085 10  0.028 2.997\n",
      "gängkriminella                93  0.074 3   0.008 8.682\n",
      "bor                           83  0.066 4   0.011 5.811\n",
      "socialt                       81  0.064 3   0.008 7.562\n",
      "ligister                      80  0.063 5   0.014 4.481\n",
      "människor                     74  0.059 6   0.017 3.454\n",
      "ytterområden                  67  0.053 0   0.000 inf\n",
      "grupp                         55  0.044 10  0.028 1.54\n",
      "\n"
     ]
    }
   ],
   "source": [
    "inspect_all(replacement_data, \"forortsgang\", \"both\", stopwords, [\",\"], present_phrases = False)"
   ]
  },
  {
   "cell_type": "markdown",
   "metadata": {},
   "source": [
    "Notes:\n",
    "* keyness > 5\n",
    "\n",
    "Some considerations in coding:\n",
    "* In *O* when it should not:\n",
    "    * invandrargäng 9\n",
    "    * invandrare 12\n",
    "    * invandrarungdomar 2\n",
    "    * invandrarkillar 1\n",
    "    * utländsk 4"
   ]
  },
  {
   "cell_type": "code",
   "execution_count": null,
   "metadata": {},
   "outputs": [],
   "source": [
    "select_A(\n",
    "    replacement_data,            # Replacement Dataframe\n",
    "    \"forortsgang\",           # Dog Whistle Expression\n",
    "    \"both\",         # 1 for first phase of data collection, 2 for second phase, \"both\" for both\n",
    "    sw = stopwords,     # stopwords\n",
    "    punct = [\",\"],  # remove punctuations\n",
    "    k = 5,\n",
    "    min_freq = None,\n",
    "    min_OR = None,\n",
    "    empty_intersect = True\n",
    ")"
   ]
  },
  {
   "cell_type": "code",
   "execution_count": null,
   "metadata": {
    "scrolled": true
   },
   "outputs": [],
   "source": [
    "select_A(\n",
    "    replacement_data,            # Replacement Dataframe\n",
    "    \"forortsgang\",           # Dog Whistle Expression\n",
    "    \"both\",         # 1 for first phase of data collection, 2 for second phase, \"both\" for both\n",
    "    sw = stopwords,     # stopwords\n",
    "    punct = [\",\"],  # remove punctuations\n",
    "    k = None,\n",
    "    min_freq = 0.03,\n",
    "    min_OR = (10, 2),\n",
    "    empty_intersect = False\n",
    ")"
   ]
  },
  {
   "cell_type": "markdown",
   "metadata": {},
   "source": [
    "#### Phase 1"
   ]
  },
  {
   "cell_type": "code",
   "execution_count": null,
   "metadata": {
    "scrolled": true
   },
   "outputs": [],
   "source": [
    "inspect_all(replacement_data, \"forortsgang\", 1, stopwords, [\",\"])"
   ]
  },
  {
   "cell_type": "markdown",
   "metadata": {},
   "source": [
    "##### Ingroup terms"
   ]
  },
  {
   "cell_type": "code",
   "execution_count": null,
   "metadata": {
    "scrolled": true
   },
   "outputs": [],
   "source": [
    "igt = [\n",
    "        \"invandr\", \n",
    "        \"blatt\", \n",
    "        \"utländsk\", \n",
    "        \"nysvensk\", \n",
    "        \"indvad\",     # Miss-spelling ...\n",
    "        \"invandar\", \n",
    "        \"invadra\", \n",
    "        \"innvandr\", \n",
    "        \"indvandr\"\n",
    "    ]\n",
    "_ = other(\n",
    "    df = replacement_data, \n",
    "    dwe = \"forortsgang\", \n",
    "    meaning = 1, \n",
    "    phase = 1, \n",
    "    criteria = igt\n",
    ")"
   ]
  },
  {
   "cell_type": "markdown",
   "metadata": {},
   "source": [
    "##### Outgroup terms"
   ]
  },
  {
   "cell_type": "markdown",
   "metadata": {
    "scrolled": true
   },
   "source": [
    "Hard! See above!"
   ]
  },
  {
   "cell_type": "code",
   "execution_count": null,
   "metadata": {},
   "outputs": [],
   "source": []
  },
  {
   "cell_type": "markdown",
   "metadata": {},
   "source": [
    "#### Phase 2"
   ]
  },
  {
   "cell_type": "code",
   "execution_count": null,
   "metadata": {},
   "outputs": [],
   "source": [
    "inspect_all(replacement_data, \"forortsgang\", 2, stopwords, [\",\"])"
   ]
  },
  {
   "cell_type": "markdown",
   "metadata": {},
   "source": [
    "##### Ingroup terms"
   ]
  },
  {
   "cell_type": "code",
   "execution_count": null,
   "metadata": {},
   "outputs": [],
   "source": [
    "igt = [\n",
    "        \"invandr\", \n",
    "        \"blatt\", \n",
    "        \"babb\",\n",
    "        \"svartskall\",\n",
    "        \"neger\",\n",
    "        \"utlänning\", \n",
    "        \"utlandsfödd\", \n",
    "        \"ickesvensk\",\n",
    "        \"nysvensk\",\n",
    "        \"arab\",\n",
    "        \"utländsk\",\n",
    "        \"utomnordisk\",\n",
    "        \"utomeuropeisk\",\n",
    "        \"invanda\",        # Miss-spelling\n",
    "        \"invadr\",\n",
    "        \"ivandr\"\n",
    "    ] \n",
    "_ = other(\n",
    "    df = replacement_data, \n",
    "    dwe = \"forortsgang\", \n",
    "    meaning = 1, \n",
    "    phase = 2, \n",
    "    criteria = igt\n",
    ")"
   ]
  },
  {
   "cell_type": "markdown",
   "metadata": {},
   "source": [
    "##### Outgroup terms"
   ]
  },
  {
   "cell_type": "markdown",
   "metadata": {
    "scrolled": true
   },
   "source": [
    "Hard! See above!"
   ]
  },
  {
   "cell_type": "code",
   "execution_count": null,
   "metadata": {},
   "outputs": [],
   "source": []
  },
  {
   "cell_type": "markdown",
   "metadata": {},
   "source": [
    "### (2) Återvandring"
   ]
  },
  {
   "cell_type": "code",
   "execution_count": 17,
   "metadata": {
    "scrolled": true
   },
   "outputs": [
    {
     "name": "stdout",
     "output_type": "stream",
     "text": [
      "Most frequent\n",
      "=============\n",
      "In-group:\n",
      "(a) Split\n",
      "utvisning                     300\n",
      "skicka                        143\n",
      "tillbaka                      108\n",
      "invandrare                    74\n",
      "hem                           55\n",
      "deportering                   51\n",
      "människor                     42\n",
      "hemländer                     35\n",
      "folk                          24\n",
      "flyktingar                    22\n",
      "utvisa                        19\n",
      "utvisningar                   19\n",
      "tvinga                        19\n",
      "tillbaks                      17\n",
      "återvända                     16\n",
      "-----------------------\n",
      "Total no. of types: 493\n",
      "\n",
      "Out-group:\n",
      "(a) Split\n",
      "tillbaka                      585\n",
      "flytta                        399\n",
      "återvända                     290\n",
      "invandrare                    231\n",
      "hemland                       207\n",
      "hemlandet                     206\n",
      "hem                           191\n",
      "hemländer                     172\n",
      "repatriering                  147\n",
      "flyttar                       127\n",
      "återvändande                  99\n",
      "ursprungsland                 93\n",
      "människor                     93\n",
      "hemvändande                   88\n",
      "flytt                         83\n",
      "-----------------------\n",
      "Total no. of types: 873\n",
      "\n",
      "\n",
      "Keyness\n",
      "=======\n",
      "(a) in-group --> out-group\n",
      "utvisning                     300 0.609 18  0.021 29.51\n",
      "skicka                        143 0.290 13  0.015 19.48\n",
      "tillbaka                      108 0.219 585 0.670 0.3269\n",
      "invandrare                    74  0.150 231 0.265 0.5673\n",
      "hem                           55  0.112 191 0.219 0.5099\n",
      "deportering                   51  0.103 0   0.000 inf\n",
      "människor                     42  0.085 93  0.107 0.7997\n",
      "hemländer                     35  0.071 172 0.197 0.3603\n",
      "folk                          24  0.049 25  0.029 1.7\n",
      "flyktingar                    22  0.045 71  0.081 0.5487\n",
      "utvisa                        19  0.039 1   0.001 33.65\n",
      "utvisningar                   19  0.039 0   0.000 inf\n",
      "tvinga                        19  0.039 4   0.005 8.411\n",
      "tillbaks                      17  0.034 41  0.047 0.7342\n",
      "återvända                     16  0.032 290 0.332 0.0977\n",
      "uppehållstillstånd            16  0.032 12  0.014 2.361\n",
      "kasta                         15  0.030 0   0.000 inf\n",
      "land                          15  0.030 60  0.069 0.4427\n",
      "landet                        15  0.030 41  0.047 0.6479\n",
      "slänga                        15  0.030 0   0.000 inf\n",
      "\n",
      "(b) out-group --> in-group\n",
      "tillbaka                      585 0.670 108 0.219 3.059\n",
      "flytta                        399 0.457 11  0.022 20.48\n",
      "återvända                     290 0.332 16  0.032 10.24\n",
      "invandrare                    231 0.265 74  0.150 1.763\n",
      "hemland                       207 0.237 12  0.024 9.741\n",
      "hemlandet                     206 0.236 11  0.022 10.58\n",
      "hem                           191 0.219 55  0.112 1.961\n",
      "hemländer                     172 0.197 35  0.071 2.775\n",
      "repatriering                  147 0.168 10  0.020 8.301\n",
      "flyttar                       127 0.145 1   0.002 71.72\n",
      "återvändande                  99  0.113 4   0.008 13.98\n",
      "ursprungsland                 93  0.107 8   0.016 6.565\n",
      "människor                     93  0.107 42  0.085 1.25\n",
      "hemvändande                   88  0.101 3   0.006 16.57\n",
      "flytt                         83  0.095 7   0.014 6.696\n",
      "återvänder                    78  0.089 2   0.004 22.02\n",
      "flyktingar                    71  0.081 22  0.045 1.823\n",
      "ursprungslandet               70  0.080 2   0.004 19.77\n",
      "land                          60  0.069 15  0.030 2.259\n",
      "åka                           57  0.065 2   0.004 16.09\n",
      "\n"
     ]
    }
   ],
   "source": [
    "inspect_all(replacement_data, \"aterinvandring\", \"both\", sw = stopwords, punct = [\",\"], present_phrases = False)"
   ]
  },
  {
   "cell_type": "code",
   "execution_count": null,
   "metadata": {
    "scrolled": true
   },
   "outputs": [],
   "source": [
    "select_A(\n",
    "    replacement_data,            # Replacement Dataframe\n",
    "    \"aterinvandring\",           # Dog Whistle Expression\n",
    "    \"both\",         # 1 for first phase of data collection, 2 for second phase, \"both\" for both\n",
    "    sw = stopwords,     # stopwords\n",
    "    punct = [\",\"],  # remove punctuations\n",
    "    k = None,\n",
    "    min_freq = 0.03,\n",
    "    min_OR = (10, 2),\n",
    "    empty_intersect = False\n",
    ")"
   ]
  },
  {
   "cell_type": "markdown",
   "metadata": {},
   "source": [
    "#### Phase 1"
   ]
  },
  {
   "cell_type": "code",
   "execution_count": null,
   "metadata": {
    "scrolled": true
   },
   "outputs": [],
   "source": [
    "inspect_all(replacement_data, \"aterinvandring\", 1, sw = stopwords, punct = [\",\"])"
   ]
  },
  {
   "cell_type": "markdown",
   "metadata": {},
   "source": [
    "##### Ingroup terms"
   ]
  },
  {
   "cell_type": "code",
   "execution_count": null,
   "metadata": {
    "scrolled": true
   },
   "outputs": [],
   "source": [
    "igt = [\n",
    "        \"utvis\", \n",
    "        \"skick\", \n",
    "        \"deport\", \n",
    "        \"tvångsförflyttning\", \n",
    "        \"kast\", \n",
    "        \"sänd\", \n",
    "        \"tvinga\", \n",
    "        \"släng\", \n",
    "        \"avvis\"\n",
    "    ]\n",
    "_ = other(\n",
    "    df = replacement_data, \n",
    "    dwe = \"aterinvandring\", \n",
    "    meaning = 1, \n",
    "    phase = 1, \n",
    "    criteria = igt\n",
    ")"
   ]
  },
  {
   "cell_type": "markdown",
   "metadata": {},
   "source": [
    "*Comment:* wrong code? återvändande, tillbakaflytt, repatriering, hemvändande"
   ]
  },
  {
   "cell_type": "markdown",
   "metadata": {},
   "source": [
    "##### Outgroup terms"
   ]
  },
  {
   "cell_type": "code",
   "execution_count": null,
   "metadata": {
    "scrolled": true
   },
   "outputs": [],
   "source": [
    "ogt = [\n",
    "    \"hemvänd\",\n",
    "    \"återvänd\",\n",
    "    \"återres\",\n",
    "    \"repatrier\",\n",
    "    \"hemres\",\n",
    "    \"hemåtvända\",\n",
    "    \"utvandring\",\n",
    "    \"flytt\"\n",
    "    ]\n",
    "_ = other(\n",
    "    df = replacement_data, \n",
    "    dwe = \"aterinvandring\", \n",
    "    meaning = 2, \n",
    "    phase = 1, \n",
    "    criteria = ogt\n",
    ")"
   ]
  },
  {
   "cell_type": "markdown",
   "metadata": {},
   "source": [
    "*Comment:* wrong code? On several. utvisning, etnisk rensning, skicka tillbaka, avvisa"
   ]
  },
  {
   "cell_type": "markdown",
   "metadata": {},
   "source": [
    "#### Phase 2"
   ]
  },
  {
   "cell_type": "code",
   "execution_count": null,
   "metadata": {},
   "outputs": [],
   "source": [
    "inspect_all(replacement_data, \"aterinvandring\", 2, sw = stopwords, punct = [\",\"])"
   ]
  },
  {
   "cell_type": "markdown",
   "metadata": {},
   "source": [
    "##### Ingroup terms"
   ]
  },
  {
   "cell_type": "code",
   "execution_count": null,
   "metadata": {
    "scrolled": true
   },
   "outputs": [],
   "source": [
    "igt = [\n",
    "        \"utvis\", \n",
    "        \"skick\", \n",
    "        \"deport\", \n",
    "        \"tvångsförflyttning\", \n",
    "        \"kast\", \n",
    "        \"sänd\", \n",
    "        \"tvinga\", \n",
    "        \"släng\", \n",
    "        \"avvis\",\n",
    "        \"spark\",\n",
    "        \"avhys\",\n",
    "        \"förvis\"\n",
    "    ]\n",
    "_ = other(\n",
    "    df = replacement_data, \n",
    "    dwe = \"aterinvandring\", \n",
    "    meaning = 1, \n",
    "    phase = 2, \n",
    "    criteria = igt\n",
    ")"
   ]
  },
  {
   "cell_type": "markdown",
   "metadata": {},
   "source": [
    "*Comment:* wrong code? "
   ]
  },
  {
   "cell_type": "markdown",
   "metadata": {},
   "source": [
    "##### Outgroup terms"
   ]
  },
  {
   "cell_type": "code",
   "execution_count": null,
   "metadata": {
    "scrolled": true
   },
   "outputs": [],
   "source": [
    "ogt = [\n",
    "    \"hemvänd\",\n",
    "    \"återvänd\",\n",
    "    \"återres\",\n",
    "    \"repatrier\",\n",
    "    \"hemres\",\n",
    "    \"hemåtvända\",\n",
    "    \"utvandring\",\n",
    "    \"flytt\"\n",
    "    ]\n",
    "_ = other(\n",
    "    df = replacement_data, \n",
    "    dwe = \"aterinvandring\", \n",
    "    meaning = 2, \n",
    "    phase = 2, \n",
    "    criteria = ogt\n",
    ")"
   ]
  },
  {
   "cell_type": "markdown",
   "metadata": {},
   "source": [
    "*Comment:* wrong code? förpassning"
   ]
  },
  {
   "cell_type": "code",
   "execution_count": null,
   "metadata": {},
   "outputs": [],
   "source": []
  },
  {
   "cell_type": "markdown",
   "metadata": {},
   "source": [
    "### (3) Berikar"
   ]
  },
  {
   "cell_type": "code",
   "execution_count": 18,
   "metadata": {
    "scrolled": true
   },
   "outputs": [
    {
     "name": "stdout",
     "output_type": "stream",
     "text": [
      "Most frequent\n",
      "=============\n",
      "In-group:\n",
      "(a) Split\n",
      "förstör                       163\n",
      "sverige                       24\n",
      "utnyttjar                     15\n",
      "försämrar                     13\n",
      "negativt                      13\n",
      "berikar                       11\n",
      "brott                         10\n",
      "begår                         9\n",
      "fördärvar                     8\n",
      "bidrar                        8\n",
      "kostar                        8\n",
      "problem                       8\n",
      "ställer                       7\n",
      "kultur                        7\n",
      "svenska                       6\n",
      "-----------------------\n",
      "Total no. of types: 332\n",
      "\n",
      "Out-group:\n",
      "(a) Split\n",
      "tillför                       621\n",
      "bidrar                        496\n",
      "sverige                       339\n",
      "förbättrar                    172\n",
      "utvecklar                     139\n",
      "positivt                      135\n",
      "ger                           133\n",
      "gynnar                        76\n",
      "påverkar                      74\n",
      "mervärde                      70\n",
      "rikare                        69\n",
      "förgyller                     68\n",
      "nya                           66\n",
      "nytta                         60\n",
      "skapar                        60\n",
      "-----------------------\n",
      "Total no. of types: 807\n",
      "\n",
      "\n",
      "Keyness\n",
      "=======\n",
      "(a) in-group --> out-group\n",
      "förstör                       163 0.491 0   0.000 inf\n",
      "sverige                       24  0.072 339 0.420 0.1721\n",
      "utnyttjar                     15  0.045 0   0.000 inf\n",
      "försämrar                     13  0.039 0   0.000 inf\n",
      "negativt                      13  0.039 0   0.000 inf\n",
      "berikar                       11  0.033 9   0.011 2.971\n",
      "brott                         10  0.030 0   0.000 inf\n",
      "begår                         9   0.027 0   0.000 inf\n",
      "fördärvar                     8   0.024 0   0.000 inf\n",
      "bidrar                        8   0.024 496 0.615 0.03921\n",
      "kostar                        8   0.024 0   0.000 inf\n",
      "problem                       8   0.024 1   0.001 19.45\n",
      "ställer                       7   0.021 0   0.000 inf\n",
      "kultur                        7   0.021 58  0.072 0.2934\n",
      "svenska                       6   0.018 27  0.033 0.5402\n",
      "våldtar                       6   0.018 0   0.000 inf\n",
      "påverkar                      6   0.018 74  0.092 0.1971\n",
      "invandrare                    6   0.018 59  0.073 0.2472\n",
      "skadar                        6   0.018 0   0.000 inf\n",
      "belastar                      6   0.018 0   0.000 inf\n",
      "\n",
      "(b) out-group --> in-group\n",
      "tillför                       621 0.770 5   0.015 51.1\n",
      "bidrar                        496 0.615 8   0.024 25.51\n",
      "sverige                       339 0.420 24  0.072 5.811\n",
      "förbättrar                    172 0.213 2   0.006 35.38\n",
      "utvecklar                     139 0.172 1   0.003 57.18\n",
      "positivt                      135 0.167 0   0.000 inf\n",
      "ger                           133 0.165 0   0.000 inf\n",
      "gynnar                        76  0.094 0   0.000 inf\n",
      "påverkar                      74  0.092 6   0.018 5.074\n",
      "mervärde                      70  0.087 0   0.000 inf\n",
      "rikare                        69  0.086 0   0.000 inf\n",
      "förgyller                     68  0.084 0   0.000 inf\n",
      "nya                           66  0.082 1   0.003 27.15\n",
      "nytta                         60  0.074 1   0.003 24.68\n",
      "skapar                        60  0.074 3   0.009 8.228\n",
      "invandrare                    59  0.073 6   0.018 4.045\n",
      "kultur                        58  0.072 7   0.021 3.409\n",
      "samhället                     56  0.069 0   0.000 inf\n",
      "positiva                      55  0.068 0   0.000 inf\n",
      "värde                         53  0.066 0   0.000 inf\n",
      "\n"
     ]
    }
   ],
   "source": [
    "inspect_all(replacement_data, \"berikar\", \"both\", sw = stopwords, punct = [\",\"], present_phrases = False)"
   ]
  },
  {
   "cell_type": "markdown",
   "metadata": {},
   "source": [
    "#### Phase 1"
   ]
  },
  {
   "cell_type": "code",
   "execution_count": null,
   "metadata": {},
   "outputs": [],
   "source": [
    "inspect_all(replacement_data, \"berikar\", 1, sw = stopwords, punct = [\",\"])"
   ]
  },
  {
   "cell_type": "markdown",
   "metadata": {},
   "source": [
    "##### Ingroup terms"
   ]
  },
  {
   "cell_type": "code",
   "execution_count": null,
   "metadata": {
    "scrolled": true
   },
   "outputs": [],
   "source": [
    "igt = [\n",
    "    \"förstör\",\n",
    "    \"utnyttja\",\n",
    "    \"förpest\",\n",
    "    \"försämra\", \n",
    "    \"brott\",\n",
    "    \"fördärv\"\n",
    "    ]\n",
    "_ = other(\n",
    "    df = replacement_data, \n",
    "    dwe = \"berikar\", \n",
    "    meaning = 1, \n",
    "    phase = 1, \n",
    "    criteria = igt\n",
    ")"
   ]
  },
  {
   "cell_type": "markdown",
   "metadata": {},
   "source": []
  },
  {
   "cell_type": "markdown",
   "metadata": {},
   "source": [
    "##### Outgroup terms"
   ]
  },
  {
   "cell_type": "code",
   "execution_count": null,
   "metadata": {
    "scrolled": true
   },
   "outputs": [],
   "source": [
    "ogt = [\n",
    "    \"förbättra\",\n",
    "    \"tillför\",\n",
    "    \"bidra\",\n",
    "    \"förgyll\",\n",
    "    \"nytta\",\n",
    "    \"hjälp\", \n",
    "    \"främja\",\n",
    "    \"bättre\",\n",
    "    \"utveckla\",\n",
    "    \"stärk\",\n",
    "    \"gynna\",\n",
    "    \"förhöj\",\n",
    "    \"positiv\"\n",
    "    ]\n",
    "_ = other(\n",
    "    df = replacement_data, \n",
    "    dwe = \"berikar\", \n",
    "    meaning = 2, \n",
    "    phase = 1, \n",
    "    criteria = ogt\n",
    ")"
   ]
  },
  {
   "cell_type": "markdown",
   "metadata": {},
   "source": []
  },
  {
   "cell_type": "markdown",
   "metadata": {},
   "source": [
    "#### Phase 2"
   ]
  },
  {
   "cell_type": "code",
   "execution_count": null,
   "metadata": {},
   "outputs": [],
   "source": [
    "inspect_all(replacement_data, \"berikar\", 2, sw = stopwords, punct = [\",\"])"
   ]
  },
  {
   "cell_type": "markdown",
   "metadata": {},
   "source": [
    "##### Ingroup terms"
   ]
  },
  {
   "cell_type": "code",
   "execution_count": null,
   "metadata": {
    "scrolled": true
   },
   "outputs": [],
   "source": [
    "igt = [\n",
    "    \"förstör\",\n",
    "    \"utnyttja\",\n",
    "    \"förpest\",\n",
    "    \"försämra\", \n",
    "    \"brott\",\n",
    "    \"fördärv\"\n",
    "    ]\n",
    "_ = other(\n",
    "    df = replacement_data, \n",
    "    dwe = \"berikar\", \n",
    "    meaning = 1, \n",
    "    phase = 1, \n",
    "    criteria = igt\n",
    ")"
   ]
  },
  {
   "cell_type": "markdown",
   "metadata": {},
   "source": []
  },
  {
   "cell_type": "markdown",
   "metadata": {},
   "source": [
    "##### Outgroup terms"
   ]
  },
  {
   "cell_type": "code",
   "execution_count": null,
   "metadata": {
    "scrolled": true
   },
   "outputs": [],
   "source": [
    "ogt = [\n",
    "    \"förbättra\",\n",
    "    \"tillför\",\n",
    "    \"bidra\",\n",
    "    \"förgyll\",\n",
    "    \"nytta\",\n",
    "    \"hjälp\", \n",
    "    \"främja\",\n",
    "    \"bättre\",\n",
    "    \"utveckla\",\n",
    "    \"stärk\",\n",
    "    \"gynna\",\n",
    "    \"förhöj\", \n",
    "    \"positiv\"\n",
    "    ]\n",
    "_ = other(\n",
    "    df = replacement_data, \n",
    "    dwe = \"berikar\", \n",
    "    meaning = 2, \n",
    "    phase = 1, \n",
    "    criteria = ogt\n",
    ")"
   ]
  },
  {
   "cell_type": "markdown",
   "metadata": {},
   "source": []
  },
  {
   "cell_type": "code",
   "execution_count": null,
   "metadata": {},
   "outputs": [],
   "source": []
  },
  {
   "cell_type": "markdown",
   "metadata": {},
   "source": [
    "### (4) Globalister"
   ]
  },
  {
   "cell_type": "code",
   "execution_count": 19,
   "metadata": {},
   "outputs": [
    {
     "name": "stdout",
     "output_type": "stream",
     "text": [
      "Most frequent\n",
      "=============\n",
      "In-group:\n",
      "(a) Split\n",
      "judar                         50\n",
      "elit                          19\n",
      "eliten                        10\n",
      "soros                         6\n",
      "elitister                     4\n",
      "internationella               4\n",
      "antisemitiskt                 4\n",
      "rika                          3\n",
      "personer                      3\n",
      "konspiration                  3\n",
      "eliter                        3\n",
      "maktelit                      3\n",
      "global                        3\n",
      "george                        3\n",
      "kapitalister                  2\n",
      "-----------------------\n",
      "Total no. of types: 184\n",
      "\n",
      "Out-group:\n",
      "(a) Split\n",
      "personer                      357\n",
      "människor                     288\n",
      "internationella               166\n",
      "internationalister            139\n",
      "världen                       115\n",
      "ser                           115\n",
      "världsmedborgare              102\n",
      "folk                          101\n",
      "internationellt               100\n",
      "hela                          85\n",
      "intressen                     83\n",
      "gränser                       67\n",
      "internationell                55\n",
      "svenska                       54\n",
      "tror                          54\n",
      "-----------------------\n",
      "Total no. of types: 1799\n",
      "\n",
      "\n",
      "Keyness\n",
      "=======\n",
      "(a) in-group --> out-group\n",
      "judar                         50  0.272 2   0.001 244.4\n",
      "elit                          19  0.103 2   0.001 92.88\n",
      "eliten                        10  0.054 0   0.000 inf\n",
      "soros                         6   0.033 0   0.000 inf\n",
      "elitister                     4   0.022 0   0.000 inf\n",
      "internationella               4   0.022 166 0.092 0.2356\n",
      "antisemitiskt                 4   0.022 0   0.000 inf\n",
      "rika                          3   0.016 2   0.001 14.67\n",
      "personer                      3   0.016 357 0.198 0.08216\n",
      "konspiration                  3   0.016 0   0.000 inf\n",
      "eliter                        3   0.016 1   0.001 29.33\n",
      "maktelit                      3   0.016 0   0.000 inf\n",
      "global                        3   0.016 26  0.014 1.128\n",
      "george                        3   0.016 0   0.000 inf\n",
      "\n",
      "(b) out-group --> in-group\n",
      "personer                      357 0.198 3   0.016 12.17\n",
      "människor                     288 0.160 2   0.011 14.73\n",
      "internationella               166 0.092 4   0.022 4.245\n",
      "internationalister            139 0.077 0   0.000 inf\n",
      "världen                       115 0.064 1   0.005 11.76\n",
      "ser                           115 0.064 1   0.005 11.76\n",
      "världsmedborgare              102 0.057 0   0.000 inf\n",
      "folk                          101 0.056 1   0.005 10.33\n",
      "internationellt               100 0.056 0   0.000 inf\n",
      "hela                          85  0.047 0   0.000 inf\n",
      "intressen                     83  0.046 2   0.011 4.245\n",
      "gränser                       67  0.037 2   0.011 3.426\n",
      "internationell                55  0.031 2   0.011 2.813\n",
      "svenska                       54  0.030 2   0.011 2.762\n",
      "tror                          54  0.030 0   0.000 inf\n",
      "sverige                       53  0.029 0   0.000 inf\n",
      "perspektiv                    52  0.029 0   0.000 inf\n",
      "styrs                         52  0.029 1   0.005 5.319\n",
      "globalt                       45  0.025 1   0.005 4.603\n",
      "nationella                    40  0.022 0   0.000 inf\n",
      "\n"
     ]
    }
   ],
   "source": [
    "inspect_all(replacement_data, \"globalister\", \"both\", sw = stopwords, punct = [\",\"], present_phrases = False)"
   ]
  },
  {
   "cell_type": "markdown",
   "metadata": {},
   "source": [
    "#### Phase 1"
   ]
  },
  {
   "cell_type": "code",
   "execution_count": null,
   "metadata": {},
   "outputs": [],
   "source": [
    "inspect_all(replacement_data, \"globalister\", 1, sw = stopwords, punct = [\",\"])"
   ]
  },
  {
   "cell_type": "markdown",
   "metadata": {},
   "source": [
    "##### Ingroup terms"
   ]
  },
  {
   "cell_type": "code",
   "execution_count": null,
   "metadata": {
    "scrolled": true
   },
   "outputs": [],
   "source": [
    "igt = [\n",
    "    \"judar\",\n",
    "    \"elit\"\n",
    "    ]\n",
    "_ = other(\n",
    "    df = replacement_data, \n",
    "    dwe = \"globalister\", \n",
    "    meaning = 1, \n",
    "    phase = 1, \n",
    "    criteria = igt\n",
    ")"
   ]
  },
  {
   "cell_type": "markdown",
   "metadata": {},
   "source": []
  },
  {
   "cell_type": "markdown",
   "metadata": {},
   "source": [
    "##### Outgroup terms"
   ]
  },
  {
   "cell_type": "code",
   "execution_count": null,
   "metadata": {
    "scrolled": true
   },
   "outputs": [],
   "source": [
    "ogt = [\n",
    "    \"internationell\" # ?\n",
    "\n",
    "    ]\n",
    "_ = other(\n",
    "    df = replacement_data, \n",
    "    dwe = \"globalister\", \n",
    "    meaning = 2, \n",
    "    phase = 1, \n",
    "    criteria = ogt\n",
    ")"
   ]
  },
  {
   "cell_type": "markdown",
   "metadata": {},
   "source": []
  },
  {
   "cell_type": "markdown",
   "metadata": {},
   "source": [
    "#### Phase 2"
   ]
  },
  {
   "cell_type": "code",
   "execution_count": null,
   "metadata": {},
   "outputs": [],
   "source": [
    "inspect_all(replacement_data, \"globalister\", 2, sw = stopwords, punct = [\",\", \".\"])"
   ]
  },
  {
   "cell_type": "markdown",
   "metadata": {},
   "source": [
    "##### Ingroup terms"
   ]
  },
  {
   "cell_type": "code",
   "execution_count": null,
   "metadata": {
    "scrolled": true
   },
   "outputs": [],
   "source": [
    "igt = [\n",
    "    \"judar\",\n",
    "    \"judisk\",\n",
    "    \"soro\",\n",
    "    \"elit\"\n",
    "    ]\n",
    "_ = other(\n",
    "    df = replacement_data, \n",
    "    dwe = \"globalister\", \n",
    "    meaning = 1, \n",
    "    phase = 2, \n",
    "    criteria = igt\n",
    ")"
   ]
  },
  {
   "cell_type": "markdown",
   "metadata": {},
   "source": []
  },
  {
   "cell_type": "markdown",
   "metadata": {},
   "source": [
    "##### Outgroup terms"
   ]
  },
  {
   "cell_type": "code",
   "execution_count": null,
   "metadata": {
    "scrolled": true
   },
   "outputs": [],
   "source": [
    "ogt = [\n",
    "    \"internationell\", # ?\n",
    "    \"värld\"\n",
    "\n",
    "    ]\n",
    "_ = other(\n",
    "    df = replacement_data, \n",
    "    dwe = \"globalister\", \n",
    "    meaning = 2, \n",
    "    phase = 2, \n",
    "    criteria = ogt\n",
    ")"
   ]
  },
  {
   "cell_type": "markdown",
   "metadata": {},
   "source": [
    "*Comment:* Polysemous dogwhistle... \n",
    "* landsförrädare, landsförädare, icke-nationalister; \n",
    "* kapitaliser; \n",
    "* liberalister; \n",
    "* sossar"
   ]
  },
  {
   "cell_type": "code",
   "execution_count": null,
   "metadata": {},
   "outputs": [],
   "source": []
  },
  {
   "cell_type": "markdown",
   "metadata": {},
   "source": [
    "# DEVELOPMENT"
   ]
  },
  {
   "cell_type": "code",
   "execution_count": null,
   "metadata": {},
   "outputs": [],
   "source": [
    "import stanza\n",
    "nlp = stanza.Pipeline(lang='sv', processors='tokenize,pos,lemma')"
   ]
  },
  {
   "cell_type": "code",
   "execution_count": null,
   "metadata": {},
   "outputs": [],
   "source": [
    "##### Stemmer"
   ]
  },
  {
   "cell_type": "code",
   "execution_count": null,
   "metadata": {},
   "outputs": [],
   "source": [
    "# https://www.nltk.org/api/nltk.stem.SnowballStemmer.html?highlight=stopwords\n",
    "from nltk.stem import SnowballStemmer # See which languages are supported"
   ]
  },
  {
   "cell_type": "code",
   "execution_count": null,
   "metadata": {},
   "outputs": [],
   "source": [
    "print(\" \".join(SnowballStemmer.languages)) \n",
    "# arabic danish dutch english finnish french german hungarian\n",
    "# italian norwegian porter portuguese romanian russian\n",
    "# spanish swedish\n",
    "stemmer = SnowballStemmer(\"german\")\n",
    "stemmer.stem(\"Autobahnen\") # Stem a word\n",
    "# 'autobahn'"
   ]
  },
  {
   "cell_type": "code",
   "execution_count": null,
   "metadata": {},
   "outputs": [],
   "source": [
    "# print(\" \".join(SnowballStemmer.languages)) \n",
    "# arabic danish dutch english finnish french german hungarian\n",
    "# italian norwegian porter portuguese romanian russian\n",
    "# spanish swedish\n",
    "stemmer = SnowballStemmer(\"swedish\")\n",
    "stemmer.stem(\"deporterar\") # Stem a word\n",
    "# 'autobahn'"
   ]
  },
  {
   "cell_type": "code",
   "execution_count": null,
   "metadata": {},
   "outputs": [],
   "source": [
    "\n"
   ]
  },
  {
   "cell_type": "code",
   "execution_count": null,
   "metadata": {},
   "outputs": [],
   "source": [
    "import stanza\n",
    "\n",
    "nlp = stanza.Pipeline(lang='en', processors='tokenize')\n",
    "doc = nlp('This is a test sentence for stanza. This is another sentence.')\n",
    "for i, sentence in enumerate(doc.sentences):\n",
    "    print(f'====== Sentence {i+1} tokens =======')\n",
    "    print(*[f'id: {token.id}\\ttext: {token.text}' for token in sentence.tokens], sep='\\n')\n"
   ]
  },
  {
   "cell_type": "code",
   "execution_count": null,
   "metadata": {},
   "outputs": [],
   "source": [
    "nlp = stanza.Pipeline(lang='en', processors='tokenize,mwt,pos,lemma')\n",
    "doc = nlp('Barack Obama was born in Hawaii.')\n",
    "print(*[f'word: {word.text+\" \"}\\tlemma: {word.lemma}' for sent in doc.sentences for word in sent.words], sep='\\n')"
   ]
  },
  {
   "cell_type": "code",
   "execution_count": null,
   "metadata": {},
   "outputs": [],
   "source": [
    "import stanza\n",
    "nlp = stanza.Pipeline(lang='sv', processors='tokenize,pos,lemma')"
   ]
  },
  {
   "cell_type": "code",
   "execution_count": null,
   "metadata": {},
   "outputs": [],
   "source": [
    "#nlp = stanza.Pipeline(lang='sv', processors='tokenize,pos,lemma')\n",
    "doc = nlp(\"invandrarungdomar\")\n",
    "print(*[f'word: {word.text+\" \"}\\tlemma: {word.lemma}' for sent in doc.sentences for word in sent.words], sep='\\n')\n",
    "# doc = nlp('This is a test sentence for stanza. This is another sentence.')\n",
    "# for i, sentence in enumerate(doc.sentences):\n",
    "#     print(f'====== Sentence {i+1} tokens =======')\n",
    "#     print(*[f'id: {token.id}\\ttext: {token.text}' for token in sentence.tokens], sep='\\n')"
   ]
  },
  {
   "cell_type": "code",
   "execution_count": null,
   "metadata": {},
   "outputs": [],
   "source": [
    "doc.sentences[0].words[0].lemma"
   ]
  },
  {
   "cell_type": "code",
   "execution_count": null,
   "metadata": {},
   "outputs": [],
   "source": [
    "def lemmatizer(w):\n",
    "    doc = nlp(w)\n",
    "    return doc.sentences[0].words[0].lemma"
   ]
  },
  {
   "cell_type": "code",
   "execution_count": null,
   "metadata": {},
   "outputs": [],
   "source": [
    "lemmatizer(\"banan\")"
   ]
  },
  {
   "cell_type": "code",
   "execution_count": null,
   "metadata": {},
   "outputs": [],
   "source": [
    "lemmatizer(\"bananen\")"
   ]
  },
  {
   "cell_type": "code",
   "execution_count": null,
   "metadata": {},
   "outputs": [],
   "source": [
    "lemmatizer(\"kluckelimuckare\")"
   ]
  },
  {
   "cell_type": "code",
   "execution_count": null,
   "metadata": {},
   "outputs": [],
   "source": []
  },
  {
   "cell_type": "code",
   "execution_count": null,
   "metadata": {},
   "outputs": [],
   "source": []
  },
  {
   "cell_type": "code",
   "execution_count": null,
   "metadata": {},
   "outputs": [],
   "source": []
  },
  {
   "cell_type": "code",
   "execution_count": null,
   "metadata": {},
   "outputs": [],
   "source": [
    "import unimorph\n",
    "dir(unimorph)"
   ]
  },
  {
   "cell_type": "code",
   "execution_count": null,
   "metadata": {
    "scrolled": true
   },
   "outputs": [],
   "source": [
    "for s in [\"äter\", \"elit\"]:\n",
    "    doc = nlp(s)\n",
    "    for sent in doc.sentences:\n",
    "        for word in sent.words:\n",
    "            print(word.text, \"-->\", word.lemma)\n",
    "            print(unimorph.inflect_word(word.lemma, lang=\"swe\"))\n",
    "    "
   ]
  },
  {
   "cell_type": "code",
   "execution_count": null,
   "metadata": {},
   "outputs": [],
   "source": [
    "unimorph.inflect_word(\"mata\", lang=\"swe\")"
   ]
  },
  {
   "cell_type": "code",
   "execution_count": null,
   "metadata": {
    "scrolled": true
   },
   "outputs": [],
   "source": [
    "[line.split(\"\\t\")[1] for line in unimorph.inflect_word(\"mata\", lang=\"swe\").split(\"\\n\") if line != \"\"]"
   ]
  },
  {
   "cell_type": "code",
   "execution_count": null,
   "metadata": {},
   "outputs": [],
   "source": [
    "lemma = \"mat\"\n",
    "wfs = [line.split(\"\\t\")[1] for line in unimorph.inflect_word(lemma, lang=\"swe\").split(\"\\n\") if line != \"\"]\n",
    "print(wfs)"
   ]
  },
  {
   "cell_type": "code",
   "execution_count": null,
   "metadata": {},
   "outputs": [],
   "source": [
    "# http://www.cs.cmu.edu/~aanastas/software/unimorph_inflect.html\n",
    "# https://pypi.org/project/unimorph/\n",
    "# https://unimorph.github.io/\n",
    "# NOT GOOD! Rule based"
   ]
  },
  {
   "cell_type": "code",
   "execution_count": null,
   "metadata": {
    "scrolled": true
   },
   "outputs": [],
   "source": [
    "pd.DataFrame([wf.split(\"\\t\") for wf in unimorph.inflect_word(\"invandring\", lang=\"swe\").split(\"\\n\")])"
   ]
  },
  {
   "cell_type": "code",
   "execution_count": null,
   "metadata": {},
   "outputs": [],
   "source": [
    "unimorph.inflect_word(\"invandrarungdomar\", lang=\"swe\")"
   ]
  },
  {
   "cell_type": "code",
   "execution_count": null,
   "metadata": {},
   "outputs": [],
   "source": [
    "unimorph.analyze_word(\"invandring\", lang=\"swe\")"
   ]
  },
  {
   "cell_type": "code",
   "execution_count": null,
   "metadata": {},
   "outputs": [],
   "source": [
    "import sys\n",
    "sys.path"
   ]
  },
  {
   "cell_type": "code",
   "execution_count": null,
   "metadata": {},
   "outputs": [],
   "source": []
  },
  {
   "cell_type": "code",
   "execution_count": null,
   "metadata": {},
   "outputs": [],
   "source": [
    "def lemmatizer(word):\n",
    "    \n",
    "    doc = nlp(word)\n",
    "    \n",
    "    lemma = doc.sentences[0].words[0].lemma\n",
    "    \n",
    "    return lemma"
   ]
  },
  {
   "cell_type": "code",
   "execution_count": null,
   "metadata": {},
   "outputs": [],
   "source": [
    "doc = nlp(\"äter\")\n",
    "doc.sentences[0].words[0].lemma"
   ]
  },
  {
   "cell_type": "code",
   "execution_count": null,
   "metadata": {},
   "outputs": [],
   "source": [
    "# for s in [\"äter\", \"maten\"]:\n",
    "#     doc = nlp(s)\n",
    "#     for sent in doc.sentences:\n",
    "#         for word in sent.words:\n",
    "#             print(word.text, \"-->\", word.lemma)\n",
    "#             print(unimorph.inflect_word(word.lemma, lang=\"swe\"))    "
   ]
  },
  {
   "cell_type": "code",
   "execution_count": null,
   "metadata": {},
   "outputs": [],
   "source": [
    "def build_B_prim(A):\n",
    "    \n",
    "    if lemmatize:\n",
    "        A = [lemmatizer(w) for w in A]\n",
    "    if realize:\n",
    "        pass\n",
    "\n",
    "        \n",
    "    return B_prim"
   ]
  },
  {
   "cell_type": "code",
   "execution_count": null,
   "metadata": {},
   "outputs": [],
   "source": [
    "def build_B(B_prim, vocab, wv, min_freq, exclude_marginal, margin):\n",
    "    \n",
    "    B = [w for w in B_prim if w in wv.key_to_index and w in vocab]\n",
    "    \n",
    "    if min_freq:\n",
    "        pass\n",
    "    if exclude_marginal:\n",
    "        pass\n",
    "    \n",
    "#     B.sort()\n",
    "    \n",
    "    return B\n",
    "\n",
    "    \n",
    "    \n",
    "    \n",
    "    "
   ]
  },
  {
   "cell_type": "code",
   "execution_count": null,
   "metadata": {},
   "outputs": [],
   "source": [
    "#inspect_all(replacement_data, \"forortsgang\", \"both\", stopwords, [\",\"])"
   ]
  },
  {
   "cell_type": "code",
   "execution_count": null,
   "metadata": {},
   "outputs": [],
   "source": [
    "def collect_forms(base_or_paradigm, m_dir, f_dir, stop = None):\n",
    "    \"\"\" Collects word forms starting with `base`\n",
    "    \"\"\"\n",
    "    \n",
    "    summary = []\n",
    "    sim_matrices = {}\n",
    "    \n",
    "    for file in sorted(os.listdir(m_dir)):\n",
    "        \n",
    "        if not file.endswith(\".w2v\"):\n",
    "            continue\n",
    "        print(file)    \n",
    "        year = int(file.replace(\".w2v\", \"\"))\n",
    "        if stop != None and year > stop:\n",
    "            break\n",
    "            \n",
    "        wv = KeyedVectors.load_word2vec_format(models_at / file)\n",
    "        vocab = load_metric(vocabs_at / file.replace(\".w2v\", \".txt\"))\n",
    "        \n",
    "        print(len(wv), len(vocab))\n",
    "\n",
    "        if type(base_or_paradigm) == str:\n",
    "            g = [w for w in wv.key_to_index if w.startswith(\"invandrare\")]\n",
    "        else:\n",
    "            assert type(base_or_paradigm) == list, \"`base_or_paradigm` is neither string nor list\"\n",
    "            g = [w for w in base_or_paradigm if w in wv.key_to_index]\n",
    "        g = [w if w in vocab else print(w, \"not in vocab\") for w in g]\n",
    "        g = [w for w in g if w != None]\n",
    "        g.sort()\n",
    "    #     print(g)\n",
    "\n",
    "        \n",
    "        c = [(w, int(vocab[w])) for w in g]\n",
    "        summary.append(\n",
    "            {\n",
    "            \"year\": year, \n",
    "            \"n\": len(g), \n",
    "            \"forms\": g, \n",
    "            \"counts\": c,\n",
    "            \"forms_str\": \", \".join([f\"{w} {n}\" for w, n in [(w, vocab[w]) for w in g]])\n",
    "            }\n",
    "        )\n",
    "\n",
    "        vectors = [wv[w] for w in g]\n",
    "\n",
    "        sim_matrix = cosine_similarity(vectors)\n",
    "\n",
    "        sim_matrices[year] = pd.DataFrame(sim_matrix, index=g, columns=g)\n",
    "    \n",
    "    \n",
    "    return summary, sim_matrices"
   ]
  },
  {
   "cell_type": "code",
   "execution_count": null,
   "metadata": {},
   "outputs": [],
   "source": [
    "for x, y in combinations(np.array([[1,2,3,4],[4,5,7,1],[4,2,8,7]]), 2):\n",
    "    print(cosine_similarity([x,y])[0][1])"
   ]
  },
  {
   "cell_type": "code",
   "execution_count": null,
   "metadata": {},
   "outputs": [],
   "source": [
    "np.array([[1,2,3], [1,2,3]]).mean(axis=0)"
   ]
  },
  {
   "cell_type": "code",
   "execution_count": null,
   "metadata": {},
   "outputs": [],
   "source": [
    "def pairwise_comparison(vectors):\n",
    "    \n",
    "    s = []\n",
    "    \n",
    "    for x, y in combinations(vectors, 2):\n",
    "        similarity = cosine_similarity([x,y])[0][1] # returns a matrix\n",
    "        s.append(similarity)\n",
    "    \n",
    "    s = np.array(s)\n",
    "    \n",
    "    return s"
   ]
  },
  {
   "cell_type": "code",
   "execution_count": null,
   "metadata": {},
   "outputs": [],
   "source": [
    "def pipeline(dwe, repl_data, m_dir, f_dir):\n",
    "    \n",
    "    results = {}\n",
    "    \n",
    "    for dim in [1, 2]:\n",
    "        A = \n",
    "        B_prim = \n",
    "\n",
    "        for file in sorted(os.listdir(m_dir)):\n",
    "            \n",
    "            year = int(file.replace(\".txt\", \"\"))\n",
    "\n",
    "            if not file.endswith(\".w2v\"):\n",
    "                continue            \n",
    "            \n",
    "            wv = KeyedVectors.load_word2vec_format(models_at / file)\n",
    "            \n",
    "            vocab = load_metric(vocabs_at / file.replace(\".w2v\", \".txt\"))\n",
    "            \n",
    "            dwe_vec = wv[dwe]\n",
    "            \n",
    "            B = build_B(B_prim, vocab, wv, min_freq, exclude_marginal, margin)\n",
    "\n",
    "            vectors = np.array([wv[w] for w in B])\n",
    "\n",
    "            avg_vec = vectors.mean(axis = 0)\n",
    "            \n",
    "            distance = cosine_similarity([dwe_vec, avg_vec])\n",
    "\n",
    "            series = pairwise_comparison(vectors)\n",
    "            \n",
    "            pairwise_mean = series.mean()\n",
    "            \n",
    "            dim_term = \"ingroup\" if dim == 1 else \"outgroup\"\n",
    "            \n",
    "            results[dim_term] = {}\n",
    "            \n",
    "    \n",
    "    for year in years:\n",
    "        t, p = ttest(series_in, series_out)\n",
    "    \n",
    "    \n",
    "            "
   ]
  },
  {
   "cell_type": "code",
   "execution_count": null,
   "metadata": {},
   "outputs": [],
   "source": [
    "for dim in [1, 2]:\n",
    "    dim_term = \"ingroup\" if dim == 1 else \"outgroup\"\n",
    "    print(dim_term)"
   ]
  },
  {
   "cell_type": "markdown",
   "metadata": {},
   "source": [
    "##### Development"
   ]
  },
  {
   "cell_type": "code",
   "execution_count": null,
   "metadata": {},
   "outputs": [],
   "source": [
    "cosine_similarity([[1,2,3], [2,3,4], [4,5,6]])"
   ]
  },
  {
   "cell_type": "code",
   "execution_count": null,
   "metadata": {},
   "outputs": [],
   "source": [
    "models_at = Path(\"/home/max/Results/fb_pol-yearly-rad3/models\")\n",
    "vocabs_at = Path(\"/home/max/Corpora/flashback-pol-time/yearly/fb-pt-radical3/vocab\")"
   ]
  },
  {
   "cell_type": "code",
   "execution_count": null,
   "metadata": {},
   "outputs": [],
   "source": [
    "summary, sim_mtrx = collect_forms(\"invandrare\", models_at, vocabs_at, stop = 2005)"
   ]
  },
  {
   "cell_type": "code",
   "execution_count": null,
   "metadata": {},
   "outputs": [],
   "source": [
    "pd.DataFrame(summary)"
   ]
  },
  {
   "cell_type": "code",
   "execution_count": null,
   "metadata": {},
   "outputs": [],
   "source": [
    "for year in sim_mtrx.keys():\n",
    "    print(year)\n",
    "    df = sim_mtrx[year]\n",
    "    print(df)\n",
    "    print()\n"
   ]
  },
  {
   "cell_type": "code",
   "execution_count": null,
   "metadata": {},
   "outputs": [],
   "source": [
    "a = [np.array([1.2, 2.3]), np.array([5.6, 4.2])]"
   ]
  },
  {
   "cell_type": "code",
   "execution_count": null,
   "metadata": {},
   "outputs": [],
   "source": [
    "np.array(a).shape"
   ]
  },
  {
   "cell_type": "code",
   "execution_count": null,
   "metadata": {},
   "outputs": [],
   "source": [
    "vocab = {\n",
    "    \"mamma\": 1,\n",
    "    \"mamman\": 3,\n",
    "    \"mu\": 100,\n",
    "    \"kråka\": 1,\n",
    "    \"kråkor\":20\n",
    "}\n",
    "\n",
    "\n",
    "Bigt = [(\"mamma\", \"mamman\"), (\"mu\",), (\"kråka\", \"kråkan\", \"kråkor\")]\n",
    "voc_B = {lexeme[0].upper(): {w: vocab[w] for w in lexeme if w in vocab} for lexeme in Bigt}"
   ]
  },
  {
   "cell_type": "code",
   "execution_count": null,
   "metadata": {},
   "outputs": [],
   "source": [
    "voc_B"
   ]
  },
  {
   "cell_type": "code",
   "execution_count": null,
   "metadata": {},
   "outputs": [],
   "source": [
    "voc_B[\"MAMMA\"]"
   ]
  },
  {
   "cell_type": "code",
   "execution_count": null,
   "metadata": {},
   "outputs": [],
   "source": [
    "prop = {lexeme: {w: (voc_B[lexeme][w]/sum(voc_B[lexeme].values())) for w in voc_B[lexeme]} for lexeme in voc_B}"
   ]
  },
  {
   "cell_type": "code",
   "execution_count": null,
   "metadata": {
    "scrolled": true
   },
   "outputs": [],
   "source": [
    "prop"
   ]
  },
  {
   "cell_type": "code",
   "execution_count": null,
   "metadata": {},
   "outputs": [],
   "source": [
    "1/20"
   ]
  },
  {
   "cell_type": "code",
   "execution_count": null,
   "metadata": {},
   "outputs": [],
   "source": [
    "sorted(voc_B[\"MAMMA\"].items(), key = lambda x: x[1], reverse=True)[:1000]"
   ]
  },
  {
   "cell_type": "code",
   "execution_count": null,
   "metadata": {},
   "outputs": [],
   "source": []
  },
  {
   "cell_type": "code",
   "execution_count": null,
   "metadata": {},
   "outputs": [],
   "source": []
  },
  {
   "cell_type": "code",
   "execution_count": null,
   "metadata": {},
   "outputs": [],
   "source": [
    "#os.listdir(models_at)"
   ]
  },
  {
   "cell_type": "code",
   "execution_count": null,
   "metadata": {},
   "outputs": [],
   "source": [
    "load_metric(vocabs_at / \"2000.txt\")"
   ]
  },
  {
   "cell_type": "code",
   "execution_count": null,
   "metadata": {},
   "outputs": [],
   "source": [
    "model = \"2004.w2v\"\n",
    "wv = KeyedVectors.load_word2vec_format(models_at / model)"
   ]
  },
  {
   "cell_type": "code",
   "execution_count": null,
   "metadata": {},
   "outputs": [],
   "source": [
    "type(wv[\"mamma\"]) == np.ndarray\n"
   ]
  },
  {
   "cell_type": "code",
   "execution_count": null,
   "metadata": {},
   "outputs": [],
   "source": [
    "#wv.get_vector(\"sverige\")"
   ]
  },
  {
   "cell_type": "code",
   "execution_count": null,
   "metadata": {},
   "outputs": [],
   "source": [
    "#wv[\"sverige\"]"
   ]
  },
  {
   "cell_type": "code",
   "execution_count": null,
   "metadata": {},
   "outputs": [],
   "source": [
    "for model in sorted(os.listdir(models_at)):\n",
    "    if not model.endswith(\".w2v\"):\n",
    "        continue\n",
    "    wv = KeyedVectors.load_word2vec_format(models_at / model)\n",
    "    g = [w for w in wv.key_to_index if w.startswith(\"invandrare\")]\n",
    "    g.sort()\n",
    "#     print(g)\n",
    "    print(model[:4], len(g), \", \".join(g))"
   ]
  },
  {
   "cell_type": "code",
   "execution_count": null,
   "metadata": {},
   "outputs": [],
   "source": [
    "for model in sorted(os.listdir(models_at)):\n",
    "    if not model.endswith(\".w2v\"):\n",
    "        continue\n",
    "    wv = KeyedVectors.load_word2vec_format(models_at / model)\n",
    "    g = [w for w in wv.key_to_index if w.startswith(\"deportera\")]\n",
    "    g.sort()\n",
    "#     print(g)\n",
    "    print(model[:4], len(g), \", \".join(g))"
   ]
  },
  {
   "cell_type": "code",
   "execution_count": null,
   "metadata": {},
   "outputs": [],
   "source": [
    "for model in sorted(os.listdir(models_at)):\n",
    "    if not model.endswith(\".w2v\"):\n",
    "        continue\n",
    "    wv = KeyedVectors.load_word2vec_format(models_at / model)\n",
    "    g = [w for w in wv.key_to_index if w.startswith(\"elitist\")]\n",
    "    g.sort()\n",
    "#     print(g)\n",
    "    print(model[:4], len(g), \", \".join(g))"
   ]
  },
  {
   "cell_type": "code",
   "execution_count": null,
   "metadata": {},
   "outputs": [],
   "source": []
  },
  {
   "cell_type": "code",
   "execution_count": null,
   "metadata": {},
   "outputs": [],
   "source": [
    "len(wv)"
   ]
  },
  {
   "cell_type": "code",
   "execution_count": null,
   "metadata": {},
   "outputs": [],
   "source": [
    "#wv[1]"
   ]
  },
  {
   "cell_type": "code",
   "execution_count": null,
   "metadata": {},
   "outputs": [],
   "source": [
    "\"sverige\" in wv"
   ]
  },
  {
   "cell_type": "code",
   "execution_count": null,
   "metadata": {},
   "outputs": [],
   "source": [
    "#wv[\"sverige\"]"
   ]
  },
  {
   "cell_type": "code",
   "execution_count": null,
   "metadata": {
    "scrolled": true
   },
   "outputs": [],
   "source": [
    "[w for w in wv.key_to_index if w.startswith(\"invandr\")]"
   ]
  },
  {
   "cell_type": "code",
   "execution_count": null,
   "metadata": {},
   "outputs": [],
   "source": [
    "# get_mean_vector(keys, weights=None, pre_normalize=True, post_normalize=False, ignore_missing=True)\n",
    "wv.get_mean_vector(['invandrare', 'invandrarna'], weights=[0.7, 0.3], pre_normalize=True, post_normalize=False, ignore_missing=True)"
   ]
  },
  {
   "cell_type": "code",
   "execution_count": null,
   "metadata": {},
   "outputs": [],
   "source": [
    "wv.similarity('invandrare', 'invandrarna')"
   ]
  },
  {
   "cell_type": "code",
   "execution_count": null,
   "metadata": {},
   "outputs": [],
   "source": [
    "wv.n_similarity(['invandrare'], ['invandrarna', 'invandrarnas'])"
   ]
  },
  {
   "cell_type": "code",
   "execution_count": null,
   "metadata": {},
   "outputs": [],
   "source": [
    "wv.similarity('invandrare', 'invandrargäng')"
   ]
  },
  {
   "cell_type": "code",
   "execution_count": null,
   "metadata": {},
   "outputs": [],
   "source": [
    "wv.similarity('invandrare', 'människor')"
   ]
  },
  {
   "cell_type": "code",
   "execution_count": null,
   "metadata": {},
   "outputs": [],
   "source": [
    "wv.most_similar(\"V1_berika\")"
   ]
  },
  {
   "cell_type": "code",
   "execution_count": null,
   "metadata": {},
   "outputs": [],
   "source": [
    "\n",
    "igt = [\n",
    "    \"förstöra\",\n",
    "    \"utnyttja\",\n",
    "    \"förpesta\",\n",
    "    \"försämra\", \n",
    "    \"brott\",\n",
    "    \"fördärva\"\n",
    "    ]\n",
    "ogt = [\n",
    "    \"förbättra\",\n",
    "    \"tillföra\",\n",
    "    \"bidra\",\n",
    "    \"förgylla\",\n",
    "    \"nytta\",\n",
    "    \"hjälpa\", \n",
    "    \"främja\",\n",
    "    \"bättre\",\n",
    "    \"utveckla\",\n",
    "    \"stärka\",\n",
    "    \"gynna\",\n",
    "    \"förhöja\",\n",
    "    \"positiv\"\n",
    "    ]\n",
    "wv.n_similarity([\"V1_berika\"], igt), wv.n_similarity([\"V1_berika\"], ogt)"
   ]
  },
  {
   "cell_type": "markdown",
   "metadata": {},
   "source": [
    "##### Association metric"
   ]
  },
  {
   "cell_type": "code",
   "execution_count": null,
   "metadata": {},
   "outputs": [],
   "source": [
    "def association(\n",
    "    trg,        # Targets (list)\n",
    "    igt,        # In-group terms\n",
    "    ogt,        # Out-group terms\n",
    "    kwv,        # Keyed word vector (`gensim.models.KeyedVectors`)\n",
    "    method = \"centroid\", # \"centroid\" for similarity of averaged vector (centroid); \n",
    "                         # \"mean\" for mean of similarity of each comparison\n",
    "    weigths_trg = None,  # weigths of trg\n",
    "    weigths_igt = None,  # weigths of igt\n",
    "    weigths_ogt = None,  # weigths of ogt\n",
    "):\n",
    "    \n",
    "    if method == \"centroid\":\n",
    "        \n",
    "        trg_vec = kwv.get_mean_vector(trg, weights=weigths_trg, pre_normalize=True, post_normalize=False, ignore_missing=True)\n",
    "        igt_vec = kwv.get_mean_vector(igt, weights=weigths_igt, pre_normalize=True, post_normalize=False, ignore_missing=True)\n",
    "        ogt_vec = kwv.get_mean_vector(ogt, weights=weigths_ogt, pre_normalize=True, post_normalize=False, ignore_missing=True)\n",
    "        \n",
    "        igs = cosine_similarity([trg_vec, igt_vec])[0][1] # returns a matrix! must be indexed\n",
    "        ogs = cosine_similarity([trg_vec, ogt_vec])[0][1]\n",
    "        \n",
    "        t = None\n",
    "        p = None\n",
    "\n",
    "    if method == \"mean\":\n",
    "        \n",
    "        igscores = []\n",
    "        ogscores = []\n",
    "        \n",
    "        for trg_i in trg:      # What about OOV items? What do those calculations return?\n",
    "            for igt_i in igt:\n",
    "                ig_scores.append(kwv.similarity(trg_i, igt_i))\n",
    "        \n",
    "        for trg_i in trg:\n",
    "            for ogt_i in ogt:\n",
    "                og_scores.append(kwv.similarity(trg_i, ogt_i))\n",
    "        \n",
    "        igs = np.mean(igscores) # list to numpy array? axis = ? Check!\n",
    "        ogs = np.mean(ogscores)\n",
    "        \n",
    "        t, p, df = ttest_ind(igscores, ogscores) # it is not perfectly clear that a t-test is a good idea here\n",
    "        \n",
    "    return igs, ogs, t, p\n",
    "    \n",
    "    "
   ]
  },
  {
   "cell_type": "code",
   "execution_count": null,
   "metadata": {},
   "outputs": [],
   "source": [
    "##### Test: återvandring"
   ]
  },
  {
   "cell_type": "code",
   "execution_count": null,
   "metadata": {},
   "outputs": [],
   "source": [
    "cosine_similarity([[1,2,2], [2,33,1]])"
   ]
  },
  {
   "cell_type": "code",
   "execution_count": null,
   "metadata": {},
   "outputs": [],
   "source": [
    "igt = [\n",
    "        \"utvisa\", \n",
    "        \"skicka\", \n",
    "        \"deportering\", \n",
    "        \"tvångsförflyttning\", \n",
    "        \"kasta\", \n",
    "        \"sända\", \n",
    "        \"tvinga\", \n",
    "        \"slänga\", \n",
    "        \"avvisa\",\n",
    "        \"sparka\",\n",
    "        \"avhysa\"\n",
    "]\n",
    "ogt = [\n",
    "    \"återvända\",\n",
    "    \"återreas\",\n",
    "    \"repatriering\",\n",
    "    \"hemresa\",\n",
    "    \"hemåtvända\",\n",
    "    \"utvandring\",\n",
    "    \"flytta\"\n",
    "    ]\n",
    "trg = [\"N1_återvandring\"]\n",
    "for file in sorted([file for file in os.listdir(models_at) if file.endswith(\".w2v\")]):\n",
    "    \n",
    "    wv = KeyedVectors.load_word2vec_format(models_at / file)\n",
    "    \n",
    "    print(file, association(trg, igt, ogt, wv))"
   ]
  },
  {
   "cell_type": "code",
   "execution_count": null,
   "metadata": {},
   "outputs": [],
   "source": [
    "# sorted({\"a\": 1, \"b\":20}.items(), key = lambda x: x[1], reverse=True)\n",
    "sorted({\"a\": 1, \"b\":20, \"c\":10}.items(), key = lambda x: x[1])"
   ]
  }
 ],
 "metadata": {
  "kernelspec": {
   "display_name": "Python 3",
   "language": "python",
   "name": "python3"
  },
  "language_info": {
   "codemirror_mode": {
    "name": "ipython",
    "version": 3
   },
   "file_extension": ".py",
   "mimetype": "text/x-python",
   "name": "python",
   "nbconvert_exporter": "python",
   "pygments_lexer": "ipython3",
   "version": "3.8.5"
  }
 },
 "nbformat": 4,
 "nbformat_minor": 4
}
