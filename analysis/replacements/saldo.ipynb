{
 "cells": [
  {
   "cell_type": "code",
   "execution_count": 1,
   "metadata": {},
   "outputs": [],
   "source": [
    "import xml.etree.ElementTree as ET\n",
    "from pathlib import Path\n",
    "import json\n",
    "import time"
   ]
  },
  {
   "cell_type": "code",
   "execution_count": null,
   "metadata": {},
   "outputs": [],
   "source": [
    "tree = ET.parse(Path(\"/home/max/Datasets/saldom.xml\"))\n",
    "root = tree.getroot()"
   ]
  },
  {
   "cell_type": "code",
   "execution_count": null,
   "metadata": {},
   "outputs": [],
   "source": [
    "root"
   ]
  },
  {
   "cell_type": "code",
   "execution_count": null,
   "metadata": {},
   "outputs": [],
   "source": [
    "\n",
    "\"\"\"\n",
    "LEXCION\n",
    "    LEXICAL ENTRY\n",
    "        LEMMA\n",
    "            \n",
    "        WORD FORMS\n",
    "\n",
    "\"\"\""
   ]
  },
  {
   "cell_type": "code",
   "execution_count": null,
   "metadata": {},
   "outputs": [],
   "source": [
    "STOP = False\n",
    "d = dict()\n",
    "for i, LE in enumerate(root[1].iter(\"LexicalEntry\")):\n",
    "    if STOP:\n",
    "        if i > 100:\n",
    "            break\n",
    "    \n",
    "    if i%1000 == 0:\n",
    "        print(i, end=\"\\r\")\n",
    "    \n",
    "    for lemma in LE.iter(\"Lemma\"):\n",
    "        for x in lemma.iter(\"FormRepresentation\"):\n",
    "            for feat in x.iter(\"feat\"):\n",
    "                if feat.attrib[\"att\"] == 'writtenForm':\n",
    "                    LEMMA = feat.attrib[\"val\"]\n",
    "    \n",
    "    wfs = []\n",
    "    \n",
    "    for wf in LE.iter(\"WordForm\"):\n",
    "        for feat in wf.iter(\"feat\"):\n",
    "            if feat.attrib[\"att\"] == 'writtenForm':\n",
    "                WORDFORM = feat.attrib[\"val\"]\n",
    "                if not WORDFORM.endswith(\"-\"):\n",
    "                    wfs.append(WORDFORM)\n",
    "    \n",
    "    d[LEMMA] = wfs                "
   ]
  },
  {
   "cell_type": "code",
   "execution_count": null,
   "metadata": {},
   "outputs": [],
   "source": [
    "len(d)"
   ]
  },
  {
   "cell_type": "code",
   "execution_count": null,
   "metadata": {},
   "outputs": [],
   "source": [
    "with open(Path(\"/home/max/Datasets/saldom.json\"), \"w\", encoding=\"utf-8\") as f:\n",
    "    f.write(json.dumps(d, sort_keys=True, indent=4))"
   ]
  },
  {
   "cell_type": "code",
   "execution_count": 4,
   "metadata": {},
   "outputs": [],
   "source": [
    "def get_my_wfs(lemma):\n",
    "    t0 = time.time()\n",
    "    with open(Path(\"/home/max/Datasets/saldom.json\")) as f:\n",
    "        d = json.loads(f.read())\n",
    "    wfs=d[lemma]\n",
    "    print(time.time()-t0)\n",
    "    return wfs\n",
    "    "
   ]
  },
  {
   "cell_type": "code",
   "execution_count": 5,
   "metadata": {},
   "outputs": [
    {
     "name": "stdout",
     "output_type": "stream",
     "text": [
      "1.398244857788086\n"
     ]
    },
    {
     "data": {
      "text/plain": [
       "['äter',\n",
       " 'ätes',\n",
       " 'äts',\n",
       " 'äte',\n",
       " 'ätes',\n",
       " 'åt',\n",
       " 'åts',\n",
       " 'åte',\n",
       " 'åtes',\n",
       " 'ät',\n",
       " 'äta',\n",
       " 'ätas',\n",
       " 'ätit',\n",
       " 'ätits',\n",
       " 'ätande',\n",
       " 'ätandes',\n",
       " 'äten',\n",
       " 'ätens',\n",
       " 'ätet',\n",
       " 'ätets',\n",
       " 'ätna',\n",
       " 'ätnas',\n",
       " 'ätna',\n",
       " 'ätnas',\n",
       " 'ätne',\n",
       " 'ätnes',\n",
       " 'ätna',\n",
       " 'ätnas',\n",
       " 'ät']"
      ]
     },
     "execution_count": 5,
     "metadata": {},
     "output_type": "execute_result"
    }
   ],
   "source": [
    "get_my_wfs(\"äta\")"
   ]
  },
  {
   "cell_type": "code",
   "execution_count": null,
   "metadata": {},
   "outputs": [],
   "source": []
  }
 ],
 "metadata": {
  "kernelspec": {
   "display_name": "Python 3",
   "language": "python",
   "name": "python3"
  },
  "language_info": {
   "codemirror_mode": {
    "name": "ipython",
    "version": 3
   },
   "file_extension": ".py",
   "mimetype": "text/x-python",
   "name": "python",
   "nbconvert_exporter": "python",
   "pygments_lexer": "ipython3",
   "version": "3.8.5"
  }
 },
 "nbformat": 4,
 "nbformat_minor": 4
}
