{
 "cells": [
  {
   "cell_type": "code",
   "execution_count": 1,
   "metadata": {},
   "outputs": [],
   "source": [
    "#from sentence_transformers import SentenceTransformer\n",
    "from transformers import AutoModel, AutoTokenizer\n",
    "import torch\n",
    "import os\n",
    "import numpy as np\n",
    "from pathlib import Path\n",
    "import time\n",
    "import pandas as pd"
   ]
  },
  {
   "cell_type": "code",
   "execution_count": 2,
   "metadata": {},
   "outputs": [],
   "source": [
    "#os.listdir(Path(\"/home/max/Models/sentenceBERT\"))"
   ]
  },
  {
   "cell_type": "code",
   "execution_count": 3,
   "metadata": {},
   "outputs": [],
   "source": [
    "#os.listdir(\"/home/max/Results/replacements/data/\") + []"
   ]
  },
  {
   "cell_type": "code",
   "execution_count": 4,
   "metadata": {},
   "outputs": [],
   "source": [
    "def naming(full_path):\n",
    "    return full_path.split(\"/\")[-1]"
   ]
  },
  {
   "cell_type": "code",
   "execution_count": 5,
   "metadata": {},
   "outputs": [],
   "source": [
    "def text2bert(data_path, local_models_at, huggface_models = [], device = \"cpu\"):\n",
    "    \n",
    "    t0 = time.time()\n",
    "    \n",
    "    data_path = Path(data_path)\n",
    "\n",
    "    if local_models_at == None:\n",
    "        models = huggface_models\n",
    "    else:\n",
    "        models_path = Path(local_models_at)\n",
    "        models = [f\"{local_models_at}/{model}\" for model in os.listdir(local_models_at)] + huggface_models\n",
    "    \n",
    "    for dwe in os.listdir(data_path):\n",
    "        for meaning in [\"ingroup\", \"outgroup\"]:\n",
    "            for rnd in [\"first_round\", \"second_round\"]:\n",
    "                isExist = os.path.exists(data_path / dwe / meaning / rnd / \"vectors\")\n",
    "                if not isExist:\n",
    "                    os.makedirs(data_path / dwe / meaning / rnd / \"vectors\")   \n",
    "                \n",
    "                replacements = pd.read_csv(data_path / dwe / meaning / rnd / \"replacements.txt\", sep = \"\\t\", index_col = 0) \n",
    "                # remove punctuation? \"deportera\" vs \"deportera.\"\n",
    "                \n",
    "                for model in models:\n",
    "                    \n",
    "                    t = time.time()\n",
    "                    path = data_path / dwe / meaning / rnd / \"vectors\" / naming(model)\n",
    "                    \n",
    "                    isExist = os.path.exists(path)\n",
    "                    if not isExist:\n",
    "                        os.makedirs(path)   \n",
    "                    print()\n",
    "                    print(f\"{dwe:<15}{meaning:<10}{rnd:<15}{naming(model)}\")\n",
    "\n",
    "                    ########################################################\n",
    "                    #sBERT = SentenceTransformer(model)\n",
    "                    tokenizer = AutoTokenizer.from_pretrained(model)\n",
    "                    BERT = AutoModel.from_pretrained(model)\n",
    "                    BERT.to(device)\n",
    "                    ########################################################\n",
    "                    vectors = []\n",
    "                    for idx, line in zip(replacements.index, replacements.iloc[:,0]):\n",
    "                        pcent = round((len(replacements.loc[:idx]) / len(replacements)) * 100, 1)\n",
    "                        print(f\"{pcent:<10}{int((time.time()-t))} s.\", end=\"\\r\")\n",
    "                        ##########################################################################\n",
    "                        #vector = sBERT.encode(line)\n",
    "                        encoded = tokenizer.encode_plus(line, return_tensors=\"pt\", truncation=True, max_length=512)\n",
    "                        encoded.to(device)\n",
    "                        with torch.no_grad():\n",
    "                            output = BERT(**encoded)\n",
    "                        last_hidden = output.last_hidden_state.squeeze()\n",
    "                        vector = last_hidden[0] # CLS  \n",
    "                        ##########################################################################\n",
    "                        as_str = \" \".join([str(value) for value in vector.tolist()])\n",
    "                        vectors.append(f\"{idx}\\t{as_str}\\n\")\n",
    "                    \n",
    "                    with open(path / \"vecs.txt\", mode = \"w\") as f:\n",
    "                        for vec in vectors:\n",
    "                            f.write(vec)\n",
    "    \n",
    "    print()\n",
    "    print(\"Done!\", int((time.time()-t0)/60), \"m.\")"
   ]
  },
  {
   "cell_type": "code",
   "execution_count": 6,
   "metadata": {},
   "outputs": [
    {
     "name": "stdout",
     "output_type": "stream",
     "text": [
      "\n",
      "aterinvandring ingroup   first_round    megatron-bert-large-swedish-cased-110k\n",
      "100.0     11 s.\n",
      "aterinvandring ingroup   second_round   megatron-bert-large-swedish-cased-110k\n",
      "100.0     20 s.\n",
      "aterinvandring outgroup  first_round    megatron-bert-large-swedish-cased-110k\n",
      "100.0     18 s.\n",
      "aterinvandring outgroup  second_round   megatron-bert-large-swedish-cased-110k\n",
      "100.0     55 s.\n",
      "berikar        ingroup   first_round    megatron-bert-large-swedish-cased-110k\n",
      "100.0     5 s.\n",
      "berikar        ingroup   second_round   megatron-bert-large-swedish-cased-110k\n",
      "100.0     10 s.\n",
      "berikar        outgroup  first_round    megatron-bert-large-swedish-cased-110k\n",
      "100.0     24 s.\n",
      "berikar        outgroup  second_round   megatron-bert-large-swedish-cased-110k\n",
      "100.0     66 s.\n",
      "forortsgang    ingroup   first_round    megatron-bert-large-swedish-cased-110k\n",
      "100.0     5 s.\n",
      "forortsgang    ingroup   second_round   megatron-bert-large-swedish-cased-110k\n",
      "100.0     15 s.\n",
      "forortsgang    outgroup  first_round    megatron-bert-large-swedish-cased-110k\n",
      "100.0     24 s.\n",
      "forortsgang    outgroup  second_round   megatron-bert-large-swedish-cased-110k\n",
      "100.0     68 s.\n",
      "globalister    ingroup   first_round    megatron-bert-large-swedish-cased-110k\n",
      "100.0     2 s.\n",
      "globalister    ingroup   second_round   megatron-bert-large-swedish-cased-110k\n",
      "100.0     4 s.\n",
      "globalister    outgroup  first_round    megatron-bert-large-swedish-cased-110k\n",
      "100.0     19 s.\n",
      "globalister    outgroup  second_round   megatron-bert-large-swedish-cased-110k\n",
      "100.0     56 s.\n",
      "Done! 6 m.\n"
     ]
    }
   ],
   "source": [
    "#'KB/bert-base-swedish-cased'\n",
    "# OR: 'KBLab/bert-base-swedish-cased'\n",
    "# C:\\Users\\xbohma\\Desktop\\work\\work\\data\\replacments\\data\n",
    "\n",
    "# https://kb-labb.github.io/posts/2022-03-16-evaluating-swedish-language-models/\n",
    "\n",
    "text2bert(\n",
    "    data_path = Path(\"../data/replacements/data/\"), \n",
    "    local_models_at = None, \n",
    "    huggface_models = [\"KBLab/megatron-bert-large-swedish-cased-110k\"], # ['KBLab/bert-base-swedish-cased'], \n",
    "    device = \"cuda\"\n",
    ")"
   ]
  },
  {
   "cell_type": "code",
   "execution_count": 7,
   "metadata": {},
   "outputs": [],
   "source": [
    "#where_my_models_are = \"/home/max/Models/sentenceBERT\""
   ]
  },
  {
   "cell_type": "code",
   "execution_count": 8,
   "metadata": {},
   "outputs": [],
   "source": [
    "# text2bert(\n",
    "#     data_path = Path(\"/home/max/Results/rplc_globalist_2nd_round/data\"), \n",
    "#     local_models_at = where_my_models_are, \n",
    "#     huggface_models = [\"KBLab/sentence-bert-swedish-cased\"], \n",
    "# )"
   ]
  },
  {
   "cell_type": "code",
   "execution_count": null,
   "metadata": {},
   "outputs": [],
   "source": []
  }
 ],
 "metadata": {
  "kernelspec": {
   "display_name": "Python 3 (ipykernel)",
   "language": "python",
   "name": "python3"
  },
  "language_info": {
   "codemirror_mode": {
    "name": "ipython",
    "version": 3
   },
   "file_extension": ".py",
   "mimetype": "text/x-python",
   "name": "python",
   "nbconvert_exporter": "python",
   "pygments_lexer": "ipython3",
   "version": "3.11.7"
  }
 },
 "nbformat": 4,
 "nbformat_minor": 4
}
