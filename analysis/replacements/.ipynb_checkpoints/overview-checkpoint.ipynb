{
 "cells": [
  {
   "cell_type": "markdown",
   "metadata": {},
   "source": [
    "```\n",
    "tables\n",
    "    fb_yearly_sgns.csv\n",
    "    fb_yearly_nli.csv\n",
    "    ...\n",
    "    fm_yearly_sgns.csv\n",
    "    ...\n",
    "data\n",
    "    DWE1\n",
    "        ingroup\n",
    "            first_round\n",
    "                replacements.txt\n",
    "                vectors_sbert\n",
    "                        nli.txt\n",
    "                        kb.txt\n",
    "                        sts.txt\n",
    "                        sts_big.txt\n",
    "            second_round\n",
    "            ...\n",
    "        outgroup\n",
    "        ...\n",
    "    DWE2\n",
    "    ...\n",
    "```"
   ]
  },
  {
   "cell_type": "code",
   "execution_count": null,
   "metadata": {},
   "outputs": [],
   "source": [
    "from pathlin import Path\n",
    "x = Path(\"/home/max/Documents/\")\n"
   ]
  },
  {
   "cell_type": "markdown",
   "metadata": {},
   "source": [
    "```\n",
    "# replacements.txt\n",
    "ID  REPLACEMENT\n",
    "```\n",
    "\n",
    "```\n",
    "# vectors_sbert/MODEL.txt\n",
    "ID  VECTOR\n",
    "```\n"
   ]
  },
  {
   "cell_type": "markdown",
   "metadata": {},
   "source": [
    "Tables:\n",
    "\n",
    "|Variable                         | Code             |\n",
    "|---------------------------------|------------------|\n",
    "| ~~Frequency (per million)~~     |`fpm_year`        |\n",
    "| ~~Naive Change~~                |`gch_YEARi:YEARj` |\n",
    "| ~~Rectified change~~            |`rch_YEARi:YEARj` |\n",
    "| Ingroup-Centroid                |`ing-cnt_YEAR`    |\n",
    "| Outgroup-Centroid               |`otg-cnt_YEAR`    |   \n",
    "| Ingroup-pairwise-average        |`ing-pwa_YEAR`    |\n",
    "| Outgroup-pairwise-average       |`otg-pwa_YEAR`    |\n",
    "| Ingroup-Centroid-SimpleScaling  |`ing-cnt-ssc_YEAR`|\n",
    "| Outgroup-Centroid-SimpleScaling |`otg-cnt-ssc_YEAR`|\n",
    "| Ingroup-Centroid-Softmax        |`ing-cnt-smx_YEAR`|\n",
    "| Outgroup-Centroid-Softmax       |`otg-cnt-smx_YEAR`|\n",
    "\n",
    "\n",
    "Have frequencies and change in separate table?"
   ]
  },
  {
   "cell_type": "markdown",
   "metadata": {},
   "source": [
    "```\n",
    "# Cluster mode\n",
    "dwe1-clt1\n",
    "...\n",
    "dwe1-cltK\n",
    "dwe2-clt1\n",
    "...\n",
    "dwe2-cltK\n",
    "...\n",
    "dweN-clt1\n",
    "...\n",
    "dweN-cltK\n",
    "```\n",
    "Does not make sense! Cluster centroids will be constant over time."
   ]
  },
  {
   "cell_type": "markdown",
   "metadata": {},
   "source": [
    "#### Scaling"
   ]
  },
  {
   "cell_type": "code",
   "execution_count": 1,
   "metadata": {},
   "outputs": [],
   "source": [
    "from sklearn.utils.extmath import softmax\n",
    "import numpy as np"
   ]
  },
  {
   "cell_type": "code",
   "execution_count": 5,
   "metadata": {},
   "outputs": [
    {
     "data": {
      "text/plain": [
       "array([[0.50790947, 0.49209053]])"
      ]
     },
     "execution_count": 5,
     "metadata": {},
     "output_type": "execute_result"
    }
   ],
   "source": [
    "x = np.array([[ 0.30839931,  0.2767588]])\n",
    "softmax(x)"
   ]
  },
  {
   "cell_type": "code",
   "execution_count": 14,
   "metadata": {},
   "outputs": [
    {
     "data": {
      "text/plain": [
       "(0.5270358638625037, 0.4729641361374962, 0.9999999999999999)"
      ]
     },
     "execution_count": 14,
     "metadata": {},
     "output_type": "execute_result"
    }
   ],
   "source": [
    "# \"SimpleScaling\"\n",
    "a = x[0][0] / x.sum()\n",
    "b = x[0][-1] / x.sum()\n",
    "a, b, a+b"
   ]
  },
  {
   "cell_type": "markdown",
   "metadata": {},
   "source": [
    "#### Pipline"
   ]
  },
  {
   "cell_type": "markdown",
   "metadata": {},
   "source": [
    "```\n",
    "embedding_method\n",
    "    A-selection\n",
    "        B-selection\n",
    "            distance_method\n",
    "                scaling\n",
    "```\n",
    "Explosion!"
   ]
  },
  {
   "cell_type": "markdown",
   "metadata": {},
   "source": [
    "build_df\n",
    "1. ***mode:*** {\"sgns\", \"sbert\"}\n",
    "2. ***A_list:*** {None, \\[\"rn\", \"nno\", \"t1\", \"t3\", \"\"\\]}\n",
    "3. ***B_list:*** {None, \\[\"naive_expand\", \"ms1\", \"ms2\", \"ms3\", \"ms4\"\\]} (only relevant for SGNS)\n",
    "4. "
   ]
  },
  {
   "cell_type": "markdown",
   "metadata": {},
   "source": [
    "```\n",
    "DWE A   B   ing-cnt_YEAR ...\n",
    "\n",
    "```\n",
    "OR\n",
    "```\n",
    "DWE A   B   fpm gch rch ing-cnt_YEAR ...\n",
    "\n",
    "```"
   ]
  },
  {
   "cell_type": "code",
   "execution_count": null,
   "metadata": {},
   "outputs": [],
   "source": []
  },
  {
   "cell_type": "code",
   "execution_count": null,
   "metadata": {},
   "outputs": [],
   "source": []
  },
  {
   "cell_type": "code",
   "execution_count": null,
   "metadata": {},
   "outputs": [],
   "source": []
  }
 ],
 "metadata": {
  "kernelspec": {
   "display_name": "Python 3",
   "language": "python",
   "name": "python3"
  },
  "language_info": {
   "codemirror_mode": {
    "name": "ipython",
    "version": 3
   },
   "file_extension": ".py",
   "mimetype": "text/x-python",
   "name": "python",
   "nbconvert_exporter": "python",
   "pygments_lexer": "ipython3",
   "version": "3.8.5"
  }
 },
 "nbformat": 4,
 "nbformat_minor": 4
}
