{
 "cells": [
  {
   "cell_type": "code",
   "execution_count": 1,
   "metadata": {},
   "outputs": [],
   "source": [
    "from sentence_transformers import SentenceTransformer\n",
    "import os\n",
    "import numpy as np\n",
    "from pathlib import Path\n",
    "import time\n",
    "import pandas as pd"
   ]
  },
  {
   "cell_type": "code",
   "execution_count": null,
   "metadata": {},
   "outputs": [],
   "source": [
    "os.listdir(Path(\"/home/max/Models/sentenceBERT\"))"
   ]
  },
  {
   "cell_type": "code",
   "execution_count": 2,
   "metadata": {},
   "outputs": [],
   "source": [
    "def naming(full_path):\n",
    "    return full_path.split(\"/\")[-1]"
   ]
  },
  {
   "cell_type": "code",
   "execution_count": null,
   "metadata": {},
   "outputs": [],
   "source": [
    "os.listdir(\"/home/max/Results/replacements/data/\") + []"
   ]
  },
  {
   "cell_type": "code",
   "execution_count": 3,
   "metadata": {},
   "outputs": [],
   "source": [
    "def text2bert(data_path, local_models_at, huggface_models = []):\n",
    "    \n",
    "    t0 = time.time()\n",
    "    \n",
    "    data_path = Path(data_path)\n",
    "    models_path = Path(local_models_at)\n",
    "    \n",
    "    models = [f\"{local_models_at}/{model}\" for model in os.listdir(local_models_at)] + huggface_models\n",
    "    #models = os.listdir(local_models_at) + huggface_models\n",
    "    \n",
    "    for dwe in os.listdir(data_path):\n",
    "        for meaning in [\"ingroup\", \"outgroup\"]:\n",
    "            for rnd in [\"first_round\", \"second_round\"]:\n",
    "                isExist = os.path.exists(data_path / dwe / meaning / rnd / \"vectors\")\n",
    "                if not isExist:\n",
    "                    os.makedirs(data_path / dwe / meaning / rnd / \"vectors\")   \n",
    "                \n",
    "                replacements = pd.read_csv(data_path / dwe / meaning / rnd / \"replacements.txt\", sep = \"\\t\", index_col = 0) \n",
    "                \n",
    "                # preprocessing ...\n",
    "                # lower\n",
    "                \n",
    "                for model in models:\n",
    "                    t = time.time()\n",
    "                    path = data_path / dwe / meaning / rnd / \"vectors\" / naming(model)\n",
    "                    \n",
    "                    isExist = os.path.exists(path)\n",
    "                    if not isExist:\n",
    "                        os.makedirs(path)   \n",
    "                    print()\n",
    "                    print(f\"{dwe:<15}{meaning:<10}{rnd:<15}{naming(model)}\")\n",
    "                    sBERT = SentenceTransformer(model)\n",
    "                    vectors = []\n",
    "                    for idx, line in zip(replacements.index, replacements.iloc[:,0]):\n",
    "                        pcent = round((len(replacements.loc[:idx]) / len(replacements)) * 100, 1)\n",
    "                        print(f\"{pcent:<10}{int((time.time()-t))} s.\", end=\"\\r\")\n",
    "                        vector = sBERT.encode(line)\n",
    "                        as_str = \" \".join([str(value) for value in vector.tolist()])\n",
    "                        vectors.append(f\"{idx}\\t{as_str}\\n\")\n",
    "                    \n",
    "                    with open(path / \"vecs.txt\", mode = \"w\") as f:\n",
    "                        for vec in vectors:\n",
    "                            f.write(vec)\n",
    "    \n",
    "    print()\n",
    "    print(\"Done!\", int((time.time()-t0)/60), \"m.\")"
   ]
  },
  {
   "cell_type": "code",
   "execution_count": 4,
   "metadata": {},
   "outputs": [],
   "source": [
    "where_my_models_are = \"/home/max/Models/sentenceBERT\""
   ]
  },
  {
   "cell_type": "code",
   "execution_count": null,
   "metadata": {
    "scrolled": true
   },
   "outputs": [],
   "source": [
    "text2bert(\n",
    "    data_path = Path(\"/home/max/Results/replacements/data/\"), \n",
    "    local_models_at = where_my_models_are, \n",
    "    huggface_models = [\"KBLab/sentence-bert-swedish-cased\"], \n",
    ")"
   ]
  },
  {
   "cell_type": "code",
   "execution_count": 5,
   "metadata": {},
   "outputs": [
    {
     "name": "stdout",
     "output_type": "stream",
     "text": [
      "\n",
      "globalister    ingroup   first_round    sts_fbmodel_big_40epochs\n",
      "100.0     8 s.\n",
      "globalister    ingroup   first_round    fb_nli\n",
      "100.0     6 s.\n",
      "globalister    ingroup   first_round    sts_fbmodel\n",
      "100.0     6 s.\n",
      "globalister    ingroup   first_round    sentence-bert-swedish-cased\n",
      "100.0     7 s.\n",
      "globalister    ingroup   second_round   sts_fbmodel_big_40epochs\n",
      "100.0     6 s.\n",
      "globalister    ingroup   second_round   fb_nli\n",
      "100.0     8 s.\n",
      "globalister    ingroup   second_round   sts_fbmodel\n",
      "100.0     6 s.\n",
      "globalister    ingroup   second_round   sentence-bert-swedish-cased\n",
      "100.0     5 s.\n",
      "globalister    outgroup  first_round    sts_fbmodel_big_40epochs\n",
      "100.0     51 s.\n",
      "globalister    outgroup  first_round    fb_nli\n",
      "100.0     52 s.\n",
      "globalister    outgroup  first_round    sts_fbmodel\n",
      "100.0     52 s.\n",
      "globalister    outgroup  first_round    sentence-bert-swedish-cased\n",
      "100.0     45 s.\n",
      "globalister    outgroup  second_round   sts_fbmodel_big_40epochs\n",
      "100.0     144 s.\n",
      "globalister    outgroup  second_round   fb_nli\n",
      "100.0     137 s.\n",
      "globalister    outgroup  second_round   sts_fbmodel\n",
      "100.0     139 s.\n",
      "globalister    outgroup  second_round   sentence-bert-swedish-cased\n",
      "100.0     131 s.\n",
      "Done! 13 m.\n"
     ]
    }
   ],
   "source": [
    "text2bert(\n",
    "    data_path = Path(\"/home/max/Results/rplc_globalist_2nd_round/data\"), \n",
    "    local_models_at = where_my_models_are, \n",
    "    huggface_models = [\"KBLab/sentence-bert-swedish-cased\"], \n",
    ")"
   ]
  },
  {
   "cell_type": "code",
   "execution_count": null,
   "metadata": {},
   "outputs": [],
   "source": []
  }
 ],
 "metadata": {
  "kernelspec": {
   "display_name": "Python 3",
   "language": "python",
   "name": "python3"
  },
  "language_info": {
   "codemirror_mode": {
    "name": "ipython",
    "version": 3
   },
   "file_extension": ".py",
   "mimetype": "text/x-python",
   "name": "python",
   "nbconvert_exporter": "python",
   "pygments_lexer": "ipython3",
   "version": "3.8.5"
  }
 },
 "nbformat": 4,
 "nbformat_minor": 4
}
