{
 "cells": [
  {
   "cell_type": "code",
   "execution_count": 1,
   "metadata": {},
   "outputs": [],
   "source": [
    "from sentence_transformers import SentenceTransformer\n",
    "import os\n",
    "import numpy as np\n",
    "from pathlib import Path\n",
    "import time\n",
    "import pandas as pd"
   ]
  },
  {
   "cell_type": "code",
   "execution_count": null,
   "metadata": {},
   "outputs": [],
   "source": [
    "os.listdir(Path(\"/home/max/Models/sentenceBERT\"))"
   ]
  },
  {
   "cell_type": "code",
   "execution_count": 6,
   "metadata": {},
   "outputs": [],
   "source": [
    "def naming(full_path):\n",
    "    return full_path.split(\"/\")[-1]"
   ]
  },
  {
   "cell_type": "code",
   "execution_count": null,
   "metadata": {},
   "outputs": [],
   "source": [
    "os.listdir(\"/home/max/Results/replacements/data/\") + []"
   ]
  },
  {
   "cell_type": "code",
   "execution_count": 2,
   "metadata": {
    "scrolled": true
   },
   "outputs": [],
   "source": [
    "df = pd.read_csv(\"/home/max/Results/replacements/data/aterinvandring/ingroup/first_round/replacements.txt\", sep=\"\\t\", index_col = 0)"
   ]
  },
  {
   "cell_type": "code",
   "execution_count": 3,
   "metadata": {},
   "outputs": [
    {
     "data": {
      "text/plain": [
       "0       Repatriering, kompensatorisk migration, deport...\n",
       "3                        Repatriering, tvångsförflyttning\n",
       "10                                           Återvändande\n",
       "12                                           Återvändande\n",
       "25                                Att kasta ut invandrare\n",
       "                              ...                        \n",
       "3172                                            Utvisning\n",
       "3209                                            Utvisning\n",
       "3217                                            utvisning\n",
       "3225                                            Utvisning\n",
       "3241                                            Utvisning\n",
       "Name: aterinvandring_text_w1, Length: 211, dtype: object"
      ]
     },
     "execution_count": 3,
     "metadata": {},
     "output_type": "execute_result"
    }
   ],
   "source": [
    "df.iloc[:,0]"
   ]
  },
  {
   "cell_type": "code",
   "execution_count": 5,
   "metadata": {},
   "outputs": [
    {
     "data": {
      "text/plain": [
       "9"
      ]
     },
     "execution_count": 5,
     "metadata": {},
     "output_type": "execute_result"
    }
   ],
   "source": [
    "len(df.loc[:52])"
   ]
  },
  {
   "cell_type": "code",
   "execution_count": null,
   "metadata": {},
   "outputs": [],
   "source": []
  },
  {
   "cell_type": "code",
   "execution_count": 32,
   "metadata": {},
   "outputs": [],
   "source": [
    "def text2bert(data_path, local_models_at, huggface_models = []):\n",
    "    \n",
    "    t0 = time.time()\n",
    "    \n",
    "    data_path = Path(data_path)\n",
    "    models_path = Path(local_models_at)\n",
    "    \n",
    "    models = [f\"{local_models_at}/{model}\" for model in os.listdir(local_models_at)] + huggface_models\n",
    "    #models = os.listdir(local_models_at) + huggface_models\n",
    "    \n",
    "    for dwe in os.listdir(data_path):\n",
    "        for meaning in [\"ingroup\", \"outgroup\"]:\n",
    "            for rnd in [\"first_round\", \"second_round\"]:\n",
    "                isExist = os.path.exists(data_path / dwe / meaning / rnd / \"vectors\")\n",
    "                if not isExist:\n",
    "                    os.makedirs(data_path / dwe / meaning / rnd / \"vectors\")   \n",
    "                \n",
    "                replacements = pd.read_csv(data_path / dwe / meaning / rnd / \"replacements.txt\", sep = \"\\t\", index_col = 0) \n",
    "                \n",
    "                # preprocessing ...\n",
    "                # lower\n",
    "                \n",
    "                for model in models:\n",
    "                    t = time.time()\n",
    "                    path = data_path / dwe / meaning / rnd / \"vectors\" / naming(model)\n",
    "                    \n",
    "                    isExist = os.path.exists(path)\n",
    "                    if not isExist:\n",
    "                        os.makedirs(path)   \n",
    "                    print()\n",
    "                    print(f\"{dwe:<15}{meaning:<10}{rnd:<15}{naming(model)}\")\n",
    "                    sBERT = SentenceTransformer(model)\n",
    "                    vectors = []\n",
    "                    for idx, line in zip(replacements.index, replacements.iloc[:,0]):\n",
    "                        pcent = round((len(replacements.loc[:idx]) / len(replacements)) * 100, 1)\n",
    "                        print(f\"{pcent:<10}{int((time.time()-t))} s.\", end=\"\\r\")\n",
    "                        vector = sBERT.encode(line)\n",
    "                        as_str = \" \".join([str(value) for value in vector.tolist()])\n",
    "                        vectors.append(f\"{idx}\\t{as_str}\\n\")\n",
    "                    \n",
    "                    with open(path / \"vecs.txt\", mode = \"w\") as f:\n",
    "                        for vec in vectors:\n",
    "                            f.write(vec)\n",
    "    \n",
    "    print()\n",
    "    print(\"Done!\", int((time.time()-t0)/60), \"m.\")"
   ]
  },
  {
   "cell_type": "code",
   "execution_count": 8,
   "metadata": {},
   "outputs": [],
   "source": [
    "where_my_models_are = \"/home/max/Models/sentenceBERT\""
   ]
  },
  {
   "cell_type": "code",
   "execution_count": 33,
   "metadata": {
    "scrolled": true
   },
   "outputs": [
    {
     "name": "stdout",
     "output_type": "stream",
     "text": [
      "\n",
      "aterinvandring ingroup   first_round    sts_fbmodel_big_40epochs\n",
      "100.0     0 m.\n",
      "aterinvandring ingroup   first_round    fb_nli\n",
      "100.0     0 m.\n",
      "aterinvandring ingroup   first_round    sts_fbmodel\n",
      "100.0     0 m.\n",
      "aterinvandring ingroup   first_round    sentence-bert-swedish-cased\n",
      "100.0     1 m.\n",
      "aterinvandring ingroup   second_round   sts_fbmodel_big_40epochs\n",
      "100.0     2 m.\n",
      "aterinvandring ingroup   second_round   fb_nli\n",
      "100.0     2 m.\n",
      "aterinvandring ingroup   second_round   sts_fbmodel\n",
      "100.0     3 m.\n",
      "aterinvandring ingroup   second_round   sentence-bert-swedish-cased\n",
      "100.0     4 m.\n",
      "aterinvandring outgroup  first_round    sts_fbmodel_big_40epochs\n",
      "100.0     5 m.\n",
      "aterinvandring outgroup  first_round    fb_nli\n",
      "100.0     5 m.\n",
      "aterinvandring outgroup  first_round    sts_fbmodel\n",
      "100.0     6 m.\n",
      "aterinvandring outgroup  first_round    sentence-bert-swedish-cased\n",
      "100.0     7 m.\n",
      "aterinvandring outgroup  second_round   sts_fbmodel_big_40epochs\n",
      "100.0     9 m.\n",
      "aterinvandring outgroup  second_round   fb_nli\n",
      "100.0     11 m.\n",
      "aterinvandring outgroup  second_round   sts_fbmodel\n",
      "100.0     13 m.\n",
      "aterinvandring outgroup  second_round   sentence-bert-swedish-cased\n",
      "100.0     15 m.\n",
      "globalister    ingroup   first_round    sts_fbmodel_big_40epochs\n",
      "100.0     15 m.\n",
      "globalister    ingroup   first_round    fb_nli\n",
      "100.0     15 m.\n",
      "globalister    ingroup   first_round    sts_fbmodel\n",
      "100.0     15 m.\n",
      "globalister    ingroup   first_round    sentence-bert-swedish-cased\n",
      "100.0     15 m.\n",
      "globalister    ingroup   second_round   sts_fbmodel_big_40epochs\n",
      "100.0     15 m.\n",
      "globalister    ingroup   second_round   fb_nli\n",
      "100.0     15 m.\n",
      "globalister    ingroup   second_round   sts_fbmodel\n",
      "100.0     15 m.\n",
      "globalister    ingroup   second_round   sentence-bert-swedish-cased\n",
      "100.0     16 m.\n",
      "globalister    outgroup  first_round    sts_fbmodel_big_40epochs\n",
      "100.0     16 m.\n",
      "globalister    outgroup  first_round    fb_nli\n",
      "100.0     17 m.\n",
      "globalister    outgroup  first_round    sts_fbmodel\n",
      "100.0     18 m.\n",
      "globalister    outgroup  first_round    sentence-bert-swedish-cased\n",
      "100.0     19 m.\n",
      "globalister    outgroup  second_round   sts_fbmodel_big_40epochs\n",
      "100.0     21 m.\n",
      "globalister    outgroup  second_round   fb_nli\n",
      "100.0     23 m.\n",
      "globalister    outgroup  second_round   sts_fbmodel\n",
      "100.0     25 m.\n",
      "globalister    outgroup  second_round   sentence-bert-swedish-cased\n",
      "100.0     27 m.\n",
      "berikar        ingroup   first_round    sts_fbmodel_big_40epochs\n",
      "100.0     27 m.\n",
      "berikar        ingroup   first_round    fb_nli\n",
      "100.0     28 m.\n",
      "berikar        ingroup   first_round    sts_fbmodel\n",
      "100.0     28 m.\n",
      "berikar        ingroup   first_round    sentence-bert-swedish-cased\n",
      "100.0     28 m.\n",
      "berikar        ingroup   second_round   sts_fbmodel_big_40epochs\n",
      "100.0     29 m.\n",
      "berikar        ingroup   second_round   fb_nli\n",
      "100.0     29 m.\n",
      "berikar        ingroup   second_round   sts_fbmodel\n",
      "100.0     30 m.\n",
      "berikar        ingroup   second_round   sentence-bert-swedish-cased\n",
      "100.0     30 m.\n",
      "berikar        outgroup  first_round    sts_fbmodel_big_40epochs\n",
      "100.0     31 m.\n",
      "berikar        outgroup  first_round    fb_nli\n",
      "100.0     32 m.\n",
      "berikar        outgroup  first_round    sts_fbmodel\n",
      "100.0     33 m.\n",
      "berikar        outgroup  first_round    sentence-bert-swedish-cased\n",
      "100.0     34 m.\n",
      "berikar        outgroup  second_round   sts_fbmodel_big_40epochs\n",
      "100.0     36 m.\n",
      "berikar        outgroup  second_round   fb_nli\n",
      "100.0     38 m.\n",
      "berikar        outgroup  second_round   sts_fbmodel\n",
      "100.0     41 m.\n",
      "berikar        outgroup  second_round   sentence-bert-swedish-cased\n",
      "100.0     43 m.\n",
      "forortsgang    ingroup   first_round    sts_fbmodel_big_40epochs\n",
      "100.0     43 m.\n",
      "forortsgang    ingroup   first_round    fb_nli\n",
      "100.0     44 m.\n",
      "forortsgang    ingroup   first_round    sts_fbmodel\n",
      "100.0     44 m.\n",
      "forortsgang    ingroup   first_round    sentence-bert-swedish-cased\n",
      "100.0     44 m.\n",
      "forortsgang    ingroup   second_round   sts_fbmodel_big_40epochs\n",
      "100.0     45 m.\n",
      "forortsgang    ingroup   second_round   fb_nli\n",
      "100.0     45 m.\n",
      "forortsgang    ingroup   second_round   sts_fbmodel\n",
      "100.0     46 m.\n",
      "forortsgang    ingroup   second_round   sentence-bert-swedish-cased\n",
      "100.0     46 m.\n",
      "forortsgang    outgroup  first_round    sts_fbmodel_big_40epochs\n",
      "100.0     47 m.\n",
      "forortsgang    outgroup  first_round    fb_nli\n",
      "100.0     48 m.\n",
      "forortsgang    outgroup  first_round    sts_fbmodel\n",
      "100.0     49 m.\n",
      "forortsgang    outgroup  first_round    sentence-bert-swedish-cased\n",
      "100.0     50 m.\n",
      "forortsgang    outgroup  second_round   sts_fbmodel_big_40epochs\n",
      "100.0     52 m.\n",
      "forortsgang    outgroup  second_round   fb_nli\n",
      "100.0     54 m.\n",
      "forortsgang    outgroup  second_round   sts_fbmodel\n",
      "100.0     56 m.\n",
      "forortsgang    outgroup  second_round   sentence-bert-swedish-cased\n",
      "100.0     58 m.\n",
      "Done! 58 m.\n"
     ]
    }
   ],
   "source": [
    "text2bert(\n",
    "    data_path = Path(\"/home/max/Results/replacements/data/\"), \n",
    "    local_models_at = where_my_models_are, \n",
    "    huggface_models = [\"KBLab/sentence-bert-swedish-cased\"], \n",
    ")"
   ]
  },
  {
   "cell_type": "code",
   "execution_count": null,
   "metadata": {},
   "outputs": [],
   "source": []
  }
 ],
 "metadata": {
  "kernelspec": {
   "display_name": "Python 3",
   "language": "python",
   "name": "python3"
  },
  "language_info": {
   "codemirror_mode": {
    "name": "ipython",
    "version": 3
   },
   "file_extension": ".py",
   "mimetype": "text/x-python",
   "name": "python",
   "nbconvert_exporter": "python",
   "pygments_lexer": "ipython3",
   "version": "3.8.5"
  }
 },
 "nbformat": 4,
 "nbformat_minor": 4
}
