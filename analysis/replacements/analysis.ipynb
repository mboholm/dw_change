{
 "cells": [
  {
   "cell_type": "code",
   "execution_count": 1,
   "metadata": {},
   "outputs": [],
   "source": [
    "from pathlib import Path\n",
    "import pandas as pd\n",
    "import numpy as np\n",
    "from scipy.stats import spearmanr, pearsonr\n",
    "import matplotlib.pyplot as plt\n",
    "import seaborn as sns\n",
    "#from itertools import permutations\n",
    "from collections import Counter\n",
    "from math import ceil\n",
    "import pingouin as pg\n",
    "import statsmodels.api as sm\n",
    "import statsmodels.formula.api as smf\n",
    "from statsmodels.stats.stattools import jarque_bera\n",
    "from statsmodels.stats.outliers_influence import variance_inflation_factor \n",
    "#from statsmodels.tools.tools import add_constant\n",
    "from scipy.stats import ks_2samp\n",
    "from scipy.stats import rankdata\n",
    "from scipy.special import softmax\n",
    "from scipy.stats import zscore\n",
    "\n",
    "import os\n",
    "from sklearn.preprocessing import RobustScaler, QuantileTransformer, PowerTransformer\n",
    "from sklearn.preprocessing import power_transform\n",
    "\n",
    "from stargazer.stargazer import Stargazer\n",
    "\n"
   ]
  },
  {
   "cell_type": "markdown",
   "metadata": {},
   "source": [
    "## Utils"
   ]
  },
  {
   "cell_type": "code",
   "execution_count": 2,
   "metadata": {},
   "outputs": [],
   "source": [
    "#years = [y for y in range(2000, 2022)]"
   ]
  },
  {
   "cell_type": "code",
   "execution_count": 3,
   "metadata": {},
   "outputs": [],
   "source": [
    "# years"
   ]
  },
  {
   "cell_type": "code",
   "execution_count": 4,
   "metadata": {},
   "outputs": [],
   "source": [
    "def get_variables(from_, to_, incl_rect=True):\n",
    "    \n",
    "    years = [y for y in range(from_, to_+1)]\n",
    "    \n",
    "    variables = [f\"frq_{y}\" for y in years]\n",
    "    variables.extend([f\"fpm_{y}\" for y in years])\n",
    "    variables.extend([f\"gch_{y}:{y+1}\" for y in years[:-1]])\n",
    "    if incl_rect:\n",
    "        variables.extend([f\"rch_{y}:{y+1}\" for y in years[:-1]])\n",
    "    \n",
    "    years = [str(y) for y in years]\n",
    "    \n",
    "    return variables, years"
   ]
  },
  {
   "cell_type": "code",
   "execution_count": 5,
   "metadata": {},
   "outputs": [],
   "source": [
    "#variables"
   ]
  },
  {
   "cell_type": "code",
   "execution_count": 6,
   "metadata": {},
   "outputs": [],
   "source": [
    "# redefine years\n",
    "#years = [str(y) for y in years]"
   ]
  },
  {
   "cell_type": "code",
   "execution_count": 7,
   "metadata": {},
   "outputs": [],
   "source": [
    "terms = [\n",
    "'N1_kulturberikare',\n",
    "'V1_berika',\n",
    "'N1_berikare',\n",
    "'N1_globalist',\n",
    "'V1_kulturberika',\n",
    "'N1_återvandring',\n",
    "'V1_återvandra',\n",
    "'A1_globalistisk',\n",
    "'N1_förortsgäng',\n",
    "]"
   ]
  },
  {
   "cell_type": "code",
   "execution_count": 8,
   "metadata": {},
   "outputs": [],
   "source": [
    "def get_df(path, variables, terms, min_freq=10, drop_frq=True):\n",
    "    df = pd.read_csv(Path(path), sep=\";\", index_col = 0)\n",
    "    terms = [t for t in terms if t in df.index]\n",
    "    #print(terms)\n",
    "    df = df[variables]\n",
    "    df = df.loc[terms]\n",
    "    \n",
    "    if min_freq != None:\n",
    "        years = [col.split(\"_\")[-1] for col in df.columns if col.startswith(\"frq_\")]\n",
    "        for dwe in df.index:\n",
    "            for year in years:\n",
    "                if df.loc[dwe][f\"frq_{year}\"] < min_freq: \n",
    "                    df.at[dwe, f\"fpm_{year}\"] = np.nan\n",
    "                    \n",
    "                    if year == max(years):\n",
    "                        df.at[dwe, f\"gch_{int(year)-1}:{year}\"] = np.nan\n",
    "                        df.at[dwe, f\"rch_{int(year)-1}:{year}\"] = np.nan\n",
    "                    else:\n",
    "                        df.at[dwe, f\"gch_{year}:{int(year)+1}\"] = np.nan\n",
    "                        df.at[dwe, f\"rch_{year}:{int(year)+1}\"] = np.nan\n",
    "    \n",
    "    if drop_frq:\n",
    "        df.drop([col for col in df.columns if col.startswith(\"frq_\")], axis=1, inplace=True)\n",
    "\n",
    "    return df"
   ]
  },
  {
   "cell_type": "code",
   "execution_count": 9,
   "metadata": {},
   "outputs": [],
   "source": [
    "def get_iod(path, ref_path, variables, terms, min_freq=10):\n",
    "    \n",
    "    df = pd.read_csv(path, index_col=0)\n",
    "    \n",
    "    #print(\"Years in IOD data:\", list(df.columns))\n",
    "    \n",
    "    ref = get_df(ref_path, variables, terms, min_freq = None, drop_frq=False)\n",
    "    \n",
    "    years = [col.split(\"_\")[-1] for col in ref.columns if col.startswith(\"frq_\")]\n",
    "    \n",
    "    #print(\"Years in LSC data:\", years)\n",
    "    \n",
    "    if min_freq != None:\n",
    "        for dwe in ref.index:\n",
    "            for year in years:\n",
    "                if ref.loc[dwe][f\"frq_{year}\"] < min_freq:\n",
    "                    df.loc[df[\"DWE\"] == dwe, year] = np.nan    \n",
    "                    \n",
    "    return df\n"
   ]
  },
  {
   "cell_type": "code",
   "execution_count": 10,
   "metadata": {},
   "outputs": [],
   "source": [
    "def add_iod_dif(df, years):\n",
    "    transitions = [(y, str(int(y)+1)) for y in years[:-1]]\n",
    "    df = df.copy()\n",
    "    for yi, yj in transitions:\n",
    "#         df[f\"{yi[2:]}:{yj[2:]}\"] = abs(df[f\"{yj}\"] - df[f\"{yi}\"])\n",
    "#         df[f\"{yi}:{yj}\"] = abs(df[f\"{yj}\"] - df[f\"{yi}\"])\n",
    "        df[f\"{yi}:{yj}\"] = df[f\"{yj}\"] - df[f\"{yi}\"]\n",
    "\n",
    "    return df"
   ]
  },
  {
   "cell_type": "markdown",
   "metadata": {},
   "source": [
    "## A. FLASHBACK "
   ]
  },
  {
   "cell_type": "code",
   "execution_count": 11,
   "metadata": {},
   "outputs": [],
   "source": [
    "#years"
   ]
  },
  {
   "cell_type": "markdown",
   "metadata": {},
   "source": [
    "### Main"
   ]
  },
  {
   "cell_type": "code",
   "execution_count": 12,
   "metadata": {},
   "outputs": [],
   "source": [
    "variables, years = get_variables(2000, 2022)\n",
    "# variables, years = get_variables(2000, 2021) # <-- Obs!\n",
    "\n",
    "fb_sgns_lsc = get_df(\n",
    "    \"/home/max/Documents/mlt/thesis/dw_results/fb_pol-yearly-radical3-restricted.csv\", \n",
    "    variables, \n",
    "    terms,\n",
    "    drop_frq = False\n",
    ")\n",
    "fb_kb_lsc   = get_df(\"/home/max/Documents/mlt/thesis/dw_results/fb_pol-yearly-bert-sentence-bert-swedish-cased.csv\", \n",
    "                  variables, \n",
    "                  terms)\n",
    "fb_sts_lsc  = get_df(\"/home/max/Documents/mlt/thesis/dw_results/fb_pol-yearly-bert-sts_fbmodel.csv\", \n",
    "                  variables, \n",
    "                  terms)"
   ]
  },
  {
   "cell_type": "code",
   "execution_count": 13,
   "metadata": {},
   "outputs": [],
   "source": [
    "fb_sgns_iod = get_iod(\n",
    "    \"/home/max/Results/replacements/results/fb_sgns_results.csv\",\n",
    "    \"/home/max/Documents/mlt/thesis/dw_results/fb_pol-yearly-radical3-restricted.csv\", \n",
    "    variables, \n",
    "    terms\n",
    ")\n",
    "fb_sgns_iod.rename(columns={\"B-strategy\": \"B-Strategy\"}, inplace=True)\n",
    "\n",
    "fb_kb_iod = get_iod(\n",
    "    \"/home/max/Results/replacements/results/fb_kb_results.csv\",\n",
    "    \"/home/max/Documents/mlt/thesis/dw_results/fb_pol-yearly-bert-sentence-bert-swedish-cased.csv\", \n",
    "    variables, \n",
    "    terms\n",
    ")\n",
    "\n",
    "fb_sts_iod = get_iod(\n",
    "    \"/home/max/Results/replacements/results/fb_sts_results.csv\",\n",
    "    \"/home/max/Documents/mlt/thesis/dw_results/fb_pol-yearly-bert-sentence-bert-swedish-cased.csv\", \n",
    "    variables, \n",
    "    terms\n",
    ")"
   ]
  },
  {
   "cell_type": "markdown",
   "metadata": {},
   "source": [
    "### berT5"
   ]
  },
  {
   "cell_type": "code",
   "execution_count": 14,
   "metadata": {},
   "outputs": [],
   "source": [
    "variables, years = get_variables(2000, 2022)\n",
    "# variables, years = get_variables(2000, 2021) # <-- Obs!\n",
    "\n",
    "fb_bert_lsc   = get_df(\"/home/max/Documents/mlt/thesis/dw_results/fb_pol-yearly-bert-base-swedish-cased.csv\", \n",
    "                  variables, \n",
    "                  terms)\n",
    "fb_megatron_lsc  = get_df(\"/home/max/Documents/mlt/thesis/dw_results/fb_pol-yearly-megatron-bert-large-swedish-cased-110k.csv\", \n",
    "                  variables, \n",
    "                  terms)\n",
    "fb_t5small_lsc   = get_df(\"/home/max/Documents/mlt/thesis/dw_results/fb_pol-yearly-t5-small.csv\", \n",
    "                  variables, \n",
    "                  terms)\n",
    "fb_t53b_lsc  = get_df(\"/home/max/Documents/mlt/thesis/dw_results/fb_pol-yearly-t5-3b.csv\", \n",
    "                  variables, \n",
    "                  terms)\n",
    "fb_mt5xl_lsc  = get_df(\"/home/max/Documents/mlt/thesis/dw_results/fb_pol-yearly-mt5-xl.csv\", \n",
    "                  variables, \n",
    "                  terms)"
   ]
  },
  {
   "cell_type": "code",
   "execution_count": 15,
   "metadata": {},
   "outputs": [],
   "source": [
    "fb_bertCLS_iod = get_iod(\n",
    "    \"/home/max/Results/replacements/results/fb_bert-kb_results.csv\",\n",
    "    \"/home/max/Documents/mlt/thesis/dw_results/fb_pol-yearly-bert-base-swedish-cased.csv\", \n",
    "    variables, \n",
    "    terms\n",
    ")\n",
    "\n",
    "fb_bert_iod = get_iod(\n",
    "    \"/home/max/Results/replacements/results/fb_bert-kb-avg_results.csv\",\n",
    "    \"/home/max/Documents/mlt/thesis/dw_results/fb_pol-yearly-bert-base-swedish-cased.csv\", \n",
    "    variables, \n",
    "    terms\n",
    ")\n",
    "\n",
    "fb_megatron_iod = get_iod(\n",
    "    \"/home/max/Results/replacements/results/fb_megatron_results.csv\",\n",
    "    \"/home/max/Documents/mlt/thesis/dw_results/fb_pol-yearly-megatron-bert-large-swedish-cased-110k.csv\", \n",
    "    variables, \n",
    "    terms\n",
    ")\n",
    "\n",
    "fb_t5small_iod = get_iod(\n",
    "    \"/home/max/Results/replacements/results/fb_t5-small_results.csv\",\n",
    "    \"/home/max/Documents/mlt/thesis/dw_results/fb_pol-yearly-t5-small.csv\", \n",
    "    variables, \n",
    "    terms\n",
    ")\n",
    "\n",
    "fb_t53b_iod = get_iod(\n",
    "    \"/home/max/Results/replacements/results/fb_t5-3b_results.csv\",\n",
    "    \"/home/max/Documents/mlt/thesis/dw_results/fb_pol-yearly-t5-3b.csv\", \n",
    "    variables, \n",
    "    terms\n",
    ")\n",
    "\n",
    "fb_mt5xl_iod = get_iod(\n",
    "    \"/home/max/Results/replacements/results/fb_mt5-xl_results.csv\",\n",
    "    \"/home/max/Documents/mlt/thesis/dw_results/fb_pol-yearly-mt5-xl.csv\", \n",
    "    variables, \n",
    "    terms\n",
    ")"
   ]
  },
  {
   "cell_type": "markdown",
   "metadata": {},
   "source": [
    "### Different window sizes"
   ]
  },
  {
   "cell_type": "code",
   "execution_count": 16,
   "metadata": {
    "scrolled": true
   },
   "outputs": [],
   "source": [
    "WS=5\n",
    "variables_noRCH, _ = get_variables(2000, 2022, incl_rect=False)\n",
    "fb_sgns_lsc_w5 = get_df(f\"/home/max/Documents/mlt/thesis/dw_results/fb_pol-yearly-radical3-restricted-w{WS}.csv\", \n",
    "    variables_noRCH, terms, drop_frq = False)\n",
    "fb_sgns_w5_iod = get_iod(f\"/home/max/Results/replacments_w5-15_d100-200/results/fb_sgns-w{WS}_results.csv\",\n",
    "    f\"/home/max/Documents/mlt/thesis/dw_results/fb_pol-yearly-radical3-restricted-w{WS}.csv\", \n",
    "    variables_noRCH, terms)\n",
    "fb_sgns_w5_iod.rename(columns={\"B-strategy\": \"B-Strategy\"}, inplace=True) "
   ]
  },
  {
   "cell_type": "code",
   "execution_count": 17,
   "metadata": {},
   "outputs": [],
   "source": [
    "WS=10\n",
    "variables_noRCH, _ = get_variables(2000, 2022, incl_rect=False)\n",
    "fb_sgns_lsc_w10 = get_df(f\"/home/max/Documents/mlt/thesis/dw_results/fb_pol-yearly-radical3-restricted-w{WS}.csv\", \n",
    "    variables_noRCH, terms, drop_frq = False)\n",
    "fb_sgns_w10_iod = get_iod(f\"/home/max/Results/replacments_w5-15_d100-200/results/fb_sgns-w{WS}_results.csv\",\n",
    "    f\"/home/max/Documents/mlt/thesis/dw_results/fb_pol-yearly-radical3-restricted-w{WS}.csv\", \n",
    "    variables_noRCH, terms)\n",
    "fb_sgns_w10_iod.rename(columns={\"B-strategy\": \"B-Strategy\"}, inplace=True) "
   ]
  },
  {
   "cell_type": "code",
   "execution_count": 18,
   "metadata": {},
   "outputs": [],
   "source": [
    "WS=15\n",
    "variables_noRCH, _ = get_variables(2000, 2022, incl_rect=False)\n",
    "fb_sgns_lsc_w15 = get_df(f\"/home/max/Documents/mlt/thesis/dw_results/fb_pol-yearly-radical3-restricted-w{WS}.csv\", \n",
    "    variables_noRCH, terms, drop_frq = False)\n",
    "fb_sgns_w15_iod = get_iod(f\"/home/max/Results/replacments_w5-15_d100-200/results/fb_sgns-w{WS}_results.csv\",\n",
    "    f\"/home/max/Documents/mlt/thesis/dw_results/fb_pol-yearly-radical3-restricted-w{WS}.csv\", \n",
    "    variables_noRCH, terms)\n",
    "fb_sgns_w15_iod.rename(columns={\"B-strategy\": \"B-Strategy\"}, inplace=True) "
   ]
  },
  {
   "cell_type": "markdown",
   "metadata": {},
   "source": [
    "### 200 dimensions"
   ]
  },
  {
   "cell_type": "code",
   "execution_count": 19,
   "metadata": {
    "scrolled": true
   },
   "outputs": [],
   "source": [
    "WS=5\n",
    "variables_noRCH, _ = get_variables(2000, 2022, incl_rect=False)\n",
    "fb_sgns_lsc_w5_200 = get_df(f\"/home/max/Documents/mlt/thesis/dw_results/fb_pol-yearly-radical3-restricted-w{WS}-200.csv\", \n",
    "    variables_noRCH, terms, drop_frq = False)\n",
    "fb_sgns_w5_200_iod = get_iod(f\"/home/max/Results/replacments_w5-15_d100-200/results/fb_sgns-w{WS}-200_results.csv\",\n",
    "    f\"/home/max/Documents/mlt/thesis/dw_results/fb_pol-yearly-radical3-restricted-w{WS}-200.csv\", \n",
    "    variables_noRCH, terms)\n",
    "fb_sgns_w5_200_iod.rename(columns={\"B-strategy\": \"B-Strategy\"}, inplace=True) "
   ]
  },
  {
   "cell_type": "code",
   "execution_count": 20,
   "metadata": {
    "scrolled": true
   },
   "outputs": [],
   "source": [
    "WS=10\n",
    "variables_noRCH, _ = get_variables(2000, 2022, incl_rect=False)\n",
    "fb_sgns_lsc_w10_200 = get_df(f\"/home/max/Documents/mlt/thesis/dw_results/fb_pol-yearly-radical3-restricted-w{WS}-200.csv\", \n",
    "    variables_noRCH, terms, drop_frq = False)\n",
    "fb_sgns_w10_200_iod = get_iod(f\"/home/max/Results/replacments_w5-15_d100-200/results/fb_sgns-w{WS}-200_results.csv\",\n",
    "    f\"/home/max/Documents/mlt/thesis/dw_results/fb_pol-yearly-radical3-restricted-w{WS}-200.csv\", \n",
    "    variables_noRCH, terms)\n",
    "fb_sgns_w10_200_iod.rename(columns={\"B-strategy\": \"B-Strategy\"}, inplace=True) "
   ]
  },
  {
   "cell_type": "code",
   "execution_count": 21,
   "metadata": {
    "scrolled": true
   },
   "outputs": [],
   "source": [
    "WS=15\n",
    "variables_noRCH, _ = get_variables(2000, 2022, incl_rect=False)\n",
    "fb_sgns_lsc_w15_200 = get_df(f\"/home/max/Documents/mlt/thesis/dw_results/fb_pol-yearly-radical3-restricted-w{WS}-200.csv\", \n",
    "    variables_noRCH, terms, drop_frq = False)\n",
    "fb_sgns_w15_200_iod = get_iod(f\"/home/max/Results/replacments_w5-15_d100-200/results/fb_sgns-w{WS}-200_results.csv\",\n",
    "    f\"/home/max/Documents/mlt/thesis/dw_results/fb_pol-yearly-radical3-restricted-w{WS}-200.csv\", \n",
    "    variables_noRCH, terms)\n",
    "fb_sgns_w15_200_iod.rename(columns={\"B-strategy\": \"B-Strategy\"}, inplace=True) "
   ]
  },
  {
   "cell_type": "markdown",
   "metadata": {},
   "source": [
    "### ... with global initialization: NLPL"
   ]
  },
  {
   "cell_type": "code",
   "execution_count": 22,
   "metadata": {},
   "outputs": [],
   "source": [
    "variables_noRCH, _ = get_variables(2000, 2022, incl_rect=False)\n",
    "# LSC\n",
    "fb_sgns_lsc_nlpl = get_df(\n",
    "    \"/home/max/Documents/mlt/thesis/dw_results/fb_pol-yearly-radical3-restricted-w_glob_nlpl.csv\", \n",
    "    variables_noRCH, \n",
    "    terms,\n",
    "    drop_frq = False\n",
    ")\n",
    "# IOD\n",
    "fb_sgns_iod_nlpl = get_iod(\n",
    "    \"/home/max/Results/rplc_w-global-nlpl/results/sgns-w-global-nlpl_results.csv\",\n",
    "    \"/home/max/Documents/mlt/thesis/dw_results/fb_pol-yearly-radical3-restricted-w_glob_nlpl.csv\", \n",
    "    variables_noRCH, \n",
    "    terms\n",
    ")\n",
    "fb_sgns_iod_nlpl.rename(columns={\"B-strategy\": \"B-Strategy\"}, inplace=True) "
   ]
  },
  {
   "cell_type": "markdown",
   "metadata": {},
   "source": [
    "### ... re-run globalist"
   ]
  },
  {
   "cell_type": "code",
   "execution_count": 23,
   "metadata": {},
   "outputs": [
    {
     "data": {
      "text/plain": [
       "['fl_globalist_kb_results.csv',\n",
       " 'fb_globalist_sgns_results.csv',\n",
       " 'fb_globalist_sts_results.csv',\n",
       " 'fb_globalist_kb_results.csv',\n",
       " 'fl_globalist_sgns_results.csv']"
      ]
     },
     "execution_count": 23,
     "metadata": {},
     "output_type": "execute_result"
    }
   ],
   "source": [
    "os.listdir(\"/home/max/Results/rplc_globalist_2nd_round/results\")"
   ]
  },
  {
   "cell_type": "code",
   "execution_count": 24,
   "metadata": {},
   "outputs": [],
   "source": [
    "fb_sgns_G_iod = get_iod(\n",
    "    \"/home/max/Results/rplc_globalist_2nd_round/results/fb_globalist_sgns_results.csv\",\n",
    "    \"/home/max/Documents/mlt/thesis/dw_results/fb_pol-yearly-radical3-restricted.csv\", \n",
    "    variables, \n",
    "    terms\n",
    ")\n",
    "fb_sgns_G_iod.rename(columns={\"B-strategy\": \"B-Strategy\"}, inplace=True) \n",
    "\n",
    "fb_kb_G_iod   = get_iod(\n",
    "    \"/home/max/Results/rplc_globalist_2nd_round/results/fb_globalist_kb_results.csv\",\n",
    "    \"/home/max/Documents/mlt/thesis/dw_results/fb_pol-yearly-bert-sentence-bert-swedish-cased.csv\", \n",
    "    variables, \n",
    "    terms\n",
    ")\n",
    "\n",
    "fb_sts_G_iod  = get_iod(\n",
    "    \"/home/max/Results/rplc_globalist_2nd_round/results/fb_globalist_sts_results.csv\",\n",
    "    \"/home/max/Documents/mlt/thesis/dw_results/fb_pol-yearly-bert-sentence-bert-swedish-cased.csv\", \n",
    "    variables, \n",
    "    terms\n",
    ")"
   ]
  },
  {
   "cell_type": "markdown",
   "metadata": {},
   "source": [
    "### Add IOD difference"
   ]
  },
  {
   "cell_type": "markdown",
   "metadata": {},
   "source": [
    "Consider using absolute values"
   ]
  },
  {
   "cell_type": "code",
   "execution_count": 25,
   "metadata": {},
   "outputs": [],
   "source": [
    "fb_sgns_iod   = add_iod_dif(fb_sgns_iod, years)\n",
    "fb_kb_iod     = add_iod_dif(fb_kb_iod, years)\n",
    "fb_sts_iod    = add_iod_dif(fb_sts_iod, years)\n",
    "\n",
    "fb_bert_iod     = add_iod_dif(fb_bert_iod, years)\n",
    "fb_bertCLS_iod  = add_iod_dif(fb_bertCLS_iod, years)\n",
    "fb_megatron_iod = add_iod_dif(fb_megatron_iod, years)\n",
    "fb_t5small_iod  = add_iod_dif(fb_t5small_iod, years)\n",
    "fb_t53b_iod     = add_iod_dif(fb_t53b_iod, years)\n",
    "fb_mt5xl_iod    = add_iod_dif(fb_mt5xl_iod, years)\n",
    "\n",
    "fb_sgns_G_iod = add_iod_dif(fb_sgns_G_iod, years)\n",
    "fb_kb_G_iod   = add_iod_dif(fb_kb_G_iod, years)\n",
    "fb_sts_G_iod  = add_iod_dif(fb_sts_G_iod, years)\n",
    "\n",
    "fb_sgns_iod_nlpl = add_iod_dif(fb_sgns_iod_nlpl, years)\n",
    "\n",
    "fb_sgns_w5_iod  = add_iod_dif(fb_sgns_w5_iod, years)\n",
    "fb_sgns_w10_iod = add_iod_dif(fb_sgns_w10_iod, years)\n",
    "fb_sgns_w15_iod = add_iod_dif(fb_sgns_w15_iod, years)\n",
    "\n",
    "fb_sgns_w5_200_iod  = add_iod_dif(fb_sgns_w5_200_iod, years)\n",
    "fb_sgns_w10_200_iod  = add_iod_dif(fb_sgns_w10_200_iod, years)\n",
    "fb_sgns_w15_200_iod  = add_iod_dif(fb_sgns_w15_200_iod, years)\n",
    "\n"
   ]
  },
  {
   "cell_type": "markdown",
   "metadata": {},
   "source": [
    "## B. FAMILJELIV"
   ]
  },
  {
   "cell_type": "code",
   "execution_count": 26,
   "metadata": {
    "scrolled": true
   },
   "outputs": [],
   "source": [
    "#fm_years"
   ]
  },
  {
   "cell_type": "code",
   "execution_count": 27,
   "metadata": {
    "scrolled": true
   },
   "outputs": [
    {
     "data": {
      "text/plain": [
       "['fb_bert-kb-avg_results.csv',\n",
       " 'fb_bert-kb_results.csv',\n",
       " 'fb_kb_results.csv',\n",
       " 'fb_megatron_results.csv',\n",
       " 'fb_mt5-xl_results.csv',\n",
       " 'fb_sgns_results.csv',\n",
       " 'fb_sts_results.csv',\n",
       " 'fb_t5-3b_results.csv',\n",
       " 'fb_t5-small_results.csv',\n",
       " 'fm_bert-kb_results.csv',\n",
       " 'fm_kb_results.csv',\n",
       " 'fm_megatron_results.csv',\n",
       " 'fm_sgns_results.csv',\n",
       " 'fm_t5-3b_results.csv',\n",
       " 'fm_t5-small_results.csv']"
      ]
     },
     "execution_count": 27,
     "metadata": {},
     "output_type": "execute_result"
    }
   ],
   "source": [
    "sorted(os.listdir(\"/home/max/Results/replacements/results/\"))"
   ]
  },
  {
   "cell_type": "markdown",
   "metadata": {},
   "source": [
    "### Main"
   ]
  },
  {
   "cell_type": "code",
   "execution_count": 28,
   "metadata": {},
   "outputs": [],
   "source": [
    "fm_variables, fm_years = get_variables(2003, 2022)\n",
    "# fm_variables, fm_years = get_variables(2003, 2021) # <-- Obs!\n",
    "\n",
    "fm_sgns_lsc = get_df(\"/home/max/Documents/mlt/thesis/dw_results/fm_smh-yearly-radical3-restricted.csv\", fm_variables, terms)\n",
    "fm_kb_lsc   = get_df(\"/home/max/Documents/mlt/thesis/dw_results/fm_smh-yearly-bert-sentence-bert-swedish-cased.csv\", fm_variables, terms)"
   ]
  },
  {
   "cell_type": "code",
   "execution_count": 29,
   "metadata": {},
   "outputs": [],
   "source": [
    "fm_sgns_iod = get_iod(\n",
    "    \"/home/max/Results/replacements/results/fm_sgns_results.csv\",\n",
    "    \"/home/max/Documents/mlt/thesis/dw_results/fm_smh-yearly-radical3-restricted.csv\", \n",
    "    fm_variables, \n",
    "    terms\n",
    ")\n",
    "\n",
    "fm_kb_iod   = get_iod(\n",
    "    \"/home/max/Results/replacements/results/fm_kb_results.csv\",\n",
    "    \"/home/max/Documents/mlt/thesis/dw_results/fm_smh-yearly-bert-sentence-bert-swedish-cased.csv\", \n",
    "    fm_variables, \n",
    "    terms\n",
    ")"
   ]
  },
  {
   "cell_type": "markdown",
   "metadata": {},
   "source": [
    "### berT5"
   ]
  },
  {
   "cell_type": "code",
   "execution_count": 30,
   "metadata": {},
   "outputs": [],
   "source": [
    "# variables, years = get_variables(2000, 2022)\n",
    "# variables, years = get_variables(2000, 2021) # <-- Obs!\n",
    "\n",
    "fm_bert_lsc   = get_df(\"/home/max/Documents/mlt/thesis/dw_results/fm_smh-yearly-bert-base-swedish-cased.csv\", \n",
    "                  fm_variables, \n",
    "                  terms)\n",
    "fm_megatron_lsc  = get_df(\"/home/max/Documents/mlt/thesis/dw_results/fm_smh-yearly-megatron-bert-large-swedish-cased-110k.csv\", \n",
    "                  fm_variables, \n",
    "                  terms)\n",
    "fm_t5small_lsc   = get_df(\"/home/max/Documents/mlt/thesis/dw_results/fm_smh-yearly-t5-small.csv\", \n",
    "                  fm_variables, \n",
    "                  terms)\n",
    "fm_t53b_lsc  = get_df(\"/home/max/Documents/mlt/thesis/dw_results/fm_smh-yearly-t5-3b.csv\", \n",
    "                  fm_variables, \n",
    "                  terms)"
   ]
  },
  {
   "cell_type": "code",
   "execution_count": 31,
   "metadata": {},
   "outputs": [],
   "source": [
    "fm_bert_iod = get_iod(\n",
    "    \"/home/max/Results/replacements/results/fm_bert-kb_results.csv\",\n",
    "    \"/home/max/Documents/mlt/thesis/dw_results/fm_smh-yearly-bert-base-swedish-cased.csv\", \n",
    "    fm_variables, \n",
    "    terms\n",
    ")\n",
    "\n",
    "fm_megatron_iod = get_iod(\n",
    "    \"/home/max/Results/replacements/results/fm_megatron_results.csv\",\n",
    "    \"/home/max/Documents/mlt/thesis/dw_results/fm_smh-yearly-megatron-bert-large-swedish-cased-110k.csv\", \n",
    "    fm_variables, \n",
    "    terms\n",
    ")\n",
    "\n",
    "fm_t5small_iod = get_iod(\n",
    "    \"/home/max/Results/replacements/results/fm_t5-small_results.csv\",\n",
    "    \"/home/max/Documents/mlt/thesis/dw_results/fm_smh-yearly-t5-small.csv\", \n",
    "    fm_variables, \n",
    "    terms\n",
    ")\n",
    "\n",
    "fm_t53b_iod = get_iod(\n",
    "    \"/home/max/Results/replacements/results/fm_t5-3b_results.csv\",\n",
    "    \"/home/max/Documents/mlt/thesis/dw_results/fm_smh-yearly-t5-3b.csv\", \n",
    "    fm_variables, \n",
    "    terms\n",
    ")"
   ]
  },
  {
   "cell_type": "markdown",
   "metadata": {},
   "source": [
    "### Different window sizes"
   ]
  },
  {
   "cell_type": "code",
   "execution_count": 32,
   "metadata": {
    "scrolled": true
   },
   "outputs": [],
   "source": [
    "WS=5\n",
    "variables_noRCH, _ = get_variables(2003, 2022, incl_rect=False)\n",
    "fm_sgns_lsc_w5 = get_df(\n",
    "    f\"/home/max/Documents/mlt/thesis/dw_results/fm_smh-yearly-radical3-restricted-w{WS}-100.csv\", \n",
    "    variables_noRCH, terms, drop_frq = False)\n",
    "fm_sgns_w5_iod = get_iod(\n",
    "    f\"/home/max/Results/replacments_w5-15_d100-200/results/fm_sgns-w{WS}-d100_results.csv\",\n",
    "    f\"/home/max/Documents/mlt/thesis/dw_results/fm_smh-yearly-radical3-restricted-w{WS}-100.csv\", \n",
    "    variables_noRCH, terms)\n",
    "fm_sgns_w5_iod.rename(columns={\"B-strategy\": \"B-Strategy\"}, inplace=True) "
   ]
  },
  {
   "cell_type": "code",
   "execution_count": 33,
   "metadata": {},
   "outputs": [],
   "source": [
    "WS=10\n",
    "variables_noRCH, _ = get_variables(2003, 2022, incl_rect=False)\n",
    "fm_sgns_lsc_w10 = get_df(\n",
    "    f\"/home/max/Documents/mlt/thesis/dw_results/fm_smh-yearly-radical3-restricted-w{WS}-100.csv\", \n",
    "    variables_noRCH, terms, drop_frq = False)\n",
    "fm_sgns_w10_iod = get_iod(\n",
    "    f\"/home/max/Results/replacments_w5-15_d100-200/results/fm_sgns-w{WS}-d100_results.csv\",\n",
    "    f\"/home/max/Documents/mlt/thesis/dw_results/fm_smh-yearly-radical3-restricted-w{WS}-100.csv\", \n",
    "    variables_noRCH, terms)\n",
    "fb_sgns_w10_iod.rename(columns={\"B-strategy\": \"B-Strategy\"}, inplace=True) "
   ]
  },
  {
   "cell_type": "code",
   "execution_count": 34,
   "metadata": {},
   "outputs": [],
   "source": [
    "WS=15\n",
    "variables_noRCH, _ = get_variables(2003, 2022, incl_rect=False)\n",
    "fm_sgns_lsc_w15 = get_df(\n",
    "    f\"/home/max/Documents/mlt/thesis/dw_results/fm_smh-yearly-radical3-restricted-w{WS}-100.csv\", \n",
    "    variables_noRCH, terms, drop_frq = False)\n",
    "fm_sgns_w15_iod = get_iod(\n",
    "    f\"/home/max/Results/replacments_w5-15_d100-200/results/fm_sgns-w{WS}-d100_results.csv\",\n",
    "    f\"/home/max/Documents/mlt/thesis/dw_results/fm_smh-yearly-radical3-restricted-w{WS}-100.csv\", \n",
    "    variables_noRCH, terms)\n",
    "fm_sgns_w15_iod.rename(columns={\"B-strategy\": \"B-Strategy\"}, inplace=True) "
   ]
  },
  {
   "cell_type": "markdown",
   "metadata": {},
   "source": [
    "### 200 dimensions"
   ]
  },
  {
   "cell_type": "code",
   "execution_count": 35,
   "metadata": {
    "scrolled": true
   },
   "outputs": [],
   "source": [
    "WS=5\n",
    "variables_noRCH, _ = get_variables(2003, 2022, incl_rect=False)\n",
    "fm_sgns_lsc_w5_200 = get_df(\n",
    "    f\"/home/max/Documents/mlt/thesis/dw_results/fm_smh-yearly-radical3-restricted-w{WS}-200.csv\", \n",
    "    variables_noRCH, terms, drop_frq = False)\n",
    "fm_sgns_w5_200_iod = get_iod(\n",
    "    f\"/home/max/Results/replacments_w5-15_d100-200/results/fm_sgns-w{WS}-d200_results.csv\",\n",
    "    f\"/home/max/Documents/mlt/thesis/dw_results/fm_smh-yearly-radical3-restricted-w{WS}-200.csv\", \n",
    "    variables_noRCH, terms)\n",
    "fm_sgns_w5_200_iod.rename(columns={\"B-strategy\": \"B-Strategy\"}, inplace=True) "
   ]
  },
  {
   "cell_type": "code",
   "execution_count": 36,
   "metadata": {
    "scrolled": true
   },
   "outputs": [],
   "source": [
    "WS=10\n",
    "variables_noRCH, _ = get_variables(2003, 2022, incl_rect=False)\n",
    "fm_sgns_lsc_w10_200 = get_df(\n",
    "    f\"/home/max/Documents/mlt/thesis/dw_results/fm_smh-yearly-radical3-restricted-w{WS}-200.csv\", \n",
    "    variables_noRCH, terms, drop_frq = False)\n",
    "fm_sgns_w10_200_iod = get_iod(\n",
    "    f\"/home/max/Results/replacments_w5-15_d100-200/results/fm_sgns-w{WS}-d200_results.csv\",\n",
    "    f\"/home/max/Documents/mlt/thesis/dw_results/fm_smh-yearly-radical3-restricted-w{WS}-200.csv\", \n",
    "    variables_noRCH, terms)\n",
    "fm_sgns_w10_200_iod.rename(columns={\"B-strategy\": \"B-Strategy\"}, inplace=True) "
   ]
  },
  {
   "cell_type": "code",
   "execution_count": 37,
   "metadata": {
    "scrolled": true
   },
   "outputs": [],
   "source": [
    "WS=15\n",
    "variables_noRCH, _ = get_variables(2003, 2022, incl_rect=False)\n",
    "fm_sgns_lsc_w15_200 = get_df(\n",
    "    f\"/home/max/Documents/mlt/thesis/dw_results/fm_smh-yearly-radical3-restricted-w{WS}-200.csv\", \n",
    "    variables_noRCH, terms, drop_frq = False)\n",
    "fm_sgns_w15_200_iod = get_iod(\n",
    "    f\"/home/max/Results/replacments_w5-15_d100-200/results/fm_sgns-w{WS}-d200_results.csv\",\n",
    "    f\"/home/max/Documents/mlt/thesis/dw_results/fm_smh-yearly-radical3-restricted-w{WS}-200.csv\", \n",
    "    variables_noRCH, terms)\n",
    "fm_sgns_w15_200_iod.rename(columns={\"B-strategy\": \"B-Strategy\"}, inplace=True) "
   ]
  },
  {
   "cell_type": "markdown",
   "metadata": {},
   "source": [
    "### ... re-run globalist"
   ]
  },
  {
   "cell_type": "code",
   "execution_count": 38,
   "metadata": {},
   "outputs": [],
   "source": [
    "fm_sgns_G_iod = get_iod(\n",
    "    \"/home/max/Results/rplc_globalist_2nd_round/results/fl_globalist_sgns_results.csv\",\n",
    "    \"/home/max/Documents/mlt/thesis/dw_results/fm_smh-yearly-radical3-restricted.csv\", \n",
    "    fm_variables, \n",
    "    terms\n",
    ")\n",
    "\n",
    "fm_kb_G_iod     = get_iod(\n",
    "    \"/home/max/Results/rplc_globalist_2nd_round/results/fl_globalist_kb_results.csv\",\n",
    "    \"/home/max/Documents/mlt/thesis/dw_results/fm_smh-yearly-bert-sentence-bert-swedish-cased.csv\", \n",
    "    fm_variables, \n",
    "    terms\n",
    ")"
   ]
  },
  {
   "cell_type": "markdown",
   "metadata": {},
   "source": [
    "### Add IOD difference"
   ]
  },
  {
   "cell_type": "code",
   "execution_count": 39,
   "metadata": {},
   "outputs": [],
   "source": [
    "fm_sgns_iod   = add_iod_dif(fm_sgns_iod, fm_years)\n",
    "fm_kb_iod     = add_iod_dif(fm_kb_iod, fm_years)\n",
    "\n",
    "fm_sgns_G_iod = add_iod_dif(fm_sgns_G_iod, fm_years)\n",
    "fm_kb_G_iod   = add_iod_dif(fm_kb_G_iod, fm_years)\n",
    "\n",
    "fm_bert_iod = add_iod_dif(fm_bert_iod, fm_years)\n",
    "fm_megatron_iod = add_iod_dif(fm_megatron_iod, fm_years)\n",
    "fm_t5small_iod = add_iod_dif(fm_t5small_iod, fm_years)\n",
    "fm_t53b_iod = add_iod_dif(fm_t53b_iod, fm_years)\n",
    "\n",
    "fm_sgns_w5_iod  = add_iod_dif(fm_sgns_w5_iod, fm_years)\n",
    "fm_sgns_w10_iod = add_iod_dif(fm_sgns_w10_iod, fm_years)\n",
    "fm_sgns_w15_iod = add_iod_dif(fm_sgns_w15_iod, fm_years)\n",
    "\n",
    "fm_sgns_w5_200_iod  = add_iod_dif(fm_sgns_w5_200_iod, fm_years)\n",
    "fm_sgns_w10_200_iod  = add_iod_dif(fm_sgns_w10_200_iod, fm_years)\n",
    "fm_sgns_w15_200_iod  = add_iod_dif(fm_sgns_w15_200_iod, fm_years)"
   ]
  },
  {
   "cell_type": "markdown",
   "metadata": {},
   "source": [
    "### Know your data"
   ]
  },
  {
   "cell_type": "code",
   "execution_count": null,
   "metadata": {
    "scrolled": true
   },
   "outputs": [],
   "source": [
    "sgns_iod"
   ]
  },
  {
   "cell_type": "code",
   "execution_count": null,
   "metadata": {},
   "outputs": [],
   "source": [
    "sgns_iod[(sgns_iod[\"DWE\"] == \"V1_berika\") & ((sgns_iod[\"Method\"] == \"cnt-ssc\") | (sgns_iod[\"Method\"] == \"cnt-smx\"))]"
   ]
  },
  {
   "cell_type": "code",
   "execution_count": null,
   "metadata": {},
   "outputs": [],
   "source": [
    "set(sgns_iod[\"DWE\"].values)"
   ]
  },
  {
   "cell_type": "code",
   "execution_count": null,
   "metadata": {},
   "outputs": [],
   "source": [
    "fm_sgns_iod"
   ]
  },
  {
   "cell_type": "code",
   "execution_count": null,
   "metadata": {},
   "outputs": [],
   "source": [
    "set(fm_sgns_lsc.index)"
   ]
  },
  {
   "cell_type": "code",
   "execution_count": null,
   "metadata": {},
   "outputs": [],
   "source": []
  },
  {
   "cell_type": "markdown",
   "metadata": {},
   "source": [
    "### Why does not min_freq work properly???\n",
    "\n",
    "Helt obegripligt!!"
   ]
  },
  {
   "cell_type": "code",
   "execution_count": null,
   "metadata": {},
   "outputs": [],
   "source": [
    "pd.set_option('display.max_columns', None)"
   ]
  },
  {
   "cell_type": "code",
   "execution_count": null,
   "metadata": {},
   "outputs": [],
   "source": [
    "columns = [col for col in sgns_iod.columns if \":\" not in col]\n",
    "mamma = sgns_iod.copy()\n",
    "mamma = mamma[mamma[\"A-Strategy\"]==\"top3\"]\n",
    "mamma = mamma[mamma[\"B-Strategy\"]==\"lazy\"]\n",
    "mamma = mamma[mamma[\"Method\"]==\"I-cnt\"]\n",
    "mamma.drop(columns=[\"A-Strategy\", \"B-Strategy\", \"Method\"], inplace=True)\n",
    "mamma.set_index(\"DWE\", inplace=True)\n",
    "mamma = mamma[years].sort_index()\n",
    "mamma.round(2)"
   ]
  },
  {
   "cell_type": "code",
   "execution_count": null,
   "metadata": {},
   "outputs": [],
   "source": [
    "mu = sgns_lsc[[col for col in sgns_lsc if col.startswith(\"frq\")]].sort_index()\n",
    "mu.rename(columns={col:col.split(\"_\")[-1] for col in mu.columns}).astype(int)"
   ]
  },
  {
   "cell_type": "code",
   "execution_count": null,
   "metadata": {},
   "outputs": [],
   "source": []
  },
  {
   "cell_type": "code",
   "execution_count": null,
   "metadata": {},
   "outputs": [],
   "source": []
  },
  {
   "cell_type": "code",
   "execution_count": null,
   "metadata": {},
   "outputs": [],
   "source": []
  },
  {
   "cell_type": "code",
   "execution_count": null,
   "metadata": {},
   "outputs": [],
   "source": []
  },
  {
   "cell_type": "code",
   "execution_count": null,
   "metadata": {},
   "outputs": [],
   "source": []
  },
  {
   "cell_type": "code",
   "execution_count": null,
   "metadata": {},
   "outputs": [],
   "source": []
  },
  {
   "cell_type": "markdown",
   "metadata": {},
   "source": [
    "## Regression"
   ]
  },
  {
   "cell_type": "code",
   "execution_count": null,
   "metadata": {},
   "outputs": [],
   "source": [
    "fb_sgns_iod"
   ]
  },
  {
   "cell_type": "code",
   "execution_count": null,
   "metadata": {},
   "outputs": [],
   "source": [
    "fb_sgns_lsc.columns"
   ]
  },
  {
   "cell_type": "code",
   "execution_count": null,
   "metadata": {},
   "outputs": [],
   "source": [
    "def data2data(\n",
    "    iod_data, \n",
    "    lsc_data, \n",
    "    dwes, \n",
    "    AB_strat, \n",
    "    years, \n",
    "    methods, \n",
    "    baseline=\"first\", \n",
    "    add_log_fpm=True, \n",
    "    add_freq_dif=True,\n",
    "    LOG = np.log2\n",
    "):\n",
    "    \n",
    "    df = iod_data.copy()\n",
    "    \n",
    "    df = df[df[\"DWE\"].isin(dwes)]\n",
    "\n",
    "    assert type(AB_strat) == dict\n",
    "        \n",
    "    for var, val in AB_strat.items():\n",
    "        df = df[df[var]==val]\n",
    "    \n",
    "    df.drop(AB_strat.keys(), axis=1, inplace=True)\n",
    "    \n",
    "    transitions = [(year, str(int(year)+1)) for year in years[:-1]]\n",
    "    \n",
    "    lscs = [\"fpm\", \"gch\", \"rch\"]\n",
    "    if add_freq_dif:\n",
    "        lscs = lscs + [\"fdf\", \"adf\", \"fpc\", \"apc\"]\n",
    "        lsc_data = lsc_data.copy()\n",
    "        for yi, yj in transitions:\n",
    "            lsc_data[f\"fdf_{yi}:{yj}\"] = lsc_data[f\"fpm_{yj}\"] - lsc_data[f\"fpm_{yi}\"] \n",
    "        for yi, yj in transitions:\n",
    "            lsc_data[f\"adf_{yi}:{yj}\"] = abs(lsc_data[f\"fpm_{yj}\"] - lsc_data[f\"fpm_{yi}\"]) \n",
    "        for yi, yj in transitions:\n",
    "            lsc_data[f\"fpc_{yi}:{yj}\"] = (lsc_data[f\"fpm_{yj}\"] - lsc_data[f\"fpm_{yi}\"]) / lsc_data[f\"fpm_{yi}\"]\n",
    "        for yi, yj in transitions:\n",
    "            lsc_data[f\"apc_{yi}:{yj}\"] = abs((lsc_data[f\"fpm_{yj}\"] - lsc_data[f\"fpm_{yi}\"]) / lsc_data[f\"fpm_{yi}\"])\n",
    "        \n",
    "    \n",
    "#     transitions = [f\"{year[2:]}:{str(int(year)+1)[2:]}\" for year in years[:-1]]\n",
    "    transitions = [f\"{yi}:{yj}\" for yi, yj in transitions]\n",
    "\n",
    "    \n",
    "    if baseline == \"first\":\n",
    "        years = years[:-1]\n",
    "    if baseline == \"second\":\n",
    "        years = years[1:]\n",
    "        \n",
    "#     return [dw for lst in [[dw]*len(years) for dw in [df[df[\"Method\"]==\"I-cnt\"][\"DWE\"]]] for dw in lst]\n",
    "\n",
    "#     return df[df[\"Method\"]==\"I-cnt\"][[\"DWE\"]+years].set_index(\"DWE\").sort_index()\n",
    "\n",
    "    new_df = []\n",
    "    dw_yrs = []\n",
    "    for method in methods:\n",
    "        s    = df[df[\"Method\"]==method][[\"DWE\"]+years].set_index(\"DWE\").sort_index()\n",
    "        idx  = [dw for lst in [[dw]*len(years) for dw in s.index] for dw in lst]\n",
    "        yrs  = years*len(s.index)\n",
    "        dw_yrs.append(pd.Series([f\"{dw}_{y}\" for dw, y in zip(idx, yrs)], name=method))\n",
    "        new_df.append(pd.Series(s.to_numpy().flatten(), name=method))\n",
    "        \n",
    "    for method in methods: \n",
    "        s   = df[df[\"Method\"]==method][[\"DWE\"]+transitions].set_index(\"DWE\").sort_index()\n",
    "        idx = [dw for lst in [[dw]*len(transitions) for dw in s.index] for dw in lst]\n",
    "        trs  = transitions*len(s.index)\n",
    "        dw_yrs.append(pd.Series([f\"{dw}_{y}\" for dw, y in zip(idx, trs)], name=method+\"_dif\"))\n",
    "        new_df.append(pd.Series(s.to_numpy().flatten(), name=method+\"_dif\"))\n",
    "    \n",
    "    for lsc_measure in lscs:\n",
    "        if lsc_measure == \"fpm\":\n",
    "            variables = [col for col in lsc_data.columns if col.startswith(\"fpm\") and col.split(\"_\")[-1] in years]\n",
    "            s = lsc_data.loc[dwes][variables].sort_index()\n",
    "            idx  = [dw for lst in [[dw]*len(years) for dw in s.index] for dw in lst]\n",
    "            yrs  = years*len(s.index)\n",
    "            dw_yrs.append(pd.Series([f\"{dw}_{y}\" for dw, y in zip(idx, yrs)], name=lsc_measure))\n",
    "            new_df.append(pd.Series(s.to_numpy().flatten(), name=lsc_measure))\n",
    "            if add_log_fpm:\n",
    "                new_df.append(pd.Series(LOG(s.to_numpy().flatten()), name=lsc_measure+\"_log\"))\n",
    "            \n",
    "        else:\n",
    "            variables = [col for col in lsc_data.columns if col.startswith(lsc_measure)]\n",
    "            s = lsc_data.loc[dwes][variables].sort_index()\n",
    "            idx = [dw for lst in [[dw]*len(transitions) for dw in s.index] for dw in lst]\n",
    "            trs  = trs*len(s.index)\n",
    "            dw_yrs.append(pd.Series([f\"{dw}_{y}\" for dw, y in zip(idx, trs)], name=lsc_measure))\n",
    "            new_df.append(pd.Series(s.to_numpy().flatten(), name=lsc_measure))\n",
    "    \n",
    "    check = pd.concat(dw_yrs, axis=1)\n",
    "    \n",
    "    if False in (check[methods].eq(check[\"fpm\"], axis=0)).all(axis=1):\n",
    "        print(\"No match\")\n",
    "    \n",
    "    if False in (check[[col for col in check.columns if col.endswith(\"dif\")]].eq(check[[\"gch\",\"rch\"]], axis=0)).all(axis=1):\n",
    "        print(\"No match\")\n",
    "        \n",
    "    data = pd.concat(new_df+[check[\"fpm\"].rename(\"DW-YR\")], axis=1)\n",
    "    \n",
    "    return data\n"
   ]
  },
  {
   "cell_type": "code",
   "execution_count": null,
   "metadata": {},
   "outputs": [],
   "source": [
    "def OLS(data, DEP, INDEP, transform_dep=False, dep_transformer=None, LOG=np.log2): \n",
    "    \n",
    "    df = data[[DEP]+INDEP].copy()\n",
    "    df = df.dropna(axis=0)\n",
    "    \n",
    "    X = df[INDEP]\n",
    "    y = df[DEP]\n",
    "    \n",
    "    if transform_dep: \n",
    "        if dep_transformer == None:\n",
    "            y = LOG(y)\n",
    "        elif dep_transformer == \"rank\":\n",
    "            y = rankdata(y)\n",
    "        else:\n",
    "            y = y.values.reshape(-1,1)\n",
    "            if dep_transformer == \"box-cox\":\n",
    "                transformer = PowerTransformer(method='box-cox')\n",
    "                y = transformer.fit_transform(y)\n",
    "                #y = power_transform(y, method='box-cox')\n",
    "                print(\"Lambda = \", transformer.lambdas_[0])\n",
    "            elif dep_transformer == \"yeo-johnson\":\n",
    "                y = power_transform(y, method='yeo-johnson')\n",
    "            else:\n",
    "                transformer = dep_transformer\n",
    "                y = transformer.fit_transform(y)\n",
    "\n",
    "    X = sm.add_constant(X)\n",
    "\n",
    "    model = sm.OLS(y, X, missing=\"drop\").fit()\n",
    "\n",
    "    return model"
   ]
  },
  {
   "cell_type": "code",
   "execution_count": null,
   "metadata": {},
   "outputs": [],
   "source": [
    "def revise_data(data, indep, dep, iod_var, log_iod=False, LOG=np.log2):\n",
    "    \n",
    "    #indep = indep + [iod_var]\n",
    "    #print(indep)\n",
    "    data = data[indep+[dep]]\n",
    "    data = data.dropna()\n",
    "    data[iod_var] = abs(data[iod_var])\n",
    "    if log_iod:\n",
    "        data[iod_var] = LOG(data[iod_var])\n",
    "    return data"
   ]
  },
  {
   "cell_type": "code",
   "execution_count": null,
   "metadata": {},
   "outputs": [],
   "source": [
    "# https://stackoverflow.com/questions/42658379/variance-inflation-factor-in-python\n",
    "# https://github.com/kennethleungty/Logistic-Regression-Assumptions/issues/2\n",
    "\n",
    "def VIF(data, dep):\n",
    "    exog_data_const = sm.add_constant(data[[c for c in data.columns if c != dep]])\n",
    "    vif = pd.DataFrame()\n",
    "    vif[\"VIF Factor\"] = [variance_inflation_factor(exog_data_const.values, i) for i in range(exog_data_const.shape[1])]\n",
    "    vif = vif.transpose()\n",
    "    vif.columns = exog_data_const.columns\n",
    "    return vif"
   ]
  },
  {
   "cell_type": "code",
   "execution_count": null,
   "metadata": {},
   "outputs": [],
   "source": [
    "def test_normality_multi( # test assumptions\n",
    "    names, # list\n",
    "    iods, # list\n",
    "    lscs, # list\n",
    "    dep, \n",
    "    indep, \n",
    "    iod_var, \n",
    "    dwes, \n",
    "    abstrats, # list \n",
    "    years, \n",
    "    methods, \n",
    "    baseline, \n",
    "    log_transform,\n",
    "    log_transform_iod = False,\n",
    "    test_stat = \"jarque_bera\", \n",
    "    LOG=np.log2\n",
    "):\n",
    "    resids = []\n",
    "    VIFs = []\n",
    "    \n",
    "    if iod_var not in indep:\n",
    "        indep.append(iod_var)\n",
    "    \n",
    "    for iod, lsc, abstrat in zip(iods, lscs, abstrats):\n",
    "    \n",
    "        data = data2data(\n",
    "            iod_data = iod, \n",
    "            lsc_data = lsc, \n",
    "            dwes     = dwes,\n",
    "            AB_strat = abstrat, \n",
    "            years    = years,\n",
    "            methods  = methods,\n",
    "            baseline = baseline\n",
    "            )\n",
    "        \n",
    "        data = revise_data(data, indep, dep, iod_var, log_iod=log_transform_iod, LOG=LOG)\n",
    "        \n",
    "        vif = VIF(data, dep)\n",
    "        VIFs.append(vif)\n",
    "#         return vif\n",
    "        \n",
    "        #indep = indep + [iod_var] \n",
    "        #data = data[indep + [dep]]\n",
    "        #data = data.dropna()\n",
    "        #data[iod_var] = abs(data[iod_var]) \n",
    "        \n",
    "        #if log_transform_iod:\n",
    "        #    data[iod_var] = np.log10(data[iod_var])\n",
    "\n",
    "        res = OLS(data, dep, indep, transform_dep=log_transform, LOG=LOG)#, dep_transformer=\"box-cox\" )\n",
    "        resids.append(res.resid)\n",
    "    \n",
    "    dfs = []\n",
    "    for r in resids:\n",
    "        normality_res = pg.normality(r, method=test_stat)\n",
    "#         return normality_res\n",
    "        dfs.append(normality_res)\n",
    "        \n",
    "    df = pd.concat(dfs, axis = 0)\n",
    "    df.index = names\n",
    "    VIF_tab = pd.concat(VIFs)\n",
    "    VIF_tab.index = names\n",
    "    \n",
    "    return df, VIF_tab\n",
    "        "
   ]
  },
  {
   "cell_type": "code",
   "execution_count": null,
   "metadata": {},
   "outputs": [],
   "source": [
    "def stargazer_multi(\n",
    "    names, # list\n",
    "    iods, # list\n",
    "    lscs, # list\n",
    "    dep, \n",
    "    indep, \n",
    "    iod_var, \n",
    "    dwes, \n",
    "    abstrats, # list \n",
    "    years, \n",
    "    methods, \n",
    "    baseline, \n",
    "    log_transform,\n",
    "    log_transform_iod = False,\n",
    "    #test_stat = \"jarque_bera\",\n",
    "    LOG=np.log2,\n",
    "    norm=False\n",
    "):\n",
    "    models = []\n",
    "    \n",
    "    if iod_var not in indep:\n",
    "        indep.append(iod_var)\n",
    "    \n",
    "    for iod, lsc, abstrat in zip(iods, lscs, abstrats):\n",
    "    \n",
    "        data = data2data(\n",
    "            iod_data = iod, \n",
    "            lsc_data = lsc, \n",
    "            dwes     = dwes,\n",
    "            AB_strat = abstrat, \n",
    "            years    = years,\n",
    "            methods  = methods,\n",
    "            baseline = baseline,\n",
    "            LOG=LOG\n",
    "            )\n",
    "        \n",
    "        data = revise_data(data, indep, dep, iod_var)\n",
    "        if log_transform:\n",
    "            data[dep] = LOG(data[dep])\n",
    "        if log_transform_iod:\n",
    "            data[iod_var] = LOG(data[iod_var])        \n",
    "        \n",
    "        #indep = indep + [iod_var] \n",
    "        #data = data[indep + [dep]]\n",
    "        #data = data.dropna()\n",
    "        #data[iod_var] = abs(data[iod_var]) \n",
    "        \n",
    "        #if log_transform_iod:\n",
    "        #    data[iod_var] = np.log10(data[iod_var])\n",
    "        \n",
    "        if norm:\n",
    "            for c in data.columns:\n",
    "                data[c] = zscore(data[c])\n",
    "            \n",
    "        res = OLS(data, dep, indep)\n",
    "        models.append(res)\n",
    "\n",
    "#         else:\n",
    "#             res = OLS(data, dep, indep, transform_dep=log_transform, LOG=LOG)#, dep_transformer=\"box-cox\" )\n",
    "#             models.append(res)\n",
    "    \n",
    "    ziggy = Stargazer(models)\n",
    "    ziggy.custom_columns(names)#, [1, 1])\n",
    "    ziggy.show_model_numbers(False)\n",
    "    ziggy.covariate_order(sorted(indep)+[\"const\"])\n",
    "    ziggy.rename_covariates({'cnt-ssc_dif': '$\\Delta ^{IOR}$', 'fpc':'$\\Delta ^{FPM}$', 'fpm_log': 'FPM (log)' })\n",
    "    ziggy.significance_levels([0.05, 0.01, 0.001])\n",
    "    \n",
    "    return ziggy\n",
    "        "
   ]
  },
  {
   "cell_type": "markdown",
   "metadata": {},
   "source": [
    "#### Formula-versions"
   ]
  },
  {
   "cell_type": "code",
   "execution_count": null,
   "metadata": {},
   "outputs": [],
   "source": [
    "def test_normality_multi_FORMULA( # test assumptions\n",
    "    names, # list\n",
    "    iods, # list\n",
    "    lscs, # list\n",
    "    dep, \n",
    "    indep, \n",
    "    iod_var, \n",
    "    dwes, \n",
    "    abstrats, # list \n",
    "    years, \n",
    "    methods, \n",
    "    baseline, \n",
    "    log_transform,\n",
    "    log_transform_iod = False,\n",
    "    test_stat = \"jarque_bera\", \n",
    "    LOG=np.log2,\n",
    "    interaction = None\n",
    "):\n",
    "    resids = []\n",
    "    VIFs = []\n",
    "    \n",
    "    if iod_var not in indep:\n",
    "        indep.append(iod_var)\n",
    "\n",
    "    ######################################################################    \n",
    "    f_renamer = {old: old.replace(\"-\", \"_\") for old in indep + [dep]}\n",
    "    \n",
    "    formula = f\"{f_renamer[dep]} ~ {' + '.join([f_renamer[v] for v in indep])}\" #'Lottery ~ Literacy + Wealth + Region'\n",
    "    if interaction != None:\n",
    "        add_interactions = []\n",
    "        for a, b in interaction:\n",
    "            add_interactions.append(f\"{f_renamer[a]}:{f_renamer[b]}\")\n",
    "        formula += f\" + {' + '.join(add_interactions)}\"\n",
    "    #######################################################################\n",
    "    \n",
    "    for iod, lsc, abstrat in zip(iods, lscs, abstrats):\n",
    "    \n",
    "        data = data2data(\n",
    "            iod_data = iod, \n",
    "            lsc_data = lsc, \n",
    "            dwes     = dwes,\n",
    "            AB_strat = abstrat, \n",
    "            years    = years,\n",
    "            methods  = methods,\n",
    "            baseline = baseline\n",
    "            )\n",
    "        \n",
    "        data = revise_data(data, indep, dep, iod_var, log_iod=log_transform_iod, LOG=LOG)\n",
    "        \n",
    "        ###############################################\n",
    "        if log_transform:\n",
    "            data[dep] = LOG(data[dep])\n",
    "        data.rename(columns=f_renamer, inplace=True)\n",
    "        ###############################################\n",
    "        vif = VIF(data, dep)\n",
    "        VIFs.append(vif)\n",
    "        \n",
    "        res = smf.ols(formula=formula, data=data).fit()\n",
    "        #res = OLS(data, dep, indep, transform_dep=log_transform, LOG=LOG)#, dep_transformer=\"box-cox\" )\n",
    "        resids.append(res.resid)\n",
    "    \n",
    "    dfs = []\n",
    "    for r in resids:\n",
    "        normality_res = pg.normality(r, method=test_stat)\n",
    "#         return normality_res\n",
    "        dfs.append(normality_res)\n",
    "        \n",
    "    df = pd.concat(dfs, axis = 0)\n",
    "    df.index = names\n",
    "    VIF_tab = pd.concat(VIFs)\n",
    "    VIF_tab.index = names\n",
    "    \n",
    "    return df, VIF_tab\n",
    "        "
   ]
  },
  {
   "cell_type": "code",
   "execution_count": null,
   "metadata": {},
   "outputs": [],
   "source": []
  },
  {
   "cell_type": "code",
   "execution_count": null,
   "metadata": {},
   "outputs": [],
   "source": [
    "def stargazer_multi_FORMULA(\n",
    "    names, # list\n",
    "    iods, # list\n",
    "    lscs, # list\n",
    "    dep, \n",
    "    indep, \n",
    "    iod_var, \n",
    "    dwes, \n",
    "    abstrats, # list \n",
    "    years, \n",
    "    methods, \n",
    "    baseline, \n",
    "    log_transform,\n",
    "    log_transform_iod = False,\n",
    "    #test_stat = \"jarque_bera\",\n",
    "    LOG=np.log2,\n",
    "    norm=False,\n",
    "    interaction = None, \n",
    "    ziggy_renamer = None\n",
    "):\n",
    "    models = []\n",
    "    \n",
    "    if iod_var not in indep:\n",
    "        indep.append(iod_var)\n",
    "        \n",
    "    ######################################################################    \n",
    "    f_renamer = {old: old.replace(\"-\", \"_\") for old in indep + [dep]}\n",
    "    \n",
    "    formula = f\"{f_renamer[dep]} ~ {' + '.join([f_renamer[v] for v in indep])}\" #'Lottery ~ Literacy + Wealth + Region'\n",
    "    if interaction != None:\n",
    "        add_interactions = []\n",
    "        for a, b in interaction:\n",
    "            add_interactions.append(f\"{f_renamer[a]}:{f_renamer[b]}\")\n",
    "        formula += f\" + {' + '.join(add_interactions)}\"\n",
    "    #######################################################################        \n",
    "    \n",
    "    for iod, lsc, abstrat in zip(iods, lscs, abstrats):\n",
    "    \n",
    "        data = data2data(\n",
    "            iod_data = iod, \n",
    "            lsc_data = lsc, \n",
    "            dwes     = dwes,\n",
    "            AB_strat = abstrat, \n",
    "            years    = years,\n",
    "            methods  = methods,\n",
    "            baseline = baseline,\n",
    "            LOG=LOG\n",
    "            )\n",
    "        \n",
    "        data = revise_data(data, indep, dep, iod_var)\n",
    "        if log_transform:\n",
    "            data[dep] = LOG(data[dep])\n",
    "        if log_transform_iod:\n",
    "            data[iod_var] = LOG(data[iod_var])        \n",
    "        \n",
    "        #indep = indep + [iod_var] \n",
    "        #data = data[indep + [dep]]\n",
    "        #data = data.dropna()\n",
    "        #data[iod_var] = abs(data[iod_var]) \n",
    "        \n",
    "        #if log_transform_iod:\n",
    "        #    data[iod_var] = np.log10(data[iod_var])\n",
    "        \n",
    "        if norm:\n",
    "            for c in data.columns:\n",
    "                data[c] = zscore(data[c])\n",
    "        \n",
    "        ###############################\n",
    "        data.rename(columns=f_renamer, inplace=True)\n",
    "        res = smf.ols(formula=formula, data=data).fit()\n",
    "\n",
    "        #res = OLS(data, dep, indep)\n",
    "        models.append(res)\n",
    "\n",
    "#         else:\n",
    "#             res = OLS(data, dep, indep, transform_dep=log_transform, LOG=LOG)#, dep_transformer=\"box-cox\" )\n",
    "#             models.append(res)\n",
    "    \n",
    "    ziggy = Stargazer(models)\n",
    "    ziggy.custom_columns(names)#, [1, 1])\n",
    "    ziggy.show_model_numbers(False)\n",
    "    ziggy.covariate_order(sorted([v for v in res.params.index if v != \"Intercept\"])+[\"Intercept\"])\n",
    "    ziggy.rename_covariates({\n",
    "        'cnt_ssc_dif': '$\\Delta ^{IOR}$', \n",
    "        'fpc':'$\\Delta ^{FPM}$', \n",
    "        'fpm_log': 'FPM (log)',\n",
    "        'fpm_log:cnt_ssc_dif': 'FPM (log) × $\\Delta ^{IOR}$', \n",
    "        'fpm:cnt_ssc_dif': 'FPM × $\\Delta ^{IOR}$'\n",
    "    })\n",
    "    ziggy.significance_levels([0.05, 0.01, 0.001])\n",
    "    \n",
    "    return ziggy\n",
    "        "
   ]
  },
  {
   "cell_type": "markdown",
   "metadata": {},
   "source": [
    "### Multi: Normality, VIF, and models"
   ]
  },
  {
   "cell_type": "code",
   "execution_count": null,
   "metadata": {},
   "outputs": [],
   "source": []
  },
  {
   "cell_type": "code",
   "execution_count": null,
   "metadata": {},
   "outputs": [],
   "source": [
    "ALL_FB_LSC = [\n",
    "#fb_sgns_lsc,\n",
    "fb_kb_lsc,\n",
    "#fb_sts_lsc,\n",
    "fb_bert_lsc,\n",
    "# fb_bert_lsc, #  same for CLS version\n",
    "#fb_megatron_lsc,\n",
    "#fb_t5small_lsc,\n",
    "# fb_t53b_lsc,\n",
    "fb_mt5xl_lsc,\n",
    "# fb_sgns_G_lsc,\n",
    "# fb_kb_G_lsc,\n",
    "# fb_sts_G_lsc,\n",
    "#fb_sgns_lsc_nlpl,\n",
    "fb_sgns_lsc_w5,\n",
    "fb_sgns_lsc_w10,\n",
    "fb_sgns_lsc_w15,\n",
    "fb_sgns_lsc_w5_200,\n",
    "fb_sgns_lsc_w10_200,\n",
    "fb_sgns_lsc_w15_200    \n",
    "]"
   ]
  },
  {
   "cell_type": "code",
   "execution_count": null,
   "metadata": {},
   "outputs": [],
   "source": [
    "ALL_FB_IOD = [\n",
    "#fb_sgns_iod,\n",
    "fb_kb_iod,\n",
    "#fb_sts_iod,\n",
    "fb_bert_iod,\n",
    "# fb_bertCLS_iod,\n",
    "#fb_megatron_iod,\n",
    "#fb_t5small_iod,\n",
    "# fb_t53b_iod,\n",
    "fb_mt5xl_iod,\n",
    "# fb_sgns_G_iod,\n",
    "# fb_kb_G_iod,\n",
    "# fb_sts_G_iod,\n",
    "#fb_sgns_iod_nlpl,\n",
    "fb_sgns_w5_iod,\n",
    "fb_sgns_w10_iod,\n",
    "fb_sgns_w15_iod,\n",
    "fb_sgns_w5_200_iod,\n",
    "fb_sgns_w10_200_iod,\n",
    "fb_sgns_w15_200_iod\n",
    "]"
   ]
  },
  {
   "cell_type": "code",
   "execution_count": null,
   "metadata": {},
   "outputs": [],
   "source": [
    "names = [\n",
    "#\"fb_sgns\",\n",
    "\"SBERT\", #\"fb_kb\",\n",
    "#\"fb_sts\",\n",
    "\"BERT\", #\"fb_bert\",\n",
    "# \"BERT-CLS\",\n",
    "#\"fb_megatron\",\n",
    "#\"T5-sml\",#\"fb_t5small\",\n",
    "# \"T5-3b\", #\"fb_t53b\",\n",
    "\"mT5-XL\",\n",
    "# \"fb_sgns_G\",\n",
    "# \"fb_kb_G\",\n",
    "# \"fb_sts_G\",\n",
    "#\"SGNS-nlpl\",\n",
    "\"SGNS-w5\",\n",
    "\"SGNS-w10\",\n",
    "\"SGNS-w15\",\n",
    "\"SGNS-w5-200\",\n",
    "\"SGNS-w10-200\",\n",
    "\"SGNS-w15-200\"\n",
    "]"
   ]
  },
  {
   "cell_type": "code",
   "execution_count": null,
   "metadata": {},
   "outputs": [],
   "source": [
    "#ABSTRATs = [{\"A-Strategy\":\"ms1\", \"B-Strategy\":\"min0.2\"}] + [{\"A-Strategy\":\"rn\"}] * 6 + [{\"A-Strategy\":\"ms1\", \"B-Strategy\":\"min0.2\"}] * 7\n",
    "#ABSTRATs = [{\"A-Strategy\":\"rn\"}] * 5 + [{\"A-Strategy\":\"ms1\", \"B-Strategy\":\"min0.2\"}] * 6\n",
    "ABSTRATs = [{\"A-Strategy\":\"rn\"}] * 3 + [{\"A-Strategy\":\"ms1\", \"B-Strategy\":\"min0.2\"}] * 6"
   ]
  },
  {
   "cell_type": "code",
   "execution_count": null,
   "metadata": {},
   "outputs": [],
   "source": [
    "DEP_TRANSFORM = True\n",
    "IOD_TRANSFORM = False\n",
    "IOD_VAR = \"cnt-ssc_dif\"\n",
    "INDEP = [\n",
    "    IOD_VAR,\n",
    "    \"fpc\", \n",
    "#     \"fpm\"\n",
    "    \"fpm_log\"\n",
    "]\n",
    "LOG = np.log2"
   ]
  },
  {
   "cell_type": "code",
   "execution_count": null,
   "metadata": {},
   "outputs": [],
   "source": [
    "table, vif = test_normality_multi(\n",
    "    names = names, # list\n",
    "    iods = ALL_FB_IOD, # list\n",
    "    lscs = ALL_FB_LSC, # list\n",
    "    dep = \"gch\", \n",
    "    indep = INDEP, \n",
    "    iod_var = IOD_VAR, \n",
    "    dwes = ['V1_berika', 'N1_globalist', 'N1_återvandring', 'N1_förortsgäng'], \n",
    "    abstrats = ABSTRATs, # list \n",
    "    years = years, \n",
    "    methods = [\"I-cnt\", \"O-cnt\", \"cnt-ssc\", \"cnt-smx\"], \n",
    "    baseline = \"first\", \n",
    "    log_transform = DEP_TRANSFORM,\n",
    "    log_transform_iod=IOD_TRANSFORM,\n",
    "#     test_stat = \"shapiro\" # \"jarque_bera\" (default),\n",
    "    LOG = LOG\n",
    ")\n",
    "table.round(3)"
   ]
  },
  {
   "cell_type": "code",
   "execution_count": null,
   "metadata": {},
   "outputs": [],
   "source": [
    "vif"
   ]
  },
  {
   "cell_type": "code",
   "execution_count": null,
   "metadata": {},
   "outputs": [],
   "source": [
    "table, vif = test_normality_multi_FORMULA(\n",
    "    names = names, # list\n",
    "    iods = ALL_FB_IOD, # list\n",
    "    lscs = ALL_FB_LSC, # list\n",
    "    dep = \"gch\", \n",
    "    indep = INDEP, \n",
    "    iod_var = IOD_VAR, \n",
    "    dwes = ['V1_berika', 'N1_globalist', 'N1_återvandring', 'N1_förortsgäng'], \n",
    "    abstrats = ABSTRATs, # list \n",
    "    years = years, \n",
    "    methods = [\"I-cnt\", \"O-cnt\", \"cnt-ssc\", \"cnt-smx\"], \n",
    "    baseline = \"first\", \n",
    "    log_transform = DEP_TRANSFORM,\n",
    "    log_transform_iod=IOD_TRANSFORM,\n",
    "#     test_stat = \"shapiro\" # \"jarque_bera\" (default),\n",
    "    LOG = LOG, \n",
    "#     interaction = [(\"fpm_log\", IOD_VAR)]\n",
    "    interaction = [(\"fpm_log\", IOD_VAR)]\n",
    ")\n",
    "table.round(3)"
   ]
  },
  {
   "cell_type": "code",
   "execution_count": null,
   "metadata": {},
   "outputs": [],
   "source": []
  },
  {
   "cell_type": "code",
   "execution_count": null,
   "metadata": {},
   "outputs": [],
   "source": [
    "#table = table.drop([\"fb_sgns\", \"fb_megatron\", \"fb_sts\"])\n",
    "sum(table[\"normal\"]) / table.shape[0]"
   ]
  },
  {
   "cell_type": "code",
   "execution_count": null,
   "metadata": {
    "scrolled": true
   },
   "outputs": [],
   "source": [
    "print(table.to_latex(float_format=\"{:0.3f}\".format))"
   ]
  },
  {
   "cell_type": "markdown",
   "metadata": {},
   "source": [
    "* For residuals to be normal: Dependent variable must be log_transformed\n",
    "* For SGNS models, fpm should be log transformed for normal residuals\n",
    "* For LLMs, fpm should not be log transformed for normal residulas\n",
    "* Log transformation of iod_var + log tansform of dependent variable solves the normality issue, but lower R2"
   ]
  },
  {
   "cell_type": "code",
   "execution_count": null,
   "metadata": {
    "scrolled": true
   },
   "outputs": [],
   "source": [
    "all_stars = stargazer_multi(\n",
    "    names = names, # list\n",
    "    iods = ALL_FB_IOD, # list\n",
    "    lscs = ALL_FB_LSC, # list\n",
    "    dep = \"gch\", \n",
    "    indep = INDEP, \n",
    "    iod_var = IOD_VAR, \n",
    "    dwes = ['V1_berika', 'N1_globalist', 'N1_återvandring', 'N1_förortsgäng'], \n",
    "    abstrats = ABSTRATs, # list \n",
    "    years = years, \n",
    "    methods = [\"I-cnt\", \"O-cnt\", \"cnt-ssc\", \"cnt-smx\"], \n",
    "    baseline = \"first\", \n",
    "    log_transform = DEP_TRANSFORM,\n",
    "    log_transform_iod=IOD_TRANSFORM,\n",
    "#     test_stat = \"shapiro\" # \"jarque_bera\" (default),\n",
    "    LOG=LOG,\n",
    "    norm = True\n",
    "); all_stars"
   ]
  },
  {
   "cell_type": "code",
   "execution_count": null,
   "metadata": {
    "scrolled": true
   },
   "outputs": [],
   "source": [
    "all_stars = stargazer_multi_FORMULA(\n",
    "    names = names, # list\n",
    "    iods = ALL_FB_IOD, # list\n",
    "    lscs = ALL_FB_LSC, # list\n",
    "    dep = \"gch\", \n",
    "    indep = INDEP, \n",
    "    iod_var = IOD_VAR, \n",
    "    dwes = ['V1_berika', 'N1_globalist', 'N1_återvandring', 'N1_förortsgäng'], \n",
    "    abstrats = ABSTRATs, # list \n",
    "    years = years, \n",
    "    methods = [\"I-cnt\", \"O-cnt\", \"cnt-ssc\", \"cnt-smx\"], \n",
    "    baseline = \"first\", \n",
    "    log_transform = DEP_TRANSFORM,\n",
    "    log_transform_iod=IOD_TRANSFORM,\n",
    "#     test_stat = \"shapiro\" # \"jarque_bera\" (default),\n",
    "    LOG=LOG,\n",
    "    norm = True,\n",
    "    interaction = [(\"fpm_log\", IOD_VAR)]\n",
    "); all_stars"
   ]
  },
  {
   "cell_type": "code",
   "execution_count": null,
   "metadata": {
    "scrolled": true
   },
   "outputs": [],
   "source": [
    "print(all_stars.render_latex())"
   ]
  },
  {
   "cell_type": "code",
   "execution_count": null,
   "metadata": {},
   "outputs": [],
   "source": [
    "data"
   ]
  },
  {
   "cell_type": "markdown",
   "metadata": {},
   "source": [
    "### Reverese?"
   ]
  },
  {
   "cell_type": "code",
   "execution_count": null,
   "metadata": {},
   "outputs": [],
   "source": [
    "indep = [\"fpc\", \"fpm_log\"]\n",
    "lsc_var = \"gch\"\n",
    "dep = \"cnt-ssc_dif\"\n",
    "\n",
    "models = []\n",
    "resids = []\n",
    "\n",
    "for iod, lsc, abstrat in zip(ALL_FB_IOD, ALL_FB_LSC, ABSTRATs):\n",
    "\n",
    "    data = data2data(\n",
    "        iod_data = iod, \n",
    "        lsc_data = lsc, \n",
    "        dwes     = ['V1_berika', 'N1_globalist', 'N1_återvandring', 'N1_förortsgäng'],\n",
    "        AB_strat = abstrat, \n",
    "        years    = years,\n",
    "        methods  = [\"I-cnt\", \"O-cnt\", \"cnt-ssc\", \"cnt-smx\"],\n",
    "        baseline = \"first\",\n",
    "        LOG=np.log2\n",
    "        )\n",
    "\n",
    "#     data = revise_data(data, indep, dep, iod_var, log_iod=log_transform_iod, LOG=LOG)\n",
    "\n",
    "    data = data[indep + [lsc_var] + [dep]]\n",
    "    data = data.dropna()\n",
    "    data[dep] = abs(data[dep])\n",
    "    data[dep] = np.log2(data[dep])\n",
    "    data[lsc_var] = np.log2(data[lsc_var])\n",
    "    \n",
    "    for c in data.columns:\n",
    "        data[c] = zscore(data[c])    \n",
    "\n",
    "    res = OLS(data, dep, indep + [lsc_var])#, transform_dep=log_transform)#, LOG=LOG)#, dep_transformer=\"box-cox\" )\n",
    "    models.append(res)\n",
    "    resids.append(res.resid)\n",
    "\n",
    "dfs = []\n",
    "for r in resids:\n",
    "    normality_res = pg.normality(r, method=\"jarque_bera\")\n",
    "#         return normality_res\n",
    "    dfs.append(normality_res)   \n",
    "df = pd.concat(dfs, axis = 0)\n",
    "df.index = names    \n",
    "    \n",
    "ziggy = Stargazer(models)\n",
    "ziggy.custom_columns(names)#, [1, 1])\n",
    "ziggy.show_model_numbers(False)\n",
    "ziggy.covariate_order(sorted(indep + [lsc_var])+[\"const\"])\n",
    "# ziggy.rename_covariates({'cnt-ssc_dif': 'Dif. IOD Ratio', 'fpc':'Dif. FPM (\\%)', 'fpm_log': 'FPM (lg)' })\n",
    "ziggy.significance_levels([0.05, 0.01, 0.001])\n",
    "\n",
    "ziggy\n"
   ]
  },
  {
   "cell_type": "code",
   "execution_count": null,
   "metadata": {},
   "outputs": [],
   "source": [
    "df"
   ]
  },
  {
   "cell_type": "markdown",
   "metadata": {},
   "source": [
    "## Visualization, part 1"
   ]
  },
  {
   "cell_type": "code",
   "execution_count": 40,
   "metadata": {},
   "outputs": [],
   "source": [
    "def get_dfs(iod_data_frames, criteria, dwes):\n",
    "    dfs = []\n",
    "    for D, criterion, dwe in zip(iod_data_frames, criteria, dwes):\n",
    "        df = D.copy()\n",
    "        df = df[df[\"DWE\"] == dwe]\n",
    "        for col, val in criterion.items():\n",
    "            df = df[df[col] == val]\n",
    "        dfs.append(df)\n",
    "    return dfs"
   ]
  },
  {
   "cell_type": "code",
   "execution_count": 41,
   "metadata": {},
   "outputs": [],
   "source": [
    "def organize_df(df, dwe, meas, yrs, inverse, normalize):\n",
    "    \n",
    "    dfs = []\n",
    "    for measure in meas:\n",
    "        X = df[df[\"Method\"]==measure][yrs].values.flatten()\n",
    "        if inverse != None:\n",
    "            if inverse == measure:\n",
    "                X = 1 - X\n",
    "        if normalize:\n",
    "            X = zscore(X, nan_policy=\"omit\")\n",
    "#             return X\n",
    "        dfs.append(pd.DataFrame(X, columns=[\"Value\"]))\n",
    "     \n",
    "    data = pd.concat(dfs, axis=0)\n",
    "    data[\"DWE\"]    = [dwe] * len(meas) * len(yrs) \n",
    "    data[\"Method\"] = [m for measure in meas for m in [measure] * len(yrs)]\n",
    "    data[\"Year\"]   = [int(y) for y in yrs * len(meas)]\n",
    "    \n",
    "    return data\n"
   ]
  },
  {
   "cell_type": "code",
   "execution_count": 84,
   "metadata": {},
   "outputs": [],
   "source": [
    "def annotate(data, **kws):\n",
    "    r, p = pearsonr(data[\"Value\"], data[\"Year\"])\n",
    "    ax = plt.gca()\n",
    "    ax.text(.05, .8, 'r={:.2f}, p={:.2g}'.format(r, p), transform=ax.transAxes)"
   ]
  },
  {
   "cell_type": "code",
   "execution_count": 232,
   "metadata": {},
   "outputs": [],
   "source": [
    "def reg_trend(\n",
    "    iod_data_frames,\n",
    "    dwes, \n",
    "    criteria, \n",
    "    years, \n",
    "    #meas = [(\"I-cnt\", \"r\", '-'), (\"O-cnt\", \"g\", '-'), (\"cnt-ssc\", \"b\", '--')], \n",
    "    meas = [\"I-cnt\", \"O-cnt\", \"cnt-ssc\"],\n",
    "    truncate = True,\n",
    "    n_cols = 2,\n",
    "    inverse=None,\n",
    "    return_time_series = False,\n",
    "    add_r = False,\n",
    "    normalize = False, \n",
    "    smooth = False\n",
    "):\n",
    "    \n",
    "    dfs = get_dfs(iod_data_frames, criteria, dwes)\n",
    "    data = pd.concat([organize_df(df, dwe, meas, yrs, inverse, normalize) for df, dwe, yrs in zip(dfs, dwes, years)])\n",
    "         \n",
    "    if truncate:\n",
    "        data = data[data[\"Value\"].notna()]\n",
    "\n",
    "    g = sns.lmplot(data=data, x=\"Year\", y=\"Value\", hue=\"Method\", col=\"DWE\", col_wrap=n_cols, lowess=smooth)\n",
    "    # https://www.statsmodels.org/devel/generated/statsmodels.nonparametric.smoothers_lowess.lowess.html\n",
    "    # https://www.statisticshowto.com/lowess-smoothing/\n",
    "    # https://ostwalprasad.github.io/machine-learning/Polynomial-Regression-using-statsmodel.html\n",
    "\n",
    "    if add_r:\n",
    "        color_order=[\"blue\", \"tab:orange\", \"green\"][:len(meas)]\n",
    "        for ax, dwe in zip(g.axes.flatten(), dwes):\n",
    "            ax.tick_params(axis='x', rotation=45)\n",
    "\n",
    "            this_df = data[data[\"DWE\"]==dwe]\n",
    "            for i, (method, color) in enumerate(zip(meas, color_order)):\n",
    "                y = this_df[this_df[\"Method\"]==method][\"Value\"]\n",
    "                x = [v for v in range(len(y))]\n",
    "                r, p = pearsonr(x, y)\n",
    "                ax.text(0.2, 0.95-i/12, f'{method}: r={r:.2f}, p={p:.3f}', fontdict=dict(color=color, fontsize=12), transform=ax.transAxes) #add text\n",
    "\n",
    "    plt.show()    "
   ]
  },
  {
   "cell_type": "code",
   "execution_count": 237,
   "metadata": {},
   "outputs": [
    {
     "name": "stderr",
     "output_type": "stream",
     "text": [
      "/home/max/anaconda3/lib/python3.8/site-packages/seaborn/axisgrid.py:64: UserWarning: The figure layout has changed to tight\n",
      "  self.fig.tight_layout(*args, **kwargs)\n"
     ]
    },
    {
     "data": {
      "image/png": "[encoded data removed]",
      "text/plain": [
       "<Figure size 791.375x720 with 4 Axes>"
      ]
     },
     "metadata": {
      "needs_background": "light"
     },
     "output_type": "display_data"
    }
   ],
   "source": [
    "DWES = [\"N1_förortsgäng\", \"N1_globalist\", \"V1_berika\", \"N1_återvandring\"]\n",
    "reg_trend(\n",
    "    iod_data_frames = [fb_sgns_w15_200_iod]*4,\n",
    "    dwes = DWES, \n",
    "    criteria = [{\"A-Strategy\":\"ms1\", \"B-Strategy\": \"min0.2\"}]*4, \n",
    "    years = [years]*4,\n",
    "    meas=[\"I-cnt\", \"cnt-ssc\"],\n",
    "    truncate = True,\n",
    "    inverse = \"cnt-ssc\",\n",
    "    return_time_series=True,\n",
    "    add_r = True,\n",
    "    normalize = True,\n",
    "#     smooth=True\n",
    ")"
   ]
  },
  {
   "cell_type": "code",
   "execution_count": 239,
   "metadata": {
    "scrolled": true
   },
   "outputs": [
    {
     "name": "stderr",
     "output_type": "stream",
     "text": [
      "/home/max/anaconda3/lib/python3.8/site-packages/seaborn/axisgrid.py:64: UserWarning: The figure layout has changed to tight\n",
      "  self.fig.tight_layout(*args, **kwargs)\n"
     ]
    },
    {
     "data": {
      "image/png": "[encoded data removed]",
      "text/plain": [
       "<Figure size 796.375x720 with 3 Axes>"
      ]
     },
     "metadata": {
      "needs_background": "light"
     },
     "output_type": "display_data"
    }
   ],
   "source": [
    "DWES = [\"N1_förortsgäng\", \"N1_globalist\", \"V1_berika\", \"N1_återvandring\"]\n",
    "reg_trend(\n",
    "    iod_data_frames = [fb_bert_iod]*4,\n",
    "    dwes = DWES, \n",
    "    criteria = [{\"A-Strategy\":\"rn\"}]*4, \n",
    "    years = [years]*4,\n",
    "    meas=[\"I-pwn\", \"pwn-ssc\"],\n",
    "    truncate = True,\n",
    "    inverse = \"pwn-ssc\",\n",
    "    return_time_series=True,\n",
    "#     add_r = True,\n",
    "    normalize = True,\n",
    "    smooth=True\n",
    ")"
   ]
  },
  {
   "cell_type": "markdown",
   "metadata": {},
   "source": [
    "## Visualization, part 2"
   ]
  },
  {
   "cell_type": "code",
   "execution_count": 173,
   "metadata": {},
   "outputs": [],
   "source": [
    "def viz(\n",
    "    iod_data, \n",
    "    dwe, \n",
    "    criterion, \n",
    "    years, \n",
    "    meas = [(\"I-cnt\", \"r\", '-'), (\"O-cnt\", \"g\", '-'), (\"cnt-ssc\", \"b\", '--')], \n",
    "    truncate = True,\n",
    "    #inverse = None\n",
    "):\n",
    "    \n",
    "    df = iod_data.copy()\n",
    "    df = df[df[\"DWE\"] == dwe]\n",
    "    \n",
    "    for col, val in criterion.items():\n",
    "        df = df[df[col] == val]\n",
    "        \n",
    "    #if inverse != None:\n",
    "    #    df[inverse] = 1 - df[inverse]\n",
    "    \n",
    "    fig, ax = plt.subplots(figsize=(12,8))\n",
    "    \n",
    "    for m, c, l in meas:\n",
    "        X = df[(df[\"DWE\"] == dwe) & (df[\"Method\"] == m)][years]\n",
    "        if truncate:\n",
    "            x, y = zip(*[(x, y) for x, y in zip(X.columns, X.values.flatten()) if not pd.isna(x) and not pd.isna(y)])\n",
    "        else: \n",
    "            x = X.columns\n",
    "            y = X.values.flatten()\n",
    "            \n",
    "        ax.plot(x, y, label=m, c=c, linestyle=l)\n",
    "    ax.legend(loc='center right', bbox_to_anchor=(1.3, 0.5), ncols=2)\n",
    "\n",
    "    \n",
    "    plt.show()\n",
    "    \n",
    "    "
   ]
  },
  {
   "cell_type": "code",
   "execution_count": 174,
   "metadata": {},
   "outputs": [],
   "source": [
    "def viz_multi(\n",
    "    title,\n",
    "    iod_data_frames,\n",
    "    names,\n",
    "    dwes, \n",
    "    criteria, \n",
    "    years, \n",
    "    meas = [(\"I-cnt\", \"r\", '-'), (\"O-cnt\", \"g\", '-'), (\"cnt-ssc\", \"b\", '--')], \n",
    "    truncate = True,\n",
    "    ncols = 2,\n",
    "    inverse=None,\n",
    "    return_time_series = False,\n",
    "    normalize = True\n",
    "):\n",
    "    \n",
    "    dfs = []\n",
    "    for D, criterion, dwe in zip(iod_data_frames, criteria, dwes):\n",
    "        df = D.copy()\n",
    "        df = df[df[\"DWE\"] == dwe]\n",
    "        for col, val in criterion.items():\n",
    "            df = df[df[col] == val]\n",
    "        dfs.append(df)\n",
    "\n",
    "    NROWS  = ceil(len(dfs) / ncols)\n",
    "    NCOLS  = ncols\n",
    "    WIDTH  = 12 * NCOLS\n",
    "    HEIGTH = NROWS * 6 \n",
    "    \n",
    "    if return_time_series:\n",
    "        time_series = []\n",
    "    \n",
    "    fig, axs = plt.subplots(NROWS, NCOLS, figsize=(WIDTH,HEIGTH))\n",
    "\n",
    "    for df, ax, yrs, name in zip(dfs, axs.flatten(), years, names):\n",
    "        if return_time_series:\n",
    "            dwe_ts = []\n",
    "        for m, c, l in meas:\n",
    "            X = df[df[\"Method\"] == m][yrs]\n",
    "    \n",
    "            if inverse != None:\n",
    "                if inverse == m:\n",
    "                    X = 1 - X\n",
    "            \n",
    "            if truncate:\n",
    "                x, y = zip(*[(x, y) for x, y in zip(X.columns, X.values.flatten()) if not pd.isna(x) and not pd.isna(y)])\n",
    "            else: \n",
    "                x = [int(c) for c in X.columns]\n",
    "                y = X.values.flatten()\n",
    "            \n",
    "            if normalize:\n",
    "                y = zscore(y)\n",
    "            \n",
    "            ax.plot(x, y, label=m, c=c, linestyle=l, linewidth=5)\n",
    "            ax.set_title(name, fontsize=15)\n",
    "            ax.set_xticks(range(len(x)))\n",
    "            ax.set_xticklabels(x, rotation=35)#, ha='right')\n",
    "            ax.legend()\n",
    "            \n",
    "            if return_time_series:\n",
    "                dwe_ts.append(y)\n",
    "        \n",
    "        if return_time_series:\n",
    "            time_series.append(dwe_ts)\n",
    "    \n",
    "    fig.suptitle(title, fontsize=25)\n",
    "    plt.show()\n",
    "    \n",
    "    if return_time_series:\n",
    "        return time_series    "
   ]
  },
  {
   "cell_type": "markdown",
   "metadata": {},
   "source": [
    "### Raw Figures"
   ]
  },
  {
   "cell_type": "code",
   "execution_count": 177,
   "metadata": {
    "scrolled": true
   },
   "outputs": [
    {
     "data": {
      "image/png": "[encoded data removed]",
      "text/plain": [
       "<Figure size 1728x864 with 4 Axes>"
      ]
     },
     "metadata": {
      "needs_background": "light"
     },
     "output_type": "display_data"
    }
   ],
   "source": [
    "DWES = [\"N1_förortsgäng\", \"N1_globalist\", \"V1_berika\", \"N1_återvandring\"]\n",
    "ts_data = viz_multi(\n",
    "    title = \"Scratch\",\n",
    "    #iod_data_frames = [fb_sgns_w5_200_iod]*4, \n",
    "    iod_data_frames = [fb_bert_iod]*4,\n",
    "    names = DWES,\n",
    "    dwes = DWES, \n",
    "    criteria = [{\"A-Strategy\":\"rn\"}]*4, \n",
    "    #criteria = [{\"A-Strategy\":\"ms1\", \"B-Strategy\": \"top3\"}]*4,\n",
    "    years = [years]*4,\n",
    "    #meas = [(\"I-cnt\", \"r\", '-'), (\"O-cnt\", \"g\", '-'), (\"cnt-ssc\", \"b\", '--')], \n",
    "    meas = [(\"I-pwn\", \"c\", '-'), (\"pwn-ssc\", \"m\", '-')],\n",
    "    truncate = True,\n",
    "    inverse = \"pwn-ssc\",\n",
    "    return_time_series=True,\n",
    "    normalize = True\n",
    ")"
   ]
  },
  {
   "cell_type": "code",
   "execution_count": 201,
   "metadata": {},
   "outputs": [
    {
     "data": {
      "image/png": "[encoded data removed]",
      "text/plain": [
       "<Figure size 2592x864 with 6 Axes>"
      ]
     },
     "metadata": {
      "needs_background": "light"
     },
     "output_type": "display_data"
    }
   ],
   "source": [
    "DWES = [\"N1_återvandring\",\"N1_globalist\",\"V1_berika\"]*2\n",
    "\n",
    "NAMES = [f\"{corpus}: {term}\" for corpus, term in zip(DWES,[\"Flashback\"]*3 + [\"Familjeliv\"]*3)]\n",
    "#print(NAMES)\n",
    "\n",
    "viz_multi(\n",
    "    title = \"SBERT (KB)\",\n",
    "    iod_data_frames = [fb_kb_iod]*3 + [fm_kb_iod]*3, \n",
    "    names = NAMES,\n",
    "    dwes = DWES, \n",
    "    criteria = [{\"A-Strategy\":\"rn\"}]*6,  \n",
    "    years = [years]*3 + [fm_years]*3, \n",
    "    meas = [(\"I-cnt\", \"r\", '-'), (\"O-cnt\", \"g\", '-'), (\"cnt-ssc\", \"b\", '--')], \n",
    "    truncate = True,\n",
    "    ncols = 3\n",
    ")"
   ]
  },
  {
   "cell_type": "code",
   "execution_count": null,
   "metadata": {},
   "outputs": [],
   "source": []
  },
  {
   "cell_type": "markdown",
   "metadata": {},
   "source": [
    "## Ingroupness in FB and  FL"
   ]
  },
  {
   "cell_type": "code",
   "execution_count": null,
   "metadata": {},
   "outputs": [],
   "source": [
    "fm_sgns_lsc.index"
   ]
  },
  {
   "cell_type": "code",
   "execution_count": 179,
   "metadata": {},
   "outputs": [],
   "source": [
    "def t(iodA, yA, iodB, yB, dwes, criterion, method, collapse = False, ks=False, drop_from_results=[\"alternative\",\"BF10\", \"power\"]):\n",
    "    \n",
    "    dfA = iodA.copy()\n",
    "    dfB = iodB.copy()\n",
    "    \n",
    "    criterion[\"Method\"] = method\n",
    "    \n",
    "    for var, val in criterion.items():\n",
    "        dfA = dfA[dfA[var]==val]\n",
    "        dfB = dfB[dfB[var]==val]\n",
    "    \n",
    "    dfA.set_index(\"DWE\", inplace=True)\n",
    "    dfB.set_index(\"DWE\", inplace=True)\n",
    "    \n",
    "    dfA = dfA.loc[dwes]\n",
    "    dfB = dfB.loc[dwes]\n",
    "    \n",
    "    dfA = dfA[yA]\n",
    "    dfB = dfB[yB]\n",
    "    \n",
    "    if collapse:\n",
    "        A = dfA.values.flatten()\n",
    "        B = dfB.values.flatten()\n",
    "        if ks:\n",
    "            return ks_2samp(A,B)\n",
    "        results = pg.ttest(A,B)\n",
    "        for exclude in drop_from_results:\n",
    "            results.drop(exclude, axis=1, inplace=True)\n",
    "            \n",
    "        results[\"M_A\"] = np.nanmean(A) \n",
    "        results[\"M_B\"] = np.nanmean(B)\n",
    "        results[\"N_A\"] = len([a for a in A if not pd.isna(a)])\n",
    "        results[\"N_B\"] = len([b for b in B if not pd.isna(b)])\n",
    "        return results\n",
    "    else:\n",
    "        results = []\n",
    "        for dwe in dwes:\n",
    "            A = dfA.loc[dwe].values.flatten()\n",
    "            B = dfB.loc[dwe].values.flatten()\n",
    "            result = pg.ttest(A,B)\n",
    "            for exclude in drop_from_results:\n",
    "                result.drop(exclude, axis=1, inplace=True)\n",
    "            \n",
    "            result[\"Term\"] = dwe\n",
    "            result[\"M_A\"] = np.nanmean(A)\n",
    "            result[\"sd_A\"] = np.nanstd(A)\n",
    "            result[\"N_A\"] = len([a for a in A if not pd.isna(a)])\n",
    "            result[\"M_B\"] = np.nanmean(B)\n",
    "            result[\"sd_B\"] = np.nanstd(B)            \n",
    "            result[\"N_B\"] = len([b for b in B if not pd.isna(b)])\n",
    "            results.append(result)\n",
    "        results = pd.concat(results)\n",
    "        results.set_index(\"Term\", inplace=True)\n",
    "        return results.round(3)\n",
    "            \n",
    "    "
   ]
  },
  {
   "cell_type": "markdown",
   "metadata": {},
   "source": [
    "### SGNS"
   ]
  },
  {
   "cell_type": "code",
   "execution_count": 186,
   "metadata": {
    "scrolled": false
   },
   "outputs": [
    {
     "data": {
      "text/html": [
       "<div>\n",
       "<style scoped>\n",
       "    .dataframe tbody tr th:only-of-type {\n",
       "        vertical-align: middle;\n",
       "    }\n",
       "\n",
       "    .dataframe tbody tr th {\n",
       "        vertical-align: top;\n",
       "    }\n",
       "\n",
       "    .dataframe thead th {\n",
       "        text-align: right;\n",
       "    }\n",
       "</style>\n",
       "<table border=\"1\" class=\"dataframe\">\n",
       "  <thead>\n",
       "    <tr style=\"text-align: right;\">\n",
       "      <th></th>\n",
       "      <th>T</th>\n",
       "      <th>dof</th>\n",
       "      <th>p-val</th>\n",
       "      <th>CI95%</th>\n",
       "      <th>cohen-d</th>\n",
       "      <th>M_A</th>\n",
       "      <th>sd_A</th>\n",
       "      <th>N_A</th>\n",
       "      <th>M_B</th>\n",
       "      <th>sd_B</th>\n",
       "      <th>N_B</th>\n",
       "    </tr>\n",
       "    <tr>\n",
       "      <th>Term</th>\n",
       "      <th></th>\n",
       "      <th></th>\n",
       "      <th></th>\n",
       "      <th></th>\n",
       "      <th></th>\n",
       "      <th></th>\n",
       "      <th></th>\n",
       "      <th></th>\n",
       "      <th></th>\n",
       "      <th></th>\n",
       "      <th></th>\n",
       "    </tr>\n",
       "  </thead>\n",
       "  <tbody>\n",
       "    <tr>\n",
       "      <th>N1_kulturberikare</th>\n",
       "      <td>2.264</td>\n",
       "      <td>14.621</td>\n",
       "      <td>0.039</td>\n",
       "      <td>[0.0, 0.08]</td>\n",
       "      <td>0.864</td>\n",
       "      <td>0.568</td>\n",
       "      <td>0.050</td>\n",
       "      <td>22</td>\n",
       "      <td>0.525</td>\n",
       "      <td>0.041</td>\n",
       "      <td>8</td>\n",
       "    </tr>\n",
       "    <tr>\n",
       "      <th>V1_berika</th>\n",
       "      <td>5.892</td>\n",
       "      <td>31.045</td>\n",
       "      <td>0.000</td>\n",
       "      <td>[0.04, 0.07]</td>\n",
       "      <td>1.891</td>\n",
       "      <td>0.524</td>\n",
       "      <td>0.024</td>\n",
       "      <td>23</td>\n",
       "      <td>0.469</td>\n",
       "      <td>0.034</td>\n",
       "      <td>19</td>\n",
       "    </tr>\n",
       "    <tr>\n",
       "      <th>N1_globalist</th>\n",
       "      <td>-4.441</td>\n",
       "      <td>7.065</td>\n",
       "      <td>0.003</td>\n",
       "      <td>[-0.14, -0.04]</td>\n",
       "      <td>2.404</td>\n",
       "      <td>0.518</td>\n",
       "      <td>0.034</td>\n",
       "      <td>18</td>\n",
       "      <td>0.609</td>\n",
       "      <td>0.042</td>\n",
       "      <td>6</td>\n",
       "    </tr>\n",
       "    <tr>\n",
       "      <th>V1_kulturberika</th>\n",
       "      <td>2.305</td>\n",
       "      <td>6.817</td>\n",
       "      <td>0.056</td>\n",
       "      <td>[-0.0, 0.12]</td>\n",
       "      <td>1.116</td>\n",
       "      <td>0.591</td>\n",
       "      <td>0.050</td>\n",
       "      <td>18</td>\n",
       "      <td>0.535</td>\n",
       "      <td>0.043</td>\n",
       "      <td>5</td>\n",
       "    </tr>\n",
       "    <tr>\n",
       "      <th>N1_återvandring</th>\n",
       "      <td>8.997</td>\n",
       "      <td>17.435</td>\n",
       "      <td>0.000</td>\n",
       "      <td>[0.09, 0.15]</td>\n",
       "      <td>3.692</td>\n",
       "      <td>0.548</td>\n",
       "      <td>0.029</td>\n",
       "      <td>17</td>\n",
       "      <td>0.425</td>\n",
       "      <td>0.037</td>\n",
       "      <td>11</td>\n",
       "    </tr>\n",
       "    <tr>\n",
       "      <th>V1_återvandra</th>\n",
       "      <td>2.872</td>\n",
       "      <td>4.633</td>\n",
       "      <td>0.038</td>\n",
       "      <td>[0.0, 0.09]</td>\n",
       "      <td>1.565</td>\n",
       "      <td>0.450</td>\n",
       "      <td>0.030</td>\n",
       "      <td>17</td>\n",
       "      <td>0.402</td>\n",
       "      <td>0.026</td>\n",
       "      <td>4</td>\n",
       "    </tr>\n",
       "  </tbody>\n",
       "</table>\n",
       "</div>"
      ],
      "text/plain": [
       "                       T     dof  p-val           CI95%  cohen-d    M_A  \\\n",
       "Term                                                                      \n",
       "N1_kulturberikare  2.264  14.621  0.039     [0.0, 0.08]    0.864  0.568   \n",
       "V1_berika          5.892  31.045  0.000    [0.04, 0.07]    1.891  0.524   \n",
       "N1_globalist      -4.441   7.065  0.003  [-0.14, -0.04]    2.404  0.518   \n",
       "V1_kulturberika    2.305   6.817  0.056    [-0.0, 0.12]    1.116  0.591   \n",
       "N1_återvandring    8.997  17.435  0.000    [0.09, 0.15]    3.692  0.548   \n",
       "V1_återvandra      2.872   4.633  0.038     [0.0, 0.09]    1.565  0.450   \n",
       "\n",
       "                    sd_A  N_A    M_B   sd_B  N_B  \n",
       "Term                                              \n",
       "N1_kulturberikare  0.050   22  0.525  0.041    8  \n",
       "V1_berika          0.024   23  0.469  0.034   19  \n",
       "N1_globalist       0.034   18  0.609  0.042    6  \n",
       "V1_kulturberika    0.050   18  0.535  0.043    5  \n",
       "N1_återvandring    0.029   17  0.425  0.037   11  \n",
       "V1_återvandra      0.030   17  0.402  0.026    4  "
      ]
     },
     "execution_count": 186,
     "metadata": {},
     "output_type": "execute_result"
    }
   ],
   "source": [
    "results = t(\n",
    "    fb_sgns_w15_200_iod, \n",
    "    years, \n",
    "    fm_sgns_w15_200_iod, \n",
    "    fm_years, \n",
    "    fm_sgns_lsc.index, \n",
    "    {\"A-Strategy\":\"ms1\", \"B-Strategy\": \"top3\"},\n",
    "    \"cnt-ssc\",\n",
    "    collapse=False,\n",
    "    #ks=True\n",
    ")\n",
    "#print(results.to_latex(float_format=\"{:.3f}\".format))\n",
    "results"
   ]
  },
  {
   "cell_type": "code",
   "execution_count": 182,
   "metadata": {},
   "outputs": [
    {
     "data": {
      "text/html": [
       "<div>\n",
       "<style scoped>\n",
       "    .dataframe tbody tr th:only-of-type {\n",
       "        vertical-align: middle;\n",
       "    }\n",
       "\n",
       "    .dataframe tbody tr th {\n",
       "        vertical-align: top;\n",
       "    }\n",
       "\n",
       "    .dataframe thead th {\n",
       "        text-align: right;\n",
       "    }\n",
       "</style>\n",
       "<table border=\"1\" class=\"dataframe\">\n",
       "  <thead>\n",
       "    <tr style=\"text-align: right;\">\n",
       "      <th></th>\n",
       "      <th>T</th>\n",
       "      <th>dof</th>\n",
       "      <th>p-val</th>\n",
       "      <th>CI95%</th>\n",
       "      <th>cohen-d</th>\n",
       "      <th>M_A</th>\n",
       "      <th>sd_A</th>\n",
       "      <th>N_A</th>\n",
       "      <th>M_B</th>\n",
       "      <th>sd_B</th>\n",
       "      <th>N_B</th>\n",
       "    </tr>\n",
       "    <tr>\n",
       "      <th>Term</th>\n",
       "      <th></th>\n",
       "      <th></th>\n",
       "      <th></th>\n",
       "      <th></th>\n",
       "      <th></th>\n",
       "      <th></th>\n",
       "      <th></th>\n",
       "      <th></th>\n",
       "      <th></th>\n",
       "      <th></th>\n",
       "      <th></th>\n",
       "    </tr>\n",
       "  </thead>\n",
       "  <tbody>\n",
       "    <tr>\n",
       "      <th>N1_globalist</th>\n",
       "      <td>-5.433</td>\n",
       "      <td>6.836</td>\n",
       "      <td>0.001</td>\n",
       "      <td>[-0.06, -0.02]</td>\n",
       "      <td>3.024</td>\n",
       "      <td>0.475</td>\n",
       "      <td>0.013</td>\n",
       "      <td>18</td>\n",
       "      <td>0.519</td>\n",
       "      <td>0.017</td>\n",
       "      <td>6</td>\n",
       "    </tr>\n",
       "  </tbody>\n",
       "</table>\n",
       "</div>"
      ],
      "text/plain": [
       "                  T    dof  p-val           CI95%  cohen-d    M_A   sd_A  N_A  \\\n",
       "Term                                                                            \n",
       "N1_globalist -5.433  6.836  0.001  [-0.06, -0.02]    3.024  0.475  0.013   18   \n",
       "\n",
       "                M_B   sd_B  N_B  \n",
       "Term                             \n",
       "N1_globalist  0.519  0.017    6  "
      ]
     },
     "execution_count": 182,
     "metadata": {},
     "output_type": "execute_result"
    }
   ],
   "source": [
    "results = t(\n",
    "    fb_sgns_G_iod, \n",
    "    years, \n",
    "    fm_sgns_G_iod, \n",
    "    fm_years, \n",
    "    [\"N1_globalist\"], \n",
    "    {\"A-Strategy\":\"ms1\", \"B-Strategy\": \"top3\"},\n",
    "    \"cnt-smx\",\n",
    "    collapse=False,\n",
    "    #ks=True\n",
    ")\n",
    "#print(results.to_latex(float_format=\"{:.3f}\".format))\n",
    "results"
   ]
  },
  {
   "cell_type": "markdown",
   "metadata": {},
   "source": [
    "For every combination, GLOBALIST is more ingroup in familjeliv! "
   ]
  },
  {
   "cell_type": "markdown",
   "metadata": {},
   "source": [
    "### LLMs"
   ]
  },
  {
   "cell_type": "code",
   "execution_count": null,
   "metadata": {},
   "outputs": [],
   "source": [
    "set(kb_iod[\"A-Strategy\"])"
   ]
  },
  {
   "cell_type": "code",
   "execution_count": 197,
   "metadata": {},
   "outputs": [
    {
     "data": {
      "text/html": [
       "<div>\n",
       "<style scoped>\n",
       "    .dataframe tbody tr th:only-of-type {\n",
       "        vertical-align: middle;\n",
       "    }\n",
       "\n",
       "    .dataframe tbody tr th {\n",
       "        vertical-align: top;\n",
       "    }\n",
       "\n",
       "    .dataframe thead th {\n",
       "        text-align: right;\n",
       "    }\n",
       "</style>\n",
       "<table border=\"1\" class=\"dataframe\">\n",
       "  <thead>\n",
       "    <tr style=\"text-align: right;\">\n",
       "      <th></th>\n",
       "      <th>T</th>\n",
       "      <th>dof</th>\n",
       "      <th>p-val</th>\n",
       "      <th>CI95%</th>\n",
       "      <th>cohen-d</th>\n",
       "      <th>M_A</th>\n",
       "      <th>sd_A</th>\n",
       "      <th>N_A</th>\n",
       "      <th>M_B</th>\n",
       "      <th>sd_B</th>\n",
       "      <th>N_B</th>\n",
       "    </tr>\n",
       "    <tr>\n",
       "      <th>Term</th>\n",
       "      <th></th>\n",
       "      <th></th>\n",
       "      <th></th>\n",
       "      <th></th>\n",
       "      <th></th>\n",
       "      <th></th>\n",
       "      <th></th>\n",
       "      <th></th>\n",
       "      <th></th>\n",
       "      <th></th>\n",
       "      <th></th>\n",
       "    </tr>\n",
       "  </thead>\n",
       "  <tbody>\n",
       "    <tr>\n",
       "      <th>N1_kulturberikare</th>\n",
       "      <td>2.270</td>\n",
       "      <td>7.589</td>\n",
       "      <td>0.055</td>\n",
       "      <td>[-0.0, 0.02]</td>\n",
       "      <td>1.414</td>\n",
       "      <td>0.717</td>\n",
       "      <td>0.005</td>\n",
       "      <td>22</td>\n",
       "      <td>0.705</td>\n",
       "      <td>0.013</td>\n",
       "      <td>8</td>\n",
       "    </tr>\n",
       "    <tr>\n",
       "      <th>V1_berika</th>\n",
       "      <td>5.420</td>\n",
       "      <td>33.707</td>\n",
       "      <td>0.000</td>\n",
       "      <td>[0.02, 0.05]</td>\n",
       "      <td>1.720</td>\n",
       "      <td>0.673</td>\n",
       "      <td>0.018</td>\n",
       "      <td>23</td>\n",
       "      <td>0.637</td>\n",
       "      <td>0.023</td>\n",
       "      <td>19</td>\n",
       "    </tr>\n",
       "    <tr>\n",
       "      <th>N1_globalist</th>\n",
       "      <td>-1.537</td>\n",
       "      <td>5.535</td>\n",
       "      <td>0.179</td>\n",
       "      <td>[-0.02, 0.0]</td>\n",
       "      <td>0.716</td>\n",
       "      <td>0.746</td>\n",
       "      <td>0.011</td>\n",
       "      <td>18</td>\n",
       "      <td>0.753</td>\n",
       "      <td>0.007</td>\n",
       "      <td>4</td>\n",
       "    </tr>\n",
       "    <tr>\n",
       "      <th>V1_kulturberika</th>\n",
       "      <td>2.607</td>\n",
       "      <td>4.251</td>\n",
       "      <td>0.056</td>\n",
       "      <td>[-0.0, 0.05]</td>\n",
       "      <td>2.233</td>\n",
       "      <td>0.718</td>\n",
       "      <td>0.007</td>\n",
       "      <td>18</td>\n",
       "      <td>0.691</td>\n",
       "      <td>0.020</td>\n",
       "      <td>5</td>\n",
       "    </tr>\n",
       "    <tr>\n",
       "      <th>N1_återvandring</th>\n",
       "      <td>4.974</td>\n",
       "      <td>13.404</td>\n",
       "      <td>0.000</td>\n",
       "      <td>[0.03, 0.07]</td>\n",
       "      <td>2.197</td>\n",
       "      <td>0.712</td>\n",
       "      <td>0.015</td>\n",
       "      <td>17</td>\n",
       "      <td>0.662</td>\n",
       "      <td>0.029</td>\n",
       "      <td>11</td>\n",
       "    </tr>\n",
       "    <tr>\n",
       "      <th>V1_återvandra</th>\n",
       "      <td>4.476</td>\n",
       "      <td>2.429</td>\n",
       "      <td>0.032</td>\n",
       "      <td>[0.01, 0.1]</td>\n",
       "      <td>3.423</td>\n",
       "      <td>0.679</td>\n",
       "      <td>0.014</td>\n",
       "      <td>17</td>\n",
       "      <td>0.627</td>\n",
       "      <td>0.016</td>\n",
       "      <td>3</td>\n",
       "    </tr>\n",
       "  </tbody>\n",
       "</table>\n",
       "</div>"
      ],
      "text/plain": [
       "                       T     dof  p-val         CI95%  cohen-d    M_A   sd_A  \\\n",
       "Term                                                                           \n",
       "N1_kulturberikare  2.270   7.589  0.055  [-0.0, 0.02]    1.414  0.717  0.005   \n",
       "V1_berika          5.420  33.707  0.000  [0.02, 0.05]    1.720  0.673  0.018   \n",
       "N1_globalist      -1.537   5.535  0.179  [-0.02, 0.0]    0.716  0.746  0.011   \n",
       "V1_kulturberika    2.607   4.251  0.056  [-0.0, 0.05]    2.233  0.718  0.007   \n",
       "N1_återvandring    4.974  13.404  0.000  [0.03, 0.07]    2.197  0.712  0.015   \n",
       "V1_återvandra      4.476   2.429  0.032   [0.01, 0.1]    3.423  0.679  0.014   \n",
       "\n",
       "                   N_A    M_B   sd_B  N_B  \n",
       "Term                                       \n",
       "N1_kulturberikare   22  0.705  0.013    8  \n",
       "V1_berika           23  0.637  0.023   19  \n",
       "N1_globalist        18  0.753  0.007    4  \n",
       "V1_kulturberika     18  0.691  0.020    5  \n",
       "N1_återvandring     17  0.662  0.029   11  \n",
       "V1_återvandra       17  0.627  0.016    3  "
      ]
     },
     "execution_count": 197,
     "metadata": {},
     "output_type": "execute_result"
    }
   ],
   "source": [
    "results = t(\n",
    "    fb_bert_iod, \n",
    "    years, \n",
    "    fm_bert_iod, \n",
    "    fm_years, \n",
    "    fm_sgns_lsc.index, \n",
    "    {\"A-Strategy\":\"rn\"},\n",
    "    \"I-cnt\",\n",
    "    collapse=False,\n",
    "    #ks=True\n",
    ")\n",
    "#print(results.to_latex(float_format=\"{:.3f}\".format))\n",
    "results"
   ]
  },
  {
   "cell_type": "markdown",
   "metadata": {},
   "source": [
    "## Correlation"
   ]
  },
  {
   "cell_type": "code",
   "execution_count": 218,
   "metadata": {},
   "outputs": [],
   "source": [
    "def compare(iod_data, term, criterion, method=pearsonr, years = years, add_mean=False):\n",
    "    \n",
    "    used = years + list(criterion.keys()) + [\"DWE\"] + [f\"{year}:{int(year)+1}\" for year in years[:-1]]\n",
    "    remains = [col for col in iod_data.columns if col not in used]\n",
    "    #print(remains)\n",
    "\n",
    "    df = iod_data.copy()\n",
    "    df = df[df[\"DWE\"] == term]\n",
    "    \n",
    "    if type(criterion) == dict:\n",
    "        criterion = criterion.items()\n",
    "    for var, val in criterion:\n",
    "        df = df[df[var]==val]\n",
    "    \n",
    "    df = df[years]\n",
    "    \n",
    "    labels = [\"-\".join(iod_data.loc[i][remains].to_list()) for i in df.index]\n",
    "    \n",
    "    df[\"labels\"] = labels\n",
    "    df = df.set_index(\"labels\")\n",
    "    \n",
    "    correlations = df.transpose().corr().round(3)\n",
    "    \n",
    "    if add_mean:\n",
    "        correlations[\"Mean\"] = correlations.mean(axis=1)\n",
    "    \n",
    "    return correlations\n",
    "        "
   ]
  },
  {
   "cell_type": "code",
   "execution_count": 221,
   "metadata": {},
   "outputs": [
    {
     "data": {
      "text/html": [
       "<div>\n",
       "<style scoped>\n",
       "    .dataframe tbody tr th:only-of-type {\n",
       "        vertical-align: middle;\n",
       "    }\n",
       "\n",
       "    .dataframe tbody tr th {\n",
       "        vertical-align: top;\n",
       "    }\n",
       "\n",
       "    .dataframe thead th {\n",
       "        text-align: right;\n",
       "    }\n",
       "</style>\n",
       "<table border=\"1\" class=\"dataframe\">\n",
       "  <thead>\n",
       "    <tr style=\"text-align: right;\">\n",
       "      <th>labels</th>\n",
       "      <th>I-cnt</th>\n",
       "      <th>O-cnt</th>\n",
       "      <th>cnt-ssc</th>\n",
       "      <th>cnt-smx</th>\n",
       "      <th>I-pwn</th>\n",
       "      <th>O-pwn</th>\n",
       "      <th>pwn-ssc</th>\n",
       "      <th>pwn-smx</th>\n",
       "    </tr>\n",
       "    <tr>\n",
       "      <th>labels</th>\n",
       "      <th></th>\n",
       "      <th></th>\n",
       "      <th></th>\n",
       "      <th></th>\n",
       "      <th></th>\n",
       "      <th></th>\n",
       "      <th></th>\n",
       "      <th></th>\n",
       "    </tr>\n",
       "  </thead>\n",
       "  <tbody>\n",
       "    <tr>\n",
       "      <th>I-cnt</th>\n",
       "      <td>1.000</td>\n",
       "      <td>0.973</td>\n",
       "      <td>-0.014</td>\n",
       "      <td>0.231</td>\n",
       "      <td>0.976</td>\n",
       "      <td>0.966</td>\n",
       "      <td>0.009</td>\n",
       "      <td>0.016</td>\n",
       "    </tr>\n",
       "    <tr>\n",
       "      <th>O-cnt</th>\n",
       "      <td>0.973</td>\n",
       "      <td>1.000</td>\n",
       "      <td>-0.236</td>\n",
       "      <td>0.000</td>\n",
       "      <td>0.955</td>\n",
       "      <td>0.988</td>\n",
       "      <td>-0.199</td>\n",
       "      <td>-0.189</td>\n",
       "    </tr>\n",
       "    <tr>\n",
       "      <th>cnt-ssc</th>\n",
       "      <td>-0.014</td>\n",
       "      <td>-0.236</td>\n",
       "      <td>1.000</td>\n",
       "      <td>0.938</td>\n",
       "      <td>-0.025</td>\n",
       "      <td>-0.196</td>\n",
       "      <td>0.901</td>\n",
       "      <td>0.818</td>\n",
       "    </tr>\n",
       "    <tr>\n",
       "      <th>cnt-smx</th>\n",
       "      <td>0.231</td>\n",
       "      <td>0.000</td>\n",
       "      <td>0.938</td>\n",
       "      <td>1.000</td>\n",
       "      <td>0.201</td>\n",
       "      <td>0.018</td>\n",
       "      <td>0.880</td>\n",
       "      <td>0.865</td>\n",
       "    </tr>\n",
       "    <tr>\n",
       "      <th>I-pwn</th>\n",
       "      <td>0.976</td>\n",
       "      <td>0.955</td>\n",
       "      <td>-0.025</td>\n",
       "      <td>0.201</td>\n",
       "      <td>1.000</td>\n",
       "      <td>0.978</td>\n",
       "      <td>0.064</td>\n",
       "      <td>0.073</td>\n",
       "    </tr>\n",
       "    <tr>\n",
       "      <th>O-pwn</th>\n",
       "      <td>0.966</td>\n",
       "      <td>0.988</td>\n",
       "      <td>-0.196</td>\n",
       "      <td>0.018</td>\n",
       "      <td>0.978</td>\n",
       "      <td>1.000</td>\n",
       "      <td>-0.138</td>\n",
       "      <td>-0.138</td>\n",
       "    </tr>\n",
       "    <tr>\n",
       "      <th>pwn-ssc</th>\n",
       "      <td>0.009</td>\n",
       "      <td>-0.199</td>\n",
       "      <td>0.901</td>\n",
       "      <td>0.880</td>\n",
       "      <td>0.064</td>\n",
       "      <td>-0.138</td>\n",
       "      <td>1.000</td>\n",
       "      <td>0.958</td>\n",
       "    </tr>\n",
       "    <tr>\n",
       "      <th>pwn-smx</th>\n",
       "      <td>0.016</td>\n",
       "      <td>-0.189</td>\n",
       "      <td>0.818</td>\n",
       "      <td>0.865</td>\n",
       "      <td>0.073</td>\n",
       "      <td>-0.138</td>\n",
       "      <td>0.958</td>\n",
       "      <td>1.000</td>\n",
       "    </tr>\n",
       "  </tbody>\n",
       "</table>\n",
       "</div>"
      ],
      "text/plain": [
       "labels   I-cnt  O-cnt  cnt-ssc  cnt-smx  I-pwn  O-pwn  pwn-ssc  pwn-smx\n",
       "labels                                                                 \n",
       "I-cnt    1.000  0.973   -0.014    0.231  0.976  0.966    0.009    0.016\n",
       "O-cnt    0.973  1.000   -0.236    0.000  0.955  0.988   -0.199   -0.189\n",
       "cnt-ssc -0.014 -0.236    1.000    0.938 -0.025 -0.196    0.901    0.818\n",
       "cnt-smx  0.231  0.000    0.938    1.000  0.201  0.018    0.880    0.865\n",
       "I-pwn    0.976  0.955   -0.025    0.201  1.000  0.978    0.064    0.073\n",
       "O-pwn    0.966  0.988   -0.196    0.018  0.978  1.000   -0.138   -0.138\n",
       "pwn-ssc  0.009 -0.199    0.901    0.880  0.064 -0.138    1.000    0.958\n",
       "pwn-smx  0.016 -0.189    0.818    0.865  0.073 -0.138    0.958    1.000"
      ]
     },
     "execution_count": 221,
     "metadata": {},
     "output_type": "execute_result"
    }
   ],
   "source": [
    "compare(iod_data=fb_sgns_w15_200_iod, term=\"V1_berika\", criterion={\"A-Strategy\":\"ms1\", \"B-Strategy\": \"top3\"}, years=years)"
   ]
  },
  {
   "cell_type": "code",
   "execution_count": null,
   "metadata": {},
   "outputs": [],
   "source": [
    "# x =  fm_sgns_iod.drop(\"2022\", axis=1)\n",
    "# compare(iod_data=x, term=\"V1_berika\", criterion={\"A-Strategy\":\"ms1\", \"B-Strategy\": \"top3\"}, years=fm_years)"
   ]
  },
  {
   "cell_type": "code",
   "execution_count": null,
   "metadata": {},
   "outputs": [],
   "source": []
  },
  {
   "cell_type": "code",
   "execution_count": null,
   "metadata": {},
   "outputs": [],
   "source": []
  },
  {
   "cell_type": "code",
   "execution_count": null,
   "metadata": {},
   "outputs": [],
   "source": []
  },
  {
   "cell_type": "markdown",
   "metadata": {},
   "source": [
    "## Correlation of *I* and *O*"
   ]
  },
  {
   "cell_type": "markdown",
   "metadata": {},
   "source": [
    "Ingroup and outgroup are to a large extent correlated. For the SGNS models this is kind of expected given the semantic space the embeddings are trained in. For the SBERT-KB models this is more surprising. "
   ]
  },
  {
   "cell_type": "markdown",
   "metadata": {},
   "source": [
    "### SGNS - Flashback"
   ]
  },
  {
   "cell_type": "code",
   "execution_count": 228,
   "metadata": {
    "scrolled": true
   },
   "outputs": [
    {
     "data": {
      "text/html": [
       "<div>\n",
       "<style scoped>\n",
       "    .dataframe tbody tr th:only-of-type {\n",
       "        vertical-align: middle;\n",
       "    }\n",
       "\n",
       "    .dataframe tbody tr th {\n",
       "        vertical-align: top;\n",
       "    }\n",
       "\n",
       "    .dataframe thead th {\n",
       "        text-align: right;\n",
       "    }\n",
       "</style>\n",
       "<table border=\"1\" class=\"dataframe\">\n",
       "  <thead>\n",
       "    <tr style=\"text-align: right;\">\n",
       "      <th></th>\n",
       "      <th>r-sgns-fb</th>\n",
       "    </tr>\n",
       "  </thead>\n",
       "  <tbody>\n",
       "    <tr>\n",
       "      <th>N1_kulturberikare</th>\n",
       "      <td>0.899</td>\n",
       "    </tr>\n",
       "    <tr>\n",
       "      <th>V1_berika</th>\n",
       "      <td>0.972</td>\n",
       "    </tr>\n",
       "    <tr>\n",
       "      <th>N1_globalist</th>\n",
       "      <td>0.700</td>\n",
       "    </tr>\n",
       "    <tr>\n",
       "      <th>V1_kulturberika</th>\n",
       "      <td>0.635</td>\n",
       "    </tr>\n",
       "    <tr>\n",
       "      <th>N1_återvandring</th>\n",
       "      <td>-0.646</td>\n",
       "    </tr>\n",
       "    <tr>\n",
       "      <th>V1_återvandra</th>\n",
       "      <td>0.188</td>\n",
       "    </tr>\n",
       "  </tbody>\n",
       "</table>\n",
       "</div>"
      ],
      "text/plain": [
       "                   r-sgns-fb\n",
       "N1_kulturberikare      0.899\n",
       "V1_berika              0.972\n",
       "N1_globalist           0.700\n",
       "V1_kulturberika        0.635\n",
       "N1_återvandring       -0.646\n",
       "V1_återvandra          0.188"
      ]
     },
     "execution_count": 228,
     "metadata": {},
     "output_type": "execute_result"
    }
   ],
   "source": [
    "correlations = []\n",
    "for term in fm_sgns_lsc.index:\n",
    "    r = compare(iod_data=fb_sgns_w15_200_iod, term=term, criterion={\"A-Strategy\":\"top3\", \"B-Strategy\": \"lazy\"}, years=years)\n",
    "    score = r.loc[\"I-cnt\"][\"O-cnt\"]\n",
    "    correlations.append(score)\n",
    "df1 = pd.DataFrame(correlations, index = fm_sgns_lsc.index, columns = [\"r-sgns-fb\"])\n",
    "df1"
   ]
  },
  {
   "cell_type": "markdown",
   "metadata": {},
   "source": [
    "### SGNS - Familjeliv"
   ]
  },
  {
   "cell_type": "code",
   "execution_count": null,
   "metadata": {
    "scrolled": true
   },
   "outputs": [],
   "source": [
    "x = fm_sgns_iod\n",
    "correlations = []\n",
    "\n",
    "for term in fm_sgns_lsc.index:\n",
    "    r = compare(iod_data=x, term=term, criterion={\"A-Strategy\":\"ms1\", \"B-Strategy\": \"top3\"}, years=fm_years)\n",
    "    score = r.loc[\"I-cnt\"][\"O-cnt\"]\n",
    "    correlations.append(score)\n",
    "df2 = pd.DataFrame(correlations, index = fm_sgns_lsc.index, columns = [\"r-sgns-fl\"])\n",
    "df2"
   ]
  },
  {
   "cell_type": "markdown",
   "metadata": {},
   "source": [
    "### SBERT - Flashback"
   ]
  },
  {
   "cell_type": "code",
   "execution_count": null,
   "metadata": {
    "scrolled": true
   },
   "outputs": [],
   "source": [
    "correlations = []\n",
    "for term in fm_sgns_lsc.index:\n",
    "    r = compare(iod_data=fb_kb_iod, term=term, criterion={\"A-Strategy\":\"rn\"}, years=years)\n",
    "    score = r.loc[\"I-cnt\"][\"O-cnt\"]\n",
    "    correlations.append(score)\n",
    "df3 = pd.DataFrame(correlations, index = fm_sgns_lsc.index, columns = [\"r-sbert-fb\"])\n",
    "df3"
   ]
  },
  {
   "cell_type": "code",
   "execution_count": null,
   "metadata": {
    "scrolled": true
   },
   "outputs": [],
   "source": [
    "correlations = []\n",
    "for term in fm_sgns_lsc.index:\n",
    "    r = compare(iod_data=kb_iod, term=term, criterion={\"A-Strategy\":\"top3\"}, years=years)\n",
    "    score = r.loc[\"I-cnt\"][\"O-cnt\"]\n",
    "    correlations.append(score)\n",
    "df3 = pd.DataFrame(correlations, index = fm_sgns_lsc.index, columns = [\"r-sbert-fb\"])\n",
    "df3"
   ]
  },
  {
   "cell_type": "markdown",
   "metadata": {},
   "source": [
    "STS:"
   ]
  },
  {
   "cell_type": "code",
   "execution_count": null,
   "metadata": {
    "scrolled": true
   },
   "outputs": [],
   "source": [
    "correlations = []\n",
    "for term in fm_sgns_lsc.index:\n",
    "    r = compare(iod_data=fb_sts_iod, term=term, criterion={\"A-Strategy\":\"rn\"}, years=years)\n",
    "    score = r.loc[\"I-cnt\"][\"O-cnt\"]\n",
    "    correlations.append(score)\n",
    "df3 = pd.DataFrame(correlations, index = fm_sgns_lsc.index, columns = [\"r-sbert-fb\"])\n",
    "df3"
   ]
  },
  {
   "cell_type": "markdown",
   "metadata": {},
   "source": [
    "### berT5 - Flashback"
   ]
  },
  {
   "cell_type": "code",
   "execution_count": 225,
   "metadata": {
    "scrolled": true
   },
   "outputs": [
    {
     "data": {
      "text/html": [
       "<div>\n",
       "<style scoped>\n",
       "    .dataframe tbody tr th:only-of-type {\n",
       "        vertical-align: middle;\n",
       "    }\n",
       "\n",
       "    .dataframe tbody tr th {\n",
       "        vertical-align: top;\n",
       "    }\n",
       "\n",
       "    .dataframe thead th {\n",
       "        text-align: right;\n",
       "    }\n",
       "</style>\n",
       "<table border=\"1\" class=\"dataframe\">\n",
       "  <thead>\n",
       "    <tr style=\"text-align: right;\">\n",
       "      <th></th>\n",
       "      <th>r-sbert-fb</th>\n",
       "    </tr>\n",
       "  </thead>\n",
       "  <tbody>\n",
       "    <tr>\n",
       "      <th>N1_kulturberikare</th>\n",
       "      <td>0.986</td>\n",
       "    </tr>\n",
       "    <tr>\n",
       "      <th>V1_berika</th>\n",
       "      <td>0.998</td>\n",
       "    </tr>\n",
       "    <tr>\n",
       "      <th>N1_globalist</th>\n",
       "      <td>0.983</td>\n",
       "    </tr>\n",
       "    <tr>\n",
       "      <th>V1_kulturberika</th>\n",
       "      <td>0.982</td>\n",
       "    </tr>\n",
       "    <tr>\n",
       "      <th>N1_återvandring</th>\n",
       "      <td>0.999</td>\n",
       "    </tr>\n",
       "    <tr>\n",
       "      <th>V1_återvandra</th>\n",
       "      <td>0.984</td>\n",
       "    </tr>\n",
       "  </tbody>\n",
       "</table>\n",
       "</div>"
      ],
      "text/plain": [
       "                   r-sbert-fb\n",
       "N1_kulturberikare       0.986\n",
       "V1_berika               0.998\n",
       "N1_globalist            0.983\n",
       "V1_kulturberika         0.982\n",
       "N1_återvandring         0.999\n",
       "V1_återvandra           0.984"
      ]
     },
     "execution_count": 225,
     "metadata": {},
     "output_type": "execute_result"
    }
   ],
   "source": [
    "correlations = []\n",
    "for term in fm_sgns_lsc.index:\n",
    "    r = compare(iod_data=fb_bert_iod, term=term, criterion={\"A-Strategy\":\"rn\"}, years=years)\n",
    "    score = r.loc[\"I-cnt\"][\"O-cnt\"]\n",
    "    correlations.append(score)\n",
    "df_bert = pd.DataFrame(correlations, index = fm_sgns_lsc.index, columns = [\"r-sbert-fb\"])\n",
    "df_bert"
   ]
  },
  {
   "cell_type": "markdown",
   "metadata": {},
   "source": [
    "### SBERT - Familjeliv"
   ]
  },
  {
   "cell_type": "code",
   "execution_count": null,
   "metadata": {
    "scrolled": true
   },
   "outputs": [],
   "source": [
    "#x = fm_kb_iod.drop(\"2022\", axis=1)\n",
    "correlations = []\n",
    "\n",
    "for term in fm_sgns_lsc.index:\n",
    "    r = compare(iod_data=fm_kb_iod, term=term, criterion={\"A-Strategy\":\"rn\"}, years=fm_years)\n",
    "    score = r.loc[\"I-cnt\"][\"O-cnt\"]\n",
    "    correlations.append(score)\n",
    "df4 = pd.DataFrame(correlations, index = fm_sgns_lsc.index, columns = [\"r-sbert-fl\"])\n",
    "df4"
   ]
  },
  {
   "cell_type": "code",
   "execution_count": null,
   "metadata": {},
   "outputs": [],
   "source": [
    "print(pd.concat([df1, df2, df3, df4], axis=1).to_latex(float_format=\"{:.3f}\".format))"
   ]
  },
  {
   "cell_type": "markdown",
   "metadata": {},
   "source": [
    "# Appendix"
   ]
  },
  {
   "cell_type": "markdown",
   "metadata": {},
   "source": [
    "## Appendix: Individual regression models"
   ]
  },
  {
   "cell_type": "markdown",
   "metadata": {},
   "source": [
    "### SGNS"
   ]
  },
  {
   "cell_type": "code",
   "execution_count": null,
   "metadata": {},
   "outputs": [],
   "source": [
    "sgns"
   ]
  },
  {
   "cell_type": "code",
   "execution_count": null,
   "metadata": {},
   "outputs": [],
   "source": [
    "# iod_var = \"cnt-ssc_dif\"\n",
    "iod_var = \"cnt-ssc_dif\"\n",
    "indep = [\n",
    "    iod_var, \n",
    "    \"fpc\", #'fdf','adf', 'fpc', 'apc'\n",
    "    #\"fpm_rnk\",\n",
    "    \"fpm_log\",\n",
    "#     \"fpm\"\n",
    "]\n",
    "dep=\"gch\"\n",
    "LOG_IOD = False\n",
    "LOG_DEP = False"
   ]
  },
  {
   "cell_type": "code",
   "execution_count": null,
   "metadata": {},
   "outputs": [],
   "source": [
    "DWE      = ['V1_berika', 'N1_globalist', 'N1_återvandring', 'N1_förortsgäng']\n",
    "ABSTRAT  = {\"A-Strategy\":\"ms1\", \"B-Strategy\":\"min0.2\"}\n",
    "YEARS    = years\n",
    "METHODS  = [\"I-cnt\", \"O-cnt\", \"cnt-ssc\", \"cnt-smx\"]\n",
    "BASELINE = \"first\""
   ]
  },
  {
   "cell_type": "markdown",
   "metadata": {},
   "source": [
    "##### W5, dim200"
   ]
  },
  {
   "cell_type": "code",
   "execution_count": null,
   "metadata": {},
   "outputs": [],
   "source": [
    "data = data2data(\n",
    "    iod_data = fb_sgns_w5_200_iod, \n",
    "    lsc_data = fb_sgns_lsc_w5_200, \n",
    "    dwes     = DWE,\n",
    "    AB_strat = ABSTRAT, \n",
    "    years    = YEARS,\n",
    "    methods  = METHODS,\n",
    "    baseline = BASELINE\n",
    ")\n",
    "\n",
    "data = revise_data(data, indep, dep, iod_var, log_iod=LOG_IOD)\n",
    "#data = data[indep+[dep]]\n",
    "#data = data.dropna()\n",
    "#data[iod_var] = abs(data[iod_var])\n",
    "#data[iod_var] = np.log10(data[iod_var])\n",
    "\n",
    "res_sgns_w5_200 = OLS(data, dep, indep, transform_dep=LOG_DEP)#, dep_transformer=\"box-cox\" )\n",
    "res_sgns_w5_200.summary()"
   ]
  },
  {
   "cell_type": "code",
   "execution_count": null,
   "metadata": {},
   "outputs": [],
   "source": [
    "# data2data(\n",
    "#     iod_data = fb_sgns_w5_200_iod, \n",
    "#     lsc_data = fb_sgns_lsc_w5_200, \n",
    "#     dwes     = DWE,\n",
    "#     AB_strat = ABSTRAT, \n",
    "#     years    = YEARS,\n",
    "#     methods  = METHODS,\n",
    "#     baseline = BASELINE\n",
    "# ).columns"
   ]
  },
  {
   "cell_type": "code",
   "execution_count": null,
   "metadata": {},
   "outputs": [],
   "source": [
    "sns.heatmap(data[indep].corr(), annot=True)"
   ]
  },
  {
   "cell_type": "code",
   "execution_count": null,
   "metadata": {},
   "outputs": [],
   "source": [
    "sns.histplot(data['fpm'])"
   ]
  },
  {
   "cell_type": "markdown",
   "metadata": {},
   "source": [
    "##### W10, dim200"
   ]
  },
  {
   "cell_type": "code",
   "execution_count": null,
   "metadata": {},
   "outputs": [],
   "source": [
    "data = data2data(\n",
    "    iod_data = fb_sgns_w10_200_iod, \n",
    "    lsc_data = fb_sgns_lsc_w10_200, \n",
    "    dwes     = DWE,\n",
    "    AB_strat = ABSTRAT, \n",
    "    years    = YEARS,\n",
    "    methods  = METHODS,\n",
    "    baseline = BASELINE\n",
    ")\n",
    "\n",
    "data = data[indep+[dep]]\n",
    "data = data.dropna()\n",
    "data[iod_var] = abs(data[iod_var]) \n",
    "\n",
    "res_sgns_w10_200 = OLS(data, \"gch\", indep, transform_dep=LOG_DEP)#, dep_transformer=\"box-cox\" )\n",
    "res_sgns_w10_200.summary()"
   ]
  },
  {
   "cell_type": "markdown",
   "metadata": {},
   "source": [
    "##### W15, dim200"
   ]
  },
  {
   "cell_type": "code",
   "execution_count": null,
   "metadata": {
    "scrolled": true
   },
   "outputs": [],
   "source": [
    "data = data2data(\n",
    "    iod_data = fb_sgns_w15_200_iod, \n",
    "    lsc_data = fb_sgns_lsc_w15_200, \n",
    "    dwes     = DWE,\n",
    "    AB_strat = ABSTRAT, \n",
    "    years    = YEARS,\n",
    "    methods  = METHODS,\n",
    "    baseline = BASELINE\n",
    ")\n",
    "\n",
    "data = data[indep+[dep]]\n",
    "data = data.dropna()\n",
    "data[iod_var] = abs(data[iod_var]) \n",
    "\n",
    "res_sgns_w15_200  = OLS(data, \"gch\", indep, transform_dep=LOG_DEP)#, dep_transformer=\"box-cox\" )\n",
    "res_sgns_w15_200.summary()"
   ]
  },
  {
   "cell_type": "code",
   "execution_count": null,
   "metadata": {},
   "outputs": [],
   "source": [
    "plt.scatter(zscore(data[iod_var]), zscore(data[dep]))\n",
    "plt.show()\n",
    "plt.scatter(data[iod_var], data[dep])\n",
    "plt.show()"
   ]
  },
  {
   "cell_type": "code",
   "execution_count": null,
   "metadata": {
    "scrolled": true
   },
   "outputs": [],
   "source": [
    "gch, iod = zip(*sorted(zip(data[\"gch\"], data[\"cnt-ssc_dif\"])))\n",
    "plt.plot(range(len(gch)), zscore(gch))\n",
    "plt.plot(range(len(iod)), zscore(iod))\n",
    "plt.show()"
   ]
  },
  {
   "cell_type": "markdown",
   "metadata": {},
   "source": [
    "##### NLPL-init vectors"
   ]
  },
  {
   "cell_type": "code",
   "execution_count": null,
   "metadata": {},
   "outputs": [],
   "source": [
    "data = data2data(\n",
    "    iod_data = fb_sgns_iod_nlpl, \n",
    "    lsc_data = fb_sgns_lsc_nlpl, \n",
    "    dwes     = DWE,\n",
    "    AB_strat = ABSTRAT, \n",
    "    years    = YEARS,\n",
    "    methods  = METHODS,\n",
    "    baseline = BASELINE\n",
    ")\n",
    "\n",
    "data = data[indep+[dep]]\n",
    "data = data.dropna()\n",
    "data[iod_var] = abs(data[iod_var]) \n",
    "\n",
    "res_sgns_nlpl = OLS(data, \"gch\", indep, transform_dep=LOG_DEP)#, dep_transformer=\"box-cox\" )\n",
    "res_sgns_nlpl.summary()"
   ]
  },
  {
   "cell_type": "markdown",
   "metadata": {},
   "source": [
    "##### Original models"
   ]
  },
  {
   "cell_type": "code",
   "execution_count": null,
   "metadata": {},
   "outputs": [],
   "source": [
    "data = data2data(\n",
    "    iod_data = fb_sgns_iod, \n",
    "    lsc_data = fb_sgns_lsc, \n",
    "    dwes     = DWE,\n",
    "    AB_strat = ABSTRAT, \n",
    "    years    = YEARS,\n",
    "    methods  = METHODS,\n",
    "    baseline = BASELINE\n",
    ")\n",
    "\n",
    "data = data[indep+[dep]]\n",
    "data = data.dropna()\n",
    "data[iod_var] = abs(data[iod_var]) \n",
    "\n",
    "res_sgns_orig = OLS(data, \"gch\", indep, transform_dep=LOG_DEP)#, dep_transformer=\"box-cox\" )\n",
    "res_sgns_orig.summary()"
   ]
  },
  {
   "cell_type": "markdown",
   "metadata": {},
   "source": [
    "##### W5, dim100"
   ]
  },
  {
   "cell_type": "code",
   "execution_count": null,
   "metadata": {},
   "outputs": [],
   "source": [
    "data = data2data(\n",
    "    iod_data = fb_sgns_w5_iod, \n",
    "    lsc_data = fb_sgns_lsc_w5, \n",
    "    dwes     = DWE,\n",
    "    AB_strat = ABSTRAT, \n",
    "    years    = YEARS,\n",
    "    methods  = METHODS,\n",
    "    baseline = BASELINE\n",
    ")\n",
    "\n",
    "data = data[indep+[dep]]\n",
    "data = data.dropna()\n",
    "data[iod_var] = abs(data[iod_var]) \n",
    "\n",
    "res_sgns_w5_100 = OLS(data, \"gch\", indep, transform_dep=LOG_DEP)#, dep_transformer=\"box-cox\" )\n",
    "res_sgns_w5_100.summary()"
   ]
  },
  {
   "cell_type": "markdown",
   "metadata": {},
   "source": [
    "##### W10, dim100"
   ]
  },
  {
   "cell_type": "code",
   "execution_count": null,
   "metadata": {},
   "outputs": [],
   "source": [
    "data = data2data(\n",
    "    iod_data = fb_sgns_w10_iod, \n",
    "    lsc_data = fb_sgns_lsc_w10, \n",
    "    dwes     = DWE,\n",
    "    AB_strat = ABSTRAT, \n",
    "    years    = YEARS,\n",
    "    methods  = METHODS,\n",
    "    baseline = BASELINE\n",
    ")\n",
    "\n",
    "data = data[indep+[dep]]\n",
    "data = data.dropna()\n",
    "data[iod_var] = abs(data[iod_var]) \n",
    "\n",
    "res_sgns_w10_100 = OLS(data, \"gch\", indep, transform_dep=LOG_DEP)#, dep_transformer=\"box-cox\" )\n",
    "res_sgns_w10_100.summary()"
   ]
  },
  {
   "cell_type": "markdown",
   "metadata": {},
   "source": [
    "##### W15, dim100"
   ]
  },
  {
   "cell_type": "code",
   "execution_count": null,
   "metadata": {},
   "outputs": [],
   "source": [
    "data = data2data(\n",
    "    iod_data = fb_sgns_w15_iod, \n",
    "    lsc_data = fb_sgns_lsc_w15, \n",
    "    dwes     = DWE,\n",
    "    AB_strat = ABSTRAT, \n",
    "    years    = YEARS,\n",
    "    methods  = METHODS,\n",
    "    baseline = BASELINE\n",
    ")\n",
    "\n",
    "data = data[indep+[dep]]\n",
    "data = data.dropna()\n",
    "data[iod_var] = abs(data[iod_var]) \n",
    "\n",
    "res_sgns_w15_100 = OLS(data, \"gch\", indep, transform_dep=LOG_DEP)#, dep_transformer=\"box-cox\" )\n",
    "res_sgns_w15_100.summary()"
   ]
  },
  {
   "cell_type": "markdown",
   "metadata": {},
   "source": [
    "#### Comparison"
   ]
  },
  {
   "cell_type": "code",
   "execution_count": null,
   "metadata": {},
   "outputs": [],
   "source": [
    "dfs = []\n",
    "\n",
    "df_w5 = data2data(\n",
    "    iod_data = fb_sgns_w5_iod, \n",
    "    lsc_data = fb_sgns_lsc_w5, \n",
    "#    dwes     = sgns_lsc.index, \n",
    "    dwes     = ['V1_berika', 'N1_globalist', 'N1_återvandring', 'N1_förortsgäng'],\n",
    "    AB_strat = {\"A-Strategy\":\"ms1\", \"B-Strategy\":\"min0.2\"}, \n",
    "    years    = years,\n",
    "    methods  = [\"I-cnt\", \"O-cnt\", \"cnt-ssc\", \"cnt-smx\"],\n",
    ")\n",
    "dfs.append(df_w5[dep].rename(\"w5-100\"))\n",
    "\n",
    "df_w5_200 = data2data(\n",
    "    iod_data = fb_sgns_w5_200_iod, \n",
    "    lsc_data = fb_sgns_lsc_w5_200, \n",
    "#    dwes     = sgns_lsc.index, \n",
    "    dwes     = ['V1_berika', 'N1_globalist', 'N1_återvandring', 'N1_förortsgäng'],\n",
    "    AB_strat = {\"A-Strategy\":\"ms1\", \"B-Strategy\":\"min0.2\"}, \n",
    "    years    = years,\n",
    "    methods  = [\"I-cnt\", \"O-cnt\", \"cnt-ssc\", \"cnt-smx\"],\n",
    ")\n",
    "dfs.append(df_w5_200[dep].rename(\"w5-200\"))\n",
    "\n",
    "df_w10= data2data(\n",
    "    iod_data = fb_sgns_w10_iod, \n",
    "    lsc_data = fb_sgns_lsc_w10, \n",
    "#    dwes     = sgns_lsc.index, \n",
    "    dwes     = ['V1_berika', 'N1_globalist', 'N1_återvandring', 'N1_förortsgäng'],\n",
    "    AB_strat = {\"A-Strategy\":\"ms1\", \"B-Strategy\":\"min0.2\"}, \n",
    "    years    = years,\n",
    "    methods  = [\"I-cnt\", \"O-cnt\", \"cnt-ssc\", \"cnt-smx\"],\n",
    ")\n",
    "dfs.append(df_w10[dep].rename(\"w10-100\"))\n",
    "\n",
    "df_w10_200 = data2data(\n",
    "    iod_data = fb_sgns_w10_200_iod, \n",
    "    lsc_data = fb_sgns_lsc_w10_200, \n",
    "#    dwes     = sgns_lsc.index, \n",
    "    dwes     = ['V1_berika', 'N1_globalist', 'N1_återvandring', 'N1_förortsgäng'],\n",
    "    AB_strat = {\"A-Strategy\":\"ms1\", \"B-Strategy\":\"min0.2\"}, \n",
    "    years    = years,\n",
    "    methods  = [\"I-cnt\", \"O-cnt\", \"cnt-ssc\", \"cnt-smx\"],\n",
    ")\n",
    "dfs.append(df_w10_200[dep].rename(\"w10_200\"))\n",
    "\n",
    "df_w15= data2data(\n",
    "    iod_data = fb_sgns_w15_iod, \n",
    "    lsc_data = fb_sgns_lsc_w15, \n",
    "#    dwes     = sgns_lsc.index, \n",
    "    dwes     = ['V1_berika', 'N1_globalist', 'N1_återvandring', 'N1_förortsgäng'],\n",
    "    AB_strat = {\"A-Strategy\":\"ms1\", \"B-Strategy\":\"min0.2\"}, \n",
    "    years    = years,\n",
    "    methods  = [\"I-cnt\", \"O-cnt\", \"cnt-ssc\", \"cnt-smx\"],\n",
    ")\n",
    "dfs.append(df_w15[dep].rename(\"w15-100\"))\n",
    "\n",
    "df_w15_200 = data2data(\n",
    "    iod_data = fb_sgns_w15_200_iod, \n",
    "    lsc_data = fb_sgns_lsc_w15_200, \n",
    "#    dwes     = sgns_lsc.index, \n",
    "    dwes     = ['V1_berika', 'N1_globalist', 'N1_återvandring', 'N1_förortsgäng'],\n",
    "    AB_strat = {\"A-Strategy\":\"ms1\", \"B-Strategy\":\"min0.2\"}, \n",
    "    years    = years,\n",
    "    methods  = [\"I-cnt\", \"O-cnt\", \"cnt-ssc\", \"cnt-smx\"],\n",
    ")\n",
    "dfs.append(df_w15_200[dep].rename(\"w15_200\"))\n",
    "\n",
    "df_nlpl= data2data(\n",
    "    iod_data = fb_sgns_iod_nlpl, \n",
    "    lsc_data = fb_sgns_lsc_nlpl, \n",
    "#    dwes     = sgns_lsc.index, \n",
    "    dwes     = ['V1_berika', 'N1_globalist', 'N1_återvandring', 'N1_förortsgäng'],\n",
    "    AB_strat = {\"A-Strategy\":\"ms1\", \"B-Strategy\":\"min0.2\"}, \n",
    "    years    = years,\n",
    "    methods  = [\"I-cnt\", \"O-cnt\", \"cnt-ssc\", \"cnt-smx\"],\n",
    ")\n",
    "dfs.append(df_nlpl[dep].rename(\"nlpl\"))\n",
    "\n",
    "df_orig= data2data(\n",
    "    iod_data = fb_sgns_iod, \n",
    "    lsc_data = fb_sgns_lsc, \n",
    "#    dwes     = sgns_lsc.index, \n",
    "    dwes     = ['V1_berika', 'N1_globalist', 'N1_återvandring', 'N1_förortsgäng'],\n",
    "    AB_strat = {\"A-Strategy\":\"ms1\", \"B-Strategy\":\"min0.2\"}, \n",
    "    years    = years,\n",
    "    methods  = [\"I-cnt\", \"O-cnt\", \"cnt-ssc\", \"cnt-smx\"],\n",
    ")\n",
    "dfs.append(df_orig[dep].rename(\"orig\"))\n",
    "\n",
    "plt.figure(figsize=(8,8))\n",
    "sns.heatmap(pd.concat(dfs, axis=1).corr(), annot=True)\n",
    "plt.show()"
   ]
  },
  {
   "cell_type": "code",
   "execution_count": null,
   "metadata": {},
   "outputs": [],
   "source": [
    "dfs = []\n",
    "V = \"cnt-ssc_dif\"\n",
    "df_w5 = data2data(\n",
    "    iod_data = fb_sgns_w5_iod, \n",
    "    lsc_data = fb_sgns_lsc_w5, \n",
    "#    dwes     = sgns_lsc.index, \n",
    "    dwes     = ['V1_berika', 'N1_globalist', 'N1_återvandring', 'N1_förortsgäng'],\n",
    "    AB_strat = {\"A-Strategy\":\"ms1\", \"B-Strategy\":\"min0.2\"}, \n",
    "    years    = years,\n",
    "    methods  = [\"I-cnt\", \"O-cnt\", \"cnt-ssc\", \"cnt-smx\"],\n",
    ")\n",
    "dfs.append(abs(df_w5[V]).rename(\"w5-100\"))\n",
    "\n",
    "df_w10= data2data(\n",
    "    iod_data = fb_sgns_w10_iod, \n",
    "    lsc_data = fb_sgns_lsc_w10, \n",
    "#    dwes     = sgns_lsc.index, \n",
    "    dwes     = ['V1_berika', 'N1_globalist', 'N1_återvandring', 'N1_förortsgäng'],\n",
    "    AB_strat = {\"A-Strategy\":\"ms1\", \"B-Strategy\":\"min0.2\"}, \n",
    "    years    = years,\n",
    "    methods  = [\"I-cnt\", \"O-cnt\", \"cnt-ssc\", \"cnt-smx\"],\n",
    ")\n",
    "dfs.append(abs(df_w10[V]).rename(\"w10-100\"))\n",
    "\n",
    "df_w15= data2data(\n",
    "    iod_data = fb_sgns_w15_iod, \n",
    "    lsc_data = fb_sgns_lsc_w15, \n",
    "#    dwes     = sgns_lsc.index, \n",
    "    dwes     = ['V1_berika', 'N1_globalist', 'N1_återvandring', 'N1_förortsgäng'],\n",
    "    AB_strat = {\"A-Strategy\":\"ms1\", \"B-Strategy\":\"min0.2\"}, \n",
    "    years    = years,\n",
    "    methods  = [\"I-cnt\", \"O-cnt\", \"cnt-ssc\", \"cnt-smx\"],\n",
    ")\n",
    "dfs.append(abs(df_w15[V]).rename(\"w15-100\"))\n",
    "\n",
    "df_w5_200 = data2data(\n",
    "    iod_data = fb_sgns_w5_200_iod, \n",
    "    lsc_data = fb_sgns_lsc_w5_200, \n",
    "#    dwes     = sgns_lsc.index, \n",
    "    dwes     = ['V1_berika', 'N1_globalist', 'N1_återvandring', 'N1_förortsgäng'],\n",
    "    AB_strat = {\"A-Strategy\":\"ms1\", \"B-Strategy\":\"min0.2\"}, \n",
    "    years    = years,\n",
    "    methods  = [\"I-cnt\", \"O-cnt\", \"cnt-ssc\", \"cnt-smx\"],\n",
    ")\n",
    "dfs.append(abs(df_w5_200[V]).rename(\"w5-200\"))\n",
    "\n",
    "df_w10_200= data2data(\n",
    "    iod_data = fb_sgns_w10_200_iod, \n",
    "    lsc_data = fb_sgns_lsc_w10, \n",
    "#    dwes     = sgns_lsc.index, \n",
    "    dwes     = ['V1_berika', 'N1_globalist', 'N1_återvandring', 'N1_förortsgäng'],\n",
    "    AB_strat = {\"A-Strategy\":\"ms1\", \"B-Strategy\":\"min0.2\"}, \n",
    "    years    = years,\n",
    "    methods  = [\"I-cnt\", \"O-cnt\", \"cnt-ssc\", \"cnt-smx\"],\n",
    ")\n",
    "dfs.append(abs(df_w10_200[V]).rename(\"w10-200\"))\n",
    "\n",
    "df_w15_200= data2data(\n",
    "    iod_data = fb_sgns_w15_200_iod, \n",
    "    lsc_data = fb_sgns_lsc_w15_200, \n",
    "#    dwes     = sgns_lsc.index, \n",
    "    dwes     = ['V1_berika', 'N1_globalist', 'N1_återvandring', 'N1_förortsgäng'],\n",
    "    AB_strat = {\"A-Strategy\":\"ms1\", \"B-Strategy\":\"min0.2\"}, \n",
    "    years    = years,\n",
    "    methods  = [\"I-cnt\", \"O-cnt\", \"cnt-ssc\", \"cnt-smx\"],\n",
    ")\n",
    "dfs.append(abs(df_w15_200[V]).rename(\"w15-200\"))\n",
    "\n",
    "df_nlpl= data2data(\n",
    "    iod_data = fb_sgns_iod_nlpl, \n",
    "    lsc_data = fb_sgns_lsc_nlpl, \n",
    "#    dwes     = sgns_lsc.index, \n",
    "    dwes     = ['V1_berika', 'N1_globalist', 'N1_återvandring', 'N1_förortsgäng'],\n",
    "    AB_strat = {\"A-Strategy\":\"ms1\", \"B-Strategy\":\"min0.2\"}, \n",
    "    years    = years,\n",
    "    methods  = [\"I-cnt\", \"O-cnt\", \"cnt-ssc\", \"cnt-smx\"],\n",
    ")\n",
    "dfs.append(abs(df_nlpl[V]).rename(\"nlpl\"))\n",
    "\n",
    "df_orig= data2data(\n",
    "    iod_data = fb_sgns_iod, \n",
    "    lsc_data = fb_sgns_lsc, \n",
    "#    dwes     = sgns_lsc.index, \n",
    "    dwes     = ['V1_berika', 'N1_globalist', 'N1_återvandring', 'N1_förortsgäng'],\n",
    "    AB_strat = {\"A-Strategy\":\"ms1\", \"B-Strategy\":\"min0.2\"}, \n",
    "    years    = years,\n",
    "    methods  = [\"I-cnt\", \"O-cnt\", \"cnt-ssc\", \"cnt-smx\"],\n",
    ")\n",
    "dfs.append(abs(df_orig[V]).rename(\"orig\"))\n",
    "\n",
    "plt.figure(figsize=(8,8))\n",
    "sns.heatmap(pd.concat(dfs, axis=1).corr(), annot=True)\n",
    "plt.show()"
   ]
  },
  {
   "cell_type": "code",
   "execution_count": null,
   "metadata": {},
   "outputs": [],
   "source": []
  },
  {
   "cell_type": "code",
   "execution_count": null,
   "metadata": {},
   "outputs": [],
   "source": []
  },
  {
   "cell_type": "markdown",
   "metadata": {},
   "source": [
    "### SBERT"
   ]
  },
  {
   "cell_type": "code",
   "execution_count": null,
   "metadata": {},
   "outputs": [],
   "source": [
    "#https://www.statsmodels.org/dev/generated/statsmodels.regression.linear_model.RegressionResults.html"
   ]
  },
  {
   "cell_type": "code",
   "execution_count": null,
   "metadata": {},
   "outputs": [],
   "source": [
    "DWE      = ['V1_berika', 'N1_globalist', 'N1_återvandring', 'N1_förortsgäng']\n",
    "ABSTRAT  = {\"A-Strategy\":\"rn\"}\n",
    "YEARS    = years\n",
    "METHODS  = [\"I-cnt\", \"O-cnt\", \"cnt-ssc\", \"cnt-smx\"]\n",
    "BASELINE = \"first\""
   ]
  },
  {
   "cell_type": "code",
   "execution_count": null,
   "metadata": {},
   "outputs": [],
   "source": [
    "indep = [\n",
    "    #\"adf\",\n",
    "    \"fpc\",\n",
    "    #\"fpm_rnk\",\n",
    "       \"fpm_log\",\n",
    "#     \"fpm\"\n",
    "]\n",
    "iod_var = \"cnt-ssc_dif\"\n",
    "indep = indep + [iod_var]\n",
    "dep=\"gch\"\n",
    "LOG_DEP = False"
   ]
  },
  {
   "cell_type": "code",
   "execution_count": null,
   "metadata": {
    "scrolled": false
   },
   "outputs": [],
   "source": [
    "data = data2data(\n",
    "    iod_data = fb_kb_iod, \n",
    "    lsc_data = fb_kb_lsc, \n",
    "#    dwes     = sgns_lsc.index, \n",
    "    dwes     = DWE,\n",
    "    AB_strat = ABSTRAT, \n",
    "    years    = YEARS,\n",
    "    methods  = METHODS,\n",
    "    baseline = BASELINE\n",
    ")\n",
    "\n",
    "data = data[indep+[dep]]\n",
    "data = data.dropna()\n",
    "data[iod_var] = abs(data[iod_var])\n",
    "\n",
    "# data[iod_var] = np.log10(data[iod_var])\n",
    "\n",
    "indep = [v for v in data.columns if v != dep]\n",
    "\n",
    "res_sbert = OLS(data, dep, indep, transform_dep=LOG_DEP)#True, dep_transformer=\"box-cox\") # dep_transformer=\"box-cox\"\n",
    "res_sbert.summary()\n",
    "# res"
   ]
  },
  {
   "cell_type": "code",
   "execution_count": null,
   "metadata": {},
   "outputs": [],
   "source": [
    "plt.plot(data[iod_var])\n",
    "plt.plot(data[dep])"
   ]
  },
  {
   "cell_type": "code",
   "execution_count": null,
   "metadata": {},
   "outputs": [],
   "source": [
    "gch, iod = zip(*sorted(zip(data[dep], data[iod_var])))\n",
    "plt.plot(range(len(gch)), zscore(gch))\n",
    "plt.plot(range(len(iod)), zscore(iod))\n",
    "\n",
    "plt.show()"
   ]
  },
  {
   "cell_type": "code",
   "execution_count": null,
   "metadata": {
    "scrolled": true
   },
   "outputs": [],
   "source": [
    "# plt.scatter(zscore(data[iod_var]), zscore(data[dep]))\n",
    "# plt.show()\n",
    "plt.scatter(data[dep], data[iod_var], color=\"black\")\n",
    "# plt.xlabel(dep)\n",
    "# plt.ylabel(iod_var)\n",
    "plt.xlabel(\"$\\Delta _{t_i, t_j}$\", fontsize=14) # gch\n",
    "plt.ylabel(\"$\\Delta _{t_i, t_j} ^{IOR}$\", fontsize=14)\n",
    "plt.show()"
   ]
  },
  {
   "cell_type": "code",
   "execution_count": null,
   "metadata": {},
   "outputs": [],
   "source": [
    "sns.histplot(res_sbert.resid)"
   ]
  },
  {
   "cell_type": "code",
   "execution_count": null,
   "metadata": {},
   "outputs": [],
   "source": [
    "sm.qqplot(res_sbert.resid, line = \"q\")\n",
    "plt.show()"
   ]
  },
  {
   "cell_type": "code",
   "execution_count": null,
   "metadata": {},
   "outputs": [],
   "source": [
    "res_sbert"
   ]
  },
  {
   "cell_type": "markdown",
   "metadata": {},
   "source": [
    "### mT5-XL"
   ]
  },
  {
   "cell_type": "code",
   "execution_count": null,
   "metadata": {},
   "outputs": [],
   "source": [
    "#https://www.statsmodels.org/dev/generated/statsmodels.regression.linear_model.RegressionResults.html"
   ]
  },
  {
   "cell_type": "code",
   "execution_count": null,
   "metadata": {},
   "outputs": [],
   "source": [
    "DWE      = ['V1_berika', 'N1_globalist', 'N1_återvandring', 'N1_förortsgäng']\n",
    "ABSTRAT  = {\"A-Strategy\":\"rn\"}\n",
    "YEARS    = years\n",
    "METHODS  = [\"I-cnt\", \"O-cnt\", \"cnt-ssc\", \"cnt-smx\"]\n",
    "BASELINE = \"first\""
   ]
  },
  {
   "cell_type": "code",
   "execution_count": null,
   "metadata": {},
   "outputs": [],
   "source": [
    "indep = [\n",
    "    #\"adf\",\n",
    "    \"fpc\",\n",
    "    #\"fpm_rnk\",\n",
    "       \"fpm_log\",\n",
    "#     \"fpm\"\n",
    "]\n",
    "iod_var = \"cnt-ssc_dif\"\n",
    "indep = indep + [iod_var]\n",
    "dep=\"gch\"\n",
    "LOG_DEP = False"
   ]
  },
  {
   "cell_type": "code",
   "execution_count": null,
   "metadata": {
    "scrolled": false
   },
   "outputs": [],
   "source": [
    "data = data2data(\n",
    "    iod_data = fb_mt5xl_iod, \n",
    "    lsc_data = fb_mt5xl_lsc, \n",
    "#    dwes     = sgns_lsc.index, \n",
    "    dwes     = DWE,\n",
    "    AB_strat = ABSTRAT, \n",
    "    years    = YEARS,\n",
    "    methods  = METHODS,\n",
    "    baseline = BASELINE\n",
    ")\n",
    "\n",
    "data = data[indep+[dep]]\n",
    "data = data.dropna()\n",
    "data[iod_var] = abs(data[iod_var])\n",
    "\n",
    "# data[iod_var] = np.log10(data[iod_var])\n",
    "\n",
    "indep = [v for v in data.columns if v != dep]\n",
    "\n",
    "res_mt5xl = OLS(data, dep, indep, transform_dep=LOG_DEP)#True, dep_transformer=\"box-cox\") # dep_transformer=\"box-cox\"\n",
    "res_mt5xl.summary()\n",
    "# res"
   ]
  },
  {
   "cell_type": "code",
   "execution_count": null,
   "metadata": {},
   "outputs": [],
   "source": [
    "plt.plot(data[iod_var])\n",
    "plt.plot(data[dep])"
   ]
  },
  {
   "cell_type": "code",
   "execution_count": null,
   "metadata": {},
   "outputs": [],
   "source": [
    "gch, iod = zip(*sorted(zip(data[dep], data[iod_var])))\n",
    "plt.plot(range(len(gch)), zscore(gch))\n",
    "plt.plot(range(len(iod)), zscore(iod))\n",
    "\n",
    "plt.show()"
   ]
  },
  {
   "cell_type": "code",
   "execution_count": null,
   "metadata": {
    "scrolled": true
   },
   "outputs": [],
   "source": [
    "# plt.scatter(zscore(data[iod_var]), zscore(data[dep]))\n",
    "# plt.show()\n",
    "plt.scatter(data[dep], data[iod_var], color=\"black\")\n",
    "# plt.xlabel(dep)\n",
    "# plt.ylabel(iod_var)\n",
    "plt.xlabel(\"$\\Delta _{t_i, t_j}$\", fontsize=14) # gch\n",
    "plt.ylabel(\"$\\Delta _{t_i, t_j} ^{IOR}$\", fontsize=14)\n",
    "plt.show()"
   ]
  },
  {
   "cell_type": "code",
   "execution_count": null,
   "metadata": {},
   "outputs": [],
   "source": [
    "sns.histplot(res_sbert.resid)"
   ]
  },
  {
   "cell_type": "code",
   "execution_count": null,
   "metadata": {},
   "outputs": [],
   "source": [
    "sm.qqplot(res_sbert.resid, line = \"q\")\n",
    "plt.show()"
   ]
  },
  {
   "cell_type": "markdown",
   "metadata": {},
   "source": [
    "### berT5"
   ]
  },
  {
   "cell_type": "code",
   "execution_count": null,
   "metadata": {},
   "outputs": [],
   "source": [
    "DWE      = ['V1_berika', 'N1_globalist', 'N1_återvandring', 'N1_förortsgäng']\n",
    "ABSTRAT  = {\"A-Strategy\":\"rn\"}\n",
    "YEARS    = years\n",
    "METHODS  = [\"I-cnt\", \"O-cnt\", \"cnt-ssc\", \"cnt-smx\"]\n",
    "BASELINE = \"first\"\n",
    "# iod_var = \"I-cnt_dif\""
   ]
  },
  {
   "cell_type": "code",
   "execution_count": null,
   "metadata": {},
   "outputs": [],
   "source": [
    "indep = [\n",
    "    #\"adf\",\n",
    "    \"fpc\",\n",
    "    #\"fpm_rnk\",\n",
    "#       \"fpm_log\",\n",
    "    \"fpm\"\n",
    "]\n",
    "#iod_var = \"O-cnt_dif\"\n",
    "iod_var = \"cnt-ssc_dif\"\n",
    "indep = indep + [iod_var]\n",
    "dep=\"gch\""
   ]
  },
  {
   "cell_type": "markdown",
   "metadata": {},
   "source": [
    "#### bert-base"
   ]
  },
  {
   "cell_type": "code",
   "execution_count": null,
   "metadata": {
    "scrolled": false
   },
   "outputs": [],
   "source": [
    "data = data2data(\n",
    "    iod_data = fb_bert_iod, \n",
    "    lsc_data = fb_bert_lsc, \n",
    "#    dwes     = sgns_lsc.index, \n",
    "    dwes     = DWE,\n",
    "    AB_strat = ABSTRAT, \n",
    "    years    = YEARS,\n",
    "    methods  = METHODS,\n",
    "    baseline = BASELINE\n",
    ")\n",
    "\n",
    "data = data[indep+[dep]]\n",
    "data = data.dropna()\n",
    "data[iod_var] = abs(data[iod_var])\n",
    "indep = [v for v in data.columns if v != dep]\n",
    "\n",
    "res_bert = OLS(data, dep, indep, transform_dep=True)#True, dep_transformer=\"box-cox\") # dep_transformer=\"box-cox\"\n",
    "res_bert.summary()\n",
    "# res"
   ]
  },
  {
   "cell_type": "code",
   "execution_count": null,
   "metadata": {},
   "outputs": [],
   "source": [
    "plt.plot(zscore(data[iod_var]))\n",
    "plt.plot(zscore(data[dep]))\n",
    "plt.show()"
   ]
  },
  {
   "cell_type": "code",
   "execution_count": null,
   "metadata": {},
   "outputs": [],
   "source": [
    "plt.scatter(data[iod_var], data[dep])"
   ]
  },
  {
   "cell_type": "markdown",
   "metadata": {},
   "source": [
    "#### megatron"
   ]
  },
  {
   "cell_type": "code",
   "execution_count": null,
   "metadata": {
    "scrolled": false
   },
   "outputs": [],
   "source": [
    "data = data2data(\n",
    "    iod_data = fb_megatron_iod, \n",
    "    lsc_data = fb_megatron_lsc, \n",
    "#    dwes     = sgns_lsc.index, \n",
    "    dwes     = DWE,\n",
    "    AB_strat = ABSTRAT, \n",
    "    years    = YEARS,\n",
    "    methods  = METHODS,\n",
    "    baseline = BASELINE\n",
    ")\n",
    "\n",
    "data = data[indep+[dep]]\n",
    "data = data.dropna()\n",
    "data[iod_var] = abs(data[iod_var])\n",
    "indep = [v for v in data.columns if v != dep]\n",
    "\n",
    "res_megatron = OLS(data, dep, indep, transform_dep=True)#True, dep_transformer=\"box-cox\") # dep_transformer=\"box-cox\"\n",
    "res_megatron.summary()\n",
    "# res"
   ]
  },
  {
   "cell_type": "markdown",
   "metadata": {},
   "source": [
    "#### t5small"
   ]
  },
  {
   "cell_type": "code",
   "execution_count": null,
   "metadata": {
    "scrolled": false
   },
   "outputs": [],
   "source": [
    "data = data2data(\n",
    "    iod_data = fb_t5small_iod, \n",
    "    lsc_data = fb_t5small_lsc, \n",
    "#    dwes     = sgns_lsc.index, \n",
    "    dwes     = DWE,\n",
    "    AB_strat = ABSTRAT, \n",
    "    years    = YEARS,\n",
    "    methods  = METHODS,\n",
    "    baseline = BASELINE\n",
    ")\n",
    "\n",
    "data = data[indep+[dep]]\n",
    "data = data.dropna()\n",
    "data[iod_var] = abs(data[iod_var])\n",
    "indep = [v for v in data.columns if v != dep]\n",
    "\n",
    "res_t5small = OLS(data, dep, indep, transform_dep=True)#True, dep_transformer=\"box-cox\") # dep_transformer=\"box-cox\"\n",
    "res_t5small.summary()\n",
    "# res"
   ]
  },
  {
   "cell_type": "markdown",
   "metadata": {},
   "source": [
    "#### t53b"
   ]
  },
  {
   "cell_type": "code",
   "execution_count": null,
   "metadata": {
    "scrolled": false
   },
   "outputs": [],
   "source": [
    "data = data2data(\n",
    "    iod_data = fb_t53b_iod, \n",
    "    lsc_data = fb_t53b_lsc, \n",
    "#    dwes     = sgns_lsc.index, \n",
    "    dwes     = DWE,\n",
    "    AB_strat = ABSTRAT, \n",
    "    years    = YEARS,\n",
    "    methods  = METHODS,\n",
    "    baseline = BASELINE\n",
    ")\n",
    "\n",
    "data = data[indep+[dep]]\n",
    "data = data.dropna()\n",
    "data[iod_var] = abs(data[iod_var])\n",
    "indep = [v for v in data.columns if v != dep]\n",
    "\n",
    "res_t53b = OLS(data, dep, indep, transform_dep=True)#True, dep_transformer=\"box-cox\") # dep_transformer=\"box-cox\"\n",
    "res_t53b.summary()\n",
    "# res"
   ]
  },
  {
   "cell_type": "code",
   "execution_count": null,
   "metadata": {},
   "outputs": [],
   "source": [
    "res_t53b"
   ]
  },
  {
   "cell_type": "code",
   "execution_count": null,
   "metadata": {},
   "outputs": [],
   "source": []
  },
  {
   "cell_type": "code",
   "execution_count": null,
   "metadata": {},
   "outputs": [],
   "source": []
  },
  {
   "cell_type": "markdown",
   "metadata": {},
   "source": [
    "### Combined (stargazer, etc)"
   ]
  },
  {
   "cell_type": "code",
   "execution_count": null,
   "metadata": {},
   "outputs": [],
   "source": [
    "models = [\n",
    "    res_sgns_w5_100,\n",
    "    res_sgns_w10_100,\n",
    "    res_sgns_w15_100,\n",
    "    res_sgns_w5_200,\n",
    "    res_sgns_w10_200,\n",
    "    res_sgns_w15_200,\n",
    "#     res_sgns_nlpl,\n",
    "    res_sbert,\n",
    "    res_bert,\n",
    "#     res_megatron,\n",
    "    res_t5small,\n",
    "    res_t53b\n",
    "]\n",
    "\n",
    "names = [\n",
    "    \"SGNS-w5-100\",\n",
    "    \"SGNS-w10-100\",\n",
    "    \"SGNS-w15-100\",\n",
    "    \"SGNS-w5-200\",\n",
    "    \"SGNS-w10-200\",\n",
    "    \"SGNS-w15-200\",\n",
    "#     \"SGNS-nlpl\",\n",
    "    \"SBERT\",\n",
    "    \"BERT\",\n",
    "#     \"MEGATRON\",\n",
    "    \"T5-sml\",\n",
    "    \"T5-3b\"\n",
    "    \n",
    "]\n",
    "\n",
    "ziggy = Stargazer(models)\n",
    "ziggy.custom_columns(names)#, [1, 1])\n",
    "ziggy.show_model_numbers(False)\n",
    "ziggy.covariate_order(sorted(indep + [\"fpm_log\"])+[\"const\"])\n",
    "ziggy.rename_covariates({'cnt-ssc_dif': 'Dif. IOD Ratio', 'fpc':'Dif. FPM (\\%)', 'fpm_log': 'FPM (lg)' })\n",
    "ziggy.significance_levels([0.05, 0.01, 0.001])\n",
    "ziggy\n",
    "# print(ziggy.render_latex())"
   ]
  },
  {
   "cell_type": "markdown",
   "metadata": {},
   "source": [
    "For SGNS models, R2 is higher with log transformed frequencies, but then residuals are not normal. "
   ]
  },
  {
   "cell_type": "code",
   "execution_count": null,
   "metadata": {},
   "outputs": [],
   "source": [
    "sns.heatmap(data[indep].corr(), annot=True)"
   ]
  },
  {
   "cell_type": "code",
   "execution_count": null,
   "metadata": {},
   "outputs": [],
   "source": [
    "sns.histplot(res_bert.resid, kde=True)"
   ]
  },
  {
   "cell_type": "code",
   "execution_count": null,
   "metadata": {},
   "outputs": [],
   "source": [
    "#data[\"cnt-smx_dif\"].corr(data[\"gch\"])"
   ]
  },
  {
   "cell_type": "code",
   "execution_count": null,
   "metadata": {},
   "outputs": [],
   "source": [
    "#0.7837510127879611**2"
   ]
  },
  {
   "cell_type": "code",
   "execution_count": null,
   "metadata": {},
   "outputs": [],
   "source": [
    "#data[\"cnt-smx_dif\"].corr((data[\"gch\"])**-0.39)"
   ]
  },
  {
   "cell_type": "code",
   "execution_count": null,
   "metadata": {},
   "outputs": [],
   "source": [
    "#-0.67 * -0.67"
   ]
  },
  {
   "cell_type": "code",
   "execution_count": null,
   "metadata": {},
   "outputs": [],
   "source": [
    "sns.heatmap(data[indep].corr(), annot=True)"
   ]
  },
  {
   "cell_type": "code",
   "execution_count": null,
   "metadata": {
    "scrolled": true
   },
   "outputs": [],
   "source": [
    "fig = sm.qqplot(res_bert.resid)\n",
    "plt.show()"
   ]
  },
  {
   "cell_type": "code",
   "execution_count": null,
   "metadata": {
    "scrolled": true
   },
   "outputs": [],
   "source": [
    "sns.histplot(res_bert.resid, bins=20,kde=True,color='red')"
   ]
  },
  {
   "cell_type": "code",
   "execution_count": null,
   "metadata": {
    "scrolled": false
   },
   "outputs": [],
   "source": [
    "pg.normality(res_bert.resid, method=\"shapiro\")"
   ]
  },
  {
   "cell_type": "code",
   "execution_count": null,
   "metadata": {},
   "outputs": [],
   "source": [
    "sns.histplot(data[\"gch\"],bins=20,kde=True,color='red')"
   ]
  },
  {
   "cell_type": "code",
   "execution_count": null,
   "metadata": {},
   "outputs": [],
   "source": [
    "sns.histplot(data[\"cnt-ssc_dif\"],bins=20,kde=True,color='red')"
   ]
  },
  {
   "cell_type": "code",
   "execution_count": null,
   "metadata": {},
   "outputs": [],
   "source": [
    "#sns.histplot((data[\"gch\"])**-0.3947964,bins=20,kde=True,color='red')"
   ]
  },
  {
   "cell_type": "code",
   "execution_count": null,
   "metadata": {},
   "outputs": [],
   "source": [
    "#C = pd.concat([data[\"gch\"], ((data[\"gch\"])**-0.3947964).rename(\"bc_gch\")], axis=1); C"
   ]
  },
  {
   "cell_type": "code",
   "execution_count": null,
   "metadata": {
    "scrolled": true
   },
   "outputs": [],
   "source": [
    "#C.corr(method=\"spearman\")"
   ]
  },
  {
   "cell_type": "markdown",
   "metadata": {},
   "source": [
    "Obs!\n",
    "```\n",
    "data = data2data(\n",
    "    iod_data = kb_iod, \n",
    "    lsc_data = kb_lsc, \n",
    "#     dwes     = sgns_lsc.index, \n",
    "    dwes     = ['V1_berika', 'N1_globalist', 'N1_återvandring', 'N1_förortsgäng'],\n",
    "    AB_strat = {\"A-Strategy\":\"ms1\"}, \n",
    "    years    = years,\n",
    "    methods  = [\"I-cnt\", \"O-cnt\", \"cnt-ssc\", \"cnt-smx\"],\n",
    "    baseline = \"first\"\n",
    ")\n",
    "#data[\"fpm_rnk\"] = rankdata(data[\"fpm\"], nan_policy = \"omit\")\n",
    "\n",
    "data[\"cnt-smx_dif\"] = abs(data[\"cnt-smx_dif\"])\n",
    "res = OLS(data, \"gch\", [\"cnt-smx_dif\", \"adf\", \"fpm\"], transform_dep=True, dep_transformer=\"box-cox\")\n",
    "res.summary()\n",
    "```\n",
    "\n",
    "```\n",
    "                            OLS Regression Results                            \n",
    "==============================================================================\n",
    "Dep. Variable:                      y   R-squared:                       0.598\n",
    "Model:                            OLS   Adj. R-squared:                  0.578\n",
    "Method:                 Least Squares   F-statistic:                     29.78\n",
    "Date:                Mon, 26 Feb 2024   Prob (F-statistic):           6.43e-12\n",
    "Time:                        11:52:45   Log-Likelihood:                -61.630\n",
    "No. Observations:                  64   AIC:                             131.3\n",
    "Df Residuals:                      60   BIC:                             139.9\n",
    "Df Model:                           3                                         \n",
    "Covariance Type:            nonrobust                                         \n",
    "===============================================================================\n",
    "                  coef    std err          t      P>|t|      [0.025      0.975]\n",
    "-------------------------------------------------------------------------------\n",
    "const          -0.1333      0.156     -0.857      0.395      -0.444       0.178\n",
    "cnt-smx_dif    93.5548     14.857      6.297      0.000      63.836     123.273\n",
    "adf            -0.0048      0.010     -0.502      0.617      -0.024       0.014\n",
    "fpm            -0.0172      0.004     -4.305      0.000      -0.025      -0.009\n",
    "==============================================================================\n",
    "Omnibus:                        2.932   Durbin-Watson:                   0.899\n",
    "Prob(Omnibus):                  0.231   Jarque-Bera (JB):                2.074\n",
    "Skew:                           0.336   Prob(JB):                        0.354\n",
    "Kurtosis:                       3.570   Cond. No.                     5.69e+03\n",
    "==============================================================================\n",
    "\n",
    "Notes:\n",
    "[1] Standard Errors assume that the covariance matrix of the errors is correctly specified.\n",
    "[2] The condition number is large, 5.69e+03. This might indicate that there are\n",
    "strong multicollinearity or other numerical problems.\n",
    "\n",
    "```"
   ]
  },
  {
   "cell_type": "markdown",
   "metadata": {},
   "source": [
    "## Appendix: Regressions assumptions experiments"
   ]
  },
  {
   "cell_type": "markdown",
   "metadata": {},
   "source": [
    "##### Parameter search for winsoring and ..."
   ]
  },
  {
   "cell_type": "code",
   "execution_count": null,
   "metadata": {},
   "outputs": [],
   "source": [
    "data = data2data(\n",
    "    iod_data = kb_iod, \n",
    "    lsc_data = kb_lsc, \n",
    "#    dwes     = sgns_lsc.index, \n",
    "    dwes     = ['V1_berika', 'N1_globalist', 'N1_återvandring', 'N1_förortsgäng'],\n",
    "    AB_strat = {\"A-Strategy\":\"ms1\"}, \n",
    "    years    = years,\n",
    "    methods  = [\"I-cnt\", \"O-cnt\", \"cnt-ssc\", \"cnt-smx\"],\n",
    "    baseline = \"first\"\n",
    ")\n",
    "indep = [\n",
    "    \"cnt-smx_dif\", \n",
    "    #\"adf\",\n",
    "    \"fdf\",\n",
    "    #\"fpm_rnk\",\n",
    "    #\"fpm_log\",\n",
    "    \"fpm\"\n",
    "]\n",
    "dep=\"gch\"\n",
    "data = data[indep+[dep]]\n",
    "data = data.dropna()\n",
    "\n",
    "data[\"cnt-smx_dif\"] = abs(data[\"cnt-smx_dif\"]) \n",
    "\n",
    "#wh_var = \"cnt-smx_dif\"\n",
    "wh_var = dep\n",
    "\n",
    "data[wh_var].plot.hist(title=wh_var)\n",
    "plt.show()\n",
    "\n",
    "q_level=0.75\n",
    "\n",
    "Q = data[wh_var].quantile(q=q_level)\n",
    "print(len(data[data[wh_var]>Q]), Q)\n",
    "data[wh_var] = data[wh_var].apply(lambda x: x if x<Q else Q)\n",
    "\n",
    "#transformer = RobustScaler(with_centering=True, quantile_range=(100-(q_level*100), q_level*100))\n",
    "#v_trans = transformer.fit_transform(data[wh_var].values.reshape(-1,1)).flatten()\n",
    "#data[wh_var] = v_trans\n",
    "\n",
    "#data[\"fpm_rnk\"] = rankdata(data[\"fpm\"], nan_policy=\"omit\")\n",
    "\n",
    "res_bert = OLS(data, \"gch\", indep, transform_dep=False, dep_transformer=\"box-cox\") # dep_transformer=\"box-cox\"\n",
    "res_bert.summary()\n",
    "# res"
   ]
  },
  {
   "cell_type": "code",
   "execution_count": null,
   "metadata": {},
   "outputs": [],
   "source": [
    "data[wh_var].plot.hist(title=wh_var)"
   ]
  },
  {
   "cell_type": "markdown",
   "metadata": {},
   "source": [
    "### Know your data - BERT"
   ]
  },
  {
   "cell_type": "markdown",
   "metadata": {},
   "source": [
    "There are problems with non normal residuals of OLS models below...\n",
    "\n",
    "* https://baotramduong.medium.com/mastering-r-75-different-ways-of-detecting-anhandling-outliers-456e22f34c00\n",
    "* https://scikit-learn.org/stable/auto_examples/preprocessing/plot_map_data_to_normal.html#sphx-glr-auto-examples-preprocessing-plot-map-data-to-normal-py\n",
    "* https://www.frontiersin.org/journals/psychology/articles/10.3389/fpsyg.2018.02104/full\n",
    "\n",
    "\n",
    "Both Winsorizing and BoxCox approach works. I guess windsoring is ther better option as it is easier to interpret! However, Q for cutoff is 0.77, which is rather obtrusive. \n",
    "\n",
    "RobustScaler -- ? It is robust to outliers; i.e. it preserves them?!"
   ]
  },
  {
   "cell_type": "markdown",
   "metadata": {},
   "source": [
    "**Found an error (26 February, 2024):** `extok.json` (which is used to calculate normalised frequencies) is different for SBERT and SGNS. This result in different `fpm` for SGNS and SBERT. Possible solutions:\n",
    "1. replace `extok.json` in SBERT with `extok.json` from SGNS; and re-run `create_df_mb.py`\n",
    "2. replace SBERT data for frequencies with frequency data of SGNS data here\n",
    "3. Both!\n",
    "\n",
    "Done 1.\n",
    "\n",
    "*Also note: this error has implications for results in thesis! ... as well as Boholm & Sayeed 2023!* "
   ]
  },
  {
   "cell_type": "code",
   "execution_count": null,
   "metadata": {},
   "outputs": [],
   "source": [
    "DWEs = ['V1_berika', 'N1_globalist', 'N1_återvandring', 'N1_förortsgäng']\n",
    "#DWEs = sgns_lsc.index,\n",
    "METHODs = [\"I-cnt\", \"O-cnt\", \"cnt-ssc\", \"cnt-smx\"]\n",
    "BASELINE = \"first\""
   ]
  },
  {
   "cell_type": "code",
   "execution_count": null,
   "metadata": {},
   "outputs": [],
   "source": [
    "SGNS = data2data(\n",
    "    iod_data = sgns_iod, \n",
    "    lsc_data = sgns_lsc, \n",
    "    dwes     = DWEs,\n",
    "    AB_strat = {\"A-Strategy\":\"ms1\", \"B-Strategy\":\"min0.2\"}, \n",
    "    years    = years,\n",
    "    methods  = METHODs,\n",
    "    baseline = BASELINE\n",
    ")"
   ]
  },
  {
   "cell_type": "code",
   "execution_count": null,
   "metadata": {},
   "outputs": [],
   "source": [
    "BERT = data2data(\n",
    "    iod_data = kb_iod, \n",
    "    lsc_data = kb_lsc, \n",
    "    dwes     = DWEs,\n",
    "    AB_strat = {\"A-Strategy\":\"ms1\"}, \n",
    "    years    = years,\n",
    "    methods  = METHODs,\n",
    "    baseline = BASELINE\n",
    ")"
   ]
  },
  {
   "cell_type": "code",
   "execution_count": null,
   "metadata": {},
   "outputs": [],
   "source": [
    "SGNS.columns"
   ]
  },
  {
   "cell_type": "code",
   "execution_count": null,
   "metadata": {},
   "outputs": [],
   "source": [
    "for m in [SGNS, BERT]:\n",
    "    for col in SGNS.columns:\n",
    "        if not col.endswith(\"_dif\"):\n",
    "            continue\n",
    "        m[col] = abs(m[col])"
   ]
  },
  {
   "cell_type": "markdown",
   "metadata": {},
   "source": [
    "#### Change IOD"
   ]
  },
  {
   "cell_type": "code",
   "execution_count": null,
   "metadata": {},
   "outputs": [],
   "source": [
    "v = SGNS[\"cnt-smx_dif\"]\n",
    "print(pg.normality(v)); v.hist()"
   ]
  },
  {
   "cell_type": "code",
   "execution_count": null,
   "metadata": {},
   "outputs": [],
   "source": [
    "v.plot.box()"
   ]
  },
  {
   "cell_type": "code",
   "execution_count": null,
   "metadata": {},
   "outputs": [],
   "source": [
    "v = BERT[\"cnt-smx_dif\"]\n",
    "print(pg.normality(v)); v.hist()"
   ]
  },
  {
   "cell_type": "code",
   "execution_count": null,
   "metadata": {},
   "outputs": [],
   "source": [
    "v.plot.box()"
   ]
  },
  {
   "cell_type": "markdown",
   "metadata": {},
   "source": [
    "#### LSC"
   ]
  },
  {
   "cell_type": "code",
   "execution_count": null,
   "metadata": {},
   "outputs": [],
   "source": [
    "v = SGNS[\"gch\"]\n",
    "print(pg.normality(v)); v.hist()"
   ]
  },
  {
   "cell_type": "code",
   "execution_count": null,
   "metadata": {},
   "outputs": [],
   "source": [
    "v.plot.box()"
   ]
  },
  {
   "cell_type": "code",
   "execution_count": null,
   "metadata": {},
   "outputs": [],
   "source": [
    "v = BERT[\"gch\"]\n",
    "print(pg.normality(v)); v.hist()"
   ]
  },
  {
   "cell_type": "code",
   "execution_count": null,
   "metadata": {},
   "outputs": [],
   "source": [
    "v.plot.box()"
   ]
  },
  {
   "cell_type": "markdown",
   "metadata": {},
   "source": [
    "#### Frequency"
   ]
  },
  {
   "cell_type": "code",
   "execution_count": null,
   "metadata": {},
   "outputs": [],
   "source": [
    "len(SGNS[\"fpm\"].dropna())"
   ]
  },
  {
   "cell_type": "code",
   "execution_count": null,
   "metadata": {},
   "outputs": [],
   "source": [
    "SGNS[\"fpm\"].dropna().plot()"
   ]
  },
  {
   "cell_type": "code",
   "execution_count": null,
   "metadata": {},
   "outputs": [],
   "source": [
    "v = SGNS[\"fpm\"]\n",
    "print(pg.normality(v)); v.hist()"
   ]
  },
  {
   "cell_type": "code",
   "execution_count": null,
   "metadata": {},
   "outputs": [],
   "source": [
    "v.plot.box()"
   ]
  },
  {
   "cell_type": "code",
   "execution_count": null,
   "metadata": {},
   "outputs": [],
   "source": [
    "v = BERT[\"fpm\"]\n",
    "print(pg.normality(v)); v.hist()"
   ]
  },
  {
   "cell_type": "code",
   "execution_count": null,
   "metadata": {},
   "outputs": [],
   "source": [
    "v.plot.box()"
   ]
  },
  {
   "cell_type": "code",
   "execution_count": null,
   "metadata": {
    "scrolled": true
   },
   "outputs": [],
   "source": [
    "v = SGNS[\"fpm_log\"]\n",
    "print(pg.normality(v)); v.hist()"
   ]
  },
  {
   "cell_type": "code",
   "execution_count": null,
   "metadata": {},
   "outputs": [],
   "source": [
    "v.plot.box()"
   ]
  },
  {
   "cell_type": "code",
   "execution_count": null,
   "metadata": {},
   "outputs": [],
   "source": [
    "#np.log10(SGNS[\"fpm\"]).hist()"
   ]
  },
  {
   "cell_type": "code",
   "execution_count": null,
   "metadata": {},
   "outputs": [],
   "source": [
    "#plt.hist(power_transform(SGNS[\"fpm\"].values.reshape(-1,1), method=\"box-cox\"))"
   ]
  },
  {
   "cell_type": "code",
   "execution_count": null,
   "metadata": {
    "scrolled": true
   },
   "outputs": [],
   "source": [
    "#plt.hist(power_transform(SGNS[\"fpm_log\"].values.reshape(-1,1), method=\"yeo-johnson\"))"
   ]
  },
  {
   "cell_type": "code",
   "execution_count": null,
   "metadata": {},
   "outputs": [],
   "source": [
    "v = BERT[\"fpm_log\"]\n",
    "print(pg.normality(v)); v.hist()"
   ]
  },
  {
   "cell_type": "code",
   "execution_count": null,
   "metadata": {},
   "outputs": [],
   "source": [
    "v.plot.box()"
   ]
  },
  {
   "cell_type": "markdown",
   "metadata": {},
   "source": [
    "### Experiments with transformations"
   ]
  },
  {
   "cell_type": "markdown",
   "metadata": {},
   "source": [
    "#### Orig. "
   ]
  },
  {
   "cell_type": "code",
   "execution_count": null,
   "metadata": {},
   "outputs": [],
   "source": [
    "var = \"cnt-smx_dif\"\n",
    "model = BERT"
   ]
  },
  {
   "cell_type": "code",
   "execution_count": null,
   "metadata": {},
   "outputs": [],
   "source": [
    "x = model[var].dropna()\n",
    "plt.boxplot(x)\n",
    "plt.show()"
   ]
  },
  {
   "cell_type": "code",
   "execution_count": null,
   "metadata": {},
   "outputs": [],
   "source": [
    "pg.normality(x)"
   ]
  },
  {
   "cell_type": "markdown",
   "metadata": {},
   "source": [
    "#### Box-Cox"
   ]
  },
  {
   "cell_type": "code",
   "execution_count": null,
   "metadata": {},
   "outputs": [],
   "source": [
    "x = model[var].dropna()\n",
    "x = power_transform(x.values.reshape(-1,1), method=\"box-cox\").flatten()\n",
    "x = pd.Series(x.flatten())\n",
    "print(pg.normality(x)[\"W\"].values[0], pg.normality(x)[\"normal\"].values[0])\n",
    "plt.boxplot(x)\n",
    "plt.show()"
   ]
  },
  {
   "cell_type": "code",
   "execution_count": null,
   "metadata": {},
   "outputs": [],
   "source": [
    "x.hist()"
   ]
  },
  {
   "cell_type": "markdown",
   "metadata": {},
   "source": [
    "#### Quantile stuff"
   ]
  },
  {
   "cell_type": "code",
   "execution_count": null,
   "metadata": {},
   "outputs": [],
   "source": [
    "x = model[var].dropna()\n",
    "x.plot.box()\n",
    "plt.show()\n",
    "#transformer = QuantileTransformer(n_quantiles=60, output_distribution='normal') # basically ranking?\n",
    "transformer =  RobustScaler(with_centering=True, unit_variance=False, quantile_range=(25, 75)) # quantile_range=(0.1, 0.9)\n",
    "x = transformer.fit_transform(x.values.reshape(-1,1))\n",
    "x = pd.Series(x.flatten())\n",
    "plt.boxplot(x)\n",
    "plt.show()"
   ]
  },
  {
   "cell_type": "code",
   "execution_count": null,
   "metadata": {},
   "outputs": [],
   "source": [
    "x.max() #?????"
   ]
  },
  {
   "cell_type": "code",
   "execution_count": null,
   "metadata": {},
   "outputs": [],
   "source": [
    "results = []\n",
    "for value in [1, 5, 10, 15, 20, 25, 30, 35, 40, 45, 50]:\n",
    "    transformer = RobustScaler(with_centering=True, with_scaling=True, quantile_range=(value, 100-value))\n",
    "    gch = model[var].dropna()\n",
    "    gch = gch.values.reshape(-1,1)\n",
    "    gch_trans = transformer.fit_transform(gch)\n",
    "    gch_trans = gch_trans.flatten()\n",
    "#     gch_trans = np.log(gch_trans)\n",
    "    gch_trans = pd.Series(gch_trans, name=value)\n",
    "    normal = pg.normality(gch_trans)\n",
    "    normal[\"Median\"] = gch_trans.median()\n",
    "    normal[\"Max\"] = gch_trans.max()\n",
    "    normal[\"Min\"] = gch_trans.min()\n",
    "    normal[\"Range\"] = normal[\"Max\"] - normal[\"Min\"]\n",
    "    \n",
    "    results.append(normal)\n",
    "pd.concat(results)"
   ]
  },
  {
   "cell_type": "code",
   "execution_count": null,
   "metadata": {},
   "outputs": [],
   "source": [
    "x.hist()"
   ]
  },
  {
   "cell_type": "code",
   "execution_count": null,
   "metadata": {},
   "outputs": [],
   "source": [
    "pg.normality(x)"
   ]
  },
  {
   "cell_type": "code",
   "execution_count": null,
   "metadata": {},
   "outputs": [],
   "source": [
    "x = model[var].dropna()\n",
    "for k in range(1,60):\n",
    "    transformer = QuantileTransformer(n_quantiles=k, output_distribution='normal') # basically ranking?\n",
    "    #transformer =  RobustScaler(quantile_range=(0.3, 0.7))\n",
    "    t = transformer.fit_transform(x.values.reshape(-1,1))\n",
    "    t = pd.Series(t.flatten())\n",
    "    print(k, pg.normality(t)[\"W\"].values[0], pg.normality(t)[\"normal\"].values[0])"
   ]
  },
  {
   "cell_type": "markdown",
   "metadata": {},
   "source": [
    "#### BoxCox Transform GCH"
   ]
  },
  {
   "cell_type": "markdown",
   "metadata": {},
   "source": [
    "How to interpret the results?!"
   ]
  },
  {
   "cell_type": "markdown",
   "metadata": {},
   "source": [
    "##### SGNS"
   ]
  },
  {
   "cell_type": "code",
   "execution_count": null,
   "metadata": {},
   "outputs": [],
   "source": [
    "SGNS[\"gch\"].hist()"
   ]
  },
  {
   "cell_type": "code",
   "execution_count": null,
   "metadata": {},
   "outputs": [],
   "source": [
    "pg.normality(SGNS[\"gch\"])"
   ]
  },
  {
   "cell_type": "code",
   "execution_count": null,
   "metadata": {
    "scrolled": true
   },
   "outputs": [],
   "source": [
    "x = SGNS[\"gch\"].dropna()\n",
    "x = power_transform(x.values.reshape(-1,1), method=\"box-cox\").flatten()\n",
    "plt.hist(x)\n",
    "plt.show"
   ]
  },
  {
   "cell_type": "code",
   "execution_count": null,
   "metadata": {},
   "outputs": [],
   "source": [
    "pg.normality(x)"
   ]
  },
  {
   "cell_type": "markdown",
   "metadata": {},
   "source": [
    "##### BERT"
   ]
  },
  {
   "cell_type": "code",
   "execution_count": null,
   "metadata": {},
   "outputs": [],
   "source": [
    "BERT[\"gch\"].hist()"
   ]
  },
  {
   "cell_type": "code",
   "execution_count": null,
   "metadata": {},
   "outputs": [],
   "source": [
    "pg.normality(BERT[\"gch\"])"
   ]
  },
  {
   "cell_type": "code",
   "execution_count": null,
   "metadata": {},
   "outputs": [],
   "source": [
    "x = SGNS[\"gch\"].dropna()\n",
    "x = power_transform(x.values.reshape(-1,1), method=\"box-cox\").flatten()\n",
    "plt.hist(x)\n",
    "plt.show"
   ]
  },
  {
   "cell_type": "code",
   "execution_count": null,
   "metadata": {},
   "outputs": [],
   "source": [
    "pg.normality(x)"
   ]
  },
  {
   "cell_type": "markdown",
   "metadata": {},
   "source": [
    "## Appendix: Are the methods of measurement different?"
   ]
  },
  {
   "cell_type": "markdown",
   "metadata": {},
   "source": [
    "* ***dif***<sub>*strategy*, *year*</sub> = `cnt` - `pwn`\n",
    "* ***Mean***(*dif*)\n",
    "* ***Min***(*dif*)\n",
    "* ***Max***(*dif*)\n",
    "* ***SD***(*dif*)\n",
    "* ***correlation***(`cnt`, `pwn`)\n",
    "* ***Overall*** vs. ***per term***"
   ]
  },
  {
   "cell_type": "code",
   "execution_count": null,
   "metadata": {},
   "outputs": [],
   "source": [
    "def get_difs(df, M, years, corr):\n",
    "    \n",
    "    m1, m2 = M\n",
    "    difs = []\n",
    "    for year in years:\n",
    "        #print(df[df[\"Method\"] == m1][year])\n",
    "        x = df[df[\"Method\"] == m1][year].values[0]\n",
    "        y = df[df[\"Method\"] == m2][year].values[0]\n",
    "        #dif = x - y\n",
    "        dif = max(x,y) - min(x,y)\n",
    "        \n",
    "        #print(dif)\n",
    "        \n",
    "#         dif = dif.values.flatten().tolist()\n",
    "        \n",
    "        #print(dif)\n",
    "        \n",
    "        difs.append(dif)\n",
    "        \n",
    "    X = df[df[\"Method\"]==m1][years].values.flatten()\n",
    "    Y = df[df[\"Method\"]==m2][years].values.flatten()\n",
    "#     print(X)\n",
    "#     print(Y)\n",
    "    X, Y = zip(*[(x, y) for x,y in zip(X, Y) if not (pd.isna(x) or pd.isna(y))])\n",
    "    \n",
    "#     print(X)\n",
    "#     print(Y)\n",
    "\n",
    "    stat = corr(X, Y)\n",
    "    r = stat.statistic\n",
    "    N = len(X)\n",
    "    \n",
    "    return r, N, difs\n",
    "    "
   ]
  },
  {
   "cell_type": "code",
   "execution_count": null,
   "metadata": {},
   "outputs": [],
   "source": [
    "def compare_measures(iod_data, measures, years, corr = pearsonr, dwes = \"all\", aggregate = 1):\n",
    "    \"\"\"\n",
    "    Compare measurement methods:\n",
    "    param  iod_data   dataframe\n",
    "    param  measures   tuple of measures, e.g. (\"I-cnt\", \"I-pwn\")\n",
    "    param  aggregate  ... \n",
    "    \"\"\"\n",
    "    \n",
    "    m1, m2 = measures\n",
    "    \n",
    "    if dwes == \"all\":\n",
    "        dwes = set(iod_data[\"DWE\"].values)\n",
    "    else:\n",
    "        assert isinstance(dwes, (list, tuple, set)), \"`dwes` not iterable\"\n",
    "    \n",
    "    dwes = list(dwes)\n",
    "    dwes.sort()\n",
    "    \n",
    "    AB_strategies = sorted([col for col in iod_data.columns if col.lower().endswith(\"strategy\")])\n",
    "    if len(AB_strategies) == 1:\n",
    "        strategies = list(set(iod_data[AB_strategies[0]].values))\n",
    "    if len(AB_strategies) == 2:\n",
    "#         print(\"AB\", AB_strategies)\n",
    "        A_strat = sorted(list(set(iod_data[AB_strategies[0]].values))) \n",
    "        B_strat = sorted(list(set(iod_data[AB_strategies[1]].values)))\n",
    "        strategies = []\n",
    "        for a in A_strat:\n",
    "            for b in B_strat:\n",
    "#                 print(a, b)\n",
    "                strategies.append(f\"{a}-{b}\")\n",
    "    \n",
    "    \n",
    "    if aggregate == 0:\n",
    "        d = {dwe: {strategy: {\"dif\": None, \"r\": None} for strategy in strategies} for dwe in dwes}\n",
    "    if aggregate == 1:\n",
    "        d = {dwe: {\"dif\": [], \"r\": []} for dwe in dwes}\n",
    "    if aggregate == 2:\n",
    "        d = {\"dif\": [], \"r\": []}\n",
    "    \n",
    "    for dwe in dwes:\n",
    "        \n",
    "        if len(AB_strategies) == 1:\n",
    "#             strategy = AB_strategies[0]\n",
    "            for s in strategies:\n",
    "                df = iod_data[(iod_data[\"DWE\"] == dwe) & (iod_data[\"A-Strategy\"] == s)]\n",
    "                r, N, difs = get_difs(df, (m1, m2), years, corr)\n",
    "                \n",
    "                if aggregate == 0:\n",
    "                    d[dwe][s][\"r\"] = r\n",
    "                    d[dwe][s][\"dif\"] = difs\n",
    "                    \n",
    "                if aggregate == 1:\n",
    "                    d[dwe][\"r\"].append(r)\n",
    "                    d[dwe][\"dif\"].extend(difs)\n",
    "                    \n",
    "                if aggregate == 2:\n",
    "                    d[\"r\"].append(r)\n",
    "                    d[\"dif\"].extend(difs)\n",
    "                \n",
    "        \n",
    "        if len(AB_strategies) == 2:\n",
    "            \n",
    "            for a in A_strat:\n",
    "                for b in B_strat:\n",
    "#                     print(a, b)\n",
    "                    df = iod_data[(iod_data[\"DWE\"] == dwe) & (iod_data[\"A-Strategy\"] == a) & (iod_data[\"B-Strategy\"] == b)]\n",
    "                    r, N, difs = get_difs(df, (m1, m2), years, corr)\n",
    "                    s = f\"{a}-{b}\"\n",
    "                    #print(strategies.index(s))\n",
    "                    \n",
    "                    if aggregate == 0:\n",
    "                        d[dwe][s][\"r\"] = r\n",
    "                        d[dwe][s][\"dif\"] = difs\n",
    "\n",
    "                    if aggregate == 1:\n",
    "                        d[dwe][\"r\"].append(r)\n",
    "                        d[dwe][\"dif\"].extend(difs)\n",
    "\n",
    "                    if aggregate == 2:\n",
    "                        d[\"r\"].append(r)\n",
    "                        d[\"dif\"].extend(difs)\n",
    "    \n",
    "    results = []\n",
    "    \n",
    "    if aggregate == 0:\n",
    "        for dwe in d.keys():\n",
    "            for strategy in d[dwe].keys():\n",
    "                dif = d[dwe][strategy][\"dif\"]\n",
    "#                 print(d[dwe])\n",
    "#                 print(d[dwe][strategy])\n",
    "                to_results = {\n",
    "                    \"DWE\" : dwe,\n",
    "                    \"Mdif\"   : np.nanmean(dif),\n",
    "                    \"SDdif\"  : np.nanstd(dif),\n",
    "                    \"MAXdif\" : np.nanmax(dif),\n",
    "                    \"MINdif\" : np.nanmin(dif),\n",
    "                    \"r\"   : np.mean(d[dwe][strategy][\"r\"])\n",
    "                }\n",
    "                results.append(to_results)                \n",
    "    if aggregate == 1:\n",
    "        for dwe in d.keys():\n",
    "            dif = d[dwe][\"dif\"]\n",
    "            to_results = {\n",
    "                \"DWE\"    : dwe,\n",
    "                \"Mdif\"   : np.nanmean(dif),\n",
    "                \"SDdif\"  : np.nanstd(dif),\n",
    "                \"MAXdif\" : np.nanmax(dif),\n",
    "                \"MINdif\" : np.nanmin(dif),\n",
    "                \"rM\"      : np.mean(d[dwe][\"r\"])\n",
    "            }\n",
    "            results.append(to_results)\n",
    "    if aggregate == 2:\n",
    "        dif = d[\"dif\"]\n",
    "        to_results = {\n",
    "            \"DWE\"    : None,\n",
    "            \"Mdif\"   : np.nanmean(dif),\n",
    "            \"SDdif\"  : np.nanstd(dif),\n",
    "            \"MAXdif\" : np.nanmax(dif),\n",
    "            \"MINdif\" : np.nanmin(dif),\n",
    "            \"rM\"      : np.mean(d[\"r\"])\n",
    "        }\n",
    "        results.append(to_results)        \n",
    "        \n",
    "    \n",
    "    return pd.DataFrame(results)\n",
    "            \n"
   ]
  },
  {
   "cell_type": "markdown",
   "metadata": {},
   "source": [
    "## `cnt` vs. `pwn`?"
   ]
  },
  {
   "cell_type": "markdown",
   "metadata": {},
   "source": [
    "### SGNS"
   ]
  },
  {
   "cell_type": "code",
   "execution_count": null,
   "metadata": {},
   "outputs": [],
   "source": [
    "compare_measures(\n",
    "    iod_data = sgns_iod, \n",
    "    measures = (\"I-cnt\", \"I-pwn\"), \n",
    "    years = years, \n",
    "    corr = pearsonr, \n",
    "    dwes = \"all\", \n",
    "    aggregate = 1\n",
    ")"
   ]
  },
  {
   "cell_type": "code",
   "execution_count": null,
   "metadata": {
    "scrolled": true
   },
   "outputs": [],
   "source": [
    "compare_measures(\n",
    "    iod_data = sgns_iod, \n",
    "    measures = (\"O-cnt\", \"O-pwn\"), \n",
    "    years = years, \n",
    "    corr = pearsonr, \n",
    "    dwes = \"all\", \n",
    "    aggregate = 1\n",
    ")"
   ]
  },
  {
   "cell_type": "markdown",
   "metadata": {},
   "source": [
    "Note: `N1_globalist`! A frequency effect?"
   ]
  },
  {
   "cell_type": "markdown",
   "metadata": {},
   "source": [
    "### KB"
   ]
  },
  {
   "cell_type": "code",
   "execution_count": null,
   "metadata": {},
   "outputs": [],
   "source": [
    "compare_measures(\n",
    "    iod_data = kb_iod, \n",
    "    measures = (\"I-cnt\", \"I-pwn\"), \n",
    "    years = years, \n",
    "    corr = pearsonr, \n",
    "    dwes = \"all\", \n",
    "    aggregate = 1\n",
    ")"
   ]
  },
  {
   "cell_type": "code",
   "execution_count": null,
   "metadata": {},
   "outputs": [],
   "source": [
    "compare_measures(\n",
    "    iod_data = kb_iod, \n",
    "    measures = (\"O-cnt\", \"O-pwn\"), \n",
    "    years = years, \n",
    "    corr = pearsonr, \n",
    "    dwes = \"all\", \n",
    "    aggregate = 1\n",
    ")"
   ]
  },
  {
   "cell_type": "markdown",
   "metadata": {},
   "source": [
    "### STS"
   ]
  },
  {
   "cell_type": "code",
   "execution_count": null,
   "metadata": {},
   "outputs": [],
   "source": [
    "compare_measures(\n",
    "    iod_data = sts_iod, \n",
    "    measures = (\"I-cnt\", \"I-pwn\"), \n",
    "    years = years, \n",
    "    corr = pearsonr, \n",
    "    dwes = \"all\", \n",
    "    aggregate = 1\n",
    ")"
   ]
  },
  {
   "cell_type": "code",
   "execution_count": null,
   "metadata": {},
   "outputs": [],
   "source": [
    "compare_measures(\n",
    "    iod_data = sts_iod, \n",
    "    measures = (\"O-cnt\", \"O-pwn\"), \n",
    "    years = years, \n",
    "    corr = pearsonr, \n",
    "    dwes = \"all\", \n",
    "    aggregate = 1\n",
    ")"
   ]
  },
  {
   "cell_type": "markdown",
   "metadata": {},
   "source": [
    "**Summary:** Values of `cnt` and `pwn` are different, but *very* strongly correlated. The only exception is:\n",
    "\n",
    "* SGNS-model\n",
    "* Outgroup-dimension\n",
    "* *globalist*\n",
    "\n",
    "Here the correlation is 0.6 instead of 1.0. *Why?* (What is the \"conceptual\" difference between `cnt` and `pwn`? Consider Hamilton et al.)."
   ]
  },
  {
   "cell_type": "markdown",
   "metadata": {},
   "source": [
    "## `ssc` vs. `smx`?"
   ]
  },
  {
   "cell_type": "markdown",
   "metadata": {},
   "source": [
    "### SGNS"
   ]
  },
  {
   "cell_type": "code",
   "execution_count": null,
   "metadata": {},
   "outputs": [],
   "source": [
    "compare_measures(\n",
    "    iod_data = sgns_iod, \n",
    "    measures = (\"cnt-ssc\", \"cnt-smx\"), \n",
    "    years = years, \n",
    "    corr = pearsonr, \n",
    "    dwes = \"all\", \n",
    "    aggregate = 1\n",
    ")"
   ]
  },
  {
   "cell_type": "markdown",
   "metadata": {},
   "source": [
    "Note: `N1_kulturberikare`"
   ]
  },
  {
   "cell_type": "code",
   "execution_count": null,
   "metadata": {},
   "outputs": [],
   "source": [
    "compare_measures(\n",
    "    iod_data = sgns_iod, \n",
    "    measures = (\"pwn-ssc\", \"pwn-smx\"), \n",
    "    years = years, \n",
    "    corr = pearsonr, \n",
    "    dwes = \"all\", \n",
    "    aggregate = 1\n",
    ")"
   ]
  },
  {
   "cell_type": "markdown",
   "metadata": {},
   "source": [
    "Again, note: `N1_kulturberikare`, `V1_berika`"
   ]
  },
  {
   "cell_type": "markdown",
   "metadata": {},
   "source": [
    "### STS"
   ]
  },
  {
   "cell_type": "code",
   "execution_count": null,
   "metadata": {},
   "outputs": [],
   "source": [
    "compare_measures(\n",
    "    iod_data = sts_iod, \n",
    "    measures = (\"cnt-ssc\", \"cnt-smx\"), \n",
    "    years = years, \n",
    "    corr = pearsonr, \n",
    "    dwes = \"all\", \n",
    "    aggregate = 1\n",
    ")"
   ]
  },
  {
   "cell_type": "code",
   "execution_count": null,
   "metadata": {},
   "outputs": [],
   "source": [
    "compare_measures(\n",
    "    iod_data = sts_iod, \n",
    "    measures = (\"pwn-ssc\", \"pwn-smx\"), \n",
    "    years = years, \n",
    "    corr = pearsonr, \n",
    "    dwes = \"all\", \n",
    "    aggregate = 1\n",
    ")"
   ]
  },
  {
   "cell_type": "markdown",
   "metadata": {},
   "source": [
    "### KB"
   ]
  },
  {
   "cell_type": "code",
   "execution_count": null,
   "metadata": {},
   "outputs": [],
   "source": [
    "compare_measures(\n",
    "    iod_data = kb_iod, \n",
    "    measures = (\"cnt-ssc\", \"cnt-smx\"), \n",
    "    years = years, \n",
    "    corr = pearsonr, \n",
    "    dwes = \"all\", \n",
    "    aggregate = 1\n",
    ")"
   ]
  },
  {
   "cell_type": "markdown",
   "metadata": {},
   "source": [
    "Note: `N1_globalist`"
   ]
  },
  {
   "cell_type": "code",
   "execution_count": null,
   "metadata": {},
   "outputs": [],
   "source": [
    "compare_measures(\n",
    "    iod_data = kb_iod, \n",
    "    measures = (\"pwn-ssc\", \"pwn-smx\"), \n",
    "    years = years, \n",
    "    corr = pearsonr, \n",
    "    dwes = \"all\", \n",
    "    aggregate = 1\n",
    ")"
   ]
  },
  {
   "cell_type": "markdown",
   "metadata": {},
   "source": [
    "Note: `N1_globalist`"
   ]
  },
  {
   "cell_type": "markdown",
   "metadata": {},
   "source": [
    "**Summary:** Values of `ssc` and `smx` are different, but very strongly correlated. Exceptions are:\n",
    "\n",
    "|     |      `ssc`     |             `smx`          |\n",
    "|-----|----------------|----------------------------|\n",
    "|SNGS |*kulturberikare*|*kulturberikare*, *berikare*|\n",
    "|KB   |*globalist*     |*globalist*                 |\n",
    "\n",
    "*When less strongly correlated, why?* What is the \"conceptual\" difference between `ssc` and `smx`? Look at time plots. `smx` seems less variable, while `ssc` is more \"responsive\" to big gaps between ingroup and outgroup dimension."
   ]
  },
  {
   "cell_type": "markdown",
   "metadata": {},
   "source": [
    "## Appendix: Correlation of Selection Strategies"
   ]
  },
  {
   "cell_type": "markdown",
   "metadata": {},
   "source": [
    "### SGNS"
   ]
  },
  {
   "cell_type": "markdown",
   "metadata": {},
   "source": [
    "#### Återvandring"
   ]
  },
  {
   "cell_type": "code",
   "execution_count": 223,
   "metadata": {},
   "outputs": [
    {
     "data": {
      "text/html": [
       "<div>\n",
       "<style scoped>\n",
       "    .dataframe tbody tr th:only-of-type {\n",
       "        vertical-align: middle;\n",
       "    }\n",
       "\n",
       "    .dataframe tbody tr th {\n",
       "        vertical-align: top;\n",
       "    }\n",
       "\n",
       "    .dataframe thead th {\n",
       "        text-align: right;\n",
       "    }\n",
       "</style>\n",
       "<table border=\"1\" class=\"dataframe\">\n",
       "  <thead>\n",
       "    <tr style=\"text-align: right;\">\n",
       "      <th>labels</th>\n",
       "      <th>top3-lazy</th>\n",
       "      <th>top3-greedy</th>\n",
       "      <th>top3-top3</th>\n",
       "      <th>top3-min0.2</th>\n",
       "      <th>ms1-lazy</th>\n",
       "      <th>ms1-greedy</th>\n",
       "      <th>ms1-top3</th>\n",
       "      <th>ms1-min0.2</th>\n",
       "      <th>Mean</th>\n",
       "    </tr>\n",
       "    <tr>\n",
       "      <th>labels</th>\n",
       "      <th></th>\n",
       "      <th></th>\n",
       "      <th></th>\n",
       "      <th></th>\n",
       "      <th></th>\n",
       "      <th></th>\n",
       "      <th></th>\n",
       "      <th></th>\n",
       "      <th></th>\n",
       "    </tr>\n",
       "  </thead>\n",
       "  <tbody>\n",
       "    <tr>\n",
       "      <th>top3-lazy</th>\n",
       "      <td>1.000</td>\n",
       "      <td>0.481</td>\n",
       "      <td>0.508</td>\n",
       "      <td>0.678</td>\n",
       "      <td>0.255</td>\n",
       "      <td>0.224</td>\n",
       "      <td>0.475</td>\n",
       "      <td>0.564</td>\n",
       "      <td>0.523125</td>\n",
       "    </tr>\n",
       "    <tr>\n",
       "      <th>top3-greedy</th>\n",
       "      <td>0.481</td>\n",
       "      <td>1.000</td>\n",
       "      <td>0.977</td>\n",
       "      <td>0.751</td>\n",
       "      <td>0.699</td>\n",
       "      <td>0.568</td>\n",
       "      <td>0.655</td>\n",
       "      <td>0.667</td>\n",
       "      <td>0.724750</td>\n",
       "    </tr>\n",
       "    <tr>\n",
       "      <th>top3-top3</th>\n",
       "      <td>0.508</td>\n",
       "      <td>0.977</td>\n",
       "      <td>1.000</td>\n",
       "      <td>0.829</td>\n",
       "      <td>0.679</td>\n",
       "      <td>0.508</td>\n",
       "      <td>0.618</td>\n",
       "      <td>0.739</td>\n",
       "      <td>0.732250</td>\n",
       "    </tr>\n",
       "    <tr>\n",
       "      <th>top3-min0.2</th>\n",
       "      <td>0.678</td>\n",
       "      <td>0.751</td>\n",
       "      <td>0.829</td>\n",
       "      <td>1.000</td>\n",
       "      <td>0.667</td>\n",
       "      <td>0.327</td>\n",
       "      <td>0.498</td>\n",
       "      <td>0.882</td>\n",
       "      <td>0.704000</td>\n",
       "    </tr>\n",
       "    <tr>\n",
       "      <th>ms1-lazy</th>\n",
       "      <td>0.255</td>\n",
       "      <td>0.699</td>\n",
       "      <td>0.679</td>\n",
       "      <td>0.667</td>\n",
       "      <td>1.000</td>\n",
       "      <td>0.613</td>\n",
       "      <td>0.623</td>\n",
       "      <td>0.734</td>\n",
       "      <td>0.658750</td>\n",
       "    </tr>\n",
       "    <tr>\n",
       "      <th>ms1-greedy</th>\n",
       "      <td>0.224</td>\n",
       "      <td>0.568</td>\n",
       "      <td>0.508</td>\n",
       "      <td>0.327</td>\n",
       "      <td>0.613</td>\n",
       "      <td>1.000</td>\n",
       "      <td>0.895</td>\n",
       "      <td>0.537</td>\n",
       "      <td>0.584000</td>\n",
       "    </tr>\n",
       "    <tr>\n",
       "      <th>ms1-top3</th>\n",
       "      <td>0.475</td>\n",
       "      <td>0.655</td>\n",
       "      <td>0.618</td>\n",
       "      <td>0.498</td>\n",
       "      <td>0.623</td>\n",
       "      <td>0.895</td>\n",
       "      <td>1.000</td>\n",
       "      <td>0.646</td>\n",
       "      <td>0.676250</td>\n",
       "    </tr>\n",
       "    <tr>\n",
       "      <th>ms1-min0.2</th>\n",
       "      <td>0.564</td>\n",
       "      <td>0.667</td>\n",
       "      <td>0.739</td>\n",
       "      <td>0.882</td>\n",
       "      <td>0.734</td>\n",
       "      <td>0.537</td>\n",
       "      <td>0.646</td>\n",
       "      <td>1.000</td>\n",
       "      <td>0.721125</td>\n",
       "    </tr>\n",
       "  </tbody>\n",
       "</table>\n",
       "</div>"
      ],
      "text/plain": [
       "labels       top3-lazy  top3-greedy  top3-top3  top3-min0.2  ms1-lazy  \\\n",
       "labels                                                                  \n",
       "top3-lazy        1.000        0.481      0.508        0.678     0.255   \n",
       "top3-greedy      0.481        1.000      0.977        0.751     0.699   \n",
       "top3-top3        0.508        0.977      1.000        0.829     0.679   \n",
       "top3-min0.2      0.678        0.751      0.829        1.000     0.667   \n",
       "ms1-lazy         0.255        0.699      0.679        0.667     1.000   \n",
       "ms1-greedy       0.224        0.568      0.508        0.327     0.613   \n",
       "ms1-top3         0.475        0.655      0.618        0.498     0.623   \n",
       "ms1-min0.2       0.564        0.667      0.739        0.882     0.734   \n",
       "\n",
       "labels       ms1-greedy  ms1-top3  ms1-min0.2      Mean  \n",
       "labels                                                   \n",
       "top3-lazy         0.224     0.475       0.564  0.523125  \n",
       "top3-greedy       0.568     0.655       0.667  0.724750  \n",
       "top3-top3         0.508     0.618       0.739  0.732250  \n",
       "top3-min0.2       0.327     0.498       0.882  0.704000  \n",
       "ms1-lazy          0.613     0.623       0.734  0.658750  \n",
       "ms1-greedy        1.000     0.895       0.537  0.584000  \n",
       "ms1-top3          0.895     1.000       0.646  0.676250  \n",
       "ms1-min0.2        0.537     0.646       1.000  0.721125  "
      ]
     },
     "execution_count": 223,
     "metadata": {},
     "output_type": "execute_result"
    }
   ],
   "source": [
    "compare(iod_data=fb_sgns_w15_200_iod, term=\"N1_återvandring\", criterion={\"Method\":\"I-cnt\"}, add_mean=True)"
   ]
  },
  {
   "cell_type": "code",
   "execution_count": 224,
   "metadata": {},
   "outputs": [
    {
     "ename": "NameError",
     "evalue": "name 'sgns_iod' is not defined",
     "output_type": "error",
     "traceback": [
      "\u001b[0;31m---------------------------------------------------------------------------\u001b[0m",
      "\u001b[0;31mNameError\u001b[0m                                 Traceback (most recent call last)",
      "\u001b[0;32m<ipython-input-224-8a6572956032>\u001b[0m in \u001b[0;36m<module>\u001b[0;34m\u001b[0m\n\u001b[0;32m----> 1\u001b[0;31m \u001b[0mcompare\u001b[0m\u001b[0;34m(\u001b[0m\u001b[0miod_data\u001b[0m\u001b[0;34m=\u001b[0m\u001b[0msgns_iod\u001b[0m\u001b[0;34m,\u001b[0m \u001b[0mterm\u001b[0m\u001b[0;34m=\u001b[0m\u001b[0;34m\"N1_återvandring\"\u001b[0m\u001b[0;34m,\u001b[0m \u001b[0mcriterion\u001b[0m\u001b[0;34m=\u001b[0m\u001b[0;34m{\u001b[0m\u001b[0;34m\"Method\"\u001b[0m\u001b[0;34m:\u001b[0m\u001b[0;34m\"cnt-ssc\"\u001b[0m\u001b[0;34m}\u001b[0m\u001b[0;34m,\u001b[0m \u001b[0madd_mean\u001b[0m\u001b[0;34m=\u001b[0m\u001b[0;32mTrue\u001b[0m\u001b[0;34m)\u001b[0m\u001b[0;34m\u001b[0m\u001b[0;34m\u001b[0m\u001b[0m\n\u001b[0m",
      "\u001b[0;31mNameError\u001b[0m: name 'sgns_iod' is not defined"
     ]
    }
   ],
   "source": [
    "compare(iod_data=sgns_iod, term=\"N1_återvandring\", criterion={\"Method\":\"cnt-ssc\"}, add_mean=True)"
   ]
  },
  {
   "cell_type": "code",
   "execution_count": null,
   "metadata": {},
   "outputs": [],
   "source": [
    "compare(iod_data=sgns_iod, term=\"N1_återvandring\", criterion={\"Method\":\"I-cnt\", \"A-Strategy\":\"ms1\"}, add_mean=True)"
   ]
  },
  {
   "cell_type": "code",
   "execution_count": null,
   "metadata": {
    "scrolled": false
   },
   "outputs": [],
   "source": [
    "compare(iod_data=sgns_iod, term=\"N1_återvandring\", criterion={\"Method\":\"I-cnt\", \"A-Strategy\": \"top3\"})"
   ]
  },
  {
   "cell_type": "markdown",
   "metadata": {},
   "source": [
    "#### Berika"
   ]
  },
  {
   "cell_type": "code",
   "execution_count": null,
   "metadata": {},
   "outputs": [],
   "source": [
    "compare(iod_data=sgns_iod, term=\"V1_berika\", criterion={\"Method\":\"I-cnt\"}, add_mean=True)"
   ]
  },
  {
   "cell_type": "code",
   "execution_count": null,
   "metadata": {
    "scrolled": true
   },
   "outputs": [],
   "source": [
    "compare(iod_data=sgns_iod, term=\"V1_berika\", criterion={\"Method\":\"I-cnt\", \"A-Strategy\":\"ms1\"}, add_mean=True)"
   ]
  },
  {
   "cell_type": "code",
   "execution_count": null,
   "metadata": {
    "scrolled": false
   },
   "outputs": [],
   "source": [
    "compare(iod_data=sgns_iod, term=\"V1_berika\", criterion={\"Method\":\"I-cnt\", \"A-Strategy\": \"top3\"})"
   ]
  },
  {
   "cell_type": "markdown",
   "metadata": {},
   "source": [
    "##### Kulturberika"
   ]
  },
  {
   "cell_type": "code",
   "execution_count": null,
   "metadata": {},
   "outputs": [],
   "source": [
    "compare(iod_data=sgns_iod, term=\"V1_kulturberika\", criterion={\"Method\":\"I-cnt\"}, add_mean=True)"
   ]
  },
  {
   "cell_type": "code",
   "execution_count": null,
   "metadata": {
    "scrolled": true
   },
   "outputs": [],
   "source": [
    "compare(iod_data=sgns_iod, term=\"V1_kulturberika\", criterion={\"Method\":\"I-cnt\", \"A-Strategy\":\"ms1\"}, add_mean=True)"
   ]
  },
  {
   "cell_type": "code",
   "execution_count": null,
   "metadata": {
    "scrolled": false
   },
   "outputs": [],
   "source": [
    "compare(iod_data=sgns_iod, term=\"V1_kulturberika\", criterion={\"Method\":\"I-cnt\", \"A-Strategy\": \"top3\"})"
   ]
  },
  {
   "cell_type": "markdown",
   "metadata": {},
   "source": [
    "#### Förortsgäng"
   ]
  },
  {
   "cell_type": "code",
   "execution_count": null,
   "metadata": {},
   "outputs": [],
   "source": [
    "compare(iod_data=sgns_iod, term=\"N1_förortsgäng\", criterion={\"Method\":\"I-cnt\"}, add_mean=True)"
   ]
  },
  {
   "cell_type": "code",
   "execution_count": null,
   "metadata": {
    "scrolled": true
   },
   "outputs": [],
   "source": [
    "compare(iod_data=sgns_iod, term=\"N1_förortsgäng\", criterion={\"Method\":\"I-cnt\", \"A-Strategy\":\"ms1\"}, add_mean=True)"
   ]
  },
  {
   "cell_type": "code",
   "execution_count": null,
   "metadata": {
    "scrolled": false
   },
   "outputs": [],
   "source": [
    "compare(iod_data=sgns_iod, term=\"N1_förortsgäng\", criterion={\"Method\":\"I-cnt\", \"A-Strategy\": \"top3\"})"
   ]
  },
  {
   "cell_type": "markdown",
   "metadata": {},
   "source": [
    "#### Globalist"
   ]
  },
  {
   "cell_type": "code",
   "execution_count": null,
   "metadata": {},
   "outputs": [],
   "source": [
    "compare(iod_data=sgns_iod, term=\"N1_globalist\", criterion={\"Method\":\"I-cnt\"}, add_mean=True)"
   ]
  },
  {
   "cell_type": "code",
   "execution_count": null,
   "metadata": {},
   "outputs": [],
   "source": [
    "compare(iod_data=sgns_iod, term=\"N1_globalist\", criterion={\"Method\":\"cnt-ssc\"}, add_mean=True)"
   ]
  },
  {
   "cell_type": "code",
   "execution_count": null,
   "metadata": {
    "scrolled": true
   },
   "outputs": [],
   "source": [
    "compare(iod_data=sgns_iod, term=\"N1_globalist\", criterion={\"Method\":\"I-cnt\", \"A-Strategy\":\"ms1\"}, add_mean=True)"
   ]
  },
  {
   "cell_type": "code",
   "execution_count": null,
   "metadata": {
    "scrolled": false
   },
   "outputs": [],
   "source": [
    "compare(iod_data=sgns_iod, term=\"N1_globalist\", criterion={\"Method\":\"I-cnt\", \"A-Strategy\": \"top3\"})"
   ]
  },
  {
   "cell_type": "markdown",
   "metadata": {},
   "source": [
    "## Appendix: Correlation external variables"
   ]
  },
  {
   "cell_type": "code",
   "execution_count": null,
   "metadata": {},
   "outputs": [],
   "source": [
    "def correlation(\n",
    "    iod_data, \n",
    "    iod_var, \n",
    "    lsc_data, \n",
    "    lsc_var, \n",
    "    norm_iod = None,\n",
    "    norm_lsc = None,\n",
    "    method=spearmanr, \n",
    "    only_sign = True, \n",
    "    years = years,\n",
    "    difference = False,\n",
    "    baseline = \"first\" # first or second year of pair (t_i, t_j)\n",
    "):\n",
    "    \n",
    "    results = []\n",
    "    \n",
    "    if type(iod_var) == dict:\n",
    "        iod_var = iod_var.items()\n",
    "        \n",
    "    X = iod_data.copy()\n",
    "    for var, val in iod_var:\n",
    "        X = X[X[var]==val]\n",
    "    \n",
    "    if lsc_var == \"fpm\":\n",
    "        X = X[[str(y) for y in years]]\n",
    "    else:\n",
    "        if difference:\n",
    "#             transitions = [f\"{str(year)[2:]}:{str(int(year)+1)[2:]}\" for year in years[:-1]]\n",
    "            transitions = [f\"{str(year)}:{str(int(year)+1)}\" for year in years[:-1]]\n",
    "            X = X[transitions]\n",
    "        else:\n",
    "            if baseline == \"first\":\n",
    "                X = X[[str(y) for y in years[:-1]]]\n",
    "            if baseline == \"second\":\n",
    "                X = X[[str(y) for y in years[1:]]]\n",
    "   \n",
    "    col = [v for v in lsc_data.columns if v.startswith(lsc_var)]\n",
    "    #col = [v for v in lsc_data.columns if v.startswith(lsc_var)][:-1]\n",
    "    \n",
    "#     for a, b, in zip(X.columns, col):\n",
    "#         print(a, b)\n",
    "#     print(\"----\")\n",
    "    \n",
    "    idx = []\n",
    "    for i in X.index:\n",
    "        x = X.loc[i]\n",
    "        dwe = iod_data.iloc[i][\"DWE\"]\n",
    "        if dwe not in lsc_data.index:\n",
    "            continue\n",
    "        y = lsc_data.loc[dwe][col]\n",
    "        \n",
    "        x,y = zip(*[(a,b) for a,b in zip(x,y) if not pd.isna(a) and not pd.isna(b)])\n",
    "        \n",
    "        if norm_iod:\n",
    "            x = norm_iod(x)\n",
    "        if norm_lsc:\n",
    "            y = norm_lsc(y)\n",
    "            \n",
    "        \n",
    "        N = len(x)\n",
    "\n",
    "        stat = method(x, y)\n",
    "        \n",
    "        d = {\n",
    "            \"Corr\": stat[0],\n",
    "            \"p\": stat[1],\n",
    "            \"N\": N,\n",
    "        }\n",
    "        \n",
    "        if only_sign:\n",
    "            if stat[1] < 0.05:\n",
    "                idx.append(i)\n",
    "                results.append(d)\n",
    "        else:\n",
    "            idx.append(i)\n",
    "            results.append(d)\n",
    "    \n",
    "    df = pd.DataFrame(results, index=idx)\n",
    "    headings = [h for h in iod_data.columns if not any(ch.isdigit() for ch in h)]\n",
    "    df = pd.concat([iod_data.loc[idx][headings], df], axis=1)\n",
    "    \n",
    "    return df\n",
    "    "
   ]
  },
  {
   "cell_type": "code",
   "execution_count": null,
   "metadata": {},
   "outputs": [],
   "source": [
    "def ConCat(feature, base_criterion, measures, iod, lsc, years, baseline):\n",
    "    results = []\n",
    "    criterion = dict(base_criterion)\n",
    "    for m in sorted(measures):\n",
    "        criterion[\"Method\"] = m\n",
    "        df = correlation(iod, criterion, lsc, feature, years = years, method=pearsonr, only_sign = False, baseline=baseline)\n",
    "        df.set_index(\"DWE\", inplace=True)\n",
    "#         print(df)\n",
    "#         break\n",
    "        N = df[\"N\"]\n",
    "        df = df[[\"Corr\", \"p\"]]\n",
    "        df.rename({\"Corr\":m}, axis=1, inplace=True)\n",
    "        results.append(df)\n",
    "    results.append(N)\n",
    "    return pd.concat(results, axis=1).round(3)"
   ]
  },
  {
   "cell_type": "code",
   "execution_count": null,
   "metadata": {
    "scrolled": true
   },
   "outputs": [],
   "source": [
    "#ConCat(\"gch\", standard, measures_cnt + measures_pwn, sgns_iod, sgns_lsc, years, baseline=\"first\")"
   ]
  },
  {
   "cell_type": "code",
   "execution_count": null,
   "metadata": {},
   "outputs": [],
   "source": [
    "#ConCat(\"gch\", standard, measures_cnt + measures_pwn, sgns_iod, sgns_lsc, years, baseline=\"second\")"
   ]
  },
  {
   "cell_type": "code",
   "execution_count": null,
   "metadata": {},
   "outputs": [],
   "source": [
    "def pwalk(\n",
    "    iod_data, \n",
    "    #iod_var, \n",
    "    lsc_data, \n",
    "    lsc_var, \n",
    "    norm_iod = None,\n",
    "    norm_lsc = None,\n",
    "    method=pearsonr, \n",
    "    s_combos = \"all\",\n",
    "    iod_methods = [\"I-cnt\", \"O-cnt\", \"cnt-ssc\"],\n",
    "    #only_sign = True, \n",
    "    years = years,\n",
    "    criterion = \"p\",\n",
    "    binary = True,\n",
    "    threshold = 0.05,\n",
    "    add_total = True\n",
    "    ):\n",
    "    \n",
    "    dfs = []\n",
    "    \n",
    "    if s_combos == \"all\":\n",
    "        combos = []\n",
    "        col = [c for c in iod_data.columns if c.lower().endswith(\"strategy\")]\n",
    "        \n",
    "        if len(col) == 1:\n",
    "            val = set(iod_data[col[0]].values)\n",
    "            for v in val:\n",
    "                for m in iod_methods:\n",
    "                    combos.append({col[0]:v,\"Method\":m})\n",
    "        if len(col) == 2:\n",
    "            val1 = set(iod_data[col[0]].values)\n",
    "            val2 = set(iod_data[col[1]].values)\n",
    "            for v1 in val1:\n",
    "                for v2 in val2:\n",
    "                    for m in iod_methods:\n",
    "                        combos.append({col[0]:v1, col[1]: v2, \"Method\":m})            \n",
    "    \n",
    "#    print(combos)\n",
    "    \n",
    "    key = {}\n",
    "    \n",
    "    for combo in combos:\n",
    "        \n",
    "        df = correlation(\n",
    "            iod_data=iod_data, \n",
    "            iod_var=combo, \n",
    "            lsc_data=lsc_data, \n",
    "            lsc_var=lsc_var, \n",
    "            norm_iod=norm_iod, \n",
    "            norm_lsc=norm_lsc, \n",
    "            method=method, \n",
    "            only_sign=False, \n",
    "            years=years)\n",
    "        \n",
    "        #return df[\"p\"]\n",
    "        \n",
    "        if binary:\n",
    "            df[criterion] = df[criterion] < threshold\n",
    "            df[criterion] = df[criterion].astype(int)\n",
    "        \n",
    "        name = \"-\".join([f\"{var}:{val}\" for var, val in combo.items()])\n",
    "#         df = df[criterion]\n",
    "\n",
    "        if list(key.values()) == []:\n",
    "            key[name] = 0\n",
    "        else:\n",
    "            key[name] = max(key.values())+1\n",
    "        \n",
    "        df = df.rename({criterion: key[name]}, axis=1)\n",
    "        df.set_index(\"DWE\", inplace=True)\n",
    "        df = df[key[name]]\n",
    "        \n",
    "        dfs.append(df)\n",
    "        \n",
    "    results = pd.concat(dfs, axis=1)\n",
    "    if add_total:\n",
    "        results.loc['Column_Total'] = results.sum(numeric_only=True, axis=0)\n",
    "#         results = results.append(results.sum(numeric_only=True), ignore_index=True)\n",
    "        \n",
    "    \n",
    "    return results, key\n",
    "        \n",
    "    "
   ]
  },
  {
   "cell_type": "code",
   "execution_count": null,
   "metadata": {},
   "outputs": [],
   "source": [
    "def maximizer(df, key):\n",
    "    col_idx = df.loc[\"Column_Total\"].idxmax(axis=0)\n",
    "    combo = dict([(v, k) for k, v in key.items()])\n",
    "    return combo[col_idx], key[combo[col_idx]]"
   ]
  },
  {
   "cell_type": "code",
   "execution_count": null,
   "metadata": {},
   "outputs": [],
   "source": [
    "#ConCat(\"gch\", standard, measures_cnt + measures_pwn, fm_sgns_iod, fm_sgns_lsc, fm_years)"
   ]
  },
  {
   "cell_type": "code",
   "execution_count": null,
   "metadata": {},
   "outputs": [],
   "source": [
    "correlation(\n",
    "    fb_sgns_iod, \n",
    "    {\"Method\": \"I-cnt\", \"A-Strategy\":\"top3\", \"B-Strategy\":\"min0.2\"}, \n",
    "    fb_sgns_lsc, \n",
    "    \"rch\",\n",
    "    method=pearsonr, \n",
    "    only_sign=False,\n",
    "    difference = True\n",
    ")"
   ]
  },
  {
   "cell_type": "code",
   "execution_count": null,
   "metadata": {},
   "outputs": [],
   "source": [
    "correlation(\n",
    "    sgns_iod, \n",
    "    {\"Method\": \"I-cnt\", \"A-Strategy\":\"ms1\", \"B-Strategy\":\"min0.2\"}, \n",
    "    sgns_lsc, \n",
    "    \"gch\",\n",
    "    method=pearsonr, \n",
    "    only_sign=False,\n",
    "    difference = False,\n",
    "    baseline=\"first\"\n",
    ")"
   ]
  },
  {
   "cell_type": "code",
   "execution_count": null,
   "metadata": {},
   "outputs": [],
   "source": [
    "correlation(\n",
    "    sgns_iod, \n",
    "    {\"Method\": \"I-cnt\", \"A-Strategy\":\"ms1\", \"B-Strategy\":\"min0.2\"}, \n",
    "    sgns_lsc, \n",
    "    \"gch\",\n",
    "    method=pearsonr, \n",
    "    only_sign=False,\n",
    "    difference = False,\n",
    "    baseline = \"second\"\n",
    ")"
   ]
  },
  {
   "cell_type": "markdown",
   "metadata": {},
   "source": [
    "## Appendix: Correlation FPM"
   ]
  },
  {
   "cell_type": "markdown",
   "metadata": {},
   "source": [
    "### SGNS"
   ]
  },
  {
   "cell_type": "code",
   "execution_count": null,
   "metadata": {},
   "outputs": [],
   "source": [
    "df, key = pwalk(\n",
    "    iod_data = sgns_iod, \n",
    "    #iod_var, \n",
    "    lsc_data = sgns_lsc, \n",
    "    lsc_var = \"fpm\", \n",
    "    norm_iod = None,\n",
    "    norm_lsc = np.log10,\n",
    "    method=pearsonr, \n",
    "    s_combos = \"all\",\n",
    "    iod_methods = [\"I-cnt\", \"O-cnt\", \"cnt-ssc\"],\n",
    "    #only_sign = True, \n",
    "    years = years,\n",
    "    criterion = \"p\",\n",
    "    binary = True,\n",
    "    threshold = 0.05    \n",
    "    )\n",
    "maximizer(df, key)"
   ]
  },
  {
   "cell_type": "code",
   "execution_count": null,
   "metadata": {},
   "outputs": [],
   "source": [
    "df"
   ]
  },
  {
   "cell_type": "code",
   "execution_count": null,
   "metadata": {
    "scrolled": true
   },
   "outputs": [],
   "source": [
    "df.loc[:, df.loc[\"Column_Total\"] > 4].rename({v:k for k,v in key.items()}, axis=1)"
   ]
  },
  {
   "cell_type": "code",
   "execution_count": null,
   "metadata": {},
   "outputs": [],
   "source": []
  },
  {
   "cell_type": "code",
   "execution_count": null,
   "metadata": {},
   "outputs": [],
   "source": [
    "correlation(sgns_iod, {'A-Strategy':'ms1','B-Strategy':'min0.2','Method':'I-cnt'}, sgns_lsc, \"fpm\", norm_lsc = np.log10, method=pearsonr)"
   ]
  },
  {
   "cell_type": "code",
   "execution_count": null,
   "metadata": {},
   "outputs": [],
   "source": [
    "correlation(sgns_iod, {\"A-Strategy\":\"ms1\", \"B-Strategy\":\"top3\",'Method':'I-cnt'}, sgns_lsc, \"fpm\", norm_lsc = np.log10, method=pearsonr)"
   ]
  },
  {
   "cell_type": "code",
   "execution_count": null,
   "metadata": {},
   "outputs": [],
   "source": [
    "#"
   ]
  },
  {
   "cell_type": "code",
   "execution_count": null,
   "metadata": {
    "scrolled": true
   },
   "outputs": [],
   "source": [
    "fpm[\"DWE\"].value_counts()"
   ]
  },
  {
   "cell_type": "code",
   "execution_count": null,
   "metadata": {
    "scrolled": true
   },
   "outputs": [],
   "source": [
    "fpm[\"A-Strategy\"].value_counts()"
   ]
  },
  {
   "cell_type": "code",
   "execution_count": null,
   "metadata": {},
   "outputs": [],
   "source": [
    "fpm[\"B-Strategy\"].value_counts()"
   ]
  },
  {
   "cell_type": "code",
   "execution_count": null,
   "metadata": {
    "scrolled": true
   },
   "outputs": [],
   "source": [
    "fpm[\"Method\"].value_counts()"
   ]
  },
  {
   "cell_type": "code",
   "execution_count": null,
   "metadata": {},
   "outputs": [],
   "source": [
    "correlation(\n",
    "    sgns_iod, \n",
    "    {\"Method\": \"I-cnt\", \"A-Strategy\":\"ms1\", \"B-Strategy\":\"min0.2\"}, \n",
    "    sgns_lsc, \n",
    "    \"fpm\",\n",
    "    norm_lsc = np.log10,\n",
    "    method=pearsonr, \n",
    "    only_sign=False\n",
    ")"
   ]
  },
  {
   "cell_type": "code",
   "execution_count": null,
   "metadata": {},
   "outputs": [],
   "source": [
    "correlation(\n",
    "    sgns_iod, \n",
    "    {\"Method\": \"cnt-ssc\", \"A-Strategy\":\"ms1\", \"B-Strategy\":\"min0.2\"}, \n",
    "    sgns_lsc, \n",
    "    \"fpm\", \n",
    "    norm_lsc = np.log10,\n",
    "    method=pearsonr, \n",
    "    only_sign=False\n",
    ")"
   ]
  },
  {
   "cell_type": "markdown",
   "metadata": {},
   "source": [
    "### STS"
   ]
  },
  {
   "cell_type": "code",
   "execution_count": null,
   "metadata": {},
   "outputs": [],
   "source": [
    "fpm = correlation(sts_iod, {}, sts_lsc, \"fpm\", method=pearsonr); fpm"
   ]
  },
  {
   "cell_type": "code",
   "execution_count": null,
   "metadata": {},
   "outputs": [],
   "source": [
    "fpm[\"DWE\"].value_counts()"
   ]
  },
  {
   "cell_type": "code",
   "execution_count": null,
   "metadata": {},
   "outputs": [],
   "source": [
    "fpm[\"A-Strategy\"].value_counts()"
   ]
  },
  {
   "cell_type": "code",
   "execution_count": null,
   "metadata": {},
   "outputs": [],
   "source": [
    "fpm[\"Method\"].value_counts()"
   ]
  },
  {
   "cell_type": "code",
   "execution_count": null,
   "metadata": {},
   "outputs": [],
   "source": [
    "correlation(\n",
    "    sts_iod, \n",
    "    {\"Method\": \"I-cnt\", \"A-Strategy\":\"ms1\"}, \n",
    "    sts_lsc, \n",
    "    \"fpm\", \n",
    "    method=pearsonr, \n",
    "    only_sign=False\n",
    ")"
   ]
  },
  {
   "cell_type": "code",
   "execution_count": null,
   "metadata": {},
   "outputs": [],
   "source": [
    "correlation(\n",
    "    sts_iod, \n",
    "    {\"Method\": \"cnt-ssc\", \"A-Strategy\":\"ms1\"}, \n",
    "    sts_lsc, \n",
    "    \"fpm\", \n",
    "    method=pearsonr, \n",
    "    only_sign=False\n",
    ")"
   ]
  },
  {
   "cell_type": "markdown",
   "metadata": {},
   "source": [
    "### KB"
   ]
  },
  {
   "cell_type": "code",
   "execution_count": null,
   "metadata": {},
   "outputs": [],
   "source": [
    "df, key = pwalk(\n",
    "    iod_data = kb_iod, \n",
    "    #iod_var, \n",
    "    lsc_data = kb_lsc, \n",
    "    lsc_var = \"fpm\", \n",
    "    norm_iod = None,\n",
    "    norm_lsc = np.log10,\n",
    "    method=pearsonr, \n",
    "    s_combos = \"all\",\n",
    "    iod_methods = [\"I-cnt\", \"O-cnt\", \"cnt-ssc\"],\n",
    "    #only_sign = True, \n",
    "    years = years,\n",
    "    criterion = \"p\",\n",
    "    binary = True,\n",
    "    threshold = 0.05    \n",
    "    )\n",
    "df"
   ]
  },
  {
   "cell_type": "code",
   "execution_count": null,
   "metadata": {},
   "outputs": [],
   "source": [
    "fpm = correlation(kb_iod, {}, kb_lsc, \"fpm\", method=pearsonr); fpm"
   ]
  },
  {
   "cell_type": "code",
   "execution_count": null,
   "metadata": {},
   "outputs": [],
   "source": [
    "fpm[\"DWE\"].value_counts()"
   ]
  },
  {
   "cell_type": "code",
   "execution_count": null,
   "metadata": {},
   "outputs": [],
   "source": [
    "fpm[\"A-Strategy\"].value_counts()"
   ]
  },
  {
   "cell_type": "code",
   "execution_count": null,
   "metadata": {},
   "outputs": [],
   "source": [
    "fpm[\"Method\"].value_counts()"
   ]
  },
  {
   "cell_type": "code",
   "execution_count": null,
   "metadata": {},
   "outputs": [],
   "source": [
    "correlation(\n",
    "    kb_iod, \n",
    "    {\"Method\": \"cnt-ssc\", \"A-Strategy\":\"rn\"}, \n",
    "    kb_lsc, \n",
    "    \"fpm\", \n",
    "    method=pearsonr, \n",
    "    only_sign=False\n",
    ")"
   ]
  },
  {
   "cell_type": "code",
   "execution_count": null,
   "metadata": {},
   "outputs": [],
   "source": [
    "correlation(\n",
    "    kb_iod, \n",
    "    {\"Method\": \"cnt-ssc\", \"A-Strategy\":\"ms1\"}, \n",
    "    kb_lsc, \n",
    "    \"fpm\", \n",
    "    method=pearsonr, \n",
    "    only_sign=False\n",
    ")"
   ]
  },
  {
   "cell_type": "markdown",
   "metadata": {},
   "source": [
    "## Appendix: Correlation Naive Change"
   ]
  },
  {
   "cell_type": "markdown",
   "metadata": {},
   "source": [
    "* Optimal method vs \"standard\" (`{\"A-Strategy\":\"ms1\", \"B-Strategy\":\"top3\"}` / `{\"A-Strategy\":\"rn\"}'`)\n",
    "* CNT vs PWN\n",
    "* O, I, ssc\n",
    "* FB, FL\n",
    "* SGNS, SBERT"
   ]
  },
  {
   "cell_type": "markdown",
   "metadata": {},
   "source": [
    "### SGNS"
   ]
  },
  {
   "cell_type": "markdown",
   "metadata": {},
   "source": [
    "#### Background"
   ]
  },
  {
   "cell_type": "markdown",
   "metadata": {},
   "source": [
    "##### PWN"
   ]
  },
  {
   "cell_type": "code",
   "execution_count": null,
   "metadata": {},
   "outputs": [],
   "source": [
    "df, key = pwalk(\n",
    "    iod_data = sgns_iod, \n",
    "    #iod_var, \n",
    "    lsc_data = sgns_lsc, \n",
    "    lsc_var = \"gch\", \n",
    "    norm_iod = None,\n",
    "    norm_lsc = None,\n",
    "    method=pearsonr, \n",
    "    s_combos = \"all\",\n",
    "    iod_methods = [\"I-pwn\", \"O-pwn\", \"pwn-ssc\"],\n",
    "    #only_sign = True, \n",
    "    years = years,\n",
    "    criterion = \"p\",\n",
    "    binary = True,\n",
    "    threshold = 0.05    \n",
    "    )\n",
    "maximizer(df, key)"
   ]
  },
  {
   "cell_type": "code",
   "execution_count": null,
   "metadata": {
    "scrolled": true
   },
   "outputs": [],
   "source": [
    "df"
   ]
  },
  {
   "cell_type": "code",
   "execution_count": null,
   "metadata": {},
   "outputs": [],
   "source": [
    "#df.loc[:, df.loc[\"Column_Total\"] > 0]"
   ]
  },
  {
   "cell_type": "markdown",
   "metadata": {},
   "source": [
    "##### CNT"
   ]
  },
  {
   "cell_type": "code",
   "execution_count": null,
   "metadata": {},
   "outputs": [],
   "source": [
    "df, key = pwalk(\n",
    "    iod_data = sgns_iod, \n",
    "    #iod_var, \n",
    "    lsc_data = sgns_lsc, \n",
    "    lsc_var = \"gch\", \n",
    "    norm_iod = None,\n",
    "    norm_lsc = None,\n",
    "    method=pearsonr, \n",
    "    s_combos = \"all\",\n",
    "    iod_methods = [\"I-cnt\", \"O-cnt\", \"cnt-ssc\"],\n",
    "    #only_sign = True, \n",
    "    years = years,\n",
    "    criterion = \"p\",\n",
    "    binary = True,\n",
    "    threshold = 0.05    \n",
    "    )\n",
    "maximizer(df, key)"
   ]
  },
  {
   "cell_type": "code",
   "execution_count": null,
   "metadata": {},
   "outputs": [],
   "source": [
    "df"
   ]
  },
  {
   "cell_type": "code",
   "execution_count": null,
   "metadata": {
    "scrolled": true
   },
   "outputs": [],
   "source": [
    "#df.loc[:, df.loc[\"Column_Total\"] > 0].rename({v:k for k,v in key.items()}, axis=1)\n",
    "#df.loc[:, df.loc[\"Column_Total\"] > 0]"
   ]
  },
  {
   "cell_type": "markdown",
   "metadata": {},
   "source": [
    "#### Summary - \"GCH\""
   ]
  },
  {
   "cell_type": "code",
   "execution_count": null,
   "metadata": {},
   "outputs": [],
   "source": [
    "standard   = {\"A-Strategy\":\"ms1\",  \"B-Strategy\":\"top3\"}\n",
    "opptim_pwn = {'A-Strategy':'ms1',  'B-Strategy':'min0.2'}\n",
    "opptim_cnt = {'A-Strategy':'top3', 'B-Strategy':'lazy'}\n",
    "\n",
    "measures_cnt = [\"I-cnt\", \"O-cnt\", \"cnt-ssc\"]\n",
    "measures_pwn = [\"I-pwn\", \"O-pwn\", \"pwn-ssc\"]"
   ]
  },
  {
   "cell_type": "markdown",
   "metadata": {},
   "source": [
    "Flashback"
   ]
  },
  {
   "cell_type": "code",
   "execution_count": null,
   "metadata": {
    "scrolled": true
   },
   "outputs": [],
   "source": [
    "ConCat(\"gch\", standard, measures_cnt + measures_pwn, sgns_iod, sgns_lsc, years, baseline=\"second\")"
   ]
  },
  {
   "cell_type": "code",
   "execution_count": null,
   "metadata": {},
   "outputs": [],
   "source": [
    "res = ConCat(\"gch\", standard, measures_cnt + measures_pwn, sgns_iod, sgns_lsc, years, baseline=\"second\")\n",
    "print(res.to_latex(float_format=\"{:.2f}\".format))"
   ]
  },
  {
   "cell_type": "code",
   "execution_count": null,
   "metadata": {},
   "outputs": [],
   "source": [
    "sns.heatmap(\n",
    "    ConCat(\n",
    "        \"gch\", \n",
    "        opptim_cnt, \n",
    "        measures_cnt + measures_pwn, \n",
    "        sgns_iod, \n",
    "        sgns_lsc, \n",
    "        years, \n",
    "        baseline=\"second\"\n",
    "    ).drop([\"p\", \"N\"], axis=1),\n",
    "    annot=True\n",
    ")"
   ]
  },
  {
   "cell_type": "code",
   "execution_count": null,
   "metadata": {},
   "outputs": [],
   "source": [
    "ConCat(\"gch\", opptim_cnt, measures_cnt + measures_pwn, sgns_iod, sgns_lsc, years, baseline=\"second\")"
   ]
  },
  {
   "cell_type": "code",
   "execution_count": null,
   "metadata": {},
   "outputs": [],
   "source": [
    " ConCat(\"gch\", opptim_pwn, measures_cnt + measures_pwn, sgns_iod, sgns_lsc, years)"
   ]
  },
  {
   "cell_type": "markdown",
   "metadata": {},
   "source": [
    "Familjeliv"
   ]
  },
  {
   "cell_type": "code",
   "execution_count": null,
   "metadata": {},
   "outputs": [],
   "source": [
    "ConCat(\"gch\", standard, measures_cnt + measures_pwn, fm_sgns_iod, fm_sgns_lsc, fm_years, baseline=\"second\")"
   ]
  },
  {
   "cell_type": "code",
   "execution_count": null,
   "metadata": {},
   "outputs": [],
   "source": [
    "res = ConCat(\"gch\", standard, measures_cnt + measures_pwn, fm_sgns_iod, fm_sgns_lsc, fm_years, baseline=\"second\")\n",
    "print(res.to_latex(float_format=\"{:.2f}\".format))"
   ]
  },
  {
   "cell_type": "markdown",
   "metadata": {},
   "source": [
    "### KB"
   ]
  },
  {
   "cell_type": "markdown",
   "metadata": {},
   "source": [
    "Flashback"
   ]
  },
  {
   "cell_type": "code",
   "execution_count": null,
   "metadata": {},
   "outputs": [],
   "source": [
    "standard = {\"A-Strategy\":\"rn\"}\n",
    "res = ConCat(\"gch\", standard, measures_cnt + measures_pwn, kb_iod, kb_lsc, years, baseline=\"second\")\n",
    "#print(res.to_latex(float_format=\"{:.2f}\".format))\n",
    "res"
   ]
  },
  {
   "cell_type": "code",
   "execution_count": null,
   "metadata": {},
   "outputs": [],
   "source": [
    "fig, ax = plt.subplots(figsize=(10,10))\n",
    "res = ConCat(\"gch\", {\"A-Strategy\":\"top1\"}, measures_cnt + measures_pwn, kb_iod, kb_lsc, years, baseline=\"second\")\n",
    "#print(res.to_latex(float_format=\"{:.2f}\".format))\n",
    "res.drop([\"p\", \"N\"],axis=1,inplace=True)\n",
    "sns.heatmap(res, annot=True)"
   ]
  },
  {
   "cell_type": "code",
   "execution_count": null,
   "metadata": {},
   "outputs": [],
   "source": [
    "fig, ax = plt.subplots(figsize=(10,10))\n",
    "res = ConCat(\"gch\", {\"A-Strategy\":\"rn\"}, measures_cnt + measures_pwn, kb_iod, kb_lsc, years, baseline=\"second\")\n",
    "#print(res.to_latex(float_format=\"{:.2f}\".format))\n",
    "res.drop([\"p\", \"N\"],axis=1,inplace=True)\n",
    "sns.heatmap(res, annot=True)"
   ]
  },
  {
   "cell_type": "code",
   "execution_count": null,
   "metadata": {},
   "outputs": [],
   "source": [
    "fig, axs = plt.subplots(1, 2, figsize=(20,10))\n",
    "\n",
    "res = ConCat(\"gch\", {\"A-Strategy\":\"rn\"}, measures_cnt + measures_pwn, kb_iod, kb_lsc, years, baseline=\"second\")\n",
    "#print(res.to_latex(float_format=\"{:.2f}\".format))\n",
    "res.drop([\"p\", \"N\"],axis=1,inplace=True)\n",
    "sns.heatmap(res, annot=True, ax=axs[0])\n",
    "axs[0].set_title(\"Really Naive\")\n",
    "\n",
    "res = ConCat(\"gch\", {\"A-Strategy\":\"top3\"}, measures_cnt + measures_pwn, kb_iod, kb_lsc, years, baseline=\"second\")\n",
    "#print(res.to_latex(float_format=\"{:.2f}\".format))\n",
    "res.drop([\"p\", \"N\"],axis=1,inplace=True)\n",
    "sns.heatmap(res, annot=True, ax = axs[1])\n",
    "axs[1].set_title(\"Top3\")\n",
    "\n",
    "plt.show()"
   ]
  },
  {
   "cell_type": "code",
   "execution_count": null,
   "metadata": {},
   "outputs": [],
   "source": [
    "# standard = {\"A-Strategy\":\"rn\"}\n",
    "# res = ConCat(\"gch\", standard, measures_cnt + measures_pwn, fb_kb_G_iod, kb_lsc, years, baseline=\"second\")\n",
    "# #print(res.to_latex(float_format=\"{:.2f}\".format))\n",
    "# res"
   ]
  },
  {
   "cell_type": "markdown",
   "metadata": {},
   "source": [
    "Familjliv"
   ]
  },
  {
   "cell_type": "code",
   "execution_count": null,
   "metadata": {},
   "outputs": [],
   "source": [
    "# standard = {\"A-Strategy\":\"rn\"}\n",
    "# res = ConCat(\"gch\", standard, measures_cnt + measures_pwn, fm_kb_iod, fm_kb_lsc, fm_years, baseline=\"second\")\n",
    "# print(res.to_latex(float_format=\"{:.2f}\".format))\n",
    "# res"
   ]
  },
  {
   "cell_type": "code",
   "execution_count": null,
   "metadata": {},
   "outputs": [],
   "source": [
    "df, key = pwalk(\n",
    "    iod_data = kb_iod, \n",
    "    #iod_var, \n",
    "    lsc_data = kb_lsc, \n",
    "    lsc_var = \"gch\", \n",
    "    norm_iod = None,\n",
    "    norm_lsc = None,\n",
    "    method=pearsonr, \n",
    "    s_combos = \"all\",\n",
    "    iod_methods = [\"I-cnt\", \"O-cnt\", \"cnt-ssc\"],\n",
    "    #only_sign = True, \n",
    "    years = years,\n",
    "    criterion = \"p\",\n",
    "    binary = True,\n",
    "    threshold = 0.05    \n",
    "    )\n",
    "maximizer(df, key)"
   ]
  },
  {
   "cell_type": "code",
   "execution_count": null,
   "metadata": {},
   "outputs": [],
   "source": [
    "df"
   ]
  },
  {
   "cell_type": "code",
   "execution_count": null,
   "metadata": {
    "scrolled": true
   },
   "outputs": [],
   "source": [
    "df.loc[:, df.loc[\"Column_Total\"] > 3].rename({v:k for k,v in key.items()}, axis=1)\n",
    "#df.loc[:, df.loc[\"Column_Total\"] > 3]"
   ]
  },
  {
   "cell_type": "code",
   "execution_count": null,
   "metadata": {},
   "outputs": [],
   "source": [
    "correlation(kb_iod, {'A-Strategy':'top1','Method':'O-cnt'}, kb_lsc, \"gch\", method=pearsonr)"
   ]
  },
  {
   "cell_type": "code",
   "execution_count": null,
   "metadata": {
    "scrolled": true
   },
   "outputs": [],
   "source": [
    "correlation(kb_iod, {'A-Strategy':'top1','Method':'I-cnt'}, kb_lsc, \"gch\", method=pearsonr)"
   ]
  },
  {
   "cell_type": "code",
   "execution_count": null,
   "metadata": {
    "scrolled": true
   },
   "outputs": [],
   "source": [
    "correlation(kb_iod, {'A-Strategy':'rn','Method':'O-cnt'}, kb_lsc, \"gch\", method=pearsonr)"
   ]
  },
  {
   "cell_type": "code",
   "execution_count": null,
   "metadata": {
    "scrolled": true
   },
   "outputs": [],
   "source": [
    "correlation(kb_iod, {'A-Strategy':'rn','Method':'I-cnt'}, kb_lsc, \"gch\", method=pearsonr)"
   ]
  },
  {
   "cell_type": "code",
   "execution_count": null,
   "metadata": {},
   "outputs": [],
   "source": [
    "gch = correlation(kb_iod, {}, kb_lsc, \"gch\", method=pearsonr); gch"
   ]
  },
  {
   "cell_type": "code",
   "execution_count": null,
   "metadata": {},
   "outputs": [],
   "source": [
    "gch[\"DWE\"].value_counts()"
   ]
  },
  {
   "cell_type": "code",
   "execution_count": null,
   "metadata": {},
   "outputs": [],
   "source": [
    "gch[\"A-Strategy\"].value_counts()"
   ]
  },
  {
   "cell_type": "code",
   "execution_count": null,
   "metadata": {},
   "outputs": [],
   "source": [
    "gch[\"Method\"].value_counts()"
   ]
  },
  {
   "cell_type": "code",
   "execution_count": null,
   "metadata": {},
   "outputs": [],
   "source": [
    "sgns_iod[\"A-Strategy\"].value_counts()"
   ]
  },
  {
   "cell_type": "code",
   "execution_count": null,
   "metadata": {},
   "outputs": [],
   "source": [
    "correlation(\n",
    "    kb_iod, \n",
    "    {\"Method\": \"I-cnt\", \"A-Strategy\":\"rn\"}, \n",
    "    kb_lsc, \n",
    "    \"gch\", \n",
    "    method=pearsonr, \n",
    "    only_sign=False\n",
    ").round(3)"
   ]
  },
  {
   "cell_type": "code",
   "execution_count": null,
   "metadata": {},
   "outputs": [],
   "source": [
    "correlation(\n",
    "    kb_iod, \n",
    "    {\"Method\": \"I-cnt\", \"A-Strategy\":\"nno\"}, \n",
    "    kb_lsc, \n",
    "    \"gch\", \n",
    "    method=pearsonr, \n",
    "    only_sign=False\n",
    ").round(3)"
   ]
  },
  {
   "cell_type": "code",
   "execution_count": null,
   "metadata": {},
   "outputs": [],
   "source": [
    "correlation(\n",
    "    kb_iod, \n",
    "    {\"Method\": \"I-cnt\", \"A-Strategy\":\"ms1\"}, \n",
    "    kb_lsc, \n",
    "    \"gch\", \n",
    "    method=pearsonr, \n",
    "    only_sign=False\n",
    ").round(3)"
   ]
  },
  {
   "cell_type": "code",
   "execution_count": null,
   "metadata": {},
   "outputs": [],
   "source": [
    "correlation(\n",
    "    kb_iod, \n",
    "    {\"Method\": \"cnt-ssc\", \"A-Strategy\":\"rn\"}, \n",
    "    kb_lsc, \n",
    "    \"gch\", \n",
    "    method=pearsonr, \n",
    "    only_sign=False\n",
    ").round(3)"
   ]
  },
  {
   "cell_type": "code",
   "execution_count": null,
   "metadata": {
    "scrolled": true
   },
   "outputs": [],
   "source": [
    "correlation(\n",
    "    kb_iod, \n",
    "    {\"Method\": \"cnt-ssc\", \"A-Strategy\":\"top3\"}, \n",
    "    kb_lsc, \n",
    "    \"gch\", \n",
    "    method=pearsonr, \n",
    "    only_sign=False\n",
    ").round(3)"
   ]
  },
  {
   "cell_type": "markdown",
   "metadata": {},
   "source": [
    "### STS"
   ]
  },
  {
   "cell_type": "code",
   "execution_count": null,
   "metadata": {},
   "outputs": [],
   "source": [
    "df, key = pwalk(\n",
    "    iod_data = sts_iod, \n",
    "    #iod_var, \n",
    "    lsc_data = sts_lsc, \n",
    "    lsc_var = \"gch\", \n",
    "    norm_iod = None,\n",
    "    norm_lsc = None,\n",
    "    method=pearsonr, \n",
    "    s_combos = \"all\",\n",
    "    iod_methods = [\"I-cnt\", \"O-cnt\", \"cnt-ssc\"],\n",
    "    #only_sign = True, \n",
    "    years = years,\n",
    "    criterion = \"p\",\n",
    "    binary = True,\n",
    "    threshold = 0.05    \n",
    "    )\n",
    "maximizer(df, key)"
   ]
  },
  {
   "cell_type": "code",
   "execution_count": null,
   "metadata": {},
   "outputs": [],
   "source": [
    "df"
   ]
  },
  {
   "cell_type": "code",
   "execution_count": null,
   "metadata": {
    "scrolled": true
   },
   "outputs": [],
   "source": [
    "#df.loc[:, df.loc[\"Column_Total\"] > 0].rename({v:k for k,v in key.items()}, axis=1)\n",
    "df.loc[:, df.loc[\"Column_Total\"] > 4]"
   ]
  },
  {
   "cell_type": "code",
   "execution_count": null,
   "metadata": {},
   "outputs": [],
   "source": [
    "gch = correlation(sts_iod, {}, sts_lsc, \"gch\", method=pearsonr); gch"
   ]
  },
  {
   "cell_type": "code",
   "execution_count": null,
   "metadata": {},
   "outputs": [],
   "source": [
    "gch[\"DWE\"].value_counts()"
   ]
  },
  {
   "cell_type": "code",
   "execution_count": null,
   "metadata": {},
   "outputs": [],
   "source": [
    "gch[\"A-Strategy\"].value_counts()"
   ]
  },
  {
   "cell_type": "code",
   "execution_count": null,
   "metadata": {},
   "outputs": [],
   "source": [
    "gch[\"Method\"].value_counts()"
   ]
  },
  {
   "cell_type": "code",
   "execution_count": null,
   "metadata": {},
   "outputs": [],
   "source": [
    "sgns_iod[\"A-Strategy\"].value_counts()"
   ]
  },
  {
   "cell_type": "code",
   "execution_count": null,
   "metadata": {},
   "outputs": [],
   "source": [
    "correlation(\n",
    "    sts_iod, \n",
    "    {\"Method\": \"I-cnt\", \"A-Strategy\":\"rn\"}, \n",
    "    sts_lsc, \n",
    "    \"gch\", \n",
    "    method=pearsonr, \n",
    "    only_sign=False\n",
    ").round(2)"
   ]
  },
  {
   "cell_type": "code",
   "execution_count": null,
   "metadata": {},
   "outputs": [],
   "source": [
    "correlation(\n",
    "    sts_iod, \n",
    "    {\"Method\": \"I-cnt\", \"A-Strategy\":\"ms1\"}, \n",
    "    sts_lsc, \n",
    "    \"gch\", \n",
    "    method=pearsonr, \n",
    "    only_sign=False\n",
    ")"
   ]
  },
  {
   "cell_type": "code",
   "execution_count": null,
   "metadata": {},
   "outputs": [],
   "source": [
    "correlation(\n",
    "    sts_iod, \n",
    "    {\"Method\": \"cnt-ssc\", \"A-Strategy\":\"ms1\"}, \n",
    "    sts_lsc, \n",
    "    \"gch\", \n",
    "    method=pearsonr, \n",
    "    only_sign=False\n",
    ")"
   ]
  },
  {
   "cell_type": "code",
   "execution_count": null,
   "metadata": {
    "scrolled": true
   },
   "outputs": [],
   "source": [
    "correlation(\n",
    "    sts_iod, \n",
    "    {\"Method\": \"cnt-ssc\", \"A-Strategy\":\"top3\"}, \n",
    "    sts_lsc, \n",
    "    \"gch\", \n",
    "    method=pearsonr, \n",
    "    only_sign=False\n",
    ")"
   ]
  },
  {
   "cell_type": "markdown",
   "metadata": {},
   "source": [
    "## Appendix Correlation Rectified Change"
   ]
  },
  {
   "cell_type": "code",
   "execution_count": null,
   "metadata": {},
   "outputs": [],
   "source": [
    "standard   = {\"A-Strategy\":\"ms1\",  \"B-Strategy\":\"top3\"}\n",
    "opptim_pwn = {'A-Strategy':'ms1',  'B-Strategy':'min0.2'}\n",
    "opptim_cnt = {'A-Strategy':'top3', 'B-Strategy':'lazy'}\n",
    "\n",
    "measures_cnt = [\"I-cnt\", \"O-cnt\", \"cnt-ssc\"]\n",
    "measures_pwn = [\"I-pwn\", \"O-pwn\", \"pwn-ssc\"]"
   ]
  },
  {
   "cell_type": "code",
   "execution_count": null,
   "metadata": {},
   "outputs": [],
   "source": [
    "res = ConCat(\"rch\", standard, measures_cnt + measures_pwn, sgns_iod, sgns_lsc, years, baseline=\"second\")\n",
    "print(res.to_latex(float_format=\"{:.2f}\".format))"
   ]
  },
  {
   "cell_type": "code",
   "execution_count": null,
   "metadata": {},
   "outputs": [],
   "source": [
    "standard = {\"A-Strategy\":\"rn\"}\n",
    "res = ConCat(\"rch\", standard, measures_cnt + measures_pwn, kb_iod, kb_lsc, years, baseline=\"second\")\n",
    "print(res.to_latex(float_format=\"{:.2f}\".format))\n",
    "res"
   ]
  },
  {
   "cell_type": "markdown",
   "metadata": {},
   "source": [
    "### SGNS"
   ]
  },
  {
   "cell_type": "code",
   "execution_count": null,
   "metadata": {},
   "outputs": [],
   "source": [
    "rch = correlation(sgns_iod, {}, sgns_lsc, \"rch\", method=pearsonr); rch"
   ]
  },
  {
   "cell_type": "code",
   "execution_count": null,
   "metadata": {},
   "outputs": [],
   "source": [
    "rch[\"DWE\"].value_counts()"
   ]
  },
  {
   "cell_type": "code",
   "execution_count": null,
   "metadata": {},
   "outputs": [],
   "source": [
    "rch[\"A-Strategy\"].value_counts()"
   ]
  },
  {
   "cell_type": "code",
   "execution_count": null,
   "metadata": {},
   "outputs": [],
   "source": [
    "rch[\"B-Strategy\"].value_counts()"
   ]
  },
  {
   "cell_type": "code",
   "execution_count": null,
   "metadata": {},
   "outputs": [],
   "source": [
    "rch[\"Method\"].value_counts()"
   ]
  },
  {
   "cell_type": "code",
   "execution_count": null,
   "metadata": {},
   "outputs": [],
   "source": [
    "correlation(\n",
    "    sgns_iod, \n",
    "    {\"Method\": \"I-cnt\", \"A-Strategy\":\"ms1\", \"B-Strategy\":\"min0.2\"}, \n",
    "    sgns_lsc, \n",
    "    \"rch\", \n",
    "    method=pearsonr, \n",
    "    only_sign=False\n",
    ")"
   ]
  },
  {
   "cell_type": "code",
   "execution_count": null,
   "metadata": {},
   "outputs": [],
   "source": [
    "correlation(\n",
    "    sgns_iod, \n",
    "    {\"Method\": \"I-cnt\", \"A-Strategy\":\"ms1\", \"B-Strategy\":\"top3\"}, \n",
    "    sgns_lsc, \n",
    "    \"rch\", \n",
    "    method=pearsonr, \n",
    "    only_sign=False\n",
    ")"
   ]
  },
  {
   "cell_type": "code",
   "execution_count": null,
   "metadata": {},
   "outputs": [],
   "source": [
    "correlation(\n",
    "    sgns_iod, \n",
    "    {\"Method\": \"cnt-ssc\", \"A-Strategy\":\"ms1\", \"B-Strategy\":\"min0.2\"}, \n",
    "    sgns_lsc, \n",
    "    \"rch\", \n",
    "    method=pearsonr, \n",
    "    only_sign=False\n",
    ")"
   ]
  },
  {
   "cell_type": "code",
   "execution_count": null,
   "metadata": {},
   "outputs": [],
   "source": [
    "correlation(\n",
    "    sgns_iod, \n",
    "    {\"Method\": \"cnt-ssc\", \"A-Strategy\":\"ms1\", \"B-Strategy\":\"top3\"}, \n",
    "    sgns_lsc, \n",
    "    \"rch\", \n",
    "    method=pearsonr, \n",
    "    only_sign=False\n",
    ")"
   ]
  },
  {
   "cell_type": "markdown",
   "metadata": {},
   "source": [
    "### STS"
   ]
  },
  {
   "cell_type": "code",
   "execution_count": null,
   "metadata": {},
   "outputs": [],
   "source": [
    "rch = correlation(sts_iod, {}, sts_lsc, \"rch\", method=pearsonr); rch"
   ]
  },
  {
   "cell_type": "code",
   "execution_count": null,
   "metadata": {},
   "outputs": [],
   "source": [
    "rch[\"DWE\"].value_counts()"
   ]
  },
  {
   "cell_type": "code",
   "execution_count": null,
   "metadata": {},
   "outputs": [],
   "source": [
    "rch[\"A-Strategy\"].value_counts()"
   ]
  },
  {
   "cell_type": "code",
   "execution_count": null,
   "metadata": {},
   "outputs": [],
   "source": [
    "rch[\"Method\"].value_counts()"
   ]
  },
  {
   "cell_type": "code",
   "execution_count": null,
   "metadata": {},
   "outputs": [],
   "source": [
    "correlation(\n",
    "    sts_iod, \n",
    "    {\"Method\": \"I-cnt\", \"A-Strategy\":\"ms1\"}, \n",
    "    sts_lsc, \n",
    "    \"rch\", \n",
    "    method=pearsonr, \n",
    "    only_sign=False\n",
    ")"
   ]
  },
  {
   "cell_type": "code",
   "execution_count": null,
   "metadata": {},
   "outputs": [],
   "source": [
    "correlation(\n",
    "    sts_iod, \n",
    "    {\"Method\": \"I-cnt\", \"A-Strategy\":\"ms1\"}, \n",
    "    sts_lsc, \n",
    "    \"rch\", \n",
    "    method=pearsonr, \n",
    "    only_sign=False\n",
    ")"
   ]
  },
  {
   "cell_type": "code",
   "execution_count": null,
   "metadata": {},
   "outputs": [],
   "source": [
    "correlation(\n",
    "    sts_iod, \n",
    "    {\"Method\": \"cnt-ssc\", \"A-Strategy\":\"ms1\"}, \n",
    "    sts_lsc, \n",
    "    \"rch\", \n",
    "    method=pearsonr, \n",
    "    only_sign=False\n",
    ")"
   ]
  },
  {
   "cell_type": "code",
   "execution_count": null,
   "metadata": {},
   "outputs": [],
   "source": [
    "correlation(\n",
    "    sts_iod, \n",
    "    {\"Method\": \"cnt-ssc\", \"A-Strategy\":\"ms1\"}, \n",
    "    sts_lsc, \n",
    "    \"rch\", \n",
    "    method=pearsonr, \n",
    "    only_sign=False\n",
    ")"
   ]
  },
  {
   "cell_type": "markdown",
   "metadata": {},
   "source": [
    "### KB"
   ]
  },
  {
   "cell_type": "code",
   "execution_count": null,
   "metadata": {},
   "outputs": [],
   "source": [
    "rch = correlation(kb_iod, {}, kb_lsc, \"rch\", method=pearsonr); rch"
   ]
  },
  {
   "cell_type": "code",
   "execution_count": null,
   "metadata": {},
   "outputs": [],
   "source": [
    "rch[\"DWE\"].value_counts()"
   ]
  },
  {
   "cell_type": "code",
   "execution_count": null,
   "metadata": {},
   "outputs": [],
   "source": [
    "rch[\"A-Strategy\"].value_counts()"
   ]
  },
  {
   "cell_type": "code",
   "execution_count": null,
   "metadata": {},
   "outputs": [],
   "source": [
    "rch[\"Method\"].value_counts()"
   ]
  },
  {
   "cell_type": "code",
   "execution_count": null,
   "metadata": {},
   "outputs": [],
   "source": [
    "correlation(\n",
    "    kb_iod, \n",
    "    {\"Method\": \"I-cnt\", \"A-Strategy\":\"ms1\"}, \n",
    "    kb_lsc, \n",
    "    \"rch\", \n",
    "    method=pearsonr, \n",
    "    only_sign=False\n",
    ")"
   ]
  },
  {
   "cell_type": "code",
   "execution_count": null,
   "metadata": {},
   "outputs": [],
   "source": [
    "correlation(\n",
    "    kb_iod, \n",
    "    {\"Method\": \"I-cnt\", \"A-Strategy\":\"ms1\"}, \n",
    "    kb_lsc, \n",
    "    \"rch\", \n",
    "    method=pearsonr, \n",
    "    only_sign=False\n",
    ")"
   ]
  },
  {
   "cell_type": "code",
   "execution_count": null,
   "metadata": {},
   "outputs": [],
   "source": [
    "correlation(\n",
    "    kb_iod, \n",
    "    {\"Method\": \"cnt-ssc\", \"A-Strategy\":\"ms1\"}, \n",
    "    kb_lsc, \n",
    "    \"rch\", \n",
    "    method=pearsonr, \n",
    "    only_sign=False\n",
    ")"
   ]
  },
  {
   "cell_type": "code",
   "execution_count": null,
   "metadata": {},
   "outputs": [],
   "source": [
    "correlation(\n",
    "    kb_iod, \n",
    "    {\"Method\": \"cnt-ssc\", \"A-Strategy\":\"ms1\"}, \n",
    "    kb_lsc, \n",
    "    \"rch\", \n",
    "    method=pearsonr, \n",
    "    only_sign=False\n",
    ")"
   ]
  },
  {
   "cell_type": "code",
   "execution_count": null,
   "metadata": {
    "scrolled": true
   },
   "outputs": [],
   "source": [
    "correlation(sgns_iod, {}, sgns_lsc, \"rch\", method=pearsonr)"
   ]
  },
  {
   "cell_type": "code",
   "execution_count": null,
   "metadata": {
    "scrolled": true
   },
   "outputs": [],
   "source": [
    "correlation(sts_iod, {}, sts_lsc, \"rch\", method=pearsonr)"
   ]
  },
  {
   "cell_type": "code",
   "execution_count": null,
   "metadata": {},
   "outputs": [],
   "source": [
    "correlation(sts_iod, {\"Method\":\"I-cnt\"}, sts_lsc, \"rch\", method=spearmanr)"
   ]
  },
  {
   "cell_type": "code",
   "execution_count": null,
   "metadata": {},
   "outputs": [],
   "source": [
    "correlation(kb_iod, {\"Method\":\"cnt-ssc\"}, kb_lsc, \"gch\", method=pearsonr)"
   ]
  },
  {
   "cell_type": "code",
   "execution_count": null,
   "metadata": {
    "scrolled": true
   },
   "outputs": [],
   "source": [
    "correlation(kb_iod, {\"Method\":\"O-cnt\"}, kb_lsc, \"gch\", method=pearsonr)"
   ]
  },
  {
   "cell_type": "code",
   "execution_count": null,
   "metadata": {
    "scrolled": true
   },
   "outputs": [],
   "source": [
    "correlation(sgns_iod, {\"Method\":\"I-cnt\"}, sgns_lsc, \"rch\", method=pearsonr)"
   ]
  },
  {
   "cell_type": "code",
   "execution_count": null,
   "metadata": {},
   "outputs": [],
   "source": [
    "correlation(sgns_iod, {\"Method\":\"O-cnt\"}, sgns_lsc, \"gch\", method=pearsonr)"
   ]
  },
  {
   "cell_type": "code",
   "execution_count": null,
   "metadata": {},
   "outputs": [],
   "source": []
  },
  {
   "cell_type": "markdown",
   "metadata": {},
   "source": [
    "### FPM"
   ]
  },
  {
   "cell_type": "code",
   "execution_count": null,
   "metadata": {
    "scrolled": true
   },
   "outputs": [],
   "source": [
    "fpm = sgns_lsc.loc[\"V1_berika\"][[v for v in sgns_lsc.columns if v.startswith(\"fpm\")]];fpm"
   ]
  },
  {
   "cell_type": "code",
   "execution_count": null,
   "metadata": {},
   "outputs": [],
   "source": [
    "X = sgns_iod[sgns_iod[\"DWE\"]==\"V1_berika\"][years];X"
   ]
  },
  {
   "cell_type": "code",
   "execution_count": null,
   "metadata": {
    "scrolled": true
   },
   "outputs": [],
   "source": [
    "for i in range(X.shape[0]):\n",
    "    stat = pearsonr(X.loc[i], fpm)\n",
    "    \n",
    "    print(stat[0], stat[1])"
   ]
  },
  {
   "cell_type": "markdown",
   "metadata": {},
   "source": [
    "### Change"
   ]
  },
  {
   "cell_type": "code",
   "execution_count": null,
   "metadata": {},
   "outputs": [],
   "source": [
    "col = [v for v in sgns_lsc.columns if v.startswith(\"rch\")]\n",
    "print(len(col))\n",
    "gch = sgns_lsc.loc[\"V1_berika\"][col];gch"
   ]
  },
  {
   "cell_type": "code",
   "execution_count": null,
   "metadata": {},
   "outputs": [],
   "source": [
    "X = sgns_iod[sgns_iod[\"Method\"]==\"cnt-ssc\"][[y for y in years[:-1]]];X"
   ]
  },
  {
   "cell_type": "code",
   "execution_count": null,
   "metadata": {},
   "outputs": [],
   "source": [
    "for i in X.index:\n",
    "    x = X.loc[i]\n",
    "    \n",
    "    dwe = sgns_iod.iloc[i][\"DWE\"]\n",
    "#     print(dwe)\n",
    "    \n",
    "    A = sgns_iod.iloc[i][\"A-Strategy\"]\n",
    "    B = sgns_iod.iloc[i][\"B-strategy\"]\n",
    "    \n",
    "    y = sgns_lsc.loc[dwe][col]\n",
    "    \n",
    "    x,y = zip(*[(a,b) for a,b in zip(x,y) if not pd.isna(a) and not pd.isna(b)])\n",
    "    \n",
    "    stat = pearsonr(x, y)\n",
    "    \n",
    "    if stat[1] < 0.05:\n",
    "        \n",
    "        print(dwe, A, B, stat[0], stat[1])"
   ]
  },
  {
   "cell_type": "code",
   "execution_count": null,
   "metadata": {},
   "outputs": [],
   "source": []
  },
  {
   "cell_type": "markdown",
   "metadata": {},
   "source": [
    "#### Experiment"
   ]
  },
  {
   "cell_type": "code",
   "execution_count": null,
   "metadata": {},
   "outputs": [],
   "source": [
    "from scipy.special import softmax\n",
    "import random"
   ]
  },
  {
   "cell_type": "code",
   "execution_count": null,
   "metadata": {},
   "outputs": [],
   "source": [
    "#random.seed(123)\n",
    "random.seed(555)"
   ]
  },
  {
   "cell_type": "code",
   "execution_count": null,
   "metadata": {},
   "outputs": [],
   "source": [
    "#np.random.rand(10)"
   ]
  },
  {
   "cell_type": "code",
   "execution_count": null,
   "metadata": {},
   "outputs": [],
   "source": [
    "dim1 = np.random.rand(10)\n",
    "dim2 = np.random.rand(10)\n",
    "\n",
    "dimX = dim1 / (dim1+dim2)"
   ]
  },
  {
   "cell_type": "code",
   "execution_count": null,
   "metadata": {},
   "outputs": [],
   "source": [
    "dim1"
   ]
  },
  {
   "cell_type": "code",
   "execution_count": null,
   "metadata": {},
   "outputs": [],
   "source": [
    "dim2"
   ]
  },
  {
   "cell_type": "code",
   "execution_count": null,
   "metadata": {},
   "outputs": [],
   "source": [
    "dimX"
   ]
  },
  {
   "cell_type": "code",
   "execution_count": null,
   "metadata": {},
   "outputs": [],
   "source": [
    "pearsonr(dim1, dimX)"
   ]
  },
  {
   "cell_type": "code",
   "execution_count": null,
   "metadata": {
    "scrolled": true
   },
   "outputs": [],
   "source": [
    "S = np.concatenate((dim1, dim2)).reshape(2,10)"
   ]
  },
  {
   "cell_type": "code",
   "execution_count": null,
   "metadata": {},
   "outputs": [],
   "source": [
    "dimS = softmax(S, axis=0)"
   ]
  },
  {
   "cell_type": "code",
   "execution_count": null,
   "metadata": {},
   "outputs": [],
   "source": [
    "dimS"
   ]
  },
  {
   "cell_type": "code",
   "execution_count": null,
   "metadata": {},
   "outputs": [],
   "source": [
    "dimS.sum(axis=0)"
   ]
  },
  {
   "cell_type": "code",
   "execution_count": null,
   "metadata": {},
   "outputs": [],
   "source": [
    "dimS = dimS[0]"
   ]
  },
  {
   "cell_type": "code",
   "execution_count": null,
   "metadata": {},
   "outputs": [],
   "source": [
    "dimS"
   ]
  },
  {
   "cell_type": "code",
   "execution_count": null,
   "metadata": {},
   "outputs": [],
   "source": [
    "pearsonr(dim1, dimS)"
   ]
  },
  {
   "cell_type": "code",
   "execution_count": null,
   "metadata": {},
   "outputs": [],
   "source": []
  }
 ],
 "metadata": {
  "kernelspec": {
   "display_name": "Python 3",
   "language": "python",
   "name": "python3"
  },
  "language_info": {
   "codemirror_mode": {
    "name": "ipython",
    "version": 3
   },
   "file_extension": ".py",
   "mimetype": "text/x-python",
   "name": "python",
   "nbconvert_exporter": "python",
   "pygments_lexer": "ipython3",
   "version": "3.8.5"
  }
 },
 "nbformat": 4,
 "nbformat_minor": 4
}
