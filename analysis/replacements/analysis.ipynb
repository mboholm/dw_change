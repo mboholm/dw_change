{
 "cells": [
  {
   "cell_type": "code",
   "execution_count": 1,
   "metadata": {},
   "outputs": [],
   "source": [
    "from pathlib import Path\n",
    "import pandas as pd\n",
    "import numpy as np\n",
    "from scipy.stats import spearmanr, pearsonr\n",
    "import matplotlib.pyplot as plt\n",
    "import seaborn as sns\n",
    "#from itertools import permutations\n",
    "from collections import Counter\n",
    "from math import ceil\n",
    "import pingouin as pg\n",
    "import statsmodels.api as sm\n",
    "from scipy.stats import ks_2samp\n",
    "from scipy.stats import rankdata\n",
    "from scipy.special import softmax\n",
    "\n",
    "import os\n",
    "from sklearn.preprocessing import RobustScaler, QuantileTransformer, PowerTransformer\n",
    "from sklearn.preprocessing import power_transform\n",
    "\n",
    "from stargazer.stargazer import Stargazer"
   ]
  },
  {
   "cell_type": "markdown",
   "metadata": {},
   "source": [
    "## Data"
   ]
  },
  {
   "cell_type": "code",
   "execution_count": 2,
   "metadata": {},
   "outputs": [],
   "source": [
    "#years = [y for y in range(2000, 2022)]"
   ]
  },
  {
   "cell_type": "code",
   "execution_count": 3,
   "metadata": {},
   "outputs": [],
   "source": [
    "# years"
   ]
  },
  {
   "cell_type": "code",
   "execution_count": 12,
   "metadata": {},
   "outputs": [],
   "source": [
    "def get_variables(from_, to_, incl_rect=True):\n",
    "    \n",
    "    years = [y for y in range(from_, to_+1)]\n",
    "    \n",
    "    variables = [f\"frq_{y}\" for y in years]\n",
    "    variables.extend([f\"fpm_{y}\" for y in years])\n",
    "    variables.extend([f\"gch_{y}:{y+1}\" for y in years[:-1]])\n",
    "    if incl_rect:\n",
    "        variables.extend([f\"rch_{y}:{y+1}\" for y in years[:-1]])\n",
    "    \n",
    "    years = [str(y) for y in years]\n",
    "    \n",
    "    return variables, years"
   ]
  },
  {
   "cell_type": "code",
   "execution_count": 5,
   "metadata": {},
   "outputs": [],
   "source": [
    "#variables"
   ]
  },
  {
   "cell_type": "code",
   "execution_count": 6,
   "metadata": {},
   "outputs": [],
   "source": [
    "# redefine years\n",
    "#years = [str(y) for y in years]"
   ]
  },
  {
   "cell_type": "code",
   "execution_count": 7,
   "metadata": {},
   "outputs": [],
   "source": [
    "terms = [\n",
    "'N1_kulturberikare',\n",
    "'V1_berika',\n",
    "'N1_berikare',\n",
    "'N1_globalist',\n",
    "'V1_kulturberika',\n",
    "'N1_återvandring',\n",
    "'V1_återvandra',\n",
    "'A1_globalistisk',\n",
    "'N1_förortsgäng',\n",
    "]"
   ]
  },
  {
   "cell_type": "code",
   "execution_count": 8,
   "metadata": {},
   "outputs": [],
   "source": [
    "def get_df(path, variables, terms, min_freq=10, drop_frq=True):\n",
    "    df = pd.read_csv(Path(path), sep=\";\", index_col = 0)\n",
    "    terms = [t for t in terms if t in df.index]\n",
    "    #print(terms)\n",
    "    df = df[variables]\n",
    "    df = df.loc[terms]\n",
    "    \n",
    "    if min_freq != None:\n",
    "        years = [col.split(\"_\")[-1] for col in df.columns if col.startswith(\"frq_\")]\n",
    "        for dwe in df.index:\n",
    "            for year in years:\n",
    "                if df.loc[dwe][f\"frq_{year}\"] < min_freq: \n",
    "                    df.at[dwe, f\"fpm_{year}\"] = np.nan\n",
    "                    \n",
    "                    if year == max(years):\n",
    "                        df.at[dwe, f\"gch_{int(year)-1}:{year}\"] = np.nan\n",
    "                        df.at[dwe, f\"rch_{int(year)-1}:{year}\"] = np.nan\n",
    "                    else:\n",
    "                        df.at[dwe, f\"gch_{year}:{int(year)+1}\"] = np.nan\n",
    "                        df.at[dwe, f\"rch_{year}:{int(year)+1}\"] = np.nan\n",
    "    \n",
    "    if drop_frq:\n",
    "        df.drop([col for col in df.columns if col.startswith(\"frq_\")], axis=1, inplace=True)\n",
    "\n",
    "    return df"
   ]
  },
  {
   "cell_type": "code",
   "execution_count": 9,
   "metadata": {},
   "outputs": [],
   "source": [
    "def get_iod(path, ref_path, variables, terms, min_freq=10):\n",
    "    \n",
    "    df = pd.read_csv(path, index_col=0)\n",
    "    \n",
    "    #print(\"Years in IOD data:\", list(df.columns))\n",
    "    \n",
    "    ref = get_df(ref_path, variables, terms, min_freq = None, drop_frq=False)\n",
    "    \n",
    "    years = [col.split(\"_\")[-1] for col in ref.columns if col.startswith(\"frq_\")]\n",
    "    \n",
    "    #print(\"Years in LSC data:\", years)\n",
    "    \n",
    "    if min_freq != None:\n",
    "        for dwe in ref.index:\n",
    "            for year in years:\n",
    "                if ref.loc[dwe][f\"frq_{year}\"] < min_freq:\n",
    "                    df.loc[df[\"DWE\"] == dwe, year] = np.nan    \n",
    "                    \n",
    "    return df\n"
   ]
  },
  {
   "cell_type": "markdown",
   "metadata": {},
   "source": [
    "### Change and FPM"
   ]
  },
  {
   "cell_type": "markdown",
   "metadata": {},
   "source": [
    "#### Flashback"
   ]
  },
  {
   "cell_type": "code",
   "execution_count": 13,
   "metadata": {},
   "outputs": [],
   "source": [
    "variables, years = get_variables(2000, 2022)\n",
    "# variables, years = get_variables(2000, 2021) # <-- Obs!\n",
    "\n",
    "sgns_lsc = get_df(\n",
    "    \"/home/max/Documents/mlt/thesis/dw_results/fb_pol-yearly-radical3-restricted.csv\", \n",
    "    variables, \n",
    "    terms,\n",
    "    drop_frq = False\n",
    ")\n",
    "kb_lsc   = get_df(\"/home/max/Documents/mlt/thesis/dw_results/fb_pol-yearly-bert-sentence-bert-swedish-cased.csv\", \n",
    "                  variables, \n",
    "                  terms)\n",
    "sts_lsc  = get_df(\"/home/max/Documents/mlt/thesis/dw_results/fb_pol-yearly-bert-sts_fbmodel.csv\", \n",
    "                  variables, \n",
    "                  terms)"
   ]
  },
  {
   "cell_type": "code",
   "execution_count": 14,
   "metadata": {},
   "outputs": [
    {
     "data": {
      "text/plain": [
       "['2000',\n",
       " '2001',\n",
       " '2002',\n",
       " '2003',\n",
       " '2004',\n",
       " '2005',\n",
       " '2006',\n",
       " '2007',\n",
       " '2008',\n",
       " '2009',\n",
       " '2010',\n",
       " '2011',\n",
       " '2012',\n",
       " '2013',\n",
       " '2014',\n",
       " '2015',\n",
       " '2016',\n",
       " '2017',\n",
       " '2018',\n",
       " '2019',\n",
       " '2020',\n",
       " '2021',\n",
       " '2022']"
      ]
     },
     "execution_count": 14,
     "metadata": {},
     "output_type": "execute_result"
    }
   ],
   "source": [
    "years"
   ]
  },
  {
   "cell_type": "markdown",
   "metadata": {},
   "source": [
    "#### Familjeliv"
   ]
  },
  {
   "cell_type": "code",
   "execution_count": 15,
   "metadata": {},
   "outputs": [],
   "source": [
    "fm_variables, fm_years = get_variables(2003, 2022)\n",
    "# fm_variables, fm_years = get_variables(2003, 2021) # <-- Obs!\n",
    "\n",
    "fm_sgns_lsc = get_df(\"/home/max/Documents/mlt/thesis/dw_results/fm_smh-yearly-radical3-restricted.csv\", fm_variables, terms)\n",
    "fm_kb_lsc   = get_df(\"/home/max/Documents/mlt/thesis/dw_results/fm_smh-yearly-bert-sentence-bert-swedish-cased.csv\", fm_variables, terms)"
   ]
  },
  {
   "cell_type": "code",
   "execution_count": 16,
   "metadata": {
    "scrolled": true
   },
   "outputs": [
    {
     "data": {
      "text/plain": [
       "['2003',\n",
       " '2004',\n",
       " '2005',\n",
       " '2006',\n",
       " '2007',\n",
       " '2008',\n",
       " '2009',\n",
       " '2010',\n",
       " '2011',\n",
       " '2012',\n",
       " '2013',\n",
       " '2014',\n",
       " '2015',\n",
       " '2016',\n",
       " '2017',\n",
       " '2018',\n",
       " '2019',\n",
       " '2020',\n",
       " '2021',\n",
       " '2022']"
      ]
     },
     "execution_count": 16,
     "metadata": {},
     "output_type": "execute_result"
    }
   ],
   "source": [
    "fm_years"
   ]
  },
  {
   "cell_type": "markdown",
   "metadata": {},
   "source": [
    "### Ingroup--Outgroup Dimension"
   ]
  },
  {
   "cell_type": "code",
   "execution_count": 17,
   "metadata": {},
   "outputs": [
    {
     "data": {
      "text/plain": [
       "['sts_results.csv',\n",
       " 'fm_sgns_results.csv',\n",
       " 'kb_results.csv',\n",
       " 'fm_kb_results.csv',\n",
       " 'sgns_results.csv']"
      ]
     },
     "execution_count": 17,
     "metadata": {},
     "output_type": "execute_result"
    }
   ],
   "source": [
    "os.listdir(\"/home/max/Results/replacements/results/\")"
   ]
  },
  {
   "cell_type": "markdown",
   "metadata": {},
   "source": [
    "#### Flashback"
   ]
  },
  {
   "cell_type": "code",
   "execution_count": 18,
   "metadata": {},
   "outputs": [],
   "source": [
    "sgns_iod = get_iod(\n",
    "    \"/home/max/Results/replacements/results/sgns_results.csv\",\n",
    "    \"/home/max/Documents/mlt/thesis/dw_results/fb_pol-yearly-radical3-restricted.csv\", \n",
    "    variables, \n",
    "    terms\n",
    ")\n",
    "sgns_iod.rename(columns={\"B-strategy\": \"B-Strategy\"}, inplace=True)"
   ]
  },
  {
   "cell_type": "code",
   "execution_count": 19,
   "metadata": {},
   "outputs": [],
   "source": [
    "kb_iod = get_iod(\n",
    "    \"/home/max/Results/replacements/results/kb_results.csv\",\n",
    "    \"/home/max/Documents/mlt/thesis/dw_results/fb_pol-yearly-bert-sentence-bert-swedish-cased.csv\", \n",
    "    variables, \n",
    "    terms\n",
    ")"
   ]
  },
  {
   "cell_type": "code",
   "execution_count": 20,
   "metadata": {},
   "outputs": [],
   "source": [
    "sts_iod = get_iod(\n",
    "    \"/home/max/Results/replacements/results/sts_results.csv\",\n",
    "    \"/home/max/Documents/mlt/thesis/dw_results/fb_pol-yearly-bert-sentence-bert-swedish-cased.csv\", \n",
    "    variables, \n",
    "    terms\n",
    ")"
   ]
  },
  {
   "cell_type": "code",
   "execution_count": 21,
   "metadata": {},
   "outputs": [],
   "source": [
    "# sgns_iod = pd.read_csv(\"/home/max/Results/replacements/results/sgns_results.csv\", index_col=0)\n",
    "# sgns_iod.rename(columns={\"B-strategy\": \"B-Strategy\"}, inplace=True)\n",
    "# kb_iod   = pd.read_csv(\"/home/max/Results/replacements/results/kb_results.csv\", index_col=0)\n",
    "# sts_iod  = pd.read_csv(\"/home/max/Results/replacements/results/sts_results.csv\", index_col=0)\n",
    "# #sts_iod.rename(columns={\"B-strategy\": \"B-Strategy\"}, inplace=True)"
   ]
  },
  {
   "cell_type": "code",
   "execution_count": 22,
   "metadata": {},
   "outputs": [
    {
     "data": {
      "text/html": [
       "<div>\n",
       "<style scoped>\n",
       "    .dataframe tbody tr th:only-of-type {\n",
       "        vertical-align: middle;\n",
       "    }\n",
       "\n",
       "    .dataframe tbody tr th {\n",
       "        vertical-align: top;\n",
       "    }\n",
       "\n",
       "    .dataframe thead th {\n",
       "        text-align: right;\n",
       "    }\n",
       "</style>\n",
       "<table border=\"1\" class=\"dataframe\">\n",
       "  <thead>\n",
       "    <tr style=\"text-align: right;\">\n",
       "      <th></th>\n",
       "      <th>DWE</th>\n",
       "      <th>A-Strategy</th>\n",
       "      <th>B-Strategy</th>\n",
       "      <th>Method</th>\n",
       "      <th>2000</th>\n",
       "      <th>2001</th>\n",
       "      <th>2002</th>\n",
       "      <th>2003</th>\n",
       "      <th>2004</th>\n",
       "      <th>2005</th>\n",
       "      <th>...</th>\n",
       "      <th>2013</th>\n",
       "      <th>2014</th>\n",
       "      <th>2015</th>\n",
       "      <th>2016</th>\n",
       "      <th>2017</th>\n",
       "      <th>2018</th>\n",
       "      <th>2019</th>\n",
       "      <th>2020</th>\n",
       "      <th>2021</th>\n",
       "      <th>2022</th>\n",
       "    </tr>\n",
       "  </thead>\n",
       "  <tbody>\n",
       "    <tr>\n",
       "      <th>0</th>\n",
       "      <td>V1_berika</td>\n",
       "      <td>top3</td>\n",
       "      <td>lazy</td>\n",
       "      <td>I-cnt</td>\n",
       "      <td>0.986395</td>\n",
       "      <td>0.715155</td>\n",
       "      <td>0.818471</td>\n",
       "      <td>0.853153</td>\n",
       "      <td>0.696961</td>\n",
       "      <td>0.619241</td>\n",
       "      <td>...</td>\n",
       "      <td>0.353835</td>\n",
       "      <td>0.316448</td>\n",
       "      <td>0.357412</td>\n",
       "      <td>0.414762</td>\n",
       "      <td>0.378341</td>\n",
       "      <td>0.367202</td>\n",
       "      <td>0.375845</td>\n",
       "      <td>0.374658</td>\n",
       "      <td>0.390267</td>\n",
       "      <td>0.398719</td>\n",
       "    </tr>\n",
       "    <tr>\n",
       "      <th>1</th>\n",
       "      <td>V1_berika</td>\n",
       "      <td>top3</td>\n",
       "      <td>lazy</td>\n",
       "      <td>O-cnt</td>\n",
       "      <td>0.969148</td>\n",
       "      <td>0.686442</td>\n",
       "      <td>0.790991</td>\n",
       "      <td>0.829854</td>\n",
       "      <td>0.693168</td>\n",
       "      <td>0.605649</td>\n",
       "      <td>...</td>\n",
       "      <td>0.354648</td>\n",
       "      <td>0.311637</td>\n",
       "      <td>0.361755</td>\n",
       "      <td>0.339383</td>\n",
       "      <td>0.280309</td>\n",
       "      <td>0.291818</td>\n",
       "      <td>0.348174</td>\n",
       "      <td>0.330762</td>\n",
       "      <td>0.399016</td>\n",
       "      <td>0.344857</td>\n",
       "    </tr>\n",
       "    <tr>\n",
       "      <th>2</th>\n",
       "      <td>V1_berika</td>\n",
       "      <td>top3</td>\n",
       "      <td>lazy</td>\n",
       "      <td>cnt-ssc</td>\n",
       "      <td>0.504410</td>\n",
       "      <td>0.510243</td>\n",
       "      <td>0.508537</td>\n",
       "      <td>0.506922</td>\n",
       "      <td>0.501364</td>\n",
       "      <td>0.505548</td>\n",
       "      <td>...</td>\n",
       "      <td>0.499426</td>\n",
       "      <td>0.503830</td>\n",
       "      <td>0.496980</td>\n",
       "      <td>0.549976</td>\n",
       "      <td>0.574419</td>\n",
       "      <td>0.557194</td>\n",
       "      <td>0.519110</td>\n",
       "      <td>0.531113</td>\n",
       "      <td>0.494457</td>\n",
       "      <td>0.536218</td>\n",
       "    </tr>\n",
       "    <tr>\n",
       "      <th>3</th>\n",
       "      <td>V1_berika</td>\n",
       "      <td>top3</td>\n",
       "      <td>lazy</td>\n",
       "      <td>cnt-smx</td>\n",
       "      <td>0.504312</td>\n",
       "      <td>0.507178</td>\n",
       "      <td>0.506870</td>\n",
       "      <td>0.505824</td>\n",
       "      <td>0.500948</td>\n",
       "      <td>0.503398</td>\n",
       "      <td>...</td>\n",
       "      <td>0.499797</td>\n",
       "      <td>0.501203</td>\n",
       "      <td>0.498914</td>\n",
       "      <td>0.518836</td>\n",
       "      <td>0.524488</td>\n",
       "      <td>0.518837</td>\n",
       "      <td>0.506917</td>\n",
       "      <td>0.510972</td>\n",
       "      <td>0.497813</td>\n",
       "      <td>0.513462</td>\n",
       "    </tr>\n",
       "    <tr>\n",
       "      <th>4</th>\n",
       "      <td>V1_berika</td>\n",
       "      <td>top3</td>\n",
       "      <td>lazy</td>\n",
       "      <td>I-pwn</td>\n",
       "      <td>0.982027</td>\n",
       "      <td>0.698244</td>\n",
       "      <td>0.772756</td>\n",
       "      <td>0.791636</td>\n",
       "      <td>0.594525</td>\n",
       "      <td>0.472354</td>\n",
       "      <td>...</td>\n",
       "      <td>0.260455</td>\n",
       "      <td>0.229991</td>\n",
       "      <td>0.263792</td>\n",
       "      <td>0.296300</td>\n",
       "      <td>0.270373</td>\n",
       "      <td>0.269239</td>\n",
       "      <td>0.269341</td>\n",
       "      <td>0.263698</td>\n",
       "      <td>0.280599</td>\n",
       "      <td>0.287643</td>\n",
       "    </tr>\n",
       "    <tr>\n",
       "      <th>...</th>\n",
       "      <td>...</td>\n",
       "      <td>...</td>\n",
       "      <td>...</td>\n",
       "      <td>...</td>\n",
       "      <td>...</td>\n",
       "      <td>...</td>\n",
       "      <td>...</td>\n",
       "      <td>...</td>\n",
       "      <td>...</td>\n",
       "      <td>...</td>\n",
       "      <td>...</td>\n",
       "      <td>...</td>\n",
       "      <td>...</td>\n",
       "      <td>...</td>\n",
       "      <td>...</td>\n",
       "      <td>...</td>\n",
       "      <td>...</td>\n",
       "      <td>...</td>\n",
       "      <td>...</td>\n",
       "      <td>...</td>\n",
       "      <td>...</td>\n",
       "    </tr>\n",
       "    <tr>\n",
       "      <th>571</th>\n",
       "      <td>N1_förortsgäng</td>\n",
       "      <td>ms1</td>\n",
       "      <td>min0.2</td>\n",
       "      <td>cnt-smx</td>\n",
       "      <td>NaN</td>\n",
       "      <td>NaN</td>\n",
       "      <td>NaN</td>\n",
       "      <td>NaN</td>\n",
       "      <td>NaN</td>\n",
       "      <td>NaN</td>\n",
       "      <td>...</td>\n",
       "      <td>NaN</td>\n",
       "      <td>0.484448</td>\n",
       "      <td>0.488332</td>\n",
       "      <td>0.506825</td>\n",
       "      <td>0.515285</td>\n",
       "      <td>0.494516</td>\n",
       "      <td>0.503283</td>\n",
       "      <td>NaN</td>\n",
       "      <td>0.489880</td>\n",
       "      <td>0.488751</td>\n",
       "    </tr>\n",
       "    <tr>\n",
       "      <th>572</th>\n",
       "      <td>N1_förortsgäng</td>\n",
       "      <td>ms1</td>\n",
       "      <td>min0.2</td>\n",
       "      <td>I-pwn</td>\n",
       "      <td>NaN</td>\n",
       "      <td>NaN</td>\n",
       "      <td>NaN</td>\n",
       "      <td>NaN</td>\n",
       "      <td>NaN</td>\n",
       "      <td>NaN</td>\n",
       "      <td>...</td>\n",
       "      <td>NaN</td>\n",
       "      <td>0.455653</td>\n",
       "      <td>0.471425</td>\n",
       "      <td>0.505860</td>\n",
       "      <td>0.516324</td>\n",
       "      <td>0.429436</td>\n",
       "      <td>0.492266</td>\n",
       "      <td>NaN</td>\n",
       "      <td>0.520405</td>\n",
       "      <td>0.491884</td>\n",
       "    </tr>\n",
       "    <tr>\n",
       "      <th>573</th>\n",
       "      <td>N1_förortsgäng</td>\n",
       "      <td>ms1</td>\n",
       "      <td>min0.2</td>\n",
       "      <td>O-pwn</td>\n",
       "      <td>NaN</td>\n",
       "      <td>NaN</td>\n",
       "      <td>NaN</td>\n",
       "      <td>NaN</td>\n",
       "      <td>NaN</td>\n",
       "      <td>NaN</td>\n",
       "      <td>...</td>\n",
       "      <td>NaN</td>\n",
       "      <td>0.442385</td>\n",
       "      <td>0.447575</td>\n",
       "      <td>0.428776</td>\n",
       "      <td>0.410907</td>\n",
       "      <td>0.406426</td>\n",
       "      <td>0.428552</td>\n",
       "      <td>NaN</td>\n",
       "      <td>0.468478</td>\n",
       "      <td>0.449418</td>\n",
       "    </tr>\n",
       "    <tr>\n",
       "      <th>574</th>\n",
       "      <td>N1_förortsgäng</td>\n",
       "      <td>ms1</td>\n",
       "      <td>min0.2</td>\n",
       "      <td>pwn-ssc</td>\n",
       "      <td>NaN</td>\n",
       "      <td>NaN</td>\n",
       "      <td>NaN</td>\n",
       "      <td>NaN</td>\n",
       "      <td>NaN</td>\n",
       "      <td>NaN</td>\n",
       "      <td>...</td>\n",
       "      <td>NaN</td>\n",
       "      <td>0.507387</td>\n",
       "      <td>0.512976</td>\n",
       "      <td>0.541237</td>\n",
       "      <td>0.556845</td>\n",
       "      <td>0.513764</td>\n",
       "      <td>0.534596</td>\n",
       "      <td>NaN</td>\n",
       "      <td>0.526256</td>\n",
       "      <td>0.522557</td>\n",
       "    </tr>\n",
       "    <tr>\n",
       "      <th>575</th>\n",
       "      <td>N1_förortsgäng</td>\n",
       "      <td>ms1</td>\n",
       "      <td>min0.2</td>\n",
       "      <td>pwn-smx</td>\n",
       "      <td>NaN</td>\n",
       "      <td>NaN</td>\n",
       "      <td>NaN</td>\n",
       "      <td>NaN</td>\n",
       "      <td>NaN</td>\n",
       "      <td>NaN</td>\n",
       "      <td>...</td>\n",
       "      <td>NaN</td>\n",
       "      <td>0.503317</td>\n",
       "      <td>0.505962</td>\n",
       "      <td>0.519261</td>\n",
       "      <td>0.526330</td>\n",
       "      <td>0.505752</td>\n",
       "      <td>0.515923</td>\n",
       "      <td>NaN</td>\n",
       "      <td>0.512979</td>\n",
       "      <td>0.510615</td>\n",
       "    </tr>\n",
       "  </tbody>\n",
       "</table>\n",
       "<p>576 rows × 27 columns</p>\n",
       "</div>"
      ],
      "text/plain": [
       "                DWE A-Strategy B-Strategy   Method      2000      2001  \\\n",
       "0         V1_berika       top3       lazy    I-cnt  0.986395  0.715155   \n",
       "1         V1_berika       top3       lazy    O-cnt  0.969148  0.686442   \n",
       "2         V1_berika       top3       lazy  cnt-ssc  0.504410  0.510243   \n",
       "3         V1_berika       top3       lazy  cnt-smx  0.504312  0.507178   \n",
       "4         V1_berika       top3       lazy    I-pwn  0.982027  0.698244   \n",
       "..              ...        ...        ...      ...       ...       ...   \n",
       "571  N1_förortsgäng        ms1     min0.2  cnt-smx       NaN       NaN   \n",
       "572  N1_förortsgäng        ms1     min0.2    I-pwn       NaN       NaN   \n",
       "573  N1_förortsgäng        ms1     min0.2    O-pwn       NaN       NaN   \n",
       "574  N1_förortsgäng        ms1     min0.2  pwn-ssc       NaN       NaN   \n",
       "575  N1_förortsgäng        ms1     min0.2  pwn-smx       NaN       NaN   \n",
       "\n",
       "         2002      2003      2004      2005  ...      2013      2014  \\\n",
       "0    0.818471  0.853153  0.696961  0.619241  ...  0.353835  0.316448   \n",
       "1    0.790991  0.829854  0.693168  0.605649  ...  0.354648  0.311637   \n",
       "2    0.508537  0.506922  0.501364  0.505548  ...  0.499426  0.503830   \n",
       "3    0.506870  0.505824  0.500948  0.503398  ...  0.499797  0.501203   \n",
       "4    0.772756  0.791636  0.594525  0.472354  ...  0.260455  0.229991   \n",
       "..        ...       ...       ...       ...  ...       ...       ...   \n",
       "571       NaN       NaN       NaN       NaN  ...       NaN  0.484448   \n",
       "572       NaN       NaN       NaN       NaN  ...       NaN  0.455653   \n",
       "573       NaN       NaN       NaN       NaN  ...       NaN  0.442385   \n",
       "574       NaN       NaN       NaN       NaN  ...       NaN  0.507387   \n",
       "575       NaN       NaN       NaN       NaN  ...       NaN  0.503317   \n",
       "\n",
       "         2015      2016      2017      2018      2019      2020      2021  \\\n",
       "0    0.357412  0.414762  0.378341  0.367202  0.375845  0.374658  0.390267   \n",
       "1    0.361755  0.339383  0.280309  0.291818  0.348174  0.330762  0.399016   \n",
       "2    0.496980  0.549976  0.574419  0.557194  0.519110  0.531113  0.494457   \n",
       "3    0.498914  0.518836  0.524488  0.518837  0.506917  0.510972  0.497813   \n",
       "4    0.263792  0.296300  0.270373  0.269239  0.269341  0.263698  0.280599   \n",
       "..        ...       ...       ...       ...       ...       ...       ...   \n",
       "571  0.488332  0.506825  0.515285  0.494516  0.503283       NaN  0.489880   \n",
       "572  0.471425  0.505860  0.516324  0.429436  0.492266       NaN  0.520405   \n",
       "573  0.447575  0.428776  0.410907  0.406426  0.428552       NaN  0.468478   \n",
       "574  0.512976  0.541237  0.556845  0.513764  0.534596       NaN  0.526256   \n",
       "575  0.505962  0.519261  0.526330  0.505752  0.515923       NaN  0.512979   \n",
       "\n",
       "         2022  \n",
       "0    0.398719  \n",
       "1    0.344857  \n",
       "2    0.536218  \n",
       "3    0.513462  \n",
       "4    0.287643  \n",
       "..        ...  \n",
       "571  0.488751  \n",
       "572  0.491884  \n",
       "573  0.449418  \n",
       "574  0.522557  \n",
       "575  0.510615  \n",
       "\n",
       "[576 rows x 27 columns]"
      ]
     },
     "execution_count": 22,
     "metadata": {},
     "output_type": "execute_result"
    }
   ],
   "source": [
    "sgns_iod"
   ]
  },
  {
   "cell_type": "markdown",
   "metadata": {},
   "source": [
    "### Why does not min_freq work properly???\n",
    "\n",
    "Helt obegripligt!!"
   ]
  },
  {
   "cell_type": "code",
   "execution_count": 23,
   "metadata": {},
   "outputs": [],
   "source": [
    "pd.set_option('display.max_columns', None)"
   ]
  },
  {
   "cell_type": "code",
   "execution_count": 24,
   "metadata": {},
   "outputs": [
    {
     "data": {
      "text/html": [
       "<div>\n",
       "<style scoped>\n",
       "    .dataframe tbody tr th:only-of-type {\n",
       "        vertical-align: middle;\n",
       "    }\n",
       "\n",
       "    .dataframe tbody tr th {\n",
       "        vertical-align: top;\n",
       "    }\n",
       "\n",
       "    .dataframe thead th {\n",
       "        text-align: right;\n",
       "    }\n",
       "</style>\n",
       "<table border=\"1\" class=\"dataframe\">\n",
       "  <thead>\n",
       "    <tr style=\"text-align: right;\">\n",
       "      <th></th>\n",
       "      <th>2000</th>\n",
       "      <th>2001</th>\n",
       "      <th>2002</th>\n",
       "      <th>2003</th>\n",
       "      <th>2004</th>\n",
       "      <th>2005</th>\n",
       "      <th>2006</th>\n",
       "      <th>2007</th>\n",
       "      <th>2008</th>\n",
       "      <th>2009</th>\n",
       "      <th>2010</th>\n",
       "      <th>2011</th>\n",
       "      <th>2012</th>\n",
       "      <th>2013</th>\n",
       "      <th>2014</th>\n",
       "      <th>2015</th>\n",
       "      <th>2016</th>\n",
       "      <th>2017</th>\n",
       "      <th>2018</th>\n",
       "      <th>2019</th>\n",
       "      <th>2020</th>\n",
       "      <th>2021</th>\n",
       "      <th>2022</th>\n",
       "    </tr>\n",
       "    <tr>\n",
       "      <th>DWE</th>\n",
       "      <th></th>\n",
       "      <th></th>\n",
       "      <th></th>\n",
       "      <th></th>\n",
       "      <th></th>\n",
       "      <th></th>\n",
       "      <th></th>\n",
       "      <th></th>\n",
       "      <th></th>\n",
       "      <th></th>\n",
       "      <th></th>\n",
       "      <th></th>\n",
       "      <th></th>\n",
       "      <th></th>\n",
       "      <th></th>\n",
       "      <th></th>\n",
       "      <th></th>\n",
       "      <th></th>\n",
       "      <th></th>\n",
       "      <th></th>\n",
       "      <th></th>\n",
       "      <th></th>\n",
       "      <th></th>\n",
       "    </tr>\n",
       "  </thead>\n",
       "  <tbody>\n",
       "    <tr>\n",
       "      <th>A1_globalistisk</th>\n",
       "      <td>NaN</td>\n",
       "      <td>NaN</td>\n",
       "      <td>NaN</td>\n",
       "      <td>NaN</td>\n",
       "      <td>NaN</td>\n",
       "      <td>NaN</td>\n",
       "      <td>NaN</td>\n",
       "      <td>NaN</td>\n",
       "      <td>0.58</td>\n",
       "      <td>0.50</td>\n",
       "      <td>0.54</td>\n",
       "      <td>0.50</td>\n",
       "      <td>0.55</td>\n",
       "      <td>0.59</td>\n",
       "      <td>0.56</td>\n",
       "      <td>0.55</td>\n",
       "      <td>0.57</td>\n",
       "      <td>0.54</td>\n",
       "      <td>0.60</td>\n",
       "      <td>0.59</td>\n",
       "      <td>0.60</td>\n",
       "      <td>0.58</td>\n",
       "      <td>0.57</td>\n",
       "    </tr>\n",
       "    <tr>\n",
       "      <th>N1_berikare</th>\n",
       "      <td>0.92</td>\n",
       "      <td>NaN</td>\n",
       "      <td>NaN</td>\n",
       "      <td>NaN</td>\n",
       "      <td>NaN</td>\n",
       "      <td>NaN</td>\n",
       "      <td>0.48</td>\n",
       "      <td>0.28</td>\n",
       "      <td>0.23</td>\n",
       "      <td>0.27</td>\n",
       "      <td>0.29</td>\n",
       "      <td>0.33</td>\n",
       "      <td>0.28</td>\n",
       "      <td>0.21</td>\n",
       "      <td>0.23</td>\n",
       "      <td>0.17</td>\n",
       "      <td>0.29</td>\n",
       "      <td>0.26</td>\n",
       "      <td>0.27</td>\n",
       "      <td>0.28</td>\n",
       "      <td>0.24</td>\n",
       "      <td>0.25</td>\n",
       "      <td>0.25</td>\n",
       "    </tr>\n",
       "    <tr>\n",
       "      <th>N1_förortsgäng</th>\n",
       "      <td>NaN</td>\n",
       "      <td>NaN</td>\n",
       "      <td>NaN</td>\n",
       "      <td>NaN</td>\n",
       "      <td>NaN</td>\n",
       "      <td>NaN</td>\n",
       "      <td>NaN</td>\n",
       "      <td>NaN</td>\n",
       "      <td>NaN</td>\n",
       "      <td>0.36</td>\n",
       "      <td>NaN</td>\n",
       "      <td>NaN</td>\n",
       "      <td>NaN</td>\n",
       "      <td>NaN</td>\n",
       "      <td>0.44</td>\n",
       "      <td>0.40</td>\n",
       "      <td>0.44</td>\n",
       "      <td>0.43</td>\n",
       "      <td>0.39</td>\n",
       "      <td>0.49</td>\n",
       "      <td>NaN</td>\n",
       "      <td>0.47</td>\n",
       "      <td>0.42</td>\n",
       "    </tr>\n",
       "    <tr>\n",
       "      <th>N1_globalist</th>\n",
       "      <td>NaN</td>\n",
       "      <td>NaN</td>\n",
       "      <td>NaN</td>\n",
       "      <td>NaN</td>\n",
       "      <td>NaN</td>\n",
       "      <td>0.49</td>\n",
       "      <td>0.36</td>\n",
       "      <td>0.44</td>\n",
       "      <td>0.55</td>\n",
       "      <td>0.54</td>\n",
       "      <td>0.52</td>\n",
       "      <td>0.58</td>\n",
       "      <td>0.58</td>\n",
       "      <td>0.57</td>\n",
       "      <td>0.59</td>\n",
       "      <td>0.62</td>\n",
       "      <td>0.71</td>\n",
       "      <td>0.70</td>\n",
       "      <td>0.75</td>\n",
       "      <td>0.70</td>\n",
       "      <td>0.72</td>\n",
       "      <td>0.71</td>\n",
       "      <td>0.68</td>\n",
       "    </tr>\n",
       "    <tr>\n",
       "      <th>N1_kulturberikare</th>\n",
       "      <td>0.95</td>\n",
       "      <td>0.83</td>\n",
       "      <td>NaN</td>\n",
       "      <td>NaN</td>\n",
       "      <td>0.78</td>\n",
       "      <td>0.53</td>\n",
       "      <td>0.40</td>\n",
       "      <td>0.23</td>\n",
       "      <td>0.30</td>\n",
       "      <td>0.27</td>\n",
       "      <td>0.26</td>\n",
       "      <td>0.28</td>\n",
       "      <td>0.27</td>\n",
       "      <td>0.29</td>\n",
       "      <td>0.30</td>\n",
       "      <td>0.24</td>\n",
       "      <td>0.21</td>\n",
       "      <td>0.20</td>\n",
       "      <td>0.31</td>\n",
       "      <td>0.23</td>\n",
       "      <td>0.23</td>\n",
       "      <td>0.30</td>\n",
       "      <td>0.30</td>\n",
       "    </tr>\n",
       "    <tr>\n",
       "      <th>N1_återvandring</th>\n",
       "      <td>NaN</td>\n",
       "      <td>NaN</td>\n",
       "      <td>NaN</td>\n",
       "      <td>NaN</td>\n",
       "      <td>NaN</td>\n",
       "      <td>NaN</td>\n",
       "      <td>NaN</td>\n",
       "      <td>0.52</td>\n",
       "      <td>0.55</td>\n",
       "      <td>0.52</td>\n",
       "      <td>0.54</td>\n",
       "      <td>0.58</td>\n",
       "      <td>0.58</td>\n",
       "      <td>0.60</td>\n",
       "      <td>0.60</td>\n",
       "      <td>0.56</td>\n",
       "      <td>0.59</td>\n",
       "      <td>0.53</td>\n",
       "      <td>0.61</td>\n",
       "      <td>0.62</td>\n",
       "      <td>0.62</td>\n",
       "      <td>0.62</td>\n",
       "      <td>0.62</td>\n",
       "    </tr>\n",
       "    <tr>\n",
       "      <th>V1_berika</th>\n",
       "      <td>0.99</td>\n",
       "      <td>0.72</td>\n",
       "      <td>0.82</td>\n",
       "      <td>0.85</td>\n",
       "      <td>0.70</td>\n",
       "      <td>0.62</td>\n",
       "      <td>0.43</td>\n",
       "      <td>0.35</td>\n",
       "      <td>0.36</td>\n",
       "      <td>0.30</td>\n",
       "      <td>0.30</td>\n",
       "      <td>0.36</td>\n",
       "      <td>0.32</td>\n",
       "      <td>0.35</td>\n",
       "      <td>0.32</td>\n",
       "      <td>0.36</td>\n",
       "      <td>0.41</td>\n",
       "      <td>0.38</td>\n",
       "      <td>0.37</td>\n",
       "      <td>0.38</td>\n",
       "      <td>0.37</td>\n",
       "      <td>0.39</td>\n",
       "      <td>0.40</td>\n",
       "    </tr>\n",
       "    <tr>\n",
       "      <th>V1_kulturberika</th>\n",
       "      <td>NaN</td>\n",
       "      <td>NaN</td>\n",
       "      <td>NaN</td>\n",
       "      <td>NaN</td>\n",
       "      <td>NaN</td>\n",
       "      <td>NaN</td>\n",
       "      <td>0.34</td>\n",
       "      <td>0.22</td>\n",
       "      <td>0.18</td>\n",
       "      <td>0.25</td>\n",
       "      <td>0.25</td>\n",
       "      <td>0.23</td>\n",
       "      <td>0.29</td>\n",
       "      <td>0.23</td>\n",
       "      <td>0.24</td>\n",
       "      <td>0.22</td>\n",
       "      <td>0.27</td>\n",
       "      <td>0.27</td>\n",
       "      <td>0.26</td>\n",
       "      <td>0.25</td>\n",
       "      <td>0.28</td>\n",
       "      <td>0.31</td>\n",
       "      <td>0.33</td>\n",
       "    </tr>\n",
       "    <tr>\n",
       "      <th>V1_återvandra</th>\n",
       "      <td>NaN</td>\n",
       "      <td>NaN</td>\n",
       "      <td>NaN</td>\n",
       "      <td>NaN</td>\n",
       "      <td>NaN</td>\n",
       "      <td>NaN</td>\n",
       "      <td>NaN</td>\n",
       "      <td>0.50</td>\n",
       "      <td>0.50</td>\n",
       "      <td>0.47</td>\n",
       "      <td>0.53</td>\n",
       "      <td>0.48</td>\n",
       "      <td>0.49</td>\n",
       "      <td>0.49</td>\n",
       "      <td>0.47</td>\n",
       "      <td>0.44</td>\n",
       "      <td>0.41</td>\n",
       "      <td>0.41</td>\n",
       "      <td>0.50</td>\n",
       "      <td>0.55</td>\n",
       "      <td>0.52</td>\n",
       "      <td>0.57</td>\n",
       "      <td>0.54</td>\n",
       "    </tr>\n",
       "  </tbody>\n",
       "</table>\n",
       "</div>"
      ],
      "text/plain": [
       "                   2000  2001  2002  2003  2004  2005  2006  2007  2008  2009  \\\n",
       "DWE                                                                             \n",
       "A1_globalistisk     NaN   NaN   NaN   NaN   NaN   NaN   NaN   NaN  0.58  0.50   \n",
       "N1_berikare        0.92   NaN   NaN   NaN   NaN   NaN  0.48  0.28  0.23  0.27   \n",
       "N1_förortsgäng      NaN   NaN   NaN   NaN   NaN   NaN   NaN   NaN   NaN  0.36   \n",
       "N1_globalist        NaN   NaN   NaN   NaN   NaN  0.49  0.36  0.44  0.55  0.54   \n",
       "N1_kulturberikare  0.95  0.83   NaN   NaN  0.78  0.53  0.40  0.23  0.30  0.27   \n",
       "N1_återvandring     NaN   NaN   NaN   NaN   NaN   NaN   NaN  0.52  0.55  0.52   \n",
       "V1_berika          0.99  0.72  0.82  0.85  0.70  0.62  0.43  0.35  0.36  0.30   \n",
       "V1_kulturberika     NaN   NaN   NaN   NaN   NaN   NaN  0.34  0.22  0.18  0.25   \n",
       "V1_återvandra       NaN   NaN   NaN   NaN   NaN   NaN   NaN  0.50  0.50  0.47   \n",
       "\n",
       "                   2010  2011  2012  2013  2014  2015  2016  2017  2018  2019  \\\n",
       "DWE                                                                             \n",
       "A1_globalistisk    0.54  0.50  0.55  0.59  0.56  0.55  0.57  0.54  0.60  0.59   \n",
       "N1_berikare        0.29  0.33  0.28  0.21  0.23  0.17  0.29  0.26  0.27  0.28   \n",
       "N1_förortsgäng      NaN   NaN   NaN   NaN  0.44  0.40  0.44  0.43  0.39  0.49   \n",
       "N1_globalist       0.52  0.58  0.58  0.57  0.59  0.62  0.71  0.70  0.75  0.70   \n",
       "N1_kulturberikare  0.26  0.28  0.27  0.29  0.30  0.24  0.21  0.20  0.31  0.23   \n",
       "N1_återvandring    0.54  0.58  0.58  0.60  0.60  0.56  0.59  0.53  0.61  0.62   \n",
       "V1_berika          0.30  0.36  0.32  0.35  0.32  0.36  0.41  0.38  0.37  0.38   \n",
       "V1_kulturberika    0.25  0.23  0.29  0.23  0.24  0.22  0.27  0.27  0.26  0.25   \n",
       "V1_återvandra      0.53  0.48  0.49  0.49  0.47  0.44  0.41  0.41  0.50  0.55   \n",
       "\n",
       "                   2020  2021  2022  \n",
       "DWE                                  \n",
       "A1_globalistisk    0.60  0.58  0.57  \n",
       "N1_berikare        0.24  0.25  0.25  \n",
       "N1_förortsgäng      NaN  0.47  0.42  \n",
       "N1_globalist       0.72  0.71  0.68  \n",
       "N1_kulturberikare  0.23  0.30  0.30  \n",
       "N1_återvandring    0.62  0.62  0.62  \n",
       "V1_berika          0.37  0.39  0.40  \n",
       "V1_kulturberika    0.28  0.31  0.33  \n",
       "V1_återvandra      0.52  0.57  0.54  "
      ]
     },
     "execution_count": 24,
     "metadata": {},
     "output_type": "execute_result"
    }
   ],
   "source": [
    "columns = [col for col in sgns_iod.columns if \":\" not in col]\n",
    "mamma = sgns_iod.copy()\n",
    "mamma = mamma[mamma[\"A-Strategy\"]==\"top3\"]\n",
    "mamma = mamma[mamma[\"B-Strategy\"]==\"lazy\"]\n",
    "mamma = mamma[mamma[\"Method\"]==\"I-cnt\"]\n",
    "mamma.drop(columns=[\"A-Strategy\", \"B-Strategy\", \"Method\"], inplace=True)\n",
    "mamma.set_index(\"DWE\", inplace=True)\n",
    "mamma = mamma[years].sort_index()\n",
    "mamma.round(2)"
   ]
  },
  {
   "cell_type": "code",
   "execution_count": 25,
   "metadata": {},
   "outputs": [
    {
     "data": {
      "text/html": [
       "<div>\n",
       "<style scoped>\n",
       "    .dataframe tbody tr th:only-of-type {\n",
       "        vertical-align: middle;\n",
       "    }\n",
       "\n",
       "    .dataframe tbody tr th {\n",
       "        vertical-align: top;\n",
       "    }\n",
       "\n",
       "    .dataframe thead th {\n",
       "        text-align: right;\n",
       "    }\n",
       "</style>\n",
       "<table border=\"1\" class=\"dataframe\">\n",
       "  <thead>\n",
       "    <tr style=\"text-align: right;\">\n",
       "      <th></th>\n",
       "      <th>2000</th>\n",
       "      <th>2001</th>\n",
       "      <th>2002</th>\n",
       "      <th>2003</th>\n",
       "      <th>2004</th>\n",
       "      <th>2005</th>\n",
       "      <th>2006</th>\n",
       "      <th>2007</th>\n",
       "      <th>2008</th>\n",
       "      <th>2009</th>\n",
       "      <th>2010</th>\n",
       "      <th>2011</th>\n",
       "      <th>2012</th>\n",
       "      <th>2013</th>\n",
       "      <th>2014</th>\n",
       "      <th>2015</th>\n",
       "      <th>2016</th>\n",
       "      <th>2017</th>\n",
       "      <th>2018</th>\n",
       "      <th>2019</th>\n",
       "      <th>2020</th>\n",
       "      <th>2021</th>\n",
       "      <th>2022</th>\n",
       "    </tr>\n",
       "  </thead>\n",
       "  <tbody>\n",
       "    <tr>\n",
       "      <th>A1_globalistisk</th>\n",
       "      <td>0</td>\n",
       "      <td>0</td>\n",
       "      <td>0</td>\n",
       "      <td>0</td>\n",
       "      <td>0</td>\n",
       "      <td>0</td>\n",
       "      <td>0</td>\n",
       "      <td>0</td>\n",
       "      <td>38</td>\n",
       "      <td>53</td>\n",
       "      <td>66</td>\n",
       "      <td>132</td>\n",
       "      <td>247</td>\n",
       "      <td>209</td>\n",
       "      <td>248</td>\n",
       "      <td>164</td>\n",
       "      <td>306</td>\n",
       "      <td>484</td>\n",
       "      <td>736</td>\n",
       "      <td>804</td>\n",
       "      <td>701</td>\n",
       "      <td>563</td>\n",
       "      <td>709</td>\n",
       "    </tr>\n",
       "    <tr>\n",
       "      <th>N1_berikare</th>\n",
       "      <td>21</td>\n",
       "      <td>0</td>\n",
       "      <td>0</td>\n",
       "      <td>0</td>\n",
       "      <td>0</td>\n",
       "      <td>0</td>\n",
       "      <td>20</td>\n",
       "      <td>213</td>\n",
       "      <td>650</td>\n",
       "      <td>666</td>\n",
       "      <td>497</td>\n",
       "      <td>413</td>\n",
       "      <td>426</td>\n",
       "      <td>276</td>\n",
       "      <td>202</td>\n",
       "      <td>216</td>\n",
       "      <td>153</td>\n",
       "      <td>125</td>\n",
       "      <td>143</td>\n",
       "      <td>142</td>\n",
       "      <td>88</td>\n",
       "      <td>33</td>\n",
       "      <td>33</td>\n",
       "    </tr>\n",
       "    <tr>\n",
       "      <th>N1_förortsgäng</th>\n",
       "      <td>0</td>\n",
       "      <td>0</td>\n",
       "      <td>0</td>\n",
       "      <td>0</td>\n",
       "      <td>0</td>\n",
       "      <td>0</td>\n",
       "      <td>0</td>\n",
       "      <td>0</td>\n",
       "      <td>0</td>\n",
       "      <td>19</td>\n",
       "      <td>0</td>\n",
       "      <td>0</td>\n",
       "      <td>0</td>\n",
       "      <td>14</td>\n",
       "      <td>25</td>\n",
       "      <td>18</td>\n",
       "      <td>12</td>\n",
       "      <td>14</td>\n",
       "      <td>24</td>\n",
       "      <td>29</td>\n",
       "      <td>11</td>\n",
       "      <td>21</td>\n",
       "      <td>40</td>\n",
       "    </tr>\n",
       "    <tr>\n",
       "      <th>N1_globalist</th>\n",
       "      <td>0</td>\n",
       "      <td>0</td>\n",
       "      <td>0</td>\n",
       "      <td>0</td>\n",
       "      <td>0</td>\n",
       "      <td>24</td>\n",
       "      <td>43</td>\n",
       "      <td>32</td>\n",
       "      <td>314</td>\n",
       "      <td>244</td>\n",
       "      <td>326</td>\n",
       "      <td>444</td>\n",
       "      <td>824</td>\n",
       "      <td>888</td>\n",
       "      <td>872</td>\n",
       "      <td>801</td>\n",
       "      <td>2079</td>\n",
       "      <td>2802</td>\n",
       "      <td>4734</td>\n",
       "      <td>4137</td>\n",
       "      <td>3728</td>\n",
       "      <td>3336</td>\n",
       "      <td>5528</td>\n",
       "    </tr>\n",
       "    <tr>\n",
       "      <th>N1_kulturberikare</th>\n",
       "      <td>45</td>\n",
       "      <td>28</td>\n",
       "      <td>10</td>\n",
       "      <td>0</td>\n",
       "      <td>36</td>\n",
       "      <td>24</td>\n",
       "      <td>76</td>\n",
       "      <td>307</td>\n",
       "      <td>777</td>\n",
       "      <td>605</td>\n",
       "      <td>1104</td>\n",
       "      <td>611</td>\n",
       "      <td>596</td>\n",
       "      <td>470</td>\n",
       "      <td>208</td>\n",
       "      <td>144</td>\n",
       "      <td>190</td>\n",
       "      <td>114</td>\n",
       "      <td>243</td>\n",
       "      <td>197</td>\n",
       "      <td>100</td>\n",
       "      <td>128</td>\n",
       "      <td>120</td>\n",
       "    </tr>\n",
       "    <tr>\n",
       "      <th>N1_återvandring</th>\n",
       "      <td>0</td>\n",
       "      <td>0</td>\n",
       "      <td>0</td>\n",
       "      <td>0</td>\n",
       "      <td>0</td>\n",
       "      <td>0</td>\n",
       "      <td>30</td>\n",
       "      <td>66</td>\n",
       "      <td>143</td>\n",
       "      <td>75</td>\n",
       "      <td>203</td>\n",
       "      <td>55</td>\n",
       "      <td>185</td>\n",
       "      <td>222</td>\n",
       "      <td>190</td>\n",
       "      <td>149</td>\n",
       "      <td>210</td>\n",
       "      <td>183</td>\n",
       "      <td>3942</td>\n",
       "      <td>1704</td>\n",
       "      <td>1484</td>\n",
       "      <td>1855</td>\n",
       "      <td>2303</td>\n",
       "    </tr>\n",
       "    <tr>\n",
       "      <th>V1_berika</th>\n",
       "      <td>43</td>\n",
       "      <td>22</td>\n",
       "      <td>30</td>\n",
       "      <td>23</td>\n",
       "      <td>77</td>\n",
       "      <td>88</td>\n",
       "      <td>276</td>\n",
       "      <td>703</td>\n",
       "      <td>1509</td>\n",
       "      <td>1995</td>\n",
       "      <td>2087</td>\n",
       "      <td>2011</td>\n",
       "      <td>1661</td>\n",
       "      <td>1390</td>\n",
       "      <td>1183</td>\n",
       "      <td>1231</td>\n",
       "      <td>1351</td>\n",
       "      <td>866</td>\n",
       "      <td>1037</td>\n",
       "      <td>1081</td>\n",
       "      <td>841</td>\n",
       "      <td>646</td>\n",
       "      <td>785</td>\n",
       "    </tr>\n",
       "    <tr>\n",
       "      <th>V1_kulturberika</th>\n",
       "      <td>0</td>\n",
       "      <td>0</td>\n",
       "      <td>0</td>\n",
       "      <td>0</td>\n",
       "      <td>0</td>\n",
       "      <td>12</td>\n",
       "      <td>20</td>\n",
       "      <td>149</td>\n",
       "      <td>238</td>\n",
       "      <td>262</td>\n",
       "      <td>330</td>\n",
       "      <td>269</td>\n",
       "      <td>259</td>\n",
       "      <td>205</td>\n",
       "      <td>116</td>\n",
       "      <td>129</td>\n",
       "      <td>109</td>\n",
       "      <td>60</td>\n",
       "      <td>74</td>\n",
       "      <td>63</td>\n",
       "      <td>67</td>\n",
       "      <td>47</td>\n",
       "      <td>36</td>\n",
       "    </tr>\n",
       "    <tr>\n",
       "      <th>V1_återvandra</th>\n",
       "      <td>0</td>\n",
       "      <td>0</td>\n",
       "      <td>0</td>\n",
       "      <td>0</td>\n",
       "      <td>0</td>\n",
       "      <td>0</td>\n",
       "      <td>10</td>\n",
       "      <td>26</td>\n",
       "      <td>23</td>\n",
       "      <td>34</td>\n",
       "      <td>51</td>\n",
       "      <td>36</td>\n",
       "      <td>44</td>\n",
       "      <td>64</td>\n",
       "      <td>47</td>\n",
       "      <td>30</td>\n",
       "      <td>21</td>\n",
       "      <td>27</td>\n",
       "      <td>310</td>\n",
       "      <td>144</td>\n",
       "      <td>141</td>\n",
       "      <td>209</td>\n",
       "      <td>232</td>\n",
       "    </tr>\n",
       "  </tbody>\n",
       "</table>\n",
       "</div>"
      ],
      "text/plain": [
       "                   2000  2001  2002  2003  2004  2005  2006  2007  2008  2009  \\\n",
       "A1_globalistisk       0     0     0     0     0     0     0     0    38    53   \n",
       "N1_berikare          21     0     0     0     0     0    20   213   650   666   \n",
       "N1_förortsgäng        0     0     0     0     0     0     0     0     0    19   \n",
       "N1_globalist          0     0     0     0     0    24    43    32   314   244   \n",
       "N1_kulturberikare    45    28    10     0    36    24    76   307   777   605   \n",
       "N1_återvandring       0     0     0     0     0     0    30    66   143    75   \n",
       "V1_berika            43    22    30    23    77    88   276   703  1509  1995   \n",
       "V1_kulturberika       0     0     0     0     0    12    20   149   238   262   \n",
       "V1_återvandra         0     0     0     0     0     0    10    26    23    34   \n",
       "\n",
       "                   2010  2011  2012  2013  2014  2015  2016  2017  2018  2019  \\\n",
       "A1_globalistisk      66   132   247   209   248   164   306   484   736   804   \n",
       "N1_berikare         497   413   426   276   202   216   153   125   143   142   \n",
       "N1_förortsgäng        0     0     0    14    25    18    12    14    24    29   \n",
       "N1_globalist        326   444   824   888   872   801  2079  2802  4734  4137   \n",
       "N1_kulturberikare  1104   611   596   470   208   144   190   114   243   197   \n",
       "N1_återvandring     203    55   185   222   190   149   210   183  3942  1704   \n",
       "V1_berika          2087  2011  1661  1390  1183  1231  1351   866  1037  1081   \n",
       "V1_kulturberika     330   269   259   205   116   129   109    60    74    63   \n",
       "V1_återvandra        51    36    44    64    47    30    21    27   310   144   \n",
       "\n",
       "                   2020  2021  2022  \n",
       "A1_globalistisk     701   563   709  \n",
       "N1_berikare          88    33    33  \n",
       "N1_förortsgäng       11    21    40  \n",
       "N1_globalist       3728  3336  5528  \n",
       "N1_kulturberikare   100   128   120  \n",
       "N1_återvandring    1484  1855  2303  \n",
       "V1_berika           841   646   785  \n",
       "V1_kulturberika      67    47    36  \n",
       "V1_återvandra       141   209   232  "
      ]
     },
     "execution_count": 25,
     "metadata": {},
     "output_type": "execute_result"
    }
   ],
   "source": [
    "mu = sgns_lsc[[col for col in sgns_lsc if col.startswith(\"frq\")]].sort_index()\n",
    "mu.rename(columns={col:col.split(\"_\")[-1] for col in mu.columns}).astype(int)"
   ]
  },
  {
   "cell_type": "code",
   "execution_count": null,
   "metadata": {},
   "outputs": [],
   "source": []
  },
  {
   "cell_type": "code",
   "execution_count": null,
   "metadata": {},
   "outputs": [],
   "source": []
  },
  {
   "cell_type": "code",
   "execution_count": null,
   "metadata": {},
   "outputs": [],
   "source": []
  },
  {
   "cell_type": "code",
   "execution_count": 26,
   "metadata": {},
   "outputs": [
    {
     "data": {
      "text/html": [
       "<div>\n",
       "<style scoped>\n",
       "    .dataframe tbody tr th:only-of-type {\n",
       "        vertical-align: middle;\n",
       "    }\n",
       "\n",
       "    .dataframe tbody tr th {\n",
       "        vertical-align: top;\n",
       "    }\n",
       "\n",
       "    .dataframe thead th {\n",
       "        text-align: right;\n",
       "    }\n",
       "</style>\n",
       "<table border=\"1\" class=\"dataframe\">\n",
       "  <thead>\n",
       "    <tr style=\"text-align: right;\">\n",
       "      <th></th>\n",
       "      <th>DWE</th>\n",
       "      <th>A-Strategy</th>\n",
       "      <th>Method</th>\n",
       "      <th>2000</th>\n",
       "      <th>2001</th>\n",
       "      <th>2002</th>\n",
       "      <th>2003</th>\n",
       "      <th>2004</th>\n",
       "      <th>2005</th>\n",
       "      <th>2006</th>\n",
       "      <th>2007</th>\n",
       "      <th>2008</th>\n",
       "      <th>2009</th>\n",
       "      <th>2010</th>\n",
       "      <th>2011</th>\n",
       "      <th>2012</th>\n",
       "      <th>2013</th>\n",
       "      <th>2014</th>\n",
       "      <th>2015</th>\n",
       "      <th>2016</th>\n",
       "      <th>2017</th>\n",
       "      <th>2018</th>\n",
       "      <th>2019</th>\n",
       "      <th>2020</th>\n",
       "      <th>2021</th>\n",
       "      <th>2022</th>\n",
       "    </tr>\n",
       "  </thead>\n",
       "  <tbody>\n",
       "    <tr>\n",
       "      <th>0</th>\n",
       "      <td>V1_berika</td>\n",
       "      <td>rn</td>\n",
       "      <td>I-cnt</td>\n",
       "      <td>0.508248</td>\n",
       "      <td>0.527463</td>\n",
       "      <td>0.549233</td>\n",
       "      <td>0.468585</td>\n",
       "      <td>0.525115</td>\n",
       "      <td>0.492592</td>\n",
       "      <td>0.509649</td>\n",
       "      <td>0.541307</td>\n",
       "      <td>0.541685</td>\n",
       "      <td>0.560794</td>\n",
       "      <td>0.543517</td>\n",
       "      <td>0.547380</td>\n",
       "      <td>0.542689</td>\n",
       "      <td>0.527732</td>\n",
       "      <td>0.548054</td>\n",
       "      <td>0.544408</td>\n",
       "      <td>0.562724</td>\n",
       "      <td>0.552851</td>\n",
       "      <td>0.535919</td>\n",
       "      <td>0.545333</td>\n",
       "      <td>0.528533</td>\n",
       "      <td>0.523378</td>\n",
       "      <td>0.525707</td>\n",
       "    </tr>\n",
       "    <tr>\n",
       "      <th>1</th>\n",
       "      <td>V1_berika</td>\n",
       "      <td>rn</td>\n",
       "      <td>O-cnt</td>\n",
       "      <td>0.668657</td>\n",
       "      <td>0.562767</td>\n",
       "      <td>0.688737</td>\n",
       "      <td>0.624902</td>\n",
       "      <td>0.632582</td>\n",
       "      <td>0.627013</td>\n",
       "      <td>0.635394</td>\n",
       "      <td>0.687490</td>\n",
       "      <td>0.678552</td>\n",
       "      <td>0.696306</td>\n",
       "      <td>0.692080</td>\n",
       "      <td>0.678996</td>\n",
       "      <td>0.683485</td>\n",
       "      <td>0.680976</td>\n",
       "      <td>0.694471</td>\n",
       "      <td>0.678219</td>\n",
       "      <td>0.701206</td>\n",
       "      <td>0.664811</td>\n",
       "      <td>0.651067</td>\n",
       "      <td>0.664717</td>\n",
       "      <td>0.622969</td>\n",
       "      <td>0.628794</td>\n",
       "      <td>0.620463</td>\n",
       "    </tr>\n",
       "    <tr>\n",
       "      <th>2</th>\n",
       "      <td>V1_berika</td>\n",
       "      <td>rn</td>\n",
       "      <td>cnt-ssc</td>\n",
       "      <td>0.431852</td>\n",
       "      <td>0.483809</td>\n",
       "      <td>0.443656</td>\n",
       "      <td>0.428524</td>\n",
       "      <td>0.453586</td>\n",
       "      <td>0.439969</td>\n",
       "      <td>0.445092</td>\n",
       "      <td>0.440518</td>\n",
       "      <td>0.443918</td>\n",
       "      <td>0.446101</td>\n",
       "      <td>0.439882</td>\n",
       "      <td>0.446339</td>\n",
       "      <td>0.442587</td>\n",
       "      <td>0.436608</td>\n",
       "      <td>0.441081</td>\n",
       "      <td>0.445277</td>\n",
       "      <td>0.445218</td>\n",
       "      <td>0.454027</td>\n",
       "      <td>0.451496</td>\n",
       "      <td>0.450670</td>\n",
       "      <td>0.458995</td>\n",
       "      <td>0.454253</td>\n",
       "      <td>0.458664</td>\n",
       "    </tr>\n",
       "    <tr>\n",
       "      <th>3</th>\n",
       "      <td>V1_berika</td>\n",
       "      <td>rn</td>\n",
       "      <td>cnt-smx</td>\n",
       "      <td>0.459984</td>\n",
       "      <td>0.491175</td>\n",
       "      <td>0.465180</td>\n",
       "      <td>0.461000</td>\n",
       "      <td>0.473159</td>\n",
       "      <td>0.466445</td>\n",
       "      <td>0.468605</td>\n",
       "      <td>0.463519</td>\n",
       "      <td>0.465836</td>\n",
       "      <td>0.466174</td>\n",
       "      <td>0.462927</td>\n",
       "      <td>0.467143</td>\n",
       "      <td>0.464859</td>\n",
       "      <td>0.461764</td>\n",
       "      <td>0.463461</td>\n",
       "      <td>0.466597</td>\n",
       "      <td>0.465435</td>\n",
       "      <td>0.472039</td>\n",
       "      <td>0.471245</td>\n",
       "      <td>0.470189</td>\n",
       "      <td>0.476409</td>\n",
       "      <td>0.473670</td>\n",
       "      <td>0.476329</td>\n",
       "    </tr>\n",
       "    <tr>\n",
       "      <th>4</th>\n",
       "      <td>V1_berika</td>\n",
       "      <td>rn</td>\n",
       "      <td>I-pwn</td>\n",
       "      <td>0.352091</td>\n",
       "      <td>0.364761</td>\n",
       "      <td>0.378151</td>\n",
       "      <td>0.314721</td>\n",
       "      <td>0.360003</td>\n",
       "      <td>0.334131</td>\n",
       "      <td>0.345811</td>\n",
       "      <td>0.369264</td>\n",
       "      <td>0.369521</td>\n",
       "      <td>0.386600</td>\n",
       "      <td>0.370997</td>\n",
       "      <td>0.373782</td>\n",
       "      <td>0.370495</td>\n",
       "      <td>0.358195</td>\n",
       "      <td>0.375517</td>\n",
       "      <td>0.371985</td>\n",
       "      <td>0.387186</td>\n",
       "      <td>0.377279</td>\n",
       "      <td>0.364415</td>\n",
       "      <td>0.373294</td>\n",
       "      <td>0.361513</td>\n",
       "      <td>0.357384</td>\n",
       "      <td>0.359206</td>\n",
       "    </tr>\n",
       "    <tr>\n",
       "      <th>...</th>\n",
       "      <td>...</td>\n",
       "      <td>...</td>\n",
       "      <td>...</td>\n",
       "      <td>...</td>\n",
       "      <td>...</td>\n",
       "      <td>...</td>\n",
       "      <td>...</td>\n",
       "      <td>...</td>\n",
       "      <td>...</td>\n",
       "      <td>...</td>\n",
       "      <td>...</td>\n",
       "      <td>...</td>\n",
       "      <td>...</td>\n",
       "      <td>...</td>\n",
       "      <td>...</td>\n",
       "      <td>...</td>\n",
       "      <td>...</td>\n",
       "      <td>...</td>\n",
       "      <td>...</td>\n",
       "      <td>...</td>\n",
       "      <td>...</td>\n",
       "      <td>...</td>\n",
       "      <td>...</td>\n",
       "      <td>...</td>\n",
       "      <td>...</td>\n",
       "      <td>...</td>\n",
       "    </tr>\n",
       "    <tr>\n",
       "      <th>355</th>\n",
       "      <td>N1_förortsgäng</td>\n",
       "      <td>ms1</td>\n",
       "      <td>cnt-smx</td>\n",
       "      <td>NaN</td>\n",
       "      <td>NaN</td>\n",
       "      <td>NaN</td>\n",
       "      <td>NaN</td>\n",
       "      <td>NaN</td>\n",
       "      <td>NaN</td>\n",
       "      <td>NaN</td>\n",
       "      <td>NaN</td>\n",
       "      <td>NaN</td>\n",
       "      <td>0.467386</td>\n",
       "      <td>NaN</td>\n",
       "      <td>NaN</td>\n",
       "      <td>NaN</td>\n",
       "      <td>0.481188</td>\n",
       "      <td>0.470848</td>\n",
       "      <td>0.462482</td>\n",
       "      <td>0.473469</td>\n",
       "      <td>0.458560</td>\n",
       "      <td>0.470052</td>\n",
       "      <td>0.451820</td>\n",
       "      <td>0.460001</td>\n",
       "      <td>0.458607</td>\n",
       "      <td>0.476498</td>\n",
       "    </tr>\n",
       "    <tr>\n",
       "      <th>356</th>\n",
       "      <td>N1_förortsgäng</td>\n",
       "      <td>ms1</td>\n",
       "      <td>I-pwn</td>\n",
       "      <td>NaN</td>\n",
       "      <td>NaN</td>\n",
       "      <td>NaN</td>\n",
       "      <td>NaN</td>\n",
       "      <td>NaN</td>\n",
       "      <td>NaN</td>\n",
       "      <td>NaN</td>\n",
       "      <td>NaN</td>\n",
       "      <td>NaN</td>\n",
       "      <td>0.547310</td>\n",
       "      <td>NaN</td>\n",
       "      <td>NaN</td>\n",
       "      <td>NaN</td>\n",
       "      <td>0.503919</td>\n",
       "      <td>0.568998</td>\n",
       "      <td>0.577857</td>\n",
       "      <td>0.602486</td>\n",
       "      <td>0.495024</td>\n",
       "      <td>0.505721</td>\n",
       "      <td>0.503065</td>\n",
       "      <td>0.555831</td>\n",
       "      <td>0.480534</td>\n",
       "      <td>0.528982</td>\n",
       "    </tr>\n",
       "    <tr>\n",
       "      <th>357</th>\n",
       "      <td>N1_förortsgäng</td>\n",
       "      <td>ms1</td>\n",
       "      <td>O-pwn</td>\n",
       "      <td>NaN</td>\n",
       "      <td>NaN</td>\n",
       "      <td>NaN</td>\n",
       "      <td>NaN</td>\n",
       "      <td>NaN</td>\n",
       "      <td>NaN</td>\n",
       "      <td>NaN</td>\n",
       "      <td>NaN</td>\n",
       "      <td>NaN</td>\n",
       "      <td>0.597998</td>\n",
       "      <td>NaN</td>\n",
       "      <td>NaN</td>\n",
       "      <td>NaN</td>\n",
       "      <td>0.515349</td>\n",
       "      <td>0.606875</td>\n",
       "      <td>0.642625</td>\n",
       "      <td>0.628526</td>\n",
       "      <td>0.581065</td>\n",
       "      <td>0.553796</td>\n",
       "      <td>0.608979</td>\n",
       "      <td>0.630193</td>\n",
       "      <td>0.566998</td>\n",
       "      <td>0.552990</td>\n",
       "    </tr>\n",
       "    <tr>\n",
       "      <th>358</th>\n",
       "      <td>N1_förortsgäng</td>\n",
       "      <td>ms1</td>\n",
       "      <td>pwn-ssc</td>\n",
       "      <td>NaN</td>\n",
       "      <td>NaN</td>\n",
       "      <td>NaN</td>\n",
       "      <td>NaN</td>\n",
       "      <td>NaN</td>\n",
       "      <td>NaN</td>\n",
       "      <td>NaN</td>\n",
       "      <td>NaN</td>\n",
       "      <td>NaN</td>\n",
       "      <td>0.477871</td>\n",
       "      <td>NaN</td>\n",
       "      <td>NaN</td>\n",
       "      <td>NaN</td>\n",
       "      <td>0.494393</td>\n",
       "      <td>0.483894</td>\n",
       "      <td>0.473466</td>\n",
       "      <td>0.489423</td>\n",
       "      <td>0.460021</td>\n",
       "      <td>0.477313</td>\n",
       "      <td>0.452379</td>\n",
       "      <td>0.468651</td>\n",
       "      <td>0.458730</td>\n",
       "      <td>0.488905</td>\n",
       "    </tr>\n",
       "    <tr>\n",
       "      <th>359</th>\n",
       "      <td>N1_förortsgäng</td>\n",
       "      <td>ms1</td>\n",
       "      <td>pwn-smx</td>\n",
       "      <td>NaN</td>\n",
       "      <td>NaN</td>\n",
       "      <td>NaN</td>\n",
       "      <td>NaN</td>\n",
       "      <td>NaN</td>\n",
       "      <td>NaN</td>\n",
       "      <td>NaN</td>\n",
       "      <td>NaN</td>\n",
       "      <td>NaN</td>\n",
       "      <td>0.487331</td>\n",
       "      <td>NaN</td>\n",
       "      <td>NaN</td>\n",
       "      <td>NaN</td>\n",
       "      <td>0.497143</td>\n",
       "      <td>0.490532</td>\n",
       "      <td>0.483814</td>\n",
       "      <td>0.493490</td>\n",
       "      <td>0.478503</td>\n",
       "      <td>0.487983</td>\n",
       "      <td>0.473546</td>\n",
       "      <td>0.481418</td>\n",
       "      <td>0.478398</td>\n",
       "      <td>0.493998</td>\n",
       "    </tr>\n",
       "  </tbody>\n",
       "</table>\n",
       "<p>360 rows × 26 columns</p>\n",
       "</div>"
      ],
      "text/plain": [
       "                DWE A-Strategy   Method      2000      2001      2002  \\\n",
       "0         V1_berika         rn    I-cnt  0.508248  0.527463  0.549233   \n",
       "1         V1_berika         rn    O-cnt  0.668657  0.562767  0.688737   \n",
       "2         V1_berika         rn  cnt-ssc  0.431852  0.483809  0.443656   \n",
       "3         V1_berika         rn  cnt-smx  0.459984  0.491175  0.465180   \n",
       "4         V1_berika         rn    I-pwn  0.352091  0.364761  0.378151   \n",
       "..              ...        ...      ...       ...       ...       ...   \n",
       "355  N1_förortsgäng        ms1  cnt-smx       NaN       NaN       NaN   \n",
       "356  N1_förortsgäng        ms1    I-pwn       NaN       NaN       NaN   \n",
       "357  N1_förortsgäng        ms1    O-pwn       NaN       NaN       NaN   \n",
       "358  N1_förortsgäng        ms1  pwn-ssc       NaN       NaN       NaN   \n",
       "359  N1_förortsgäng        ms1  pwn-smx       NaN       NaN       NaN   \n",
       "\n",
       "         2003      2004      2005      2006      2007      2008      2009  \\\n",
       "0    0.468585  0.525115  0.492592  0.509649  0.541307  0.541685  0.560794   \n",
       "1    0.624902  0.632582  0.627013  0.635394  0.687490  0.678552  0.696306   \n",
       "2    0.428524  0.453586  0.439969  0.445092  0.440518  0.443918  0.446101   \n",
       "3    0.461000  0.473159  0.466445  0.468605  0.463519  0.465836  0.466174   \n",
       "4    0.314721  0.360003  0.334131  0.345811  0.369264  0.369521  0.386600   \n",
       "..        ...       ...       ...       ...       ...       ...       ...   \n",
       "355       NaN       NaN       NaN       NaN       NaN       NaN  0.467386   \n",
       "356       NaN       NaN       NaN       NaN       NaN       NaN  0.547310   \n",
       "357       NaN       NaN       NaN       NaN       NaN       NaN  0.597998   \n",
       "358       NaN       NaN       NaN       NaN       NaN       NaN  0.477871   \n",
       "359       NaN       NaN       NaN       NaN       NaN       NaN  0.487331   \n",
       "\n",
       "         2010      2011      2012      2013      2014      2015      2016  \\\n",
       "0    0.543517  0.547380  0.542689  0.527732  0.548054  0.544408  0.562724   \n",
       "1    0.692080  0.678996  0.683485  0.680976  0.694471  0.678219  0.701206   \n",
       "2    0.439882  0.446339  0.442587  0.436608  0.441081  0.445277  0.445218   \n",
       "3    0.462927  0.467143  0.464859  0.461764  0.463461  0.466597  0.465435   \n",
       "4    0.370997  0.373782  0.370495  0.358195  0.375517  0.371985  0.387186   \n",
       "..        ...       ...       ...       ...       ...       ...       ...   \n",
       "355       NaN       NaN       NaN  0.481188  0.470848  0.462482  0.473469   \n",
       "356       NaN       NaN       NaN  0.503919  0.568998  0.577857  0.602486   \n",
       "357       NaN       NaN       NaN  0.515349  0.606875  0.642625  0.628526   \n",
       "358       NaN       NaN       NaN  0.494393  0.483894  0.473466  0.489423   \n",
       "359       NaN       NaN       NaN  0.497143  0.490532  0.483814  0.493490   \n",
       "\n",
       "         2017      2018      2019      2020      2021      2022  \n",
       "0    0.552851  0.535919  0.545333  0.528533  0.523378  0.525707  \n",
       "1    0.664811  0.651067  0.664717  0.622969  0.628794  0.620463  \n",
       "2    0.454027  0.451496  0.450670  0.458995  0.454253  0.458664  \n",
       "3    0.472039  0.471245  0.470189  0.476409  0.473670  0.476329  \n",
       "4    0.377279  0.364415  0.373294  0.361513  0.357384  0.359206  \n",
       "..        ...       ...       ...       ...       ...       ...  \n",
       "355  0.458560  0.470052  0.451820  0.460001  0.458607  0.476498  \n",
       "356  0.495024  0.505721  0.503065  0.555831  0.480534  0.528982  \n",
       "357  0.581065  0.553796  0.608979  0.630193  0.566998  0.552990  \n",
       "358  0.460021  0.477313  0.452379  0.468651  0.458730  0.488905  \n",
       "359  0.478503  0.487983  0.473546  0.481418  0.478398  0.493998  \n",
       "\n",
       "[360 rows x 26 columns]"
      ]
     },
     "execution_count": 26,
     "metadata": {},
     "output_type": "execute_result"
    }
   ],
   "source": [
    "kb_iod"
   ]
  },
  {
   "cell_type": "markdown",
   "metadata": {},
   "source": [
    "#### Familjeliv"
   ]
  },
  {
   "cell_type": "code",
   "execution_count": 27,
   "metadata": {},
   "outputs": [],
   "source": [
    "fm_sgns_iod = get_iod(\n",
    "    \"/home/max/Results/replacements/results/fm_sgns_results.csv\",\n",
    "    \"/home/max/Documents/mlt/thesis/dw_results/fm_smh-yearly-radical3-restricted.csv\", \n",
    "    fm_variables, \n",
    "    terms\n",
    ")"
   ]
  },
  {
   "cell_type": "code",
   "execution_count": 28,
   "metadata": {},
   "outputs": [],
   "source": [
    "fm_kb_iod   = get_iod(\n",
    "    \"/home/max/Results/replacements/results/fm_kb_results.csv\",\n",
    "    \"/home/max/Documents/mlt/thesis/dw_results/fm_smh-yearly-bert-sentence-bert-swedish-cased.csv\", \n",
    "    fm_variables, \n",
    "    terms\n",
    ")"
   ]
  },
  {
   "cell_type": "code",
   "execution_count": 29,
   "metadata": {},
   "outputs": [],
   "source": [
    "# fm_sgns_iod = pd.read_csv(\"/home/max/Results/replacements/results/fm_sgns_results.csv\", index_col=0)\n",
    "# fm_kb_iod   = pd.read_csv(\"/home/max/Results/replacements/results/fm_kb_results.csv\", index_col=0)"
   ]
  },
  {
   "cell_type": "markdown",
   "metadata": {},
   "source": [
    "#### Re-Run Globalist"
   ]
  },
  {
   "cell_type": "code",
   "execution_count": 30,
   "metadata": {},
   "outputs": [
    {
     "data": {
      "text/plain": [
       "['fl_globalist_kb_results.csv',\n",
       " 'fb_globalist_sgns_results.csv',\n",
       " 'fb_globalist_sts_results.csv',\n",
       " 'fb_globalist_kb_results.csv',\n",
       " 'fl_globalist_sgns_results.csv']"
      ]
     },
     "execution_count": 30,
     "metadata": {},
     "output_type": "execute_result"
    }
   ],
   "source": [
    "os.listdir(\"/home/max/Results/rplc_globalist_2nd_round/results\")"
   ]
  },
  {
   "cell_type": "code",
   "execution_count": 31,
   "metadata": {},
   "outputs": [],
   "source": [
    "fb_sgns_G_iod = get_iod(\n",
    "    \"/home/max/Results/rplc_globalist_2nd_round/results/fb_globalist_sgns_results.csv\",\n",
    "    \"/home/max/Documents/mlt/thesis/dw_results/fb_pol-yearly-radical3-restricted.csv\", \n",
    "    variables, \n",
    "    terms\n",
    ")\n",
    "fb_sgns_G_iod.rename(columns={\"B-strategy\": \"B-Strategy\"}, inplace=True) \n",
    "\n",
    "fb_kb_G_iod   = get_iod(\n",
    "    \"/home/max/Results/rplc_globalist_2nd_round/results/fb_globalist_kb_results.csv\",\n",
    "    \"/home/max/Documents/mlt/thesis/dw_results/fb_pol-yearly-bert-sentence-bert-swedish-cased.csv\", \n",
    "    variables, \n",
    "    terms\n",
    ")\n",
    "\n",
    "fb_sts_G_iod  = get_iod(\n",
    "    \"/home/max/Results/rplc_globalist_2nd_round/results/fb_globalist_sts_results.csv\",\n",
    "    \"/home/max/Documents/mlt/thesis/dw_results/fb_pol-yearly-bert-sentence-bert-swedish-cased.csv\", \n",
    "    variables, \n",
    "    terms\n",
    ")\n",
    "\n",
    "fm_sgns_G_iod = get_iod(\n",
    "    \"/home/max/Results/rplc_globalist_2nd_round/results/fl_globalist_sgns_results.csv\",\n",
    "    \"/home/max/Documents/mlt/thesis/dw_results/fm_smh-yearly-radical3-restricted.csv\", \n",
    "    fm_variables, \n",
    "    terms\n",
    ")\n",
    "\n",
    "fm_kb_G_iod     = get_iod(\n",
    "    \"/home/max/Results/rplc_globalist_2nd_round/results/fl_globalist_kb_results.csv\",\n",
    "    \"/home/max/Documents/mlt/thesis/dw_results/fm_smh-yearly-bert-sentence-bert-swedish-cased.csv\", \n",
    "    fm_variables, \n",
    "    terms\n",
    ")"
   ]
  },
  {
   "cell_type": "markdown",
   "metadata": {},
   "source": [
    "#### With Global Initialization NLPL"
   ]
  },
  {
   "cell_type": "code",
   "execution_count": 32,
   "metadata": {},
   "outputs": [],
   "source": [
    "variables_noRCH, _ = get_variables(2000, 2022, incl_rect=False)\n",
    "\n",
    "sgns_lsc_nlpl = get_df(\n",
    "    \"/home/max/Documents/mlt/thesis/dw_results/fb_pol-yearly-radical3-restricted-w_glob_nlpl.csv\", \n",
    "    variables_noRCH, \n",
    "    terms,\n",
    "    drop_frq = False\n",
    ")\n",
    "\n",
    "fb_sgns_iod_nlpl = get_iod(\n",
    "    \"/home/max/Results/rplc_w-global-nlpl/results/sgns-w-global-nlpl_results.csv\",\n",
    "    \"/home/max/Documents/mlt/thesis/dw_results/fb_pol-yearly-radical3-restricted-w_glob_nlpl.csv\", \n",
    "    variables_noRCH, \n",
    "    terms\n",
    ")\n",
    "fb_sgns_iod_nlpl.rename(columns={\"B-strategy\": \"B-Strategy\"}, inplace=True) "
   ]
  },
  {
   "cell_type": "code",
   "execution_count": null,
   "metadata": {},
   "outputs": [],
   "source": []
  },
  {
   "cell_type": "code",
   "execution_count": null,
   "metadata": {},
   "outputs": [],
   "source": []
  },
  {
   "cell_type": "markdown",
   "metadata": {},
   "source": [
    "### Know your data"
   ]
  },
  {
   "cell_type": "code",
   "execution_count": null,
   "metadata": {
    "scrolled": true
   },
   "outputs": [],
   "source": [
    "sgns_iod"
   ]
  },
  {
   "cell_type": "code",
   "execution_count": null,
   "metadata": {},
   "outputs": [],
   "source": [
    "sgns_iod[(sgns_iod[\"DWE\"] == \"V1_berika\") & ((sgns_iod[\"Method\"] == \"cnt-ssc\") | (sgns_iod[\"Method\"] == \"cnt-smx\"))]"
   ]
  },
  {
   "cell_type": "code",
   "execution_count": null,
   "metadata": {},
   "outputs": [],
   "source": [
    "set(sgns_iod[\"DWE\"].values)"
   ]
  },
  {
   "cell_type": "code",
   "execution_count": null,
   "metadata": {},
   "outputs": [],
   "source": [
    "fm_sgns_iod"
   ]
  },
  {
   "cell_type": "code",
   "execution_count": null,
   "metadata": {},
   "outputs": [],
   "source": [
    "set(fm_sgns_lsc.index)"
   ]
  },
  {
   "cell_type": "code",
   "execution_count": null,
   "metadata": {},
   "outputs": [],
   "source": []
  },
  {
   "cell_type": "markdown",
   "metadata": {},
   "source": [
    "### Add IOD difference"
   ]
  },
  {
   "cell_type": "markdown",
   "metadata": {},
   "source": [
    "Consider using absulte values"
   ]
  },
  {
   "cell_type": "code",
   "execution_count": 33,
   "metadata": {},
   "outputs": [],
   "source": [
    "def add_iod_dif(df, years):\n",
    "    transitions = [(y, str(int(y)+1)) for y in years[:-1]]\n",
    "    df = df.copy()\n",
    "    for yi, yj in transitions:\n",
    "#         df[f\"{yi[2:]}:{yj[2:]}\"] = abs(df[f\"{yj}\"] - df[f\"{yi}\"])\n",
    "#         df[f\"{yi}:{yj}\"] = abs(df[f\"{yj}\"] - df[f\"{yi}\"])\n",
    "        df[f\"{yi}:{yj}\"] = df[f\"{yj}\"] - df[f\"{yi}\"]\n",
    "\n",
    "    return df"
   ]
  },
  {
   "cell_type": "code",
   "execution_count": 34,
   "metadata": {},
   "outputs": [],
   "source": [
    "sgns_iod      = add_iod_dif(sgns_iod, years)\n",
    "kb_iod        = add_iod_dif(kb_iod, years)\n",
    "sts_iod       = add_iod_dif(sts_iod, years)\n",
    "\n",
    "fb_sgns_G_iod = add_iod_dif(fb_sgns_G_iod, years)\n",
    "fb_kb_G_iod   = add_iod_dif(fb_kb_G_iod, years)\n",
    "fb_sts_G_iod  = add_iod_dif(fb_sts_G_iod, years)\n",
    "\n",
    "fm_sgns_iod   = add_iod_dif(fm_sgns_iod, fm_years)\n",
    "fm_kb_iod     = add_iod_dif(fm_kb_iod, fm_years)\n",
    "\n",
    "fm_sgns_G_iod = add_iod_dif(fm_sgns_G_iod, fm_years)\n",
    "fm_kb_G_iod   = add_iod_dif(fm_kb_G_iod, fm_years)\n",
    "\n",
    "fb_sgns_iod_nlpl = add_iod_dif(fb_sgns_iod_nlpl, years)"
   ]
  },
  {
   "cell_type": "code",
   "execution_count": 36,
   "metadata": {},
   "outputs": [
    {
     "data": {
      "text/html": [
       "<div>\n",
       "<style scoped>\n",
       "    .dataframe tbody tr th:only-of-type {\n",
       "        vertical-align: middle;\n",
       "    }\n",
       "\n",
       "    .dataframe tbody tr th {\n",
       "        vertical-align: top;\n",
       "    }\n",
       "\n",
       "    .dataframe thead th {\n",
       "        text-align: right;\n",
       "    }\n",
       "</style>\n",
       "<table border=\"1\" class=\"dataframe\">\n",
       "  <thead>\n",
       "    <tr style=\"text-align: right;\">\n",
       "      <th></th>\n",
       "      <th>DWE</th>\n",
       "      <th>A-Strategy</th>\n",
       "      <th>B-Strategy</th>\n",
       "      <th>Method</th>\n",
       "      <th>2000</th>\n",
       "      <th>2001</th>\n",
       "      <th>2002</th>\n",
       "      <th>2003</th>\n",
       "      <th>2004</th>\n",
       "      <th>2005</th>\n",
       "      <th>2006</th>\n",
       "      <th>2007</th>\n",
       "      <th>2008</th>\n",
       "      <th>2009</th>\n",
       "      <th>2010</th>\n",
       "      <th>2011</th>\n",
       "      <th>2012</th>\n",
       "      <th>2013</th>\n",
       "      <th>2014</th>\n",
       "      <th>2015</th>\n",
       "      <th>2016</th>\n",
       "      <th>2017</th>\n",
       "      <th>2018</th>\n",
       "      <th>2019</th>\n",
       "      <th>2020</th>\n",
       "      <th>2021</th>\n",
       "      <th>2022</th>\n",
       "      <th>2000:2001</th>\n",
       "      <th>2001:2002</th>\n",
       "      <th>2002:2003</th>\n",
       "      <th>2003:2004</th>\n",
       "      <th>2004:2005</th>\n",
       "      <th>2005:2006</th>\n",
       "      <th>2006:2007</th>\n",
       "      <th>2007:2008</th>\n",
       "      <th>2008:2009</th>\n",
       "      <th>2009:2010</th>\n",
       "      <th>2010:2011</th>\n",
       "      <th>2011:2012</th>\n",
       "      <th>2012:2013</th>\n",
       "      <th>2013:2014</th>\n",
       "      <th>2014:2015</th>\n",
       "      <th>2015:2016</th>\n",
       "      <th>2016:2017</th>\n",
       "      <th>2017:2018</th>\n",
       "      <th>2018:2019</th>\n",
       "      <th>2019:2020</th>\n",
       "      <th>2020:2021</th>\n",
       "      <th>2021:2022</th>\n",
       "    </tr>\n",
       "  </thead>\n",
       "  <tbody>\n",
       "    <tr>\n",
       "      <th>0</th>\n",
       "      <td>V1_berika</td>\n",
       "      <td>top3</td>\n",
       "      <td>lazy</td>\n",
       "      <td>I-cnt</td>\n",
       "      <td>0.656053</td>\n",
       "      <td>0.384878</td>\n",
       "      <td>0.501883</td>\n",
       "      <td>0.446897</td>\n",
       "      <td>0.392001</td>\n",
       "      <td>0.404960</td>\n",
       "      <td>0.441619</td>\n",
       "      <td>0.401224</td>\n",
       "      <td>0.419114</td>\n",
       "      <td>0.409779</td>\n",
       "      <td>0.379007</td>\n",
       "      <td>0.423590</td>\n",
       "      <td>0.447803</td>\n",
       "      <td>0.453548</td>\n",
       "      <td>0.427369</td>\n",
       "      <td>0.467807</td>\n",
       "      <td>0.474499</td>\n",
       "      <td>0.449172</td>\n",
       "      <td>0.416547</td>\n",
       "      <td>0.455153</td>\n",
       "      <td>0.471171</td>\n",
       "      <td>0.460360</td>\n",
       "      <td>0.467749</td>\n",
       "      <td>-0.271174</td>\n",
       "      <td>0.117005</td>\n",
       "      <td>-0.054986</td>\n",
       "      <td>-0.054897</td>\n",
       "      <td>0.012959</td>\n",
       "      <td>0.036659</td>\n",
       "      <td>-0.040395</td>\n",
       "      <td>0.017890</td>\n",
       "      <td>-0.009334</td>\n",
       "      <td>-0.030772</td>\n",
       "      <td>0.044584</td>\n",
       "      <td>0.024213</td>\n",
       "      <td>0.005745</td>\n",
       "      <td>-0.026179</td>\n",
       "      <td>0.040438</td>\n",
       "      <td>0.006692</td>\n",
       "      <td>-0.025327</td>\n",
       "      <td>-0.032624</td>\n",
       "      <td>0.038605</td>\n",
       "      <td>0.016018</td>\n",
       "      <td>-0.010811</td>\n",
       "      <td>0.007389</td>\n",
       "    </tr>\n",
       "    <tr>\n",
       "      <th>1</th>\n",
       "      <td>V1_berika</td>\n",
       "      <td>top3</td>\n",
       "      <td>lazy</td>\n",
       "      <td>O-cnt</td>\n",
       "      <td>0.652678</td>\n",
       "      <td>0.366996</td>\n",
       "      <td>0.473019</td>\n",
       "      <td>0.450164</td>\n",
       "      <td>0.409096</td>\n",
       "      <td>0.414466</td>\n",
       "      <td>0.423777</td>\n",
       "      <td>0.440295</td>\n",
       "      <td>0.423203</td>\n",
       "      <td>0.403099</td>\n",
       "      <td>0.373775</td>\n",
       "      <td>0.439437</td>\n",
       "      <td>0.419708</td>\n",
       "      <td>0.438749</td>\n",
       "      <td>0.430977</td>\n",
       "      <td>0.484939</td>\n",
       "      <td>0.477601</td>\n",
       "      <td>0.374323</td>\n",
       "      <td>0.351868</td>\n",
       "      <td>0.484741</td>\n",
       "      <td>0.409046</td>\n",
       "      <td>0.448849</td>\n",
       "      <td>0.436945</td>\n",
       "      <td>-0.285682</td>\n",
       "      <td>0.106023</td>\n",
       "      <td>-0.022855</td>\n",
       "      <td>-0.041068</td>\n",
       "      <td>0.005370</td>\n",
       "      <td>0.009311</td>\n",
       "      <td>0.016517</td>\n",
       "      <td>-0.017092</td>\n",
       "      <td>-0.020104</td>\n",
       "      <td>-0.029324</td>\n",
       "      <td>0.065661</td>\n",
       "      <td>-0.019728</td>\n",
       "      <td>0.019040</td>\n",
       "      <td>-0.007771</td>\n",
       "      <td>0.053962</td>\n",
       "      <td>-0.007338</td>\n",
       "      <td>-0.103278</td>\n",
       "      <td>-0.022455</td>\n",
       "      <td>0.132873</td>\n",
       "      <td>-0.075695</td>\n",
       "      <td>0.039803</td>\n",
       "      <td>-0.011905</td>\n",
       "    </tr>\n",
       "    <tr>\n",
       "      <th>2</th>\n",
       "      <td>V1_berika</td>\n",
       "      <td>top3</td>\n",
       "      <td>lazy</td>\n",
       "      <td>cnt-ssc</td>\n",
       "      <td>0.501289</td>\n",
       "      <td>0.511892</td>\n",
       "      <td>0.514804</td>\n",
       "      <td>0.498179</td>\n",
       "      <td>0.489330</td>\n",
       "      <td>0.494200</td>\n",
       "      <td>0.510308</td>\n",
       "      <td>0.476785</td>\n",
       "      <td>0.497573</td>\n",
       "      <td>0.504109</td>\n",
       "      <td>0.503475</td>\n",
       "      <td>0.490819</td>\n",
       "      <td>0.516193</td>\n",
       "      <td>0.508293</td>\n",
       "      <td>0.497898</td>\n",
       "      <td>0.491009</td>\n",
       "      <td>0.498371</td>\n",
       "      <td>0.545446</td>\n",
       "      <td>0.542086</td>\n",
       "      <td>0.484260</td>\n",
       "      <td>0.535290</td>\n",
       "      <td>0.506330</td>\n",
       "      <td>0.517025</td>\n",
       "      <td>0.010602</td>\n",
       "      <td>0.002912</td>\n",
       "      <td>-0.016625</td>\n",
       "      <td>-0.008849</td>\n",
       "      <td>0.004869</td>\n",
       "      <td>0.016109</td>\n",
       "      <td>-0.033523</td>\n",
       "      <td>0.020787</td>\n",
       "      <td>0.006536</td>\n",
       "      <td>-0.000634</td>\n",
       "      <td>-0.012656</td>\n",
       "      <td>0.025373</td>\n",
       "      <td>-0.007900</td>\n",
       "      <td>-0.010395</td>\n",
       "      <td>-0.006889</td>\n",
       "      <td>0.007362</td>\n",
       "      <td>0.047075</td>\n",
       "      <td>-0.003359</td>\n",
       "      <td>-0.057827</td>\n",
       "      <td>0.051030</td>\n",
       "      <td>-0.028960</td>\n",
       "      <td>0.010694</td>\n",
       "    </tr>\n",
       "    <tr>\n",
       "      <th>3</th>\n",
       "      <td>V1_berika</td>\n",
       "      <td>top3</td>\n",
       "      <td>lazy</td>\n",
       "      <td>cnt-smx</td>\n",
       "      <td>0.500844</td>\n",
       "      <td>0.504470</td>\n",
       "      <td>0.507216</td>\n",
       "      <td>0.499183</td>\n",
       "      <td>0.495726</td>\n",
       "      <td>0.497624</td>\n",
       "      <td>0.504460</td>\n",
       "      <td>0.490233</td>\n",
       "      <td>0.498978</td>\n",
       "      <td>0.501670</td>\n",
       "      <td>0.501308</td>\n",
       "      <td>0.496038</td>\n",
       "      <td>0.507023</td>\n",
       "      <td>0.503700</td>\n",
       "      <td>0.499098</td>\n",
       "      <td>0.495717</td>\n",
       "      <td>0.499224</td>\n",
       "      <td>0.518703</td>\n",
       "      <td>0.516164</td>\n",
       "      <td>0.492603</td>\n",
       "      <td>0.515526</td>\n",
       "      <td>0.502878</td>\n",
       "      <td>0.507700</td>\n",
       "      <td>0.003627</td>\n",
       "      <td>0.002745</td>\n",
       "      <td>-0.008032</td>\n",
       "      <td>-0.003457</td>\n",
       "      <td>0.001897</td>\n",
       "      <td>0.006837</td>\n",
       "      <td>-0.014227</td>\n",
       "      <td>0.008744</td>\n",
       "      <td>0.002692</td>\n",
       "      <td>-0.000362</td>\n",
       "      <td>-0.005269</td>\n",
       "      <td>0.010985</td>\n",
       "      <td>-0.003324</td>\n",
       "      <td>-0.004602</td>\n",
       "      <td>-0.003381</td>\n",
       "      <td>0.003507</td>\n",
       "      <td>0.019479</td>\n",
       "      <td>-0.002539</td>\n",
       "      <td>-0.023561</td>\n",
       "      <td>0.022923</td>\n",
       "      <td>-0.012649</td>\n",
       "      <td>0.004823</td>\n",
       "    </tr>\n",
       "    <tr>\n",
       "      <th>4</th>\n",
       "      <td>V1_berika</td>\n",
       "      <td>top3</td>\n",
       "      <td>lazy</td>\n",
       "      <td>I-pwn</td>\n",
       "      <td>0.503392</td>\n",
       "      <td>0.284549</td>\n",
       "      <td>0.375772</td>\n",
       "      <td>0.330203</td>\n",
       "      <td>0.275282</td>\n",
       "      <td>0.284782</td>\n",
       "      <td>0.316073</td>\n",
       "      <td>0.293903</td>\n",
       "      <td>0.320117</td>\n",
       "      <td>0.308108</td>\n",
       "      <td>0.292027</td>\n",
       "      <td>0.323435</td>\n",
       "      <td>0.339405</td>\n",
       "      <td>0.336866</td>\n",
       "      <td>0.321024</td>\n",
       "      <td>0.357204</td>\n",
       "      <td>0.354631</td>\n",
       "      <td>0.339705</td>\n",
       "      <td>0.328619</td>\n",
       "      <td>0.352272</td>\n",
       "      <td>0.352753</td>\n",
       "      <td>0.343334</td>\n",
       "      <td>0.360993</td>\n",
       "      <td>-0.218844</td>\n",
       "      <td>0.091223</td>\n",
       "      <td>-0.045569</td>\n",
       "      <td>-0.054921</td>\n",
       "      <td>0.009501</td>\n",
       "      <td>0.031291</td>\n",
       "      <td>-0.022170</td>\n",
       "      <td>0.026214</td>\n",
       "      <td>-0.012009</td>\n",
       "      <td>-0.016081</td>\n",
       "      <td>0.031408</td>\n",
       "      <td>0.015970</td>\n",
       "      <td>-0.002539</td>\n",
       "      <td>-0.015842</td>\n",
       "      <td>0.036179</td>\n",
       "      <td>-0.002573</td>\n",
       "      <td>-0.014926</td>\n",
       "      <td>-0.011086</td>\n",
       "      <td>0.023653</td>\n",
       "      <td>0.000481</td>\n",
       "      <td>-0.009419</td>\n",
       "      <td>0.017659</td>\n",
       "    </tr>\n",
       "    <tr>\n",
       "      <th>...</th>\n",
       "      <td>...</td>\n",
       "      <td>...</td>\n",
       "      <td>...</td>\n",
       "      <td>...</td>\n",
       "      <td>...</td>\n",
       "      <td>...</td>\n",
       "      <td>...</td>\n",
       "      <td>...</td>\n",
       "      <td>...</td>\n",
       "      <td>...</td>\n",
       "      <td>...</td>\n",
       "      <td>...</td>\n",
       "      <td>...</td>\n",
       "      <td>...</td>\n",
       "      <td>...</td>\n",
       "      <td>...</td>\n",
       "      <td>...</td>\n",
       "      <td>...</td>\n",
       "      <td>...</td>\n",
       "      <td>...</td>\n",
       "      <td>...</td>\n",
       "      <td>...</td>\n",
       "      <td>...</td>\n",
       "      <td>...</td>\n",
       "      <td>...</td>\n",
       "      <td>...</td>\n",
       "      <td>...</td>\n",
       "      <td>...</td>\n",
       "      <td>...</td>\n",
       "      <td>...</td>\n",
       "      <td>...</td>\n",
       "      <td>...</td>\n",
       "      <td>...</td>\n",
       "      <td>...</td>\n",
       "      <td>...</td>\n",
       "      <td>...</td>\n",
       "      <td>...</td>\n",
       "      <td>...</td>\n",
       "      <td>...</td>\n",
       "      <td>...</td>\n",
       "      <td>...</td>\n",
       "      <td>...</td>\n",
       "      <td>...</td>\n",
       "      <td>...</td>\n",
       "      <td>...</td>\n",
       "      <td>...</td>\n",
       "      <td>...</td>\n",
       "      <td>...</td>\n",
       "      <td>...</td>\n",
       "    </tr>\n",
       "    <tr>\n",
       "      <th>571</th>\n",
       "      <td>N1_förortsgäng</td>\n",
       "      <td>ms1</td>\n",
       "      <td>min0.2</td>\n",
       "      <td>cnt-smx</td>\n",
       "      <td>NaN</td>\n",
       "      <td>NaN</td>\n",
       "      <td>NaN</td>\n",
       "      <td>NaN</td>\n",
       "      <td>NaN</td>\n",
       "      <td>NaN</td>\n",
       "      <td>NaN</td>\n",
       "      <td>NaN</td>\n",
       "      <td>NaN</td>\n",
       "      <td>0.478190</td>\n",
       "      <td>NaN</td>\n",
       "      <td>NaN</td>\n",
       "      <td>NaN</td>\n",
       "      <td>0.499314</td>\n",
       "      <td>0.500795</td>\n",
       "      <td>0.510906</td>\n",
       "      <td>0.521853</td>\n",
       "      <td>0.526636</td>\n",
       "      <td>0.489290</td>\n",
       "      <td>0.495623</td>\n",
       "      <td>0.497344</td>\n",
       "      <td>0.496752</td>\n",
       "      <td>0.493379</td>\n",
       "      <td>NaN</td>\n",
       "      <td>NaN</td>\n",
       "      <td>NaN</td>\n",
       "      <td>NaN</td>\n",
       "      <td>NaN</td>\n",
       "      <td>NaN</td>\n",
       "      <td>NaN</td>\n",
       "      <td>NaN</td>\n",
       "      <td>NaN</td>\n",
       "      <td>NaN</td>\n",
       "      <td>NaN</td>\n",
       "      <td>NaN</td>\n",
       "      <td>NaN</td>\n",
       "      <td>0.001481</td>\n",
       "      <td>0.010111</td>\n",
       "      <td>0.010947</td>\n",
       "      <td>0.004784</td>\n",
       "      <td>-0.037346</td>\n",
       "      <td>0.006333</td>\n",
       "      <td>0.001721</td>\n",
       "      <td>-0.000592</td>\n",
       "      <td>-0.003373</td>\n",
       "    </tr>\n",
       "    <tr>\n",
       "      <th>572</th>\n",
       "      <td>N1_förortsgäng</td>\n",
       "      <td>ms1</td>\n",
       "      <td>min0.2</td>\n",
       "      <td>I-pwn</td>\n",
       "      <td>NaN</td>\n",
       "      <td>NaN</td>\n",
       "      <td>NaN</td>\n",
       "      <td>NaN</td>\n",
       "      <td>NaN</td>\n",
       "      <td>NaN</td>\n",
       "      <td>NaN</td>\n",
       "      <td>NaN</td>\n",
       "      <td>NaN</td>\n",
       "      <td>0.429580</td>\n",
       "      <td>NaN</td>\n",
       "      <td>NaN</td>\n",
       "      <td>NaN</td>\n",
       "      <td>0.522426</td>\n",
       "      <td>0.557323</td>\n",
       "      <td>0.588121</td>\n",
       "      <td>0.603260</td>\n",
       "      <td>0.604265</td>\n",
       "      <td>0.483953</td>\n",
       "      <td>0.547581</td>\n",
       "      <td>0.544284</td>\n",
       "      <td>0.578539</td>\n",
       "      <td>0.527293</td>\n",
       "      <td>NaN</td>\n",
       "      <td>NaN</td>\n",
       "      <td>NaN</td>\n",
       "      <td>NaN</td>\n",
       "      <td>NaN</td>\n",
       "      <td>NaN</td>\n",
       "      <td>NaN</td>\n",
       "      <td>NaN</td>\n",
       "      <td>NaN</td>\n",
       "      <td>NaN</td>\n",
       "      <td>NaN</td>\n",
       "      <td>NaN</td>\n",
       "      <td>NaN</td>\n",
       "      <td>0.034897</td>\n",
       "      <td>0.030798</td>\n",
       "      <td>0.015139</td>\n",
       "      <td>0.001005</td>\n",
       "      <td>-0.120312</td>\n",
       "      <td>0.063628</td>\n",
       "      <td>-0.003297</td>\n",
       "      <td>0.034255</td>\n",
       "      <td>-0.051247</td>\n",
       "    </tr>\n",
       "    <tr>\n",
       "      <th>573</th>\n",
       "      <td>N1_förortsgäng</td>\n",
       "      <td>ms1</td>\n",
       "      <td>min0.2</td>\n",
       "      <td>O-pwn</td>\n",
       "      <td>NaN</td>\n",
       "      <td>NaN</td>\n",
       "      <td>NaN</td>\n",
       "      <td>NaN</td>\n",
       "      <td>NaN</td>\n",
       "      <td>NaN</td>\n",
       "      <td>NaN</td>\n",
       "      <td>NaN</td>\n",
       "      <td>NaN</td>\n",
       "      <td>0.462773</td>\n",
       "      <td>NaN</td>\n",
       "      <td>NaN</td>\n",
       "      <td>NaN</td>\n",
       "      <td>0.477902</td>\n",
       "      <td>0.521162</td>\n",
       "      <td>0.510227</td>\n",
       "      <td>0.502326</td>\n",
       "      <td>0.479189</td>\n",
       "      <td>0.481475</td>\n",
       "      <td>0.520104</td>\n",
       "      <td>0.528504</td>\n",
       "      <td>0.535238</td>\n",
       "      <td>0.486989</td>\n",
       "      <td>NaN</td>\n",
       "      <td>NaN</td>\n",
       "      <td>NaN</td>\n",
       "      <td>NaN</td>\n",
       "      <td>NaN</td>\n",
       "      <td>NaN</td>\n",
       "      <td>NaN</td>\n",
       "      <td>NaN</td>\n",
       "      <td>NaN</td>\n",
       "      <td>NaN</td>\n",
       "      <td>NaN</td>\n",
       "      <td>NaN</td>\n",
       "      <td>NaN</td>\n",
       "      <td>0.043260</td>\n",
       "      <td>-0.010935</td>\n",
       "      <td>-0.007902</td>\n",
       "      <td>-0.023137</td>\n",
       "      <td>0.002287</td>\n",
       "      <td>0.038629</td>\n",
       "      <td>0.008400</td>\n",
       "      <td>0.006733</td>\n",
       "      <td>-0.048249</td>\n",
       "    </tr>\n",
       "    <tr>\n",
       "      <th>574</th>\n",
       "      <td>N1_förortsgäng</td>\n",
       "      <td>ms1</td>\n",
       "      <td>min0.2</td>\n",
       "      <td>pwn-ssc</td>\n",
       "      <td>NaN</td>\n",
       "      <td>NaN</td>\n",
       "      <td>NaN</td>\n",
       "      <td>NaN</td>\n",
       "      <td>NaN</td>\n",
       "      <td>NaN</td>\n",
       "      <td>NaN</td>\n",
       "      <td>NaN</td>\n",
       "      <td>NaN</td>\n",
       "      <td>0.481402</td>\n",
       "      <td>NaN</td>\n",
       "      <td>NaN</td>\n",
       "      <td>NaN</td>\n",
       "      <td>0.522255</td>\n",
       "      <td>0.516765</td>\n",
       "      <td>0.535460</td>\n",
       "      <td>0.545647</td>\n",
       "      <td>0.557721</td>\n",
       "      <td>0.501283</td>\n",
       "      <td>0.512868</td>\n",
       "      <td>0.507355</td>\n",
       "      <td>0.519439</td>\n",
       "      <td>0.519868</td>\n",
       "      <td>NaN</td>\n",
       "      <td>NaN</td>\n",
       "      <td>NaN</td>\n",
       "      <td>NaN</td>\n",
       "      <td>NaN</td>\n",
       "      <td>NaN</td>\n",
       "      <td>NaN</td>\n",
       "      <td>NaN</td>\n",
       "      <td>NaN</td>\n",
       "      <td>NaN</td>\n",
       "      <td>NaN</td>\n",
       "      <td>NaN</td>\n",
       "      <td>NaN</td>\n",
       "      <td>-0.005490</td>\n",
       "      <td>0.018695</td>\n",
       "      <td>0.010188</td>\n",
       "      <td>0.012074</td>\n",
       "      <td>-0.056438</td>\n",
       "      <td>0.011584</td>\n",
       "      <td>-0.005513</td>\n",
       "      <td>0.012084</td>\n",
       "      <td>0.000429</td>\n",
       "    </tr>\n",
       "    <tr>\n",
       "      <th>575</th>\n",
       "      <td>N1_förortsgäng</td>\n",
       "      <td>ms1</td>\n",
       "      <td>min0.2</td>\n",
       "      <td>pwn-smx</td>\n",
       "      <td>NaN</td>\n",
       "      <td>NaN</td>\n",
       "      <td>NaN</td>\n",
       "      <td>NaN</td>\n",
       "      <td>NaN</td>\n",
       "      <td>NaN</td>\n",
       "      <td>NaN</td>\n",
       "      <td>NaN</td>\n",
       "      <td>NaN</td>\n",
       "      <td>0.491703</td>\n",
       "      <td>NaN</td>\n",
       "      <td>NaN</td>\n",
       "      <td>NaN</td>\n",
       "      <td>0.511129</td>\n",
       "      <td>0.509039</td>\n",
       "      <td>0.519464</td>\n",
       "      <td>0.525212</td>\n",
       "      <td>0.531228</td>\n",
       "      <td>0.500619</td>\n",
       "      <td>0.506869</td>\n",
       "      <td>0.503945</td>\n",
       "      <td>0.510824</td>\n",
       "      <td>0.510075</td>\n",
       "      <td>NaN</td>\n",
       "      <td>NaN</td>\n",
       "      <td>NaN</td>\n",
       "      <td>NaN</td>\n",
       "      <td>NaN</td>\n",
       "      <td>NaN</td>\n",
       "      <td>NaN</td>\n",
       "      <td>NaN</td>\n",
       "      <td>NaN</td>\n",
       "      <td>NaN</td>\n",
       "      <td>NaN</td>\n",
       "      <td>NaN</td>\n",
       "      <td>NaN</td>\n",
       "      <td>-0.002090</td>\n",
       "      <td>0.010424</td>\n",
       "      <td>0.005749</td>\n",
       "      <td>0.006016</td>\n",
       "      <td>-0.030609</td>\n",
       "      <td>0.006249</td>\n",
       "      <td>-0.002924</td>\n",
       "      <td>0.006879</td>\n",
       "      <td>-0.000749</td>\n",
       "    </tr>\n",
       "  </tbody>\n",
       "</table>\n",
       "<p>576 rows × 49 columns</p>\n",
       "</div>"
      ],
      "text/plain": [
       "                DWE A-Strategy B-Strategy   Method      2000      2001  \\\n",
       "0         V1_berika       top3       lazy    I-cnt  0.656053  0.384878   \n",
       "1         V1_berika       top3       lazy    O-cnt  0.652678  0.366996   \n",
       "2         V1_berika       top3       lazy  cnt-ssc  0.501289  0.511892   \n",
       "3         V1_berika       top3       lazy  cnt-smx  0.500844  0.504470   \n",
       "4         V1_berika       top3       lazy    I-pwn  0.503392  0.284549   \n",
       "..              ...        ...        ...      ...       ...       ...   \n",
       "571  N1_förortsgäng        ms1     min0.2  cnt-smx       NaN       NaN   \n",
       "572  N1_förortsgäng        ms1     min0.2    I-pwn       NaN       NaN   \n",
       "573  N1_förortsgäng        ms1     min0.2    O-pwn       NaN       NaN   \n",
       "574  N1_förortsgäng        ms1     min0.2  pwn-ssc       NaN       NaN   \n",
       "575  N1_förortsgäng        ms1     min0.2  pwn-smx       NaN       NaN   \n",
       "\n",
       "         2002      2003      2004      2005      2006      2007      2008  \\\n",
       "0    0.501883  0.446897  0.392001  0.404960  0.441619  0.401224  0.419114   \n",
       "1    0.473019  0.450164  0.409096  0.414466  0.423777  0.440295  0.423203   \n",
       "2    0.514804  0.498179  0.489330  0.494200  0.510308  0.476785  0.497573   \n",
       "3    0.507216  0.499183  0.495726  0.497624  0.504460  0.490233  0.498978   \n",
       "4    0.375772  0.330203  0.275282  0.284782  0.316073  0.293903  0.320117   \n",
       "..        ...       ...       ...       ...       ...       ...       ...   \n",
       "571       NaN       NaN       NaN       NaN       NaN       NaN       NaN   \n",
       "572       NaN       NaN       NaN       NaN       NaN       NaN       NaN   \n",
       "573       NaN       NaN       NaN       NaN       NaN       NaN       NaN   \n",
       "574       NaN       NaN       NaN       NaN       NaN       NaN       NaN   \n",
       "575       NaN       NaN       NaN       NaN       NaN       NaN       NaN   \n",
       "\n",
       "         2009      2010      2011      2012      2013      2014      2015  \\\n",
       "0    0.409779  0.379007  0.423590  0.447803  0.453548  0.427369  0.467807   \n",
       "1    0.403099  0.373775  0.439437  0.419708  0.438749  0.430977  0.484939   \n",
       "2    0.504109  0.503475  0.490819  0.516193  0.508293  0.497898  0.491009   \n",
       "3    0.501670  0.501308  0.496038  0.507023  0.503700  0.499098  0.495717   \n",
       "4    0.308108  0.292027  0.323435  0.339405  0.336866  0.321024  0.357204   \n",
       "..        ...       ...       ...       ...       ...       ...       ...   \n",
       "571  0.478190       NaN       NaN       NaN  0.499314  0.500795  0.510906   \n",
       "572  0.429580       NaN       NaN       NaN  0.522426  0.557323  0.588121   \n",
       "573  0.462773       NaN       NaN       NaN  0.477902  0.521162  0.510227   \n",
       "574  0.481402       NaN       NaN       NaN  0.522255  0.516765  0.535460   \n",
       "575  0.491703       NaN       NaN       NaN  0.511129  0.509039  0.519464   \n",
       "\n",
       "         2016      2017      2018      2019      2020      2021      2022  \\\n",
       "0    0.474499  0.449172  0.416547  0.455153  0.471171  0.460360  0.467749   \n",
       "1    0.477601  0.374323  0.351868  0.484741  0.409046  0.448849  0.436945   \n",
       "2    0.498371  0.545446  0.542086  0.484260  0.535290  0.506330  0.517025   \n",
       "3    0.499224  0.518703  0.516164  0.492603  0.515526  0.502878  0.507700   \n",
       "4    0.354631  0.339705  0.328619  0.352272  0.352753  0.343334  0.360993   \n",
       "..        ...       ...       ...       ...       ...       ...       ...   \n",
       "571  0.521853  0.526636  0.489290  0.495623  0.497344  0.496752  0.493379   \n",
       "572  0.603260  0.604265  0.483953  0.547581  0.544284  0.578539  0.527293   \n",
       "573  0.502326  0.479189  0.481475  0.520104  0.528504  0.535238  0.486989   \n",
       "574  0.545647  0.557721  0.501283  0.512868  0.507355  0.519439  0.519868   \n",
       "575  0.525212  0.531228  0.500619  0.506869  0.503945  0.510824  0.510075   \n",
       "\n",
       "     2000:2001  2001:2002  2002:2003  2003:2004  2004:2005  2005:2006  \\\n",
       "0    -0.271174   0.117005  -0.054986  -0.054897   0.012959   0.036659   \n",
       "1    -0.285682   0.106023  -0.022855  -0.041068   0.005370   0.009311   \n",
       "2     0.010602   0.002912  -0.016625  -0.008849   0.004869   0.016109   \n",
       "3     0.003627   0.002745  -0.008032  -0.003457   0.001897   0.006837   \n",
       "4    -0.218844   0.091223  -0.045569  -0.054921   0.009501   0.031291   \n",
       "..         ...        ...        ...        ...        ...        ...   \n",
       "571        NaN        NaN        NaN        NaN        NaN        NaN   \n",
       "572        NaN        NaN        NaN        NaN        NaN        NaN   \n",
       "573        NaN        NaN        NaN        NaN        NaN        NaN   \n",
       "574        NaN        NaN        NaN        NaN        NaN        NaN   \n",
       "575        NaN        NaN        NaN        NaN        NaN        NaN   \n",
       "\n",
       "     2006:2007  2007:2008  2008:2009  2009:2010  2010:2011  2011:2012  \\\n",
       "0    -0.040395   0.017890  -0.009334  -0.030772   0.044584   0.024213   \n",
       "1     0.016517  -0.017092  -0.020104  -0.029324   0.065661  -0.019728   \n",
       "2    -0.033523   0.020787   0.006536  -0.000634  -0.012656   0.025373   \n",
       "3    -0.014227   0.008744   0.002692  -0.000362  -0.005269   0.010985   \n",
       "4    -0.022170   0.026214  -0.012009  -0.016081   0.031408   0.015970   \n",
       "..         ...        ...        ...        ...        ...        ...   \n",
       "571        NaN        NaN        NaN        NaN        NaN        NaN   \n",
       "572        NaN        NaN        NaN        NaN        NaN        NaN   \n",
       "573        NaN        NaN        NaN        NaN        NaN        NaN   \n",
       "574        NaN        NaN        NaN        NaN        NaN        NaN   \n",
       "575        NaN        NaN        NaN        NaN        NaN        NaN   \n",
       "\n",
       "     2012:2013  2013:2014  2014:2015  2015:2016  2016:2017  2017:2018  \\\n",
       "0     0.005745  -0.026179   0.040438   0.006692  -0.025327  -0.032624   \n",
       "1     0.019040  -0.007771   0.053962  -0.007338  -0.103278  -0.022455   \n",
       "2    -0.007900  -0.010395  -0.006889   0.007362   0.047075  -0.003359   \n",
       "3    -0.003324  -0.004602  -0.003381   0.003507   0.019479  -0.002539   \n",
       "4    -0.002539  -0.015842   0.036179  -0.002573  -0.014926  -0.011086   \n",
       "..         ...        ...        ...        ...        ...        ...   \n",
       "571        NaN   0.001481   0.010111   0.010947   0.004784  -0.037346   \n",
       "572        NaN   0.034897   0.030798   0.015139   0.001005  -0.120312   \n",
       "573        NaN   0.043260  -0.010935  -0.007902  -0.023137   0.002287   \n",
       "574        NaN  -0.005490   0.018695   0.010188   0.012074  -0.056438   \n",
       "575        NaN  -0.002090   0.010424   0.005749   0.006016  -0.030609   \n",
       "\n",
       "     2018:2019  2019:2020  2020:2021  2021:2022  \n",
       "0     0.038605   0.016018  -0.010811   0.007389  \n",
       "1     0.132873  -0.075695   0.039803  -0.011905  \n",
       "2    -0.057827   0.051030  -0.028960   0.010694  \n",
       "3    -0.023561   0.022923  -0.012649   0.004823  \n",
       "4     0.023653   0.000481  -0.009419   0.017659  \n",
       "..         ...        ...        ...        ...  \n",
       "571   0.006333   0.001721  -0.000592  -0.003373  \n",
       "572   0.063628  -0.003297   0.034255  -0.051247  \n",
       "573   0.038629   0.008400   0.006733  -0.048249  \n",
       "574   0.011584  -0.005513   0.012084   0.000429  \n",
       "575   0.006249  -0.002924   0.006879  -0.000749  \n",
       "\n",
       "[576 rows x 49 columns]"
      ]
     },
     "execution_count": 36,
     "metadata": {},
     "output_type": "execute_result"
    }
   ],
   "source": [
    "fb_sgns_iod_nlpl"
   ]
  },
  {
   "cell_type": "markdown",
   "metadata": {},
   "source": [
    "## Regression"
   ]
  },
  {
   "cell_type": "code",
   "execution_count": null,
   "metadata": {},
   "outputs": [],
   "source": [
    "sgns_iod"
   ]
  },
  {
   "cell_type": "code",
   "execution_count": null,
   "metadata": {},
   "outputs": [],
   "source": [
    "sgns_lsc.columns"
   ]
  },
  {
   "cell_type": "code",
   "execution_count": 37,
   "metadata": {},
   "outputs": [],
   "source": [
    "def data2data(\n",
    "    iod_data, \n",
    "    lsc_data, \n",
    "    dwes, \n",
    "    AB_strat, \n",
    "    years, \n",
    "    methods, \n",
    "    baseline=\"first\", \n",
    "    add_log_fpm=True, \n",
    "    add_freq_dif=True\n",
    "):\n",
    "    \n",
    "    df = iod_data.copy()\n",
    "    \n",
    "    df = df[df[\"DWE\"].isin(dwes)]\n",
    "\n",
    "    assert type(AB_strat) == dict\n",
    "        \n",
    "    for var, val in AB_strat.items():\n",
    "        df = df[df[var]==val]\n",
    "    \n",
    "    df.drop(AB_strat.keys(), axis=1, inplace=True)\n",
    "    \n",
    "    transitions = [(year, str(int(year)+1)) for year in years[:-1]]\n",
    "    \n",
    "    lscs = [\"fpm\", \"gch\", \"rch\"]\n",
    "    if add_freq_dif:\n",
    "        lscs = lscs + [\"fdf\", \"adf\", \"fpc\", \"apc\"]\n",
    "        lsc_data = lsc_data.copy()\n",
    "        for yi, yj in transitions:\n",
    "            lsc_data[f\"fdf_{yi}:{yj}\"] = lsc_data[f\"fpm_{yj}\"] - lsc_data[f\"fpm_{yi}\"] \n",
    "        for yi, yj in transitions:\n",
    "            lsc_data[f\"adf_{yi}:{yj}\"] = abs(lsc_data[f\"fpm_{yj}\"] - lsc_data[f\"fpm_{yi}\"]) \n",
    "        for yi, yj in transitions:\n",
    "            lsc_data[f\"fpc_{yi}:{yj}\"] = (lsc_data[f\"fpm_{yj}\"] - lsc_data[f\"fpm_{yi}\"]) / lsc_data[f\"fpm_{yi}\"]\n",
    "        for yi, yj in transitions:\n",
    "            lsc_data[f\"apc_{yi}:{yj}\"] = abs((lsc_data[f\"fpm_{yj}\"] - lsc_data[f\"fpm_{yi}\"]) / lsc_data[f\"fpm_{yi}\"])\n",
    "        \n",
    "    \n",
    "#     transitions = [f\"{year[2:]}:{str(int(year)+1)[2:]}\" for year in years[:-1]]\n",
    "    transitions = [f\"{yi}:{yj}\" for yi, yj in transitions]\n",
    "\n",
    "    \n",
    "    if baseline == \"first\":\n",
    "        years = years[:-1]\n",
    "    if baseline == \"second\":\n",
    "        years = years[1:]\n",
    "        \n",
    "#     return [dw for lst in [[dw]*len(years) for dw in [df[df[\"Method\"]==\"I-cnt\"][\"DWE\"]]] for dw in lst]\n",
    "\n",
    "#     return df[df[\"Method\"]==\"I-cnt\"][[\"DWE\"]+years].set_index(\"DWE\").sort_index()\n",
    "\n",
    "    new_df = []\n",
    "    dw_yrs = []\n",
    "    for method in methods:\n",
    "        s    = df[df[\"Method\"]==method][[\"DWE\"]+years].set_index(\"DWE\").sort_index()\n",
    "        idx  = [dw for lst in [[dw]*len(years) for dw in s.index] for dw in lst]\n",
    "        yrs  = years*len(s.index)\n",
    "        dw_yrs.append(pd.Series([f\"{dw}_{y}\" for dw, y in zip(idx, yrs)], name=method))\n",
    "        new_df.append(pd.Series(s.to_numpy().flatten(), name=method))\n",
    "        \n",
    "    for method in methods: \n",
    "        s   = df[df[\"Method\"]==method][[\"DWE\"]+transitions].set_index(\"DWE\").sort_index()\n",
    "        idx = [dw for lst in [[dw]*len(transitions) for dw in s.index] for dw in lst]\n",
    "        trs  = transitions*len(s.index)\n",
    "        dw_yrs.append(pd.Series([f\"{dw}_{y}\" for dw, y in zip(idx, trs)], name=method+\"_dif\"))\n",
    "        new_df.append(pd.Series(s.to_numpy().flatten(), name=method+\"_dif\"))\n",
    "    \n",
    "    for lsc_measure in lscs:\n",
    "        if lsc_measure == \"fpm\":\n",
    "            variables = [col for col in lsc_data.columns if col.startswith(\"fpm\") and col.split(\"_\")[-1] in years]\n",
    "            s = lsc_data.loc[dwes][variables].sort_index()\n",
    "            idx  = [dw for lst in [[dw]*len(years) for dw in s.index] for dw in lst]\n",
    "            yrs  = years*len(s.index)\n",
    "            dw_yrs.append(pd.Series([f\"{dw}_{y}\" for dw, y in zip(idx, yrs)], name=lsc_measure))\n",
    "            new_df.append(pd.Series(s.to_numpy().flatten(), name=lsc_measure))\n",
    "            if add_log_fpm:\n",
    "                new_df.append(pd.Series(np.log10(s.to_numpy().flatten()), name=lsc_measure+\"_log\"))\n",
    "            \n",
    "        else:\n",
    "            variables = [col for col in lsc_data.columns if col.startswith(lsc_measure)]\n",
    "            s = lsc_data.loc[dwes][variables].sort_index()\n",
    "            idx = [dw for lst in [[dw]*len(transitions) for dw in s.index] for dw in lst]\n",
    "            trs  = trs*len(s.index)\n",
    "            dw_yrs.append(pd.Series([f\"{dw}_{y}\" for dw, y in zip(idx, trs)], name=lsc_measure))\n",
    "            new_df.append(pd.Series(s.to_numpy().flatten(), name=lsc_measure))\n",
    "    \n",
    "    check = pd.concat(dw_yrs, axis=1)\n",
    "    \n",
    "    if False in (check[methods].eq(check[\"fpm\"], axis=0)).all(axis=1):\n",
    "        print(\"No match\")\n",
    "    \n",
    "    if False in (check[[col for col in check.columns if col.endswith(\"dif\")]].eq(check[[\"gch\",\"rch\"]], axis=0)).all(axis=1):\n",
    "        print(\"No match\")\n",
    "        \n",
    "    data = pd.concat(new_df+[check[\"fpm\"].rename(\"DW-YR\")], axis=1)\n",
    "    \n",
    "    return data\n"
   ]
  },
  {
   "cell_type": "code",
   "execution_count": 38,
   "metadata": {},
   "outputs": [],
   "source": [
    "def OLS(data, DEP, INDEP, transform_dep=False, dep_transformer=None): \n",
    "    \n",
    "    df = data[[DEP]+INDEP].copy()\n",
    "    df = df.dropna(axis=0)\n",
    "    \n",
    "    X = df[INDEP]\n",
    "    y = df[DEP]\n",
    "    \n",
    "    if transform_dep: \n",
    "        if dep_transformer == None:\n",
    "            y = np.log10(y)\n",
    "        elif dep_transformer == \"rank\":\n",
    "            y = rankdata(y)\n",
    "        else:\n",
    "            y = y.values.reshape(-1,1)\n",
    "            if dep_transformer == \"box-cox\":\n",
    "                transformer = PowerTransformer(method='box-cox')\n",
    "                y = transformer.fit_transform(y)\n",
    "                #y = power_transform(y, method='box-cox')\n",
    "                print(\"Lambda = \", transformer.lambdas_[0])\n",
    "            elif dep_transformer == \"yeo-johnson\":\n",
    "                y = power_transform(y, method='yeo-johnson')\n",
    "            else:\n",
    "                transformer = dep_transformer\n",
    "                y = transformer.fit_transform(y)\n",
    "\n",
    "    X = sm.add_constant(X)\n",
    "\n",
    "    model = sm.OLS(y, X, missing=\"drop\").fit()\n",
    "\n",
    "    return model"
   ]
  },
  {
   "cell_type": "code",
   "execution_count": 39,
   "metadata": {},
   "outputs": [],
   "source": [
    "def sigmoid(x):\n",
    "    s = 1.0 / (1.0 + np.exp(-x))\n",
    "    return s"
   ]
  },
  {
   "cell_type": "markdown",
   "metadata": {},
   "source": [
    "### SGNS"
   ]
  },
  {
   "cell_type": "code",
   "execution_count": 57,
   "metadata": {},
   "outputs": [
    {
     "data": {
      "text/html": [
       "<table class=\"simpletable\">\n",
       "<caption>OLS Regression Results</caption>\n",
       "<tr>\n",
       "  <th>Dep. Variable:</th>           <td>gch</td>       <th>  R-squared:         </th> <td>   0.041</td>\n",
       "</tr>\n",
       "<tr>\n",
       "  <th>Model:</th>                   <td>OLS</td>       <th>  Adj. R-squared:    </th> <td>  -0.010</td>\n",
       "</tr>\n",
       "<tr>\n",
       "  <th>Method:</th>             <td>Least Squares</td>  <th>  F-statistic:       </th> <td>  0.8064</td>\n",
       "</tr>\n",
       "<tr>\n",
       "  <th>Date:</th>             <td>Wed, 06 Mar 2024</td> <th>  Prob (F-statistic):</th>  <td> 0.496</td> \n",
       "</tr>\n",
       "<tr>\n",
       "  <th>Time:</th>                 <td>13:45:42</td>     <th>  Log-Likelihood:    </th> <td>  48.507</td>\n",
       "</tr>\n",
       "<tr>\n",
       "  <th>No. Observations:</th>      <td>    60</td>      <th>  AIC:               </th> <td>  -89.01</td>\n",
       "</tr>\n",
       "<tr>\n",
       "  <th>Df Residuals:</th>          <td>    56</td>      <th>  BIC:               </th> <td>  -80.64</td>\n",
       "</tr>\n",
       "<tr>\n",
       "  <th>Df Model:</th>              <td>     3</td>      <th>                     </th>     <td> </td>   \n",
       "</tr>\n",
       "<tr>\n",
       "  <th>Covariance Type:</th>      <td>nonrobust</td>    <th>                     </th>     <td> </td>   \n",
       "</tr>\n",
       "</table>\n",
       "<table class=\"simpletable\">\n",
       "<tr>\n",
       "       <td></td>          <th>coef</th>     <th>std err</th>      <th>t</th>      <th>P>|t|</th>  <th>[0.025</th>    <th>0.975]</th>  \n",
       "</tr>\n",
       "<tr>\n",
       "  <th>const</th>       <td>   -0.7907</td> <td>    0.029</td> <td>  -27.572</td> <td> 0.000</td> <td>   -0.848</td> <td>   -0.733</td>\n",
       "</tr>\n",
       "<tr>\n",
       "  <th>cnt-ssc_dif</th> <td>    0.8653</td> <td>    0.769</td> <td>    1.125</td> <td> 0.265</td> <td>   -0.675</td> <td>    2.406</td>\n",
       "</tr>\n",
       "<tr>\n",
       "  <th>fdf</th>         <td>    0.0007</td> <td>    0.001</td> <td>    0.661</td> <td> 0.511</td> <td>   -0.001</td> <td>    0.003</td>\n",
       "</tr>\n",
       "<tr>\n",
       "  <th>fpm</th>         <td>    0.0002</td> <td>    0.001</td> <td>    0.411</td> <td> 0.683</td> <td>   -0.001</td> <td>    0.001</td>\n",
       "</tr>\n",
       "</table>\n",
       "<table class=\"simpletable\">\n",
       "<tr>\n",
       "  <th>Omnibus:</th>       <td>32.936</td> <th>  Durbin-Watson:     </th> <td>   1.532</td>\n",
       "</tr>\n",
       "<tr>\n",
       "  <th>Prob(Omnibus):</th> <td> 0.000</td> <th>  Jarque-Bera (JB):  </th> <td>  93.163</td>\n",
       "</tr>\n",
       "<tr>\n",
       "  <th>Skew:</th>          <td>-1.575</td> <th>  Prob(JB):          </th> <td>5.89e-21</td>\n",
       "</tr>\n",
       "<tr>\n",
       "  <th>Kurtosis:</th>      <td> 8.228</td> <th>  Cond. No.          </th> <td>2.03e+03</td>\n",
       "</tr>\n",
       "</table><br/><br/>Notes:<br/>[1] Standard Errors assume that the covariance matrix of the errors is correctly specified.<br/>[2] The condition number is large, 2.03e+03. This might indicate that there are<br/>strong multicollinearity or other numerical problems."
      ],
      "text/latex": [
       "\\begin{center}\n",
       "\\begin{tabular}{lclc}\n",
       "\\toprule\n",
       "\\textbf{Dep. Variable:}    &       gch        & \\textbf{  R-squared:         } &     0.041   \\\\\n",
       "\\textbf{Model:}            &       OLS        & \\textbf{  Adj. R-squared:    } &    -0.010   \\\\\n",
       "\\textbf{Method:}           &  Least Squares   & \\textbf{  F-statistic:       } &    0.8064   \\\\\n",
       "\\textbf{Date:}             & Wed, 06 Mar 2024 & \\textbf{  Prob (F-statistic):} &    0.496    \\\\\n",
       "\\textbf{Time:}             &     13:45:42     & \\textbf{  Log-Likelihood:    } &    48.507   \\\\\n",
       "\\textbf{No. Observations:} &          60      & \\textbf{  AIC:               } &    -89.01   \\\\\n",
       "\\textbf{Df Residuals:}     &          56      & \\textbf{  BIC:               } &    -80.64   \\\\\n",
       "\\textbf{Df Model:}         &           3      & \\textbf{                     } &             \\\\\n",
       "\\textbf{Covariance Type:}  &    nonrobust     & \\textbf{                     } &             \\\\\n",
       "\\bottomrule\n",
       "\\end{tabular}\n",
       "\\begin{tabular}{lcccccc}\n",
       "                      & \\textbf{coef} & \\textbf{std err} & \\textbf{t} & \\textbf{P$> |$t$|$} & \\textbf{[0.025} & \\textbf{0.975]}  \\\\\n",
       "\\midrule\n",
       "\\textbf{const}        &      -0.7907  &        0.029     &   -27.572  &         0.000        &       -0.848    &       -0.733     \\\\\n",
       "\\textbf{cnt-ssc\\_dif} &       0.8653  &        0.769     &     1.125  &         0.265        &       -0.675    &        2.406     \\\\\n",
       "\\textbf{fdf}          &       0.0007  &        0.001     &     0.661  &         0.511        &       -0.001    &        0.003     \\\\\n",
       "\\textbf{fpm}          &       0.0002  &        0.001     &     0.411  &         0.683        &       -0.001    &        0.001     \\\\\n",
       "\\bottomrule\n",
       "\\end{tabular}\n",
       "\\begin{tabular}{lclc}\n",
       "\\textbf{Omnibus:}       & 32.936 & \\textbf{  Durbin-Watson:     } &    1.532  \\\\\n",
       "\\textbf{Prob(Omnibus):} &  0.000 & \\textbf{  Jarque-Bera (JB):  } &   93.163  \\\\\n",
       "\\textbf{Skew:}          & -1.575 & \\textbf{  Prob(JB):          } & 5.89e-21  \\\\\n",
       "\\textbf{Kurtosis:}      &  8.228 & \\textbf{  Cond. No.          } & 2.03e+03  \\\\\n",
       "\\bottomrule\n",
       "\\end{tabular}\n",
       "%\\caption{OLS Regression Results}\n",
       "\\end{center}\n",
       "\n",
       "Notes: \\newline\n",
       " [1] Standard Errors assume that the covariance matrix of the errors is correctly specified. \\newline\n",
       " [2] The condition number is large, 2.03e+03. This might indicate that there are \\newline\n",
       " strong multicollinearity or other numerical problems."
      ],
      "text/plain": [
       "<class 'statsmodels.iolib.summary.Summary'>\n",
       "\"\"\"\n",
       "                            OLS Regression Results                            \n",
       "==============================================================================\n",
       "Dep. Variable:                    gch   R-squared:                       0.041\n",
       "Model:                            OLS   Adj. R-squared:                 -0.010\n",
       "Method:                 Least Squares   F-statistic:                    0.8064\n",
       "Date:                Wed, 06 Mar 2024   Prob (F-statistic):              0.496\n",
       "Time:                        13:45:42   Log-Likelihood:                 48.507\n",
       "No. Observations:                  60   AIC:                            -89.01\n",
       "Df Residuals:                      56   BIC:                            -80.64\n",
       "Df Model:                           3                                         \n",
       "Covariance Type:            nonrobust                                         \n",
       "===============================================================================\n",
       "                  coef    std err          t      P>|t|      [0.025      0.975]\n",
       "-------------------------------------------------------------------------------\n",
       "const          -0.7907      0.029    -27.572      0.000      -0.848      -0.733\n",
       "cnt-ssc_dif     0.8653      0.769      1.125      0.265      -0.675       2.406\n",
       "fdf             0.0007      0.001      0.661      0.511      -0.001       0.003\n",
       "fpm             0.0002      0.001      0.411      0.683      -0.001       0.001\n",
       "==============================================================================\n",
       "Omnibus:                       32.936   Durbin-Watson:                   1.532\n",
       "Prob(Omnibus):                  0.000   Jarque-Bera (JB):               93.163\n",
       "Skew:                          -1.575   Prob(JB):                     5.89e-21\n",
       "Kurtosis:                       8.228   Cond. No.                     2.03e+03\n",
       "==============================================================================\n",
       "\n",
       "Notes:\n",
       "[1] Standard Errors assume that the covariance matrix of the errors is correctly specified.\n",
       "[2] The condition number is large, 2.03e+03. This might indicate that there are\n",
       "strong multicollinearity or other numerical problems.\n",
       "\"\"\""
      ]
     },
     "execution_count": 57,
     "metadata": {},
     "output_type": "execute_result"
    }
   ],
   "source": [
    "data = data2data(\n",
    "    iod_data = sgns_iod, \n",
    "    lsc_data = sgns_lsc, \n",
    "#    dwes     = sgns_lsc.index, \n",
    "    dwes     = ['V1_berika', 'N1_globalist', 'N1_återvandring', 'N1_förortsgäng'],\n",
    "    AB_strat = {\"A-Strategy\":\"ms1\", \"B-Strategy\":\"min0.2\"}, \n",
    "    years    = years,\n",
    "    methods  = [\"I-cnt\", \"O-cnt\", \"cnt-ssc\", \"cnt-smx\"],\n",
    "    baseline = \"first\"\n",
    ")\n",
    "\n",
    "iod_var = \"cnt-ssc_dif\"\n",
    "indep = [\n",
    "    iod_var, \n",
    "    \"fdf\", \n",
    "    #\"fpm_rnk\",\n",
    "    #\"fpm_log\",\n",
    "    \"fpm\"\n",
    "]\n",
    "dep=\"gch\"\n",
    "\n",
    "data = data[indep+[dep]]\n",
    "data = data.dropna()\n",
    "data[iod_var] = abs(data[iod_var]) \n",
    "\n",
    "trim=False\n",
    "if trim:\n",
    "    Q=0.75\n",
    "    for v in indep+[dep]:\n",
    "        q75 = data[v].quantile(q=Q)\n",
    "        data[v] = data[v].apply(lambda x: x if x<q75 else q75)\n",
    "\n",
    "#data[\"fpm_rnk\"] = rankdata(data[\"fpm\"], nan_policy=\"omit\")\n",
    "\n",
    "res_sgns = OLS(data, \"gch\", indep, transform_dep=True)#, dep_transformer=\"box-cox\" )\n",
    "res_sgns.summary()\n",
    "# res"
   ]
  },
  {
   "cell_type": "markdown",
   "metadata": {},
   "source": [
    "#### ... now with NLPL-init vectors!"
   ]
  },
  {
   "cell_type": "code",
   "execution_count": 75,
   "metadata": {},
   "outputs": [
    {
     "data": {
      "text/html": [
       "<table class=\"simpletable\">\n",
       "<caption>OLS Regression Results</caption>\n",
       "<tr>\n",
       "  <th>Dep. Variable:</th>           <td>gch</td>       <th>  R-squared:         </th> <td>   0.083</td>\n",
       "</tr>\n",
       "<tr>\n",
       "  <th>Model:</th>                   <td>OLS</td>       <th>  Adj. R-squared:    </th> <td>   0.037</td>\n",
       "</tr>\n",
       "<tr>\n",
       "  <th>Method:</th>             <td>Least Squares</td>  <th>  F-statistic:       </th> <td>   1.817</td>\n",
       "</tr>\n",
       "<tr>\n",
       "  <th>Date:</th>             <td>Wed, 06 Mar 2024</td> <th>  Prob (F-statistic):</th>  <td> 0.154</td> \n",
       "</tr>\n",
       "<tr>\n",
       "  <th>Time:</th>                 <td>13:58:29</td>     <th>  Log-Likelihood:    </th> <td>  51.028</td>\n",
       "</tr>\n",
       "<tr>\n",
       "  <th>No. Observations:</th>      <td>    64</td>      <th>  AIC:               </th> <td>  -94.06</td>\n",
       "</tr>\n",
       "<tr>\n",
       "  <th>Df Residuals:</th>          <td>    60</td>      <th>  BIC:               </th> <td>  -85.42</td>\n",
       "</tr>\n",
       "<tr>\n",
       "  <th>Df Model:</th>              <td>     3</td>      <th>                     </th>     <td> </td>   \n",
       "</tr>\n",
       "<tr>\n",
       "  <th>Covariance Type:</th>      <td>nonrobust</td>    <th>                     </th>     <td> </td>   \n",
       "</tr>\n",
       "</table>\n",
       "<table class=\"simpletable\">\n",
       "<tr>\n",
       "       <td></td>          <th>coef</th>     <th>std err</th>      <th>t</th>      <th>P>|t|</th>  <th>[0.025</th>    <th>0.975]</th>  \n",
       "</tr>\n",
       "<tr>\n",
       "  <th>const</th>       <td>   -0.8264</td> <td>    0.027</td> <td>  -30.474</td> <td> 0.000</td> <td>   -0.881</td> <td>   -0.772</td>\n",
       "</tr>\n",
       "<tr>\n",
       "  <th>cnt-ssc_dif</th> <td>    1.5864</td> <td>    0.731</td> <td>    2.170</td> <td> 0.034</td> <td>    0.124</td> <td>    3.049</td>\n",
       "</tr>\n",
       "<tr>\n",
       "  <th>adf</th>         <td>    0.0008</td> <td>    0.001</td> <td>    0.723</td> <td> 0.472</td> <td>   -0.001</td> <td>    0.003</td>\n",
       "</tr>\n",
       "<tr>\n",
       "  <th>fpm_log</th>     <td>   -0.0209</td> <td>    0.021</td> <td>   -1.002</td> <td> 0.320</td> <td>   -0.063</td> <td>    0.021</td>\n",
       "</tr>\n",
       "</table>\n",
       "<table class=\"simpletable\">\n",
       "<tr>\n",
       "  <th>Omnibus:</th>       <td> 2.834</td> <th>  Durbin-Watson:     </th> <td>   1.388</td>\n",
       "</tr>\n",
       "<tr>\n",
       "  <th>Prob(Omnibus):</th> <td> 0.242</td> <th>  Jarque-Bera (JB):  </th> <td>   2.211</td>\n",
       "</tr>\n",
       "<tr>\n",
       "  <th>Skew:</th>          <td> 0.190</td> <th>  Prob(JB):          </th> <td>   0.331</td>\n",
       "</tr>\n",
       "<tr>\n",
       "  <th>Kurtosis:</th>      <td> 3.827</td> <th>  Cond. No.          </th> <td>    768.</td>\n",
       "</tr>\n",
       "</table><br/><br/>Notes:<br/>[1] Standard Errors assume that the covariance matrix of the errors is correctly specified."
      ],
      "text/latex": [
       "\\begin{center}\n",
       "\\begin{tabular}{lclc}\n",
       "\\toprule\n",
       "\\textbf{Dep. Variable:}    &       gch        & \\textbf{  R-squared:         } &     0.083   \\\\\n",
       "\\textbf{Model:}            &       OLS        & \\textbf{  Adj. R-squared:    } &     0.037   \\\\\n",
       "\\textbf{Method:}           &  Least Squares   & \\textbf{  F-statistic:       } &     1.817   \\\\\n",
       "\\textbf{Date:}             & Wed, 06 Mar 2024 & \\textbf{  Prob (F-statistic):} &    0.154    \\\\\n",
       "\\textbf{Time:}             &     13:58:29     & \\textbf{  Log-Likelihood:    } &    51.028   \\\\\n",
       "\\textbf{No. Observations:} &          64      & \\textbf{  AIC:               } &    -94.06   \\\\\n",
       "\\textbf{Df Residuals:}     &          60      & \\textbf{  BIC:               } &    -85.42   \\\\\n",
       "\\textbf{Df Model:}         &           3      & \\textbf{                     } &             \\\\\n",
       "\\textbf{Covariance Type:}  &    nonrobust     & \\textbf{                     } &             \\\\\n",
       "\\bottomrule\n",
       "\\end{tabular}\n",
       "\\begin{tabular}{lcccccc}\n",
       "                      & \\textbf{coef} & \\textbf{std err} & \\textbf{t} & \\textbf{P$> |$t$|$} & \\textbf{[0.025} & \\textbf{0.975]}  \\\\\n",
       "\\midrule\n",
       "\\textbf{const}        &      -0.8264  &        0.027     &   -30.474  &         0.000        &       -0.881    &       -0.772     \\\\\n",
       "\\textbf{cnt-ssc\\_dif} &       1.5864  &        0.731     &     2.170  &         0.034        &        0.124    &        3.049     \\\\\n",
       "\\textbf{adf}          &       0.0008  &        0.001     &     0.723  &         0.472        &       -0.001    &        0.003     \\\\\n",
       "\\textbf{fpm\\_log}     &      -0.0209  &        0.021     &    -1.002  &         0.320        &       -0.063    &        0.021     \\\\\n",
       "\\bottomrule\n",
       "\\end{tabular}\n",
       "\\begin{tabular}{lclc}\n",
       "\\textbf{Omnibus:}       &  2.834 & \\textbf{  Durbin-Watson:     } &    1.388  \\\\\n",
       "\\textbf{Prob(Omnibus):} &  0.242 & \\textbf{  Jarque-Bera (JB):  } &    2.211  \\\\\n",
       "\\textbf{Skew:}          &  0.190 & \\textbf{  Prob(JB):          } &    0.331  \\\\\n",
       "\\textbf{Kurtosis:}      &  3.827 & \\textbf{  Cond. No.          } &     768.  \\\\\n",
       "\\bottomrule\n",
       "\\end{tabular}\n",
       "%\\caption{OLS Regression Results}\n",
       "\\end{center}\n",
       "\n",
       "Notes: \\newline\n",
       " [1] Standard Errors assume that the covariance matrix of the errors is correctly specified."
      ],
      "text/plain": [
       "<class 'statsmodels.iolib.summary.Summary'>\n",
       "\"\"\"\n",
       "                            OLS Regression Results                            \n",
       "==============================================================================\n",
       "Dep. Variable:                    gch   R-squared:                       0.083\n",
       "Model:                            OLS   Adj. R-squared:                  0.037\n",
       "Method:                 Least Squares   F-statistic:                     1.817\n",
       "Date:                Wed, 06 Mar 2024   Prob (F-statistic):              0.154\n",
       "Time:                        13:58:29   Log-Likelihood:                 51.028\n",
       "No. Observations:                  64   AIC:                            -94.06\n",
       "Df Residuals:                      60   BIC:                            -85.42\n",
       "Df Model:                           3                                         \n",
       "Covariance Type:            nonrobust                                         \n",
       "===============================================================================\n",
       "                  coef    std err          t      P>|t|      [0.025      0.975]\n",
       "-------------------------------------------------------------------------------\n",
       "const          -0.8264      0.027    -30.474      0.000      -0.881      -0.772\n",
       "cnt-ssc_dif     1.5864      0.731      2.170      0.034       0.124       3.049\n",
       "adf             0.0008      0.001      0.723      0.472      -0.001       0.003\n",
       "fpm_log        -0.0209      0.021     -1.002      0.320      -0.063       0.021\n",
       "==============================================================================\n",
       "Omnibus:                        2.834   Durbin-Watson:                   1.388\n",
       "Prob(Omnibus):                  0.242   Jarque-Bera (JB):                2.211\n",
       "Skew:                           0.190   Prob(JB):                        0.331\n",
       "Kurtosis:                       3.827   Cond. No.                         768.\n",
       "==============================================================================\n",
       "\n",
       "Notes:\n",
       "[1] Standard Errors assume that the covariance matrix of the errors is correctly specified.\n",
       "\"\"\""
      ]
     },
     "execution_count": 75,
     "metadata": {},
     "output_type": "execute_result"
    }
   ],
   "source": [
    "#sgns_lsc_nlpl\n",
    "#fb_sgns_iod_nlpl\n",
    "data = data2data(\n",
    "    iod_data = fb_sgns_iod_nlpl, \n",
    "    lsc_data = sgns_lsc_nlpl, \n",
    "#    dwes     = sgns_lsc.index, \n",
    "    dwes     = ['V1_berika', 'N1_globalist', 'N1_återvandring', 'N1_förortsgäng'],\n",
    "    AB_strat = {\"A-Strategy\":\"ms1\", \"B-Strategy\":\"min0.2\"}, \n",
    "    years    = years,\n",
    "    methods  = [\"I-cnt\", \"O-cnt\", \"cnt-ssc\", \"cnt-smx\"],\n",
    "    baseline = \"first\"\n",
    ")\n",
    "\n",
    "iod_var = \"cnt-ssc_dif\"\n",
    "indep = [\n",
    "    iod_var, \n",
    "    \"adf\", \n",
    "    #\"fpm_rnk\",\n",
    "    \"fpm_log\",\n",
    "#     \"fpm\"\n",
    "]\n",
    "dep=\"gch\"\n",
    "\n",
    "data = data[indep+[dep]]\n",
    "data = data.dropna()\n",
    "data[iod_var] = abs(data[iod_var]) \n",
    "\n",
    "trim=False\n",
    "if trim:\n",
    "    Q=0.75\n",
    "    for v in indep+[dep]:\n",
    "        q75 = data[v].quantile(q=Q)\n",
    "        data[v] = data[v].apply(lambda x: x if x<q75 else q75)\n",
    "\n",
    "#data[\"fpm_rnk\"] = rankdata(data[\"fpm\"], nan_policy=\"omit\")\n",
    "\n",
    "res_sgns = OLS(data, \"gch\", indep, transform_dep=True)#, dep_transformer=\"box-cox\" )\n",
    "res_sgns.summary()"
   ]
  },
  {
   "cell_type": "code",
   "execution_count": 76,
   "metadata": {},
   "outputs": [
    {
     "data": {
      "text/plain": [
       "<Axes: ylabel='Count'>"
      ]
     },
     "execution_count": 76,
     "metadata": {},
     "output_type": "execute_result"
    },
    {
     "data": {
      "image/png": "[encoded data removed]",
      "text/plain": [
       "<Figure size 432x288 with 1 Axes>"
      ]
     },
     "metadata": {
      "needs_background": "light"
     },
     "output_type": "display_data"
    }
   ],
   "source": [
    "sns.histplot(res_sgns.resid, kde=True)"
   ]
  },
  {
   "cell_type": "code",
   "execution_count": null,
   "metadata": {},
   "outputs": [],
   "source": []
  },
  {
   "cell_type": "code",
   "execution_count": null,
   "metadata": {},
   "outputs": [],
   "source": [
    "Stargazer([res_sgns])"
   ]
  },
  {
   "cell_type": "markdown",
   "metadata": {},
   "source": [
    "### BERT"
   ]
  },
  {
   "cell_type": "code",
   "execution_count": 81,
   "metadata": {
    "scrolled": false
   },
   "outputs": [
    {
     "data": {
      "text/html": [
       "<table class=\"simpletable\">\n",
       "<caption>OLS Regression Results</caption>\n",
       "<tr>\n",
       "  <th>Dep. Variable:</th>           <td>gch</td>       <th>  R-squared:         </th> <td>   0.684</td>\n",
       "</tr>\n",
       "<tr>\n",
       "  <th>Model:</th>                   <td>OLS</td>       <th>  Adj. R-squared:    </th> <td>   0.668</td>\n",
       "</tr>\n",
       "<tr>\n",
       "  <th>Method:</th>             <td>Least Squares</td>  <th>  F-statistic:       </th> <td>   43.26</td>\n",
       "</tr>\n",
       "<tr>\n",
       "  <th>Date:</th>             <td>Wed, 06 Mar 2024</td> <th>  Prob (F-statistic):</th> <td>5.19e-15</td>\n",
       "</tr>\n",
       "<tr>\n",
       "  <th>Time:</th>                 <td>13:59:57</td>     <th>  Log-Likelihood:    </th> <td>  21.864</td>\n",
       "</tr>\n",
       "<tr>\n",
       "  <th>No. Observations:</th>      <td>    64</td>      <th>  AIC:               </th> <td>  -35.73</td>\n",
       "</tr>\n",
       "<tr>\n",
       "  <th>Df Residuals:</th>          <td>    60</td>      <th>  BIC:               </th> <td>  -27.09</td>\n",
       "</tr>\n",
       "<tr>\n",
       "  <th>Df Model:</th>              <td>     3</td>      <th>                     </th>     <td> </td>   \n",
       "</tr>\n",
       "<tr>\n",
       "  <th>Covariance Type:</th>      <td>nonrobust</td>    <th>                     </th>     <td> </td>   \n",
       "</tr>\n",
       "</table>\n",
       "<table class=\"simpletable\">\n",
       "<tr>\n",
       "       <td></td>          <th>coef</th>     <th>std err</th>      <th>t</th>      <th>P>|t|</th>  <th>[0.025</th>    <th>0.975]</th>  \n",
       "</tr>\n",
       "<tr>\n",
       "  <th>const</th>       <td>   -1.3886</td> <td>    0.043</td> <td>  -32.571</td> <td> 0.000</td> <td>   -1.474</td> <td>   -1.303</td>\n",
       "</tr>\n",
       "<tr>\n",
       "  <th>fdf</th>         <td>   -0.0018</td> <td>    0.002</td> <td>   -0.843</td> <td> 0.402</td> <td>   -0.006</td> <td>    0.002</td>\n",
       "</tr>\n",
       "<tr>\n",
       "  <th>fpm</th>         <td>   -0.0051</td> <td>    0.001</td> <td>   -4.928</td> <td> 0.000</td> <td>   -0.007</td> <td>   -0.003</td>\n",
       "</tr>\n",
       "<tr>\n",
       "  <th>cnt-ssc_dif</th> <td>   20.6508</td> <td>    2.441</td> <td>    8.459</td> <td> 0.000</td> <td>   15.768</td> <td>   25.534</td>\n",
       "</tr>\n",
       "</table>\n",
       "<table class=\"simpletable\">\n",
       "<tr>\n",
       "  <th>Omnibus:</th>       <td> 2.658</td> <th>  Durbin-Watson:     </th> <td>   0.936</td>\n",
       "</tr>\n",
       "<tr>\n",
       "  <th>Prob(Omnibus):</th> <td> 0.265</td> <th>  Jarque-Bera (JB):  </th> <td>   2.310</td>\n",
       "</tr>\n",
       "<tr>\n",
       "  <th>Skew:</th>          <td> 0.465</td> <th>  Prob(JB):          </th> <td>   0.315</td>\n",
       "</tr>\n",
       "<tr>\n",
       "  <th>Kurtosis:</th>      <td> 2.957</td> <th>  Cond. No.          </th> <td>3.37e+03</td>\n",
       "</tr>\n",
       "</table><br/><br/>Notes:<br/>[1] Standard Errors assume that the covariance matrix of the errors is correctly specified.<br/>[2] The condition number is large, 3.37e+03. This might indicate that there are<br/>strong multicollinearity or other numerical problems."
      ],
      "text/latex": [
       "\\begin{center}\n",
       "\\begin{tabular}{lclc}\n",
       "\\toprule\n",
       "\\textbf{Dep. Variable:}    &       gch        & \\textbf{  R-squared:         } &     0.684   \\\\\n",
       "\\textbf{Model:}            &       OLS        & \\textbf{  Adj. R-squared:    } &     0.668   \\\\\n",
       "\\textbf{Method:}           &  Least Squares   & \\textbf{  F-statistic:       } &     43.26   \\\\\n",
       "\\textbf{Date:}             & Wed, 06 Mar 2024 & \\textbf{  Prob (F-statistic):} &  5.19e-15   \\\\\n",
       "\\textbf{Time:}             &     13:59:57     & \\textbf{  Log-Likelihood:    } &    21.864   \\\\\n",
       "\\textbf{No. Observations:} &          64      & \\textbf{  AIC:               } &    -35.73   \\\\\n",
       "\\textbf{Df Residuals:}     &          60      & \\textbf{  BIC:               } &    -27.09   \\\\\n",
       "\\textbf{Df Model:}         &           3      & \\textbf{                     } &             \\\\\n",
       "\\textbf{Covariance Type:}  &    nonrobust     & \\textbf{                     } &             \\\\\n",
       "\\bottomrule\n",
       "\\end{tabular}\n",
       "\\begin{tabular}{lcccccc}\n",
       "                      & \\textbf{coef} & \\textbf{std err} & \\textbf{t} & \\textbf{P$> |$t$|$} & \\textbf{[0.025} & \\textbf{0.975]}  \\\\\n",
       "\\midrule\n",
       "\\textbf{const}        &      -1.3886  &        0.043     &   -32.571  &         0.000        &       -1.474    &       -1.303     \\\\\n",
       "\\textbf{fdf}          &      -0.0018  &        0.002     &    -0.843  &         0.402        &       -0.006    &        0.002     \\\\\n",
       "\\textbf{fpm}          &      -0.0051  &        0.001     &    -4.928  &         0.000        &       -0.007    &       -0.003     \\\\\n",
       "\\textbf{cnt-ssc\\_dif} &      20.6508  &        2.441     &     8.459  &         0.000        &       15.768    &       25.534     \\\\\n",
       "\\bottomrule\n",
       "\\end{tabular}\n",
       "\\begin{tabular}{lclc}\n",
       "\\textbf{Omnibus:}       &  2.658 & \\textbf{  Durbin-Watson:     } &    0.936  \\\\\n",
       "\\textbf{Prob(Omnibus):} &  0.265 & \\textbf{  Jarque-Bera (JB):  } &    2.310  \\\\\n",
       "\\textbf{Skew:}          &  0.465 & \\textbf{  Prob(JB):          } &    0.315  \\\\\n",
       "\\textbf{Kurtosis:}      &  2.957 & \\textbf{  Cond. No.          } & 3.37e+03  \\\\\n",
       "\\bottomrule\n",
       "\\end{tabular}\n",
       "%\\caption{OLS Regression Results}\n",
       "\\end{center}\n",
       "\n",
       "Notes: \\newline\n",
       " [1] Standard Errors assume that the covariance matrix of the errors is correctly specified. \\newline\n",
       " [2] The condition number is large, 3.37e+03. This might indicate that there are \\newline\n",
       " strong multicollinearity or other numerical problems."
      ],
      "text/plain": [
       "<class 'statsmodels.iolib.summary.Summary'>\n",
       "\"\"\"\n",
       "                            OLS Regression Results                            \n",
       "==============================================================================\n",
       "Dep. Variable:                    gch   R-squared:                       0.684\n",
       "Model:                            OLS   Adj. R-squared:                  0.668\n",
       "Method:                 Least Squares   F-statistic:                     43.26\n",
       "Date:                Wed, 06 Mar 2024   Prob (F-statistic):           5.19e-15\n",
       "Time:                        13:59:57   Log-Likelihood:                 21.864\n",
       "No. Observations:                  64   AIC:                            -35.73\n",
       "Df Residuals:                      60   BIC:                            -27.09\n",
       "Df Model:                           3                                         \n",
       "Covariance Type:            nonrobust                                         \n",
       "===============================================================================\n",
       "                  coef    std err          t      P>|t|      [0.025      0.975]\n",
       "-------------------------------------------------------------------------------\n",
       "const          -1.3886      0.043    -32.571      0.000      -1.474      -1.303\n",
       "fdf            -0.0018      0.002     -0.843      0.402      -0.006       0.002\n",
       "fpm            -0.0051      0.001     -4.928      0.000      -0.007      -0.003\n",
       "cnt-ssc_dif    20.6508      2.441      8.459      0.000      15.768      25.534\n",
       "==============================================================================\n",
       "Omnibus:                        2.658   Durbin-Watson:                   0.936\n",
       "Prob(Omnibus):                  0.265   Jarque-Bera (JB):                2.310\n",
       "Skew:                           0.465   Prob(JB):                        0.315\n",
       "Kurtosis:                       2.957   Cond. No.                     3.37e+03\n",
       "==============================================================================\n",
       "\n",
       "Notes:\n",
       "[1] Standard Errors assume that the covariance matrix of the errors is correctly specified.\n",
       "[2] The condition number is large, 3.37e+03. This might indicate that there are\n",
       "strong multicollinearity or other numerical problems.\n",
       "\"\"\""
      ]
     },
     "execution_count": 81,
     "metadata": {},
     "output_type": "execute_result"
    }
   ],
   "source": [
    "data = data2data(\n",
    "    iod_data = kb_iod, \n",
    "    lsc_data = kb_lsc, \n",
    "#    dwes     = sgns_lsc.index, \n",
    "    dwes     = ['V1_berika', 'N1_globalist', 'N1_återvandring', 'N1_förortsgäng'],\n",
    "    AB_strat = {\"A-Strategy\":\"ms1\"}, \n",
    "    years    = years,\n",
    "    methods  = [\"I-cnt\", \"O-cnt\", \"cnt-ssc\", \"cnt-smx\"],\n",
    "    baseline = \"first\"\n",
    ")\n",
    "\n",
    "# OBS! Less of normality problem with SSC measure!!\n",
    "# Obs! Log transform works! For SSC measure!! Not for SMX\n",
    "\n",
    "indep = [\n",
    "    #\"adf\",\n",
    "    \"fdf\",\n",
    "    #\"fpm_rnk\",\n",
    "#     \"fpm_log\",\n",
    "    \"fpm\"\n",
    "]\n",
    "iod_var = \"cnt-ssc_dif\"\n",
    "indep = indep + [iod_var]\n",
    "dep=\"gch\"\n",
    "data = data[indep+[dep]]\n",
    "data = data.dropna()\n",
    "\n",
    "data[iod_var] = abs(data[iod_var])\n",
    "#data[iod_var] = np.log(data[iod_var])\n",
    "#data[\"iod_sq\"] = data[iod_var]**2\n",
    "\n",
    "trim=False\n",
    "\n",
    "if trim:\n",
    "    # For SMX, the normality issue does not improve by trimming \"cnt-smx_dif\" in addition to \"gch\"\n",
    "    # For SSC, it does!\n",
    "    # Also, it cannot be solved by trimming \"cnt-smx_dif\" (alone)\n",
    "    # Trimming of \"gch\" upto 0.77 level (SMX; 0.81 for SSC) seems the best (trimming) option\n",
    "    \n",
    "    #wh_var=[dep, \"cnt-smx_dif\"]\n",
    "    wh_var=[dep, iod_var]\n",
    "    #wh_var=[dep]\n",
    "    #wh_var=[\"cnt-smx_dif\"]\n",
    "    \n",
    "    q_levels=[0.90, 0.90]\n",
    "    #q_levels=[0.81]\n",
    "    \n",
    "    if wh_var == \"all\":\n",
    "        VAR_TO_TRIM = indep+[dep]\n",
    "    else:\n",
    "        VAR_TO_TRIM = wh_var\n",
    "    for q_level, v in zip(q_levels, VAR_TO_TRIM):\n",
    "        Q = data[v].quantile(q=q_level)\n",
    "        print(v, q_level, round(Q, 3), \"N =\", len(data[data[v]>Q]))\n",
    "        print(\", \".join(sorted(data[data[v]>Q][v].round(3).apply(lambda x: (str(x))).tolist())))\n",
    "        #Q_low = data[v].quantile(q=(1-q_level))\n",
    "        data[v] = data[v].apply(lambda x: x if x<Q else Q)\n",
    "        #data[v] = data[v].apply(lambda x: x if x>Q_low else Q_low)\n",
    "        \n",
    "\n",
    "#data[\"fpm_rnk\"] = rankdata(data[\"fpm\"], nan_policy=\"omit\")\n",
    "\n",
    "indep = [v for v in data.columns if v != dep]\n",
    "\n",
    "res_bert = OLS(data, \"gch\", indep, transform_dep=True)#True, dep_transformer=\"box-cox\") # dep_transformer=\"box-cox\"\n",
    "res_bert.summary()\n",
    "# res"
   ]
  },
  {
   "cell_type": "code",
   "execution_count": 82,
   "metadata": {},
   "outputs": [
    {
     "data": {
      "text/plain": [
       "<Axes: ylabel='Count'>"
      ]
     },
     "execution_count": 82,
     "metadata": {},
     "output_type": "execute_result"
    },
    {
     "data": {
      "image/png": "[encoded data removed]",
      "text/plain": [
       "<Figure size 432x288 with 1 Axes>"
      ]
     },
     "metadata": {
      "needs_background": "light"
     },
     "output_type": "display_data"
    }
   ],
   "source": [
    "sns.histplot(res_bert.resid, kde=True)"
   ]
  },
  {
   "cell_type": "code",
   "execution_count": null,
   "metadata": {},
   "outputs": [],
   "source": [
    "#data[\"cnt-smx_dif\"].corr(data[\"gch\"])"
   ]
  },
  {
   "cell_type": "code",
   "execution_count": null,
   "metadata": {},
   "outputs": [],
   "source": [
    "#0.7837510127879611**2"
   ]
  },
  {
   "cell_type": "code",
   "execution_count": null,
   "metadata": {},
   "outputs": [],
   "source": [
    "#data[\"cnt-smx_dif\"].corr((data[\"gch\"])**-0.39)"
   ]
  },
  {
   "cell_type": "code",
   "execution_count": null,
   "metadata": {},
   "outputs": [],
   "source": [
    "#-0.67 * -0.67"
   ]
  },
  {
   "cell_type": "code",
   "execution_count": null,
   "metadata": {},
   "outputs": [],
   "source": [
    "sns.heatmap(data[indep].corr(), annot=True)"
   ]
  },
  {
   "cell_type": "code",
   "execution_count": null,
   "metadata": {
    "scrolled": true
   },
   "outputs": [],
   "source": [
    "fig = sm.qqplot(res_bert.resid)\n",
    "plt.show()"
   ]
  },
  {
   "cell_type": "code",
   "execution_count": null,
   "metadata": {
    "scrolled": true
   },
   "outputs": [],
   "source": [
    "sns.histplot(res_bert.resid, bins=20,kde=True,color='red')"
   ]
  },
  {
   "cell_type": "code",
   "execution_count": null,
   "metadata": {
    "scrolled": false
   },
   "outputs": [],
   "source": [
    "pg.normality(res_bert.resid, method=\"shapiro\")"
   ]
  },
  {
   "cell_type": "code",
   "execution_count": null,
   "metadata": {},
   "outputs": [],
   "source": [
    "sns.histplot(data[\"gch\"],bins=20,kde=True,color='red')"
   ]
  },
  {
   "cell_type": "code",
   "execution_count": null,
   "metadata": {},
   "outputs": [],
   "source": [
    "sns.histplot(data[\"cnt-ssc_dif\"],bins=20,kde=True,color='red')"
   ]
  },
  {
   "cell_type": "code",
   "execution_count": null,
   "metadata": {},
   "outputs": [],
   "source": [
    "#sns.histplot((data[\"gch\"])**-0.3947964,bins=20,kde=True,color='red')"
   ]
  },
  {
   "cell_type": "code",
   "execution_count": null,
   "metadata": {},
   "outputs": [],
   "source": [
    "#C = pd.concat([data[\"gch\"], ((data[\"gch\"])**-0.3947964).rename(\"bc_gch\")], axis=1); C"
   ]
  },
  {
   "cell_type": "code",
   "execution_count": null,
   "metadata": {
    "scrolled": true
   },
   "outputs": [],
   "source": [
    "#C.corr(method=\"spearman\")"
   ]
  },
  {
   "cell_type": "markdown",
   "metadata": {},
   "source": [
    "Obs!\n",
    "```\n",
    "data = data2data(\n",
    "    iod_data = kb_iod, \n",
    "    lsc_data = kb_lsc, \n",
    "#     dwes     = sgns_lsc.index, \n",
    "    dwes     = ['V1_berika', 'N1_globalist', 'N1_återvandring', 'N1_förortsgäng'],\n",
    "    AB_strat = {\"A-Strategy\":\"ms1\"}, \n",
    "    years    = years,\n",
    "    methods  = [\"I-cnt\", \"O-cnt\", \"cnt-ssc\", \"cnt-smx\"],\n",
    "    baseline = \"first\"\n",
    ")\n",
    "#data[\"fpm_rnk\"] = rankdata(data[\"fpm\"], nan_policy = \"omit\")\n",
    "\n",
    "data[\"cnt-smx_dif\"] = abs(data[\"cnt-smx_dif\"])\n",
    "res = OLS(data, \"gch\", [\"cnt-smx_dif\", \"adf\", \"fpm\"], transform_dep=True, dep_transformer=\"box-cox\")\n",
    "res.summary()\n",
    "```\n",
    "\n",
    "```\n",
    "                            OLS Regression Results                            \n",
    "==============================================================================\n",
    "Dep. Variable:                      y   R-squared:                       0.598\n",
    "Model:                            OLS   Adj. R-squared:                  0.578\n",
    "Method:                 Least Squares   F-statistic:                     29.78\n",
    "Date:                Mon, 26 Feb 2024   Prob (F-statistic):           6.43e-12\n",
    "Time:                        11:52:45   Log-Likelihood:                -61.630\n",
    "No. Observations:                  64   AIC:                             131.3\n",
    "Df Residuals:                      60   BIC:                             139.9\n",
    "Df Model:                           3                                         \n",
    "Covariance Type:            nonrobust                                         \n",
    "===============================================================================\n",
    "                  coef    std err          t      P>|t|      [0.025      0.975]\n",
    "-------------------------------------------------------------------------------\n",
    "const          -0.1333      0.156     -0.857      0.395      -0.444       0.178\n",
    "cnt-smx_dif    93.5548     14.857      6.297      0.000      63.836     123.273\n",
    "adf            -0.0048      0.010     -0.502      0.617      -0.024       0.014\n",
    "fpm            -0.0172      0.004     -4.305      0.000      -0.025      -0.009\n",
    "==============================================================================\n",
    "Omnibus:                        2.932   Durbin-Watson:                   0.899\n",
    "Prob(Omnibus):                  0.231   Jarque-Bera (JB):                2.074\n",
    "Skew:                           0.336   Prob(JB):                        0.354\n",
    "Kurtosis:                       3.570   Cond. No.                     5.69e+03\n",
    "==============================================================================\n",
    "\n",
    "Notes:\n",
    "[1] Standard Errors assume that the covariance matrix of the errors is correctly specified.\n",
    "[2] The condition number is large, 5.69e+03. This might indicate that there are\n",
    "strong multicollinearity or other numerical problems.\n",
    "\n",
    "```"
   ]
  },
  {
   "cell_type": "markdown",
   "metadata": {},
   "source": [
    "##### Parameter search for winsoring and ..."
   ]
  },
  {
   "cell_type": "code",
   "execution_count": null,
   "metadata": {},
   "outputs": [],
   "source": [
    "data = data2data(\n",
    "    iod_data = kb_iod, \n",
    "    lsc_data = kb_lsc, \n",
    "#    dwes     = sgns_lsc.index, \n",
    "    dwes     = ['V1_berika', 'N1_globalist', 'N1_återvandring', 'N1_förortsgäng'],\n",
    "    AB_strat = {\"A-Strategy\":\"ms1\"}, \n",
    "    years    = years,\n",
    "    methods  = [\"I-cnt\", \"O-cnt\", \"cnt-ssc\", \"cnt-smx\"],\n",
    "    baseline = \"first\"\n",
    ")\n",
    "indep = [\n",
    "    \"cnt-smx_dif\", \n",
    "    #\"adf\",\n",
    "    \"fdf\",\n",
    "    #\"fpm_rnk\",\n",
    "    #\"fpm_log\",\n",
    "    \"fpm\"\n",
    "]\n",
    "dep=\"gch\"\n",
    "data = data[indep+[dep]]\n",
    "data = data.dropna()\n",
    "\n",
    "data[\"cnt-smx_dif\"] = abs(data[\"cnt-smx_dif\"]) \n",
    "\n",
    "#wh_var = \"cnt-smx_dif\"\n",
    "wh_var = dep\n",
    "\n",
    "data[wh_var].plot.hist(title=wh_var)\n",
    "plt.show()\n",
    "\n",
    "q_level=0.75\n",
    "\n",
    "Q = data[wh_var].quantile(q=q_level)\n",
    "print(len(data[data[wh_var]>Q]), Q)\n",
    "data[wh_var] = data[wh_var].apply(lambda x: x if x<Q else Q)\n",
    "\n",
    "#transformer = RobustScaler(with_centering=True, quantile_range=(100-(q_level*100), q_level*100))\n",
    "#v_trans = transformer.fit_transform(data[wh_var].values.reshape(-1,1)).flatten()\n",
    "#data[wh_var] = v_trans\n",
    "\n",
    "#data[\"fpm_rnk\"] = rankdata(data[\"fpm\"], nan_policy=\"omit\")\n",
    "\n",
    "res_bert = OLS(data, \"gch\", indep, transform_dep=False, dep_transformer=\"box-cox\") # dep_transformer=\"box-cox\"\n",
    "res_bert.summary()\n",
    "# res"
   ]
  },
  {
   "cell_type": "code",
   "execution_count": null,
   "metadata": {},
   "outputs": [],
   "source": [
    "data[wh_var].plot.hist(title=wh_var)"
   ]
  },
  {
   "cell_type": "markdown",
   "metadata": {},
   "source": [
    "### Know your data - BERT"
   ]
  },
  {
   "cell_type": "markdown",
   "metadata": {},
   "source": [
    "There are problems with non normal residuals of OLS models below...\n",
    "\n",
    "* https://baotramduong.medium.com/mastering-r-75-different-ways-of-detecting-anhandling-outliers-456e22f34c00\n",
    "* https://scikit-learn.org/stable/auto_examples/preprocessing/plot_map_data_to_normal.html#sphx-glr-auto-examples-preprocessing-plot-map-data-to-normal-py\n",
    "* https://www.frontiersin.org/journals/psychology/articles/10.3389/fpsyg.2018.02104/full\n",
    "\n",
    "\n",
    "Both Winsorizing and BoxCox approach works. I guess windsoring is ther better option as it is easier to interpret! However, Q for cutoff is 0.77, which is rather obtrusive. \n",
    "\n",
    "RobustScaler -- ? It is robust to outliers; i.e. it preserves them?!"
   ]
  },
  {
   "cell_type": "markdown",
   "metadata": {},
   "source": [
    "**Found an error (26 February, 2024):** `extok.json` (which is used to calculate normalised frequencies) is different for SBERT and SGNS. This result in different `fpm` for SGNS and SBERT. Possible solutions:\n",
    "1. replace `extok.json` in SBERT with `extok.json` from SGNS; and re-run `create_df_mb.py`\n",
    "2. replace SBERT data for frequencies with frequency data of SGNS data here\n",
    "3. Both!\n",
    "\n",
    "Done 1.\n",
    "\n",
    "*Also note: this error has implications for results in thesis! ... as well as Boholm & Sayeed 2023!* "
   ]
  },
  {
   "cell_type": "code",
   "execution_count": null,
   "metadata": {},
   "outputs": [],
   "source": [
    "DWEs = ['V1_berika', 'N1_globalist', 'N1_återvandring', 'N1_förortsgäng']\n",
    "#DWEs = sgns_lsc.index,\n",
    "METHODs = [\"I-cnt\", \"O-cnt\", \"cnt-ssc\", \"cnt-smx\"]\n",
    "BASELINE = \"first\""
   ]
  },
  {
   "cell_type": "code",
   "execution_count": null,
   "metadata": {},
   "outputs": [],
   "source": [
    "SGNS = data2data(\n",
    "    iod_data = sgns_iod, \n",
    "    lsc_data = sgns_lsc, \n",
    "    dwes     = DWEs,\n",
    "    AB_strat = {\"A-Strategy\":\"ms1\", \"B-Strategy\":\"min0.2\"}, \n",
    "    years    = years,\n",
    "    methods  = METHODs,\n",
    "    baseline = BASELINE\n",
    ")"
   ]
  },
  {
   "cell_type": "code",
   "execution_count": null,
   "metadata": {},
   "outputs": [],
   "source": [
    "BERT = data2data(\n",
    "    iod_data = kb_iod, \n",
    "    lsc_data = kb_lsc, \n",
    "    dwes     = DWEs,\n",
    "    AB_strat = {\"A-Strategy\":\"ms1\"}, \n",
    "    years    = years,\n",
    "    methods  = METHODs,\n",
    "    baseline = BASELINE\n",
    ")"
   ]
  },
  {
   "cell_type": "code",
   "execution_count": null,
   "metadata": {},
   "outputs": [],
   "source": [
    "SGNS.columns"
   ]
  },
  {
   "cell_type": "code",
   "execution_count": null,
   "metadata": {},
   "outputs": [],
   "source": [
    "for m in [SGNS, BERT]:\n",
    "    for col in SGNS.columns:\n",
    "        if not col.endswith(\"_dif\"):\n",
    "            continue\n",
    "        m[col] = abs(m[col])"
   ]
  },
  {
   "cell_type": "markdown",
   "metadata": {},
   "source": [
    "#### Change IOD"
   ]
  },
  {
   "cell_type": "code",
   "execution_count": null,
   "metadata": {},
   "outputs": [],
   "source": [
    "v = SGNS[\"cnt-smx_dif\"]\n",
    "print(pg.normality(v)); v.hist()"
   ]
  },
  {
   "cell_type": "code",
   "execution_count": null,
   "metadata": {},
   "outputs": [],
   "source": [
    "v.plot.box()"
   ]
  },
  {
   "cell_type": "code",
   "execution_count": null,
   "metadata": {},
   "outputs": [],
   "source": [
    "v = BERT[\"cnt-smx_dif\"]\n",
    "print(pg.normality(v)); v.hist()"
   ]
  },
  {
   "cell_type": "code",
   "execution_count": null,
   "metadata": {},
   "outputs": [],
   "source": [
    "v.plot.box()"
   ]
  },
  {
   "cell_type": "markdown",
   "metadata": {},
   "source": [
    "#### LSC"
   ]
  },
  {
   "cell_type": "code",
   "execution_count": null,
   "metadata": {},
   "outputs": [],
   "source": [
    "v = SGNS[\"gch\"]\n",
    "print(pg.normality(v)); v.hist()"
   ]
  },
  {
   "cell_type": "code",
   "execution_count": null,
   "metadata": {},
   "outputs": [],
   "source": [
    "v.plot.box()"
   ]
  },
  {
   "cell_type": "code",
   "execution_count": null,
   "metadata": {},
   "outputs": [],
   "source": [
    "v = BERT[\"gch\"]\n",
    "print(pg.normality(v)); v.hist()"
   ]
  },
  {
   "cell_type": "code",
   "execution_count": null,
   "metadata": {},
   "outputs": [],
   "source": [
    "v.plot.box()"
   ]
  },
  {
   "cell_type": "markdown",
   "metadata": {},
   "source": [
    "#### Frequency"
   ]
  },
  {
   "cell_type": "code",
   "execution_count": null,
   "metadata": {},
   "outputs": [],
   "source": [
    "len(SGNS[\"fpm\"].dropna())"
   ]
  },
  {
   "cell_type": "code",
   "execution_count": null,
   "metadata": {},
   "outputs": [],
   "source": [
    "SGNS[\"fpm\"].dropna().plot()"
   ]
  },
  {
   "cell_type": "code",
   "execution_count": null,
   "metadata": {},
   "outputs": [],
   "source": [
    "v = SGNS[\"fpm\"]\n",
    "print(pg.normality(v)); v.hist()"
   ]
  },
  {
   "cell_type": "code",
   "execution_count": null,
   "metadata": {},
   "outputs": [],
   "source": [
    "v.plot.box()"
   ]
  },
  {
   "cell_type": "code",
   "execution_count": null,
   "metadata": {},
   "outputs": [],
   "source": [
    "v = BERT[\"fpm\"]\n",
    "print(pg.normality(v)); v.hist()"
   ]
  },
  {
   "cell_type": "code",
   "execution_count": null,
   "metadata": {},
   "outputs": [],
   "source": [
    "v.plot.box()"
   ]
  },
  {
   "cell_type": "code",
   "execution_count": null,
   "metadata": {
    "scrolled": true
   },
   "outputs": [],
   "source": [
    "v = SGNS[\"fpm_log\"]\n",
    "print(pg.normality(v)); v.hist()"
   ]
  },
  {
   "cell_type": "code",
   "execution_count": null,
   "metadata": {},
   "outputs": [],
   "source": [
    "v.plot.box()"
   ]
  },
  {
   "cell_type": "code",
   "execution_count": null,
   "metadata": {},
   "outputs": [],
   "source": [
    "#np.log10(SGNS[\"fpm\"]).hist()"
   ]
  },
  {
   "cell_type": "code",
   "execution_count": null,
   "metadata": {},
   "outputs": [],
   "source": [
    "#plt.hist(power_transform(SGNS[\"fpm\"].values.reshape(-1,1), method=\"box-cox\"))"
   ]
  },
  {
   "cell_type": "code",
   "execution_count": null,
   "metadata": {
    "scrolled": true
   },
   "outputs": [],
   "source": [
    "#plt.hist(power_transform(SGNS[\"fpm_log\"].values.reshape(-1,1), method=\"yeo-johnson\"))"
   ]
  },
  {
   "cell_type": "code",
   "execution_count": null,
   "metadata": {},
   "outputs": [],
   "source": [
    "v = BERT[\"fpm_log\"]\n",
    "print(pg.normality(v)); v.hist()"
   ]
  },
  {
   "cell_type": "code",
   "execution_count": null,
   "metadata": {},
   "outputs": [],
   "source": [
    "v.plot.box()"
   ]
  },
  {
   "cell_type": "markdown",
   "metadata": {},
   "source": [
    "### Experiments with transformations"
   ]
  },
  {
   "cell_type": "markdown",
   "metadata": {},
   "source": [
    "#### Orig. "
   ]
  },
  {
   "cell_type": "code",
   "execution_count": null,
   "metadata": {},
   "outputs": [],
   "source": [
    "var = \"cnt-smx_dif\"\n",
    "model = BERT"
   ]
  },
  {
   "cell_type": "code",
   "execution_count": null,
   "metadata": {},
   "outputs": [],
   "source": [
    "x = model[var].dropna()\n",
    "plt.boxplot(x)\n",
    "plt.show()"
   ]
  },
  {
   "cell_type": "code",
   "execution_count": null,
   "metadata": {},
   "outputs": [],
   "source": [
    "pg.normality(x)"
   ]
  },
  {
   "cell_type": "markdown",
   "metadata": {},
   "source": [
    "#### Box-Cox"
   ]
  },
  {
   "cell_type": "code",
   "execution_count": null,
   "metadata": {},
   "outputs": [],
   "source": [
    "x = model[var].dropna()\n",
    "x = power_transform(x.values.reshape(-1,1), method=\"box-cox\").flatten()\n",
    "x = pd.Series(x.flatten())\n",
    "print(pg.normality(x)[\"W\"].values[0], pg.normality(x)[\"normal\"].values[0])\n",
    "plt.boxplot(x)\n",
    "plt.show()"
   ]
  },
  {
   "cell_type": "code",
   "execution_count": null,
   "metadata": {},
   "outputs": [],
   "source": [
    "x.hist()"
   ]
  },
  {
   "cell_type": "markdown",
   "metadata": {},
   "source": [
    "#### Quantile stuff"
   ]
  },
  {
   "cell_type": "code",
   "execution_count": null,
   "metadata": {},
   "outputs": [],
   "source": [
    "x = model[var].dropna()\n",
    "x.plot.box()\n",
    "plt.show()\n",
    "#transformer = QuantileTransformer(n_quantiles=60, output_distribution='normal') # basically ranking?\n",
    "transformer =  RobustScaler(with_centering=True, unit_variance=False, quantile_range=(25, 75)) # quantile_range=(0.1, 0.9)\n",
    "x = transformer.fit_transform(x.values.reshape(-1,1))\n",
    "x = pd.Series(x.flatten())\n",
    "plt.boxplot(x)\n",
    "plt.show()"
   ]
  },
  {
   "cell_type": "code",
   "execution_count": null,
   "metadata": {},
   "outputs": [],
   "source": [
    "x.max() #?????"
   ]
  },
  {
   "cell_type": "code",
   "execution_count": null,
   "metadata": {},
   "outputs": [],
   "source": [
    "results = []\n",
    "for value in [1, 5, 10, 15, 20, 25, 30, 35, 40, 45, 50]:\n",
    "    transformer = RobustScaler(with_centering=True, with_scaling=True, quantile_range=(value, 100-value))\n",
    "    gch = model[var].dropna()\n",
    "    gch = gch.values.reshape(-1,1)\n",
    "    gch_trans = transformer.fit_transform(gch)\n",
    "    gch_trans = gch_trans.flatten()\n",
    "#     gch_trans = np.log(gch_trans)\n",
    "    gch_trans = pd.Series(gch_trans, name=value)\n",
    "    normal = pg.normality(gch_trans)\n",
    "    normal[\"Median\"] = gch_trans.median()\n",
    "    normal[\"Max\"] = gch_trans.max()\n",
    "    normal[\"Min\"] = gch_trans.min()\n",
    "    normal[\"Range\"] = normal[\"Max\"] - normal[\"Min\"]\n",
    "    \n",
    "    results.append(normal)\n",
    "pd.concat(results)"
   ]
  },
  {
   "cell_type": "code",
   "execution_count": null,
   "metadata": {},
   "outputs": [],
   "source": [
    "x.hist()"
   ]
  },
  {
   "cell_type": "code",
   "execution_count": null,
   "metadata": {},
   "outputs": [],
   "source": [
    "pg.normality(x)"
   ]
  },
  {
   "cell_type": "code",
   "execution_count": null,
   "metadata": {},
   "outputs": [],
   "source": [
    "x = model[var].dropna()\n",
    "for k in range(1,60):\n",
    "    transformer = QuantileTransformer(n_quantiles=k, output_distribution='normal') # basically ranking?\n",
    "    #transformer =  RobustScaler(quantile_range=(0.3, 0.7))\n",
    "    t = transformer.fit_transform(x.values.reshape(-1,1))\n",
    "    t = pd.Series(t.flatten())\n",
    "    print(k, pg.normality(t)[\"W\"].values[0], pg.normality(t)[\"normal\"].values[0])"
   ]
  },
  {
   "cell_type": "markdown",
   "metadata": {},
   "source": [
    "#### BoxCox Transform GCH"
   ]
  },
  {
   "cell_type": "markdown",
   "metadata": {},
   "source": [
    "How to interpret the results?!"
   ]
  },
  {
   "cell_type": "markdown",
   "metadata": {},
   "source": [
    "##### SGNS"
   ]
  },
  {
   "cell_type": "code",
   "execution_count": null,
   "metadata": {},
   "outputs": [],
   "source": [
    "SGNS[\"gch\"].hist()"
   ]
  },
  {
   "cell_type": "code",
   "execution_count": null,
   "metadata": {},
   "outputs": [],
   "source": [
    "pg.normality(SGNS[\"gch\"])"
   ]
  },
  {
   "cell_type": "code",
   "execution_count": null,
   "metadata": {
    "scrolled": true
   },
   "outputs": [],
   "source": [
    "x = SGNS[\"gch\"].dropna()\n",
    "x = power_transform(x.values.reshape(-1,1), method=\"box-cox\").flatten()\n",
    "plt.hist(x)\n",
    "plt.show"
   ]
  },
  {
   "cell_type": "code",
   "execution_count": null,
   "metadata": {},
   "outputs": [],
   "source": [
    "pg.normality(x)"
   ]
  },
  {
   "cell_type": "markdown",
   "metadata": {},
   "source": [
    "##### BERT"
   ]
  },
  {
   "cell_type": "code",
   "execution_count": null,
   "metadata": {},
   "outputs": [],
   "source": [
    "BERT[\"gch\"].hist()"
   ]
  },
  {
   "cell_type": "code",
   "execution_count": null,
   "metadata": {},
   "outputs": [],
   "source": [
    "pg.normality(BERT[\"gch\"])"
   ]
  },
  {
   "cell_type": "code",
   "execution_count": null,
   "metadata": {},
   "outputs": [],
   "source": [
    "x = SGNS[\"gch\"].dropna()\n",
    "x = power_transform(x.values.reshape(-1,1), method=\"box-cox\").flatten()\n",
    "plt.hist(x)\n",
    "plt.show"
   ]
  },
  {
   "cell_type": "code",
   "execution_count": null,
   "metadata": {},
   "outputs": [],
   "source": [
    "pg.normality(x)"
   ]
  },
  {
   "cell_type": "markdown",
   "metadata": {},
   "source": [
    "## Are the methods of measurement different?"
   ]
  },
  {
   "cell_type": "markdown",
   "metadata": {},
   "source": [
    "* ***dif***<sub>*strategy*, *year*</sub> = `cnt` - `pwn`\n",
    "* ***Mean***(*dif*)\n",
    "* ***Min***(*dif*)\n",
    "* ***Max***(*dif*)\n",
    "* ***SD***(*dif*)\n",
    "* ***correlation***(`cnt`, `pwn`)\n",
    "* ***Overall*** vs. ***per term***"
   ]
  },
  {
   "cell_type": "code",
   "execution_count": null,
   "metadata": {},
   "outputs": [],
   "source": [
    "def get_difs(df, M, years, corr):\n",
    "    \n",
    "    m1, m2 = M\n",
    "    difs = []\n",
    "    for year in years:\n",
    "        #print(df[df[\"Method\"] == m1][year])\n",
    "        x = df[df[\"Method\"] == m1][year].values[0]\n",
    "        y = df[df[\"Method\"] == m2][year].values[0]\n",
    "        #dif = x - y\n",
    "        dif = max(x,y) - min(x,y)\n",
    "        \n",
    "        #print(dif)\n",
    "        \n",
    "#         dif = dif.values.flatten().tolist()\n",
    "        \n",
    "        #print(dif)\n",
    "        \n",
    "        difs.append(dif)\n",
    "        \n",
    "    X = df[df[\"Method\"]==m1][years].values.flatten()\n",
    "    Y = df[df[\"Method\"]==m2][years].values.flatten()\n",
    "#     print(X)\n",
    "#     print(Y)\n",
    "    X, Y = zip(*[(x, y) for x,y in zip(X, Y) if not (pd.isna(x) or pd.isna(y))])\n",
    "    \n",
    "#     print(X)\n",
    "#     print(Y)\n",
    "\n",
    "    stat = corr(X, Y)\n",
    "    r = stat.statistic\n",
    "    N = len(X)\n",
    "    \n",
    "    return r, N, difs\n",
    "    "
   ]
  },
  {
   "cell_type": "code",
   "execution_count": null,
   "metadata": {},
   "outputs": [],
   "source": [
    "def compare_measures(iod_data, measures, years, corr = pearsonr, dwes = \"all\", aggregate = 1):\n",
    "    \"\"\"\n",
    "    Compare measurement methods:\n",
    "    param  iod_data   dataframe\n",
    "    param  measures   tuple of measures, e.g. (\"I-cnt\", \"I-pwn\")\n",
    "    param  aggregate  ... \n",
    "    \"\"\"\n",
    "    \n",
    "    m1, m2 = measures\n",
    "    \n",
    "    if dwes == \"all\":\n",
    "        dwes = set(iod_data[\"DWE\"].values)\n",
    "    else:\n",
    "        assert isinstance(dwes, (list, tuple, set)), \"`dwes` not iterable\"\n",
    "    \n",
    "    dwes = list(dwes)\n",
    "    dwes.sort()\n",
    "    \n",
    "    AB_strategies = sorted([col for col in iod_data.columns if col.lower().endswith(\"strategy\")])\n",
    "    if len(AB_strategies) == 1:\n",
    "        strategies = list(set(iod_data[AB_strategies[0]].values))\n",
    "    if len(AB_strategies) == 2:\n",
    "#         print(\"AB\", AB_strategies)\n",
    "        A_strat = sorted(list(set(iod_data[AB_strategies[0]].values))) \n",
    "        B_strat = sorted(list(set(iod_data[AB_strategies[1]].values)))\n",
    "        strategies = []\n",
    "        for a in A_strat:\n",
    "            for b in B_strat:\n",
    "#                 print(a, b)\n",
    "                strategies.append(f\"{a}-{b}\")\n",
    "    \n",
    "    \n",
    "    if aggregate == 0:\n",
    "        d = {dwe: {strategy: {\"dif\": None, \"r\": None} for strategy in strategies} for dwe in dwes}\n",
    "    if aggregate == 1:\n",
    "        d = {dwe: {\"dif\": [], \"r\": []} for dwe in dwes}\n",
    "    if aggregate == 2:\n",
    "        d = {\"dif\": [], \"r\": []}\n",
    "    \n",
    "    for dwe in dwes:\n",
    "        \n",
    "        if len(AB_strategies) == 1:\n",
    "#             strategy = AB_strategies[0]\n",
    "            for s in strategies:\n",
    "                df = iod_data[(iod_data[\"DWE\"] == dwe) & (iod_data[\"A-Strategy\"] == s)]\n",
    "                r, N, difs = get_difs(df, (m1, m2), years, corr)\n",
    "                \n",
    "                if aggregate == 0:\n",
    "                    d[dwe][s][\"r\"] = r\n",
    "                    d[dwe][s][\"dif\"] = difs\n",
    "                    \n",
    "                if aggregate == 1:\n",
    "                    d[dwe][\"r\"].append(r)\n",
    "                    d[dwe][\"dif\"].extend(difs)\n",
    "                    \n",
    "                if aggregate == 2:\n",
    "                    d[\"r\"].append(r)\n",
    "                    d[\"dif\"].extend(difs)\n",
    "                \n",
    "        \n",
    "        if len(AB_strategies) == 2:\n",
    "            \n",
    "            for a in A_strat:\n",
    "                for b in B_strat:\n",
    "#                     print(a, b)\n",
    "                    df = iod_data[(iod_data[\"DWE\"] == dwe) & (iod_data[\"A-Strategy\"] == a) & (iod_data[\"B-Strategy\"] == b)]\n",
    "                    r, N, difs = get_difs(df, (m1, m2), years, corr)\n",
    "                    s = f\"{a}-{b}\"\n",
    "                    #print(strategies.index(s))\n",
    "                    \n",
    "                    if aggregate == 0:\n",
    "                        d[dwe][s][\"r\"] = r\n",
    "                        d[dwe][s][\"dif\"] = difs\n",
    "\n",
    "                    if aggregate == 1:\n",
    "                        d[dwe][\"r\"].append(r)\n",
    "                        d[dwe][\"dif\"].extend(difs)\n",
    "\n",
    "                    if aggregate == 2:\n",
    "                        d[\"r\"].append(r)\n",
    "                        d[\"dif\"].extend(difs)\n",
    "    \n",
    "    results = []\n",
    "    \n",
    "    if aggregate == 0:\n",
    "        for dwe in d.keys():\n",
    "            for strategy in d[dwe].keys():\n",
    "                dif = d[dwe][strategy][\"dif\"]\n",
    "#                 print(d[dwe])\n",
    "#                 print(d[dwe][strategy])\n",
    "                to_results = {\n",
    "                    \"DWE\" : dwe,\n",
    "                    \"Mdif\"   : np.nanmean(dif),\n",
    "                    \"SDdif\"  : np.nanstd(dif),\n",
    "                    \"MAXdif\" : np.nanmax(dif),\n",
    "                    \"MINdif\" : np.nanmin(dif),\n",
    "                    \"r\"   : np.mean(d[dwe][strategy][\"r\"])\n",
    "                }\n",
    "                results.append(to_results)                \n",
    "    if aggregate == 1:\n",
    "        for dwe in d.keys():\n",
    "            dif = d[dwe][\"dif\"]\n",
    "            to_results = {\n",
    "                \"DWE\"    : dwe,\n",
    "                \"Mdif\"   : np.nanmean(dif),\n",
    "                \"SDdif\"  : np.nanstd(dif),\n",
    "                \"MAXdif\" : np.nanmax(dif),\n",
    "                \"MINdif\" : np.nanmin(dif),\n",
    "                \"rM\"      : np.mean(d[dwe][\"r\"])\n",
    "            }\n",
    "            results.append(to_results)\n",
    "    if aggregate == 2:\n",
    "        dif = d[\"dif\"]\n",
    "        to_results = {\n",
    "            \"DWE\"    : None,\n",
    "            \"Mdif\"   : np.nanmean(dif),\n",
    "            \"SDdif\"  : np.nanstd(dif),\n",
    "            \"MAXdif\" : np.nanmax(dif),\n",
    "            \"MINdif\" : np.nanmin(dif),\n",
    "            \"rM\"      : np.mean(d[\"r\"])\n",
    "        }\n",
    "        results.append(to_results)        \n",
    "        \n",
    "    \n",
    "    return pd.DataFrame(results)\n",
    "            \n"
   ]
  },
  {
   "cell_type": "markdown",
   "metadata": {},
   "source": [
    "## `cnt` vs. `pwn`?"
   ]
  },
  {
   "cell_type": "markdown",
   "metadata": {},
   "source": [
    "### SGNS"
   ]
  },
  {
   "cell_type": "code",
   "execution_count": null,
   "metadata": {},
   "outputs": [],
   "source": [
    "compare_measures(\n",
    "    iod_data = sgns_iod, \n",
    "    measures = (\"I-cnt\", \"I-pwn\"), \n",
    "    years = years, \n",
    "    corr = pearsonr, \n",
    "    dwes = \"all\", \n",
    "    aggregate = 1\n",
    ")"
   ]
  },
  {
   "cell_type": "code",
   "execution_count": null,
   "metadata": {
    "scrolled": true
   },
   "outputs": [],
   "source": [
    "compare_measures(\n",
    "    iod_data = sgns_iod, \n",
    "    measures = (\"O-cnt\", \"O-pwn\"), \n",
    "    years = years, \n",
    "    corr = pearsonr, \n",
    "    dwes = \"all\", \n",
    "    aggregate = 1\n",
    ")"
   ]
  },
  {
   "cell_type": "markdown",
   "metadata": {},
   "source": [
    "Note: `N1_globalist`! A frequency effect?"
   ]
  },
  {
   "cell_type": "markdown",
   "metadata": {},
   "source": [
    "### KB"
   ]
  },
  {
   "cell_type": "code",
   "execution_count": null,
   "metadata": {},
   "outputs": [],
   "source": [
    "compare_measures(\n",
    "    iod_data = kb_iod, \n",
    "    measures = (\"I-cnt\", \"I-pwn\"), \n",
    "    years = years, \n",
    "    corr = pearsonr, \n",
    "    dwes = \"all\", \n",
    "    aggregate = 1\n",
    ")"
   ]
  },
  {
   "cell_type": "code",
   "execution_count": null,
   "metadata": {},
   "outputs": [],
   "source": [
    "compare_measures(\n",
    "    iod_data = kb_iod, \n",
    "    measures = (\"O-cnt\", \"O-pwn\"), \n",
    "    years = years, \n",
    "    corr = pearsonr, \n",
    "    dwes = \"all\", \n",
    "    aggregate = 1\n",
    ")"
   ]
  },
  {
   "cell_type": "markdown",
   "metadata": {},
   "source": [
    "### STS"
   ]
  },
  {
   "cell_type": "code",
   "execution_count": null,
   "metadata": {},
   "outputs": [],
   "source": [
    "compare_measures(\n",
    "    iod_data = sts_iod, \n",
    "    measures = (\"I-cnt\", \"I-pwn\"), \n",
    "    years = years, \n",
    "    corr = pearsonr, \n",
    "    dwes = \"all\", \n",
    "    aggregate = 1\n",
    ")"
   ]
  },
  {
   "cell_type": "code",
   "execution_count": null,
   "metadata": {},
   "outputs": [],
   "source": [
    "compare_measures(\n",
    "    iod_data = sts_iod, \n",
    "    measures = (\"O-cnt\", \"O-pwn\"), \n",
    "    years = years, \n",
    "    corr = pearsonr, \n",
    "    dwes = \"all\", \n",
    "    aggregate = 1\n",
    ")"
   ]
  },
  {
   "cell_type": "markdown",
   "metadata": {},
   "source": [
    "**Summary:** Values of `cnt` and `pwn` are different, but *very* strongly correlated. The only exception is:\n",
    "\n",
    "* SGNS-model\n",
    "* Outgroup-dimension\n",
    "* *globalist*\n",
    "\n",
    "Here the correlation is 0.6 instead of 1.0. *Why?* (What is the \"conceptual\" difference between `cnt` and `pwn`? Consider Hamilton et al.)."
   ]
  },
  {
   "cell_type": "markdown",
   "metadata": {},
   "source": [
    "## `ssc` vs. `smx`?"
   ]
  },
  {
   "cell_type": "markdown",
   "metadata": {},
   "source": [
    "### SGNS"
   ]
  },
  {
   "cell_type": "code",
   "execution_count": null,
   "metadata": {},
   "outputs": [],
   "source": [
    "compare_measures(\n",
    "    iod_data = sgns_iod, \n",
    "    measures = (\"cnt-ssc\", \"cnt-smx\"), \n",
    "    years = years, \n",
    "    corr = pearsonr, \n",
    "    dwes = \"all\", \n",
    "    aggregate = 1\n",
    ")"
   ]
  },
  {
   "cell_type": "markdown",
   "metadata": {},
   "source": [
    "Note: `N1_kulturberikare`"
   ]
  },
  {
   "cell_type": "code",
   "execution_count": null,
   "metadata": {},
   "outputs": [],
   "source": [
    "compare_measures(\n",
    "    iod_data = sgns_iod, \n",
    "    measures = (\"pwn-ssc\", \"pwn-smx\"), \n",
    "    years = years, \n",
    "    corr = pearsonr, \n",
    "    dwes = \"all\", \n",
    "    aggregate = 1\n",
    ")"
   ]
  },
  {
   "cell_type": "markdown",
   "metadata": {},
   "source": [
    "Again, note: `N1_kulturberikare`, `V1_berika`"
   ]
  },
  {
   "cell_type": "markdown",
   "metadata": {},
   "source": [
    "### STS"
   ]
  },
  {
   "cell_type": "code",
   "execution_count": null,
   "metadata": {},
   "outputs": [],
   "source": [
    "compare_measures(\n",
    "    iod_data = sts_iod, \n",
    "    measures = (\"cnt-ssc\", \"cnt-smx\"), \n",
    "    years = years, \n",
    "    corr = pearsonr, \n",
    "    dwes = \"all\", \n",
    "    aggregate = 1\n",
    ")"
   ]
  },
  {
   "cell_type": "code",
   "execution_count": null,
   "metadata": {},
   "outputs": [],
   "source": [
    "compare_measures(\n",
    "    iod_data = sts_iod, \n",
    "    measures = (\"pwn-ssc\", \"pwn-smx\"), \n",
    "    years = years, \n",
    "    corr = pearsonr, \n",
    "    dwes = \"all\", \n",
    "    aggregate = 1\n",
    ")"
   ]
  },
  {
   "cell_type": "markdown",
   "metadata": {},
   "source": [
    "### KB"
   ]
  },
  {
   "cell_type": "code",
   "execution_count": null,
   "metadata": {},
   "outputs": [],
   "source": [
    "compare_measures(\n",
    "    iod_data = kb_iod, \n",
    "    measures = (\"cnt-ssc\", \"cnt-smx\"), \n",
    "    years = years, \n",
    "    corr = pearsonr, \n",
    "    dwes = \"all\", \n",
    "    aggregate = 1\n",
    ")"
   ]
  },
  {
   "cell_type": "markdown",
   "metadata": {},
   "source": [
    "Note: `N1_globalist`"
   ]
  },
  {
   "cell_type": "code",
   "execution_count": null,
   "metadata": {},
   "outputs": [],
   "source": [
    "compare_measures(\n",
    "    iod_data = kb_iod, \n",
    "    measures = (\"pwn-ssc\", \"pwn-smx\"), \n",
    "    years = years, \n",
    "    corr = pearsonr, \n",
    "    dwes = \"all\", \n",
    "    aggregate = 1\n",
    ")"
   ]
  },
  {
   "cell_type": "markdown",
   "metadata": {},
   "source": [
    "Note: `N1_globalist`"
   ]
  },
  {
   "cell_type": "markdown",
   "metadata": {},
   "source": [
    "**Summary:** Values of `ssc` and `smx` are different, but very strongly correlated. Exceptions are:\n",
    "\n",
    "|     |      `ssc`     |             `smx`          |\n",
    "|-----|----------------|----------------------------|\n",
    "|SNGS |*kulturberikare*|*kulturberikare*, *berikare*|\n",
    "|KB   |*globalist*     |*globalist*                 |\n",
    "\n",
    "*When less strongly correlated, why?* What is the \"conceptual\" difference between `ssc` and `smx`? Look at time plots. `smx` seems less variable, while `ssc` is more \"responsive\" to big gaps between ingroup and outgroup dimension."
   ]
  },
  {
   "cell_type": "markdown",
   "metadata": {},
   "source": [
    "## Visualization"
   ]
  },
  {
   "cell_type": "code",
   "execution_count": null,
   "metadata": {},
   "outputs": [],
   "source": [
    "def viz(\n",
    "    iod_data, \n",
    "    dwe, \n",
    "    criterion, \n",
    "    years, \n",
    "    meas = [(\"I-cnt\", \"r\", '-'), (\"O-cnt\", \"g\", '-'), (\"cnt-ssc\", \"b\", '--')], \n",
    "    truncate = True\n",
    "):\n",
    "    \n",
    "    df = iod_data.copy()\n",
    "    df = df[df[\"DWE\"] == dwe]\n",
    "    for col, val in criterion.items():\n",
    "        df = df[df[col] == val]\n",
    "    \n",
    "    fig, ax = plt.subplots(figsize=(12,8))\n",
    "    \n",
    "    for m, c, l in meas:\n",
    "        X = df[(df[\"DWE\"] == dwe) & (df[\"Method\"] == m)][years]\n",
    "        if truncate:\n",
    "            x, y = zip(*[(x, y) for x, y in zip(X.columns, X.values.flatten()) if not pd.isna(x) and not pd.isna(y)])\n",
    "        else: \n",
    "            x = X.columns\n",
    "            y = X.values.flatten()\n",
    "            \n",
    "        ax.plot(x, y, label=m, c=c, linestyle=l)\n",
    "    ax.legend(loc='center right', bbox_to_anchor=(1.3, 0.5), ncols=2)\n",
    "\n",
    "    \n",
    "    plt.show()\n",
    "    \n",
    "    "
   ]
  },
  {
   "cell_type": "code",
   "execution_count": null,
   "metadata": {},
   "outputs": [],
   "source": [
    "def viz_multi(\n",
    "    title,\n",
    "    iod_data_frames,\n",
    "    names,\n",
    "    dwes, \n",
    "    criteria, \n",
    "    years, \n",
    "    meas = [(\"I-cnt\", \"r\", '-'), (\"O-cnt\", \"g\", '-'), (\"cnt-ssc\", \"b\", '--')], \n",
    "    truncate = True,\n",
    "    ncols = 2\n",
    "):\n",
    "    \n",
    "    dfs = []\n",
    "    for D, criterion, dwe in zip(iod_data_frames, criteria, dwes):\n",
    "        df = D.copy()\n",
    "        df = df[df[\"DWE\"] == dwe]\n",
    "        for col, val in criterion.items():\n",
    "            df = df[df[col] == val]\n",
    "        dfs.append(df)\n",
    "\n",
    "    NROWS  = ceil(len(dfs) / ncols)\n",
    "    NCOLS  = ncols\n",
    "    WIDTH  = 12 * NCOLS\n",
    "    HEIGTH = NROWS * 6 \n",
    "    \n",
    "#    Y = years[[len(y) for y in years].index(max([len(y) for y in years]))]\n",
    "#    Y = [int(y) for y in Y]\n",
    "    \n",
    "    fig, axs = plt.subplots(NROWS, NCOLS, figsize=(WIDTH,HEIGTH))\n",
    "\n",
    "    for df, ax, yrs, name in zip(dfs, axs.flatten(), years, names):\n",
    "        for m, c, l in meas:\n",
    "#             X = df[(df[\"DWE\"] == dwe) & (df[\"Method\"] == m)][yrs]\n",
    "            X = df[df[\"Method\"] == m][yrs]\n",
    "            \n",
    "            if truncate:\n",
    "                x, y = zip(*[(x, y) for x, y in zip(X.columns, X.values.flatten()) if not pd.isna(x) and not pd.isna(y)])\n",
    "            else: \n",
    "                x = [int(c) for c in X.columns]\n",
    "                y = X.values.flatten()\n",
    "\n",
    "            ax.plot(x, y, label=m, c=c, linestyle=l)\n",
    "            ax.set_title(name, fontsize=15)\n",
    "            ax.set_xticks(range(len(x)))\n",
    "            ax.set_xticklabels(x, rotation=35)#, ha='right')\n",
    "            #ax.set_xticks(range(len(Y)+1), labels=Y)\n",
    "        #ax.legend(loc='center right', bbox_to_anchor=(1.3, 0.5), ncols=2)\n",
    "            ax.legend()\n",
    "\n",
    "    fig.suptitle(title, fontsize=25)\n",
    "    plt.show()\n",
    "    \n",
    "    "
   ]
  },
  {
   "cell_type": "markdown",
   "metadata": {},
   "source": [
    "### SGNS"
   ]
  },
  {
   "cell_type": "code",
   "execution_count": null,
   "metadata": {},
   "outputs": [],
   "source": [
    "DWES = [\"N1_förortsgäng\", \"N1_globalist\", \"V1_berika\", \"N1_återvandring\"]\n",
    "viz_multi(\n",
    "    title = \"SGNS: Flashback\",\n",
    "    iod_data_frames = [sgns_iod]*4, \n",
    "    names = DWES,\n",
    "    dwes = DWES, \n",
    "    criteria = [{\"A-Strategy\":\"ms1\", \"B-Strategy\": \"top3\"}]*4,  \n",
    "    years = [years]*4, \n",
    "    meas = [(\"I-cnt\", \"r\", '-'), (\"O-cnt\", \"g\", '-'), (\"cnt-ssc\", \"b\", '--')], \n",
    "    truncate = True)"
   ]
  },
  {
   "cell_type": "code",
   "execution_count": null,
   "metadata": {
    "scrolled": false
   },
   "outputs": [],
   "source": [
    "DWES = [\"N1_globalist\", \"N1_globalist\"]\n",
    "viz_multi(\n",
    "    title = \"SGNS: globalist -- original & recoded\",\n",
    "    iod_data_frames = [sgns_iod, fb_sgns_G_iod], \n",
    "    names = DWES,\n",
    "    dwes = DWES, \n",
    "    criteria = [{\"A-Strategy\":\"ms1\", \"B-Strategy\": \"top3\"}]*2,  \n",
    "    years = [years]*2, \n",
    "    meas = [(\"I-cnt\", \"r\", '-'), (\"O-cnt\", \"g\", '-'), (\"cnt-ssc\", \"b\", '--')], \n",
    "    truncate = True)"
   ]
  },
  {
   "cell_type": "code",
   "execution_count": null,
   "metadata": {
    "scrolled": true
   },
   "outputs": [],
   "source": [
    "DWES = [\"N1_globalist\", \"N1_globalist\"]\n",
    "viz_multi(\n",
    "    title = \"SGNS: globalist -- original & recoded\",\n",
    "    iod_data_frames = [sgns_iod, fb_sgns_G_iod], \n",
    "    names = DWES,\n",
    "    dwes = DWES, \n",
    "    criteria = [{\"A-Strategy\":\"top3\", \"B-Strategy\": \"lazy\"}]*2,  \n",
    "    years = [years]*2, \n",
    "    meas = [(\"I-cnt\", \"r\", '-'), (\"O-cnt\", \"g\", '-'), (\"cnt-ssc\", \"b\", '--')], \n",
    "    truncate = True)"
   ]
  },
  {
   "cell_type": "code",
   "execution_count": null,
   "metadata": {
    "scrolled": true
   },
   "outputs": [],
   "source": [
    "DWES = [\"N1_globalist\", \"N1_globalist\"]\n",
    "viz_multi(\n",
    "    title = \"SGNS: globalist -- original & recoded\",\n",
    "    iod_data_frames = [fm_sgns_iod, fm_sgns_G_iod], \n",
    "    names = DWES,\n",
    "    dwes = DWES, \n",
    "    criteria = [{\"A-Strategy\":\"ms1\", \"B-Strategy\": \"top3\"}]*2,  \n",
    "    years = [fm_years]*2, \n",
    "    meas = [(\"I-cnt\", \"r\", '-'), (\"O-cnt\", \"g\", '-'), (\"cnt-ssc\", \"b\", '--')], \n",
    "    truncate = True)"
   ]
  },
  {
   "cell_type": "markdown",
   "metadata": {},
   "source": [
    "**Why has `O-cnt` changed??? Does not make any sense!**"
   ]
  },
  {
   "cell_type": "code",
   "execution_count": null,
   "metadata": {},
   "outputs": [],
   "source": [
    "DWES = [\"N1_förortsgäng\", \"N1_globalist\", \"V1_berika\", \"N1_återvandring\"]\n",
    "viz_multi(\n",
    "    title = \"SGNS: Flashback\",\n",
    "    iod_data_frames = [sgns_iod, fb_sgns_G_iod, sgns_iod, sgns_iod], \n",
    "    names = DWES,\n",
    "    dwes = DWES, \n",
    "    criteria = [{\"A-Strategy\":\"ms1\", \"B-Strategy\": \"top3\"}]*4,  \n",
    "    years = [years]*4, \n",
    "    meas = [(\"I-cnt\", \"r\", '-'), (\"O-cnt\", \"g\", '-'), (\"cnt-ssc\", \"b\", '--')], \n",
    "    truncate = True)"
   ]
  },
  {
   "cell_type": "code",
   "execution_count": null,
   "metadata": {},
   "outputs": [],
   "source": [
    "DWES = [\"N1_förortsgäng\", \"N1_globalist\", \"V1_berika\", \"N1_återvandring\"]\n",
    "viz_multi(\n",
    "    title = \"SGNS: Flashback\",\n",
    "    iod_data_frames = [sgns_iod]*4, \n",
    "    names = DWES,\n",
    "    dwes = DWES, \n",
    "    criteria = [{\"A-Strategy\":\"ms1\", \"B-Strategy\": \"top3\"}]*4,  \n",
    "    years = [years]*4, \n",
    "    meas = [(\"I-cnt\", \"r\", '-'), (\"O-cnt\", \"g\", '-'), (\"cnt-smx\", \"b\", '--')], \n",
    "    truncate = True)"
   ]
  },
  {
   "cell_type": "code",
   "execution_count": null,
   "metadata": {},
   "outputs": [],
   "source": [
    "# viz_multi(\n",
    "#     title = \"SGNS: Flashback\",\n",
    "#     iod_data_frames = [sgns_iod]*4, \n",
    "#     names = [\"V1_berika\", \"V1_kulturberika\", \"N1_berikare\", \"N1_kulturberikare\"],\n",
    "#     dwes = [\"V1_berika\", \"V1_kulturberika\", \"N1_berikare\", \"N1_kulturberikare\"], \n",
    "#     criteria = [{\"A-Strategy\":\"ms1\", \"B-Strategy\": \"top3\"}]*4,  \n",
    "#     years = [years]*4, \n",
    "#     meas = [(\"I-cnt\", \"r\", '-'), (\"O-cnt\", \"g\", '-'), (\"cnt-ssc\", \"b\", '--')], \n",
    "#     truncate = True)"
   ]
  },
  {
   "cell_type": "code",
   "execution_count": null,
   "metadata": {
    "scrolled": true
   },
   "outputs": [],
   "source": [
    "viz_multi(\n",
    "    title = \"SGNS: Flashback\",\n",
    "    iod_data_frames = [sgns_iod]*2, \n",
    "    names = [\"V1_återvandra\", \"N1_återvandring\"],\n",
    "    dwes = [\"V1_återvandra\", \"N1_återvandring\"], \n",
    "    criteria = [{\"A-Strategy\":\"ms1\", \"B-Strategy\": \"top3\"}]*2,  \n",
    "    years = [years]*2, \n",
    "    meas = [(\"I-cnt\", \"r\", '-'), (\"O-cnt\", \"g\", '-'), (\"cnt-ssc\", \"b\", '--')], \n",
    "    truncate = True)"
   ]
  },
  {
   "cell_type": "code",
   "execution_count": null,
   "metadata": {},
   "outputs": [],
   "source": [
    "DWES = [\"N1_återvandring\",\"N1_globalist\",\"V1_berika\"]*2\n",
    "\n",
    "NAMES = [f\"{corpus}: {term}\" for corpus, term in zip(DWES,[\"Flashback\"]*3 + [\"Familjeliv\"]*3)]\n",
    "#print(NAMES)\n",
    "\n",
    "viz_multi(\n",
    "    title = \"SGNS\",\n",
    "    iod_data_frames = [sgns_iod]*3 + [fm_sgns_iod]*3, \n",
    "    names = NAMES,\n",
    "    dwes = DWES, \n",
    "    criteria = [{\"A-Strategy\":\"ms1\", \"B-Strategy\": \"top3\"}]*6,  \n",
    "    years = [years]*3 + [fm_years]*3, \n",
    "    meas = [(\"I-cnt\", \"r\", '-'), (\"O-cnt\", \"g\", '-'), (\"cnt-ssc\", \"b\", '--')], \n",
    "    truncate = True,\n",
    "    ncols = 3\n",
    ")"
   ]
  },
  {
   "cell_type": "code",
   "execution_count": null,
   "metadata": {},
   "outputs": [],
   "source": [
    "DWES = [\"N1_återvandring\"]*2+[\"N1_globalist\"]*2+[\"V1_berika\"]*2\n",
    "NAMES = [f\"{corpus}: {term}\" for corpus, term in zip(DWES,[\"Flashback\", \"Familjeliv\"]*3)]\n",
    "#print(NAMES)\n",
    "\n",
    "viz_multi(\n",
    "    title = \"SGNS\",\n",
    "    iod_data_frames = [sgns_iod, fm_sgns_iod]*3, \n",
    "    names = NAMES,\n",
    "    dwes = DWES, \n",
    "    criteria = [{\"A-Strategy\":\"ms1\", \"B-Strategy\": \"top3\"}]*6,  \n",
    "    years = [years, fm_years]*3, \n",
    "    meas = [(\"I-cnt\", \"r\", '-'), (\"O-cnt\", \"g\", '-'), (\"cnt-ssc\", \"b\", '--')], \n",
    "    truncate = True)"
   ]
  },
  {
   "cell_type": "code",
   "execution_count": null,
   "metadata": {},
   "outputs": [],
   "source": [
    "DWES = [\"N1_återvandring\"]*2+[\"N1_globalist\"]*2+[\"V1_berika\"]*2\n",
    "NAMES = [f\"{corpus}: {term}\" for corpus, term in zip(DWES,[\"Flashback\", \"Familjeliv\"]*3)]\n",
    "#print(NAMES)\n",
    "\n",
    "viz_multi(\n",
    "    title = \"SGNS\",\n",
    "    iod_data_frames = [sgns_iod, fm_sgns_iod] + [fb_sgns_G_iod, fm_sgns_G_iod,] + [sgns_iod, fm_sgns_iod], \n",
    "    names = NAMES,\n",
    "    dwes = DWES, \n",
    "    criteria = [{\"A-Strategy\":\"ms1\", \"B-Strategy\": \"top3\"}]*6,  \n",
    "    years = [years, fm_years]*3, \n",
    "    meas = [(\"I-cnt\", \"r\", '-'), (\"O-cnt\", \"g\", '-'), (\"cnt-ssc\", \"b\", '--')], \n",
    "    truncate = True)"
   ]
  },
  {
   "cell_type": "code",
   "execution_count": null,
   "metadata": {},
   "outputs": [],
   "source": [
    "# viz_multi(\n",
    "#     title = \"SGNS: återvandring\",\n",
    "#     iod_data_frames = [sgns_iod, fm_sgns_iod], \n",
    "#     names = [\"Flashback\", \"Familjeliv\"],\n",
    "#     dwes = [\"N1_återvandring\"]*2, \n",
    "#     criteria = [{\"A-Strategy\":\"ms1\", \"B-Strategy\": \"top3\"}]*2,  \n",
    "#     years = [years, fm_years], \n",
    "#     meas = [(\"I-cnt\", \"r\", '-'), (\"O-cnt\", \"g\", '-'), (\"cnt-ssc\", \"b\", '--')], \n",
    "#     truncate = True)"
   ]
  },
  {
   "cell_type": "code",
   "execution_count": null,
   "metadata": {},
   "outputs": [],
   "source": [
    "# viz_multi(\n",
    "#     title = \"SGNS: globalist\",\n",
    "#     iod_data_frames = [sgns_iod, fm_sgns_iod], \n",
    "#     names = [\"Flashback\", \"Familjeliv\"],\n",
    "#     dwes = [\"N1_globalist\"]*2, \n",
    "#     criteria = [{\"A-Strategy\":\"ms1\", \"B-Strategy\": \"top3\"}]*2,  \n",
    "#     years = [years, fm_years], \n",
    "#     meas = [(\"I-cnt\", \"r\", '-'), (\"O-cnt\", \"g\", '-'), (\"cnt-ssc\", \"b\", '--')], \n",
    "#     truncate = True)"
   ]
  },
  {
   "cell_type": "code",
   "execution_count": null,
   "metadata": {},
   "outputs": [],
   "source": [
    "# viz_multi(\n",
    "#     title = \"SGNS: globalist\",\n",
    "#     iod_data_frames = [sgns_iod, fm_sgns_iod], \n",
    "#     names = [\"Flashback\", \"Familjeliv\"],\n",
    "#     dwes = [\"N1_globalist\"]*2, \n",
    "#     criteria = [{\"A-Strategy\":\"ms1\", \"B-Strategy\": \"top3\"}]*2,  \n",
    "#     years = [years, fm_years], \n",
    "#     meas = [(\"I-cnt\", \"r\", '-'), (\"O-cnt\", \"g\", '-'), (\"cnt-ssc\", \"b\", '--')], \n",
    "#     truncate = True)"
   ]
  },
  {
   "cell_type": "markdown",
   "metadata": {},
   "source": [
    "### KB"
   ]
  },
  {
   "cell_type": "code",
   "execution_count": null,
   "metadata": {},
   "outputs": [],
   "source": [
    "DWES = [\"N1_förortsgäng\", \"N1_globalist\", \"V1_berika\", \"N1_återvandring\"]\n",
    "viz_multi(\n",
    "    title = \"SBERT (KB, rn)\",\n",
    "    iod_data_frames = [kb_iod]*4, \n",
    "    names = DWES,\n",
    "    dwes = DWES, \n",
    "    criteria = [{\"A-Strategy\":\"rn\"}]*4,  \n",
    "    years = [years]*4, \n",
    "    meas = [(\"I-cnt\", \"r\", '-'), (\"O-cnt\", \"g\", '-'), (\"cnt-ssc\", \"b\", '--')], \n",
    "    truncate = True)"
   ]
  },
  {
   "cell_type": "code",
   "execution_count": null,
   "metadata": {},
   "outputs": [],
   "source": [
    "DWES = [\"N1_globalist\", \"N1_globalist\"]\n",
    "viz_multi(\n",
    "    title = \"globalist: original & recoded:  FB, SBERT (KB, rn): \",\n",
    "    iod_data_frames = [kb_iod, fb_kb_G_iod], \n",
    "    names = DWES,\n",
    "    dwes = DWES, \n",
    "    criteria = [{\"A-Strategy\":\"rn\"}]*2,  \n",
    "    years = [years]*2, \n",
    "    meas = [(\"I-cnt\", \"r\", '-'), (\"O-cnt\", \"g\", '-'), (\"cnt-ssc\", \"b\", '--')], \n",
    "    truncate = True)"
   ]
  },
  {
   "cell_type": "markdown",
   "metadata": {},
   "source": [
    "**Here, `O-cnt` are identical!**"
   ]
  },
  {
   "cell_type": "code",
   "execution_count": null,
   "metadata": {},
   "outputs": [],
   "source": [
    "DWES = [\"N1_förortsgäng\", \"N1_globalist\", \"V1_berika\", \"N1_återvandring\"]\n",
    "viz_multi(\n",
    "    title = \"SBERT (KB, top3)\",\n",
    "    iod_data_frames = [kb_iod]*4, \n",
    "    names = DWES,\n",
    "    dwes = DWES, \n",
    "    criteria = [{\"A-Strategy\":\"top3\"}]*4,  \n",
    "    years = [years]*4, \n",
    "    meas = [(\"I-cnt\", \"r\", '-'), (\"O-cnt\", \"g\", '-'), (\"cnt-ssc\", \"b\", '--')], \n",
    "    truncate = True)"
   ]
  },
  {
   "cell_type": "code",
   "execution_count": null,
   "metadata": {},
   "outputs": [],
   "source": [
    "# DWES = [\"N1_förortsgäng\", \"N1_globalist\", \"V1_berika\", \"N1_återvandring\"]\n",
    "# viz_multi(\n",
    "#     title = \"SBERT (KB, ms1)\",\n",
    "#     iod_data_frames = [kb_iod]*4, \n",
    "#     names = DWES,\n",
    "#     dwes = DWES, \n",
    "#     criteria = [{\"A-Strategy\":\"ms1\"}]*4,  \n",
    "#     years = [years]*4, \n",
    "#     meas = [(\"I-cnt\", \"r\", '-'), (\"O-cnt\", \"g\", '-'), (\"cnt-ssc\", \"b\", '--')], \n",
    "#     truncate = True)"
   ]
  },
  {
   "cell_type": "code",
   "execution_count": null,
   "metadata": {},
   "outputs": [],
   "source": [
    "DWES = [\"N1_återvandring\",\"N1_globalist\",\"V1_berika\"]*2\n",
    "\n",
    "NAMES = [f\"{corpus}: {term}\" for corpus, term in zip(DWES,[\"Flashback\"]*3 + [\"Familjeliv\"]*3)]\n",
    "#print(NAMES)\n",
    "\n",
    "viz_multi(\n",
    "    title = \"SBERT (KB)\",\n",
    "    iod_data_frames = [kb_iod]*3 + [fm_kb_iod]*3, \n",
    "    names = NAMES,\n",
    "    dwes = DWES, \n",
    "    criteria = [{\"A-Strategy\":\"rn\"}]*6,  \n",
    "    years = [years]*3 + [fm_years]*3, \n",
    "    meas = [(\"I-cnt\", \"r\", '-'), (\"O-cnt\", \"g\", '-'), (\"cnt-ssc\", \"b\", '--')], \n",
    "    truncate = True,\n",
    "    ncols = 3\n",
    ")"
   ]
  },
  {
   "cell_type": "code",
   "execution_count": null,
   "metadata": {},
   "outputs": [],
   "source": [
    "DWES = [\"N1_återvandring\"]*2+[\"N1_globalist\"]*2+[\"V1_berika\"]*2\n",
    "NAMES = [f\"{corpus}: {term}\" for corpus, term in zip(DWES,[\"Flashback\", \"Familjeliv\"]*3)]\n",
    "\n",
    "viz_multi(\n",
    "    title = \"\",\n",
    "    iod_data_frames = [kb_iod, fm_kb_iod]*3, \n",
    "    names = NAMES,\n",
    "    dwes = DWES, \n",
    "    criteria = [{\"A-Strategy\":\"rn\"}]*6,  \n",
    "    years = [years, fm_years]*3, \n",
    "    meas = [(\"I-cnt\", \"r\", '-'), (\"O-cnt\", \"g\", '-'), (\"cnt-ssc\", \"b\", '--')], \n",
    "    truncate = True,\n",
    "    ncols = 2\n",
    ")"
   ]
  },
  {
   "cell_type": "code",
   "execution_count": null,
   "metadata": {},
   "outputs": [],
   "source": []
  },
  {
   "cell_type": "code",
   "execution_count": null,
   "metadata": {
    "scrolled": false
   },
   "outputs": [],
   "source": [
    "# DWES = [\"N1_förortsgäng\", \"N1_globalist\", \"V1_berika\", \"N1_återvandring\"]\n",
    "# viz_multi(\n",
    "#     title = \"SBERT (STS)\",\n",
    "#     iod_data_frames = [sts_iod]*4, \n",
    "#     names = DWES,\n",
    "#     dwes = DWES, \n",
    "#     criteria = [{\"A-Strategy\":\"rn\"}]*4,  \n",
    "#     years = [years]*4, \n",
    "#     meas = [(\"I-cnt\", \"r\", '-'), (\"O-cnt\", \"g\", '-'), (\"cnt-ssc\", \"b\", '--')], \n",
    "#     truncate = True)"
   ]
  },
  {
   "cell_type": "code",
   "execution_count": null,
   "metadata": {},
   "outputs": [],
   "source": []
  },
  {
   "cell_type": "code",
   "execution_count": null,
   "metadata": {
    "scrolled": true
   },
   "outputs": [],
   "source": [
    "#viz(sgns_iod, \"N1_återvandring\", {\"A-Strategy\":\"ms1\", \"B-Strategy\": \"top3\"}, years)"
   ]
  },
  {
   "cell_type": "code",
   "execution_count": null,
   "metadata": {
    "scrolled": true
   },
   "outputs": [],
   "source": [
    "#viz(fm_sgns_iod, \"N1_återvandring\", {\"A-Strategy\":\"ms1\", \"B-Strategy\": \"top3\"}, fm_years)"
   ]
  },
  {
   "cell_type": "code",
   "execution_count": null,
   "metadata": {},
   "outputs": [],
   "source": [
    "#viz(sts_iod, \"N1_återvandring\", {\"A-Strategy\":\"ms1\"}, years)"
   ]
  },
  {
   "cell_type": "code",
   "execution_count": null,
   "metadata": {
    "scrolled": true
   },
   "outputs": [],
   "source": [
    "#viz(sgns_iod, \"N1_förortsgäng\", {\"A-Strategy\":\"ms1\", \"B-Strategy\": \"top3\"}, years)"
   ]
  },
  {
   "cell_type": "code",
   "execution_count": null,
   "metadata": {
    "scrolled": true
   },
   "outputs": [],
   "source": [
    "#viz(sts_iod, \"N1_förortsgäng\", {\"A-Strategy\":\"top3\"}, years)"
   ]
  },
  {
   "cell_type": "code",
   "execution_count": null,
   "metadata": {
    "scrolled": true
   },
   "outputs": [],
   "source": [
    "#viz(sgns_iod, \"N1_globalist\", {\"A-Strategy\":\"ms1\", \"B-Strategy\": \"top3\"}, years)"
   ]
  },
  {
   "cell_type": "code",
   "execution_count": null,
   "metadata": {
    "scrolled": true
   },
   "outputs": [],
   "source": [
    "#viz(sts_iod, \"N1_globalist\", {\"A-Strategy\":\"top3\"}, years)"
   ]
  },
  {
   "cell_type": "code",
   "execution_count": null,
   "metadata": {
    "scrolled": false
   },
   "outputs": [],
   "source": [
    "#viz(sgns_iod, \"V1_berika\", {\"A-Strategy\":\"ms1\", \"B-Strategy\": \"top3\"}, years)"
   ]
  },
  {
   "cell_type": "code",
   "execution_count": null,
   "metadata": {
    "scrolled": true
   },
   "outputs": [],
   "source": [
    "#viz(kb_iod, \"V1_berika\", {\"A-Strategy\":\"ms1\"}, years)"
   ]
  },
  {
   "cell_type": "code",
   "execution_count": null,
   "metadata": {
    "scrolled": true
   },
   "outputs": [],
   "source": [
    "#viz(sgns_iod, \"N1_berikare\", {\"A-Strategy\":\"ms1\", \"B-Strategy\": \"top3\"}, years)"
   ]
  },
  {
   "cell_type": "code",
   "execution_count": null,
   "metadata": {
    "scrolled": true
   },
   "outputs": [],
   "source": [
    "#viz(sts_iod, \"N1_berikare\", {\"A-Strategy\":\"rn\"}, years)"
   ]
  },
  {
   "cell_type": "markdown",
   "metadata": {},
   "source": [
    "## ... ingroupness in FB and  FL"
   ]
  },
  {
   "cell_type": "code",
   "execution_count": null,
   "metadata": {},
   "outputs": [],
   "source": [
    "fm_sgns_lsc.index"
   ]
  },
  {
   "cell_type": "code",
   "execution_count": null,
   "metadata": {},
   "outputs": [],
   "source": [
    "def t(iodA, yA, iodB, yB, dwes, criterion, method, collapse = False, ks=False, drop_from_results=[\"alternative\",\"BF10\", \"power\"]):\n",
    "    \n",
    "    dfA = iodA.copy()\n",
    "    dfB = iodB.copy()\n",
    "    \n",
    "    criterion[\"Method\"] = method\n",
    "    \n",
    "    for var, val in criterion.items():\n",
    "        dfA = dfA[dfA[var]==val]\n",
    "        dfB = dfB[dfB[var]==val]\n",
    "    \n",
    "    dfA.set_index(\"DWE\", inplace=True)\n",
    "    dfB.set_index(\"DWE\", inplace=True)\n",
    "    \n",
    "    dfA = dfA.loc[dwes]\n",
    "    dfB = dfB.loc[dwes]\n",
    "    \n",
    "    dfA = dfA[yA]\n",
    "    dfB = dfB[yB]\n",
    "    \n",
    "    if collapse:\n",
    "        A = dfA.values.flatten()\n",
    "        B = dfB.values.flatten()\n",
    "        if ks:\n",
    "            return ks_2samp(A,B)\n",
    "        results = pg.ttest(A,B)\n",
    "        for exclude in drop_from_results:\n",
    "            results.drop(exclude, axis=1, inplace=True)\n",
    "            \n",
    "        results[\"M_A\"] = np.nanmean(A) \n",
    "        results[\"M_B\"] = np.nanmean(B)\n",
    "        results[\"N_A\"] = len([a for a in A if not pd.isna(a)])\n",
    "        results[\"N_B\"] = len([b for b in B if not pd.isna(b)])\n",
    "        return results\n",
    "    else:\n",
    "        results = []\n",
    "        for dwe in dwes:\n",
    "            A = dfA.loc[dwe].values.flatten()\n",
    "            B = dfB.loc[dwe].values.flatten()\n",
    "            result = pg.ttest(A,B)\n",
    "            for exclude in drop_from_results:\n",
    "                result.drop(exclude, axis=1, inplace=True)\n",
    "            \n",
    "            result[\"Term\"] = dwe\n",
    "            result[\"M_A\"] = np.nanmean(A)\n",
    "            result[\"sd_A\"] = np.nanstd(A)\n",
    "            result[\"N_A\"] = len([a for a in A if not pd.isna(a)])\n",
    "            result[\"M_B\"] = np.nanmean(B)\n",
    "            result[\"sd_B\"] = np.nanstd(B)            \n",
    "            result[\"N_B\"] = len([b for b in B if not pd.isna(b)])\n",
    "            results.append(result)\n",
    "        results = pd.concat(results)\n",
    "        results.set_index(\"Term\", inplace=True)\n",
    "        return results.round(3)\n",
    "            \n",
    "    "
   ]
  },
  {
   "cell_type": "markdown",
   "metadata": {},
   "source": [
    "### SGNS"
   ]
  },
  {
   "cell_type": "code",
   "execution_count": null,
   "metadata": {
    "scrolled": false
   },
   "outputs": [],
   "source": [
    "results = t(\n",
    "    sgns_iod, \n",
    "    years, \n",
    "    fm_sgns_iod, \n",
    "    fm_years, \n",
    "    fm_sgns_lsc.index, \n",
    "    {\"A-Strategy\":\"ms1\", \"B-Strategy\": \"top3\"},\n",
    "    \"cnt-smx\",\n",
    "    collapse=False,\n",
    "    #ks=True\n",
    ")\n",
    "#print(results.to_latex(float_format=\"{:.3f}\".format))\n",
    "results"
   ]
  },
  {
   "cell_type": "code",
   "execution_count": null,
   "metadata": {},
   "outputs": [],
   "source": [
    "results = t(\n",
    "    fb_sgns_G_iod, \n",
    "    years, \n",
    "    fm_sgns_G_iod, \n",
    "    fm_years, \n",
    "    [\"N1_globalist\"], \n",
    "    {\"A-Strategy\":\"ms1\", \"B-Strategy\": \"top3\"},\n",
    "    \"cnt-smx\",\n",
    "    collapse=False,\n",
    "    #ks=True\n",
    ")\n",
    "#print(results.to_latex(float_format=\"{:.3f}\".format))\n",
    "results"
   ]
  },
  {
   "cell_type": "code",
   "execution_count": null,
   "metadata": {},
   "outputs": [],
   "source": [
    "results = t(\n",
    "    fb_sgns_G_iod, \n",
    "    years, \n",
    "    fm_sgns_G_iod, \n",
    "    fm_years, \n",
    "    [\"N1_globalist\"], \n",
    "    {\"A-Strategy\":\"top3\", \"B-Strategy\": \"min0.2\"},\n",
    "    \"I-cnt\",\n",
    "    collapse=False,\n",
    "    #ks=True\n",
    ")\n",
    "#print(results.to_latex(float_format=\"{:.3f}\".format))\n",
    "results"
   ]
  },
  {
   "cell_type": "markdown",
   "metadata": {},
   "source": [
    "For every combination, GLOABLIST is more ingroup in familjeliv! "
   ]
  },
  {
   "cell_type": "code",
   "execution_count": null,
   "metadata": {
    "scrolled": false
   },
   "outputs": [],
   "source": [
    "t(\n",
    "    sgns_iod, \n",
    "    years, \n",
    "    fm_sgns_iod, \n",
    "    fm_years, \n",
    "    fm_sgns_lsc.index, \n",
    "    {\"A-Strategy\":\"ms1\", \"B-Strategy\": \"top3\"},\n",
    "    \"cnt-ssc\",\n",
    "    collapse=False,\n",
    "    #ks=True\n",
    ")"
   ]
  },
  {
   "cell_type": "code",
   "execution_count": null,
   "metadata": {
    "scrolled": false
   },
   "outputs": [],
   "source": [
    "t(\n",
    "    sgns_iod, \n",
    "    years, \n",
    "    fm_sgns_iod, \n",
    "    fm_years, \n",
    "    fm_sgns_lsc.index, \n",
    "    {\"A-Strategy\":\"ms1\", \"B-Strategy\": \"top3\"},\n",
    "    \"pwn-smx\",\n",
    "    collapse=False,\n",
    "    #ks=True\n",
    ")"
   ]
  },
  {
   "cell_type": "markdown",
   "metadata": {},
   "source": [
    "**Obs!** `V1_återvandra`"
   ]
  },
  {
   "cell_type": "code",
   "execution_count": null,
   "metadata": {
    "scrolled": false
   },
   "outputs": [],
   "source": [
    "t(\n",
    "    sgns_iod, \n",
    "    years, \n",
    "    fm_sgns_iod, \n",
    "    fm_years, \n",
    "    fm_sgns_lsc.index, \n",
    "    {\"A-Strategy\":\"ms1\", \"B-Strategy\": \"top3\"},\n",
    "    \"pwn-ssc\",\n",
    "    collapse=False,\n",
    "    #ks=True\n",
    ")"
   ]
  },
  {
   "cell_type": "markdown",
   "metadata": {},
   "source": [
    "**Obs!** `V1_återvandra`"
   ]
  },
  {
   "cell_type": "markdown",
   "metadata": {},
   "source": [
    "### KB"
   ]
  },
  {
   "cell_type": "code",
   "execution_count": null,
   "metadata": {},
   "outputs": [],
   "source": [
    "set(kb_iod[\"A-Strategy\"])"
   ]
  },
  {
   "cell_type": "code",
   "execution_count": null,
   "metadata": {},
   "outputs": [],
   "source": [
    "results = t(\n",
    "    kb_iod, \n",
    "    years, \n",
    "    fm_kb_iod, \n",
    "    fm_years, \n",
    "    fm_sgns_lsc.index, \n",
    "    {\"A-Strategy\":\"rn\"},\n",
    "    \"cnt-smx\",\n",
    "    collapse=False,\n",
    "    #ks=True\n",
    ")\n",
    "#print(results.to_latex(float_format=\"{:.3f}\".format))\n",
    "results"
   ]
  },
  {
   "cell_type": "code",
   "execution_count": null,
   "metadata": {},
   "outputs": [],
   "source": [
    "results = t(\n",
    "    kb_iod, \n",
    "    years, \n",
    "    fm_kb_iod, \n",
    "    fm_years, \n",
    "    fm_sgns_lsc.index, \n",
    "    {\"A-Strategy\":\"ms1\"},\n",
    "    \"cnt-ssc\",\n",
    "    collapse=False,\n",
    "    #ks=True\n",
    ")\n",
    "#print(results.to_latex(float_format=\"{:.3f}\".format))\n",
    "results"
   ]
  },
  {
   "cell_type": "code",
   "execution_count": null,
   "metadata": {},
   "outputs": [],
   "source": [
    "# results = t(\n",
    "#     fb_kb_G_iod, \n",
    "#     years, \n",
    "#     fm_kb_G_iod, \n",
    "#     fm_years, \n",
    "#     fm_sgns_lsc.index, \n",
    "#     {\"A-Strategy\":\"rn\"},\n",
    "#     \"cnt-smx\",\n",
    "#     collapse=False,\n",
    "#     #ks=True\n",
    "# )\n",
    "# #print(results.to_latex(float_format=\"{:.3f}\".format))\n",
    "# results"
   ]
  },
  {
   "cell_type": "code",
   "execution_count": null,
   "metadata": {},
   "outputs": [],
   "source": [
    "t(\n",
    "    kb_iod, \n",
    "    years, \n",
    "    fm_kb_iod, \n",
    "    fm_years, \n",
    "    fm_sgns_lsc.index, \n",
    "    {\"A-Strategy\":\"rn\"},\n",
    "    \"cnt-ssc\",\n",
    "    collapse=False,\n",
    "    #ks=True\n",
    ")"
   ]
  },
  {
   "cell_type": "code",
   "execution_count": null,
   "metadata": {},
   "outputs": [],
   "source": [
    "t(\n",
    "    kb_iod, \n",
    "    years, \n",
    "    fm_kb_iod, \n",
    "    fm_years, \n",
    "    fm_sgns_lsc.index, \n",
    "    {\"A-Strategy\":\"rn\"},\n",
    "    \"pwn-smx\",\n",
    "    collapse=False,\n",
    "    #ks=True\n",
    ")"
   ]
  },
  {
   "cell_type": "code",
   "execution_count": null,
   "metadata": {},
   "outputs": [],
   "source": [
    "t(\n",
    "    fb_kb_G_iod, \n",
    "    years, \n",
    "    fm_kb_G_iod, \n",
    "    fm_years, \n",
    "    [\"N1_globalist\"], \n",
    "    {\"A-Strategy\":\"ms1\"},\n",
    "    \"pwn-ssc\",\n",
    "    collapse=False,\n",
    "    #ks=True\n",
    ")"
   ]
  },
  {
   "cell_type": "code",
   "execution_count": null,
   "metadata": {},
   "outputs": [],
   "source": []
  },
  {
   "cell_type": "code",
   "execution_count": null,
   "metadata": {},
   "outputs": [],
   "source": []
  },
  {
   "cell_type": "markdown",
   "metadata": {},
   "source": [
    "## Correlation"
   ]
  },
  {
   "cell_type": "code",
   "execution_count": null,
   "metadata": {
    "scrolled": true
   },
   "outputs": [],
   "source": [
    "d = sgns_iod[sgns_iod[\"DWE\"] == \"V1_berika\"][years].transpose().corr()\n",
    "\n",
    "plt.imshow(d, cmap=plt.cm.rainbow, interpolation='nearest')\n",
    "plt.colorbar()\n",
    "plt.show()"
   ]
  },
  {
   "cell_type": "code",
   "execution_count": null,
   "metadata": {},
   "outputs": [],
   "source": [
    "def compare(iod_data, term, criterion, method=pearsonr, years = years, add_mean=False):\n",
    "    \n",
    "    used = years + list(criterion.keys()) + [\"DWE\"]\n",
    "    remains = [col for col in iod_data.columns if col not in used]\n",
    "    #print(remains)\n",
    "\n",
    "    df = iod_data.copy()\n",
    "    df = df[df[\"DWE\"] == term]\n",
    "    \n",
    "    if type(criterion) == dict:\n",
    "        criterion = criterion.items()\n",
    "    for var, val in criterion:\n",
    "        df = df[df[var]==val]\n",
    "    \n",
    "    df = df[years]\n",
    "    \n",
    "    #return df\n",
    "    \n",
    "    labels = [\"-\".join(iod_data.loc[i][remains].to_list()) for i in df.index]\n",
    "    \n",
    "    df[\"labels\"] = labels\n",
    "    df = df.set_index(\"labels\")\n",
    "    \n",
    "    correlations = df.transpose().corr().round(3)\n",
    "    \n",
    "    if add_mean:\n",
    "        correlations[\"Mean\"] = correlations.mean(axis=1)\n",
    "    \n",
    "    return correlations\n",
    "    \n",
    "#     plt.imshow(correlations, cmap=plt.cm.rainbow, interpolation='nearest')\n",
    "#     plt.colorbar()\n",
    "#     plt.show()\n",
    "    "
   ]
  },
  {
   "cell_type": "code",
   "execution_count": null,
   "metadata": {
    "scrolled": true
   },
   "outputs": [],
   "source": [
    "#sgns_iod"
   ]
  },
  {
   "cell_type": "code",
   "execution_count": null,
   "metadata": {},
   "outputs": [],
   "source": [
    "#fm_sgns_iod"
   ]
  },
  {
   "cell_type": "code",
   "execution_count": null,
   "metadata": {},
   "outputs": [],
   "source": [
    "compare(iod_data=sgns_iod, term=\"V1_berika\", criterion={\"A-Strategy\":\"ms1\", \"B-Strategy\": \"top3\"}, years=years)"
   ]
  },
  {
   "cell_type": "code",
   "execution_count": null,
   "metadata": {},
   "outputs": [],
   "source": [
    "# x =  fm_sgns_iod.drop(\"2022\", axis=1)\n",
    "# compare(iod_data=x, term=\"V1_berika\", criterion={\"A-Strategy\":\"ms1\", \"B-Strategy\": \"top3\"}, years=fm_years)"
   ]
  },
  {
   "cell_type": "markdown",
   "metadata": {},
   "source": [
    "## Correlation of Selection Strategies"
   ]
  },
  {
   "cell_type": "markdown",
   "metadata": {},
   "source": [
    "### SGNS"
   ]
  },
  {
   "cell_type": "markdown",
   "metadata": {},
   "source": [
    "#### Återvandring"
   ]
  },
  {
   "cell_type": "code",
   "execution_count": null,
   "metadata": {},
   "outputs": [],
   "source": [
    "compare(iod_data=sgns_iod, term=\"N1_återvandring\", criterion={\"Method\":\"I-cnt\"}, add_mean=True)"
   ]
  },
  {
   "cell_type": "code",
   "execution_count": null,
   "metadata": {},
   "outputs": [],
   "source": [
    "compare(iod_data=sgns_iod, term=\"N1_återvandring\", criterion={\"Method\":\"cnt-ssc\"}, add_mean=True)"
   ]
  },
  {
   "cell_type": "code",
   "execution_count": null,
   "metadata": {},
   "outputs": [],
   "source": [
    "compare(iod_data=sgns_iod, term=\"N1_återvandring\", criterion={\"Method\":\"I-cnt\", \"A-Strategy\":\"ms1\"}, add_mean=True)"
   ]
  },
  {
   "cell_type": "code",
   "execution_count": null,
   "metadata": {
    "scrolled": false
   },
   "outputs": [],
   "source": [
    "compare(iod_data=sgns_iod, term=\"N1_återvandring\", criterion={\"Method\":\"I-cnt\", \"A-Strategy\": \"top3\"})"
   ]
  },
  {
   "cell_type": "markdown",
   "metadata": {},
   "source": [
    "#### Berika"
   ]
  },
  {
   "cell_type": "code",
   "execution_count": null,
   "metadata": {},
   "outputs": [],
   "source": [
    "compare(iod_data=sgns_iod, term=\"V1_berika\", criterion={\"Method\":\"I-cnt\"}, add_mean=True)"
   ]
  },
  {
   "cell_type": "code",
   "execution_count": null,
   "metadata": {
    "scrolled": true
   },
   "outputs": [],
   "source": [
    "compare(iod_data=sgns_iod, term=\"V1_berika\", criterion={\"Method\":\"I-cnt\", \"A-Strategy\":\"ms1\"}, add_mean=True)"
   ]
  },
  {
   "cell_type": "code",
   "execution_count": null,
   "metadata": {
    "scrolled": false
   },
   "outputs": [],
   "source": [
    "compare(iod_data=sgns_iod, term=\"V1_berika\", criterion={\"Method\":\"I-cnt\", \"A-Strategy\": \"top3\"})"
   ]
  },
  {
   "cell_type": "markdown",
   "metadata": {},
   "source": [
    "##### Kulturberika"
   ]
  },
  {
   "cell_type": "code",
   "execution_count": null,
   "metadata": {},
   "outputs": [],
   "source": [
    "compare(iod_data=sgns_iod, term=\"V1_kulturberika\", criterion={\"Method\":\"I-cnt\"}, add_mean=True)"
   ]
  },
  {
   "cell_type": "code",
   "execution_count": null,
   "metadata": {
    "scrolled": true
   },
   "outputs": [],
   "source": [
    "compare(iod_data=sgns_iod, term=\"V1_kulturberika\", criterion={\"Method\":\"I-cnt\", \"A-Strategy\":\"ms1\"}, add_mean=True)"
   ]
  },
  {
   "cell_type": "code",
   "execution_count": null,
   "metadata": {
    "scrolled": false
   },
   "outputs": [],
   "source": [
    "compare(iod_data=sgns_iod, term=\"V1_kulturberika\", criterion={\"Method\":\"I-cnt\", \"A-Strategy\": \"top3\"})"
   ]
  },
  {
   "cell_type": "markdown",
   "metadata": {},
   "source": [
    "#### Förortsgäng"
   ]
  },
  {
   "cell_type": "code",
   "execution_count": null,
   "metadata": {},
   "outputs": [],
   "source": [
    "compare(iod_data=sgns_iod, term=\"N1_förortsgäng\", criterion={\"Method\":\"I-cnt\"}, add_mean=True)"
   ]
  },
  {
   "cell_type": "code",
   "execution_count": null,
   "metadata": {
    "scrolled": true
   },
   "outputs": [],
   "source": [
    "compare(iod_data=sgns_iod, term=\"N1_förortsgäng\", criterion={\"Method\":\"I-cnt\", \"A-Strategy\":\"ms1\"}, add_mean=True)"
   ]
  },
  {
   "cell_type": "code",
   "execution_count": null,
   "metadata": {
    "scrolled": false
   },
   "outputs": [],
   "source": [
    "compare(iod_data=sgns_iod, term=\"N1_förortsgäng\", criterion={\"Method\":\"I-cnt\", \"A-Strategy\": \"top3\"})"
   ]
  },
  {
   "cell_type": "markdown",
   "metadata": {},
   "source": [
    "#### Globalist"
   ]
  },
  {
   "cell_type": "code",
   "execution_count": null,
   "metadata": {},
   "outputs": [],
   "source": [
    "compare(iod_data=sgns_iod, term=\"N1_globalist\", criterion={\"Method\":\"I-cnt\"}, add_mean=True)"
   ]
  },
  {
   "cell_type": "code",
   "execution_count": null,
   "metadata": {},
   "outputs": [],
   "source": [
    "compare(iod_data=sgns_iod, term=\"N1_globalist\", criterion={\"Method\":\"cnt-ssc\"}, add_mean=True)"
   ]
  },
  {
   "cell_type": "code",
   "execution_count": null,
   "metadata": {
    "scrolled": true
   },
   "outputs": [],
   "source": [
    "compare(iod_data=sgns_iod, term=\"N1_globalist\", criterion={\"Method\":\"I-cnt\", \"A-Strategy\":\"ms1\"}, add_mean=True)"
   ]
  },
  {
   "cell_type": "code",
   "execution_count": null,
   "metadata": {
    "scrolled": false
   },
   "outputs": [],
   "source": [
    "compare(iod_data=sgns_iod, term=\"N1_globalist\", criterion={\"Method\":\"I-cnt\", \"A-Strategy\": \"top3\"})"
   ]
  },
  {
   "cell_type": "markdown",
   "metadata": {},
   "source": [
    "## Correlation of *I* and *O*"
   ]
  },
  {
   "cell_type": "markdown",
   "metadata": {},
   "source": [
    "Ingroup and outgroup are to a large extent correlated. For the SGNS models this is kind of expected given the semantic space the embeddings are trained in. For the SBERT-KB models this is more surprising. "
   ]
  },
  {
   "cell_type": "markdown",
   "metadata": {},
   "source": [
    "### SGNS - Flashback"
   ]
  },
  {
   "cell_type": "code",
   "execution_count": null,
   "metadata": {
    "scrolled": true
   },
   "outputs": [],
   "source": [
    "correlations = []\n",
    "for term in fm_sgns_lsc.index:\n",
    "    r = compare(iod_data=sgns_iod, term=term, criterion={\"A-Strategy\":\"ms1\", \"B-Strategy\": \"top3\"}, years=years)\n",
    "    score = r.loc[\"I-cnt\"][\"O-cnt\"]\n",
    "    correlations.append(score)\n",
    "df1 = pd.DataFrame(correlations, index = fm_sgns_lsc.index, columns = [\"r-sgns-fb\"])\n",
    "df1"
   ]
  },
  {
   "cell_type": "code",
   "execution_count": null,
   "metadata": {
    "scrolled": true
   },
   "outputs": [],
   "source": [
    "correlations = []\n",
    "for term in fm_sgns_lsc.index:\n",
    "    r = compare(iod_data=sgns_iod, term=term, criterion={\"A-Strategy\":\"top3\", \"B-Strategy\": \"lazy\"}, years=years)\n",
    "    score = r.loc[\"I-cnt\"][\"O-cnt\"]\n",
    "    correlations.append(score)\n",
    "df1 = pd.DataFrame(correlations, index = fm_sgns_lsc.index, columns = [\"r-sgns-fb\"])\n",
    "df1"
   ]
  },
  {
   "cell_type": "markdown",
   "metadata": {},
   "source": [
    "### SGNS - Familjeliv"
   ]
  },
  {
   "cell_type": "code",
   "execution_count": null,
   "metadata": {
    "scrolled": true
   },
   "outputs": [],
   "source": [
    "x = fm_sgns_iod.drop(\"2022\", axis=1)\n",
    "correlations = []\n",
    "\n",
    "for term in fm_sgns_lsc.index:\n",
    "    r = compare(iod_data=x, term=term, criterion={\"A-Strategy\":\"ms1\", \"B-Strategy\": \"top3\"}, years=fm_years)\n",
    "    score = r.loc[\"I-cnt\"][\"O-cnt\"]\n",
    "    correlations.append(score)\n",
    "df2 = pd.DataFrame(correlations, index = fm_sgns_lsc.index, columns = [\"r-sgns-fl\"])\n",
    "df2"
   ]
  },
  {
   "cell_type": "markdown",
   "metadata": {},
   "source": [
    "### SBERT - Flashback"
   ]
  },
  {
   "cell_type": "code",
   "execution_count": null,
   "metadata": {
    "scrolled": true
   },
   "outputs": [],
   "source": [
    "correlations = []\n",
    "for term in fm_sgns_lsc.index:\n",
    "    r = compare(iod_data=kb_iod, term=term, criterion={\"A-Strategy\":\"rn\"}, years=years)\n",
    "    score = r.loc[\"I-cnt\"][\"O-cnt\"]\n",
    "    correlations.append(score)\n",
    "df3 = pd.DataFrame(correlations, index = fm_sgns_lsc.index, columns = [\"r-sbert-fb\"])\n",
    "df3"
   ]
  },
  {
   "cell_type": "code",
   "execution_count": null,
   "metadata": {
    "scrolled": true
   },
   "outputs": [],
   "source": [
    "correlations = []\n",
    "for term in fm_sgns_lsc.index:\n",
    "    r = compare(iod_data=kb_iod, term=term, criterion={\"A-Strategy\":\"top3\"}, years=years)\n",
    "    score = r.loc[\"I-cnt\"][\"O-cnt\"]\n",
    "    correlations.append(score)\n",
    "df3 = pd.DataFrame(correlations, index = fm_sgns_lsc.index, columns = [\"r-sbert-fb\"])\n",
    "df3"
   ]
  },
  {
   "cell_type": "markdown",
   "metadata": {},
   "source": [
    "STS:"
   ]
  },
  {
   "cell_type": "code",
   "execution_count": null,
   "metadata": {
    "scrolled": true
   },
   "outputs": [],
   "source": [
    "correlations = []\n",
    "for term in fm_sgns_lsc.index:\n",
    "    r = compare(iod_data=sts_iod, term=term, criterion={\"A-Strategy\":\"rn\"}, years=years)\n",
    "    score = r.loc[\"I-cnt\"][\"O-cnt\"]\n",
    "    correlations.append(score)\n",
    "df3 = pd.DataFrame(correlations, index = fm_sgns_lsc.index, columns = [\"r-sbert-fb\"])\n",
    "df3"
   ]
  },
  {
   "cell_type": "markdown",
   "metadata": {},
   "source": [
    "### SBERT - Familjeliv"
   ]
  },
  {
   "cell_type": "code",
   "execution_count": null,
   "metadata": {
    "scrolled": true
   },
   "outputs": [],
   "source": [
    "#x = fm_kb_iod.drop(\"2022\", axis=1)\n",
    "correlations = []\n",
    "\n",
    "for term in fm_sgns_lsc.index:\n",
    "    r = compare(iod_data=fm_kb_iod, term=term, criterion={\"A-Strategy\":\"rn\"}, years=fm_years)\n",
    "    score = r.loc[\"I-cnt\"][\"O-cnt\"]\n",
    "    correlations.append(score)\n",
    "df4 = pd.DataFrame(correlations, index = fm_sgns_lsc.index, columns = [\"r-sbert-fl\"])\n",
    "df4"
   ]
  },
  {
   "cell_type": "code",
   "execution_count": null,
   "metadata": {},
   "outputs": [],
   "source": [
    "print(pd.concat([df1, df2, df3, df4], axis=1).to_latex(float_format=\"{:.3f}\".format))"
   ]
  },
  {
   "cell_type": "markdown",
   "metadata": {},
   "source": [
    "## Correlation external variables"
   ]
  },
  {
   "cell_type": "code",
   "execution_count": null,
   "metadata": {},
   "outputs": [],
   "source": [
    "def correlation(\n",
    "    iod_data, \n",
    "    iod_var, \n",
    "    lsc_data, \n",
    "    lsc_var, \n",
    "    norm_iod = None,\n",
    "    norm_lsc = None,\n",
    "    method=pearsonr, \n",
    "    only_sign = True, \n",
    "    years = years,\n",
    "    difference = False,\n",
    "    baseline = \"first\" # first or second year of pair (t_i, t_j)\n",
    "):\n",
    "    \n",
    "    results = []\n",
    "    \n",
    "    if type(iod_var) == dict:\n",
    "        iod_var = iod_var.items()\n",
    "        \n",
    "    X = iod_data.copy()\n",
    "    for var, val in iod_var:\n",
    "        X = X[X[var]==val]\n",
    "    \n",
    "    if lsc_var == \"fpm\":\n",
    "        X = X[[str(y) for y in years]]\n",
    "    else:\n",
    "        if difference:\n",
    "#             transitions = [f\"{str(year)[2:]}:{str(int(year)+1)[2:]}\" for year in years[:-1]]\n",
    "            transitions = [f\"{str(year)}:{str(int(year)+1)}\" for year in years[:-1]]\n",
    "            X = X[transitions]\n",
    "        else:\n",
    "            if baseline == \"first\":\n",
    "                X = X[[str(y) for y in years[:-1]]]\n",
    "            if baseline == \"second\":\n",
    "                X = X[[str(y) for y in years[1:]]]\n",
    "   \n",
    "    col = [v for v in lsc_data.columns if v.startswith(lsc_var)]\n",
    "    #col = [v for v in lsc_data.columns if v.startswith(lsc_var)][:-1]\n",
    "    \n",
    "#     for a, b, in zip(X.columns, col):\n",
    "#         print(a, b)\n",
    "#     print(\"----\")\n",
    "    \n",
    "    idx = []\n",
    "    for i in X.index:\n",
    "        x = X.loc[i]\n",
    "        dwe = iod_data.iloc[i][\"DWE\"]\n",
    "        if dwe not in lsc_data.index:\n",
    "            continue\n",
    "        y = lsc_data.loc[dwe][col]\n",
    "        \n",
    "        x,y = zip(*[(a,b) for a,b in zip(x,y) if not pd.isna(a) and not pd.isna(b)])\n",
    "        \n",
    "        if norm_iod:\n",
    "            x = norm_iod(x)\n",
    "        if norm_lsc:\n",
    "            y = norm_lsc(y)\n",
    "            \n",
    "        \n",
    "        N = len(x)\n",
    "\n",
    "        stat = method(x, y)\n",
    "        \n",
    "        d = {\n",
    "            \"Corr\": stat[0],\n",
    "            \"p\": stat[1],\n",
    "            \"N\": N,\n",
    "        }\n",
    "        \n",
    "        if only_sign:\n",
    "            if stat[1] < 0.05:\n",
    "                idx.append(i)\n",
    "                results.append(d)\n",
    "        else:\n",
    "            idx.append(i)\n",
    "            results.append(d)\n",
    "    \n",
    "    df = pd.DataFrame(results, index=idx)\n",
    "    headings = [h for h in iod_data.columns if not any(ch.isdigit() for ch in h)]\n",
    "    df = pd.concat([iod_data.loc[idx][headings], df], axis=1)\n",
    "    \n",
    "    return df\n",
    "    "
   ]
  },
  {
   "cell_type": "code",
   "execution_count": null,
   "metadata": {},
   "outputs": [],
   "source": [
    "def ConCat(feature, base_criterion, measures, iod, lsc, years, baseline):\n",
    "    results = []\n",
    "    criterion = dict(base_criterion)\n",
    "    for m in sorted(measures):\n",
    "        criterion[\"Method\"] = m\n",
    "        df = correlation(iod, criterion, lsc, feature, years = years, method=pearsonr, only_sign = False, baseline=baseline)\n",
    "        df.set_index(\"DWE\", inplace=True)\n",
    "#         print(df)\n",
    "#         break\n",
    "        N = df[\"N\"]\n",
    "        df = df[[\"Corr\", \"p\"]]\n",
    "        df.rename({\"Corr\":m}, axis=1, inplace=True)\n",
    "        results.append(df)\n",
    "    results.append(N)\n",
    "    return pd.concat(results, axis=1).round(3)"
   ]
  },
  {
   "cell_type": "code",
   "execution_count": null,
   "metadata": {
    "scrolled": true
   },
   "outputs": [],
   "source": [
    "#ConCat(\"gch\", standard, measures_cnt + measures_pwn, sgns_iod, sgns_lsc, years, baseline=\"first\")"
   ]
  },
  {
   "cell_type": "code",
   "execution_count": null,
   "metadata": {},
   "outputs": [],
   "source": [
    "#ConCat(\"gch\", standard, measures_cnt + measures_pwn, sgns_iod, sgns_lsc, years, baseline=\"second\")"
   ]
  },
  {
   "cell_type": "code",
   "execution_count": null,
   "metadata": {},
   "outputs": [],
   "source": [
    "def pwalk(\n",
    "    iod_data, \n",
    "    #iod_var, \n",
    "    lsc_data, \n",
    "    lsc_var, \n",
    "    norm_iod = None,\n",
    "    norm_lsc = None,\n",
    "    method=pearsonr, \n",
    "    s_combos = \"all\",\n",
    "    iod_methods = [\"I-cnt\", \"O-cnt\", \"cnt-ssc\"],\n",
    "    #only_sign = True, \n",
    "    years = years,\n",
    "    criterion = \"p\",\n",
    "    binary = True,\n",
    "    threshold = 0.05,\n",
    "    add_total = True\n",
    "    ):\n",
    "    \n",
    "    dfs = []\n",
    "    \n",
    "    if s_combos == \"all\":\n",
    "        combos = []\n",
    "        col = [c for c in iod_data.columns if c.lower().endswith(\"strategy\")]\n",
    "        \n",
    "        if len(col) == 1:\n",
    "            val = set(iod_data[col[0]].values)\n",
    "            for v in val:\n",
    "                for m in iod_methods:\n",
    "                    combos.append({col[0]:v,\"Method\":m})\n",
    "        if len(col) == 2:\n",
    "            val1 = set(iod_data[col[0]].values)\n",
    "            val2 = set(iod_data[col[1]].values)\n",
    "            for v1 in val1:\n",
    "                for v2 in val2:\n",
    "                    for m in iod_methods:\n",
    "                        combos.append({col[0]:v1, col[1]: v2, \"Method\":m})            \n",
    "    \n",
    "#    print(combos)\n",
    "    \n",
    "    key = {}\n",
    "    \n",
    "    for combo in combos:\n",
    "        \n",
    "        df = correlation(\n",
    "            iod_data=iod_data, \n",
    "            iod_var=combo, \n",
    "            lsc_data=lsc_data, \n",
    "            lsc_var=lsc_var, \n",
    "            norm_iod=norm_iod, \n",
    "            norm_lsc=norm_lsc, \n",
    "            method=method, \n",
    "            only_sign=False, \n",
    "            years=years)\n",
    "        \n",
    "        #return df[\"p\"]\n",
    "        \n",
    "        if binary:\n",
    "            df[criterion] = df[criterion] < threshold\n",
    "            df[criterion] = df[criterion].astype(int)\n",
    "        \n",
    "        name = \"-\".join([f\"{var}:{val}\" for var, val in combo.items()])\n",
    "#         df = df[criterion]\n",
    "\n",
    "        if list(key.values()) == []:\n",
    "            key[name] = 0\n",
    "        else:\n",
    "            key[name] = max(key.values())+1\n",
    "        \n",
    "        df = df.rename({criterion: key[name]}, axis=1)\n",
    "        df.set_index(\"DWE\", inplace=True)\n",
    "        df = df[key[name]]\n",
    "        \n",
    "        dfs.append(df)\n",
    "        \n",
    "    results = pd.concat(dfs, axis=1)\n",
    "    if add_total:\n",
    "        results.loc['Column_Total'] = results.sum(numeric_only=True, axis=0)\n",
    "#         results = results.append(results.sum(numeric_only=True), ignore_index=True)\n",
    "        \n",
    "    \n",
    "    return results, key\n",
    "        \n",
    "    "
   ]
  },
  {
   "cell_type": "code",
   "execution_count": null,
   "metadata": {},
   "outputs": [],
   "source": [
    "def maximizer(df, key):\n",
    "    col_idx = df.loc[\"Column_Total\"].idxmax(axis=0)\n",
    "    combo = dict([(v, k) for k, v in key.items()])\n",
    "    return combo[col_idx], key[combo[col_idx]]"
   ]
  },
  {
   "cell_type": "code",
   "execution_count": null,
   "metadata": {},
   "outputs": [],
   "source": [
    "#ConCat(\"gch\", standard, measures_cnt + measures_pwn, fm_sgns_iod, fm_sgns_lsc, fm_years)"
   ]
  },
  {
   "cell_type": "code",
   "execution_count": null,
   "metadata": {},
   "outputs": [],
   "source": [
    "correlation(\n",
    "    sgns_iod, \n",
    "    {\"Method\": \"I-cnt\", \"A-Strategy\":\"top3\", \"B-Strategy\":\"min0.2\"}, \n",
    "    sgns_lsc, \n",
    "    \"rch\",\n",
    "    method=pearsonr, \n",
    "    only_sign=False,\n",
    "    difference = True\n",
    ")"
   ]
  },
  {
   "cell_type": "code",
   "execution_count": null,
   "metadata": {},
   "outputs": [],
   "source": [
    "correlation(\n",
    "    sgns_iod, \n",
    "    {\"Method\": \"I-cnt\", \"A-Strategy\":\"ms1\", \"B-Strategy\":\"min0.2\"}, \n",
    "    sgns_lsc, \n",
    "    \"gch\",\n",
    "    method=pearsonr, \n",
    "    only_sign=False,\n",
    "    difference = False,\n",
    "    baseline=\"first\"\n",
    ")"
   ]
  },
  {
   "cell_type": "code",
   "execution_count": null,
   "metadata": {},
   "outputs": [],
   "source": [
    "correlation(\n",
    "    sgns_iod, \n",
    "    {\"Method\": \"I-cnt\", \"A-Strategy\":\"ms1\", \"B-Strategy\":\"min0.2\"}, \n",
    "    sgns_lsc, \n",
    "    \"gch\",\n",
    "    method=pearsonr, \n",
    "    only_sign=False,\n",
    "    difference = False,\n",
    "    baseline = \"second\"\n",
    ")"
   ]
  },
  {
   "cell_type": "markdown",
   "metadata": {},
   "source": [
    "## Correlation FPM"
   ]
  },
  {
   "cell_type": "markdown",
   "metadata": {},
   "source": [
    "### SGNS"
   ]
  },
  {
   "cell_type": "code",
   "execution_count": null,
   "metadata": {},
   "outputs": [],
   "source": [
    "df, key = pwalk(\n",
    "    iod_data = sgns_iod, \n",
    "    #iod_var, \n",
    "    lsc_data = sgns_lsc, \n",
    "    lsc_var = \"fpm\", \n",
    "    norm_iod = None,\n",
    "    norm_lsc = np.log10,\n",
    "    method=pearsonr, \n",
    "    s_combos = \"all\",\n",
    "    iod_methods = [\"I-cnt\", \"O-cnt\", \"cnt-ssc\"],\n",
    "    #only_sign = True, \n",
    "    years = years,\n",
    "    criterion = \"p\",\n",
    "    binary = True,\n",
    "    threshold = 0.05    \n",
    "    )\n",
    "maximizer(df, key)"
   ]
  },
  {
   "cell_type": "code",
   "execution_count": null,
   "metadata": {},
   "outputs": [],
   "source": [
    "df"
   ]
  },
  {
   "cell_type": "code",
   "execution_count": null,
   "metadata": {
    "scrolled": true
   },
   "outputs": [],
   "source": [
    "df.loc[:, df.loc[\"Column_Total\"] > 4].rename({v:k for k,v in key.items()}, axis=1)"
   ]
  },
  {
   "cell_type": "code",
   "execution_count": null,
   "metadata": {},
   "outputs": [],
   "source": []
  },
  {
   "cell_type": "code",
   "execution_count": null,
   "metadata": {},
   "outputs": [],
   "source": [
    "correlation(sgns_iod, {'A-Strategy':'ms1','B-Strategy':'min0.2','Method':'I-cnt'}, sgns_lsc, \"fpm\", norm_lsc = np.log10, method=pearsonr)"
   ]
  },
  {
   "cell_type": "code",
   "execution_count": null,
   "metadata": {},
   "outputs": [],
   "source": [
    "correlation(sgns_iod, {\"A-Strategy\":\"ms1\", \"B-Strategy\":\"top3\",'Method':'I-cnt'}, sgns_lsc, \"fpm\", norm_lsc = np.log10, method=pearsonr)"
   ]
  },
  {
   "cell_type": "code",
   "execution_count": null,
   "metadata": {},
   "outputs": [],
   "source": [
    "#"
   ]
  },
  {
   "cell_type": "code",
   "execution_count": null,
   "metadata": {
    "scrolled": true
   },
   "outputs": [],
   "source": [
    "fpm[\"DWE\"].value_counts()"
   ]
  },
  {
   "cell_type": "code",
   "execution_count": null,
   "metadata": {
    "scrolled": true
   },
   "outputs": [],
   "source": [
    "fpm[\"A-Strategy\"].value_counts()"
   ]
  },
  {
   "cell_type": "code",
   "execution_count": null,
   "metadata": {},
   "outputs": [],
   "source": [
    "fpm[\"B-Strategy\"].value_counts()"
   ]
  },
  {
   "cell_type": "code",
   "execution_count": null,
   "metadata": {
    "scrolled": true
   },
   "outputs": [],
   "source": [
    "fpm[\"Method\"].value_counts()"
   ]
  },
  {
   "cell_type": "code",
   "execution_count": null,
   "metadata": {},
   "outputs": [],
   "source": [
    "correlation(\n",
    "    sgns_iod, \n",
    "    {\"Method\": \"I-cnt\", \"A-Strategy\":\"ms1\", \"B-Strategy\":\"min0.2\"}, \n",
    "    sgns_lsc, \n",
    "    \"fpm\",\n",
    "    norm_lsc = np.log10,\n",
    "    method=pearsonr, \n",
    "    only_sign=False\n",
    ")"
   ]
  },
  {
   "cell_type": "code",
   "execution_count": null,
   "metadata": {},
   "outputs": [],
   "source": [
    "correlation(\n",
    "    sgns_iod, \n",
    "    {\"Method\": \"cnt-ssc\", \"A-Strategy\":\"ms1\", \"B-Strategy\":\"min0.2\"}, \n",
    "    sgns_lsc, \n",
    "    \"fpm\", \n",
    "    norm_lsc = np.log10,\n",
    "    method=pearsonr, \n",
    "    only_sign=False\n",
    ")"
   ]
  },
  {
   "cell_type": "markdown",
   "metadata": {},
   "source": [
    "### STS"
   ]
  },
  {
   "cell_type": "code",
   "execution_count": null,
   "metadata": {},
   "outputs": [],
   "source": [
    "fpm = correlation(sts_iod, {}, sts_lsc, \"fpm\", method=pearsonr); fpm"
   ]
  },
  {
   "cell_type": "code",
   "execution_count": null,
   "metadata": {},
   "outputs": [],
   "source": [
    "fpm[\"DWE\"].value_counts()"
   ]
  },
  {
   "cell_type": "code",
   "execution_count": null,
   "metadata": {},
   "outputs": [],
   "source": [
    "fpm[\"A-Strategy\"].value_counts()"
   ]
  },
  {
   "cell_type": "code",
   "execution_count": null,
   "metadata": {},
   "outputs": [],
   "source": [
    "fpm[\"Method\"].value_counts()"
   ]
  },
  {
   "cell_type": "code",
   "execution_count": null,
   "metadata": {},
   "outputs": [],
   "source": [
    "correlation(\n",
    "    sts_iod, \n",
    "    {\"Method\": \"I-cnt\", \"A-Strategy\":\"ms1\"}, \n",
    "    sts_lsc, \n",
    "    \"fpm\", \n",
    "    method=pearsonr, \n",
    "    only_sign=False\n",
    ")"
   ]
  },
  {
   "cell_type": "code",
   "execution_count": null,
   "metadata": {},
   "outputs": [],
   "source": [
    "correlation(\n",
    "    sts_iod, \n",
    "    {\"Method\": \"cnt-ssc\", \"A-Strategy\":\"ms1\"}, \n",
    "    sts_lsc, \n",
    "    \"fpm\", \n",
    "    method=pearsonr, \n",
    "    only_sign=False\n",
    ")"
   ]
  },
  {
   "cell_type": "markdown",
   "metadata": {},
   "source": [
    "### KB"
   ]
  },
  {
   "cell_type": "code",
   "execution_count": null,
   "metadata": {},
   "outputs": [],
   "source": [
    "df, key = pwalk(\n",
    "    iod_data = kb_iod, \n",
    "    #iod_var, \n",
    "    lsc_data = kb_lsc, \n",
    "    lsc_var = \"fpm\", \n",
    "    norm_iod = None,\n",
    "    norm_lsc = np.log10,\n",
    "    method=pearsonr, \n",
    "    s_combos = \"all\",\n",
    "    iod_methods = [\"I-cnt\", \"O-cnt\", \"cnt-ssc\"],\n",
    "    #only_sign = True, \n",
    "    years = years,\n",
    "    criterion = \"p\",\n",
    "    binary = True,\n",
    "    threshold = 0.05    \n",
    "    )\n",
    "df"
   ]
  },
  {
   "cell_type": "code",
   "execution_count": null,
   "metadata": {},
   "outputs": [],
   "source": [
    "fpm = correlation(kb_iod, {}, kb_lsc, \"fpm\", method=pearsonr); fpm"
   ]
  },
  {
   "cell_type": "code",
   "execution_count": null,
   "metadata": {},
   "outputs": [],
   "source": [
    "fpm[\"DWE\"].value_counts()"
   ]
  },
  {
   "cell_type": "code",
   "execution_count": null,
   "metadata": {},
   "outputs": [],
   "source": [
    "fpm[\"A-Strategy\"].value_counts()"
   ]
  },
  {
   "cell_type": "code",
   "execution_count": null,
   "metadata": {},
   "outputs": [],
   "source": [
    "fpm[\"Method\"].value_counts()"
   ]
  },
  {
   "cell_type": "code",
   "execution_count": null,
   "metadata": {},
   "outputs": [],
   "source": [
    "correlation(\n",
    "    kb_iod, \n",
    "    {\"Method\": \"cnt-ssc\", \"A-Strategy\":\"rn\"}, \n",
    "    kb_lsc, \n",
    "    \"fpm\", \n",
    "    method=pearsonr, \n",
    "    only_sign=False\n",
    ")"
   ]
  },
  {
   "cell_type": "code",
   "execution_count": null,
   "metadata": {},
   "outputs": [],
   "source": [
    "correlation(\n",
    "    kb_iod, \n",
    "    {\"Method\": \"cnt-ssc\", \"A-Strategy\":\"ms1\"}, \n",
    "    kb_lsc, \n",
    "    \"fpm\", \n",
    "    method=pearsonr, \n",
    "    only_sign=False\n",
    ")"
   ]
  },
  {
   "cell_type": "markdown",
   "metadata": {},
   "source": [
    "## Correlation Naive Change"
   ]
  },
  {
   "cell_type": "markdown",
   "metadata": {},
   "source": [
    "* Optimal method vs \"standard\" (`{\"A-Strategy\":\"ms1\", \"B-Strategy\":\"top3\"}` / `{\"A-Strategy\":\"rn\"}'`)\n",
    "* CNT vs PWN\n",
    "* O, I, ssc\n",
    "* FB, FL\n",
    "* SGNS, SBERT"
   ]
  },
  {
   "cell_type": "markdown",
   "metadata": {},
   "source": [
    "### SGNS"
   ]
  },
  {
   "cell_type": "markdown",
   "metadata": {},
   "source": [
    "#### Background"
   ]
  },
  {
   "cell_type": "markdown",
   "metadata": {},
   "source": [
    "##### PWN"
   ]
  },
  {
   "cell_type": "code",
   "execution_count": null,
   "metadata": {},
   "outputs": [],
   "source": [
    "df, key = pwalk(\n",
    "    iod_data = sgns_iod, \n",
    "    #iod_var, \n",
    "    lsc_data = sgns_lsc, \n",
    "    lsc_var = \"gch\", \n",
    "    norm_iod = None,\n",
    "    norm_lsc = None,\n",
    "    method=pearsonr, \n",
    "    s_combos = \"all\",\n",
    "    iod_methods = [\"I-pwn\", \"O-pwn\", \"pwn-ssc\"],\n",
    "    #only_sign = True, \n",
    "    years = years,\n",
    "    criterion = \"p\",\n",
    "    binary = True,\n",
    "    threshold = 0.05    \n",
    "    )\n",
    "maximizer(df, key)"
   ]
  },
  {
   "cell_type": "code",
   "execution_count": null,
   "metadata": {
    "scrolled": true
   },
   "outputs": [],
   "source": [
    "df"
   ]
  },
  {
   "cell_type": "code",
   "execution_count": null,
   "metadata": {},
   "outputs": [],
   "source": [
    "#df.loc[:, df.loc[\"Column_Total\"] > 0]"
   ]
  },
  {
   "cell_type": "markdown",
   "metadata": {},
   "source": [
    "##### CNT"
   ]
  },
  {
   "cell_type": "code",
   "execution_count": null,
   "metadata": {},
   "outputs": [],
   "source": [
    "df, key = pwalk(\n",
    "    iod_data = sgns_iod, \n",
    "    #iod_var, \n",
    "    lsc_data = sgns_lsc, \n",
    "    lsc_var = \"gch\", \n",
    "    norm_iod = None,\n",
    "    norm_lsc = None,\n",
    "    method=pearsonr, \n",
    "    s_combos = \"all\",\n",
    "    iod_methods = [\"I-cnt\", \"O-cnt\", \"cnt-ssc\"],\n",
    "    #only_sign = True, \n",
    "    years = years,\n",
    "    criterion = \"p\",\n",
    "    binary = True,\n",
    "    threshold = 0.05    \n",
    "    )\n",
    "maximizer(df, key)"
   ]
  },
  {
   "cell_type": "code",
   "execution_count": null,
   "metadata": {},
   "outputs": [],
   "source": [
    "df"
   ]
  },
  {
   "cell_type": "code",
   "execution_count": null,
   "metadata": {
    "scrolled": true
   },
   "outputs": [],
   "source": [
    "#df.loc[:, df.loc[\"Column_Total\"] > 0].rename({v:k for k,v in key.items()}, axis=1)\n",
    "#df.loc[:, df.loc[\"Column_Total\"] > 0]"
   ]
  },
  {
   "cell_type": "markdown",
   "metadata": {},
   "source": [
    "#### Summary - \"GCH\""
   ]
  },
  {
   "cell_type": "code",
   "execution_count": null,
   "metadata": {},
   "outputs": [],
   "source": [
    "standard   = {\"A-Strategy\":\"ms1\",  \"B-Strategy\":\"top3\"}\n",
    "opptim_pwn = {'A-Strategy':'ms1',  'B-Strategy':'min0.2'}\n",
    "opptim_cnt = {'A-Strategy':'top3', 'B-Strategy':'lazy'}\n",
    "\n",
    "measures_cnt = [\"I-cnt\", \"O-cnt\", \"cnt-ssc\"]\n",
    "measures_pwn = [\"I-pwn\", \"O-pwn\", \"pwn-ssc\"]"
   ]
  },
  {
   "cell_type": "markdown",
   "metadata": {},
   "source": [
    "Flashback"
   ]
  },
  {
   "cell_type": "code",
   "execution_count": null,
   "metadata": {
    "scrolled": true
   },
   "outputs": [],
   "source": [
    "ConCat(\"gch\", standard, measures_cnt + measures_pwn, sgns_iod, sgns_lsc, years, baseline=\"second\")"
   ]
  },
  {
   "cell_type": "code",
   "execution_count": null,
   "metadata": {},
   "outputs": [],
   "source": [
    "res = ConCat(\"gch\", standard, measures_cnt + measures_pwn, sgns_iod, sgns_lsc, years, baseline=\"second\")\n",
    "print(res.to_latex(float_format=\"{:.2f}\".format))"
   ]
  },
  {
   "cell_type": "code",
   "execution_count": null,
   "metadata": {},
   "outputs": [],
   "source": [
    "sns.heatmap(\n",
    "    ConCat(\n",
    "        \"gch\", \n",
    "        opptim_cnt, \n",
    "        measures_cnt + measures_pwn, \n",
    "        sgns_iod, \n",
    "        sgns_lsc, \n",
    "        years, \n",
    "        baseline=\"second\"\n",
    "    ).drop([\"p\", \"N\"], axis=1),\n",
    "    annot=True\n",
    ")"
   ]
  },
  {
   "cell_type": "code",
   "execution_count": null,
   "metadata": {},
   "outputs": [],
   "source": [
    "ConCat(\"gch\", opptim_cnt, measures_cnt + measures_pwn, sgns_iod, sgns_lsc, years, baseline=\"second\")"
   ]
  },
  {
   "cell_type": "code",
   "execution_count": null,
   "metadata": {},
   "outputs": [],
   "source": [
    " ConCat(\"gch\", opptim_pwn, measures_cnt + measures_pwn, sgns_iod, sgns_lsc, years)"
   ]
  },
  {
   "cell_type": "markdown",
   "metadata": {},
   "source": [
    "Familjeliv"
   ]
  },
  {
   "cell_type": "code",
   "execution_count": null,
   "metadata": {},
   "outputs": [],
   "source": [
    "ConCat(\"gch\", standard, measures_cnt + measures_pwn, fm_sgns_iod, fm_sgns_lsc, fm_years, baseline=\"second\")"
   ]
  },
  {
   "cell_type": "code",
   "execution_count": null,
   "metadata": {},
   "outputs": [],
   "source": [
    "res = ConCat(\"gch\", standard, measures_cnt + measures_pwn, fm_sgns_iod, fm_sgns_lsc, fm_years, baseline=\"second\")\n",
    "print(res.to_latex(float_format=\"{:.2f}\".format))"
   ]
  },
  {
   "cell_type": "markdown",
   "metadata": {},
   "source": [
    "### KB"
   ]
  },
  {
   "cell_type": "markdown",
   "metadata": {},
   "source": [
    "Flashback"
   ]
  },
  {
   "cell_type": "code",
   "execution_count": null,
   "metadata": {},
   "outputs": [],
   "source": [
    "standard = {\"A-Strategy\":\"rn\"}\n",
    "res = ConCat(\"gch\", standard, measures_cnt + measures_pwn, kb_iod, kb_lsc, years, baseline=\"second\")\n",
    "#print(res.to_latex(float_format=\"{:.2f}\".format))\n",
    "res"
   ]
  },
  {
   "cell_type": "code",
   "execution_count": null,
   "metadata": {},
   "outputs": [],
   "source": [
    "fig, ax = plt.subplots(figsize=(10,10))\n",
    "res = ConCat(\"gch\", {\"A-Strategy\":\"top1\"}, measures_cnt + measures_pwn, kb_iod, kb_lsc, years, baseline=\"second\")\n",
    "#print(res.to_latex(float_format=\"{:.2f}\".format))\n",
    "res.drop([\"p\", \"N\"],axis=1,inplace=True)\n",
    "sns.heatmap(res, annot=True)"
   ]
  },
  {
   "cell_type": "code",
   "execution_count": null,
   "metadata": {},
   "outputs": [],
   "source": [
    "fig, ax = plt.subplots(figsize=(10,10))\n",
    "res = ConCat(\"gch\", {\"A-Strategy\":\"rn\"}, measures_cnt + measures_pwn, kb_iod, kb_lsc, years, baseline=\"second\")\n",
    "#print(res.to_latex(float_format=\"{:.2f}\".format))\n",
    "res.drop([\"p\", \"N\"],axis=1,inplace=True)\n",
    "sns.heatmap(res, annot=True)"
   ]
  },
  {
   "cell_type": "code",
   "execution_count": null,
   "metadata": {},
   "outputs": [],
   "source": [
    "fig, axs = plt.subplots(1, 2, figsize=(20,10))\n",
    "\n",
    "res = ConCat(\"gch\", {\"A-Strategy\":\"rn\"}, measures_cnt + measures_pwn, kb_iod, kb_lsc, years, baseline=\"second\")\n",
    "#print(res.to_latex(float_format=\"{:.2f}\".format))\n",
    "res.drop([\"p\", \"N\"],axis=1,inplace=True)\n",
    "sns.heatmap(res, annot=True, ax=axs[0])\n",
    "axs[0].set_title(\"Really Naive\")\n",
    "\n",
    "res = ConCat(\"gch\", {\"A-Strategy\":\"top3\"}, measures_cnt + measures_pwn, kb_iod, kb_lsc, years, baseline=\"second\")\n",
    "#print(res.to_latex(float_format=\"{:.2f}\".format))\n",
    "res.drop([\"p\", \"N\"],axis=1,inplace=True)\n",
    "sns.heatmap(res, annot=True, ax = axs[1])\n",
    "axs[1].set_title(\"Top3\")\n",
    "\n",
    "plt.show()"
   ]
  },
  {
   "cell_type": "code",
   "execution_count": null,
   "metadata": {},
   "outputs": [],
   "source": [
    "# standard = {\"A-Strategy\":\"rn\"}\n",
    "# res = ConCat(\"gch\", standard, measures_cnt + measures_pwn, fb_kb_G_iod, kb_lsc, years, baseline=\"second\")\n",
    "# #print(res.to_latex(float_format=\"{:.2f}\".format))\n",
    "# res"
   ]
  },
  {
   "cell_type": "markdown",
   "metadata": {},
   "source": [
    "Familjliv"
   ]
  },
  {
   "cell_type": "code",
   "execution_count": null,
   "metadata": {},
   "outputs": [],
   "source": [
    "# standard = {\"A-Strategy\":\"rn\"}\n",
    "# res = ConCat(\"gch\", standard, measures_cnt + measures_pwn, fm_kb_iod, fm_kb_lsc, fm_years, baseline=\"second\")\n",
    "# print(res.to_latex(float_format=\"{:.2f}\".format))\n",
    "# res"
   ]
  },
  {
   "cell_type": "code",
   "execution_count": null,
   "metadata": {},
   "outputs": [],
   "source": [
    "df, key = pwalk(\n",
    "    iod_data = kb_iod, \n",
    "    #iod_var, \n",
    "    lsc_data = kb_lsc, \n",
    "    lsc_var = \"gch\", \n",
    "    norm_iod = None,\n",
    "    norm_lsc = None,\n",
    "    method=pearsonr, \n",
    "    s_combos = \"all\",\n",
    "    iod_methods = [\"I-cnt\", \"O-cnt\", \"cnt-ssc\"],\n",
    "    #only_sign = True, \n",
    "    years = years,\n",
    "    criterion = \"p\",\n",
    "    binary = True,\n",
    "    threshold = 0.05    \n",
    "    )\n",
    "maximizer(df, key)"
   ]
  },
  {
   "cell_type": "code",
   "execution_count": null,
   "metadata": {},
   "outputs": [],
   "source": [
    "df"
   ]
  },
  {
   "cell_type": "code",
   "execution_count": null,
   "metadata": {
    "scrolled": true
   },
   "outputs": [],
   "source": [
    "df.loc[:, df.loc[\"Column_Total\"] > 3].rename({v:k for k,v in key.items()}, axis=1)\n",
    "#df.loc[:, df.loc[\"Column_Total\"] > 3]"
   ]
  },
  {
   "cell_type": "code",
   "execution_count": null,
   "metadata": {},
   "outputs": [],
   "source": [
    "correlation(kb_iod, {'A-Strategy':'top1','Method':'O-cnt'}, kb_lsc, \"gch\", method=pearsonr)"
   ]
  },
  {
   "cell_type": "code",
   "execution_count": null,
   "metadata": {
    "scrolled": true
   },
   "outputs": [],
   "source": [
    "correlation(kb_iod, {'A-Strategy':'top1','Method':'I-cnt'}, kb_lsc, \"gch\", method=pearsonr)"
   ]
  },
  {
   "cell_type": "code",
   "execution_count": null,
   "metadata": {
    "scrolled": true
   },
   "outputs": [],
   "source": [
    "correlation(kb_iod, {'A-Strategy':'rn','Method':'O-cnt'}, kb_lsc, \"gch\", method=pearsonr)"
   ]
  },
  {
   "cell_type": "code",
   "execution_count": null,
   "metadata": {
    "scrolled": true
   },
   "outputs": [],
   "source": [
    "correlation(kb_iod, {'A-Strategy':'rn','Method':'I-cnt'}, kb_lsc, \"gch\", method=pearsonr)"
   ]
  },
  {
   "cell_type": "code",
   "execution_count": null,
   "metadata": {},
   "outputs": [],
   "source": [
    "gch = correlation(kb_iod, {}, kb_lsc, \"gch\", method=pearsonr); gch"
   ]
  },
  {
   "cell_type": "code",
   "execution_count": null,
   "metadata": {},
   "outputs": [],
   "source": [
    "gch[\"DWE\"].value_counts()"
   ]
  },
  {
   "cell_type": "code",
   "execution_count": null,
   "metadata": {},
   "outputs": [],
   "source": [
    "gch[\"A-Strategy\"].value_counts()"
   ]
  },
  {
   "cell_type": "code",
   "execution_count": null,
   "metadata": {},
   "outputs": [],
   "source": [
    "gch[\"Method\"].value_counts()"
   ]
  },
  {
   "cell_type": "code",
   "execution_count": null,
   "metadata": {},
   "outputs": [],
   "source": [
    "sgns_iod[\"A-Strategy\"].value_counts()"
   ]
  },
  {
   "cell_type": "code",
   "execution_count": null,
   "metadata": {},
   "outputs": [],
   "source": [
    "correlation(\n",
    "    kb_iod, \n",
    "    {\"Method\": \"I-cnt\", \"A-Strategy\":\"rn\"}, \n",
    "    kb_lsc, \n",
    "    \"gch\", \n",
    "    method=pearsonr, \n",
    "    only_sign=False\n",
    ").round(3)"
   ]
  },
  {
   "cell_type": "code",
   "execution_count": null,
   "metadata": {},
   "outputs": [],
   "source": [
    "correlation(\n",
    "    kb_iod, \n",
    "    {\"Method\": \"I-cnt\", \"A-Strategy\":\"nno\"}, \n",
    "    kb_lsc, \n",
    "    \"gch\", \n",
    "    method=pearsonr, \n",
    "    only_sign=False\n",
    ").round(3)"
   ]
  },
  {
   "cell_type": "code",
   "execution_count": null,
   "metadata": {},
   "outputs": [],
   "source": [
    "correlation(\n",
    "    kb_iod, \n",
    "    {\"Method\": \"I-cnt\", \"A-Strategy\":\"ms1\"}, \n",
    "    kb_lsc, \n",
    "    \"gch\", \n",
    "    method=pearsonr, \n",
    "    only_sign=False\n",
    ").round(3)"
   ]
  },
  {
   "cell_type": "code",
   "execution_count": null,
   "metadata": {},
   "outputs": [],
   "source": [
    "correlation(\n",
    "    kb_iod, \n",
    "    {\"Method\": \"cnt-ssc\", \"A-Strategy\":\"rn\"}, \n",
    "    kb_lsc, \n",
    "    \"gch\", \n",
    "    method=pearsonr, \n",
    "    only_sign=False\n",
    ").round(3)"
   ]
  },
  {
   "cell_type": "code",
   "execution_count": null,
   "metadata": {
    "scrolled": true
   },
   "outputs": [],
   "source": [
    "correlation(\n",
    "    kb_iod, \n",
    "    {\"Method\": \"cnt-ssc\", \"A-Strategy\":\"top3\"}, \n",
    "    kb_lsc, \n",
    "    \"gch\", \n",
    "    method=pearsonr, \n",
    "    only_sign=False\n",
    ").round(3)"
   ]
  },
  {
   "cell_type": "markdown",
   "metadata": {},
   "source": [
    "### STS"
   ]
  },
  {
   "cell_type": "code",
   "execution_count": null,
   "metadata": {},
   "outputs": [],
   "source": [
    "df, key = pwalk(\n",
    "    iod_data = sts_iod, \n",
    "    #iod_var, \n",
    "    lsc_data = sts_lsc, \n",
    "    lsc_var = \"gch\", \n",
    "    norm_iod = None,\n",
    "    norm_lsc = None,\n",
    "    method=pearsonr, \n",
    "    s_combos = \"all\",\n",
    "    iod_methods = [\"I-cnt\", \"O-cnt\", \"cnt-ssc\"],\n",
    "    #only_sign = True, \n",
    "    years = years,\n",
    "    criterion = \"p\",\n",
    "    binary = True,\n",
    "    threshold = 0.05    \n",
    "    )\n",
    "maximizer(df, key)"
   ]
  },
  {
   "cell_type": "code",
   "execution_count": null,
   "metadata": {},
   "outputs": [],
   "source": [
    "df"
   ]
  },
  {
   "cell_type": "code",
   "execution_count": null,
   "metadata": {
    "scrolled": true
   },
   "outputs": [],
   "source": [
    "#df.loc[:, df.loc[\"Column_Total\"] > 0].rename({v:k for k,v in key.items()}, axis=1)\n",
    "df.loc[:, df.loc[\"Column_Total\"] > 4]"
   ]
  },
  {
   "cell_type": "code",
   "execution_count": null,
   "metadata": {},
   "outputs": [],
   "source": [
    "gch = correlation(sts_iod, {}, sts_lsc, \"gch\", method=pearsonr); gch"
   ]
  },
  {
   "cell_type": "code",
   "execution_count": null,
   "metadata": {},
   "outputs": [],
   "source": [
    "gch[\"DWE\"].value_counts()"
   ]
  },
  {
   "cell_type": "code",
   "execution_count": null,
   "metadata": {},
   "outputs": [],
   "source": [
    "gch[\"A-Strategy\"].value_counts()"
   ]
  },
  {
   "cell_type": "code",
   "execution_count": null,
   "metadata": {},
   "outputs": [],
   "source": [
    "gch[\"Method\"].value_counts()"
   ]
  },
  {
   "cell_type": "code",
   "execution_count": null,
   "metadata": {},
   "outputs": [],
   "source": [
    "sgns_iod[\"A-Strategy\"].value_counts()"
   ]
  },
  {
   "cell_type": "code",
   "execution_count": null,
   "metadata": {},
   "outputs": [],
   "source": [
    "correlation(\n",
    "    sts_iod, \n",
    "    {\"Method\": \"I-cnt\", \"A-Strategy\":\"rn\"}, \n",
    "    sts_lsc, \n",
    "    \"gch\", \n",
    "    method=pearsonr, \n",
    "    only_sign=False\n",
    ").round(2)"
   ]
  },
  {
   "cell_type": "code",
   "execution_count": null,
   "metadata": {},
   "outputs": [],
   "source": [
    "correlation(\n",
    "    sts_iod, \n",
    "    {\"Method\": \"I-cnt\", \"A-Strategy\":\"ms1\"}, \n",
    "    sts_lsc, \n",
    "    \"gch\", \n",
    "    method=pearsonr, \n",
    "    only_sign=False\n",
    ")"
   ]
  },
  {
   "cell_type": "code",
   "execution_count": null,
   "metadata": {},
   "outputs": [],
   "source": [
    "correlation(\n",
    "    sts_iod, \n",
    "    {\"Method\": \"cnt-ssc\", \"A-Strategy\":\"ms1\"}, \n",
    "    sts_lsc, \n",
    "    \"gch\", \n",
    "    method=pearsonr, \n",
    "    only_sign=False\n",
    ")"
   ]
  },
  {
   "cell_type": "code",
   "execution_count": null,
   "metadata": {
    "scrolled": true
   },
   "outputs": [],
   "source": [
    "correlation(\n",
    "    sts_iod, \n",
    "    {\"Method\": \"cnt-ssc\", \"A-Strategy\":\"top3\"}, \n",
    "    sts_lsc, \n",
    "    \"gch\", \n",
    "    method=pearsonr, \n",
    "    only_sign=False\n",
    ")"
   ]
  },
  {
   "cell_type": "markdown",
   "metadata": {},
   "source": [
    "## Correlation Rectified Change"
   ]
  },
  {
   "cell_type": "code",
   "execution_count": null,
   "metadata": {},
   "outputs": [],
   "source": [
    "standard   = {\"A-Strategy\":\"ms1\",  \"B-Strategy\":\"top3\"}\n",
    "opptim_pwn = {'A-Strategy':'ms1',  'B-Strategy':'min0.2'}\n",
    "opptim_cnt = {'A-Strategy':'top3', 'B-Strategy':'lazy'}\n",
    "\n",
    "measures_cnt = [\"I-cnt\", \"O-cnt\", \"cnt-ssc\"]\n",
    "measures_pwn = [\"I-pwn\", \"O-pwn\", \"pwn-ssc\"]"
   ]
  },
  {
   "cell_type": "code",
   "execution_count": null,
   "metadata": {},
   "outputs": [],
   "source": [
    "res = ConCat(\"rch\", standard, measures_cnt + measures_pwn, sgns_iod, sgns_lsc, years, baseline=\"second\")\n",
    "print(res.to_latex(float_format=\"{:.2f}\".format))"
   ]
  },
  {
   "cell_type": "code",
   "execution_count": null,
   "metadata": {},
   "outputs": [],
   "source": [
    "standard = {\"A-Strategy\":\"rn\"}\n",
    "res = ConCat(\"rch\", standard, measures_cnt + measures_pwn, kb_iod, kb_lsc, years, baseline=\"second\")\n",
    "print(res.to_latex(float_format=\"{:.2f}\".format))\n",
    "res"
   ]
  },
  {
   "cell_type": "code",
   "execution_count": null,
   "metadata": {},
   "outputs": [],
   "source": []
  },
  {
   "cell_type": "code",
   "execution_count": null,
   "metadata": {},
   "outputs": [],
   "source": []
  },
  {
   "cell_type": "code",
   "execution_count": null,
   "metadata": {},
   "outputs": [],
   "source": []
  },
  {
   "cell_type": "code",
   "execution_count": null,
   "metadata": {},
   "outputs": [],
   "source": []
  },
  {
   "cell_type": "markdown",
   "metadata": {},
   "source": [
    "### SGNS"
   ]
  },
  {
   "cell_type": "code",
   "execution_count": null,
   "metadata": {},
   "outputs": [],
   "source": [
    "rch = correlation(sgns_iod, {}, sgns_lsc, \"rch\", method=pearsonr); rch"
   ]
  },
  {
   "cell_type": "code",
   "execution_count": null,
   "metadata": {},
   "outputs": [],
   "source": [
    "rch[\"DWE\"].value_counts()"
   ]
  },
  {
   "cell_type": "code",
   "execution_count": null,
   "metadata": {},
   "outputs": [],
   "source": [
    "rch[\"A-Strategy\"].value_counts()"
   ]
  },
  {
   "cell_type": "code",
   "execution_count": null,
   "metadata": {},
   "outputs": [],
   "source": [
    "rch[\"B-Strategy\"].value_counts()"
   ]
  },
  {
   "cell_type": "code",
   "execution_count": null,
   "metadata": {},
   "outputs": [],
   "source": [
    "rch[\"Method\"].value_counts()"
   ]
  },
  {
   "cell_type": "code",
   "execution_count": null,
   "metadata": {},
   "outputs": [],
   "source": [
    "correlation(\n",
    "    sgns_iod, \n",
    "    {\"Method\": \"I-cnt\", \"A-Strategy\":\"ms1\", \"B-Strategy\":\"min0.2\"}, \n",
    "    sgns_lsc, \n",
    "    \"rch\", \n",
    "    method=pearsonr, \n",
    "    only_sign=False\n",
    ")"
   ]
  },
  {
   "cell_type": "code",
   "execution_count": null,
   "metadata": {},
   "outputs": [],
   "source": [
    "correlation(\n",
    "    sgns_iod, \n",
    "    {\"Method\": \"I-cnt\", \"A-Strategy\":\"ms1\", \"B-Strategy\":\"top3\"}, \n",
    "    sgns_lsc, \n",
    "    \"rch\", \n",
    "    method=pearsonr, \n",
    "    only_sign=False\n",
    ")"
   ]
  },
  {
   "cell_type": "code",
   "execution_count": null,
   "metadata": {},
   "outputs": [],
   "source": [
    "correlation(\n",
    "    sgns_iod, \n",
    "    {\"Method\": \"cnt-ssc\", \"A-Strategy\":\"ms1\", \"B-Strategy\":\"min0.2\"}, \n",
    "    sgns_lsc, \n",
    "    \"rch\", \n",
    "    method=pearsonr, \n",
    "    only_sign=False\n",
    ")"
   ]
  },
  {
   "cell_type": "code",
   "execution_count": null,
   "metadata": {},
   "outputs": [],
   "source": [
    "correlation(\n",
    "    sgns_iod, \n",
    "    {\"Method\": \"cnt-ssc\", \"A-Strategy\":\"ms1\", \"B-Strategy\":\"top3\"}, \n",
    "    sgns_lsc, \n",
    "    \"rch\", \n",
    "    method=pearsonr, \n",
    "    only_sign=False\n",
    ")"
   ]
  },
  {
   "cell_type": "markdown",
   "metadata": {},
   "source": [
    "### STS"
   ]
  },
  {
   "cell_type": "code",
   "execution_count": null,
   "metadata": {},
   "outputs": [],
   "source": [
    "rch = correlation(sts_iod, {}, sts_lsc, \"rch\", method=pearsonr); rch"
   ]
  },
  {
   "cell_type": "code",
   "execution_count": null,
   "metadata": {},
   "outputs": [],
   "source": [
    "rch[\"DWE\"].value_counts()"
   ]
  },
  {
   "cell_type": "code",
   "execution_count": null,
   "metadata": {},
   "outputs": [],
   "source": [
    "rch[\"A-Strategy\"].value_counts()"
   ]
  },
  {
   "cell_type": "code",
   "execution_count": null,
   "metadata": {},
   "outputs": [],
   "source": [
    "rch[\"Method\"].value_counts()"
   ]
  },
  {
   "cell_type": "code",
   "execution_count": null,
   "metadata": {},
   "outputs": [],
   "source": [
    "correlation(\n",
    "    sts_iod, \n",
    "    {\"Method\": \"I-cnt\", \"A-Strategy\":\"ms1\"}, \n",
    "    sts_lsc, \n",
    "    \"rch\", \n",
    "    method=pearsonr, \n",
    "    only_sign=False\n",
    ")"
   ]
  },
  {
   "cell_type": "code",
   "execution_count": null,
   "metadata": {},
   "outputs": [],
   "source": [
    "correlation(\n",
    "    sts_iod, \n",
    "    {\"Method\": \"I-cnt\", \"A-Strategy\":\"ms1\"}, \n",
    "    sts_lsc, \n",
    "    \"rch\", \n",
    "    method=pearsonr, \n",
    "    only_sign=False\n",
    ")"
   ]
  },
  {
   "cell_type": "code",
   "execution_count": null,
   "metadata": {},
   "outputs": [],
   "source": [
    "correlation(\n",
    "    sts_iod, \n",
    "    {\"Method\": \"cnt-ssc\", \"A-Strategy\":\"ms1\"}, \n",
    "    sts_lsc, \n",
    "    \"rch\", \n",
    "    method=pearsonr, \n",
    "    only_sign=False\n",
    ")"
   ]
  },
  {
   "cell_type": "code",
   "execution_count": null,
   "metadata": {},
   "outputs": [],
   "source": [
    "correlation(\n",
    "    sts_iod, \n",
    "    {\"Method\": \"cnt-ssc\", \"A-Strategy\":\"ms1\"}, \n",
    "    sts_lsc, \n",
    "    \"rch\", \n",
    "    method=pearsonr, \n",
    "    only_sign=False\n",
    ")"
   ]
  },
  {
   "cell_type": "markdown",
   "metadata": {},
   "source": [
    "### KB"
   ]
  },
  {
   "cell_type": "code",
   "execution_count": null,
   "metadata": {},
   "outputs": [],
   "source": [
    "rch = correlation(kb_iod, {}, kb_lsc, \"rch\", method=pearsonr); rch"
   ]
  },
  {
   "cell_type": "code",
   "execution_count": null,
   "metadata": {},
   "outputs": [],
   "source": [
    "rch[\"DWE\"].value_counts()"
   ]
  },
  {
   "cell_type": "code",
   "execution_count": null,
   "metadata": {},
   "outputs": [],
   "source": [
    "rch[\"A-Strategy\"].value_counts()"
   ]
  },
  {
   "cell_type": "code",
   "execution_count": null,
   "metadata": {},
   "outputs": [],
   "source": [
    "rch[\"Method\"].value_counts()"
   ]
  },
  {
   "cell_type": "code",
   "execution_count": null,
   "metadata": {},
   "outputs": [],
   "source": [
    "correlation(\n",
    "    kb_iod, \n",
    "    {\"Method\": \"I-cnt\", \"A-Strategy\":\"ms1\"}, \n",
    "    kb_lsc, \n",
    "    \"rch\", \n",
    "    method=pearsonr, \n",
    "    only_sign=False\n",
    ")"
   ]
  },
  {
   "cell_type": "code",
   "execution_count": null,
   "metadata": {},
   "outputs": [],
   "source": [
    "correlation(\n",
    "    kb_iod, \n",
    "    {\"Method\": \"I-cnt\", \"A-Strategy\":\"ms1\"}, \n",
    "    kb_lsc, \n",
    "    \"rch\", \n",
    "    method=pearsonr, \n",
    "    only_sign=False\n",
    ")"
   ]
  },
  {
   "cell_type": "code",
   "execution_count": null,
   "metadata": {},
   "outputs": [],
   "source": [
    "correlation(\n",
    "    kb_iod, \n",
    "    {\"Method\": \"cnt-ssc\", \"A-Strategy\":\"ms1\"}, \n",
    "    kb_lsc, \n",
    "    \"rch\", \n",
    "    method=pearsonr, \n",
    "    only_sign=False\n",
    ")"
   ]
  },
  {
   "cell_type": "code",
   "execution_count": null,
   "metadata": {},
   "outputs": [],
   "source": [
    "correlation(\n",
    "    kb_iod, \n",
    "    {\"Method\": \"cnt-ssc\", \"A-Strategy\":\"ms1\"}, \n",
    "    kb_lsc, \n",
    "    \"rch\", \n",
    "    method=pearsonr, \n",
    "    only_sign=False\n",
    ")"
   ]
  },
  {
   "cell_type": "code",
   "execution_count": null,
   "metadata": {},
   "outputs": [],
   "source": []
  },
  {
   "cell_type": "code",
   "execution_count": null,
   "metadata": {},
   "outputs": [],
   "source": []
  },
  {
   "cell_type": "code",
   "execution_count": null,
   "metadata": {},
   "outputs": [],
   "source": []
  },
  {
   "cell_type": "code",
   "execution_count": null,
   "metadata": {},
   "outputs": [],
   "source": []
  },
  {
   "cell_type": "code",
   "execution_count": null,
   "metadata": {},
   "outputs": [],
   "source": []
  },
  {
   "cell_type": "code",
   "execution_count": null,
   "metadata": {},
   "outputs": [],
   "source": []
  },
  {
   "cell_type": "code",
   "execution_count": null,
   "metadata": {},
   "outputs": [],
   "source": []
  },
  {
   "cell_type": "code",
   "execution_count": null,
   "metadata": {},
   "outputs": [],
   "source": []
  },
  {
   "cell_type": "code",
   "execution_count": null,
   "metadata": {},
   "outputs": [],
   "source": []
  },
  {
   "cell_type": "code",
   "execution_count": null,
   "metadata": {},
   "outputs": [],
   "source": []
  },
  {
   "cell_type": "code",
   "execution_count": null,
   "metadata": {},
   "outputs": [],
   "source": []
  },
  {
   "cell_type": "code",
   "execution_count": null,
   "metadata": {},
   "outputs": [],
   "source": []
  },
  {
   "cell_type": "code",
   "execution_count": null,
   "metadata": {},
   "outputs": [],
   "source": []
  },
  {
   "cell_type": "code",
   "execution_count": null,
   "metadata": {},
   "outputs": [],
   "source": []
  },
  {
   "cell_type": "code",
   "execution_count": null,
   "metadata": {},
   "outputs": [],
   "source": []
  },
  {
   "cell_type": "code",
   "execution_count": null,
   "metadata": {},
   "outputs": [],
   "source": []
  },
  {
   "cell_type": "code",
   "execution_count": null,
   "metadata": {
    "scrolled": true
   },
   "outputs": [],
   "source": [
    "correlation(sgns_iod, {}, sgns_lsc, \"rch\", method=pearsonr)"
   ]
  },
  {
   "cell_type": "code",
   "execution_count": null,
   "metadata": {
    "scrolled": true
   },
   "outputs": [],
   "source": [
    "correlation(sts_iod, {}, sts_lsc, \"rch\", method=pearsonr)"
   ]
  },
  {
   "cell_type": "code",
   "execution_count": null,
   "metadata": {},
   "outputs": [],
   "source": [
    "correlation(sts_iod, {\"Method\":\"I-cnt\"}, sts_lsc, \"rch\", method=spearmanr)"
   ]
  },
  {
   "cell_type": "code",
   "execution_count": null,
   "metadata": {},
   "outputs": [],
   "source": [
    "correlation(kb_iod, {\"Method\":\"cnt-ssc\"}, kb_lsc, \"gch\", method=pearsonr)"
   ]
  },
  {
   "cell_type": "code",
   "execution_count": null,
   "metadata": {
    "scrolled": true
   },
   "outputs": [],
   "source": [
    "correlation(kb_iod, {\"Method\":\"O-cnt\"}, kb_lsc, \"gch\", method=pearsonr)"
   ]
  },
  {
   "cell_type": "code",
   "execution_count": null,
   "metadata": {
    "scrolled": true
   },
   "outputs": [],
   "source": [
    "correlation(sgns_iod, {\"Method\":\"I-cnt\"}, sgns_lsc, \"rch\", method=pearsonr)"
   ]
  },
  {
   "cell_type": "code",
   "execution_count": null,
   "metadata": {},
   "outputs": [],
   "source": [
    "correlation(sgns_iod, {\"Method\":\"O-cnt\"}, sgns_lsc, \"gch\", method=pearsonr)"
   ]
  },
  {
   "cell_type": "code",
   "execution_count": null,
   "metadata": {},
   "outputs": [],
   "source": []
  },
  {
   "cell_type": "code",
   "execution_count": null,
   "metadata": {},
   "outputs": [],
   "source": []
  },
  {
   "cell_type": "code",
   "execution_count": null,
   "metadata": {},
   "outputs": [],
   "source": []
  },
  {
   "cell_type": "code",
   "execution_count": null,
   "metadata": {},
   "outputs": [],
   "source": []
  },
  {
   "cell_type": "code",
   "execution_count": null,
   "metadata": {},
   "outputs": [],
   "source": []
  },
  {
   "cell_type": "code",
   "execution_count": null,
   "metadata": {},
   "outputs": [],
   "source": []
  },
  {
   "cell_type": "code",
   "execution_count": null,
   "metadata": {},
   "outputs": [],
   "source": []
  },
  {
   "cell_type": "code",
   "execution_count": null,
   "metadata": {},
   "outputs": [],
   "source": []
  },
  {
   "cell_type": "markdown",
   "metadata": {},
   "source": [
    "### FPM"
   ]
  },
  {
   "cell_type": "code",
   "execution_count": null,
   "metadata": {
    "scrolled": true
   },
   "outputs": [],
   "source": [
    "fpm = sgns_lsc.loc[\"V1_berika\"][[v for v in sgns_lsc.columns if v.startswith(\"fpm\")]];fpm"
   ]
  },
  {
   "cell_type": "code",
   "execution_count": null,
   "metadata": {},
   "outputs": [],
   "source": [
    "X = sgns_iod[sgns_iod[\"DWE\"]==\"V1_berika\"][years];X"
   ]
  },
  {
   "cell_type": "code",
   "execution_count": null,
   "metadata": {
    "scrolled": true
   },
   "outputs": [],
   "source": [
    "for i in range(X.shape[0]):\n",
    "    stat = pearsonr(X.loc[i], fpm)\n",
    "    \n",
    "    print(stat[0], stat[1])"
   ]
  },
  {
   "cell_type": "markdown",
   "metadata": {},
   "source": [
    "### Change"
   ]
  },
  {
   "cell_type": "code",
   "execution_count": null,
   "metadata": {},
   "outputs": [],
   "source": [
    "col = [v for v in sgns_lsc.columns if v.startswith(\"rch\")]\n",
    "print(len(col))\n",
    "gch = sgns_lsc.loc[\"V1_berika\"][col];gch"
   ]
  },
  {
   "cell_type": "code",
   "execution_count": null,
   "metadata": {},
   "outputs": [],
   "source": [
    "X = sgns_iod[sgns_iod[\"Method\"]==\"cnt-ssc\"][[y for y in years[:-1]]];X"
   ]
  },
  {
   "cell_type": "code",
   "execution_count": null,
   "metadata": {},
   "outputs": [],
   "source": [
    "for i in X.index:\n",
    "    x = X.loc[i]\n",
    "    \n",
    "    dwe = sgns_iod.iloc[i][\"DWE\"]\n",
    "#     print(dwe)\n",
    "    \n",
    "    A = sgns_iod.iloc[i][\"A-Strategy\"]\n",
    "    B = sgns_iod.iloc[i][\"B-strategy\"]\n",
    "    \n",
    "    y = sgns_lsc.loc[dwe][col]\n",
    "    \n",
    "    x,y = zip(*[(a,b) for a,b in zip(x,y) if not pd.isna(a) and not pd.isna(b)])\n",
    "    \n",
    "    stat = pearsonr(x, y)\n",
    "    \n",
    "    if stat[1] < 0.05:\n",
    "        \n",
    "        print(dwe, A, B, stat[0], stat[1])"
   ]
  },
  {
   "cell_type": "code",
   "execution_count": null,
   "metadata": {},
   "outputs": [],
   "source": []
  },
  {
   "cell_type": "markdown",
   "metadata": {},
   "source": [
    "#### Experiment"
   ]
  },
  {
   "cell_type": "code",
   "execution_count": null,
   "metadata": {},
   "outputs": [],
   "source": [
    "from scipy.special import softmax\n",
    "import random"
   ]
  },
  {
   "cell_type": "code",
   "execution_count": null,
   "metadata": {},
   "outputs": [],
   "source": [
    "#random.seed(123)\n",
    "random.seed(555)"
   ]
  },
  {
   "cell_type": "code",
   "execution_count": null,
   "metadata": {},
   "outputs": [],
   "source": [
    "#np.random.rand(10)"
   ]
  },
  {
   "cell_type": "code",
   "execution_count": null,
   "metadata": {},
   "outputs": [],
   "source": [
    "dim1 = np.random.rand(10)\n",
    "dim2 = np.random.rand(10)\n",
    "\n",
    "dimX = dim1 / (dim1+dim2)"
   ]
  },
  {
   "cell_type": "code",
   "execution_count": null,
   "metadata": {},
   "outputs": [],
   "source": [
    "dim1"
   ]
  },
  {
   "cell_type": "code",
   "execution_count": null,
   "metadata": {},
   "outputs": [],
   "source": [
    "dim2"
   ]
  },
  {
   "cell_type": "code",
   "execution_count": null,
   "metadata": {},
   "outputs": [],
   "source": [
    "dimX"
   ]
  },
  {
   "cell_type": "code",
   "execution_count": null,
   "metadata": {},
   "outputs": [],
   "source": [
    "pearsonr(dim1, dimX)"
   ]
  },
  {
   "cell_type": "code",
   "execution_count": null,
   "metadata": {
    "scrolled": true
   },
   "outputs": [],
   "source": [
    "S = np.concatenate((dim1, dim2)).reshape(2,10)"
   ]
  },
  {
   "cell_type": "code",
   "execution_count": null,
   "metadata": {},
   "outputs": [],
   "source": [
    "dimS = softmax(S, axis=0)"
   ]
  },
  {
   "cell_type": "code",
   "execution_count": null,
   "metadata": {},
   "outputs": [],
   "source": [
    "dimS"
   ]
  },
  {
   "cell_type": "code",
   "execution_count": null,
   "metadata": {},
   "outputs": [],
   "source": [
    "dimS.sum(axis=0)"
   ]
  },
  {
   "cell_type": "code",
   "execution_count": null,
   "metadata": {},
   "outputs": [],
   "source": [
    "dimS = dimS[0]"
   ]
  },
  {
   "cell_type": "code",
   "execution_count": null,
   "metadata": {},
   "outputs": [],
   "source": [
    "dimS"
   ]
  },
  {
   "cell_type": "code",
   "execution_count": null,
   "metadata": {},
   "outputs": [],
   "source": [
    "pearsonr(dim1, dimS)"
   ]
  },
  {
   "cell_type": "code",
   "execution_count": null,
   "metadata": {},
   "outputs": [],
   "source": []
  }
 ],
 "metadata": {
  "kernelspec": {
   "display_name": "Python 3",
   "language": "python",
   "name": "python3"
  },
  "language_info": {
   "codemirror_mode": {
    "name": "ipython",
    "version": 3
   },
   "file_extension": ".py",
   "mimetype": "text/x-python",
   "name": "python",
   "nbconvert_exporter": "python",
   "pygments_lexer": "ipython3",
   "version": "3.8.5"
  }
 },
 "nbformat": 4,
 "nbformat_minor": 4
}
