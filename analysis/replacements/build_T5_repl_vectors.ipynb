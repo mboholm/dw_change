{
 "cells": [
  {
   "cell_type": "code",
   "execution_count": 1,
   "metadata": {},
   "outputs": [],
   "source": [
    "from transformers import T5TokenizerFast, T5EncoderModel\n",
    "import torch\n",
    "import os\n",
    "import numpy as np\n",
    "from pathlib import Path\n",
    "import time\n",
    "import pandas as pd"
   ]
  },
  {
   "cell_type": "code",
   "execution_count": 2,
   "metadata": {},
   "outputs": [],
   "source": [
    "def naming(full_path):\n",
    "    return full_path.split(\"/\")[-1]"
   ]
  },
  {
   "cell_type": "code",
   "execution_count": 3,
   "metadata": {},
   "outputs": [],
   "source": [
    "def text2t5(data_path, local_models_at, huggface_models = [], device = \"cpu\"):\n",
    "    \n",
    "    t0 = time.time()\n",
    "    \n",
    "    data_path = Path(data_path)\n",
    "\n",
    "    if local_models_at == None:\n",
    "        models = huggface_models\n",
    "    else:\n",
    "        models_path = Path(local_models_at)\n",
    "        models = [f\"{local_models_at}/{model}\" for model in os.listdir(local_models_at)] + huggface_models\n",
    "    \n",
    "    for dwe in os.listdir(data_path):\n",
    "        for meaning in [\"ingroup\", \"outgroup\"]:\n",
    "            for rnd in [\"first_round\", \"second_round\"]:\n",
    "                isExist = os.path.exists(data_path / dwe / meaning / rnd / \"vectors\")\n",
    "                if not isExist:\n",
    "                    os.makedirs(data_path / dwe / meaning / rnd / \"vectors\")   \n",
    "                \n",
    "                replacements = pd.read_csv(data_path / dwe / meaning / rnd / \"replacements.txt\", sep = \"\\t\", index_col = 0) \n",
    "                # remove punctuation? \"deportera\" vs \"deportera.\"\n",
    "                \n",
    "                for model in models:\n",
    "                    t = time.time()\n",
    "                    path = data_path / dwe / meaning / rnd / \"vectors\" / naming(model)\n",
    "                    \n",
    "                    isExist = os.path.exists(path)\n",
    "                    if not isExist:\n",
    "                        os.makedirs(path)   \n",
    "                    print()\n",
    "                    print(f\"{dwe:<15}{meaning:<10}{rnd:<15}{naming(model)}\")\n",
    "\n",
    "                    ########################################################\n",
    "                    tokenizer = T5TokenizerFast.from_pretrained(model, model_max_length=512)\n",
    "                    T5 = T5EncoderModel.from_pretrained(model)\n",
    "                    T5.to(device)\n",
    "                    ########################################################\n",
    "                    vectors = []\n",
    "                    for idx, line in zip(replacements.index, replacements.iloc[:,0]):\n",
    "                        pcent = round((len(replacements.loc[:idx]) / len(replacements)) * 100, 1)\n",
    "                        print(f\"{pcent:<10}{int((time.time()-t))} s.\", end=\"\\r\")\n",
    "                        ##########################################################################\n",
    "                        encoded = tokenizer.encode_plus(line, return_tensors=\"pt\", truncation=True, max_length=512)\n",
    "                        encoded.to(device)\n",
    "\n",
    "                        with torch.no_grad():\n",
    "                            output = T5.encoder(\n",
    "                                input_ids=encoded[\"input_ids\"], \n",
    "                                attention_mask=encoded[\"attention_mask\"], \n",
    "                                return_dict=True\n",
    "                            )\n",
    "                    \n",
    "                        last_hidden = output.last_hidden_state.squeeze()\n",
    "                        vector = torch.mean(last_hidden, dim=0) # TAKE THE MEAN OF ALL INPUTS OF LAST LAYER ... see paper by Ni et al. 2021 \"Sentence-T5\"\n",
    "                        ##########################################################################\n",
    "                        as_str = \" \".join([str(value) for value in vector.tolist()])\n",
    "                        vectors.append(f\"{idx}\\t{as_str}\\n\")\n",
    "                    \n",
    "                    with open(path / \"vecs.txt\", mode = \"w\") as f:\n",
    "                        for vec in vectors:\n",
    "                            f.write(vec)\n",
    "    \n",
    "    print()\n",
    "    t = time.time()\n",
    "    print(\"Done!\", int((t-t0)/60), \"m.\", int((t-t0)%60), \"s.\")"
   ]
  },
  {
   "cell_type": "code",
   "execution_count": 4,
   "metadata": {},
   "outputs": [
    {
     "name": "stdout",
     "output_type": "stream",
     "text": [
      "\n",
      "aterinvandring ingroup   first_round    t5-3b\n",
      "100.0     19 s.\n",
      "aterinvandring ingroup   second_round   t5-3b\n",
      "100.0     29 s.\n",
      "aterinvandring outgroup  first_round    t5-3b\n",
      "100.0     29 s.\n",
      "aterinvandring outgroup  second_round   t5-3b\n",
      "100.0     77 s.\n",
      "berikar        ingroup   first_round    t5-3b\n",
      "100.0     11 s.\n",
      "berikar        ingroup   second_round   t5-3b\n",
      "100.0     16 s.\n",
      "berikar        outgroup  first_round    t5-3b\n",
      "100.0     34 s.\n",
      "berikar        outgroup  second_round   t5-3b\n",
      "100.0     90 s.\n",
      "forortsgang    ingroup   first_round    t5-3b\n",
      "100.0     12 s.\n",
      "forortsgang    ingroup   second_round   t5-3b\n",
      "100.0     23 s.\n",
      "forortsgang    outgroup  first_round    t5-3b\n",
      "100.0     33 s.\n",
      "forortsgang    outgroup  second_round   t5-3b\n",
      "100.0     87 s.\n",
      "globalister    ingroup   first_round    t5-3b\n",
      "100.0     7 s.\n",
      "globalister    ingroup   second_round   t5-3b\n",
      "100.0     12 s.\n",
      "globalister    outgroup  first_round    t5-3b\n",
      "100.0     30 s.\n",
      "globalister    outgroup  second_round   t5-3b\n",
      "100.0     83 s.\n",
      "Done! 10 m. 3 s.\n"
     ]
    }
   ],
   "source": [
    "text2t5(\n",
    "    data_path = Path(\"../data/replacements/data/\"), \n",
    "    local_models_at = None, \n",
    "    huggface_models = [\"google-t5/t5-3b\"], # [\"google-t5/t5-small\"] ['KBLab/bert-base-swedish-cased'], \n",
    "    device = \"cuda\"\n",
    ")"
   ]
  },
  {
   "cell_type": "code",
   "execution_count": 5,
   "metadata": {},
   "outputs": [],
   "source": [
    "#where_my_models_are = \"/home/max/Models/sentenceBERT\""
   ]
  },
  {
   "cell_type": "code",
   "execution_count": 6,
   "metadata": {},
   "outputs": [],
   "source": [
    "# text2bert(\n",
    "#     data_path = Path(\"/home/max/Results/rplc_globalist_2nd_round/data\"), \n",
    "#     local_models_at = where_my_models_are, \n",
    "#     huggface_models = [\"KBLab/sentence-bert-swedish-cased\"], \n",
    "# )"
   ]
  },
  {
   "cell_type": "code",
   "execution_count": null,
   "metadata": {},
   "outputs": [],
   "source": []
  }
 ],
 "metadata": {
  "kernelspec": {
   "display_name": "Python 3 (ipykernel)",
   "language": "python",
   "name": "python3"
  },
  "language_info": {
   "codemirror_mode": {
    "name": "ipython",
    "version": 3
   },
   "file_extension": ".py",
   "mimetype": "text/x-python",
   "name": "python",
   "nbconvert_exporter": "python",
   "pygments_lexer": "ipython3",
   "version": "3.11.7"
  }
 },
 "nbformat": 4,
 "nbformat_minor": 4
}
