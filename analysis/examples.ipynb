{
 "cells": [
  {
   "cell_type": "code",
   "execution_count": 1,
   "metadata": {},
   "outputs": [],
   "source": [
    "from sklearn.metrics.pairwise import cosine_similarity\n",
    "import numpy as np\n",
    "import os\n",
    "from pathlib import Path"
   ]
  },
  {
   "cell_type": "code",
   "execution_count": 2,
   "metadata": {},
   "outputs": [],
   "source": [
    "def centroid(dwe, year, flashback = True, path=\"/home/max/Results/fb_pol-yearly-bert/sentence-bert-swedish-cased/centroid\"):\n",
    "    \n",
    "    if flashback == False:\n",
    "        path = path.replace(\"fb_pol\", \"fm_smh\")\n",
    "    \n",
    "    with open(f\"{path}/{year}.txt\") as f:\n",
    "        for term, vector in [tuple(line.strip(\"\\n\").split(\"\\t\")) for line in f.readlines()]:\n",
    "            if term == dwe:\n",
    "                return np.array([vector.split()])\n",
    "    \n"
   ]
  },
  {
   "cell_type": "code",
   "execution_count": 3,
   "metadata": {},
   "outputs": [],
   "source": [
    "#centroid(\"N1_återvandring\", 2018).shape"
   ]
  },
  {
   "cell_type": "code",
   "execution_count": 4,
   "metadata": {},
   "outputs": [],
   "source": [
    "def get_vectors(dwe, year, flashback = True, path=\"/home/max/Corpora/flashback-pol-time/yearly/contexts_per_term/vectors/sentence-bert-swedish-cased\"):\n",
    "    \n",
    "    if flashback == False:\n",
    "        path = path.replace(\"flashback-pol\", \"familjeliv-smh\")    \n",
    "    \n",
    "    arr = []\n",
    "    \n",
    "    with open(f\"{path}/{dwe}.txt\") as f:\n",
    "        for y, vector in [tuple(line.strip(\"\\n\").split(\"\\t\")) for line in f.readlines()]:\n",
    "            if int(y) == year:\n",
    "                arr.append(vector.split())\n",
    "    \n",
    "    return np.array(arr)\n",
    "    "
   ]
  },
  {
   "cell_type": "code",
   "execution_count": 5,
   "metadata": {
    "scrolled": true
   },
   "outputs": [],
   "source": [
    "#get_vectors(\"N1_återvandring\", 2018).shape"
   ]
  },
  {
   "cell_type": "code",
   "execution_count": 6,
   "metadata": {},
   "outputs": [],
   "source": [
    "# x = centroid(\"N1_återvandring\", 2018)\n",
    "# y = get_vectors(\"N1_återvandring\", 2018)"
   ]
  },
  {
   "cell_type": "code",
   "execution_count": 7,
   "metadata": {},
   "outputs": [],
   "source": [
    "# cs = cosine_similarity(x,y)"
   ]
  },
  {
   "cell_type": "code",
   "execution_count": 8,
   "metadata": {},
   "outputs": [],
   "source": [
    "def get_examples(dwe, year, indices, flashback = True, path=\"/home/max/Corpora/flashback-pol-time/yearly/contexts_per_term/files\"):\n",
    "\n",
    "    if flashback == False:\n",
    "        path = path.replace(\"flashback-pol\", \"familjeliv-smh\")      \n",
    "    \n",
    "    exs = []\n",
    "    \n",
    "    with open(f\"{path}/{dwe}.txt\") as f:\n",
    "        for y, text in [tuple(line.strip(\"\\n\").split(\"\\t\")) for line in f.readlines()]:\n",
    "            if int(y) == year:\n",
    "                exs.append(text)\n",
    "\n",
    "    top_ex = [exs[idx] for idx in indices]\n",
    "\n",
    "    return top_ex"
   ]
  },
  {
   "cell_type": "code",
   "execution_count": 9,
   "metadata": {},
   "outputs": [],
   "source": [
    "# get_examples(\"N1_återvandring\", 2018, [2009, 3020, 3451, 2699, 3129, 3437, 3579, 1786, 2284, 2904])"
   ]
  },
  {
   "cell_type": "code",
   "execution_count": 27,
   "metadata": {},
   "outputs": [],
   "source": [
    "def bertex(dwe, year, flashback = True, top_k = 20, save_to_file = None, create_filename = False):\n",
    "    \n",
    "    year_centroid = centroid(dwe, year, flashback = flashback)\n",
    "    \n",
    "    year_vectors  = get_vectors(dwe, year, flashback = flashback)\n",
    "    \n",
    "    cs = cosine_similarity(year_centroid, year_vectors).flatten()\n",
    "    \n",
    "    top_idxs = np.argpartition(cs, -top_k)[-top_k:]\n",
    "    #print(sorted(top_idxs))\n",
    "    \n",
    "    examples = get_examples(dwe, year, indices = top_idxs, flashback = flashback)\n",
    "    \n",
    "    if save_to_file != None:\n",
    "        corpus = \"Flashback\" if flashback else \"Familjeliv\"\n",
    "        if create_filename:\n",
    "            save_to_file = save_to_file + f\"{corpus.lower()}_{dwe}_{year}.md\"\n",
    "        with open(save_to_file, \"w\") as f:\n",
    "            f.write(f\"## {dwe}, {year}, {corpus}, N = {len(year_vectors)}\\n\")\n",
    "            for n, (score, ex) in enumerate(sorted(list(zip(cs[top_idxs], examples)), reverse = True), start = 1):\n",
    "                f.write(f\"{n}.\\t({score: .2f}) {ex}\\n\")\n",
    "    \n",
    "    return examples\n"
   ]
  },
  {
   "cell_type": "code",
   "execution_count": 11,
   "metadata": {},
   "outputs": [],
   "source": [
    "def create_book(path):\n",
    "    path = Path(path)\n",
    "    book = []\n",
    "    for file in sorted(os.listdir(path)):\n",
    "        with open(path/file) as f:\n",
    "            book.append(f.read())\n",
    "    with open(path/\"book.md\", \"w\") as f:\n",
    "        f.write(f\"# BOOK OF EXAMPLES\\n\")\n",
    "        for b in book:\n",
    "            f.write(b)\n",
    "    \n",
    "    "
   ]
  },
  {
   "cell_type": "markdown",
   "metadata": {},
   "source": [
    "### BOOK 1 (rectified change)"
   ]
  },
  {
   "cell_type": "code",
   "execution_count": null,
   "metadata": {},
   "outputs": [],
   "source": [
    "divergences_of_interest = [\n",
    "    (\"N1_återvandring\", 2011, True),\n",
    "    (\"N1_återvandring\", 2011, False),\n",
    "    (\"N1_återvandring\", 2012, True),\n",
    "    (\"N1_återvandring\", 2012, False), \n",
    "    (\"N1_återvandring\", 2018, True),\n",
    "    (\"N1_återvandring\", 2018, False),\n",
    "    (\"N1_återvandring\", 2019, True),\n",
    "    (\"N1_återvandring\", 2019, False),\n",
    "    (\"N1_kulturberikare\", 2009, True),\n",
    "    (\"N1_kulturberikare\", 2009, False),\n",
    "    (\"N1_kulturberikare\", 2010, True),\n",
    "    (\"N1_kulturberikare\", 2010, False),\n",
    "    (\"V1_berika\", 2006, True),  \n",
    "    (\"V1_berika\", 2006, False),\n",
    "    (\"V1_berika\", 2007, True),  \n",
    "    (\"V1_berika\", 2007, False), \n",
    "    (\"V1_berika\", 2016, True),  \n",
    "    (\"V1_berika\", 2016, False),\n",
    "    (\"V1_berika\", 2017, True),  \n",
    "    (\"V1_berika\", 2017, False),  \n",
    "    (\"N1_globalist\", 2019, True),\n",
    "    (\"N1_globalist\", 2019, False),\n",
    "    (\"N1_globalist\", 2020, True),\n",
    "    (\"N1_globalist\", 2020, False),\n",
    "    (\"V1_hjälpa_på_plats\", 2013, True),\n",
    "    (\"V1_hjälpa_på_plats\", 2013, False),\n",
    "    (\"V1_hjälpa_på_plats\", 2014, True),\n",
    "    (\"V1_hjälpa_på_plats\", 2014, False),   \n",
    "]\n",
    "\n",
    "for dwe, year, fb in divergences_of_interest:\n",
    "    print(dwe, year, end=\"\\r\")\n",
    "    try:\n",
    "        bertex(dwe, year, fb, top_k = 30, save_to_file = \"/home/max/Documents/research/examples_divergence/\", create_filename = True)\n",
    "    except ValueError:\n",
    "        try:\n",
    "            bertex(dwe, year, fb, top_k = 20, save_to_file = \"/home/max/Documents/research/examples_divergence/\", create_filename = True)\n",
    "        except ValueError:\n",
    "            bertex(dwe, year, fb, top_k = 10, save_to_file = \"/home/max/Documents/research/examples_divergence/\", create_filename = True)\n",
    "\n",
    "        "
   ]
  },
  {
   "cell_type": "code",
   "execution_count": null,
   "metadata": {},
   "outputs": [],
   "source": [
    "create_book(\"/home/max/Documents/research/examples_divergence/\")"
   ]
  },
  {
   "cell_type": "markdown",
   "metadata": {},
   "source": [
    "### BOOK 2 (naive change)"
   ]
  },
  {
   "cell_type": "code",
   "execution_count": 28,
   "metadata": {},
   "outputs": [
    {
     "name": "stdout",
     "output_type": "stream",
     "text": [
      "done!obalist 202001113\n"
     ]
    }
   ],
   "source": [
    "for tv in [True, False]:\n",
    "    for dwe, year in [\n",
    "        (\"N1_återvandring\", 2008),\n",
    "        (\"N1_återvandring\", 2009),        \n",
    "        (\"N1_återvandring\", 2011),\n",
    "        (\"N1_återvandring\", 2012),\n",
    "        (\"N1_återvandring\", 2021),\n",
    "        (\"N1_återvandring\", 2022),\n",
    "\n",
    "        (\"N1_kulturberikare\", 2007),\n",
    "        (\"N1_kulturberikare\", 2008),\n",
    "        (\"N1_kulturberikare\", 2011),\n",
    "        (\"N1_kulturberikare\", 2012),\n",
    "        (\"N1_kulturberikare\", 2013),\n",
    "\n",
    "        (\"V1_berika\", 2004),  \n",
    "        (\"V1_berika\", 2005),  \n",
    "        (\"V1_berika\", 2018),  \n",
    "        (\"V1_berika\", 2019),  \n",
    "        (\"V1_berika\", 2020),  \n",
    "        (\"V1_berika\", 2021),  \n",
    "        (\"V1_berika\", 2022), \n",
    "        \n",
    "        (\"V1_kulturberika\", 2009),  \n",
    "        (\"V1_kulturberika\", 2010),  \n",
    "        (\"V1_kulturberika\", 2011),  \n",
    "\n",
    "        (\"N1_globalist\", 2019),\n",
    "        (\"N1_globalist\", 2020)\n",
    "    ]:\n",
    "\n",
    "# for dwe, year, fb in divergences_of_interest:\n",
    "        print(dwe, year, end=\"\\r\")\n",
    "        try:\n",
    "            bertex(dwe, year, tv, save_to_file = \"/home/max/Documents/research/examples_divergence/gch/\", create_filename = True)\n",
    "        except ValueError:\n",
    "            bertex(dwe, year, tv, top_k = 10, save_to_file = \"/home/max/Documents/research/examples_divergence/gch/\", create_filename = True)\n",
    "\n",
    "print(\"done!\")"
   ]
  },
  {
   "cell_type": "code",
   "execution_count": 29,
   "metadata": {},
   "outputs": [],
   "source": [
    "create_book(\"/home/max/Documents/research/examples_divergence/gch/\")"
   ]
  },
  {
   "cell_type": "markdown",
   "metadata": {},
   "source": [
    "## Återvandring"
   ]
  },
  {
   "cell_type": "code",
   "execution_count": null,
   "metadata": {},
   "outputs": [],
   "source": [
    "#bertex(\"N1_återvandring\", 2011, save_to_file=\"/home/max/Desktop/\", create_filename = True)"
   ]
  },
  {
   "cell_type": "code",
   "execution_count": null,
   "metadata": {},
   "outputs": [],
   "source": [
    "bertex(\"N1_återvandring\", 2011)"
   ]
  },
  {
   "cell_type": "code",
   "execution_count": null,
   "metadata": {},
   "outputs": [],
   "source": [
    "bertex(\"N1_återvandring\", 2012)"
   ]
  },
  {
   "cell_type": "code",
   "execution_count": null,
   "metadata": {},
   "outputs": [],
   "source": [
    "bertex(\"N1_återvandring\", 2011, flashback=False)"
   ]
  },
  {
   "cell_type": "code",
   "execution_count": null,
   "metadata": {},
   "outputs": [],
   "source": [
    "bertex(\"N1_återvandring\", 2012, flashback=False)"
   ]
  },
  {
   "cell_type": "code",
   "execution_count": null,
   "metadata": {
    "scrolled": false
   },
   "outputs": [],
   "source": [
    "bertex(\"N1_återvandring\", 2018)"
   ]
  },
  {
   "cell_type": "code",
   "execution_count": null,
   "metadata": {},
   "outputs": [],
   "source": [
    "bertex(\"N1_återvandring\", 2019)"
   ]
  },
  {
   "cell_type": "code",
   "execution_count": null,
   "metadata": {},
   "outputs": [],
   "source": [
    "bertex(\"N1_återvandring\", 2018, flashback = False)"
   ]
  },
  {
   "cell_type": "code",
   "execution_count": null,
   "metadata": {},
   "outputs": [],
   "source": [
    "bertex(\"N1_återvandring\", 2019, flashback = False)"
   ]
  },
  {
   "cell_type": "markdown",
   "metadata": {},
   "source": [
    "## Kulturberika"
   ]
  },
  {
   "cell_type": "code",
   "execution_count": null,
   "metadata": {
    "scrolled": false
   },
   "outputs": [],
   "source": [
    "bertex(\"N1_kulturberikare\", 2009)"
   ]
  },
  {
   "cell_type": "code",
   "execution_count": null,
   "metadata": {
    "scrolled": true
   },
   "outputs": [],
   "source": [
    "bertex(\"N1_kulturberikare\", 2010)"
   ]
  },
  {
   "cell_type": "code",
   "execution_count": null,
   "metadata": {
    "scrolled": false
   },
   "outputs": [],
   "source": [
    "bertex(\"N1_kulturberikare\", 2009, flashback=False)"
   ]
  },
  {
   "cell_type": "code",
   "execution_count": null,
   "metadata": {},
   "outputs": [],
   "source": [
    "bertex(\"N1_kulturberikare\", 2010, flashback=False)"
   ]
  },
  {
   "cell_type": "markdown",
   "metadata": {},
   "source": [
    "## Berika"
   ]
  },
  {
   "cell_type": "code",
   "execution_count": null,
   "metadata": {},
   "outputs": [],
   "source": [
    "bertex(\"V1_berika\", 2006)"
   ]
  },
  {
   "cell_type": "code",
   "execution_count": null,
   "metadata": {},
   "outputs": [],
   "source": [
    "bertex(\"V1_berika\", 2007)"
   ]
  },
  {
   "cell_type": "code",
   "execution_count": null,
   "metadata": {},
   "outputs": [],
   "source": [
    "bertex(\"V1_berika\", 2006, flashback=False)"
   ]
  },
  {
   "cell_type": "code",
   "execution_count": null,
   "metadata": {},
   "outputs": [],
   "source": [
    "bertex(\"V1_berika\", 2007, flashback=False)"
   ]
  },
  {
   "cell_type": "code",
   "execution_count": null,
   "metadata": {},
   "outputs": [],
   "source": [
    "bertex(\"V1_berika\", 2016)"
   ]
  },
  {
   "cell_type": "code",
   "execution_count": null,
   "metadata": {},
   "outputs": [],
   "source": [
    "bertex(\"V1_berika\", 2017)"
   ]
  },
  {
   "cell_type": "code",
   "execution_count": null,
   "metadata": {},
   "outputs": [],
   "source": [
    "bertex(\"V1_berika\", 2016, flashback=False)"
   ]
  },
  {
   "cell_type": "code",
   "execution_count": null,
   "metadata": {},
   "outputs": [],
   "source": [
    "bertex(\"V1_berika\", 2017, flashback=False)"
   ]
  },
  {
   "cell_type": "markdown",
   "metadata": {},
   "source": [
    "## Globalist"
   ]
  },
  {
   "cell_type": "code",
   "execution_count": null,
   "metadata": {},
   "outputs": [],
   "source": [
    "bertex(\"N1_globalist\", 2019)"
   ]
  },
  {
   "cell_type": "code",
   "execution_count": null,
   "metadata": {},
   "outputs": [],
   "source": [
    "bertex(\"N1_globalist\", 2020)"
   ]
  },
  {
   "cell_type": "code",
   "execution_count": null,
   "metadata": {},
   "outputs": [],
   "source": [
    "bertex(\"N1_globalist\", 2019, flashback=False, top_k = 20)"
   ]
  },
  {
   "cell_type": "code",
   "execution_count": null,
   "metadata": {},
   "outputs": [],
   "source": [
    "bertex(\"N1_globalist\", 2020, flashback=False, top_k = 10)"
   ]
  },
  {
   "cell_type": "markdown",
   "metadata": {},
   "source": [
    "## Hjälpa på plats"
   ]
  },
  {
   "cell_type": "code",
   "execution_count": null,
   "metadata": {},
   "outputs": [],
   "source": [
    "bertex(\"V1_hjälpa_på_plats\", 2013)"
   ]
  },
  {
   "cell_type": "code",
   "execution_count": null,
   "metadata": {},
   "outputs": [],
   "source": [
    "bertex(\"V1_hjälpa_på_plats\", 2014)"
   ]
  },
  {
   "cell_type": "code",
   "execution_count": null,
   "metadata": {},
   "outputs": [],
   "source": [
    "bertex(\"V1_hjälpa_på_plats\", 2013, flashback=False)"
   ]
  },
  {
   "cell_type": "code",
   "execution_count": null,
   "metadata": {},
   "outputs": [],
   "source": [
    "bertex(\"V1_hjälpa_på_plats\", 2014, flashback=False)"
   ]
  },
  {
   "cell_type": "code",
   "execution_count": null,
   "metadata": {},
   "outputs": [],
   "source": []
  }
 ],
 "metadata": {
  "kernelspec": {
   "display_name": "Python 3",
   "language": "python",
   "name": "python3"
  },
  "language_info": {
   "codemirror_mode": {
    "name": "ipython",
    "version": 3
   },
   "file_extension": ".py",
   "mimetype": "text/x-python",
   "name": "python",
   "nbconvert_exporter": "python",
   "pygments_lexer": "ipython3",
   "version": "3.8.5"
  }
 },
 "nbformat": 4,
 "nbformat_minor": 4
}
