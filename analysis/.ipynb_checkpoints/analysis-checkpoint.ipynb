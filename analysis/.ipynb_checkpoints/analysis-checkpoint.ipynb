{
 "cells": [
  {
   "cell_type": "code",
   "execution_count": 70,
   "metadata": {},
   "outputs": [],
   "source": [
    "import pandas as pd\n",
    "import numpy as np\n",
    "import os\n",
    "from pathlib import Path\n",
    "import re\n",
    "from util import load_metric\n",
    "from scipy.stats import spearmanr, pearsonr, zscore, rankdata\n",
    "#from collections import Counter"
   ]
  },
  {
   "cell_type": "code",
   "execution_count": 2,
   "metadata": {},
   "outputs": [
    {
     "data": {
      "text/html": [
       "<style>div.output_area pre {white-space: pre;}</style>"
      ],
      "text/plain": [
       "<IPython.core.display.HTML object>"
      ]
     },
     "metadata": {},
     "output_type": "display_data"
    }
   ],
   "source": [
    "from IPython.core.display import display, HTML\n",
    "display(HTML(\"<style>div.output_area pre {white-space: pre;}</style>\"))"
   ]
  },
  {
   "cell_type": "code",
   "execution_count": 3,
   "metadata": {},
   "outputs": [],
   "source": [
    "pd.set_option('display.expand_frame_repr', False)"
   ]
  },
  {
   "cell_type": "code",
   "execution_count": 4,
   "metadata": {},
   "outputs": [],
   "source": [
    "pd.set_option('display.max_columns', None)"
   ]
  },
  {
   "cell_type": "markdown",
   "metadata": {},
   "source": [
    "## Functions"
   ]
  },
  {
   "cell_type": "code",
   "execution_count": 5,
   "metadata": {},
   "outputs": [],
   "source": [
    "def jaccard(a, b):\n",
    "    return len(a.intersection(b)) / len(a.union(b))"
   ]
  },
  {
   "cell_type": "code",
   "execution_count": 6,
   "metadata": {},
   "outputs": [],
   "source": [
    "def q_show(df, var, k = 40, as_table = False, transition=True, min_freq=None):\n",
    "    \"\"\"\n",
    "    Given a dataframe, shows the top k words for variable var each year.\n",
    "    Note: as_table only sypported for transition variables!\n",
    "    \"\"\"\n",
    "    \n",
    "    COLUMNS = [col for col in sorted(df.columns) if col.startswith(var)]\n",
    "\n",
    "    if min_freq == None:    \n",
    "        WORDS = [df[col].sort_values(ascending=False)[:k].index for col in COLUMNS]\n",
    "    else:\n",
    "        TRANSITIONS = [tuple(col.split(\"_\")[-1].split(\":\")) for col in COLUMNS]\n",
    "        WORDS = [df[(df[f\"frq_{trs[0]}\"] >= min_freq) & (df[f\"frq_{trs[1]}\"] >= min_freq)][col].sort_values(ascending=False)[:k].index for col, trs in zip(COLUMNS, TRANSITIONS)]\n",
    "    \n",
    "    ser = [(c, d) for c, d in zip(COLUMNS, WORDS)]\n",
    "    \n",
    "    for i, (col, s) in enumerate(ser):\n",
    "        if i > 0:\n",
    "            jac = round(jaccard(set(s), ser[i-1][-1]), 2)\n",
    "        else:\n",
    "            jac = None\n",
    "        \n",
    "        print()\n",
    "        print(col, \"jaccard =\", jac)\n",
    "\n",
    "        if transition:\n",
    "            if as_table == False:\n",
    "                print(s)\n",
    "            else:\n",
    "                trans  = col.split(\"_\")[-1]\n",
    "                ti, tj = tuple(trans.split(\":\"))\n",
    "                table  = [] \n",
    "                for word in s:\n",
    "                    v    = df.loc[word][col]\n",
    "                    f_ti = int(df.loc[word][f\"frq_{ti}\"])\n",
    "                    f_tj = int(df.loc[word][f\"frq_{tj}\"])\n",
    "                    gch  = df.loc[word][f\"gch_{trans}\"]\n",
    "                    m    = df.loc[word][f\"mccc_{trans}\"]\n",
    "                    std  = df.loc[word][f\"stdc_{trans}\"]\n",
    "                    columns = [\"Word\", var.upper(), \"n_i\", \"n_j\", \"GCH\", \"Mctrl\", \"Sctrl\"]\n",
    "                    table.append([word, v, f_ti, f_tj, gch, m, std])\n",
    "                print(pd.DataFrame(table, columns=columns).dropna().round(3))\n",
    "        \n",
    "        else:\n",
    "            year = col.split(\"_\")[-1]\n",
    "            table = []\n",
    "            for word in s:\n",
    "                v    = df.loc[word][col]\n",
    "                f = int(df.loc[word][f\"frq_{year}\"])\n",
    "                columns = [\"Word\", var.upper(), \"Freq\"]\n",
    "                table.append([word, v, f])\n",
    "            print(pd.DataFrame(table, columns=columns).dropna().round(3))    "
   ]
  },
  {
   "cell_type": "code",
   "execution_count": 7,
   "metadata": {},
   "outputs": [],
   "source": [
    "def change_show(df, var, targets, th=4.781):\n",
    "    \"\"\"\n",
    "    Given a dataframe, shows the value for a variable of target \n",
    "    each transition/year.\n",
    "    Provide threshold to only show the targets meeting the threshold\n",
    "    \"\"\"\n",
    "\n",
    "    for col in sorted([col for col in df.columns if col.startswith(var)]):\n",
    "        trans  = col.split(\"_\")[-1]\n",
    "        ti, tj = tuple(trans.split(\":\"))\n",
    "        table  = [] \n",
    "        \n",
    "        for word in targets:\n",
    "            v    = df.loc[word][col]\n",
    "            f_ti = int(df.loc[word][f\"frq_{ti}\"])\n",
    "            f_tj = int(df.loc[word][f\"frq_{tj}\"])\n",
    "            \n",
    "            if th != None:\n",
    "                if v > th:\n",
    "                    table.append([word, v, f_ti, f_tj])\n",
    "            else:\n",
    "                table.append([word, v, f_ti, f_tj])\n",
    "        \n",
    "        columns = [\"Word\", \"Value\", f\"n_{ti}\", f\"n_{tj}\"]\n",
    "        if table != []:\n",
    "            display = pd.DataFrame(table, columns=columns)\n",
    "            print()\n",
    "            print(col)\n",
    "            print(display)                "
   ]
  },
  {
   "cell_type": "code",
   "execution_count": 8,
   "metadata": {},
   "outputs": [],
   "source": [
    "def v_renamer(var_string):\n",
    "    var_string = var_string.split(\"_\")\n",
    "    yi, yj     = tuple(var_string[-1].split(\":\"))\n",
    "    yi         = yi[-2:]\n",
    "    yj         = yj[-2:]\n",
    "    return f\"{yi}:{yj}\""
   ]
  },
  {
   "cell_type": "code",
   "execution_count": 9,
   "metadata": {},
   "outputs": [],
   "source": [
    "def overview(df, var, targets, prefixes = (\"N\", \"A\", \"V\"), th=4.781, transition = True):\n",
    "    \"\"\" \n",
    "    Similar to change_show but:\n",
    "    * Show data as one table\n",
    "    * Only show variable (change_show display additional data)\n",
    "    * Provide th to show True/False\n",
    "    \"\"\"\n",
    "    \n",
    "    cols = sorted([col for col in df.columns if col.startswith(var)])\n",
    "    targets = [w for w in targets if w.startswith(prefixes)]\n",
    "    targets.sort()\n",
    "    if transition:\n",
    "        renamer = {k: v_renamer(k) for k in cols}\n",
    "    else:\n",
    "        renamer = {k: k.split(\"_\")[-1][-2:] for k in cols}\n",
    "    \n",
    "    if th != None:\n",
    "        out = df.loc[targets, cols] > th\n",
    "        out.rename(columns = renamer, inplace = True)\n",
    "        print(var.upper())\n",
    "        print(out)\n",
    "    else:\n",
    "        out = df.loc[targets, cols].round(3)\n",
    "        out.rename(columns = renamer, inplace = True)\n",
    "        print(var.upper())\n",
    "        print(out)                "
   ]
  },
  {
   "cell_type": "code",
   "execution_count": 10,
   "metadata": {},
   "outputs": [],
   "source": [
    "def read_csv(path):\n",
    "    return pd.read_csv(path, sep=\";\", index_col=0)"
   ]
  },
  {
   "cell_type": "code",
   "execution_count": 11,
   "metadata": {},
   "outputs": [],
   "source": [
    "def get_dwts(df, path):\n",
    "    with open(Path(path), \"r\") as f:\n",
    "        dwt_roots = [w.strip(\"\\n\") for w in f.readlines()]\n",
    "    dwt_regex = re.compile(f\"({'|'.join(dwt_roots)})\")    \n",
    "    dwts = [str(w) for w in df.index if re.search(dwt_regex, str(w)) != None]\n",
    "    return dwts    "
   ]
  },
  {
   "cell_type": "code",
   "execution_count": 12,
   "metadata": {},
   "outputs": [],
   "source": [
    "def get_variables(df):\n",
    "    \"\"\"\n",
    "    Summeraises variables of a dataframe\n",
    "    \"\"\"\n",
    "    \n",
    "    yr_prefix = set()\n",
    "    tr_prefix = set()\n",
    "    years = set()\n",
    "    transitions = set()\n",
    "    \n",
    "    for v in df.columns:\n",
    "        prefix, suffix = tuple(v.split(\"_\"))\n",
    "        if \":\" in suffix:\n",
    "            tr_prefix.add(prefix)\n",
    "            transitions.add(suffix)\n",
    "        else:\n",
    "            yr_prefix.add(prefix)\n",
    "            years.add(suffix)\n",
    "    \n",
    "    return {\n",
    "        \"yr_prefix\": yr_prefix, \n",
    "        \"tr_prefix\": tr_prefix,\n",
    "        \"years\": years,\n",
    "        \"transitions\": transitions\n",
    "        }    "
   ]
  },
  {
   "cell_type": "code",
   "execution_count": 13,
   "metadata": {},
   "outputs": [],
   "source": [
    "def checker(word, transition, controls_dir, n_ctrl=10, variable=\"cosine_change\"):\n",
    "    \"\"\"\n",
    "    Goes to original data, shows the control change/similarity of a word \n",
    "    at a transition.\n",
    "    param word\n",
    "    param transition    tupple of ti and tj \n",
    "    param controls_dir  where to find controls\n",
    "    param variable      \"cosine_change\" or \"cosine_sim\"\n",
    "    \"\"\"\n",
    "    \n",
    "    ti, tj = transition\n",
    "    basename = Path(controls_dir) / variable \n",
    "    \n",
    "    filenames = [f\"{ti}_{tj}_control{n}.txt\" for n in range(1, n_ctrl+1)]\n",
    "    \n",
    "    values = []\n",
    "    \n",
    "    for file in filenames:\n",
    "        data = load_metric(basename / file)\n",
    "        value = data[word] if word in data else \"NO MEASURE\"\n",
    "        values.append(value)\n",
    "        print(file, value)\n",
    "        \n",
    "    return values   "
   ]
  },
  {
   "cell_type": "code",
   "execution_count": 14,
   "metadata": {},
   "outputs": [],
   "source": [
    "def ncd(DATA, CORPUS, VAR, VAL): # No Change Detector\n",
    "\n",
    "    corpus = Path(CORPUS)\n",
    "    transitions = find_transitions(corpus / \"vocab\")    \n",
    "\n",
    "    for yi, yj in transitions:\n",
    "        print()\n",
    "        print(f\"{yi}:{yj}\")\n",
    "        \n",
    "        A = list(DATA[DATA[f\"{VAR}_{yi}:{yj}\"] == VAL].index)\n",
    "        print(\"No change (A):\", len(A))\n",
    "        B = list(DATA[DATA[f\"{VAR}_{yi}:{yj}\"] != VAL].index)\n",
    "        print(\"Other (B):\", len(B))\n",
    "        print()\n",
    "        print(\"{: <20} {}\".format(\"A\", \"B\"))\n",
    "        print(\"{: <20} {}\".format(\"---\", \"---\"))\n",
    "        for w1, w2 in zip(A[:100], B[:100]):\n",
    "            print(f\"{w1: <20} {w2}\")"
   ]
  },
  {
   "cell_type": "code",
   "execution_count": 15,
   "metadata": {},
   "outputs": [],
   "source": [
    "def find_transitions(source, mode=\"file\", var = None):\n",
    "    \"\"\"\n",
    "    List transitions. \n",
    "    For mode = \"file\", expected source: filepath\n",
    "    For mode = \"df\", expected source: pandas DataFrame; provide varible var\n",
    "    \"\"\"\n",
    "    if mode == \"file\":\n",
    "        years = [int(file.strip(\".txt\")) for file in os.listdir(source)]\n",
    "        years.sort()\n",
    "        transitions = [(year, years[i]) for i, year in enumerate(years[:-1], start=1)]\n",
    "    if mode == \"df\":\n",
    "        cols = [col for col in df.columns if col.startswith(var)]\n",
    "        cols.sort()\n",
    "        transitions = [tuple(col.split(\"_\")[-1].split(\":\")) for col in cols]\n",
    "    return transitions"
   ]
  },
  {
   "cell_type": "code",
   "execution_count": 16,
   "metadata": {},
   "outputs": [],
   "source": [
    "def w_overlap_checker(corpus, th_c):\n",
    "    \n",
    "    corpus = Path(corpus)\n",
    "    transitions = find_transitions(corpus / \"vocab\")\n",
    "    \n",
    "    for yi, yj in transitions:\n",
    "        print()\n",
    "        print(f\"{yi}:{yj}\")\n",
    "        \n",
    "        voc_a = load_metric(corpus / f\"vocab/{yi}.txt\")\n",
    "        voc_b = load_metric(corpus / f\"vocab/{yj}.txt\")\n",
    "\n",
    "        voc_a = {w: c for w, c in voc_a.items() if c >= th_c}\n",
    "        voc_b = {w: c for w, c in voc_b.items() if c >= th_c}\n",
    "        print(f\"{yi}:\", len(voc_a))\n",
    "        print(f\"{yj}:\", len(voc_b))\n",
    "        print(f\"{yi} and {yj}:\", len([w for w in voc_a.keys() if w in voc_b.keys()]))\n",
    "        print(f\"{yi} or {yj}:\", len(set(voc_a.keys()).union(set(voc_b.keys()))))\n",
    "        print(f\"{yi} - {yj}:\", len(set(voc_a.keys()).difference(set(voc_b.keys()))))"
   ]
  },
  {
   "cell_type": "code",
   "execution_count": 17,
   "metadata": {},
   "outputs": [],
   "source": [
    "def correlation(df, var1, var2, mode=1, norm1=None, norm2=None, metric=\"pearson\"):    \n",
    "    \"\"\"\n",
    "    \n",
    "    ...\n",
    "    param norm1  function to normalize/transform var1 with (default None); provide function \n",
    "                 e.g. zscore or np.log \n",
    "    \"\"\"\n",
    "\n",
    "    transitions = find_transitions(df, \"df\", var1) \n",
    "    # Assumes `var1` and `var2` are both transition variables\n",
    "    # Consider implement `var1cut` parameter as in `universal_correlation`\n",
    "\n",
    "    if mode == 1:\n",
    "        correlation = df[[f\"{var1}_{ti}:{tj}\" for ti, tj in transitions]].corrwith(df[[f\"{var2}_{ti}:{tj}\" for ti, tj in transitions]], axis=1)\n",
    "    \n",
    "    if mode == 2:\n",
    "        table = []\n",
    "        for w in df.index:\n",
    "            valid = []\n",
    "            X = df[[f\"{var1}_{ti}:{tj}\" for ti, tj in transitions]].loc[w]\n",
    "            Y = df[[f\"{var2}_{ti}:{tj}\" for ti, tj in transitions]].loc[w]\n",
    "            for x, y in zip(X, Y):\n",
    "                if pd.isna(x):\n",
    "                    continue\n",
    "                if pd.isna(y):\n",
    "                    continue\n",
    "                valid.append((x, y))\n",
    "            \n",
    "            N = len(valid)\n",
    "            \n",
    "            if N < 2:\n",
    "                v = np.nan\n",
    "                p = np.nan\n",
    "            else:\n",
    "                X, Y = zip(*valid)\n",
    "                if norm1 != None:\n",
    "                    X = norm1(X)\n",
    "                if norm2 != None:\n",
    "                    Y = norm2(Y)\n",
    "                if metric == \"pearson\":\n",
    "                    R_data = pearsonr(X, Y)\n",
    "                    v = R_data.statistic\n",
    "                    p = R_data.pvalue\n",
    "\n",
    "                if metric == \"spearman\":\n",
    "                    R_data = spearmanr(X, Y)\n",
    "                    v = R_data.statistic\n",
    "                    p = R_data.pvalue\n",
    "                    \n",
    "            table.append([w, round(v, 2), round(p, 2), N])\n",
    "        correlation = pd.DataFrame(table, columns=[\"Word\", \"Correlation\", \"p\", \"N\"])\n",
    "        \n",
    "    return correlation"
   ]
  },
  {
   "cell_type": "code",
   "execution_count": 27,
   "metadata": {},
   "outputs": [],
   "source": [
    "def nonaninf(x, y):\n",
    "    if pd.isna(x):\n",
    "        return False\n",
    "    if pd.isna(y):\n",
    "        return False   \n",
    "    if abs(x) == np.inf:\n",
    "        return False\n",
    "    if abs(y) == np.inf:\n",
    "        return False\n",
    "    return True"
   ]
  },
  {
   "cell_type": "code",
   "execution_count": 53,
   "metadata": {},
   "outputs": [],
   "source": [
    "def nonalist(lst):\n",
    "    for x in lst:\n",
    "        if pd.isna(x):\n",
    "            return False\n",
    "    return True"
   ]
  },
  {
   "cell_type": "code",
   "execution_count": 31,
   "metadata": {},
   "outputs": [],
   "source": [
    "def collect_var(df, var, varcut):\n",
    "    X = []\n",
    "    varcol = sorted([col for col in df.columns if col.startswith(var)])\n",
    "    if varcut != None:\n",
    "        del varcol[varcut]\n",
    "    for col in varcol:\n",
    "        X.extend(list(df[col]))\n",
    "    return X    "
   ]
  },
  {
   "cell_type": "code",
   "execution_count": 40,
   "metadata": {},
   "outputs": [],
   "source": [
    "def universal_correlation(\n",
    "    df, \n",
    "    var1, \n",
    "    var2, \n",
    "    var1cut = None, \n",
    "    var2cut = None, \n",
    "    norm1=None, \n",
    "    norm2=None, \n",
    "    metric=\"pearson\"):\n",
    "    # https://stackoverflow.com/questions/16031056/how-to-form-tuple-column-from-two-columns-in-pandas\n",
    "    \n",
    "    X = collect_var(df, var1, var1cut)\n",
    "    Y = collect_var(df, var2, var2cut)\n",
    "            \n",
    "    print(\"Length:\")\n",
    "    print(\"X:\", len(X))\n",
    "    print(\"Y:\", len(Y))\n",
    "    \n",
    "    X, Y = zip(*[(x, y) for x, y in zip(X, Y) if nonaninf(x,y)])\n",
    "        \n",
    "    if norm1 != None:\n",
    "        X = norm1(X)\n",
    "    if norm2 != None:\n",
    "        Y = norm2(Y)\n",
    "    \n",
    "    if metric == \"pearson\":\n",
    "        R_data = pearsonr(X, Y)\n",
    "    if metric == \"spearman\":\n",
    "        R_data = spearmanr(X, Y)\n",
    "        \n",
    "    v = R_data.statistic\n",
    "    p = R_data.pvalue\n",
    "    \n",
    "    return v, p"
   ]
  },
  {
   "cell_type": "code",
   "execution_count": 74,
   "metadata": {},
   "outputs": [],
   "source": [
    "def model_comparison(\n",
    "    dfs,\n",
    "    mnames,\n",
    "    var, \n",
    "    norm=None, \n",
    "    targets = Path(\"../data/utils/dwts.txt\"), # =get_dwts(df_yearly_dwt, dwt_path)\n",
    "    prefix = (\"N\", \"A\", \"V\"),\n",
    "    mode=\"universal\", # no other mode supported at the moment ...\n",
    "    word=None, # not supported at the moment ... \n",
    "    metric=\"pearson\"\n",
    "):\n",
    "    \n",
    "    cols = [col for col in dfs[0].columns if col.startswith(var)] # based on first df\n",
    "    trgs = [trg for trg in get_dwts(dfs[0], targets)]              # based on first df\n",
    "    trgs = [trg for trg in trgs if trg.startswith(prefix)] if prefix != None else trgs\n",
    "    \n",
    "    _XY = []\n",
    "    if mode == \"universal\":    \n",
    "        for model, mname in zip(dfs, mnames):\n",
    "            this_model = []\n",
    "            for col in cols:\n",
    "                this_model.extend(model.loc[trgs, col])\n",
    "            _XY.append(this_model)\n",
    "    \n",
    "    _XY = list(zip(*[xyz for xyz in zip(*_XY) if nonalist(xyz)])) # note: xyz is a variable for a tuple\n",
    "    \n",
    "    print(\"Length:\")\n",
    "    for vector in _XY:\n",
    "        print(len(vector))\n",
    "    \n",
    "    _XY = [norm(model) for model in _XY] if norm != None else _XY\n",
    "    \n",
    "    if metric == \"pearson\":\n",
    "        R_data = np.corrcoef(_XY)\n",
    "    if metric == \"spearman\":\n",
    "        _XY = [rankdata(model) for model in _XY]\n",
    "        R_data = np.corrcoef(_XY)\n",
    "        \n",
    "    out = pd.DataFrame(R_data, columns=mnames, index=mnames).round(3)\n",
    "\n",
    "    return out"
   ]
  },
  {
   "cell_type": "code",
   "execution_count": 21,
   "metadata": {},
   "outputs": [],
   "source": [
    "def visualize(df, var):\n",
    "    pass"
   ]
  },
  {
   "cell_type": "markdown",
   "metadata": {},
   "source": [
    "## Files"
   ]
  },
  {
   "cell_type": "code",
   "execution_count": 22,
   "metadata": {},
   "outputs": [],
   "source": [
    "#file_path = Path(\"../../dw_results/fb_pol-yearly-radical3.csv\")\n",
    "#file_path = Path(\"fb_pol-yearly-radical3.csv\")\n",
    "results_dir = Path(\"../../dw_results\")"
   ]
  },
  {
   "cell_type": "code",
   "execution_count": 23,
   "metadata": {
    "scrolled": true
   },
   "outputs": [
    {
     "name": "stdout",
     "output_type": "stream",
     "text": [
      "fb_pol-yearly-radical3-restricted.csv\n",
      "fb_pol-yearly-bert-sentence-bert-swedish-cased.csv\n",
      "fb_pol-yearly-bert-sts_fbmodel_big_40epochs.csv\n",
      "fb_pol-yearly-bert-fb_nli.csv\n",
      "fb_pol-yearly-radical3-full.csv\n",
      "fb_pol-yearly-bert-sts_fbmodel.csv\n"
     ]
    }
   ],
   "source": [
    "files = os.listdir(results_dir)\n",
    "_ = [print(file) for file in files]"
   ]
  },
  {
   "cell_type": "code",
   "execution_count": 24,
   "metadata": {},
   "outputs": [],
   "source": [
    "dwt_path = \"../data/utils/dwts.txt\""
   ]
  },
  {
   "cell_type": "code",
   "execution_count": 25,
   "metadata": {},
   "outputs": [],
   "source": [
    "#crp_tib = Path(\"/srv/data/gusbohom/root/corpora/toypol/time_bin/radical3/\")\n",
    "corpus = Path(\"/home/max/Corpora/flashback-pol-time/yearly/fb-pt-radical3\")"
   ]
  },
  {
   "cell_type": "code",
   "execution_count": 89,
   "metadata": {},
   "outputs": [],
   "source": [
    "df_yearly = read_csv(results_dir / \"fb_pol-yearly-radical3-full.csv\")"
   ]
  },
  {
   "cell_type": "code",
   "execution_count": 26,
   "metadata": {},
   "outputs": [],
   "source": [
    "df_yearly_dwt = read_csv(results_dir / \"fb_pol-yearly-radical3-restricted.csv\")"
   ]
  },
  {
   "cell_type": "code",
   "execution_count": 45,
   "metadata": {},
   "outputs": [],
   "source": [
    "df_bert_nli = read_csv(results_dir / \"fb_pol-yearly-bert-fb_nli.csv\")"
   ]
  },
  {
   "cell_type": "code",
   "execution_count": 76,
   "metadata": {},
   "outputs": [],
   "source": [
    "df_bert_sts = read_csv(results_dir / \"fb_pol-yearly-bert-sts_fbmodel.csv\")"
   ]
  },
  {
   "cell_type": "code",
   "execution_count": 90,
   "metadata": {},
   "outputs": [],
   "source": [
    "df_bert_big = read_csv(results_dir / \"fb_pol-yearly-bert-sts_fbmodel_big_40epochs.csv\")"
   ]
  },
  {
   "cell_type": "code",
   "execution_count": 91,
   "metadata": {},
   "outputs": [],
   "source": [
    "df_bert_kb  = read_csv(results_dir / \"fb_pol-yearly-bert-sentence-bert-swedish-cased.csv\")"
   ]
  },
  {
   "cell_type": "code",
   "execution_count": null,
   "metadata": {},
   "outputs": [],
   "source": [
    "#toypol = read_csv(Path(\"../../toypol-time_bin.csv\"))"
   ]
  },
  {
   "cell_type": "code",
   "execution_count": null,
   "metadata": {},
   "outputs": [],
   "source": [
    "#df_time_bin = read_csv(results_dir / \"fb_pol-time_bin-radical3-full.csv\")"
   ]
  },
  {
   "cell_type": "code",
   "execution_count": null,
   "metadata": {},
   "outputs": [],
   "source": [
    "#df_time_bin_dwt = read_csv(results_dir / \"fb_pol-time_bin-radical3-restricted.csv\")"
   ]
  },
  {
   "cell_type": "markdown",
   "metadata": {},
   "source": [
    "## Q-Show"
   ]
  },
  {
   "cell_type": "markdown",
   "metadata": {},
   "source": [
    "### Check"
   ]
  },
  {
   "cell_type": "raw",
   "metadata": {},
   "source": [
    "ncd(DATA=df_yearly, CORPUS=corpus, VAR=\"gsim\", VAL=1.0)"
   ]
  },
  {
   "cell_type": "raw",
   "metadata": {},
   "source": [
    "w_overlap_checker(corpus=corpus, th_c=100)"
   ]
  },
  {
   "cell_type": "markdown",
   "metadata": {},
   "source": [
    "### Yearly"
   ]
  },
  {
   "cell_type": "markdown",
   "metadata": {},
   "source": [
    "#### SGNS"
   ]
  },
  {
   "cell_type": "code",
   "execution_count": null,
   "metadata": {
    "scrolled": true
   },
   "outputs": [],
   "source": [
    "q_show(df_yearly, \"rch\", as_table = True)\n",
    "# q_show(\"rsim\")\n",
    "# q_show(\"gch\")\n",
    "# q_show(\"gsim\")"
   ]
  },
  {
   "cell_type": "code",
   "execution_count": null,
   "metadata": {},
   "outputs": [],
   "source": [
    "checker(\n",
    "    word=\"gyllene\", \n",
    "    transition=(2000,2001), \n",
    "    controls_dir=\"/home/max/Results/fb_pol-yearly-rad3\", \n",
    "    n_ctrl=10, \n",
    "    variable=\"cosine_change\")"
   ]
  },
  {
   "cell_type": "code",
   "execution_count": null,
   "metadata": {},
   "outputs": [],
   "source": [
    "q_show(df_yearly, \"rch\", as_table = True, min_freq=50)"
   ]
  },
  {
   "cell_type": "markdown",
   "metadata": {},
   "source": [
    "#### NLI"
   ]
  },
  {
   "cell_type": "code",
   "execution_count": null,
   "metadata": {
    "scrolled": true
   },
   "outputs": [],
   "source": [
    "q_show(df_bert_nli, \"rch\", as_table = True)"
   ]
  },
  {
   "cell_type": "code",
   "execution_count": null,
   "metadata": {
    "scrolled": true
   },
   "outputs": [],
   "source": [
    "q_show(df_bert_nli, \"gch\", as_table = True)"
   ]
  },
  {
   "cell_type": "code",
   "execution_count": null,
   "metadata": {
    "scrolled": true
   },
   "outputs": [],
   "source": [
    "q_show(df_bert_nli, \"spr\", as_table = True, transition=False)"
   ]
  },
  {
   "cell_type": "code",
   "execution_count": 88,
   "metadata": {},
   "outputs": [
    {
     "name": "stdout",
     "output_type": "stream",
     "text": [
      "\n",
      "anospr_2002 jaccard = None\n",
      "                Word  ANOSPR  Freq\n",
      "0    V1_kulturberika   0.936     2\n",
      "1          V1_berika  -1.569    25\n",
      "2  N1_kulturberikare  -4.568     9\n",
      "\n",
      "anospr_2003 jaccard = 1.0\n",
      "                Word  ANOSPR  Freq\n",
      "0  N1_kulturberikare   2.437     5\n",
      "1          V1_berika   1.582    14\n",
      "2        N1_berikare  -0.171     8\n",
      "\n",
      "anospr_2004 jaccard = 1.0\n",
      "                Word  ANOSPR  Freq\n",
      "0          V1_berika  -0.705    54\n",
      "1  N1_kulturberikare  -3.209    20\n",
      "2    V1_kulturberika  -4.016     2\n",
      "\n",
      "anospr_2005 jaccard = 1.0\n",
      "                Word  ANOSPR  Freq\n",
      "0    V1_kulturberika  -0.167     4\n",
      "1          V1_berika  -0.851    55\n",
      "2        N1_berikare  -0.982     4\n",
      "3  N1_kulturberikare  -1.127    14\n",
      "\n",
      "anospr_2006 jaccard = 1.0\n",
      "                Word  ANOSPR  Freq\n",
      "0  N1_kulturberikare   0.781    51\n",
      "1    V1_kulturberika  -0.264     9\n",
      "2          V1_berika  -0.436   162\n",
      "3        N1_berikare  -1.097    14\n",
      "4       N1_globalist  -1.133    26\n",
      "\n",
      "anospr_2007 jaccard = 1.0\n",
      "                Word  ANOSPR  Freq\n",
      "0       N1_globalist   0.633    18\n",
      "1          V1_berika   0.455   579\n",
      "2      V1_återvandra   0.128    17\n",
      "3    A1_globalistisk   0.018     7\n",
      "4     N1C_globalistX  -0.103     8\n",
      "5    V1_kulturberika  -0.298   110\n",
      "6      N1C_berikareX  -0.617    32\n",
      "7        N1_berikare  -1.024   185\n",
      "8  N1_kulturberikare  -1.561   255\n",
      "\n",
      "anospr_2008 jaccard = 1.0\n",
      "                              Word  ANOSPR  Freq\n",
      "0                     N1_globalist   1.157   109\n",
      "1   P1_självständig_utrikespolitik   0.913     3\n",
      "2                        V1_berika   0.811  1272\n",
      "3                  N1_återvandring   0.528    49\n",
      "4                  A1_globalistisk   0.271    33\n",
      "5                    V1_återvandra   0.220    22\n",
      "6                   N1C_globalistX  -0.060   185\n",
      "7                  V1_kulturberika  -0.327   179\n",
      "8                    N1C_berikareX  -0.500    84\n",
      "9                   N1_förortsgäng  -0.687     7\n",
      "10                 N2_återvandrare  -0.781     3\n",
      "11                     N1_berikare  -0.802   602\n",
      "12               N1_kulturberikare  -1.002   689\n",
      "13              N1C_återvandringsX  -1.138    63\n",
      "14              N1C_kulturberikarX  -1.393    34\n",
      "\n",
      "anospr_2009 jaccard = 1.0\n",
      "                  Word  ANOSPR  Freq\n",
      "0            V1_berika   0.676  1773\n",
      "1      A1_globalistisk   0.387    41\n",
      "2        V1_återvandra   0.338    26\n",
      "3   V1_hjälpa_på_plats   0.023    14\n",
      "4         N1_globalist  -0.006   103\n",
      "5      V1_kulturberika  -0.010   236\n",
      "6       N1C_globalistX  -0.032   101\n",
      "7        N1C_berikareX  -0.370    87\n",
      "8          N1_berikare  -0.740   611\n",
      "9   N1C_kulturberikarX  -0.862    11\n",
      "10   N1_kulturberikare  -0.905   525\n",
      "11  N1C_återvandringsX  -1.200    15\n",
      "12      N1_förortsgäng  -1.615    18\n",
      "13     N1_återvandring  -1.757    36\n",
      "\n",
      "anospr_2010 jaccard = 1.0\n",
      "                              Word  ANOSPR  Freq\n",
      "0               V1_hjälpa_på_plats   1.315    30\n",
      "1                        V1_berika   0.666  1748\n",
      "2   P1_självständig_utrikespolitik   0.448     3\n",
      "3                    V1_återvandra   0.130    44\n",
      "4                     N1_globalist  -0.023   152\n",
      "5                  V1_kulturberika  -0.294   270\n",
      "6                    N1C_berikareX  -0.351    65\n",
      "7                  A1_globalistisk  -0.382    54\n",
      "8               N1C_kulturberikarX  -0.431    13\n",
      "9                   N1_förortsgäng  -0.455     3\n",
      "10                  N1C_globalistX  -0.574   112\n",
      "11               N1_kulturberikare  -0.638   925\n",
      "12                     N1_berikare  -0.687   441\n",
      "13                 N2_återvandrare  -0.964     7\n",
      "14              N1C_återvandringsX  -1.254    59\n",
      "15                 N1_återvandring  -1.317   109\n",
      "\n",
      "anospr_2011 jaccard = 1.0\n",
      "                              Word  ANOSPR  Freq\n",
      "0   P1_självständig_utrikespolitik   1.078     4\n",
      "1                    V1_återvandra   0.444    31\n",
      "2                        V1_berika   0.407  1759\n",
      "3                  V1_kulturberika   0.045   232\n",
      "4                  N1_återvandring   0.043    34\n",
      "5                N1_kulturberikare  -0.272   533\n",
      "6                  A1_globalistisk  -0.274   111\n",
      "7                    N1C_berikareX  -0.325    33\n",
      "8               N1C_kulturberikarX  -0.405    17\n",
      "9                     N1_globalist  -0.518   188\n",
      "10                     N1_berikare  -0.612   376\n",
      "11                  N1C_globalistX  -0.702   167\n",
      "12              N1C_återvandringsX  -1.464    17\n",
      "13                  N1_förortsgäng  -1.669     6\n",
      "14              V1_hjälpa_på_plats  -1.844    25\n",
      "\n",
      "anospr_2012 jaccard = 1.0\n",
      "                              Word  ANOSPR  Freq\n",
      "0                     N1_globalist   0.857   476\n",
      "1                        V1_berika   0.702  1480\n",
      "2                    V1_återvandra   0.459    34\n",
      "3                  N1_återvandring   0.310    90\n",
      "4                   N1_förortsgäng   0.164     8\n",
      "5               N1C_återvandringsX   0.127    56\n",
      "6                  V1_kulturberika  -0.051   215\n",
      "7                  A1_globalistisk  -0.210   215\n",
      "8                    N1C_berikareX  -0.262    35\n",
      "9                N1_kulturberikare  -0.341   533\n",
      "10  P1_självständig_utrikespolitik  -0.524     5\n",
      "11                     N1_berikare  -0.538   393\n",
      "12              N1C_kulturberikarX  -0.687    20\n",
      "13                  N1C_globalistX  -0.806   261\n",
      "14                 N2_återvandrare  -0.910     2\n",
      "15              V1_hjälpa_på_plats  -1.921    41\n",
      "\n",
      "anospr_2013 jaccard = 1.0\n",
      "                              Word  ANOSPR  Freq\n",
      "0                    V1_återvandra   0.888    51\n",
      "1                     N1_globalist   0.686   408\n",
      "2                        V1_berika   0.439  1200\n",
      "3               V1_hjälpa_på_plats   0.368    50\n",
      "4                  A1_globalistisk   0.220   174\n",
      "5   P1_självständig_utrikespolitik   0.163    11\n",
      "6               N1C_kulturberikarX  -0.006    16\n",
      "7                  N1_återvandring  -0.029   110\n",
      "8                N1_kulturberikare  -0.276   401\n",
      "9                    N1C_berikareX  -0.308    27\n",
      "10                 V1_kulturberika  -0.310   164\n",
      "11              N1C_återvandringsX  -0.351    75\n",
      "12                     N1_berikare  -0.487   237\n",
      "13                 N2_återvandrare  -0.534     5\n",
      "14                  N1_förortsgäng  -0.535     8\n",
      "15                  N1C_globalistX  -0.561   272\n",
      "\n",
      "anospr_2014 jaccard = 1.0\n",
      "                              Word  ANOSPR  Freq\n",
      "0                  N2_återvandrare   0.317     5\n",
      "1                    V1_återvandra   0.066    31\n",
      "2               N1C_återvandringsX   0.031    59\n",
      "3   P1_självständig_utrikespolitik   0.010    10\n",
      "4                     N1_globalist  -0.066   479\n",
      "5                  A1_globalistisk  -0.113   209\n",
      "6                        V1_berika  -0.267   991\n",
      "7                   N1_förortsgäng  -0.288    24\n",
      "8                  V1_kulturberika  -0.340    97\n",
      "9                    N1C_berikareX  -0.430    10\n",
      "10               N1_kulturberikare  -0.494   172\n",
      "11                     N1_berikare  -0.506   174\n",
      "12                 N1_återvandring  -0.694    98\n",
      "13              N1C_kulturberikarX  -0.778     4\n",
      "14                  N1C_globalistX  -0.810   243\n",
      "15              V1_hjälpa_på_plats  -2.676   106\n",
      "\n",
      "anospr_2015 jaccard = 1.0\n",
      "                              Word  ANOSPR  Freq\n",
      "0   P1_självständig_utrikespolitik   0.791     3\n",
      "1                N1_kulturberikare   0.100   128\n",
      "2               N1C_återvandringsX   0.059    63\n",
      "3                  V1_kulturberika  -0.017   117\n",
      "4                        V1_berika  -0.114  1087\n",
      "5                  N1_återvandring  -0.210    73\n",
      "6                    V1_återvandra  -0.300    27\n",
      "7                  A1_globalistisk  -0.388   132\n",
      "8                      N1_berikare  -0.411   198\n",
      "9                     N1_globalist  -0.500   465\n",
      "10                  N1_förortsgäng  -0.588    15\n",
      "11                   N1C_berikareX  -0.593     8\n",
      "12                  N1C_globalistX  -1.036   211\n",
      "13                 N2_återvandrare  -1.072     2\n",
      "14              N1C_kulturberikarX  -1.183     3\n",
      "15              V1_hjälpa_på_plats  -1.769   251\n",
      "\n",
      "anospr_2016 jaccard = 1.0\n",
      "                              Word  ANOSPR  Freq\n",
      "0   P1_självständig_utrikespolitik   1.323     2\n",
      "1               N1C_återvandringsX   0.691    56\n",
      "2                  N1_återvandring   0.256   144\n",
      "3                  V1_kulturberika  -0.070    94\n",
      "4                     N1_globalist  -0.185  1389\n",
      "5                    N1C_berikareX  -0.202    14\n",
      "6                  N2_återvandrare  -0.255     4\n",
      "7                        V1_berika  -0.345  1233\n",
      "8               N1C_kulturberikarX  -0.453     4\n",
      "9                  A1_globalistisk  -0.514   261\n",
      "10                   V1_återvandra  -0.531    19\n",
      "11                  N1C_globalistX  -0.581   447\n",
      "12                     N1_berikare  -0.646   145\n",
      "13               N1_kulturberikare  -0.664   171\n",
      "14                  N1_förortsgäng  -0.942    12\n",
      "15              V1_hjälpa_på_plats  -1.282    65\n",
      "\n",
      "anospr_2017 jaccard = 0.95\n",
      "                                       Word  ANOSPR  Freq\n",
      "0   P1_ordning_och_reda_i_flyktingpolitiken   0.488     7\n",
      "1                             V1_återvandra   0.385    24\n",
      "2            P1_självständig_utrikespolitik   0.250     3\n",
      "3                             N1C_berikareX   0.036     9\n",
      "4                        N1C_återvandringsX  -0.205    53\n",
      "5                                 V1_berika  -0.312   760\n",
      "6                           A1_globalistisk  -0.319   420\n",
      "7                              N1_globalist  -0.356  1958\n",
      "8                               N1_berikare  -0.449   112\n",
      "9                           V1_kulturberika  -0.505    55\n",
      "10                          N2_återvandrare  -0.701     4\n",
      "11                        N1_kulturberikare  -0.741   104\n",
      "12                           N1C_globalistX  -0.845   500\n",
      "13                       V1_hjälpa_på_plats  -0.880    61\n",
      "14                          N1_återvandring  -1.453   112\n",
      "15                           N1_förortsgäng  -1.500    10\n",
      "\n",
      "anospr_2018 jaccard = 1.0\n",
      "                                       Word  ANOSPR  Freq\n",
      "0                        N1C_kulturberikarX   1.230     2\n",
      "1                             V1_återvandra   0.402   258\n",
      "2                             N1C_berikareX  -0.061     3\n",
      "3                         N1_kulturberikare  -0.068   223\n",
      "4                                 V1_berika  -0.143   837\n",
      "5                               N1_berikare  -0.396   126\n",
      "6                           V1_kulturberika  -0.396    61\n",
      "7                           A1_globalistisk  -0.417   559\n",
      "8                              N1_globalist  -0.449  2873\n",
      "9                           N2_återvandrare  -0.458    34\n",
      "10                           N1C_globalistX  -0.775   911\n",
      "11                           N1_förortsgäng  -0.820    20\n",
      "12                         N2C_återvandrarX  -1.003     4\n",
      "13                       V1_hjälpa_på_plats  -1.193    52\n",
      "14                          N1_återvandring  -1.564  2279\n",
      "15                       N1C_återvandringsX  -2.011  1007\n",
      "16  P1_ordning_och_reda_i_flyktingpolitiken  -3.630     6\n",
      "\n",
      "anospr_2019 jaccard = 0.95\n",
      "                  Word  ANOSPR  Freq\n",
      "0        V1_återvandra   0.199   120\n",
      "1    N1_kulturberikare   0.117   166\n",
      "2        N1C_berikareX  -0.049    11\n",
      "3         N1_globalist  -0.185  2674\n",
      "4   N1C_kulturberikarX  -0.256     3\n",
      "5      A1_globalistisk  -0.320   650\n",
      "6       N1_förortsgäng  -0.324    23\n",
      "7            V1_berika  -0.340   890\n",
      "8          N1_berikare  -0.439   117\n",
      "9      V1_kulturberika  -0.520    50\n",
      "10     N2_återvandrare  -0.543    10\n",
      "11      N1C_globalistX  -0.840   716\n",
      "12    N2C_återvandrarX  -1.090     4\n",
      "13  N1C_återvandringsX  -1.778   340\n",
      "14     N1_återvandring  -2.314  1170\n",
      "15  V1_hjälpa_på_plats  -2.705    40\n",
      "\n",
      "anospr_2020 jaccard = 1.0\n"
     ]
    },
    {
     "name": "stdout",
     "output_type": "stream",
     "text": [
      "                  Word  ANOSPR  Freq\n",
      "0      V1_kulturberika   0.600    52\n",
      "1        V1_återvandra   0.543    96\n",
      "2        N1C_berikareX   0.426     2\n",
      "3       N1_förortsgäng   0.075     8\n",
      "4         N1_globalist  -0.076  2726\n",
      "5      N2_återvandrare  -0.083     3\n",
      "6          N1_berikare  -0.283    72\n",
      "7    N1_kulturberikare  -0.347    79\n",
      "8   V1_hjälpa_på_plats  -0.437    42\n",
      "9      A1_globalistisk  -0.447   624\n",
      "10           V1_berika  -0.468   709\n",
      "11      N1C_globalistX  -0.514   672\n",
      "12     N1_återvandring  -0.998   873\n",
      "13  N1C_återvandringsX  -1.271   202\n",
      "\n",
      "anospr_2021 jaccard = 1.0\n",
      "                              Word  ANOSPR  Freq\n",
      "0                    V1_återvandra   0.214   130\n",
      "1                N1_kulturberikare   0.174   101\n",
      "2                  N1_återvandring   0.043   901\n",
      "3                  V1_kulturberika  -0.023    32\n",
      "4                     N1_globalist  -0.093  2021\n",
      "5                  A1_globalistisk  -0.125   430\n",
      "6                   N1_förortsgäng  -0.170    13\n",
      "7               V1_hjälpa_på_plats  -0.456    36\n",
      "8                      N1_berikare  -0.570    31\n",
      "9                   N1C_globalistX  -0.588   620\n",
      "10                       V1_berika  -0.628   464\n",
      "11  P1_självständig_utrikespolitik  -0.637     2\n",
      "12              N1C_återvandringsX  -1.092   228\n",
      "\n",
      "anospr_2022 jaccard = 1.0\n",
      "                              Word  ANOSPR  Freq\n",
      "0                     N1_globalist   0.743  3389\n",
      "1                    V1_återvandra   0.292   140\n",
      "2                  V1_kulturberika   0.221    30\n",
      "3                  N2_återvandrare   0.030     8\n",
      "4   P1_självständig_utrikespolitik   0.020    10\n",
      "5                  A1_globalistisk  -0.026   557\n",
      "6                   N1C_globalistX  -0.235  1034\n",
      "7                  N1_återvandring  -0.255  1184\n",
      "8                        V1_berika  -0.294   591\n",
      "9                N1_kulturberikare  -0.305    80\n",
      "10                     N1_berikare  -0.538    28\n",
      "11                N2C_återvandrarX  -0.581     4\n",
      "12              N1C_återvandringsX  -0.807   308\n",
      "13                  N1_förortsgäng  -1.336    24\n",
      "14              V1_hjälpa_på_plats  -1.591    26\n"
     ]
    }
   ],
   "source": [
    "q_show(df_bert_nli, \"anospr\", as_table = True, transition=False)"
   ]
  },
  {
   "cell_type": "markdown",
   "metadata": {},
   "source": [
    "#### STS (small)"
   ]
  },
  {
   "cell_type": "code",
   "execution_count": null,
   "metadata": {},
   "outputs": [],
   "source": []
  },
  {
   "cell_type": "code",
   "execution_count": null,
   "metadata": {},
   "outputs": [],
   "source": []
  },
  {
   "cell_type": "markdown",
   "metadata": {},
   "source": [
    "#### STS (big)"
   ]
  },
  {
   "cell_type": "code",
   "execution_count": null,
   "metadata": {},
   "outputs": [],
   "source": []
  },
  {
   "cell_type": "code",
   "execution_count": null,
   "metadata": {},
   "outputs": [],
   "source": []
  },
  {
   "cell_type": "markdown",
   "metadata": {},
   "source": [
    "#### KB"
   ]
  },
  {
   "cell_type": "code",
   "execution_count": null,
   "metadata": {},
   "outputs": [],
   "source": []
  },
  {
   "cell_type": "code",
   "execution_count": null,
   "metadata": {},
   "outputs": [],
   "source": []
  },
  {
   "cell_type": "code",
   "execution_count": null,
   "metadata": {
    "scrolled": false
   },
   "outputs": [],
   "source": [
    "#q_show(toypol, \"rch\", as_table = True)"
   ]
  },
  {
   "cell_type": "code",
   "execution_count": null,
   "metadata": {
    "scrolled": false
   },
   "outputs": [],
   "source": [
    "#q_show(toypol, \"gsim\", as_table = True)"
   ]
  },
  {
   "cell_type": "markdown",
   "metadata": {},
   "source": [
    "### Time bin"
   ]
  },
  {
   "cell_type": "code",
   "execution_count": null,
   "metadata": {
    "scrolled": true
   },
   "outputs": [],
   "source": [
    "q_show(df_time_bin, \"rch\", as_table = True)"
   ]
  },
  {
   "cell_type": "markdown",
   "metadata": {},
   "source": [
    "## Change Show"
   ]
  },
  {
   "cell_type": "markdown",
   "metadata": {},
   "source": [
    "### Yearly"
   ]
  },
  {
   "cell_type": "markdown",
   "metadata": {},
   "source": [
    "#### SGNS - only DWTS"
   ]
  },
  {
   "cell_type": "code",
   "execution_count": null,
   "metadata": {
    "scrolled": true
   },
   "outputs": [],
   "source": [
    "overview(df_yearly_dwt, \"rch\", get_dwts(df_yearly_dwt, dwt_path))"
   ]
  },
  {
   "cell_type": "code",
   "execution_count": null,
   "metadata": {},
   "outputs": [],
   "source": [
    "# change_show(df, var, targets, th=4.781)\n",
    "change_show(df_yearly_dwt, \"rch\", get_dwts(df_yearly_dwt, dwt_path))"
   ]
  },
  {
   "cell_type": "code",
   "execution_count": null,
   "metadata": {},
   "outputs": [],
   "source": [
    "change_show(df_yearly_dwt, \"rch\", get_dwts(df_yearly_dwt, dwt_path), th=None)"
   ]
  },
  {
   "cell_type": "code",
   "execution_count": null,
   "metadata": {},
   "outputs": [],
   "source": [
    "change_show(df_yearly_dwt, \"gsim\", get_dwts(df_yearly_dwt, dwt_path), th=None)"
   ]
  },
  {
   "cell_type": "markdown",
   "metadata": {},
   "source": [
    "#### NLI"
   ]
  },
  {
   "cell_type": "code",
   "execution_count": null,
   "metadata": {
    "scrolled": true
   },
   "outputs": [],
   "source": [
    "overview(df_bert_nli, \"anospr\", get_dwts(df_yearly_dwt, dwt_path), th=None, transition=False)"
   ]
  },
  {
   "cell_type": "code",
   "execution_count": null,
   "metadata": {
    "scrolled": true
   },
   "outputs": [],
   "source": [
    "overview(df_bert_nli, \"difspr\", get_dwts(df_yearly_dwt, dwt_path), th=None, transition=False)"
   ]
  },
  {
   "cell_type": "markdown",
   "metadata": {},
   "source": [
    "#### STS (small)"
   ]
  },
  {
   "cell_type": "code",
   "execution_count": null,
   "metadata": {},
   "outputs": [],
   "source": []
  },
  {
   "cell_type": "code",
   "execution_count": null,
   "metadata": {},
   "outputs": [],
   "source": []
  },
  {
   "cell_type": "markdown",
   "metadata": {},
   "source": [
    "#### STS (big)"
   ]
  },
  {
   "cell_type": "code",
   "execution_count": null,
   "metadata": {},
   "outputs": [],
   "source": []
  },
  {
   "cell_type": "code",
   "execution_count": null,
   "metadata": {},
   "outputs": [],
   "source": []
  },
  {
   "cell_type": "markdown",
   "metadata": {},
   "source": [
    "#### KB"
   ]
  },
  {
   "cell_type": "code",
   "execution_count": null,
   "metadata": {},
   "outputs": [],
   "source": []
  },
  {
   "cell_type": "code",
   "execution_count": null,
   "metadata": {},
   "outputs": [],
   "source": []
  },
  {
   "cell_type": "markdown",
   "metadata": {},
   "source": [
    "### Time bin"
   ]
  },
  {
   "cell_type": "code",
   "execution_count": null,
   "metadata": {},
   "outputs": [],
   "source": [
    "change_show(df_time_bin_dwt, \"rch\", get_dwts(df_time_bin_dwt, dwt_path))"
   ]
  },
  {
   "cell_type": "code",
   "execution_count": null,
   "metadata": {},
   "outputs": [],
   "source": [
    "change_show(df_time_bin_dwt, \"gsim\", get_dwts(df_time_bin_dwt, dwt_path), th=None)"
   ]
  },
  {
   "cell_type": "code",
   "execution_count": null,
   "metadata": {},
   "outputs": [],
   "source": [
    "a=load_metric(\"/srv/data/gusbohom/root/corpora/fb_pol/time_bin/radical3/vocab/2015.txt\")[\"V1_berika\"]\n",
    "b=load_metric(\"/srv/data/gusbohom/root/corpora/fb_pol/time_bin/radical3/vocab/2019.txt\")[\"V1_berika\"]\n",
    "print(a, b)"
   ]
  },
  {
   "cell_type": "markdown",
   "metadata": {},
   "source": [
    "## Correlation"
   ]
  },
  {
   "cell_type": "code",
   "execution_count": null,
   "metadata": {
    "scrolled": true
   },
   "outputs": [],
   "source": [
    "get_variables(df_yearly_dwt)"
   ]
  },
  {
   "cell_type": "markdown",
   "metadata": {},
   "source": [
    "### Yearly"
   ]
  },
  {
   "cell_type": "markdown",
   "metadata": {},
   "source": [
    "#### All words (SGNS)"
   ]
  },
  {
   "cell_type": "code",
   "execution_count": 96,
   "metadata": {},
   "outputs": [
    {
     "name": "stdout",
     "output_type": "stream",
     "text": [
      "Length:\n",
      "X: 3342680\n",
      "Y: 3342680\n"
     ]
    },
    {
     "data": {
      "text/plain": [
       "(0.3803103896395752, 0.0)"
      ]
     },
     "execution_count": 96,
     "metadata": {},
     "output_type": "execute_result"
    }
   ],
   "source": [
    "universal_correlation(\n",
    "    df=df_yearly, \n",
    "    var1=\"gch\", \n",
    "    var2=\"frq\", \n",
    "    var1cut = None, \n",
    "    var2cut = -1, \n",
    "    norm1=None, \n",
    "    norm2=np.log, \n",
    "    metric=\"pearson\")"
   ]
  },
  {
   "cell_type": "code",
   "execution_count": 97,
   "metadata": {},
   "outputs": [
    {
     "name": "stdout",
     "output_type": "stream",
     "text": [
      "Length:\n",
      "X: 3342680\n",
      "Y: 3342680\n"
     ]
    },
    {
     "data": {
      "text/plain": [
       "(-0.36867454175092923, 0.0)"
      ]
     },
     "execution_count": 97,
     "metadata": {},
     "output_type": "execute_result"
    }
   ],
   "source": [
    "universal_correlation(\n",
    "    df=df_yearly, \n",
    "    var1=\"gsim\", \n",
    "    var2=\"frq\", \n",
    "    var1cut = None, \n",
    "    var2cut = -1, \n",
    "    norm1=None, \n",
    "    norm2=np.log, \n",
    "    metric=\"pearson\")"
   ]
  },
  {
   "cell_type": "code",
   "execution_count": 100,
   "metadata": {},
   "outputs": [
    {
     "name": "stdout",
     "output_type": "stream",
     "text": [
      "Length:\n",
      "X: 3342680\n",
      "Y: 3342680\n"
     ]
    },
    {
     "data": {
      "text/plain": [
       "(0.06659562110360326, 0.0)"
      ]
     },
     "execution_count": 100,
     "metadata": {},
     "output_type": "execute_result"
    }
   ],
   "source": [
    "universal_correlation(\n",
    "    df=df_yearly, \n",
    "    var1=\"rch\", \n",
    "    var2=\"frq\", \n",
    "    var1cut = None, \n",
    "    var2cut = -1, \n",
    "    norm1=None, \n",
    "    norm2=np.log, \n",
    "    metric=\"pearson\")"
   ]
  },
  {
   "cell_type": "code",
   "execution_count": 102,
   "metadata": {},
   "outputs": [
    {
     "name": "stdout",
     "output_type": "stream",
     "text": [
      "Length:\n",
      "X: 3342680\n",
      "Y: 3342680\n"
     ]
    },
    {
     "data": {
      "text/plain": [
       "(0.054552105535179966, 0.0)"
      ]
     },
     "execution_count": 102,
     "metadata": {},
     "output_type": "execute_result"
    }
   ],
   "source": [
    "universal_correlation(\n",
    "    df=df_yearly, \n",
    "    var1=\"rch\", \n",
    "    var2=\"stdc\", \n",
    "    var1cut = None, \n",
    "    var2cut = None, \n",
    "    norm1=None, \n",
    "    norm2=None, \n",
    "    metric=\"pearson\")"
   ]
  },
  {
   "cell_type": "markdown",
   "metadata": {},
   "source": [
    "#### DWTs"
   ]
  },
  {
   "cell_type": "markdown",
   "metadata": {},
   "source": [
    "###### SGNS"
   ]
  },
  {
   "cell_type": "code",
   "execution_count": null,
   "metadata": {},
   "outputs": [],
   "source": []
  },
  {
   "cell_type": "code",
   "execution_count": 94,
   "metadata": {},
   "outputs": [
    {
     "data": {
      "text/html": [
       "<div>\n",
       "<style scoped>\n",
       "    .dataframe tbody tr th:only-of-type {\n",
       "        vertical-align: middle;\n",
       "    }\n",
       "\n",
       "    .dataframe tbody tr th {\n",
       "        vertical-align: top;\n",
       "    }\n",
       "\n",
       "    .dataframe thead th {\n",
       "        text-align: right;\n",
       "    }\n",
       "</style>\n",
       "<table border=\"1\" class=\"dataframe\">\n",
       "  <thead>\n",
       "    <tr style=\"text-align: right;\">\n",
       "      <th></th>\n",
       "      <th>Word</th>\n",
       "      <th>Correlation</th>\n",
       "      <th>p</th>\n",
       "      <th>N</th>\n",
       "    </tr>\n",
       "  </thead>\n",
       "  <tbody>\n",
       "    <tr>\n",
       "      <th>0</th>\n",
       "      <td>V1_berika</td>\n",
       "      <td>-0.13</td>\n",
       "      <td>0.56</td>\n",
       "      <td>22</td>\n",
       "    </tr>\n",
       "    <tr>\n",
       "      <th>1</th>\n",
       "      <td>N1_kulturberikare</td>\n",
       "      <td>-0.39</td>\n",
       "      <td>0.10</td>\n",
       "      <td>19</td>\n",
       "    </tr>\n",
       "    <tr>\n",
       "      <th>2</th>\n",
       "      <td>N1_berikare</td>\n",
       "      <td>-0.43</td>\n",
       "      <td>0.10</td>\n",
       "      <td>16</td>\n",
       "    </tr>\n",
       "    <tr>\n",
       "      <th>3</th>\n",
       "      <td>V1_kulturberika</td>\n",
       "      <td>-0.53</td>\n",
       "      <td>0.04</td>\n",
       "      <td>16</td>\n",
       "    </tr>\n",
       "    <tr>\n",
       "      <th>4</th>\n",
       "      <td>N1_förortsgäng</td>\n",
       "      <td>0.02</td>\n",
       "      <td>0.98</td>\n",
       "      <td>6</td>\n",
       "    </tr>\n",
       "    <tr>\n",
       "      <th>5</th>\n",
       "      <td>N1_globalist</td>\n",
       "      <td>-0.19</td>\n",
       "      <td>0.47</td>\n",
       "      <td>17</td>\n",
       "    </tr>\n",
       "    <tr>\n",
       "      <th>6</th>\n",
       "      <td>N1_återvandring</td>\n",
       "      <td>-0.40</td>\n",
       "      <td>0.14</td>\n",
       "      <td>15</td>\n",
       "    </tr>\n",
       "    <tr>\n",
       "      <th>7</th>\n",
       "      <td>A1_globalistisk</td>\n",
       "      <td>-0.32</td>\n",
       "      <td>0.27</td>\n",
       "      <td>14</td>\n",
       "    </tr>\n",
       "    <tr>\n",
       "      <th>8</th>\n",
       "      <td>antiglobalister</td>\n",
       "      <td>-0.88</td>\n",
       "      <td>0.02</td>\n",
       "      <td>6</td>\n",
       "    </tr>\n",
       "    <tr>\n",
       "      <th>9</th>\n",
       "      <td>V1_återvandra</td>\n",
       "      <td>-0.56</td>\n",
       "      <td>0.03</td>\n",
       "      <td>15</td>\n",
       "    </tr>\n",
       "    <tr>\n",
       "      <th>10</th>\n",
       "      <td>oberikat</td>\n",
       "      <td>NaN</td>\n",
       "      <td>NaN</td>\n",
       "      <td>0</td>\n",
       "    </tr>\n",
       "    <tr>\n",
       "      <th>11</th>\n",
       "      <td>V1_hjälpa_på_plats</td>\n",
       "      <td>-0.63</td>\n",
       "      <td>0.02</td>\n",
       "      <td>13</td>\n",
       "    </tr>\n",
       "    <tr>\n",
       "      <th>12</th>\n",
       "      <td>oberikade</td>\n",
       "      <td>NaN</td>\n",
       "      <td>NaN</td>\n",
       "      <td>1</td>\n",
       "    </tr>\n",
       "    <tr>\n",
       "      <th>13</th>\n",
       "      <td>oberikad</td>\n",
       "      <td>NaN</td>\n",
       "      <td>NaN</td>\n",
       "      <td>0</td>\n",
       "    </tr>\n",
       "    <tr>\n",
       "      <th>14</th>\n",
       "      <td>N2_återvandrare</td>\n",
       "      <td>NaN</td>\n",
       "      <td>NaN</td>\n",
       "      <td>1</td>\n",
       "    </tr>\n",
       "    <tr>\n",
       "      <th>15</th>\n",
       "      <td>antiglobalist</td>\n",
       "      <td>-0.89</td>\n",
       "      <td>0.11</td>\n",
       "      <td>4</td>\n",
       "    </tr>\n",
       "    <tr>\n",
       "      <th>16</th>\n",
       "      <td>antiglobalistisk</td>\n",
       "      <td>-0.73</td>\n",
       "      <td>0.48</td>\n",
       "      <td>3</td>\n",
       "    </tr>\n",
       "    <tr>\n",
       "      <th>17</th>\n",
       "      <td>P1_självständig_utrikespolitik</td>\n",
       "      <td>NaN</td>\n",
       "      <td>NaN</td>\n",
       "      <td>1</td>\n",
       "    </tr>\n",
       "    <tr>\n",
       "      <th>18</th>\n",
       "      <td>biståndsåtervandring</td>\n",
       "      <td>NaN</td>\n",
       "      <td>NaN</td>\n",
       "      <td>0</td>\n",
       "    </tr>\n",
       "    <tr>\n",
       "      <th>19</th>\n",
       "      <td>antiglobalistiska</td>\n",
       "      <td>-0.84</td>\n",
       "      <td>0.36</td>\n",
       "      <td>3</td>\n",
       "    </tr>\n",
       "    <tr>\n",
       "      <th>20</th>\n",
       "      <td>antiglobalistiskt</td>\n",
       "      <td>NaN</td>\n",
       "      <td>NaN</td>\n",
       "      <td>0</td>\n",
       "    </tr>\n",
       "    <tr>\n",
       "      <th>21</th>\n",
       "      <td>vänsterglobalister</td>\n",
       "      <td>NaN</td>\n",
       "      <td>NaN</td>\n",
       "      <td>0</td>\n",
       "    </tr>\n",
       "    <tr>\n",
       "      <th>22</th>\n",
       "      <td>massåtervandring</td>\n",
       "      <td>-0.90</td>\n",
       "      <td>0.10</td>\n",
       "      <td>4</td>\n",
       "    </tr>\n",
       "    <tr>\n",
       "      <th>23</th>\n",
       "      <td>återvandras</td>\n",
       "      <td>NaN</td>\n",
       "      <td>NaN</td>\n",
       "      <td>0</td>\n",
       "    </tr>\n",
       "    <tr>\n",
       "      <th>24</th>\n",
       "      <td>massåtervandringen</td>\n",
       "      <td>NaN</td>\n",
       "      <td>NaN</td>\n",
       "      <td>0</td>\n",
       "    </tr>\n",
       "    <tr>\n",
       "      <th>25</th>\n",
       "      <td>vänsterglobalisterna</td>\n",
       "      <td>NaN</td>\n",
       "      <td>NaN</td>\n",
       "      <td>0</td>\n",
       "    </tr>\n",
       "  </tbody>\n",
       "</table>\n",
       "</div>"
      ],
      "text/plain": [
       "                              Word  Correlation     p   N\n",
       "0                        V1_berika        -0.13  0.56  22\n",
       "1                N1_kulturberikare        -0.39  0.10  19\n",
       "2                      N1_berikare        -0.43  0.10  16\n",
       "3                  V1_kulturberika        -0.53  0.04  16\n",
       "4                   N1_förortsgäng         0.02  0.98   6\n",
       "5                     N1_globalist        -0.19  0.47  17\n",
       "6                  N1_återvandring        -0.40  0.14  15\n",
       "7                  A1_globalistisk        -0.32  0.27  14\n",
       "8                  antiglobalister        -0.88  0.02   6\n",
       "9                    V1_återvandra        -0.56  0.03  15\n",
       "10                        oberikat          NaN   NaN   0\n",
       "11              V1_hjälpa_på_plats        -0.63  0.02  13\n",
       "12                       oberikade          NaN   NaN   1\n",
       "13                        oberikad          NaN   NaN   0\n",
       "14                 N2_återvandrare          NaN   NaN   1\n",
       "15                   antiglobalist        -0.89  0.11   4\n",
       "16                antiglobalistisk        -0.73  0.48   3\n",
       "17  P1_självständig_utrikespolitik          NaN   NaN   1\n",
       "18            biståndsåtervandring          NaN   NaN   0\n",
       "19               antiglobalistiska        -0.84  0.36   3\n",
       "20               antiglobalistiskt          NaN   NaN   0\n",
       "21              vänsterglobalister          NaN   NaN   0\n",
       "22                massåtervandring        -0.90  0.10   4\n",
       "23                     återvandras          NaN   NaN   0\n",
       "24              massåtervandringen          NaN   NaN   0\n",
       "25            vänsterglobalisterna          NaN   NaN   0"
      ]
     },
     "execution_count": 94,
     "metadata": {},
     "output_type": "execute_result"
    }
   ],
   "source": [
    "correlation(df=df_yearly_dwt, \n",
    "            var1=\"diffpm\", \n",
    "            var2=\"rch\", \n",
    "            corpus=corpus, \n",
    "            mode=2, \n",
    "            metric = \"pearson\")"
   ]
  },
  {
   "cell_type": "code",
   "execution_count": 95,
   "metadata": {},
   "outputs": [
    {
     "data": {
      "text/html": [
       "<div>\n",
       "<style scoped>\n",
       "    .dataframe tbody tr th:only-of-type {\n",
       "        vertical-align: middle;\n",
       "    }\n",
       "\n",
       "    .dataframe tbody tr th {\n",
       "        vertical-align: top;\n",
       "    }\n",
       "\n",
       "    .dataframe thead th {\n",
       "        text-align: right;\n",
       "    }\n",
       "</style>\n",
       "<table border=\"1\" class=\"dataframe\">\n",
       "  <thead>\n",
       "    <tr style=\"text-align: right;\">\n",
       "      <th></th>\n",
       "      <th>Word</th>\n",
       "      <th>Correlation</th>\n",
       "      <th>p</th>\n",
       "      <th>N</th>\n",
       "    </tr>\n",
       "  </thead>\n",
       "  <tbody>\n",
       "    <tr>\n",
       "      <th>0</th>\n",
       "      <td>V1_berika</td>\n",
       "      <td>0.21</td>\n",
       "      <td>0.35</td>\n",
       "      <td>22</td>\n",
       "    </tr>\n",
       "    <tr>\n",
       "      <th>1</th>\n",
       "      <td>N1_kulturberikare</td>\n",
       "      <td>-0.29</td>\n",
       "      <td>0.23</td>\n",
       "      <td>19</td>\n",
       "    </tr>\n",
       "    <tr>\n",
       "      <th>2</th>\n",
       "      <td>N1_berikare</td>\n",
       "      <td>-0.11</td>\n",
       "      <td>0.69</td>\n",
       "      <td>16</td>\n",
       "    </tr>\n",
       "    <tr>\n",
       "      <th>3</th>\n",
       "      <td>V1_kulturberika</td>\n",
       "      <td>0.04</td>\n",
       "      <td>0.88</td>\n",
       "      <td>16</td>\n",
       "    </tr>\n",
       "    <tr>\n",
       "      <th>4</th>\n",
       "      <td>N1_förortsgäng</td>\n",
       "      <td>0.36</td>\n",
       "      <td>0.49</td>\n",
       "      <td>6</td>\n",
       "    </tr>\n",
       "    <tr>\n",
       "      <th>5</th>\n",
       "      <td>N1_globalist</td>\n",
       "      <td>-0.13</td>\n",
       "      <td>0.63</td>\n",
       "      <td>17</td>\n",
       "    </tr>\n",
       "    <tr>\n",
       "      <th>6</th>\n",
       "      <td>N1_återvandring</td>\n",
       "      <td>-0.39</td>\n",
       "      <td>0.15</td>\n",
       "      <td>15</td>\n",
       "    </tr>\n",
       "    <tr>\n",
       "      <th>7</th>\n",
       "      <td>A1_globalistisk</td>\n",
       "      <td>0.26</td>\n",
       "      <td>0.36</td>\n",
       "      <td>14</td>\n",
       "    </tr>\n",
       "    <tr>\n",
       "      <th>8</th>\n",
       "      <td>antiglobalister</td>\n",
       "      <td>0.17</td>\n",
       "      <td>0.75</td>\n",
       "      <td>6</td>\n",
       "    </tr>\n",
       "    <tr>\n",
       "      <th>9</th>\n",
       "      <td>V1_återvandra</td>\n",
       "      <td>-0.01</td>\n",
       "      <td>0.97</td>\n",
       "      <td>15</td>\n",
       "    </tr>\n",
       "    <tr>\n",
       "      <th>10</th>\n",
       "      <td>oberikat</td>\n",
       "      <td>NaN</td>\n",
       "      <td>NaN</td>\n",
       "      <td>0</td>\n",
       "    </tr>\n",
       "    <tr>\n",
       "      <th>11</th>\n",
       "      <td>V1_hjälpa_på_plats</td>\n",
       "      <td>0.39</td>\n",
       "      <td>0.18</td>\n",
       "      <td>13</td>\n",
       "    </tr>\n",
       "    <tr>\n",
       "      <th>12</th>\n",
       "      <td>oberikade</td>\n",
       "      <td>NaN</td>\n",
       "      <td>NaN</td>\n",
       "      <td>1</td>\n",
       "    </tr>\n",
       "    <tr>\n",
       "      <th>13</th>\n",
       "      <td>oberikad</td>\n",
       "      <td>NaN</td>\n",
       "      <td>NaN</td>\n",
       "      <td>0</td>\n",
       "    </tr>\n",
       "    <tr>\n",
       "      <th>14</th>\n",
       "      <td>N2_återvandrare</td>\n",
       "      <td>NaN</td>\n",
       "      <td>NaN</td>\n",
       "      <td>1</td>\n",
       "    </tr>\n",
       "    <tr>\n",
       "      <th>15</th>\n",
       "      <td>antiglobalist</td>\n",
       "      <td>0.81</td>\n",
       "      <td>0.19</td>\n",
       "      <td>4</td>\n",
       "    </tr>\n",
       "    <tr>\n",
       "      <th>16</th>\n",
       "      <td>antiglobalistisk</td>\n",
       "      <td>-0.11</td>\n",
       "      <td>0.93</td>\n",
       "      <td>3</td>\n",
       "    </tr>\n",
       "    <tr>\n",
       "      <th>17</th>\n",
       "      <td>P1_självständig_utrikespolitik</td>\n",
       "      <td>NaN</td>\n",
       "      <td>NaN</td>\n",
       "      <td>1</td>\n",
       "    </tr>\n",
       "    <tr>\n",
       "      <th>18</th>\n",
       "      <td>biståndsåtervandring</td>\n",
       "      <td>NaN</td>\n",
       "      <td>NaN</td>\n",
       "      <td>0</td>\n",
       "    </tr>\n",
       "    <tr>\n",
       "      <th>19</th>\n",
       "      <td>antiglobalistiska</td>\n",
       "      <td>1.00</td>\n",
       "      <td>0.04</td>\n",
       "      <td>3</td>\n",
       "    </tr>\n",
       "    <tr>\n",
       "      <th>20</th>\n",
       "      <td>antiglobalistiskt</td>\n",
       "      <td>NaN</td>\n",
       "      <td>NaN</td>\n",
       "      <td>0</td>\n",
       "    </tr>\n",
       "    <tr>\n",
       "      <th>21</th>\n",
       "      <td>vänsterglobalister</td>\n",
       "      <td>NaN</td>\n",
       "      <td>NaN</td>\n",
       "      <td>0</td>\n",
       "    </tr>\n",
       "    <tr>\n",
       "      <th>22</th>\n",
       "      <td>massåtervandring</td>\n",
       "      <td>0.32</td>\n",
       "      <td>0.68</td>\n",
       "      <td>4</td>\n",
       "    </tr>\n",
       "    <tr>\n",
       "      <th>23</th>\n",
       "      <td>återvandras</td>\n",
       "      <td>NaN</td>\n",
       "      <td>NaN</td>\n",
       "      <td>0</td>\n",
       "    </tr>\n",
       "    <tr>\n",
       "      <th>24</th>\n",
       "      <td>massåtervandringen</td>\n",
       "      <td>NaN</td>\n",
       "      <td>NaN</td>\n",
       "      <td>0</td>\n",
       "    </tr>\n",
       "    <tr>\n",
       "      <th>25</th>\n",
       "      <td>vänsterglobalisterna</td>\n",
       "      <td>NaN</td>\n",
       "      <td>NaN</td>\n",
       "      <td>0</td>\n",
       "    </tr>\n",
       "  </tbody>\n",
       "</table>\n",
       "</div>"
      ],
      "text/plain": [
       "                              Word  Correlation     p   N\n",
       "0                        V1_berika         0.21  0.35  22\n",
       "1                N1_kulturberikare        -0.29  0.23  19\n",
       "2                      N1_berikare        -0.11  0.69  16\n",
       "3                  V1_kulturberika         0.04  0.88  16\n",
       "4                   N1_förortsgäng         0.36  0.49   6\n",
       "5                     N1_globalist        -0.13  0.63  17\n",
       "6                  N1_återvandring        -0.39  0.15  15\n",
       "7                  A1_globalistisk         0.26  0.36  14\n",
       "8                  antiglobalister         0.17  0.75   6\n",
       "9                    V1_återvandra        -0.01  0.97  15\n",
       "10                        oberikat          NaN   NaN   0\n",
       "11              V1_hjälpa_på_plats         0.39  0.18  13\n",
       "12                       oberikade          NaN   NaN   1\n",
       "13                        oberikad          NaN   NaN   0\n",
       "14                 N2_återvandrare          NaN   NaN   1\n",
       "15                   antiglobalist         0.81  0.19   4\n",
       "16                antiglobalistisk        -0.11  0.93   3\n",
       "17  P1_självständig_utrikespolitik          NaN   NaN   1\n",
       "18            biståndsåtervandring          NaN   NaN   0\n",
       "19               antiglobalistiska         1.00  0.04   3\n",
       "20               antiglobalistiskt          NaN   NaN   0\n",
       "21              vänsterglobalister          NaN   NaN   0\n",
       "22                massåtervandring         0.32  0.68   4\n",
       "23                     återvandras          NaN   NaN   0\n",
       "24              massåtervandringen          NaN   NaN   0\n",
       "25            vänsterglobalisterna          NaN   NaN   0"
      ]
     },
     "execution_count": 95,
     "metadata": {},
     "output_type": "execute_result"
    }
   ],
   "source": [
    "correlation(df=df_yearly_dwt, var1=\"stdc\", var2=\"rch\", corpus=corpus, mode=2, metric = \"pearson\")"
   ]
  },
  {
   "cell_type": "code",
   "execution_count": null,
   "metadata": {},
   "outputs": [],
   "source": [
    "correlation(df=df_yearly_dwt, var1=\"diffpm\", var2=\"rch\", corpus=corpus, mode=2, metric = \"spearman\")"
   ]
  },
  {
   "cell_type": "markdown",
   "metadata": {},
   "source": [
    "##### NLI"
   ]
  },
  {
   "cell_type": "code",
   "execution_count": null,
   "metadata": {},
   "outputs": [],
   "source": []
  },
  {
   "cell_type": "code",
   "execution_count": null,
   "metadata": {},
   "outputs": [],
   "source": []
  },
  {
   "cell_type": "markdown",
   "metadata": {},
   "source": [
    "##### STS (small)"
   ]
  },
  {
   "cell_type": "code",
   "execution_count": null,
   "metadata": {},
   "outputs": [],
   "source": []
  },
  {
   "cell_type": "code",
   "execution_count": null,
   "metadata": {},
   "outputs": [],
   "source": []
  },
  {
   "cell_type": "markdown",
   "metadata": {},
   "source": [
    "##### STS (big)"
   ]
  },
  {
   "cell_type": "code",
   "execution_count": null,
   "metadata": {},
   "outputs": [],
   "source": []
  },
  {
   "cell_type": "code",
   "execution_count": null,
   "metadata": {},
   "outputs": [],
   "source": []
  },
  {
   "cell_type": "markdown",
   "metadata": {},
   "source": [
    "##### KB"
   ]
  },
  {
   "cell_type": "code",
   "execution_count": null,
   "metadata": {},
   "outputs": [],
   "source": []
  },
  {
   "cell_type": "code",
   "execution_count": null,
   "metadata": {},
   "outputs": [],
   "source": []
  },
  {
   "cell_type": "markdown",
   "metadata": {},
   "source": [
    "## Model comparison"
   ]
  },
  {
   "cell_type": "code",
   "execution_count": 93,
   "metadata": {},
   "outputs": [
    {
     "name": "stdout",
     "output_type": "stream",
     "text": [
      "Length:\n",
      "154\n",
      "154\n",
      "154\n",
      "154\n",
      "154\n"
     ]
    },
    {
     "data": {
      "text/html": [
       "<div>\n",
       "<style scoped>\n",
       "    .dataframe tbody tr th:only-of-type {\n",
       "        vertical-align: middle;\n",
       "    }\n",
       "\n",
       "    .dataframe tbody tr th {\n",
       "        vertical-align: top;\n",
       "    }\n",
       "\n",
       "    .dataframe thead th {\n",
       "        text-align: right;\n",
       "    }\n",
       "</style>\n",
       "<table border=\"1\" class=\"dataframe\">\n",
       "  <thead>\n",
       "    <tr style=\"text-align: right;\">\n",
       "      <th></th>\n",
       "      <th>SGNS</th>\n",
       "      <th>NLI</th>\n",
       "      <th>STS</th>\n",
       "      <th>BIG</th>\n",
       "      <th>KB</th>\n",
       "    </tr>\n",
       "  </thead>\n",
       "  <tbody>\n",
       "    <tr>\n",
       "      <th>SGNS</th>\n",
       "      <td>1.000</td>\n",
       "      <td>-0.251</td>\n",
       "      <td>-0.328</td>\n",
       "      <td>-0.304</td>\n",
       "      <td>-0.266</td>\n",
       "    </tr>\n",
       "    <tr>\n",
       "      <th>NLI</th>\n",
       "      <td>-0.251</td>\n",
       "      <td>1.000</td>\n",
       "      <td>0.959</td>\n",
       "      <td>0.967</td>\n",
       "      <td>0.946</td>\n",
       "    </tr>\n",
       "    <tr>\n",
       "      <th>STS</th>\n",
       "      <td>-0.328</td>\n",
       "      <td>0.959</td>\n",
       "      <td>1.000</td>\n",
       "      <td>0.990</td>\n",
       "      <td>0.946</td>\n",
       "    </tr>\n",
       "    <tr>\n",
       "      <th>BIG</th>\n",
       "      <td>-0.304</td>\n",
       "      <td>0.967</td>\n",
       "      <td>0.990</td>\n",
       "      <td>1.000</td>\n",
       "      <td>0.957</td>\n",
       "    </tr>\n",
       "    <tr>\n",
       "      <th>KB</th>\n",
       "      <td>-0.266</td>\n",
       "      <td>0.946</td>\n",
       "      <td>0.946</td>\n",
       "      <td>0.957</td>\n",
       "      <td>1.000</td>\n",
       "    </tr>\n",
       "  </tbody>\n",
       "</table>\n",
       "</div>"
      ],
      "text/plain": [
       "       SGNS    NLI    STS    BIG     KB\n",
       "SGNS  1.000 -0.251 -0.328 -0.304 -0.266\n",
       "NLI  -0.251  1.000  0.959  0.967  0.946\n",
       "STS  -0.328  0.959  1.000  0.990  0.946\n",
       "BIG  -0.304  0.967  0.990  1.000  0.957\n",
       "KB   -0.266  0.946  0.946  0.957  1.000"
      ]
     },
     "execution_count": 93,
     "metadata": {},
     "output_type": "execute_result"
    }
   ],
   "source": [
    "model_comparison(\n",
    "    dfs=[df_yearly_dwt, df_bert_nli, df_bert_sts, df_bert_big, df_bert_kb],\n",
    "    mnames=[\"SGNS\", \"NLI\", \"STS\", \"BIG\", \"KB\"],\n",
    "    var=\"gch\", \n",
    "    norm=None, \n",
    "    targets = Path(\"../data/utils/dwts.txt\"), # =get_dwts(df_yearly_dwt, dwt_path)\n",
    "    prefix = (\"N\", \"A\", \"V\"),\n",
    "    mode=\"universal\", # no other mode supported at the moment ...\n",
    "    word=None, # not supported at the moment ... \n",
    "    metric=\"pearson\"\n",
    ")"
   ]
  },
  {
   "cell_type": "code",
   "execution_count": null,
   "metadata": {},
   "outputs": [],
   "source": []
  }
 ],
 "metadata": {
  "kernelspec": {
   "display_name": "Python 3",
   "language": "python",
   "name": "python3"
  },
  "language_info": {
   "codemirror_mode": {
    "name": "ipython",
    "version": 3
   },
   "file_extension": ".py",
   "mimetype": "text/x-python",
   "name": "python",
   "nbconvert_exporter": "python",
   "pygments_lexer": "ipython3",
   "version": "3.8.5"
  }
 },
 "nbformat": 4,
 "nbformat_minor": 4
}
