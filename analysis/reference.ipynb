{
 "cells": [
  {
   "cell_type": "code",
   "execution_count": 1,
   "metadata": {},
   "outputs": [],
   "source": [
    "import pandas as pd\n",
    "import numpy as np\n",
    "import os\n",
    "from pathlib import Path\n",
    "#import re\n",
    "#from util import load_metric\n",
    "from scipy.stats import spearmanr, pearsonr, zscore, rankdata, ttest_ind, ks_2samp, mannwhitneyu\n",
    "import matplotlib.pyplot as plt\n"
   ]
  },
  {
   "cell_type": "code",
   "execution_count": 2,
   "metadata": {},
   "outputs": [
    {
     "data": {
      "text/html": [
       "<style>div.output_area pre {white-space: pre;}</style>"
      ],
      "text/plain": [
       "<IPython.core.display.HTML object>"
      ]
     },
     "metadata": {},
     "output_type": "display_data"
    }
   ],
   "source": [
    "from IPython.core.display import display, HTML\n",
    "display(HTML(\"<style>div.output_area pre {white-space: pre;}</style>\"))\n",
    "pd.set_option('display.expand_frame_repr', False)\n",
    "pd.set_option('display.max_columns', None)"
   ]
  },
  {
   "cell_type": "markdown",
   "metadata": {},
   "source": [
    "## Functions"
   ]
  },
  {
   "cell_type": "code",
   "execution_count": 3,
   "metadata": {},
   "outputs": [],
   "source": [
    "def read_csv(path):\n",
    "    return pd.read_csv(path, sep=\";\", index_col=0)"
   ]
  },
  {
   "cell_type": "code",
   "execution_count": 4,
   "metadata": {},
   "outputs": [],
   "source": [
    "# def find_transitions(df, var):\n",
    "#     cols = [col for col in df.columns if col.startswith(var)]\n",
    "#     cols.sort()\n",
    "#     transitions = [tuple(col.split(\"_\")[-1].split(\":\")) for col in cols]\n",
    "#     return transitions"
   ]
  },
  {
   "cell_type": "code",
   "execution_count": 5,
   "metadata": {},
   "outputs": [],
   "source": [
    "# Identifying a shared vocabulary\n",
    "def shared_voc(df1, df2, only_core = True):\n",
    "    shared_words = set(df1.index).intersection(set(df2.index))\n",
    "    if only_core:\n",
    "        shared_words = [w for w in shared_words if w.startswith((\"A1_\", \"N1_\", \"N2_\", \"V1_\"))]\n",
    "    shared_words.sort()\n",
    "    return shared_words\n",
    "    "
   ]
  },
  {
   "cell_type": "code",
   "execution_count": 6,
   "metadata": {},
   "outputs": [],
   "source": [
    "# Identifying a shared variables\n",
    "def shared_variables(df1, df2, var):\n",
    "    vec1 = set([col for col in df1.columns if col.startswith(var)])\n",
    "    vec2 = set([col for col in df2.columns if col.startswith(var)])\n",
    "    shared_vec = list(vec1.intersection(vec2))\n",
    "    shared_vec.sort()\n",
    "    return shared_vec  "
   ]
  },
  {
   "cell_type": "code",
   "execution_count": 7,
   "metadata": {},
   "outputs": [],
   "source": [
    "def count_only(df, df_ref, min_freq):\n",
    "    df = df.copy()\n",
    "    #transitions = find_transitions(df, var)\n",
    "    transitions = [tuple(col.split(\"_\")[-1].split(\":\")) for col in df.columns]\n",
    "    var = df.columns[0].split(\"_\")[0]\n",
    "    for word in df.index:\n",
    "        for ti, tj in transitions:\n",
    "            f_at_ti = df_ref.loc[word][f\"frq_{ti}\"]\n",
    "            f_at_tj = df_ref.loc[word][f\"frq_{tj}\"]\n",
    "            if f_at_ti < min_freq:\n",
    "                df.at[word, f\"{var}_{ti}:{tj}\"] = np.nan\n",
    "            if f_at_tj < min_freq:\n",
    "                df.at[word, f\"{var}_{ti}:{tj}\"] = np.nan\n",
    "    return df"
   ]
  },
  {
   "cell_type": "code",
   "execution_count": 8,
   "metadata": {},
   "outputs": [],
   "source": [
    "# Find parallel vectors\n",
    "def parallel_vec(\n",
    "    df1, # dataframe 1 (e.g. Flashback)\n",
    "    df2, # dataframe 2 (e.g. Familjeliv)\n",
    "    var, # variable (e.g. rectified change) \n",
    "    only_core = True, # only core dog whistle expressions, \"the main eleven\"\n",
    "    use_external_freq = False, # Base minimum frequency on an external (third) dataframe\n",
    "    ext_freq_df1 = None, # Base minimum frequency on an external (third) dataframe\n",
    "    ext_freq_df2 = None, # Base minimum frequency on an external (third) dataframe\n",
    "    min_freq = 5, \n",
    "    force_exclude = None,\n",
    "    verbose = True\n",
    "):\n",
    "    \n",
    "    vocabulary = shared_voc(df1, df2, only_core)\n",
    "    variables  = shared_variables(df1, df2, var)\n",
    "    \n",
    "    # Select a sub-dataframe\n",
    "    selected_df1 = df1.loc[vocabulary][variables]\n",
    "    selected_df2 = df2.loc[vocabulary][variables]\n",
    "    \n",
    "#     print(selected_df1)\n",
    "#     print(selected_df2)\n",
    "    \n",
    "    if min_freq != None:\n",
    "        if use_external_freq:\n",
    "            selected_df1 = count_only(selected_df1, ext_freq_df1, min_freq)\n",
    "            selected_df2 = count_only(selected_df2, ext_freq_df2, min_freq)            \n",
    "            \n",
    "        else:    \n",
    "            selected_df1 = count_only(selected_df1, df1, min_freq)\n",
    "            selected_df2 = count_only(selected_df2, df2, min_freq)\n",
    "    \n",
    "#     print(selected_df1)\n",
    "#     print(selected_df2)    \n",
    "    \n",
    "    vec1 = []\n",
    "    vec2 = []\n",
    "    ref  = []\n",
    "    for word in vocabulary:\n",
    "        vec1.extend(selected_df1.loc[word][variables].tolist())\n",
    "        vec2.extend(selected_df2.loc[word][variables].tolist())\n",
    "        ref.extend([f\"{word}_{var}\" for var in variables])\n",
    "    assert len(vec1) == len(vec2)\n",
    "    \n",
    "    if verbose:\n",
    "        print(f\"N step 0: {len(vocabulary)*len(variables)} (length voc x length var)\")\n",
    "        print(f\"N step 1: {selected_df1.count().sum()}, {selected_df2.count().sum()} (min frequency only)\")\n",
    "    \n",
    "    XY = []\n",
    "    for x, y, w in zip(vec1, vec2, ref):\n",
    "        if pd.isna(x): \n",
    "            continue\n",
    "        if pd.isna(y):\n",
    "            continue\n",
    "        #print(w)\n",
    "        if force_exclude != None:\n",
    "            if w == force_exclude:\n",
    "                continue\n",
    "        XY.append((x, y, w))\n",
    "    \n",
    "    \n",
    "    vec1, vec2, ref = zip(*XY)\n",
    "    \n",
    "#     if norm != None:\n",
    "#         vec1 = norm(vec1)\n",
    "#         vec2 = norm(vec2)\n",
    "\n",
    "    if verbose:\n",
    "        print(f\"N step 2: {len(vec1)}, {len(vec2)} (no NaN in pairs)\")    \n",
    "    \n",
    "    return list(vec1), list(vec2), list(ref) \n",
    "    "
   ]
  },
  {
   "cell_type": "code",
   "execution_count": 9,
   "metadata": {},
   "outputs": [],
   "source": [
    "def binary(vec, th):\n",
    "    new_v = []\n",
    "    for v in vec:\n",
    "        new_v.append(int(v>th))\n",
    "    return new_v"
   ]
  },
  {
   "cell_type": "code",
   "execution_count": 10,
   "metadata": {},
   "outputs": [],
   "source": [
    "def cohen_d(x,y): # https://stackoverflow.com/questions/21532471/how-to-calculate-cohens-d-in-python\n",
    "    nx = len(x)\n",
    "    ny = len(y)\n",
    "    dof = nx + ny - 2\n",
    "    return (np.mean(x) - np.mean(y)) / np.sqrt(((nx-1)*np.std(x, ddof=1) ** 2 + (ny-1)*np.std(y, ddof=1) ** 2) / dof)"
   ]
  },
  {
   "cell_type": "code",
   "execution_count": 11,
   "metadata": {},
   "outputs": [],
   "source": [
    "def find_breaks(array):\n",
    "    breaks = []\n",
    "    for i, lbl in enumerate(array[1:], start=1):\n",
    "        this_label = lbl.split(\"_\")[1]      # N1_globalist_...\n",
    "        prev_label = array[i-1].split(\"_\")[1]\n",
    "        #print(this_label, prev_label)\n",
    "        if this_label != prev_label: \n",
    "            #print(i)\n",
    "            breaks.append(i)\n",
    "    return breaks"
   ]
  },
  {
   "cell_type": "code",
   "execution_count": 12,
   "metadata": {},
   "outputs": [],
   "source": [
    "def clean_ref_vector(ref):\n",
    "    return [\" \".join(r.replace(\"_rch\", \"\").replace(\"_gch\", \"\").split(\"_\")[1:]) for r in ref]"
   ]
  },
  {
   "cell_type": "code",
   "execution_count": 13,
   "metadata": {},
   "outputs": [],
   "source": [
    "def vis(v1, v2, ref, name_v1_as_fb=True, clean_ref = True):\n",
    "    #N = range(len(v1))\n",
    "    if name_v1_as_fb:\n",
    "        label1 = \"Flashback\"\n",
    "        label2 = \"Familjeliv\"\n",
    "    else:\n",
    "        label1 = \"V1\"\n",
    "        label2 = \"v2\"\n",
    "    \n",
    "    if clean_ref:\n",
    "        plt.plot(clean_ref_vector(ref), v1, \"-b\", label=label1)\n",
    "        plt.plot(clean_ref_vector(ref), v2, \"-r\", label=label2)\n",
    "    else: \n",
    "        plt.plot(ref, v1, \"-b\", label=label1)\n",
    "        plt.plot(ref, v2, \"-r\", label=label2)        \n",
    "    for line in find_breaks(ref):\n",
    "        plt.axvline(line, color=\"black\", linestyle=\"dashed\")\n",
    "    plt.xticks(rotation=90, ha='left')\n",
    "    \n",
    "    #Note\n",
    "    #plt.yticks(np.arange(0.5, len(my_df_num.index), 1), my_df_num.index)\n",
    "    #plt.xticks(np.arange(0.5, len(my_df_num.columns), 1), my_df_num.columns)\n",
    "    #ax.set_xticks(np.arange(data.shape[1]+1)-.5, minor=True)\n",
    "    #ax.set_yticks(np.arange(data.shape[0]+1)-.5, minor=True)    \n",
    "    \n",
    "    plt.legend(loc=\"upper left\")\n",
    "    fig = plt.gcf()\n",
    "    fig.set_size_inches(20, 8)\n",
    "    #plt.legend(loc=\"upper left\")\n",
    "    fig.align_xlabels()\n",
    "    \n",
    "    plt.rc('font', size=10)          # controls default text sizes\n",
    "    #plt.rc('axes', titlesize=SMALL_SIZE)     # fontsize of the axes title\n",
    "    #plt.rc('axes', labelsize=MEDIUM_SIZE)    # fontsize of the x and y labels\n",
    "    plt.rc('xtick', labelsize=16)    # fontsize of the tick labels\n",
    "    plt.rc('ytick', labelsize=14)    # fontsize of the tick labels\n",
    "    plt.rc('legend', fontsize=16)    # legend fontsize\n",
    "    #plt.rc('figure', titlesize=BIGGER_SIZE)  # fontsize of the figure title    \n",
    "    \n",
    "    \n",
    "    \n",
    "    \n",
    "    plt.show()"
   ]
  },
  {
   "cell_type": "code",
   "execution_count": 14,
   "metadata": {},
   "outputs": [],
   "source": [
    "standard_tests = [ # var, min_freq, \n",
    "    (\"rch\", 5),\n",
    "    (\"rch\", 10),\n",
    "    (\"gch\", 5),\n",
    "    (\"gch\", 10)\n",
    "]"
   ]
  },
  {
   "cell_type": "code",
   "execution_count": 15,
   "metadata": {},
   "outputs": [],
   "source": [
    "def compare(\n",
    "    df1, \n",
    "    df2, \n",
    "    tests=standard_tests, \n",
    "    use_exfrq = False, \n",
    "    ex_freq1 = None, \n",
    "    ex_freq2 = None,\n",
    "    force_exclude = None\n",
    "):\n",
    "    results = []\n",
    "    distrib = []\n",
    "    \n",
    "    for measure, criterion in tests:\n",
    "        d = dict()\n",
    "        \n",
    "        name = f\"{measure}_{criterion}\"\n",
    "        \n",
    "        d[\"Test-version\"] = name\n",
    "        \n",
    "        v1, v2, ref = parallel_vec(\n",
    "            df1, \n",
    "            df2, \n",
    "            measure, \n",
    "            use_external_freq = use_exfrq,\n",
    "            ext_freq_df1 = ex_freq1,\n",
    "            ext_freq_df2 = ex_freq2,\n",
    "            min_freq = criterion,\n",
    "            force_exclude = force_exclude,\n",
    "            verbose = True,\n",
    "        )\n",
    "        \n",
    "        print(\"Length:\", len(v1), len(v2))\n",
    "        \n",
    "        distrib.append((name, v1, v2, ref))\n",
    "        \n",
    "        spearman = spearmanr(v1, v2)\n",
    "        pearson  = pearsonr(v1, v2)\n",
    "        ks       = ks_2samp(v1, v2)\n",
    "        mw       = mannwhitneyu(v1, v2)\n",
    "        ttest    = ttest_ind(v1, v2)\n",
    "        \n",
    "        d[\"Spearman's rho\"]       = spearman.statistic\n",
    "        d[\"p (spearman)\"]         = spearman.pvalue\n",
    "        d[\"Pearson's r\"]          = pearson.statistic\n",
    "        d[\"p (pearson)\"]          = pearson.pvalue\n",
    "        d[\"Kolmogorov–Smirnov D\"] = ks.statistic\n",
    "        d[\"p (KS-test)\"]          = ks.pvalue\n",
    "        d[\"Mann–Whitney U\"]       = mw.statistic\n",
    "        d[\"p (MW-test)\"]          = mw.pvalue\n",
    "        d[\"p(v1 > v2) (MW-test)\"] = mw.statistic / (len(v1) * len(v2)) \n",
    "        # https://journals.sagepub.com/doi/pdf/10.1177/1536867X1201200202 \n",
    "        # https://www.researchgate.net/post/How-can-I-calculate-the-effect-sizes-of-small-samples-20-for-non-parametric-tests-Wilcoxon-and-Mann-Whitney-U\n",
    "        d[\"Student's t\"]          = ttest.statistic\n",
    "        d[\"p (t-test)\"]           = ttest.pvalue\n",
    "        d[\"Cohen's d\"]            = cohen_d(v1, v2)\n",
    "        \n",
    "        results.append(d)\n",
    "    \n",
    "    results = pd.DataFrame(results)\n",
    "    #results = results.set_index(['Test-version'])\n",
    "    \n",
    "    return results, distrib\n",
    "    "
   ]
  },
  {
   "cell_type": "code",
   "execution_count": 16,
   "metadata": {},
   "outputs": [],
   "source": [
    "def ecdf(v1, v2):\n",
    "   \n",
    "    x1 = np.sort(v1)\n",
    "    y1 = np.arange(len(x1))/float(len(x1))\n",
    "    plt.plot(x1, y1)\n",
    "    \n",
    "    x2 = np.sort(v2)\n",
    "    y2 = np.arange(len(x2))/float(len(x2))\n",
    "    plt.plot(x2, y2)\n",
    "    \n",
    "    plt.xlabel(\"Δ-value\")\n",
    "    plt.ylabel(\"Cumulative Probability\")\n",
    "    \n",
    "    plt.show()\n"
   ]
  },
  {
   "cell_type": "markdown",
   "metadata": {},
   "source": [
    "## DATA"
   ]
  },
  {
   "cell_type": "code",
   "execution_count": 17,
   "metadata": {},
   "outputs": [],
   "source": [
    "results_dir = Path(\"../../dw_results\")"
   ]
  },
  {
   "cell_type": "code",
   "execution_count": 18,
   "metadata": {},
   "outputs": [
    {
     "name": "stdout",
     "output_type": "stream",
     "text": [
      "bert-v0\n",
      "change_tables\n",
      "fb_pol-time_bin-radical3-full.csv\n",
      "fb_pol-time_bin-radical3-restricted.csv\n",
      "fb_pol-yearly-bert-fb_nli.csv\n",
      "fb_pol-yearly-bert-sentence-bert-swedish-cased.csv\n",
      "fb_pol-yearly-bert-sts_fbmodel.csv\n",
      "fb_pol-yearly-bert-sts_fbmodel_big_40epochs.csv\n",
      "fb_pol-yearly-cluster-sentence-bert-swedish-cased.csv\n",
      "fb_pol-yearly-radical3-full.csv\n",
      "fb_pol-yearly-radical3-restricted.csv\n",
      "fm_smh-yearly-bert-sentence-bert-swedish-cased.csv\n",
      "fm_smh-yearly-cluster-sentence-bert-swedish-cased.csv\n",
      "fm_smh-yearly-radical3-full.csv\n",
      "fm_smh-yearly-radical3-restricted.csv\n",
      "messy-05-09-2023\n",
      "neighbors\n"
     ]
    }
   ],
   "source": [
    "files = sorted(os.listdir(results_dir))\n",
    "_ = [print(file) for file in files]"
   ]
  },
  {
   "cell_type": "code",
   "execution_count": 19,
   "metadata": {},
   "outputs": [],
   "source": [
    "#df_yearly         = read_csv(results_dir / \"fb_pol-yearly-radical3-full.csv\")\n",
    "df_yearly_dwt     = read_csv(results_dir / \"fb_pol-yearly-radical3-restricted.csv\")\n",
    "df_bert_kb        = read_csv(results_dir / \"fb_pol-yearly-bert-sentence-bert-swedish-cased.csv\")\n",
    "#df_yearly_ref     = read_csv(results_dir / \"fm_smh-yearly-radical3-full.csv\")\n",
    "df_yearly_dwt_ref = read_csv(results_dir / \"fm_smh-yearly-radical3-restricted.csv\")\n",
    "df_bert_kb_ref    = read_csv(results_dir / \"fm_smh-yearly-bert-sentence-bert-swedish-cased.csv\")\n",
    "df_cluster        = read_csv(results_dir / \"fb_pol-yearly-cluster-sentence-bert-swedish-cased.csv\")\n",
    "df_cluster_ref    = read_csv(results_dir / \"fm_smh-yearly-cluster-sentence-bert-swedish-cased.csv\")"
   ]
  },
  {
   "cell_type": "markdown",
   "metadata": {},
   "source": [
    "### Narrow ..."
   ]
  },
  {
   "cell_type": "code",
   "execution_count": null,
   "metadata": {},
   "outputs": [],
   "source": [
    "narrow_tests = [ # var, min_freq, \n",
    "    (\"rch\", 11),\n",
    "    (\"gch\", 11)\n",
    "]"
   ]
  },
  {
   "cell_type": "markdown",
   "metadata": {},
   "source": [
    "## SGNS"
   ]
  },
  {
   "cell_type": "code",
   "execution_count": null,
   "metadata": {},
   "outputs": [],
   "source": [
    "res, dist = compare(\n",
    "    df_yearly_dwt, \n",
    "    df_yearly_dwt_ref, \n",
    "    tests=[ # var, min_freq, \n",
    "        (\"rch\", 10),\n",
    "        (\"gch\", 10),\n",
    "        ],\n",
    "#     use_exfrq = True,\n",
    "#     ex_freq1 = df_bert_kb, \n",
    "#     ex_freq2 = df_bert_kb_ref    \n",
    ")"
   ]
  },
  {
   "cell_type": "code",
   "execution_count": null,
   "metadata": {
    "scrolled": true
   },
   "outputs": [],
   "source": [
    "res, dist = compare(\n",
    "    df_yearly_dwt, \n",
    "    df_yearly_dwt_ref, \n",
    "    tests=[ # var, min_freq, \n",
    "        (\"rch\", 10),\n",
    "        (\"gch\", 10),\n",
    "        ],\n",
    "    use_exfrq = True,\n",
    "    ex_freq1 = df_bert_kb, \n",
    "    ex_freq2 = df_bert_kb_ref    \n",
    ")"
   ]
  },
  {
   "cell_type": "code",
   "execution_count": null,
   "metadata": {},
   "outputs": [],
   "source": [
    "#dist"
   ]
  },
  {
   "cell_type": "code",
   "execution_count": null,
   "metadata": {},
   "outputs": [],
   "source": [
    "res.T"
   ]
  },
  {
   "cell_type": "raw",
   "metadata": {},
   "source": [
    "# (Non) Normality\n",
    "for name, A, B, _ in dist:\n",
    "    print(name.upper())\n",
    "    plt.hist(A, bins=30)\n",
    "    plt.show()\n",
    "    plt.hist(B, bins=30)\n",
    "    plt.show()    "
   ]
  },
  {
   "cell_type": "code",
   "execution_count": null,
   "metadata": {
    "scrolled": false
   },
   "outputs": [],
   "source": [
    "for name, A, B, ref in dist:\n",
    "    print(name.upper())\n",
    "    vis(A, B, ref)\n",
    "    ecdf(A, B)\n",
    "    plt.scatter(zscore(A), zscore(B))\n",
    "    plt.show()"
   ]
  },
  {
   "cell_type": "markdown",
   "metadata": {},
   "source": [
    "## BERT"
   ]
  },
  {
   "cell_type": "code",
   "execution_count": 20,
   "metadata": {
    "scrolled": true
   },
   "outputs": [
    {
     "name": "stdout",
     "output_type": "stream",
     "text": [
      "N step 0: 209 (length voc x length var)\n",
      "N step 1: 157, 47 (min frequency only)\n",
      "N step 2: 44, 44 (no NaN in pairs)\n",
      "Length: 44 44\n"
     ]
    }
   ],
   "source": [
    "res, dist = compare(\n",
    "    df_bert_kb, \n",
    "    df_bert_kb_ref, \n",
    "    tests=[ # var, min_freq, \n",
    "    #(\"rch\", 10),\n",
    "    (\"gch\", 10)\n",
    "    ],\n",
    "    #force_exclude = \"N1_återvandring_rch_2006:2007\"\n",
    "    force_exclude = \"N1_återvandring_gch_2006:2007\"\n",
    "#     use_exfrq = True,\n",
    "#     ex_freq1 = df_bert_kb, \n",
    "#     ex_freq2 = df_bert_kb_ref      \n",
    ")"
   ]
  },
  {
   "cell_type": "code",
   "execution_count": 21,
   "metadata": {},
   "outputs": [
    {
     "data": {
      "text/html": [
       "<div>\n",
       "<style scoped>\n",
       "    .dataframe tbody tr th:only-of-type {\n",
       "        vertical-align: middle;\n",
       "    }\n",
       "\n",
       "    .dataframe tbody tr th {\n",
       "        vertical-align: top;\n",
       "    }\n",
       "\n",
       "    .dataframe thead th {\n",
       "        text-align: right;\n",
       "    }\n",
       "</style>\n",
       "<table border=\"1\" class=\"dataframe\">\n",
       "  <thead>\n",
       "    <tr style=\"text-align: right;\">\n",
       "      <th></th>\n",
       "      <th>0</th>\n",
       "    </tr>\n",
       "  </thead>\n",
       "  <tbody>\n",
       "    <tr>\n",
       "      <th>Test-version</th>\n",
       "      <td>gch_10</td>\n",
       "    </tr>\n",
       "    <tr>\n",
       "      <th>Spearman's rho</th>\n",
       "      <td>-0.088513</td>\n",
       "    </tr>\n",
       "    <tr>\n",
       "      <th>p (spearman)</th>\n",
       "      <td>0.567762</td>\n",
       "    </tr>\n",
       "    <tr>\n",
       "      <th>Pearson's r</th>\n",
       "      <td>-0.118028</td>\n",
       "    </tr>\n",
       "    <tr>\n",
       "      <th>p (pearson)</th>\n",
       "      <td>0.445438</td>\n",
       "    </tr>\n",
       "    <tr>\n",
       "      <th>Kolmogorov–Smirnov D</th>\n",
       "      <td>0.75</td>\n",
       "    </tr>\n",
       "    <tr>\n",
       "      <th>p (KS-test)</th>\n",
       "      <td>2.43869e-12</td>\n",
       "    </tr>\n",
       "    <tr>\n",
       "      <th>Mann–Whitney U</th>\n",
       "      <td>107</td>\n",
       "    </tr>\n",
       "    <tr>\n",
       "      <th>p (MW-test)</th>\n",
       "      <td>6.9129e-13</td>\n",
       "    </tr>\n",
       "    <tr>\n",
       "      <th>p(v1 &gt; v2) (MW-test)</th>\n",
       "      <td>0.0552686</td>\n",
       "    </tr>\n",
       "    <tr>\n",
       "      <th>Student's t</th>\n",
       "      <td>-8.80561</td>\n",
       "    </tr>\n",
       "    <tr>\n",
       "      <th>p (t-test)</th>\n",
       "      <td>1.22437e-13</td>\n",
       "    </tr>\n",
       "    <tr>\n",
       "      <th>Cohen's d</th>\n",
       "      <td>-1.87736</td>\n",
       "    </tr>\n",
       "  </tbody>\n",
       "</table>\n",
       "</div>"
      ],
      "text/plain": [
       "                                0\n",
       "Test-version               gch_10\n",
       "Spearman's rho          -0.088513\n",
       "p (spearman)             0.567762\n",
       "Pearson's r             -0.118028\n",
       "p (pearson)              0.445438\n",
       "Kolmogorov–Smirnov D         0.75\n",
       "p (KS-test)           2.43869e-12\n",
       "Mann–Whitney U                107\n",
       "p (MW-test)            6.9129e-13\n",
       "p(v1 > v2) (MW-test)    0.0552686\n",
       "Student's t              -8.80561\n",
       "p (t-test)            1.22437e-13\n",
       "Cohen's d                -1.87736"
      ]
     },
     "execution_count": 21,
     "metadata": {},
     "output_type": "execute_result"
    }
   ],
   "source": [
    "res.T"
   ]
  },
  {
   "cell_type": "raw",
   "metadata": {},
   "source": [
    "# (Non) Normality\n",
    "for name, A, B, _ in dist:\n",
    "    print(name.upper())\n",
    "    plt.hist(A, bins=30)\n",
    "    plt.show()\n",
    "    plt.hist(B, bins=30)\n",
    "    plt.show()    "
   ]
  },
  {
   "cell_type": "code",
   "execution_count": 22,
   "metadata": {
    "scrolled": false
   },
   "outputs": [
    {
     "name": "stdout",
     "output_type": "stream",
     "text": [
      "GCH_10\n"
     ]
    },
    {
     "data": {
      "image/png": "[encoded data removed]",
      "text/plain": [
       "<Figure size 1440x576 with 1 Axes>"
      ]
     },
     "metadata": {
      "needs_background": "light"
     },
     "output_type": "display_data"
    },
    {
     "data": {
      "image/png": "[encoded data removed]",
      "text/plain": [
       "<Figure size 432x288 with 1 Axes>"
      ]
     },
     "metadata": {
      "needs_background": "light"
     },
     "output_type": "display_data"
    },
    {
     "data": {
      "image/png": "[encoded data removed]",
      "text/plain": [
       "<Figure size 432x288 with 1 Axes>"
      ]
     },
     "metadata": {
      "needs_background": "light"
     },
     "output_type": "display_data"
    }
   ],
   "source": [
    "for name, A, B, ref in dist:\n",
    "    print(name.upper())\n",
    "    vis(A, B, ref)\n",
    "    ecdf(A, B)\n",
    "    plt.scatter(zscore(A), zscore(B))\n",
    "    plt.show()"
   ]
  },
  {
   "cell_type": "code",
   "execution_count": 30,
   "metadata": {},
   "outputs": [
    {
     "name": "stdout",
     "output_type": "stream",
     "text": [
      "N1_globalist_gch_2018:2019           0.0969\n",
      "N1_globalist_gch_2019:2020           0.1427\n",
      "N1_kulturberikare_gch_2007:2008      0.1313\n",
      "N1_kulturberikare_gch_2008:2009      0.0656\n",
      "N1_kulturberikare_gch_2009:2010      0.0443\n",
      "N1_kulturberikare_gch_2010:2011      0.0750\n",
      "N1_kulturberikare_gch_2011:2012      0.1063\n",
      "N1_kulturberikare_gch_2012:2013      0.1187\n",
      "N1_kulturberikare_gch_2013:2014      0.1218\n",
      "N1_återvandring_gch_2007:2008        0.0379\n",
      "N1_återvandring_gch_2008:2009        0.1292\n",
      "N1_återvandring_gch_2009:2010        0.0467\n",
      "N1_återvandring_gch_2010:2011        0.0252\n",
      "N1_återvandring_gch_2011:2012        0.0785\n",
      "N1_återvandring_gch_2018:2019        0.0453\n",
      "N1_återvandring_gch_2021:2022        0.1238\n",
      "V1_berika_gch_2004:2005              0.0578\n",
      "V1_berika_gch_2005:2006              0.0412\n",
      "V1_berika_gch_2006:2007             -0.0184\n",
      "V1_berika_gch_2007:2008              0.0325\n",
      "V1_berika_gch_2008:2009              0.0292\n",
      "V1_berika_gch_2009:2010              0.0503\n",
      "V1_berika_gch_2010:2011              0.0248\n",
      "V1_berika_gch_2011:2012              0.0371\n",
      "V1_berika_gch_2012:2013              0.0564\n",
      "V1_berika_gch_2013:2014              0.0450\n",
      "V1_berika_gch_2014:2015              0.0557\n",
      "V1_berika_gch_2015:2016              0.0867\n",
      "V1_berika_gch_2016:2017              0.0389\n",
      "V1_berika_gch_2017:2018              0.1285\n",
      "V1_berika_gch_2018:2019              0.1645\n",
      "V1_berika_gch_2019:2020              0.1824\n",
      "V1_berika_gch_2020:2021              0.1961\n",
      "V1_berika_gch_2021:2022              0.1648\n",
      "V1_hjälpa_på_plats_gch_2010:2011    -0.0004\n",
      "V1_hjälpa_på_plats_gch_2011:2012    -0.0032\n",
      "V1_hjälpa_på_plats_gch_2012:2013    -0.0037\n",
      "V1_hjälpa_på_plats_gch_2013:2014    -0.0060\n",
      "V1_hjälpa_på_plats_gch_2014:2015     0.0163\n",
      "V1_kulturberika_gch_2009:2010        0.1138\n",
      "V1_kulturberika_gch_2010:2011        0.0832\n",
      "V1_kulturberika_gch_2011:2012        0.0788\n",
      "V1_återvandra_gch_2009:2010          0.0048\n",
      "V1_återvandra_gch_2010:2011          0.0205\n"
     ]
    }
   ],
   "source": [
    "for a, b, r in zip(A, B, ref):\n",
    "    print(f\"{r:<35}{b-a:>8.4f}\")"
   ]
  },
  {
   "cell_type": "markdown",
   "metadata": {},
   "source": [
    "## Clusters"
   ]
  },
  {
   "cell_type": "code",
   "execution_count": null,
   "metadata": {},
   "outputs": [],
   "source": [
    "set([col.split(\"_\")[0] for col in df_cluster.columns if col.startswith((\"km\", \"ac\"))])"
   ]
  },
  {
   "cell_type": "code",
   "execution_count": null,
   "metadata": {},
   "outputs": [],
   "source": [
    "cluster_tests = [ # var, min_freq, \n",
    "    (\"kms_\", 5),\n",
    "    (\"kms_\", 10),\n",
    "    (\"kmsr50\", 5),\n",
    "    (\"kmsr50\", 10),\n",
    "    (\"km15\", 30)\n",
    "]"
   ]
  },
  {
   "cell_type": "code",
   "execution_count": null,
   "metadata": {
    "scrolled": true
   },
   "outputs": [],
   "source": [
    "#df_cluster\n",
    "#df_cluster_ref\n",
    "res, dist = compare(\n",
    "    df_cluster, \n",
    "    df_cluster_ref, \n",
    "    tests=[(\"kms_\", 10)]\n",
    ")"
   ]
  },
  {
   "cell_type": "code",
   "execution_count": null,
   "metadata": {},
   "outputs": [],
   "source": [
    "res.T"
   ]
  },
  {
   "cell_type": "raw",
   "metadata": {},
   "source": [
    "# (Non) Normality\n",
    "for name, A, B, _ in dist:\n",
    "    print(name.upper())\n",
    "    plt.hist(A, bins=30)\n",
    "    plt.show()\n",
    "    plt.hist(B, bins=30)\n",
    "    plt.show()    "
   ]
  },
  {
   "cell_type": "code",
   "execution_count": null,
   "metadata": {
    "scrolled": true
   },
   "outputs": [],
   "source": [
    "for name, A, B, ref in dist:\n",
    "    print(name.upper())\n",
    "    vis(A, B, ref)\n",
    "    plt.scatter(zscore(A), zscore(B))\n",
    "    plt.show()"
   ]
  },
  {
   "cell_type": "code",
   "execution_count": null,
   "metadata": {},
   "outputs": [],
   "source": []
  }
 ],
 "metadata": {
  "kernelspec": {
   "display_name": "Python 3",
   "language": "python",
   "name": "python3"
  },
  "language_info": {
   "codemirror_mode": {
    "name": "ipython",
    "version": 3
   },
   "file_extension": ".py",
   "mimetype": "text/x-python",
   "name": "python",
   "nbconvert_exporter": "python",
   "pygments_lexer": "ipython3",
   "version": "3.8.5"
  }
 },
 "nbformat": 4,
 "nbformat_minor": 4
}
