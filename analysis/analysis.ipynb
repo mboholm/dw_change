{
 "cells": [
  {
   "cell_type": "code",
   "execution_count": 1,
   "metadata": {},
   "outputs": [],
   "source": [
    "import pandas as pd\n",
    "import numpy as np\n",
    "import os\n",
    "from pathlib import Path\n",
    "import re\n",
    "from util import load_metric\n",
    "from scipy.stats import spearmanr, pearsonr, zscore, rankdata\n",
    "#from collections import Counter"
   ]
  },
  {
   "cell_type": "code",
   "execution_count": 2,
   "metadata": {},
   "outputs": [
    {
     "data": {
      "text/html": [
       "<style>div.output_area pre {white-space: pre;}</style>"
      ],
      "text/plain": [
       "<IPython.core.display.HTML object>"
      ]
     },
     "metadata": {},
     "output_type": "display_data"
    }
   ],
   "source": [
    "from IPython.core.display import display, HTML\n",
    "display(HTML(\"<style>div.output_area pre {white-space: pre;}</style>\"))"
   ]
  },
  {
   "cell_type": "code",
   "execution_count": 3,
   "metadata": {},
   "outputs": [],
   "source": [
    "pd.set_option('display.expand_frame_repr', False)"
   ]
  },
  {
   "cell_type": "code",
   "execution_count": 4,
   "metadata": {},
   "outputs": [],
   "source": [
    "pd.set_option('display.max_columns', None)"
   ]
  },
  {
   "cell_type": "markdown",
   "metadata": {},
   "source": [
    "## Functions"
   ]
  },
  {
   "cell_type": "code",
   "execution_count": 5,
   "metadata": {},
   "outputs": [],
   "source": [
    "def jaccard(a, b):\n",
    "    return len(a.intersection(b)) / len(a.union(b))"
   ]
  },
  {
   "cell_type": "code",
   "execution_count": 6,
   "metadata": {},
   "outputs": [],
   "source": [
    "def q_show(df, var, k = 40, as_table = False, transition=True, min_freq=None, return_md=False):\n",
    "    \"\"\"\n",
    "    Given a dataframe, shows the top k words for variable var each year.\n",
    "    Note: as_table only sypported for transition variables!\n",
    "    \"\"\"\n",
    "    \n",
    "    COLUMNS = [col for col in sorted(df.columns) if col.startswith(var)]\n",
    "\n",
    "    if min_freq == None:    \n",
    "        WORDS = [df[col].sort_values(ascending=False)[:k].index for col in COLUMNS]\n",
    "    else:\n",
    "        TRANSITIONS = [tuple(col.split(\"_\")[-1].split(\":\")) for col in COLUMNS]\n",
    "        WORDS = [df[(df[f\"frq_{trs[0]}\"] >= min_freq) & (df[f\"frq_{trs[1]}\"] >= min_freq)][col].sort_values(ascending=False)[:k].index for col, trs in zip(COLUMNS, TRANSITIONS)]\n",
    "    \n",
    "    ser = [(c, d) for c, d in zip(COLUMNS, WORDS)]\n",
    "    \n",
    "    md = \"\"\n",
    "    \n",
    "    for i, (col, s) in enumerate(ser):\n",
    "        if i > 0:\n",
    "            jac = round(jaccard(set(s), ser[i-1][-1]), 2)\n",
    "        else:\n",
    "            jac = None\n",
    "        \n",
    "        print(); md += \"\\n\"\n",
    "        print(col, \"jaccard =\", jac); md += f\"{col} jaccard = {jac}\"\n",
    "\n",
    "        if transition:\n",
    "            if as_table == False:\n",
    "                print(s)\n",
    "            else:\n",
    "                trans  = col.split(\"_\")[-1]\n",
    "                ti, tj = tuple(trans.split(\":\"))\n",
    "                table  = [] \n",
    "                for word in s:\n",
    "                    v    = df.loc[word][col]\n",
    "                    f_ti = int(df.loc[word][f\"frq_{ti}\"])\n",
    "                    f_tj = int(df.loc[word][f\"frq_{tj}\"])\n",
    "                    gch  = df.loc[word][f\"gch_{trans}\"]\n",
    "                    m    = df.loc[word][f\"mccc_{trans}\"]\n",
    "                    std  = df.loc[word][f\"stdc_{trans}\"]\n",
    "                    columns = [\"Word\", var.upper(), \"n_i\", \"n_j\", \"GCH\", \"Mctrl\", \"Sctrl\"]\n",
    "                    table.append([word, v, f_ti, f_tj, gch, m, std])\n",
    "                print(pd.DataFrame(table, columns=columns).dropna().round(3))\n",
    "                md += pd.DataFrame(table, columns=columns).dropna().round(3).to_markdown()\n",
    "        \n",
    "        else:\n",
    "            year = col.split(\"_\")[-1]\n",
    "            table = []\n",
    "            for word in s:\n",
    "                v    = df.loc[word][col]\n",
    "                f = int(df.loc[word][f\"frq_{year}\"])\n",
    "                columns = [\"Word\", var.upper(), \"Freq\"]\n",
    "                table.append([word, v, f])\n",
    "            print(pd.DataFrame(table, columns=columns).dropna().round(3))\n",
    "            md += pd.DataFrame(table, columns=columns).dropna().round(3).to_markdown()\n",
    "    if return_md:\n",
    "        return md"
   ]
  },
  {
   "cell_type": "code",
   "execution_count": 7,
   "metadata": {},
   "outputs": [],
   "source": [
    "def change_show(df, var, targets, th=4.781, return_md = False, min_freq=10):\n",
    "    \"\"\"\n",
    "    Given a dataframe, shows the value for a variable of target \n",
    "    each transition/year.\n",
    "    Provide threshold to only show the targets meeting the threshold\n",
    "    \"\"\"\n",
    "    \n",
    "    md = \"\"\n",
    "\n",
    "    for col in sorted([col for col in df.columns if col.startswith(var)]):\n",
    "        trans  = col.split(\"_\")[-1]\n",
    "        ti, tj = tuple(trans.split(\":\"))\n",
    "        table  = [] \n",
    "        \n",
    "        for word in targets:\n",
    "            v    = df.loc[word][col]\n",
    "            f_ti = int(df.loc[word][f\"frq_{ti}\"])\n",
    "            f_tj = int(df.loc[word][f\"frq_{tj}\"])\n",
    "            if min_freq != None:\n",
    "                if f_ti < min_freq or f_tj < min_freq:\n",
    "                    continue\n",
    "            gch  = df.loc[word][f\"gch_{trans}\"]\n",
    "            m    = df.loc[word][f\"mccc_{trans}\"]\n",
    "            std  = df.loc[word][f\"stdc_{trans}\"]            \n",
    "            \n",
    "            if th != None:\n",
    "                if v > th:\n",
    "                    table.append([word, v, f_ti, f_tj, gch, m, std])\n",
    "            else:\n",
    "                table.append([word, v, f_ti, f_tj, gch, m, std])\n",
    "        \n",
    "        columns = [\"Word\", \"Value\", f\"n_{ti}\", f\"n_{tj}\", f\"gch_{ti}:{tj}\", f\"M_{ti}:{tj}\", f\"Std_{ti}:{tj}\"]\n",
    "        if table != []:\n",
    "            display = pd.DataFrame(table, columns=columns)\n",
    "            print(); md += \"\\n\" \n",
    "            print(col); md += f\"{col}\\n\"\n",
    "            print(display); md += display.to_markdown()\n",
    "    \n",
    "    if return_md:\n",
    "        return md"
   ]
  },
  {
   "cell_type": "code",
   "execution_count": 8,
   "metadata": {},
   "outputs": [],
   "source": [
    "def v_renamer(var_string):\n",
    "    var_string = var_string.split(\"_\")\n",
    "    yi, yj     = tuple(var_string[-1].split(\":\"))\n",
    "    yi         = yi[-2:]\n",
    "    yj         = yj[-2:]\n",
    "    return f\"{yi}:{yj}\""
   ]
  },
  {
   "cell_type": "code",
   "execution_count": 9,
   "metadata": {},
   "outputs": [],
   "source": [
    "def overview(\n",
    "    df, \n",
    "    var, \n",
    "    targets, \n",
    "    prefixes = (\"N\", \"A\", \"V\"), \n",
    "    th=4.781, \n",
    "    transition = True, \n",
    "    min_freq = 10, \n",
    "    return_md = False,\n",
    "    rounder = 3\n",
    "):\n",
    "    \"\"\" \n",
    "    Similar to change_show but:\n",
    "    * Show data as one table\n",
    "    * Only show variable (change_show display additional data)\n",
    "    * Provide th to show True/False\n",
    "    \"\"\"\n",
    "    \n",
    "    cols = sorted([col for col in df.columns if col.startswith(var)])\n",
    "    targets = [w for w in targets if w.startswith(prefixes)]\n",
    "    targets.sort()\n",
    "    if transition:\n",
    "        renamer = {k: v_renamer(k) for k in cols}\n",
    "    else:\n",
    "        renamer = {k: k.split(\"_\")[-1][-2:] for k in cols}\n",
    "    \n",
    "    md = \"\"\n",
    "    \n",
    "    if min_freq != None and transition:\n",
    "        df = df.copy()\n",
    "        transitions = find_transitions(df, \"df\", var)\n",
    "        for trg in targets:\n",
    "            for ti, tj in transitions:\n",
    "                if df.loc[trg][f\"frq_{ti}\"] < min_freq or df.loc[trg][f\"frq_{tj}\"] < min_freq:\n",
    "                    df.at[trg, f\"{var}_{ti}:{tj}\"] = 0\n",
    "\n",
    "    if min_freq != None and transition == False:\n",
    "        df = df.copy()\n",
    "        years = sorted([int(col.split(\"_\")[-1]) for col in cols])\n",
    "        for trg in targets:\n",
    "            for year in years:\n",
    "                if df.loc[trg][f\"frq_{year}\"] < min_freq:\n",
    "                    df.at[trg, f\"{var}_{year}\"] = 0        \n",
    "                       \n",
    "    \n",
    "    if th != None:\n",
    "        out = df.loc[targets, cols] > th\n",
    "        out.rename(columns = renamer, inplace = True)\n",
    "        print(var.upper()); md += var.upper() + \"\\n\"\n",
    "        print(out); md += out.to_markdown()\n",
    "        print(\"SUM:\", out.sum().sum()); md += f\"\\nSUM: {out.sum().sum()}\\n\"\n",
    "    else:\n",
    "        out = df.loc[targets, cols].round(rounder)\n",
    "        out.rename(columns = renamer, inplace = True)\n",
    "        print(var.upper()); md += var.upper() + \"\\n\"\n",
    "        print(out); md += out.to_markdown()\n",
    "        print(\"SUM:\", out.sum().sum()); md += f\"\\nSUM: {out.sum().sum()}\\n\"\n",
    "    \n",
    "    if return_md:\n",
    "        return md"
   ]
  },
  {
   "cell_type": "code",
   "execution_count": 10,
   "metadata": {},
   "outputs": [],
   "source": [
    "def read_csv(path):\n",
    "    return pd.read_csv(path, sep=\";\", index_col=0)"
   ]
  },
  {
   "cell_type": "code",
   "execution_count": 11,
   "metadata": {},
   "outputs": [],
   "source": [
    "def get_dwts(df, path):\n",
    "    with open(Path(path), \"r\") as f:\n",
    "        dwt_roots = [w.strip(\"\\n\") for w in f.readlines()]\n",
    "    dwt_regex = re.compile(f\"({'|'.join(dwt_roots)})\")    \n",
    "    dwts = [str(w) for w in df.index if re.search(dwt_regex, str(w)) != None]\n",
    "    return dwts    "
   ]
  },
  {
   "cell_type": "code",
   "execution_count": 12,
   "metadata": {},
   "outputs": [],
   "source": [
    "def get_variables(df):\n",
    "    \"\"\"\n",
    "    Summeraises variables of a dataframe\n",
    "    \"\"\"\n",
    "    \n",
    "    yr_prefix = set()\n",
    "    tr_prefix = set()\n",
    "    years = set()\n",
    "    transitions = set()\n",
    "    \n",
    "    for v in df.columns:\n",
    "        prefix, suffix = tuple(v.split(\"_\"))\n",
    "        if \":\" in suffix:\n",
    "            tr_prefix.add(prefix)\n",
    "            transitions.add(suffix)\n",
    "        else:\n",
    "            yr_prefix.add(prefix)\n",
    "            years.add(suffix)\n",
    "    \n",
    "    return {\n",
    "        \"yr_prefix\": yr_prefix, \n",
    "        \"tr_prefix\": tr_prefix,\n",
    "        \"years\": years,\n",
    "        \"transitions\": transitions\n",
    "        }    "
   ]
  },
  {
   "cell_type": "code",
   "execution_count": 13,
   "metadata": {},
   "outputs": [],
   "source": [
    "def checker(word, transition, controls_dir, n_ctrl=10, variable=\"cosine_change\"):\n",
    "    \"\"\"\n",
    "    Goes to original data, shows the control change/similarity of a word \n",
    "    at a transition.\n",
    "    param word\n",
    "    param transition    tupple of ti and tj \n",
    "    param controls_dir  where to find controls\n",
    "    param variable      \"cosine_change\" or \"cosine_sim\"\n",
    "    \"\"\"\n",
    "    \n",
    "    ti, tj = transition\n",
    "    basename = Path(controls_dir) / variable \n",
    "    \n",
    "    filenames = [f\"{ti}_{tj}_control{n}.txt\" for n in range(1, n_ctrl+1)]\n",
    "    \n",
    "    values = []\n",
    "    \n",
    "    for file in filenames:\n",
    "        data = load_metric(basename / file)\n",
    "        value = data[word] if word in data else \"NO MEASURE\"\n",
    "        values.append(value)\n",
    "        print(file, value)\n",
    "        \n",
    "    return values   "
   ]
  },
  {
   "cell_type": "code",
   "execution_count": 14,
   "metadata": {},
   "outputs": [],
   "source": [
    "def ncd(DATA, CORPUS, VAR, VAL): # No Change Detector\n",
    "\n",
    "    corpus = Path(CORPUS)\n",
    "    transitions = find_transitions(corpus / \"vocab\")    \n",
    "\n",
    "    for yi, yj in transitions:\n",
    "        print()\n",
    "        print(f\"{yi}:{yj}\")\n",
    "        \n",
    "        A = list(DATA[DATA[f\"{VAR}_{yi}:{yj}\"] == VAL].index)\n",
    "        print(\"No change (A):\", len(A))\n",
    "        B = list(DATA[DATA[f\"{VAR}_{yi}:{yj}\"] != VAL].index)\n",
    "        print(\"Other (B):\", len(B))\n",
    "        print()\n",
    "        print(\"{: <20} {}\".format(\"A\", \"B\"))\n",
    "        print(\"{: <20} {}\".format(\"---\", \"---\"))\n",
    "        for w1, w2 in zip(A[:100], B[:100]):\n",
    "            print(f\"{w1: <20} {w2}\")"
   ]
  },
  {
   "cell_type": "code",
   "execution_count": 15,
   "metadata": {},
   "outputs": [],
   "source": [
    "def find_transitions(source, mode=\"file\", var = None):\n",
    "    \"\"\"\n",
    "    List transitions. \n",
    "    For mode = \"file\", expected source: filepath\n",
    "    For mode = \"df\", expected source: pandas DataFrame; provide varible var\n",
    "    \"\"\"\n",
    "    if mode == \"file\":\n",
    "        years = [int(file.strip(\".txt\")) for file in os.listdir(source)]\n",
    "        years.sort()\n",
    "        transitions = [(year, years[i]) for i, year in enumerate(years[:-1], start=1)]\n",
    "    if mode == \"df\":\n",
    "        cols = [col for col in source.columns if col.startswith(var)]\n",
    "        cols.sort()\n",
    "        transitions = [tuple(col.split(\"_\")[-1].split(\":\")) for col in cols]\n",
    "    return transitions"
   ]
  },
  {
   "cell_type": "code",
   "execution_count": 16,
   "metadata": {},
   "outputs": [],
   "source": [
    "def w_overlap_checker(corpus, th_c):\n",
    "    \n",
    "    corpus = Path(corpus)\n",
    "    transitions = find_transitions(corpus / \"vocab\")\n",
    "    \n",
    "    for yi, yj in transitions:\n",
    "        print()\n",
    "        print(f\"{yi}:{yj}\")\n",
    "        \n",
    "        voc_a = load_metric(corpus / f\"vocab/{yi}.txt\")\n",
    "        voc_b = load_metric(corpus / f\"vocab/{yj}.txt\")\n",
    "\n",
    "        voc_a = {w: c for w, c in voc_a.items() if c >= th_c}\n",
    "        voc_b = {w: c for w, c in voc_b.items() if c >= th_c}\n",
    "        print(f\"{yi}:\", len(voc_a))\n",
    "        print(f\"{yj}:\", len(voc_b))\n",
    "        print(f\"{yi} and {yj}:\", len([w for w in voc_a.keys() if w in voc_b.keys()]))\n",
    "        print(f\"{yi} or {yj}:\", len(set(voc_a.keys()).union(set(voc_b.keys()))))\n",
    "        print(f\"{yi} - {yj}:\", len(set(voc_a.keys()).difference(set(voc_b.keys()))))"
   ]
  },
  {
   "cell_type": "code",
   "execution_count": 51,
   "metadata": {},
   "outputs": [],
   "source": [
    "def trend(df, var, norm=None, transition = True, metric=\"pearson\"):\n",
    "    \n",
    "    if transition == 1:\n",
    "        T = find_transitions(source=df, mode = \"df\", var=var)\n",
    "    else:\n",
    "        cols = [col for col in df.columns if col.startswith(var)]\n",
    "        cols.sort()\n",
    "        T = [int(col.split(\"_\")[-1]) for col in cols]        \n",
    "    \n",
    "    table = []\n",
    "    for w in df.index:\n",
    "        valid = []\n",
    "        if transition:\n",
    "            X = df[[f\"{var}_{ti}:{tj}\" for ti, tj in T]].loc[w]\n",
    "        else:\n",
    "            X = df[[f\"{var}_{t}\" for t in T]].loc[w]\n",
    "        \n",
    "        valid = [(x, t) for x, t in zip(X, T) if not pd.isna(x)]\n",
    "\n",
    "        N = len(valid)\n",
    "\n",
    "        if N < 2:\n",
    "            v = np.nan\n",
    "            p = np.nan\n",
    "        else:\n",
    "            X, T = zip(*valid)\n",
    "            if norm != None:\n",
    "                X = norm(X)\n",
    "\n",
    "            if metric == \"pearson\":\n",
    "                R_data = pearsonr(X, T)\n",
    "\n",
    "            if metric == \"spearman\":\n",
    "                R_data = spearmanr(X, Y)\n",
    "                \n",
    "            v = R_data.statistic\n",
    "            p = R_data.pvalue\n",
    "\n",
    "        table.append([w, round(v, 2), round(p, 2), N])\n",
    "    correlation = pd.DataFrame(table, columns=[\"Word\", \"Trend\", \"p\", \"N\"])\n",
    "        \n",
    "    return correlation\n",
    "    "
   ]
  },
  {
   "cell_type": "code",
   "execution_count": 19,
   "metadata": {},
   "outputs": [],
   "source": [
    "def correlation(df, var1, var2, mode=1, norm1=None, norm2=None, metric=\"pearson\"):    \n",
    "    \"\"\"\n",
    "    \n",
    "    ...\n",
    "    param norm1  function to normalize/transform var1 with (default None); provide function \n",
    "                 e.g. zscore or np.log \n",
    "    \"\"\"\n",
    "\n",
    "    transitions = find_transitions(df, \"df\", var1) \n",
    "    # Assumes `var1` and `var2` are both transition variables\n",
    "    # Consider implement `var1cut` parameter as in `universal_correlation`\n",
    "\n",
    "    if mode == 1:\n",
    "        correlation = df[[f\"{var1}_{ti}:{tj}\" for ti, tj in transitions]].corrwith(df[[f\"{var2}_{ti}:{tj}\" for ti, tj in transitions]], axis=1)\n",
    "    \n",
    "    if mode == 2:\n",
    "        table = []\n",
    "        for w in df.index:\n",
    "            valid = []\n",
    "            X = df[[f\"{var1}_{ti}:{tj}\" for ti, tj in transitions]].loc[w]\n",
    "            Y = df[[f\"{var2}_{ti}:{tj}\" for ti, tj in transitions]].loc[w]\n",
    "            for x, y in zip(X, Y):\n",
    "                if pd.isna(x):\n",
    "                    continue\n",
    "                if pd.isna(y):\n",
    "                    continue\n",
    "                valid.append((x, y))\n",
    "            \n",
    "            N = len(valid)\n",
    "            \n",
    "            if N < 2:\n",
    "                v = np.nan\n",
    "                p = np.nan\n",
    "            else:\n",
    "                X, Y = zip(*valid)\n",
    "                if norm1 != None:\n",
    "                    X = norm1(X)\n",
    "                if norm2 != None:\n",
    "                    Y = norm2(Y)\n",
    "                if metric == \"pearson\":\n",
    "                    R_data = pearsonr(X, Y)\n",
    "                    v = R_data.statistic\n",
    "                    p = R_data.pvalue\n",
    "\n",
    "                if metric == \"spearman\":\n",
    "                    R_data = spearmanr(X, Y)\n",
    "                    v = R_data.statistic\n",
    "                    p = R_data.pvalue\n",
    "                    \n",
    "            table.append([w, round(v, 2), round(p, 2), N])\n",
    "        correlation = pd.DataFrame(table, columns=[\"Word\", \"Correlation\", \"p\", \"N\"])\n",
    "        \n",
    "    return correlation"
   ]
  },
  {
   "cell_type": "code",
   "execution_count": 20,
   "metadata": {},
   "outputs": [],
   "source": [
    "def nonaninf(x, y):\n",
    "    if pd.isna(x):\n",
    "        return False\n",
    "    if pd.isna(y):\n",
    "        return False   \n",
    "    if abs(x) == np.inf:\n",
    "        return False\n",
    "    if abs(y) == np.inf:\n",
    "        return False\n",
    "    return True"
   ]
  },
  {
   "cell_type": "code",
   "execution_count": 21,
   "metadata": {},
   "outputs": [],
   "source": [
    "def nonalist(lst):\n",
    "    for x in lst:\n",
    "        if pd.isna(x):\n",
    "            return False\n",
    "    return True"
   ]
  },
  {
   "cell_type": "code",
   "execution_count": 22,
   "metadata": {},
   "outputs": [],
   "source": [
    "def collect_var(df, var, varcut):\n",
    "    X = []\n",
    "    varcol = sorted([col for col in df.columns if col.startswith(var)])\n",
    "    if varcut != None:\n",
    "        del varcol[varcut]\n",
    "    for col in varcol:\n",
    "        X.extend(list(df[col]))\n",
    "    return X    "
   ]
  },
  {
   "cell_type": "code",
   "execution_count": 23,
   "metadata": {},
   "outputs": [],
   "source": [
    "def universal_correlation(\n",
    "    df, \n",
    "    var1, \n",
    "    var2, \n",
    "    var1cut = None, \n",
    "    var2cut = None, \n",
    "    norm1=None, \n",
    "    norm2=None, \n",
    "    metric=\"pearson\",\n",
    "    min_freq = None\n",
    "):\n",
    "    # https://stackoverflow.com/questions/16031056/how-to-form-tuple-column-from-two-columns-in-pandas\n",
    "    \n",
    "    if min_freq != None:\n",
    "        df = df.copy()\n",
    "        \n",
    "        t1 = find_transitions(df, \"df\", var1)\n",
    "        t2 = find_transitions(df, \"df\", var2)\n",
    "\n",
    "        if var1cut != None:\n",
    "            transitions = [t for t in t2]\n",
    "\n",
    "        for trg in [w for w in df.index]:\n",
    "            for ti, tj in transitions:\n",
    "                if df.loc[trg][f\"frq_{ti}\"] < min_freq or df.loc[trg][f\"frq_{tj}\"] < min_freq:\n",
    "                    df.at[trg, f\"{var2}_{ti}:{tj}\"] = np.nan     \n",
    "    \n",
    "    X = collect_var(df, var1, var1cut)\n",
    "    Y = collect_var(df, var2, var2cut)\n",
    "            \n",
    "    print(\"Length:\")\n",
    "    print(\"X:\", len(X))\n",
    "    print(\"Y:\", len(Y))\n",
    "    \n",
    "    X, Y = zip(*[(x, y) for x, y in zip(X, Y) if nonaninf(x,y)])\n",
    "        \n",
    "    if norm1 != None:\n",
    "        X = norm1(X)\n",
    "    if norm2 != None:\n",
    "        Y = norm2(Y)\n",
    "    \n",
    "    if metric == \"pearson\":\n",
    "        R_data = pearsonr(X, Y)\n",
    "    if metric == \"spearman\":\n",
    "        R_data = spearmanr(X, Y)\n",
    "        \n",
    "    v = R_data.statistic\n",
    "    p = R_data.pvalue\n",
    "    \n",
    "    return v, p"
   ]
  },
  {
   "cell_type": "code",
   "execution_count": 24,
   "metadata": {},
   "outputs": [],
   "source": [
    "def model_comparison(\n",
    "    dfs,\n",
    "    mnames,\n",
    "    var, \n",
    "    norm=None, \n",
    "    targets = Path(\"../data/utils/dwts.txt\"), # =get_dwts(df_yearly_dwt, dwt_path)\n",
    "    prefix = (\"N\", \"A\", \"V\"),\n",
    "    mode=\"universal\", # no other mode supported at the moment ...\n",
    "    word=None, # not supported at the moment ... \n",
    "    metric=\"pearson\",\n",
    "):\n",
    "    \n",
    "    cols = [col for col in dfs[0].columns if col.startswith(var)] # based on first df\n",
    "    trgs = [trg for trg in get_dwts(dfs[0], targets)]              # based on first df\n",
    "    print(\"Targets:\", \", \".join(trgs))\n",
    "    trgs = [trg for trg in trgs if trg.startswith(prefix)] if prefix != None else trgs\n",
    "    \n",
    "    _XY = []\n",
    "    if mode == \"universal\":    \n",
    "        for model, mname in zip(dfs, mnames):\n",
    "            this_model = []\n",
    "            for col in cols:\n",
    "                this_model.extend(model.loc[trgs, col])\n",
    "            print(\"Length\", mname, len(this_model))\n",
    "            _XY.append(this_model)\n",
    "    \n",
    "    _XY = list(zip(*[xyz for xyz in zip(*_XY) if nonalist(xyz)])) # note: xyz is a variable for a tuple\n",
    "    \n",
    "    print(\"Length (no NaN):\")\n",
    "    for vector in _XY:\n",
    "        print(len(vector))\n",
    "    \n",
    "    _XY = [norm(model) for model in _XY] if norm != None else _XY\n",
    "    \n",
    "    if metric == \"pearson\":\n",
    "        R_data = np.corrcoef(_XY)\n",
    "    if metric == \"spearman\":\n",
    "        _XY = [rankdata(model) for model in _XY]\n",
    "        R_data = np.corrcoef(_XY)\n",
    "        \n",
    "    out = pd.DataFrame(R_data, columns=mnames, index=mnames).round(3)\n",
    "\n",
    "    return out"
   ]
  },
  {
   "cell_type": "code",
   "execution_count": 25,
   "metadata": {},
   "outputs": [],
   "source": [
    "def visualize(df, var):\n",
    "    pass"
   ]
  },
  {
   "cell_type": "markdown",
   "metadata": {},
   "source": [
    "## Files"
   ]
  },
  {
   "cell_type": "code",
   "execution_count": 26,
   "metadata": {},
   "outputs": [],
   "source": [
    "#file_path = Path(\"../../dw_results/fb_pol-yearly-radical3.csv\")\n",
    "#file_path = Path(\"fb_pol-yearly-radical3.csv\")\n",
    "results_dir = Path(\"../../dw_results\")"
   ]
  },
  {
   "cell_type": "code",
   "execution_count": 33,
   "metadata": {
    "scrolled": true
   },
   "outputs": [
    {
     "name": "stdout",
     "output_type": "stream",
     "text": [
      "bert-v0\n",
      "fb_pol-time_bin-bert-fb_nli.csv\n",
      "fb_pol-time_bin-bert-sentence-bert-swedish-cased.csv\n",
      "fb_pol-time_bin-bert-sts_fbmodel.csv\n",
      "fb_pol-time_bin-bert-sts_fbmodel_big_40epochs.csv\n",
      "fb_pol-yearly-bert-sentence-bert-swedish-cased.csv\n",
      "fb_pol-yearly-bert-sts_fbmodel.csv\n",
      "fb_pol-yearly-bert-sts_fbmodel_big_40epochs.csv\n",
      "fb_pol-yearly-radical3-full.csv\n",
      "fb_pol-yearly-radical3-full.csv.bz2\n",
      "fb_pol-yearly-radical3-restricted.csv\n"
     ]
    }
   ],
   "source": [
    "files = sorted(os.listdir(results_dir))\n",
    "_ = [print(file) for file in files]"
   ]
  },
  {
   "cell_type": "code",
   "execution_count": 28,
   "metadata": {},
   "outputs": [],
   "source": [
    "dwt_path = \"../data/utils/dwts.txt\""
   ]
  },
  {
   "cell_type": "code",
   "execution_count": 29,
   "metadata": {},
   "outputs": [],
   "source": [
    "#crp_tib = Path(\"/srv/data/gusbohom/root/corpora/toypol/time_bin/radical3/\")\n",
    "corpus = Path(\"/home/max/Corpora/flashback-pol-time/yearly/fb-pt-radical3\")"
   ]
  },
  {
   "cell_type": "code",
   "execution_count": 30,
   "metadata": {},
   "outputs": [],
   "source": [
    "df_yearly = read_csv(results_dir / \"fb_pol-yearly-radical3-full.csv\")"
   ]
  },
  {
   "cell_type": "code",
   "execution_count": 31,
   "metadata": {},
   "outputs": [],
   "source": [
    "df_yearly_dwt = read_csv(results_dir / \"fb_pol-yearly-radical3-restricted.csv\")"
   ]
  },
  {
   "cell_type": "code",
   "execution_count": null,
   "metadata": {},
   "outputs": [],
   "source": [
    "df_bert_nli = read_csv(results_dir / \"fb_pol-yearly-bert-fb_nli.csv\")"
   ]
  },
  {
   "cell_type": "code",
   "execution_count": 32,
   "metadata": {},
   "outputs": [],
   "source": [
    "df_bert_sts = read_csv(results_dir / \"fb_pol-yearly-bert-sts_fbmodel.csv\")"
   ]
  },
  {
   "cell_type": "code",
   "execution_count": null,
   "metadata": {},
   "outputs": [],
   "source": [
    "df_bert_big = read_csv(results_dir / \"fb_pol-yearly-bert-sts_fbmodel_big_40epochs.csv\")"
   ]
  },
  {
   "cell_type": "code",
   "execution_count": null,
   "metadata": {},
   "outputs": [],
   "source": [
    "df_bert_kb  = read_csv(results_dir / \"fb_pol-yearly-bert-sentence-bert-swedish-cased.csv\")"
   ]
  },
  {
   "cell_type": "code",
   "execution_count": 34,
   "metadata": {},
   "outputs": [],
   "source": [
    "df_tbn_sts = read_csv(results_dir / \"fb_pol-time_bin-bert-sts_fbmodel.csv\")"
   ]
  },
  {
   "cell_type": "code",
   "execution_count": null,
   "metadata": {},
   "outputs": [],
   "source": [
    "#toypol = read_csv(Path(\"../../toypol-time_bin.csv\"))"
   ]
  },
  {
   "cell_type": "code",
   "execution_count": null,
   "metadata": {},
   "outputs": [],
   "source": [
    "#df_time_bin = read_csv(results_dir / \"fb_pol-time_bin-radical3-full.csv\")"
   ]
  },
  {
   "cell_type": "code",
   "execution_count": null,
   "metadata": {},
   "outputs": [],
   "source": [
    "#df_time_bin_dwt = read_csv(results_dir / \"fb_pol-time_bin-radical3-restricted.csv\")"
   ]
  },
  {
   "cell_type": "markdown",
   "metadata": {},
   "source": [
    "## Model comparison"
   ]
  },
  {
   "cell_type": "raw",
   "metadata": {},
   "source": [
    "W = set()\n",
    "corpus = Path(\"/home/max/Corpora/flashback-pol-time/yearly/contexts/files\")\n",
    "for file in os.listdir(corpus):\n",
    "    with open(corpus / file) as f:\n",
    "        for line in f:\n",
    "            dwts = line.split(\"\\t\")[0]\n",
    "            W.update(dwts.split(\"; \"))\n",
    "print(len(W))\n",
    "for w in sorted(list(W)):\n",
    "    print(w)"
   ]
  },
  {
   "cell_type": "raw",
   "metadata": {},
   "source": [
    "df_bert_sts[\"P1_självständig_utrikespolitik\"]"
   ]
  },
  {
   "cell_type": "code",
   "execution_count": null,
   "metadata": {
    "scrolled": false
   },
   "outputs": [],
   "source": [
    "for w in sorted([w for w in df_yearly_dwt.index if w.startswith((\"N\", \"A\", \"V\"))]):\n",
    "    print(w)"
   ]
  },
  {
   "cell_type": "code",
   "execution_count": null,
   "metadata": {
    "scrolled": false
   },
   "outputs": [],
   "source": [
    "for w in sorted([w for w in df_bert_sts.index if w.startswith((\"N\", \"A\", \"V\"))]):\n",
    "    print(w)"
   ]
  },
  {
   "cell_type": "code",
   "execution_count": null,
   "metadata": {},
   "outputs": [],
   "source": [
    "11 * 22\n"
   ]
  },
  {
   "cell_type": "code",
   "execution_count": null,
   "metadata": {},
   "outputs": [],
   "source": [
    "model_comparison(\n",
    "    dfs=[df_yearly_dwt, df_bert_nli, df_bert_sts, df_bert_big, df_bert_kb],\n",
    "    mnames=[\"SGNS\", \"NLI\", \"STS\", \"BIG\", \"KB\"],\n",
    "    var=\"gch\", \n",
    "    norm=None, \n",
    "    targets = Path(\"../data/utils/dwts.txt\"), # =get_dwts(df_yearly_dwt, dwt_path)\n",
    "    prefix = (\"N\", \"A\", \"V\"),\n",
    "    mode=\"universal\", # no other mode supported at the moment ...\n",
    "    word=None, # not supported at the moment ... \n",
    "    metric=\"pearson\"\n",
    ")"
   ]
  },
  {
   "cell_type": "code",
   "execution_count": null,
   "metadata": {},
   "outputs": [],
   "source": [
    "print(model_comparison(\n",
    "    dfs=[df_yearly_dwt, df_bert_nli, df_bert_sts, df_bert_big, df_bert_kb],\n",
    "    mnames=[\"SGNS\", \"NLI\", \"STS\", \"BIG\", \"KB\"],\n",
    "    var=\"rch\", \n",
    "    norm=None, \n",
    "    targets = Path(\"../data/utils/dwts.txt\"), # =get_dwts(df_yearly_dwt, dwt_path)\n",
    "    prefix = (\"N\", \"A\", \"V\"),\n",
    "    mode=\"universal\", # no other mode supported at the moment ...\n",
    "    word=None, # not supported at the moment ... \n",
    "    metric=\"pearson\"\n",
    ").to_markdown())"
   ]
  },
  {
   "cell_type": "markdown",
   "metadata": {},
   "source": [
    "## Q-Show"
   ]
  },
  {
   "cell_type": "markdown",
   "metadata": {},
   "source": [
    "### Check"
   ]
  },
  {
   "cell_type": "raw",
   "metadata": {},
   "source": [
    "ncd(DATA=df_yearly, CORPUS=corpus, VAR=\"gsim\", VAL=1.0)"
   ]
  },
  {
   "cell_type": "raw",
   "metadata": {},
   "source": [
    "w_overlap_checker(corpus=corpus, th_c=100)"
   ]
  },
  {
   "cell_type": "markdown",
   "metadata": {},
   "source": [
    "### Yearly"
   ]
  },
  {
   "cell_type": "markdown",
   "metadata": {},
   "source": [
    "#### SGNS"
   ]
  },
  {
   "cell_type": "code",
   "execution_count": null,
   "metadata": {
    "scrolled": true
   },
   "outputs": [],
   "source": [
    "q_show(df_yearly, \"rch\", as_table = True)\n",
    "# q_show(\"rsim\")\n",
    "# q_show(\"gch\")\n",
    "# q_show(\"gsim\")"
   ]
  },
  {
   "cell_type": "code",
   "execution_count": null,
   "metadata": {},
   "outputs": [],
   "source": [
    "checker(\n",
    "    word=\"gyllene\", \n",
    "    transition=(2000,2001), \n",
    "    controls_dir=\"/home/max/Results/fb_pol-yearly-rad3\", \n",
    "    n_ctrl=10, \n",
    "    variable=\"cosine_change\")"
   ]
  },
  {
   "cell_type": "code",
   "execution_count": null,
   "metadata": {},
   "outputs": [],
   "source": [
    "q_show(df_yearly, \"gch\", as_table = True, min_freq=50)"
   ]
  },
  {
   "cell_type": "markdown",
   "metadata": {},
   "source": [
    "#### NLI"
   ]
  },
  {
   "cell_type": "code",
   "execution_count": null,
   "metadata": {
    "scrolled": true
   },
   "outputs": [],
   "source": [
    "q_show(df_bert_nli, \"rch\", as_table = True)"
   ]
  },
  {
   "cell_type": "code",
   "execution_count": null,
   "metadata": {
    "scrolled": true
   },
   "outputs": [],
   "source": [
    "q_show(df_bert_nli, \"gch\", as_table = True)"
   ]
  },
  {
   "cell_type": "code",
   "execution_count": null,
   "metadata": {
    "scrolled": true
   },
   "outputs": [],
   "source": [
    "q_show(df_bert_nli, \"spr\", as_table = True, transition=False)"
   ]
  },
  {
   "cell_type": "code",
   "execution_count": null,
   "metadata": {},
   "outputs": [],
   "source": [
    "q_show(df_bert_nli, \"anospr\", as_table = True, transition=False)"
   ]
  },
  {
   "cell_type": "markdown",
   "metadata": {},
   "source": [
    "#### STS (small)"
   ]
  },
  {
   "cell_type": "code",
   "execution_count": 35,
   "metadata": {
    "scrolled": true
   },
   "outputs": [
    {
     "name": "stdout",
     "output_type": "stream",
     "text": [
      "\n",
      "rch_2000:2001 jaccard = None\n",
      "                Word    RCH  n_i  n_j    GCH  Mctrl  Sctrl\n",
      "0  N1_kulturberikare  8.141   45   28  0.156  0.082  0.009\n",
      "1          V1_berika  4.429   43   17  0.182  0.110  0.016\n",
      "2        N1_berikare  2.216   21    1  0.256  0.158  0.042\n",
      "3    V1_kulturberika  0.385    7    4  0.235  0.223  0.028\n",
      "\n",
      "rch_2001:2002 jaccard = 1.0\n",
      "                Word    RCH  n_i  n_j    GCH  Mctrl  Sctrl\n",
      "0  N1_kulturberikare  3.763   28   10  0.180  0.113  0.017\n",
      "1          V1_berika  3.137   17   30  0.179  0.127  0.016\n",
      "2    V1_kulturberika  0.788    4    2  0.283  0.271  0.015\n",
      "3        N1_berikare  0.786    1    2  0.273  0.262  0.014\n",
      "\n",
      "rch_2002:2003 jaccard = 1.0\n",
      "                Word    RCH  n_i  n_j    GCH  Mctrl  Sctrl\n",
      "0        N1_berikare  5.264    2    8  0.330  0.191  0.025\n",
      "1          V1_berika  4.496   30   23  0.170  0.121  0.010\n",
      "2  N1_kulturberikare  3.935   10    6  0.211  0.179  0.008\n",
      "3       N1_globalist  0.905    1    0  0.384  0.384  0.000\n",
      "\n",
      "rch_2003:2004 jaccard = 1.0\n",
      "                Word    RCH  n_i  n_j    GCH  Mctrl  Sctrl\n",
      "0          V1_berika  9.378   23   77  0.154  0.083  0.007\n",
      "1  N1_kulturberikare  5.580    6   36  0.182  0.113  0.012\n",
      "2       N1_globalist  0.764    0    2  0.320  0.306  0.018\n",
      "\n",
      "rch_2004:2005 jaccard = 1.0\n",
      "                Word     RCH  n_i  n_j    GCH  Mctrl  Sctrl\n",
      "0       N1_globalist  11.500    2   20  0.289  0.141  0.012\n",
      "1      V1_återvandra   6.864    1    5  0.311  0.234  0.011\n",
      "2    V1_kulturberika   6.505    2   11  0.244  0.180  0.009\n",
      "3          V1_berika   0.992   77   88  0.071  0.067  0.003\n",
      "4  N1_kulturberikare  -0.057   36   24  0.099  0.099  0.008\n",
      "\n",
      "rch_2005:2006 jaccard = 1.0\n",
      "                 Word    RCH  n_i  n_j    GCH  Mctrl  Sctrl\n",
      "0   N1_kulturberikare  3.854   24   76  0.096  0.073  0.006\n",
      "1           V1_berika  3.204   88  272  0.055  0.044  0.003\n",
      "2         N1_berikare  1.908    6   20  0.171  0.153  0.009\n",
      "3     V1_kulturberika  0.913   11   17  0.143  0.134  0.009\n",
      "4        N1_globalist  0.722   20   40  0.100  0.094  0.008\n",
      "5     A1_globalistisk  0.659    3    9  0.200  0.192  0.011\n",
      "6  N1C_kulturberikarX  0.603    1    3  0.331  0.309  0.035\n",
      "7       V1_återvandra  0.237    5   10  0.174  0.169  0.023\n",
      "8  V1_hjälpa_på_plats -1.336    2    1  0.355  0.373  0.013\n",
      "\n",
      "rch_2006:2007 jaccard = 1.0\n",
      "                              Word     RCH  n_i  n_j    GCH  Mctrl  Sctrl\n",
      "0                        V1_berika  17.938  272  666  0.074  0.030  0.002\n",
      "1                N1_kulturberikare  15.641   76  307  0.069  0.039  0.002\n",
      "2                      N1_berikare  10.550   20  213  0.106  0.057  0.004\n",
      "3                    N1C_berikareX   8.934    4   37  0.248  0.155  0.010\n",
      "4                  V1_kulturberika   6.851   17  135  0.093  0.064  0.004\n",
      "5               V1_hjälpa_på_plats   5.576    1    4  0.333  0.273  0.010\n",
      "6                   N1C_globalistX   3.728    3    9  0.288  0.238  0.013\n",
      "7                  N1_återvandring   3.603   21   36  0.123  0.090  0.009\n",
      "8                  A1_globalistisk   3.314    9    8  0.213  0.171  0.012\n",
      "9                  N2_återvandrare   3.226    3    4  0.332  0.193  0.041\n",
      "10                    N1_globalist   0.847   40   23  0.106  0.098  0.009\n",
      "11              N1C_kulturberikarX   0.722    3   12  0.223  0.205  0.024\n",
      "12              N1C_återvandringsX   0.686    9   30  0.100  0.094  0.007\n",
      "13  P1_självständig_utrikespolitik   0.295    2    4  0.268  0.264  0.013\n",
      "14                   V1_återvandra  -0.262   10   24  0.121  0.124  0.011\n",
      "\n",
      "rch_2007:2008 jaccard = 1.0\n",
      "                              Word     RCH  n_i   n_j    GCH  Mctrl  Sctrl\n",
      "0                     N1_globalist  16.228   23   123  0.122  0.060  0.004\n",
      "1                   N1C_globalistX  13.547    9   191  0.154  0.066  0.006\n",
      "2                        V1_berika  10.640  666  1424  0.030  0.019  0.001\n",
      "3                      N1_berikare   4.933  213   650  0.041  0.029  0.002\n",
      "4               N1C_kulturberikarX   4.213   12    35  0.155  0.124  0.007\n",
      "5                  N1_återvandring   3.880   36    64  0.090  0.070  0.005\n",
      "6                N1_kulturberikare   3.832  307   777  0.032  0.024  0.002\n",
      "7                  A1_globalistisk   2.686    8    38  0.139  0.111  0.010\n",
      "8                    N1C_berikareX   2.504   37    85  0.107  0.091  0.006\n",
      "9                   N1_förortsgäng   2.140    2     7  0.256  0.221  0.015\n",
      "10              N1C_återvandringsX   1.987   30    79  0.066  0.055  0.005\n",
      "11                 V1_kulturberika   1.520  135   203  0.046  0.042  0.003\n",
      "12                N2C_återvandrarX   1.108    2     1  0.254  0.176  0.067\n",
      "13              V1_hjälpa_på_plats   0.812    4     9  0.178  0.169  0.010\n",
      "14  P1_självständig_utrikespolitik   0.278    4     3  0.255  0.249  0.021\n",
      "15                   V1_återvandra  -0.201   24    22  0.105  0.107  0.010\n",
      "16                 N2_återvandrare  -0.498    4     3  0.182  0.196  0.027\n",
      "\n",
      "rch_2008:2009 jaccard = 1.0\n",
      "                              Word     RCH   n_i   n_j    GCH  Mctrl  Sctrl\n",
      "0                        V1_berika  12.667  1424  1906  0.027  0.014  0.001\n",
      "1                     N1_globalist   6.776   123   129  0.077  0.052  0.004\n",
      "2                   N1_förortsgäng   5.790     7    19  0.171  0.129  0.007\n",
      "3               N1C_återvandringsX   3.042    79    22  0.087  0.060  0.008\n",
      "4                      N1_berikare   2.862   650   666  0.030  0.023  0.003\n",
      "5                    N1C_berikareX   2.104    85    89  0.087  0.074  0.006\n",
      "6               N1C_kulturberikarX   2.020    35    10  0.137  0.119  0.008\n",
      "7                N1_kulturberikare   1.826   777   605  0.026  0.021  0.002\n",
      "8                  N2_återvandrare   1.812     3     1  0.349  0.288  0.032\n",
      "9               V1_hjälpa_på_plats   1.530     9    17  0.149  0.121  0.017\n",
      "10                  N1C_globalistX   1.078   191   115  0.049  0.045  0.003\n",
      "11                   V1_återvandra   0.760    22    34  0.098  0.095  0.004\n",
      "12                 A1_globalistisk  -0.022    38    53  0.077  0.077  0.006\n",
      "13  P1_självständig_utrikespolitik  -0.028     3     1  0.261  0.262  0.022\n",
      "14                 N1_återvandring  -0.097    64    53  0.059  0.059  0.006\n",
      "15                 V1_kulturberika  -0.638   203   251  0.036  0.038  0.003\n",
      "\n",
      "rch_2009:2010 jaccard = 1.0\n",
      "                              Word     RCH   n_i   n_j    GCH  Mctrl  Sctrl\n",
      "0                        V1_berika  18.608  1906  2018  0.027  0.013  0.001\n",
      "1                  N1_återvandring   7.448    53   136  0.068  0.048  0.003\n",
      "2               V1_hjälpa_på_plats   6.861    17    54  0.110  0.070  0.006\n",
      "3                  N2_återvandrare   5.665     1     9  0.312  0.215  0.016\n",
      "4                N1_kulturberikare   4.445   605  1104  0.026  0.018  0.002\n",
      "5                    V1_återvandra   4.019    34    51  0.089  0.074  0.003\n",
      "6                  V1_kulturberika   3.846   251   317  0.040  0.031  0.002\n",
      "7                   N1C_globalistX   3.775   115   142  0.069  0.050  0.005\n",
      "8                      N1_berikare   2.922   666   497  0.031  0.025  0.002\n",
      "9                  A1_globalistisk   2.070    53    67  0.084  0.066  0.008\n",
      "10                  N1_förortsgäng   0.993    19     5  0.163  0.148  0.015\n",
      "11              N1C_återvandringsX   0.730    22    67  0.074  0.070  0.006\n",
      "12              N1C_kulturberikarX   0.705    10    13  0.167  0.158  0.012\n",
      "13                    N1_globalist   0.544   129   184  0.050  0.048  0.005\n",
      "14                   N1C_berikareX   0.069    89    69  0.079  0.079  0.005\n",
      "15  P1_självständig_utrikespolitik   0.028     1     4  0.276  0.275  0.026\n",
      "\n",
      "rch_2010:2011 jaccard = 1.0\n",
      "                              Word     RCH   n_i   n_j    GCH  Mctrl  Sctrl\n",
      "0                        V1_berika  15.335  2018  1981  0.023  0.013  0.001\n",
      "1                  N2_återvandrare   7.189     9     1  0.329  0.221  0.014\n",
      "2                  N1_återvandring   4.193   136    38  0.077  0.054  0.005\n",
      "3                N1_kulturberikare   2.946  1104   611  0.025  0.019  0.002\n",
      "4                   N1_förortsgäng   2.484     5     9  0.227  0.188  0.015\n",
      "5               N1C_återvandringsX   2.449    67    17  0.095  0.076  0.007\n",
      "6                  V1_kulturberika   2.397   317   255  0.039  0.032  0.002\n",
      "7                    N1C_berikareX   1.815    69    30  0.113  0.096  0.009\n",
      "8                      N1_berikare   1.266   497   413  0.031  0.029  0.002\n",
      "9                   N1C_globalistX   1.219   142   211  0.051  0.047  0.003\n",
      "10              V1_hjälpa_på_plats   1.019    54    36  0.074  0.067  0.007\n",
      "11                    N1_globalist   0.923   184   233  0.048  0.044  0.004\n",
      "12                 A1_globalistisk   0.270    67   133  0.054  0.052  0.006\n",
      "13              N1C_kulturberikarX  -0.002    13    14  0.151  0.151  0.014\n",
      "14  P1_självständig_utrikespolitik  -0.230     4     4  0.235  0.241  0.024\n",
      "15                   V1_återvandra  -0.729    51    36  0.074  0.079  0.007\n",
      "\n",
      "rch_2011:2012 jaccard = 1.0\n",
      "                              Word     RCH   n_i   n_j    GCH  Mctrl  Sctrl\n",
      "0                  N2_återvandrare  16.257     1     3  0.367  0.310  0.003\n",
      "1                     N1_globalist  11.217   233   524  0.055  0.031  0.002\n",
      "2                        V1_berika  10.879  1981  1622  0.023  0.014  0.001\n",
      "3                N1_kulturberikare   4.844   611   596  0.030  0.022  0.002\n",
      "4               N1C_återvandringsX   4.461    17    69  0.101  0.069  0.007\n",
      "5                   N1C_globalistX   2.831   211   299  0.047  0.039  0.003\n",
      "6                    V1_återvandra   2.785    36    42  0.099  0.080  0.007\n",
      "7                  V1_kulturberika   2.341   255   236  0.038  0.034  0.002\n",
      "8                      N1_berikare   1.900   413   425  0.035  0.029  0.003\n",
      "9                  A1_globalistisk   1.671   133   247  0.046  0.039  0.004\n",
      "10                 N1_återvandring   1.474    38   116  0.064  0.054  0.006\n",
      "11                  N1_förortsgäng   1.188     9     8  0.193  0.173  0.015\n",
      "12              N1C_kulturberikarX   1.176    14    23  0.157  0.141  0.013\n",
      "13  P1_självständig_utrikespolitik  -0.063     4     5  0.225  0.226  0.015\n",
      "14                   N1C_berikareX  -0.270    30    36  0.119  0.121  0.007\n",
      "15              V1_hjälpa_på_plats  -0.744    36    50  0.058  0.061  0.005\n",
      "\n",
      "rch_2012:2013 jaccard = 1.0\n"
     ]
    },
    {
     "name": "stdout",
     "output_type": "stream",
     "text": [
      "                              Word    RCH   n_i   n_j    GCH  Mctrl  Sctrl\n",
      "0                N1_kulturberikare  6.528   596   470  0.032  0.024  0.001\n",
      "1                        V1_berika  6.340  1622  1363  0.026  0.016  0.001\n",
      "2                     N1_globalist  6.114   524   538  0.035  0.025  0.001\n",
      "3                  V1_kulturberika  4.265   236   188  0.047  0.037  0.002\n",
      "4                      N1_berikare  3.153   425   276  0.038  0.033  0.002\n",
      "5                   N1C_globalistX  2.866   299   350  0.041  0.032  0.003\n",
      "6                    V1_återvandra  2.751    42    63  0.083  0.066  0.006\n",
      "7                  N1_återvandring  2.702   116   131  0.057  0.043  0.005\n",
      "8                  N2_återvandrare  2.693     3     9  0.207  0.175  0.011\n",
      "9                   N1_förortsgäng  2.124     8    13  0.177  0.159  0.008\n",
      "10                   N1C_berikareX  2.096    36    27  0.137  0.120  0.008\n",
      "11              N1C_kulturberikarX  1.934    23    17  0.161  0.140  0.010\n",
      "12              V1_hjälpa_på_plats  1.390    50    58  0.065  0.057  0.006\n",
      "13                 A1_globalistisk  1.170   247   209  0.040  0.037  0.003\n",
      "14  P1_självständig_utrikespolitik  0.875     5    11  0.189  0.175  0.015\n",
      "15              N1C_återvandringsX -0.598    69    91  0.048  0.051  0.005\n",
      "\n",
      "rch_2013:2014 jaccard = 1.0\n",
      "                              Word    RCH   n_i   n_j    GCH  Mctrl  Sctrl\n",
      "0                        V1_berika  8.500  1363  1171  0.028  0.017  0.001\n",
      "1                  N2_återvandrare  7.535     9     5  0.259  0.164  0.012\n",
      "2                     N1_globalist  7.432   538   564  0.032  0.024  0.001\n",
      "3                   N1C_globalistX  6.577   350   306  0.042  0.032  0.001\n",
      "4                  V1_kulturberika  5.132   188   110  0.057  0.044  0.002\n",
      "5               V1_hjälpa_på_plats  4.176    58   176  0.060  0.044  0.004\n",
      "6               N1C_kulturberikarX  3.612    17     5  0.235  0.183  0.014\n",
      "7                N1_kulturberikare  3.064   470   208  0.036  0.030  0.002\n",
      "8                   N1_förortsgäng  2.403    13    24  0.142  0.117  0.010\n",
      "9                    V1_återvandra  1.982    63    46  0.073  0.063  0.005\n",
      "10              N1C_återvandringsX  1.779    91    69  0.061  0.052  0.005\n",
      "11                   N1C_berikareX  1.537    27    12  0.165  0.151  0.009\n",
      "12                 A1_globalistisk  1.373   209   248  0.043  0.036  0.005\n",
      "13                     N1_berikare  0.900   276   202  0.042  0.039  0.003\n",
      "14                 N1_återvandring  0.322   131   121  0.042  0.041  0.003\n",
      "15  P1_självständig_utrikespolitik  0.316    11    13  0.148  0.141  0.018\n",
      "\n",
      "rch_2014:2015 jaccard = 1.0\n",
      "                              Word    RCH   n_i   n_j    GCH  Mctrl  Sctrl\n",
      "0                     N1_globalist  5.532   564   546  0.040  0.026  0.002\n",
      "1                        V1_berika  4.517  1171  1222  0.023  0.018  0.001\n",
      "2                      N1_berikare  3.070   202   215  0.046  0.040  0.002\n",
      "3               V1_hjälpa_på_plats  2.568   176   298  0.035  0.029  0.002\n",
      "4                    V1_återvandra  1.565    46    29  0.085  0.077  0.005\n",
      "5                  N2_återvandrare  1.452     5     2  0.277  0.214  0.042\n",
      "6               N1C_återvandringsX  1.436    69    68  0.059  0.053  0.004\n",
      "7               N1C_kulturberikarX  1.123     5     2  0.312  0.297  0.013\n",
      "8                  N1_återvandring  0.975   121    81  0.052  0.048  0.004\n",
      "9   P1_självständig_utrikespolitik  0.946    13     6  0.170  0.155  0.016\n",
      "10                N2C_återvandrarX  0.905     1     1  0.328  0.328  0.000\n",
      "11                  N1C_globalistX  0.827   306   255  0.040  0.037  0.003\n",
      "12                  N1_förortsgäng  0.783    24    17  0.116  0.111  0.007\n",
      "13                 A1_globalistisk  0.776   248   164  0.042  0.039  0.004\n",
      "14                   N1C_berikareX  0.750    12     9  0.216  0.206  0.012\n",
      "15                 V1_kulturberika  0.715   110   127  0.054  0.051  0.004\n",
      "16               N1_kulturberikare  0.125   208   144  0.041  0.040  0.004\n",
      "\n",
      "rch_2015:2016 jaccard = 0.95\n",
      "                                       Word     RCH   n_i   n_j    GCH  Mctrl  Sctrl\n",
      "0                              N1_globalist  13.408   546  1561  0.039  0.019  0.001\n",
      "1                            N1C_globalistX  11.153   255   518  0.056  0.031  0.002\n",
      "2                                 V1_berika   7.218  1222  1336  0.024  0.017  0.001\n",
      "3                           N1_återvandring   4.578    81   150  0.060  0.043  0.004\n",
      "4                        N1C_återvandringsX   4.259    68    60  0.085  0.056  0.006\n",
      "5                           A1_globalistisk   4.081   164   308  0.051  0.037  0.003\n",
      "6                        V1_hjälpa_på_plats   3.711   298    77  0.049  0.034  0.004\n",
      "7                               N1_berikare   3.184   215   153  0.058  0.045  0.004\n",
      "8                         N1_kulturberikare   2.606   144   190  0.053  0.043  0.004\n",
      "9            P1_självständig_utrikespolitik   2.564     6     2  0.273  0.226  0.017\n",
      "10                            V1_återvandra   2.227    29    21  0.125  0.102  0.010\n",
      "11  P1_ordning_och_reda_i_flyktingpolitiken   0.564     4     3  0.223  0.202  0.035\n",
      "12                          N2_återvandrare   0.351     2     5  0.250  0.240  0.029\n",
      "13                            N1C_berikareX   0.218     9    15  0.182  0.179  0.014\n",
      "14                       N1C_kulturberikarX  -0.854     2     4  0.247  0.267  0.023\n",
      "15                          V1_kulturberika  -1.273   127   105  0.047  0.052  0.004\n",
      "16                           N1_förortsgäng  -1.476    17    12  0.122  0.141  0.012\n",
      "\n",
      "rch_2016:2017 jaccard = 1.0\n",
      "                                       Word     RCH   n_i   n_j    GCH  Mctrl  Sctrl\n",
      "0                                 V1_berika  13.265  1336   856  0.040  0.019  0.002\n",
      "1                              N1_globalist   8.298  1561  2222  0.023  0.014  0.001\n",
      "2                             N1C_berikareX   5.929    15     9  0.215  0.162  0.008\n",
      "3                        N1C_återvandringsX   5.406    60    57  0.089  0.061  0.005\n",
      "4                           A1_globalistisk   3.739   308   485  0.033  0.027  0.001\n",
      "5                            N1C_globalistX   3.454   518   578  0.032  0.027  0.001\n",
      "6                         N1_kulturberikare   2.084   190   114  0.056  0.045  0.005\n",
      "7                           N1_återvandring   1.918   150   126  0.050  0.042  0.004\n",
      "8            P1_självständig_utrikespolitik   1.019     2     5  0.254  0.227  0.026\n",
      "9                           N2_återvandrare   0.743     5     4  0.245  0.230  0.019\n",
      "10                       V1_hjälpa_på_plats   0.594    77    68  0.060  0.057  0.004\n",
      "11                              N1_berikare   0.204   153   125  0.052  0.051  0.006\n",
      "12                            V1_återvandra   0.084    21    27  0.105  0.104  0.009\n",
      "13  P1_ordning_och_reda_i_flyktingpolitiken  -0.008     3     8  0.159  0.159  0.018\n",
      "14                       N1C_kulturberikarX  -0.416     4     1  0.283  0.291  0.019\n",
      "15                          V1_kulturberika  -0.487   105    59  0.057  0.060  0.005\n",
      "16                           N1_förortsgäng  -0.725    12    14  0.140  0.149  0.012\n",
      "\n",
      "rch_2017:2018 jaccard = 1.0\n",
      "                                       Word     RCH   n_i   n_j    GCH  Mctrl  Sctrl\n",
      "0                           N1_återvandring  41.854   126  2734  0.054  0.014  0.001\n",
      "1                        N1C_återvandringsX  35.664    57  1201  0.109  0.021  0.002\n",
      "2                             V1_återvandra  16.897    27   305  0.091  0.039  0.003\n",
      "3                              N1_globalist  16.531  2222  3519  0.028  0.011  0.001\n",
      "4                           N2_återvandrare   7.925     4    38  0.206  0.106  0.012\n",
      "5                            N1C_globalistX   5.477   578  1212  0.034  0.022  0.002\n",
      "6                           A1_globalistisk   5.429   485   738  0.036  0.024  0.002\n",
      "7                         N1_kulturberikare   4.553   114   243  0.050  0.040  0.002\n",
      "8                                 V1_berika   3.618   856  1034  0.031  0.021  0.002\n",
      "9                             N1C_berikareX   1.889     9     3  0.233  0.205  0.014\n",
      "10  P1_ordning_och_reda_i_flyktingpolitiken   1.640     8     6  0.183  0.148  0.021\n",
      "11                          V1_kulturberika   0.821    59    71  0.074  0.069  0.006\n",
      "12                       N1C_kulturberikarX   0.511     1     3  0.299  0.292  0.012\n",
      "13                       V1_hjälpa_på_plats   0.419    68    73  0.058  0.054  0.009\n",
      "14                           N1_förortsgäng   0.317    14    24  0.132  0.128  0.010\n",
      "15                              N1_berikare  -0.464   125   142  0.051  0.053  0.004\n",
      "\n",
      "rch_2018:2019 jaccard = 0.95\n",
      "                  Word     RCH   n_i   n_j    GCH  Mctrl  Sctrl\n",
      "0         N1_globalist  19.340  3519  3240  0.020  0.011  0.000\n",
      "1      N1_återvandring  13.051  2734  1338  0.031  0.011  0.001\n",
      "2   N1C_återvandringsX  12.223  1201   362  0.044  0.019  0.002\n",
      "3        V1_återvandra   8.683   305   137  0.052  0.033  0.002\n",
      "4      N2_återvandrare   5.005    38    10  0.127  0.099  0.005\n",
      "5      A1_globalistisk   4.085   738   807  0.027  0.020  0.002\n",
      "6            V1_berika   3.551  1034  1073  0.025  0.019  0.002\n",
      "7   V1_hjälpa_på_plats   2.936    73    49  0.071  0.057  0.005\n",
      "8    N1_kulturberikare   2.718   243   197  0.043  0.035  0.003\n",
      "9     N2C_återvandrarX   1.427     5     7  0.200  0.179  0.014\n",
      "10      N1C_globalistX   1.201  1212   890  0.021  0.019  0.001\n",
      "11       N1C_berikareX   1.135     3     8  0.287  0.262  0.021\n",
      "12     V1_kulturberika   0.523    71    59  0.071  0.069  0.005\n",
      "13      N1_förortsgäng   0.218    24    29  0.112  0.110  0.010\n",
      "14         N1_berikare  -0.958   142   141  0.045  0.050  0.006\n",
      "15  N1C_kulturberikarX  -1.117     3     4  0.271  0.287  0.014\n",
      "\n",
      "rch_2019:2020 jaccard = 1.0\n"
     ]
    },
    {
     "name": "stdout",
     "output_type": "stream",
     "text": [
      "                  Word     RCH   n_i   n_j    GCH  Mctrl  Sctrl\n",
      "0         N1_globalist  25.439  3240  2982  0.029  0.011  0.001\n",
      "1       N1C_globalistX   9.806   890   744  0.038  0.022  0.002\n",
      "2            V1_berika   7.159  1073   839  0.036  0.019  0.002\n",
      "3      A1_globalistisk   6.648   807   706  0.031  0.021  0.001\n",
      "4        V1_återvandra   4.116   137   140  0.057  0.042  0.004\n",
      "5      V1_kulturberika   3.225    59    67  0.076  0.063  0.004\n",
      "6      N1_återvandring   2.876  1338  1215  0.019  0.014  0.001\n",
      "7     N2C_återvandrarX   2.277     7     1  0.257  0.231  0.011\n",
      "8   N1C_återvandringsX   1.461   362   263  0.033  0.029  0.003\n",
      "9    N1_kulturberikare   1.400   197   100  0.049  0.046  0.003\n",
      "10      N1_förortsgäng   0.635    29    10  0.131  0.122  0.013\n",
      "11       N1C_berikareX   0.596     8     2  0.269  0.256  0.022\n",
      "12     N2_återvandrare   0.410    10    11  0.154  0.148  0.014\n",
      "13         N1_berikare  -0.046   141    88  0.057  0.058  0.006\n",
      "14  V1_hjälpa_på_plats  -0.493    49    62  0.061  0.064  0.006\n",
      "\n",
      "rch_2020:2021 jaccard = 1.0\n",
      "                              Word     RCH   n_i   n_j    GCH  Mctrl  Sctrl\n",
      "0                     N1_globalist  18.041  2982  2545  0.024  0.012  0.001\n",
      "1                  N1_återvandring   6.680  1215  1488  0.025  0.014  0.002\n",
      "2                  V1_kulturberika   5.054    67    47  0.089  0.066  0.004\n",
      "3                    V1_återvandra   4.597   140   209  0.047  0.036  0.002\n",
      "4                   N1C_globalistX   3.806   744   791  0.034  0.025  0.002\n",
      "5                        V1_berika   3.415   839   645  0.029  0.022  0.002\n",
      "6                  A1_globalistisk   3.293   706   567  0.033  0.024  0.003\n",
      "7                N1_kulturberikare   1.709   100   128  0.056  0.049  0.004\n",
      "8                  N2_återvandrare   1.394    11     5  0.204  0.173  0.021\n",
      "9                      N1_berikare   1.255    88    33  0.084  0.076  0.006\n",
      "10              N1C_återvandringsX   1.140   263   352  0.033  0.030  0.003\n",
      "11                  N1_förortsgäng   0.219    10    21  0.137  0.135  0.010\n",
      "12                   N1C_berikareX  -0.028     2     1  0.351  0.352  0.012\n",
      "13              V1_hjälpa_på_plats  -0.178    62    58  0.056  0.057  0.006\n",
      "14  P1_självständig_utrikespolitik  -0.780     1     2  0.307  0.325  0.022\n",
      "\n",
      "rch_2021:2022 jaccard = 1.0\n",
      "                              Word     RCH   n_i   n_j    GCH  Mctrl  Sctrl\n",
      "0                     N1_globalist  18.911  2545  4207  0.040  0.011  0.001\n",
      "1                   N1C_globalistX  13.781   791  1318  0.039  0.020  0.001\n",
      "2                        V1_berika   8.214   645   784  0.039  0.022  0.002\n",
      "3                  A1_globalistisk   7.896   567   709  0.037  0.023  0.002\n",
      "4               N1C_återvandringsX   6.585   352   462  0.040  0.026  0.002\n",
      "5   P1_självständig_utrikespolitik   4.202     2    16  0.229  0.163  0.015\n",
      "6                  N1_återvandring   4.089  1488  1839  0.020  0.013  0.002\n",
      "7                  V1_kulturberika   3.580    47    36  0.101  0.083  0.005\n",
      "8               V1_hjälpa_på_plats   2.852    58    36  0.082  0.068  0.005\n",
      "9                  N2_återvandrare   2.572     5     8  0.234  0.166  0.025\n",
      "10                   V1_återvandra   2.298   209   228  0.042  0.035  0.003\n",
      "11               N1_kulturberikare   2.253   128   119  0.057  0.047  0.004\n",
      "12                  N1_förortsgäng   1.602    21    39  0.115  0.101  0.008\n",
      "13                     N1_berikare  -0.299    33    33  0.096  0.098  0.006\n"
     ]
    }
   ],
   "source": [
    "q_show(df_bert_sts, \"rch\", as_table = True)"
   ]
  },
  {
   "cell_type": "code",
   "execution_count": null,
   "metadata": {
    "scrolled": true
   },
   "outputs": [],
   "source": [
    "q_show(df_bert_sts, \"gch\", as_table = True)"
   ]
  },
  {
   "cell_type": "code",
   "execution_count": null,
   "metadata": {
    "scrolled": true
   },
   "outputs": [],
   "source": [
    "q_show(df_bert_sts, \"spr\", as_table = True, transition=False)"
   ]
  },
  {
   "cell_type": "code",
   "execution_count": null,
   "metadata": {},
   "outputs": [],
   "source": [
    "q_show(df_bert_sts, \"anospr\", as_table = True, transition=False)"
   ]
  },
  {
   "cell_type": "markdown",
   "metadata": {},
   "source": [
    "#### STS (big)"
   ]
  },
  {
   "cell_type": "code",
   "execution_count": null,
   "metadata": {},
   "outputs": [],
   "source": []
  },
  {
   "cell_type": "code",
   "execution_count": null,
   "metadata": {},
   "outputs": [],
   "source": []
  },
  {
   "cell_type": "markdown",
   "metadata": {},
   "source": [
    "#### KB"
   ]
  },
  {
   "cell_type": "code",
   "execution_count": null,
   "metadata": {},
   "outputs": [],
   "source": []
  },
  {
   "cell_type": "code",
   "execution_count": null,
   "metadata": {},
   "outputs": [],
   "source": []
  },
  {
   "cell_type": "code",
   "execution_count": null,
   "metadata": {
    "scrolled": false
   },
   "outputs": [],
   "source": [
    "#q_show(toypol, \"rch\", as_table = True)"
   ]
  },
  {
   "cell_type": "code",
   "execution_count": null,
   "metadata": {
    "scrolled": false
   },
   "outputs": [],
   "source": [
    "#q_show(toypol, \"gsim\", as_table = True)"
   ]
  },
  {
   "cell_type": "markdown",
   "metadata": {},
   "source": [
    "### Time bin"
   ]
  },
  {
   "cell_type": "code",
   "execution_count": null,
   "metadata": {
    "scrolled": true
   },
   "outputs": [],
   "source": [
    "#q_show(df_time_bin, \"rch\", as_table = True)"
   ]
  },
  {
   "cell_type": "code",
   "execution_count": 36,
   "metadata": {},
   "outputs": [
    {
     "name": "stdout",
     "output_type": "stream",
     "text": [
      "\n",
      "rch_2003:2007 jaccard = None\n",
      "                              Word      RCH  n_i   n_j    GCH  Mctrl  Sctrl\n",
      "0                        V1_berika  101.638  460  6014  0.082  0.010  0.001\n",
      "1                   N1C_globalistX   67.424    7   457  0.283  0.038  0.003\n",
      "2                      N1_berikare   52.883   34  2026  0.093  0.019  0.001\n",
      "3                    N1C_berikareX   51.851    0   280  0.228  0.056  0.003\n",
      "4                N1_kulturberikare   41.973  142  2793  0.044  0.013  0.001\n",
      "5                  V1_kulturberika   17.618   30   906  0.079  0.026  0.003\n",
      "6                  N1_återvandring   16.346   22   289  0.093  0.036  0.003\n",
      "7                  A1_globalistisk   14.326   12   166  0.132  0.056  0.005\n",
      "8                     N1_globalist   13.072   62   459  0.078  0.037  0.003\n",
      "9               V1_hjälpa_på_plats   12.744    0    84  0.200  0.068  0.010\n",
      "10              N1C_återvandringsX    9.298    9   198  0.087  0.045  0.004\n",
      "11                  N1_förortsgäng    9.069    0    33  0.218  0.120  0.010\n",
      "12              N1C_kulturberikarX    8.614    0    70  0.169  0.099  0.008\n",
      "13                 N2_återvandrare    7.765    0    17  0.295  0.143  0.019\n",
      "14  P1_självständig_utrikespolitik    5.172    0    12  0.236  0.183  0.010\n",
      "15                   V1_återvandra    4.653   16   131  0.099  0.062  0.008\n",
      "\n",
      "rch_2007:2011 jaccard = 1.0\n",
      "                              Word     RCH   n_i   n_j    GCH  Mctrl  Sctrl\n",
      "0                     N1_globalist  14.931   459  1859  0.040  0.018  0.001\n",
      "1                N1_kulturberikare  10.902  2793  1885  0.021  0.011  0.001\n",
      "2                        V1_berika  10.745  6014  6137  0.017  0.008  0.001\n",
      "3                   N1C_globalistX  10.623   457  1166  0.047  0.021  0.002\n",
      "4               N1C_återvandringsX   8.957   198   246  0.047  0.029  0.002\n",
      "5                      N1_berikare   8.558  2026  1316  0.023  0.015  0.001\n",
      "6                  V1_kulturberika   6.037   906   789  0.027  0.019  0.001\n",
      "7                  A1_globalistisk   5.647   166   837  0.042  0.026  0.003\n",
      "8                  N1_återvandring   4.022   289   406  0.037  0.026  0.003\n",
      "9                    V1_återvandra   3.771   131   187  0.051  0.041  0.003\n",
      "10                   N1C_berikareX   2.952   280   105  0.063  0.052  0.004\n",
      "11              V1_hjälpa_på_plats   2.275    84   320  0.045  0.032  0.005\n",
      "12                  N1_förortsgäng   1.693    33    54  0.096  0.083  0.007\n",
      "13                 N2_återvandrare   0.653    17    18  0.117  0.110  0.011\n",
      "14  P1_självständig_utrikespolitik   0.496    12    33  0.122  0.115  0.013\n",
      "15              N1C_kulturberikarX   0.194    70    59  0.082  0.080  0.008\n",
      "\n",
      "rch_2011:2015 jaccard = 1.0\n",
      "                              Word     RCH   n_i   n_j    GCH  Mctrl  Sctrl\n",
      "0                     N1_globalist  54.990  1859  7848  0.055  0.009  0.001\n",
      "1               N1C_återvandringsX  42.209   246  1386  0.085  0.018  0.002\n",
      "2                  N1_återvandring  40.289   406  3091  0.067  0.012  0.001\n",
      "3                   N1C_globalistX  37.989  1166  2563  0.051  0.014  0.001\n",
      "4                        V1_berika  32.669  6137  4448  0.031  0.008  0.001\n",
      "5                  A1_globalistisk  21.730   837  1695  0.043  0.015  0.001\n",
      "6                    V1_återvandra  10.419   187   382  0.061  0.031  0.003\n",
      "7                N1_kulturberikare   8.884  1885   691  0.028  0.015  0.001\n",
      "8                      N1_berikare   8.849  1316   635  0.027  0.019  0.001\n",
      "9               V1_hjälpa_på_plats   4.416   320   516  0.032  0.023  0.002\n",
      "10              N1C_kulturberikarX   4.362    59    10  0.143  0.104  0.008\n",
      "11                  N1_förortsgäng   3.528    54    67  0.082  0.069  0.004\n",
      "12                   N1C_berikareX   3.141   105    36  0.104  0.084  0.006\n",
      "13  P1_självständig_utrikespolitik   2.883    33    13  0.126  0.104  0.007\n",
      "14                 N2_återvandrare   2.837    18    49  0.114  0.087  0.009\n",
      "15                 V1_kulturberika   2.692   789   362  0.030  0.023  0.003\n",
      "\n",
      "rch_2015:2019 jaccard = 1.0\n",
      "                              Word     RCH   n_i    n_j    GCH  Mctrl  Sctrl\n",
      "0                        V1_berika  96.106  4448   3341  0.056  0.009  0.000\n",
      "1                     N1_globalist  36.323  7848  12974  0.023  0.006  0.000\n",
      "2               N1C_återvandringsX  32.936  1386   1439  0.030  0.013  0.000\n",
      "3                  N1_återvandring  23.065  3091   5880  0.023  0.008  0.001\n",
      "4                   N1C_globalistX  15.324  2563   3743  0.023  0.011  0.001\n",
      "5                  A1_globalistisk  15.006  1695   2789  0.024  0.013  0.001\n",
      "6                N1_kulturberikare   8.134   691    544  0.031  0.022  0.001\n",
      "7                    N1C_berikareX   4.582    36     12  0.180  0.131  0.010\n",
      "8                  N2_återvandrare   4.211    49     34  0.101  0.073  0.006\n",
      "9                    V1_återvandra   3.410   382    714  0.031  0.021  0.003\n",
      "10                 V1_kulturberika   3.079   362    209  0.042  0.033  0.003\n",
      "11  P1_självständig_utrikespolitik   2.779    13     19  0.138  0.121  0.006\n",
      "12              V1_hjälpa_på_plats   2.094   516    205  0.032  0.026  0.003\n",
      "13                     N1_berikare   2.038   635    295  0.034  0.028  0.003\n",
      "14              N1C_kulturberikarX   1.927    10      0  0.234  0.207  0.013\n",
      "15                  N1_förortsgäng   1.151    67     99  0.068  0.061  0.006\n"
     ]
    }
   ],
   "source": [
    "q_show(df_tbn_sts, \"rch\", as_table = True)"
   ]
  },
  {
   "cell_type": "markdown",
   "metadata": {},
   "source": [
    "## Change Show"
   ]
  },
  {
   "cell_type": "markdown",
   "metadata": {},
   "source": [
    "```\n",
    "def overview(\n",
    "    df, \n",
    "    var, \n",
    "    targets, \n",
    "    prefixes = (\"N\", \"A\", \"V\"), \n",
    "    th=4.781, \n",
    "    transition = True, \n",
    "    min_freq = 10, \n",
    "    return_md = False\n",
    ")\n",
    "```"
   ]
  },
  {
   "cell_type": "markdown",
   "metadata": {},
   "source": [
    "### Yearly"
   ]
  },
  {
   "cell_type": "markdown",
   "metadata": {},
   "source": [
    "#### SGNS - only DWTS"
   ]
  },
  {
   "cell_type": "code",
   "execution_count": null,
   "metadata": {
    "scrolled": false
   },
   "outputs": [],
   "source": [
    "_ = overview(df_yearly_dwt, \"rch\", get_dwts(df_yearly_dwt, dwt_path), return_md=True)\n",
    "print(_)"
   ]
  },
  {
   "cell_type": "code",
   "execution_count": null,
   "metadata": {},
   "outputs": [],
   "source": [
    "# change_show(df, var, targets, th=4.781)\n",
    "change_show(df_yearly_dwt, \"rch\", get_dwts(df_yearly_dwt, dwt_path))"
   ]
  },
  {
   "cell_type": "code",
   "execution_count": null,
   "metadata": {},
   "outputs": [],
   "source": [
    "change_show(df_yearly_dwt, \"rch\", get_dwts(df_yearly_dwt, dwt_path), th=None)"
   ]
  },
  {
   "cell_type": "code",
   "execution_count": null,
   "metadata": {},
   "outputs": [],
   "source": [
    "change_show(df_yearly_dwt, \"gsim\", get_dwts(df_yearly_dwt, dwt_path), th=None)"
   ]
  },
  {
   "cell_type": "markdown",
   "metadata": {},
   "source": [
    "#### NLI"
   ]
  },
  {
   "cell_type": "code",
   "execution_count": null,
   "metadata": {
    "scrolled": true
   },
   "outputs": [],
   "source": [
    "overview(df_bert_nli, \"anospr\", get_dwts(df_yearly_dwt, dwt_path), th=None, transition=False)"
   ]
  },
  {
   "cell_type": "code",
   "execution_count": null,
   "metadata": {
    "scrolled": true
   },
   "outputs": [],
   "source": [
    "overview(df_bert_nli, \"difspr\", get_dwts(df_yearly_dwt, dwt_path), th=None, transition=False)"
   ]
  },
  {
   "cell_type": "markdown",
   "metadata": {},
   "source": [
    "#### STS (small)"
   ]
  },
  {
   "cell_type": "code",
   "execution_count": null,
   "metadata": {
    "scrolled": true
   },
   "outputs": [],
   "source": [
    "_ = overview(df_bert_sts, \"frq\", get_dwts(df_yearly_dwt, dwt_path), th= None, transition = False, min_freq = None)\n",
    "print(_)"
   ]
  },
  {
   "cell_type": "code",
   "execution_count": null,
   "metadata": {},
   "outputs": [],
   "source": [
    "_ = overview(df_bert_sts, \"gch\", get_dwts(df_yearly_dwt, dwt_path), th= None, transition = True, min_freq = None, return_md=True)\n",
    "print(_)"
   ]
  },
  {
   "cell_type": "code",
   "execution_count": null,
   "metadata": {
    "scrolled": true
   },
   "outputs": [],
   "source": [
    "_ = overview(df_bert_sts, \"rch\", get_dwts(df_yearly_dwt, dwt_path), min_freq = 10, return_md=True)\n",
    "print(_)"
   ]
  },
  {
   "cell_type": "code",
   "execution_count": null,
   "metadata": {
    "scrolled": true
   },
   "outputs": [],
   "source": [
    "change_show(df_bert_sts, \"rch\", get_dwts(df_yearly_dwt, dwt_path))"
   ]
  },
  {
   "cell_type": "code",
   "execution_count": null,
   "metadata": {
    "scrolled": false
   },
   "outputs": [],
   "source": [
    "df_bert_sts.loc[\"V1_berika\"][\"gsim_2008:2009\"]"
   ]
  },
  {
   "cell_type": "code",
   "execution_count": null,
   "metadata": {},
   "outputs": [],
   "source": [
    "_ = overview(df_bert_sts, \"anospr\", get_dwts(df_yearly_dwt, dwt_path), th=None, transition = False, min_freq = None, return_md=True, rounder = 2)\n",
    "print(_)"
   ]
  },
  {
   "cell_type": "code",
   "execution_count": null,
   "metadata": {},
   "outputs": [],
   "source": [
    "_ = overview(df_bert_sts, \"anospr\", get_dwts(df_yearly_dwt, dwt_path), th=-2, transition = False, min_freq = None, return_md=True, rounder = 2)\n",
    "print(_)"
   ]
  },
  {
   "cell_type": "markdown",
   "metadata": {},
   "source": [
    "#### STS (big)"
   ]
  },
  {
   "cell_type": "code",
   "execution_count": null,
   "metadata": {},
   "outputs": [],
   "source": []
  },
  {
   "cell_type": "code",
   "execution_count": null,
   "metadata": {},
   "outputs": [],
   "source": []
  },
  {
   "cell_type": "markdown",
   "metadata": {},
   "source": [
    "#### KB"
   ]
  },
  {
   "cell_type": "code",
   "execution_count": null,
   "metadata": {},
   "outputs": [],
   "source": [
    "_ = overview(df_bert_kb, \"rch\", get_dwts(df_yearly_dwt, dwt_path), return_md=True)\n",
    "print(_)"
   ]
  },
  {
   "cell_type": "code",
   "execution_count": null,
   "metadata": {},
   "outputs": [],
   "source": []
  },
  {
   "cell_type": "markdown",
   "metadata": {},
   "source": [
    "### Time bin"
   ]
  },
  {
   "cell_type": "code",
   "execution_count": null,
   "metadata": {},
   "outputs": [],
   "source": [
    "change_show(df_time_bin_dwt, \"rch\", get_dwts(df_time_bin_dwt, dwt_path))"
   ]
  },
  {
   "cell_type": "code",
   "execution_count": null,
   "metadata": {},
   "outputs": [],
   "source": [
    "change_show(df_time_bin_dwt, \"gsim\", get_dwts(df_time_bin_dwt, dwt_path), th=None)"
   ]
  },
  {
   "cell_type": "code",
   "execution_count": null,
   "metadata": {},
   "outputs": [],
   "source": [
    "a=load_metric(\"/srv/data/gusbohom/root/corpora/fb_pol/time_bin/radical3/vocab/2015.txt\")[\"V1_berika\"]\n",
    "b=load_metric(\"/srv/data/gusbohom/root/corpora/fb_pol/time_bin/radical3/vocab/2019.txt\")[\"V1_berika\"]\n",
    "print(a, b)"
   ]
  },
  {
   "cell_type": "code",
   "execution_count": 38,
   "metadata": {},
   "outputs": [
    {
     "name": "stdout",
     "output_type": "stream",
     "text": [
      "\n",
      "rch_2003:2007\n",
      "                Word       Value  n_2003  n_2007  gch_2003:2007  M_2003:2007  Std_2003:2007\n",
      "0          V1_berika  101.638235     460    6014       0.082196     0.010324       0.000674\n",
      "1  N1_kulturberikare   41.972630     142    2793       0.044481     0.013360       0.000707\n",
      "2       N1_globalist   13.071699      62     459       0.077816     0.036770       0.002994\n",
      "3        N1_berikare   52.882744      34    2026       0.092718     0.018655       0.001335\n",
      "4    V1_kulturberika   17.617830      30     906       0.079005     0.026139       0.002861\n",
      "5    N1_återvandring   16.346126      22     289       0.093373     0.036198       0.003335\n",
      "6    A1_globalistisk   14.325943      12     166       0.132307     0.055879       0.005087\n",
      "\n",
      "rch_2007:2011\n",
      "                 Word      Value  n_2007  n_2011  gch_2007:2011  M_2007:2011  Std_2007:2011\n",
      "0           V1_berika  10.745189    6014    6137       0.017253     0.007617       0.000855\n",
      "1   N1_kulturberikare  10.902428    2793    1885       0.020927     0.010860       0.000880\n",
      "2        N1_globalist  14.930674     459    1859       0.039503     0.018292       0.001355\n",
      "3         N1_berikare   8.557625    2026    1316       0.022803     0.014761       0.000896\n",
      "4     V1_kulturberika   6.036524     906     789       0.026642     0.018728       0.001250\n",
      "5     A1_globalistisk   5.646958     166     837       0.042123     0.025812       0.002754\n",
      "6  N1C_återvandringsX   8.956916     198     246       0.047035     0.029139       0.001905\n",
      "7      N1C_globalistX  10.622754     457    1166       0.046976     0.020547       0.002372\n",
      "\n",
      "rch_2011:2015\n",
      "                 Word      Value  n_2011  n_2015  gch_2011:2015  M_2011:2015  Std_2011:2015\n",
      "0           V1_berika  32.669085    6137    4448       0.030729     0.008487       0.000649\n",
      "1   N1_kulturberikare   8.884077    1885     691       0.027853     0.015415       0.001335\n",
      "2        N1_globalist  54.990022    1859    7848       0.054658     0.008649       0.000798\n",
      "3         N1_berikare   8.848894    1316     635       0.026898     0.018589       0.000895\n",
      "4     N1_återvandring  40.288814     406    3091       0.066673     0.012070       0.001292\n",
      "5       V1_återvandra  10.418583     187     382       0.060763     0.030717       0.002750\n",
      "6     A1_globalistisk  21.729932     837    1695       0.043476     0.015243       0.001239\n",
      "7  N1C_återvandringsX  42.208787     246    1386       0.084832     0.017828       0.001514\n",
      "8      N1C_globalistX  37.989384    1166    2563       0.050947     0.014193       0.000922\n",
      "\n",
      "rch_2015:2019\n",
      "                 Word      Value  n_2015  n_2019  gch_2015:2019  M_2015:2019  Std_2015:2019\n",
      "0           V1_berika  96.106479    4448    3341       0.055610     0.009240       0.000460\n",
      "1   N1_kulturberikare   8.133931     691     544       0.031185     0.022130       0.001061\n",
      "2        N1_globalist  36.323304    7848   12974       0.023081     0.006000       0.000448\n",
      "3     N1_återvandring  23.064534    3091    5880       0.022860     0.007806       0.000622\n",
      "4     A1_globalistisk  15.005774    1695    2789       0.023961     0.012717       0.000714\n",
      "5  N1C_återvandringsX  32.936131    1386    1439       0.030300     0.013484       0.000487\n",
      "6      N1C_globalistX  15.324351    2563    3743       0.023205     0.011463       0.000731\n"
     ]
    }
   ],
   "source": [
    "change_show(df_tbn_sts, \"rch\", get_dwts(df_tbn_sts, dwt_path))"
   ]
  },
  {
   "cell_type": "markdown",
   "metadata": {},
   "source": [
    "## Correlation"
   ]
  },
  {
   "cell_type": "code",
   "execution_count": null,
   "metadata": {
    "scrolled": true
   },
   "outputs": [],
   "source": [
    "get_variables(df_yearly_dwt)"
   ]
  },
  {
   "cell_type": "markdown",
   "metadata": {},
   "source": [
    "### Yearly"
   ]
  },
  {
   "cell_type": "markdown",
   "metadata": {},
   "source": [
    "#### All words (SGNS)"
   ]
  },
  {
   "cell_type": "code",
   "execution_count": null,
   "metadata": {},
   "outputs": [],
   "source": [
    "universal_correlation(\n",
    "    df=df_yearly, \n",
    "    var1=\"gch\", \n",
    "    var2=\"frq\", \n",
    "    var1cut = None, \n",
    "    var2cut = -1, \n",
    "    norm1=None, \n",
    "    norm2=np.log, \n",
    "    metric=\"pearson\")"
   ]
  },
  {
   "cell_type": "code",
   "execution_count": null,
   "metadata": {},
   "outputs": [],
   "source": [
    "universal_correlation(\n",
    "    df=df_yearly, \n",
    "    var1=\"gsim\", \n",
    "    var2=\"frq\", \n",
    "    var1cut = None, \n",
    "    var2cut = -1, \n",
    "    norm1=None, \n",
    "    norm2=np.log, \n",
    "    metric=\"pearson\")"
   ]
  },
  {
   "cell_type": "code",
   "execution_count": null,
   "metadata": {},
   "outputs": [],
   "source": [
    "universal_correlation(\n",
    "    df=df_yearly, \n",
    "    var1=\"rch\", \n",
    "    var2=\"frq\", \n",
    "    var1cut = None, \n",
    "    var2cut = -1, \n",
    "    norm1=None, \n",
    "    norm2=np.log, \n",
    "    metric=\"pearson\")"
   ]
  },
  {
   "cell_type": "code",
   "execution_count": null,
   "metadata": {},
   "outputs": [],
   "source": [
    "universal_correlation(\n",
    "    df=df_yearly, \n",
    "    var1=\"rch\", \n",
    "    var2=\"stdc\", \n",
    "    var1cut = None, \n",
    "    var2cut = None, \n",
    "    norm1=None, \n",
    "    norm2=None, \n",
    "    metric=\"pearson\")"
   ]
  },
  {
   "cell_type": "markdown",
   "metadata": {},
   "source": [
    "#### DWTs"
   ]
  },
  {
   "cell_type": "markdown",
   "metadata": {},
   "source": [
    "###### SGNS"
   ]
  },
  {
   "cell_type": "code",
   "execution_count": null,
   "metadata": {},
   "outputs": [],
   "source": [
    "correlation(df=df_yearly_dwt, \n",
    "            var1=\"diffpm\", \n",
    "            var2=\"rch\", \n",
    "            mode=2, \n",
    "            metric = \"pearson\")"
   ]
  },
  {
   "cell_type": "code",
   "execution_count": null,
   "metadata": {},
   "outputs": [],
   "source": [
    "correlation(df=df_yearly_dwt, var1=\"stdc\", var2=\"rch\", corpus=corpus, mode=2, metric = \"pearson\")"
   ]
  },
  {
   "cell_type": "code",
   "execution_count": null,
   "metadata": {},
   "outputs": [],
   "source": [
    "correlation(df=df_yearly_dwt, var1=\"diffpm\", var2=\"rch\", corpus=corpus, mode=2, metric = \"spearman\")"
   ]
  },
  {
   "cell_type": "markdown",
   "metadata": {},
   "source": [
    "```\n",
    "def universal_correlation(\n",
    "    df, \n",
    "    var1, \n",
    "    var2, \n",
    "    var1cut = None, \n",
    "    var2cut = None, \n",
    "    norm1=None, \n",
    "    norm2=None, \n",
    "    metric=\"pearson\")\n",
    "```"
   ]
  },
  {
   "cell_type": "code",
   "execution_count": null,
   "metadata": {},
   "outputs": [],
   "source": [
    "##### Universal"
   ]
  },
  {
   "cell_type": "code",
   "execution_count": null,
   "metadata": {
    "scrolled": true
   },
   "outputs": [],
   "source": [
    "universal_correlation(df_yearly, \"fpm\", \"gch\", -1, norm1=np.log)"
   ]
  },
  {
   "cell_type": "code",
   "execution_count": null,
   "metadata": {
    "scrolled": false
   },
   "outputs": [],
   "source": [
    "universal_correlation(df_yearly, \"fpm\", \"gch\", 0, norm1=np.log)"
   ]
  },
  {
   "cell_type": "code",
   "execution_count": null,
   "metadata": {},
   "outputs": [],
   "source": [
    "universal_correlation(df_yearly_dwt.loc[[w for w in df_yearly_dwt.index if w.startswith((\"N\", \"A\", \"V\"))],:], \n",
    "                      \"fpm\", \n",
    "                      \"gch\", \n",
    "                      -1, \n",
    "                      norm1=np.log)"
   ]
  },
  {
   "cell_type": "code",
   "execution_count": null,
   "metadata": {},
   "outputs": [],
   "source": [
    "universal_correlation(df_yearly_dwt.loc[[w for w in df_yearly_dwt.index if w.startswith((\"N\", \"A\", \"V\"))],:], \n",
    "                      \"fpm\", \n",
    "                      \"gch\", \n",
    "                      0, \n",
    "                      norm1=np.log)"
   ]
  },
  {
   "cell_type": "markdown",
   "metadata": {},
   "source": [
    "#### XXXXX MYSTERY --- WHAT IS WRONG????"
   ]
  },
  {
   "cell_type": "code",
   "execution_count": null,
   "metadata": {},
   "outputs": [],
   "source": [
    "term = \"N1_kulturberikare\""
   ]
  },
  {
   "cell_type": "code",
   "execution_count": null,
   "metadata": {
    "scrolled": true
   },
   "outputs": [],
   "source": [
    "df_bert_sts.loc[term, [f\"gch_{year}:{year+1}\" for year in range(2000, 2021)]]"
   ]
  },
  {
   "cell_type": "code",
   "execution_count": null,
   "metadata": {},
   "outputs": [],
   "source": [
    "df_yearly.loc[term, [f\"gch_{year}:{year+1}\" for year in range(2000, 2021)]]"
   ]
  },
  {
   "cell_type": "markdown",
   "metadata": {},
   "source": [
    "##### NLI"
   ]
  },
  {
   "cell_type": "code",
   "execution_count": null,
   "metadata": {},
   "outputs": [],
   "source": [
    "universal_correlation(df_bert_nli.loc[[w for w in df_bert_sts.index if w.startswith((\"N\", \"A\", \"V\"))],:], \n",
    "                      \"fpm\", \n",
    "                      \"gch\", \n",
    "                      -1, \n",
    "                      norm1=np.log,\n",
    "                      min_freq = 10 \n",
    "                     )"
   ]
  },
  {
   "cell_type": "code",
   "execution_count": null,
   "metadata": {},
   "outputs": [],
   "source": [
    "universal_correlation(df_bert_nli.loc[[w for w in df_bert_sts.index if w.startswith((\"N\", \"A\", \"V\"))],:], \n",
    "                      \"fpm\", \n",
    "                      \"gch\", \n",
    "                      0, \n",
    "                      norm1=np.log,\n",
    "                      min_freq = 10\n",
    "                     )"
   ]
  },
  {
   "cell_type": "markdown",
   "metadata": {},
   "source": [
    "##### STS (small)"
   ]
  },
  {
   "cell_type": "code",
   "execution_count": 48,
   "metadata": {},
   "outputs": [
    {
     "data": {
      "text/html": [
       "<div>\n",
       "<style scoped>\n",
       "    .dataframe tbody tr th:only-of-type {\n",
       "        vertical-align: middle;\n",
       "    }\n",
       "\n",
       "    .dataframe tbody tr th {\n",
       "        vertical-align: top;\n",
       "    }\n",
       "\n",
       "    .dataframe thead th {\n",
       "        text-align: right;\n",
       "    }\n",
       "</style>\n",
       "<table border=\"1\" class=\"dataframe\">\n",
       "  <thead>\n",
       "    <tr style=\"text-align: right;\">\n",
       "      <th></th>\n",
       "      <th>Word</th>\n",
       "      <th>Trend</th>\n",
       "      <th>p</th>\n",
       "      <th>N</th>\n",
       "    </tr>\n",
       "  </thead>\n",
       "  <tbody>\n",
       "    <tr>\n",
       "      <th>0</th>\n",
       "      <td>N1_kulturberikare</td>\n",
       "      <td>0.08</td>\n",
       "      <td>0.71</td>\n",
       "      <td>23</td>\n",
       "    </tr>\n",
       "    <tr>\n",
       "      <th>1</th>\n",
       "      <td>V1_berika</td>\n",
       "      <td>0.47</td>\n",
       "      <td>0.02</td>\n",
       "      <td>23</td>\n",
       "    </tr>\n",
       "    <tr>\n",
       "      <th>2</th>\n",
       "      <td>N1_berikare</td>\n",
       "      <td>0.08</td>\n",
       "      <td>0.72</td>\n",
       "      <td>23</td>\n",
       "    </tr>\n",
       "    <tr>\n",
       "      <th>3</th>\n",
       "      <td>N1_förortsgäng</td>\n",
       "      <td>0.80</td>\n",
       "      <td>0.00</td>\n",
       "      <td>23</td>\n",
       "    </tr>\n",
       "    <tr>\n",
       "      <th>4</th>\n",
       "      <td>V1_kulturberika</td>\n",
       "      <td>0.17</td>\n",
       "      <td>0.43</td>\n",
       "      <td>23</td>\n",
       "    </tr>\n",
       "    <tr>\n",
       "      <th>...</th>\n",
       "      <td>...</td>\n",
       "      <td>...</td>\n",
       "      <td>...</td>\n",
       "      <td>...</td>\n",
       "    </tr>\n",
       "    <tr>\n",
       "      <th>127</th>\n",
       "      <td>återvandrig</td>\n",
       "      <td>0.57</td>\n",
       "      <td>0.00</td>\n",
       "      <td>23</td>\n",
       "    </tr>\n",
       "    <tr>\n",
       "      <th>128</th>\n",
       "      <td>vänsterglobalisternas</td>\n",
       "      <td>0.68</td>\n",
       "      <td>0.00</td>\n",
       "      <td>23</td>\n",
       "    </tr>\n",
       "    <tr>\n",
       "      <th>129</th>\n",
       "      <td>pkglobalist</td>\n",
       "      <td>0.53</td>\n",
       "      <td>0.01</td>\n",
       "      <td>23</td>\n",
       "    </tr>\n",
       "    <tr>\n",
       "      <th>130</th>\n",
       "      <td>vänsterglobalistisk</td>\n",
       "      <td>0.45</td>\n",
       "      <td>0.03</td>\n",
       "      <td>23</td>\n",
       "    </tr>\n",
       "    <tr>\n",
       "      <th>131</th>\n",
       "      <td>euglobalistiskt</td>\n",
       "      <td>0.44</td>\n",
       "      <td>0.03</td>\n",
       "      <td>23</td>\n",
       "    </tr>\n",
       "  </tbody>\n",
       "</table>\n",
       "<p>132 rows × 4 columns</p>\n",
       "</div>"
      ],
      "text/plain": [
       "                      Word  Trend     p   N\n",
       "0        N1_kulturberikare   0.08  0.71  23\n",
       "1                V1_berika   0.47  0.02  23\n",
       "2              N1_berikare   0.08  0.72  23\n",
       "3           N1_förortsgäng   0.80  0.00  23\n",
       "4          V1_kulturberika   0.17  0.43  23\n",
       "..                     ...    ...   ...  ..\n",
       "127            återvandrig   0.57  0.00  23\n",
       "128  vänsterglobalisternas   0.68  0.00  23\n",
       "129            pkglobalist   0.53  0.01  23\n",
       "130    vänsterglobalistisk   0.45  0.03  23\n",
       "131        euglobalistiskt   0.44  0.03  23\n",
       "\n",
       "[132 rows x 4 columns]"
      ]
     },
     "execution_count": 48,
     "metadata": {},
     "output_type": "execute_result"
    }
   ],
   "source": [
    "trend(df_bert_sts, var=\"frq\", norm=None, transition = False, metric=\"pearson\")"
   ]
  },
  {
   "cell_type": "code",
   "execution_count": 52,
   "metadata": {},
   "outputs": [
    {
     "ename": "UFuncTypeError",
     "evalue": "ufunc 'add' did not contain a loop with signature matching types (dtype('<U32'), dtype('<U32')) -> dtype('<U32')",
     "output_type": "error",
     "traceback": [
      "\u001b[0;31m---------------------------------------------------------------------------\u001b[0m",
      "\u001b[0;31mUFuncTypeError\u001b[0m                            Traceback (most recent call last)",
      "\u001b[0;32m<ipython-input-52-a5fb5e7d8c7c>\u001b[0m in \u001b[0;36m<module>\u001b[0;34m\u001b[0m\n\u001b[0;32m----> 1\u001b[0;31m \u001b[0mtrend\u001b[0m\u001b[0;34m(\u001b[0m\u001b[0mdf_bert_sts\u001b[0m\u001b[0;34m,\u001b[0m \u001b[0mvar\u001b[0m\u001b[0;34m=\u001b[0m\u001b[0;34m\"gch\"\u001b[0m\u001b[0;34m,\u001b[0m \u001b[0mnorm\u001b[0m\u001b[0;34m=\u001b[0m\u001b[0;32mNone\u001b[0m\u001b[0;34m,\u001b[0m \u001b[0mtransition\u001b[0m \u001b[0;34m=\u001b[0m \u001b[0;32mTrue\u001b[0m\u001b[0;34m,\u001b[0m \u001b[0mmetric\u001b[0m\u001b[0;34m=\u001b[0m\u001b[0;34m\"pearson\"\u001b[0m\u001b[0;34m)\u001b[0m\u001b[0;34m\u001b[0m\u001b[0;34m\u001b[0m\u001b[0m\n\u001b[0m",
      "\u001b[0;32m<ipython-input-51-6fa28a159476>\u001b[0m in \u001b[0;36mtrend\u001b[0;34m(df, var, norm, transition, metric)\u001b[0m\n\u001b[1;32m     29\u001b[0m \u001b[0;34m\u001b[0m\u001b[0m\n\u001b[1;32m     30\u001b[0m             \u001b[0;32mif\u001b[0m \u001b[0mmetric\u001b[0m \u001b[0;34m==\u001b[0m \u001b[0;34m\"pearson\"\u001b[0m\u001b[0;34m:\u001b[0m\u001b[0;34m\u001b[0m\u001b[0;34m\u001b[0m\u001b[0m\n\u001b[0;32m---> 31\u001b[0;31m                 \u001b[0mR_data\u001b[0m \u001b[0;34m=\u001b[0m \u001b[0mpearsonr\u001b[0m\u001b[0;34m(\u001b[0m\u001b[0mX\u001b[0m\u001b[0;34m,\u001b[0m \u001b[0mT\u001b[0m\u001b[0;34m)\u001b[0m\u001b[0;34m\u001b[0m\u001b[0;34m\u001b[0m\u001b[0m\n\u001b[0m\u001b[1;32m     32\u001b[0m \u001b[0;34m\u001b[0m\u001b[0m\n\u001b[1;32m     33\u001b[0m             \u001b[0;32mif\u001b[0m \u001b[0mmetric\u001b[0m \u001b[0;34m==\u001b[0m \u001b[0;34m\"spearman\"\u001b[0m\u001b[0;34m:\u001b[0m\u001b[0;34m\u001b[0m\u001b[0;34m\u001b[0m\u001b[0m\n",
      "\u001b[0;32m~/anaconda3/lib/python3.8/site-packages/scipy/stats/_stats_py.py\u001b[0m in \u001b[0;36mpearsonr\u001b[0;34m(x, y, alternative)\u001b[0m\n\u001b[1;32m   4430\u001b[0m     \u001b[0;31m# that the data type is at least 64 bit floating point.  It might have\u001b[0m\u001b[0;34m\u001b[0m\u001b[0;34m\u001b[0m\u001b[0;34m\u001b[0m\u001b[0m\n\u001b[1;32m   4431\u001b[0m     \u001b[0;31m# more precision if the input is, for example, np.longdouble.\u001b[0m\u001b[0;34m\u001b[0m\u001b[0;34m\u001b[0m\u001b[0;34m\u001b[0m\u001b[0m\n\u001b[0;32m-> 4432\u001b[0;31m     \u001b[0mdtype\u001b[0m \u001b[0;34m=\u001b[0m \u001b[0mtype\u001b[0m\u001b[0;34m(\u001b[0m\u001b[0;36m1.0\u001b[0m \u001b[0;34m+\u001b[0m \u001b[0mx\u001b[0m\u001b[0;34m[\u001b[0m\u001b[0;36m0\u001b[0m\u001b[0;34m]\u001b[0m \u001b[0;34m+\u001b[0m \u001b[0my\u001b[0m\u001b[0;34m[\u001b[0m\u001b[0;36m0\u001b[0m\u001b[0;34m]\u001b[0m\u001b[0;34m)\u001b[0m\u001b[0;34m\u001b[0m\u001b[0;34m\u001b[0m\u001b[0m\n\u001b[0m\u001b[1;32m   4433\u001b[0m \u001b[0;34m\u001b[0m\u001b[0m\n\u001b[1;32m   4434\u001b[0m     \u001b[0;32mif\u001b[0m \u001b[0mn\u001b[0m \u001b[0;34m==\u001b[0m \u001b[0;36m2\u001b[0m\u001b[0;34m:\u001b[0m\u001b[0;34m\u001b[0m\u001b[0;34m\u001b[0m\u001b[0m\n",
      "\u001b[0;31mUFuncTypeError\u001b[0m: ufunc 'add' did not contain a loop with signature matching types (dtype('<U32'), dtype('<U32')) -> dtype('<U32')"
     ]
    }
   ],
   "source": [
    "trend(df_bert_sts, var=\"gch\", norm=None, transition = True, metric=\"pearson\")"
   ]
  },
  {
   "cell_type": "code",
   "execution_count": null,
   "metadata": {},
   "outputs": [],
   "source": [
    "universal_correlation(df_bert_sts.loc[[w for w in df_bert_sts.index if w.startswith((\"N\", \"A\", \"V\"))],:], \n",
    "                      \"fpm\", \n",
    "                      \"gch\", \n",
    "                      -1, \n",
    "                      norm1=np.log,\n",
    "                      min_freq = 10\n",
    "                     )"
   ]
  },
  {
   "cell_type": "code",
   "execution_count": null,
   "metadata": {},
   "outputs": [],
   "source": [
    "universal_correlation(df_bert_sts.loc[[w for w in df_bert_sts.index if w.startswith((\"N\", \"A\", \"V\"))],:], \n",
    "                      \"fpm\", \n",
    "                      \"gch\", \n",
    "                      0, \n",
    "                      norm1=np.log,\n",
    "                      min_freq = 10\n",
    "                     )"
   ]
  },
  {
   "cell_type": "markdown",
   "metadata": {},
   "source": [
    "##### STS (big)"
   ]
  },
  {
   "cell_type": "code",
   "execution_count": null,
   "metadata": {},
   "outputs": [],
   "source": [
    "universal_correlation(df_bert_big.loc[[w for w in df_bert_sts.index if w.startswith((\"N\", \"A\", \"V\"))],:], \n",
    "                      \"fpm\", \n",
    "                      \"gch\", \n",
    "                      -1, \n",
    "                      norm1=np.log,\n",
    "                      min_freq = 10\n",
    "                     )"
   ]
  },
  {
   "cell_type": "code",
   "execution_count": null,
   "metadata": {},
   "outputs": [],
   "source": [
    "universal_correlation(df_bert_big.loc[[w for w in df_bert_sts.index if w.startswith((\"N\", \"A\", \"V\"))],:], \n",
    "                      \"fpm\", \n",
    "                      \"gch\", \n",
    "                      0, \n",
    "                      norm1=np.log,\n",
    "                      min_freq = 10\n",
    "                     )"
   ]
  },
  {
   "cell_type": "markdown",
   "metadata": {},
   "source": [
    "##### KB"
   ]
  },
  {
   "cell_type": "code",
   "execution_count": null,
   "metadata": {},
   "outputs": [],
   "source": [
    "universal_correlation(df_bert_kb.loc[[w for w in df_bert_sts.index if w.startswith((\"N\", \"A\", \"V\"))],:], \n",
    "                      \"fpm\", \n",
    "                      \"gch\", \n",
    "                      -1, \n",
    "                      norm1=np.log,\n",
    "                      min_freq = 10\n",
    "                     )"
   ]
  },
  {
   "cell_type": "code",
   "execution_count": null,
   "metadata": {},
   "outputs": [],
   "source": [
    "universal_correlation(df_bert_big.loc[[w for w in df_bert_sts.index if w.startswith((\"N\", \"A\", \"V\"))],:], \n",
    "                      \"fpm\", \n",
    "                      \"gch\", \n",
    "                      0, \n",
    "                      norm1=np.log,\n",
    "                      min_freq = 10\n",
    "                     )"
   ]
  },
  {
   "cell_type": "code",
   "execution_count": null,
   "metadata": {},
   "outputs": [],
   "source": []
  },
  {
   "cell_type": "code",
   "execution_count": null,
   "metadata": {},
   "outputs": [],
   "source": []
  },
  {
   "cell_type": "code",
   "execution_count": null,
   "metadata": {},
   "outputs": [],
   "source": []
  }
 ],
 "metadata": {
  "kernelspec": {
   "display_name": "Python 3",
   "language": "python",
   "name": "python3"
  },
  "language_info": {
   "codemirror_mode": {
    "name": "ipython",
    "version": 3
   },
   "file_extension": ".py",
   "mimetype": "text/x-python",
   "name": "python",
   "nbconvert_exporter": "python",
   "pygments_lexer": "ipython3",
   "version": "3.8.5"
  }
 },
 "nbformat": 4,
 "nbformat_minor": 4
}
